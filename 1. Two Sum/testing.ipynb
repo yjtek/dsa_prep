{
 "cells": [
  {
   "attachments": {},
   "cell_type": "markdown",
   "metadata": {},
   "source": [
    "# Qn"
   ]
  },
  {
   "attachments": {},
   "cell_type": "markdown",
   "metadata": {},
   "source": [
    "Given an array of integers nums and an integer target, return indices of the two numbers such that they add up to target. You may assume that each input would have exactly one solution, and you may not use the same element twice. You can return the answer in any order.\n",
    "\n",
    "Example 1:\n",
    "- Input: nums = [2,7,11,15], target = 9\n",
    "- Output: [0,1]\n",
    "- Output: Because nums[0] + nums[1] == 9, we return [0, 1].\n",
    "\n",
    "Example 2:\n",
    "- Input: nums = [3,2,4], target = 6\n",
    "- Output: [1,2]\n",
    "\n",
    "Example 3: \n",
    "- Input: nums = [3,3], target = 6\n",
    "- Output: [0,1]\n",
    " \n",
    "\n",
    "Constraints:\n",
    "- 2 <= nums.length <= 103\n",
    "- -109 <= nums[i] <= 109\n",
    "- -109 <= target <= 109\n",
    "- Only one valid answer exists."
   ]
  },
  {
   "attachments": {},
   "cell_type": "markdown",
   "metadata": {},
   "source": [
    "# Notes"
   ]
  },
  {
   "attachments": {},
   "cell_type": "markdown",
   "metadata": {},
   "source": [
    "Lessons:\n",
    "\n",
    "1. Using index lookup on list on array is very expensive. Try not to use it if your run time is too long. Let's describe the two competing designs demonstrated below:\n",
    "    - [Your method] \n",
    "        - Loop over each value in the array\n",
    "        - For each value in the array, look up the rest of the array for the value that will give you the target. \n",
    "        - If this condition is met, return the index of the current loop, and the position of the value meeting the previous condition\n",
    "    - [Model Answer]\n",
    "        - Loop over each value in the array + Create a hashmap to store values that you have accessed\n",
    "        - For each value in the array, look up the **hash map** for the value that will give you the target\n",
    "        - If it is not in the hash map, add {value: index} to the hashmap\n",
    "        - This does not need you to make make constant lookups to the array, hence saving time \n",
    "2. Looking up hash map >>>> Looking up list/array\n",
    "3. Don't assign variables if you don't have to. That takes a ton of time, and really reduces performance"
   ]
  },
  {
   "attachments": {},
   "cell_type": "markdown",
   "metadata": {},
   "source": [
    "# Option 1: Naive Lookup"
   ]
  },
  {
   "attachments": {},
   "cell_type": "markdown",
   "metadata": {},
   "source": [
    "Intuitively, most people would probably looking at each element in the entire array, and looking at every other remaining element to see if it sums to the appropriate value. Since we are lookoing over the array twice, this is an obvious case of $O(N^2)$. We are not creating any additional data strctures, so this takes O(1) time."
   ]
  },
  {
   "cell_type": "code",
   "execution_count": 5,
   "metadata": {},
   "outputs": [
    {
     "data": {
      "text/plain": [
       "[1, 2]"
      ]
     },
     "execution_count": 5,
     "metadata": {},
     "output_type": "execute_result"
    }
   ],
   "source": [
    "def two_sum(array: list[int], target: int) -> list[int]:\n",
    "    for element in range(len(array)):\n",
    "        for element_2 in range(element, len(array)):\n",
    "            if array[element]+array[element_2] == target:\n",
    "                return [element, element_2]\n",
    "            \n",
    "    return []\n",
    "\n",
    "two_sum([9,7,2,19], 9)"
   ]
  },
  {
   "attachments": {},
   "cell_type": "markdown",
   "metadata": {},
   "source": [
    "## Option 2: Hash table"
   ]
  },
  {
   "attachments": {},
   "cell_type": "markdown",
   "metadata": {},
   "source": [
    "Of course, it is quite obvious that the approach above is pretty wasteful. One obvious place for optimisation is the lookup. Recall in the previous approach that you are looking up the values iteratively in the inner loop, which leads to a second traversal of (almost) the full array for each element.\n",
    "\n",
    "Instead of doing this like a madman, if we can look up the array for the necessary complement for a given element, then we have our answer in $O(N)$ time complexity instead! But how can we lookup a value in the given array without looping through all elements? Simple, we change the data structure used from a list to a hashmap!\n",
    "\n",
    "The idea here is simple. \n",
    "- We make the same loop over the given array. \n",
    "- For each value we encounter, we compute the desired complement. (i.e. If the target is 10, and we encounter 6, the complement needed is 4).\n",
    "- Instead of looking up the complement in the original array, we look up a hashmap (dict in python). \n",
    "- If complement value is in the hashmap, return the current index, and the index of the complement in the hashmap. \n",
    "- Else, insert the current vaue into the hashmap as a key, with its value as the index of the position in the array.\n",
    "\n",
    "Since we only pass over the array once, this reduces into time complexity of $O(N)$, but incurs a space complexity of $O(N)$ as well (instead of $O(1)$)\n",
    "\n"
   ]
  },
  {
   "cell_type": "code",
   "execution_count": 14,
   "metadata": {},
   "outputs": [
    {
     "data": {
      "text/plain": [
       "[3, 0]"
      ]
     },
     "execution_count": 14,
     "metadata": {},
     "output_type": "execute_result"
    }
   ],
   "source": [
    "def two_sum(array: list[int], target: int) -> list[int]:\n",
    "    lookup = {}\n",
    "    for index in range(len(array)):\n",
    "        complement_index=lookup.get(target-array[index], None)\n",
    "        if complement_index is not None:\n",
    "            return [index, complement_index]\n",
    "        else:\n",
    "            lookup[array[index]] = index\n",
    "    return []\n",
    "\n",
    "two_sum([9,5,6,1,5,10], 10)"
   ]
  },
  {
   "cell_type": "code",
   "execution_count": null,
   "metadata": {},
   "outputs": [],
   "source": []
  }
 ],
 "metadata": {
  "kernelspec": {
   "display_name": "Python 3.7.7 64-bit ('leetcode')",
   "language": "python",
   "name": "python3"
  },
  "language_info": {
   "codemirror_mode": {
    "name": "ipython",
    "version": 3
   },
   "file_extension": ".py",
   "mimetype": "text/x-python",
   "name": "python",
   "nbconvert_exporter": "python",
   "pygments_lexer": "ipython3",
   "version": "3.10.4"
  },
  "metadata": {
   "interpreter": {
    "hash": "dafad87a42173a4031725ace0de836d0e407495f6d8ed240c0d5ac58fe51068a"
   }
  },
  "orig_nbformat": 2,
  "vscode": {
   "interpreter": {
    "hash": "96d9c2f8ce7b1fe037d4b1881fe0f51668b09dacce61dfd4574eb1b0f625e76b"
   }
  }
 },
 "nbformat": 4,
 "nbformat_minor": 2
}
