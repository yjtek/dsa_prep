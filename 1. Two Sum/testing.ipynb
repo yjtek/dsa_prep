{
 "metadata": {
  "language_info": {
   "codemirror_mode": {
    "name": "ipython",
    "version": 3
   },
   "file_extension": ".py",
   "mimetype": "text/x-python",
   "name": "python",
   "nbconvert_exporter": "python",
   "pygments_lexer": "ipython3",
   "version": "3.8.8"
  },
  "orig_nbformat": 2,
  "kernelspec": {
   "name": "python388jvsc74a57bd0dafad87a42173a4031725ace0de836d0e407495f6d8ed240c0d5ac58fe51068a",
   "display_name": "Python 3.8.8 64-bit ('base': conda)"
  },
  "metadata": {
   "interpreter": {
    "hash": "dafad87a42173a4031725ace0de836d0e407495f6d8ed240c0d5ac58fe51068a"
   }
  }
 },
 "nbformat": 4,
 "nbformat_minor": 2,
 "cells": [
  {
   "source": [
    "Lessons:\n",
    "\n",
    "1) Calling index() on list is a very expensive operation. When possible, use enumerate() and lookup a dictionary instead <br>\n",
    "2) Don't assign variables if you don't have to. That takes a ton of time, and really reduces performance"
   ],
   "cell_type": "markdown",
   "metadata": {}
  },
  {
   "cell_type": "code",
   "execution_count": 42,
   "metadata": {},
   "outputs": [],
   "source": [
    "import random\n",
    "nums = [round(random.random() * 1000,0) for i in range(200)]\n",
    "nums = [x for x in nums if x > 200]\n",
    "nums += [3,3]\n",
    "target = 6"
   ]
  },
  {
   "cell_type": "code",
   "execution_count": 51,
   "metadata": {},
   "outputs": [
    {
     "output_type": "stream",
     "name": "stdout",
     "text": [
      "[154, 155]\nCPU times: user 1.35 ms, sys: 413 µs, total: 1.76 ms\nWall time: 1.29 ms\n"
     ]
    }
   ],
   "source": [
    "%%time\n",
    "## original solution\n",
    "\n",
    "for i in range(len(nums)): \n",
    "    nums_exclude_previous_value = nums[i:]\n",
    "    nums_exclude_current_value = nums[i+1:]\n",
    "    current_value = nums[i]\n",
    "\n",
    "    if target-current_value in nums_exclude_current_value:\n",
    "        print([\n",
    "            nums.index(current_value), \n",
    "            nums_exclude_current_value.index(target-current_value)+i+1\n",
    "            ])"
   ]
  },
  {
   "cell_type": "code",
   "execution_count": 59,
   "metadata": {},
   "outputs": [
    {
     "output_type": "stream",
     "name": "stdout",
     "text": [
      "[155, 154]\nCPU times: user 872 µs, sys: 263 µs, total: 1.13 ms\nWall time: 1.03 ms\n"
     ]
    }
   ],
   "source": [
    "%%time\n",
    "## amended original solution to use list, appending to list, and getting position via index. Note that using \"index\" is much slower than simply using enumerate (see solution below)\n",
    "\n",
    "seen = []\n",
    "for i, value in enumerate(nums): \n",
    "    \n",
    "    look_for_number = target - value\n",
    "    if look_for_number in seen:\n",
    "        print([i, seen.index(look_for_number)])\n",
    "    seen.append(value)"
   ]
  },
  {
   "cell_type": "code",
   "execution_count": 62,
   "metadata": {},
   "outputs": [
    {
     "output_type": "stream",
     "name": "stdout",
     "text": [
      "[155, 154]\nCPU times: user 511 µs, sys: 154 µs, total: 665 µs\nWall time: 581 µs\n"
     ]
    }
   ],
   "source": [
    "%%time\n",
    "## amended original solutionvto use list, and appending to list\n",
    "\n",
    "seen = {}\n",
    "for i, value in enumerate(nums): \n",
    "    \n",
    "    look_for_number = target - value\n",
    "    if look_for_number in seen:\n",
    "        print([i, seen[look_for_number]])\n",
    "    seen[value] = i"
   ]
  },
  {
   "cell_type": "code",
   "execution_count": 52,
   "metadata": {},
   "outputs": [
    {
     "output_type": "stream",
     "name": "stdout",
     "text": [
      "[154, 155]\n[]\nCPU times: user 682 µs, sys: 0 ns, total: 682 µs\nWall time: 462 µs\n"
     ]
    }
   ],
   "source": [
    "%%time\n",
    "seen = {}\n",
    "for i, v in enumerate(nums):\n",
    "    remaining = target - v\n",
    "    if remaining in seen:\n",
    "        print([seen[remaining], i])\n",
    "    seen[v] = i\n",
    "print([])"
   ]
  },
  {
   "cell_type": "code",
   "execution_count": null,
   "metadata": {},
   "outputs": [],
   "source": []
  },
  {
   "cell_type": "code",
   "execution_count": 49,
   "metadata": {},
   "outputs": [
    {
     "output_type": "execute_result",
     "data": {
      "text/plain": [
       "dict_items([('1', 1), ('2', 2), ('3', 3)])"
      ]
     },
     "metadata": {},
     "execution_count": 49
    }
   ],
   "source": [
    "temp = {'1':1, '2':2,'3':3}\n",
    "temp.items()\n"
   ]
  }
 ]
}