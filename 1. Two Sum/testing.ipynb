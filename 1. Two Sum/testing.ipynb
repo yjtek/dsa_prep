{
 "cells": [
  {
   "cell_type": "markdown",
   "metadata": {},
   "source": [
    "Lessons:\n",
    "\n",
    "1. Using index lookup on list on array is very expensive. Try not to use it if your run time is too long. Let's describe the two competing designs demonstrated below:\n",
    "    - [Your method] \n",
    "        - Loop over each value in the array\n",
    "        - For each value in the array, look up the rest of the array for the value that will give you the target. \n",
    "        - If this condition is met, return the index of the current loop, and the position of the value meeting the previous condition\n",
    "    - [Model Answer]\n",
    "        - Loop over each value in the array + Create a hashmap to store values that you have accessed\n",
    "        - For each value in the array, look up the **hash map** for the value that will give you the target\n",
    "        - If it is not in the hash map, add {value: index} to the hashmap\n",
    "        - This does not need you to make make constant lookups to the array, hence saving time \n",
    "2. Looking up hash map >>>> Looking up list/array\n",
    "3. Don't assign variables if you don't have to. That takes a ton of time, and really reduces performance"
   ]
  },
  {
   "cell_type": "code",
   "execution_count": 52,
   "metadata": {},
   "outputs": [],
   "source": [
    "import numpy as np\n",
    "nums = [1,2,3,4,5,6,7,8]\n",
    "target = 15"
   ]
  },
  {
   "cell_type": "code",
   "execution_count": 49,
   "metadata": {},
   "outputs": [
    {
     "name": "stdout",
     "output_type": "stream",
     "text": [
      "28.3 µs ± 3.57 µs per loop (mean ± std. dev. of 7 runs, 10000 loops each)\n"
     ]
    }
   ],
   "source": [
    "%%timeit\n",
    "def twoSum(nums, target):\n",
    "    for index, element in enumerate(nums):\n",
    "        find = target - element\n",
    "        if np.where(nums[index:]==find)[0].size != 0:\n",
    "            return (index, np.where(nums[index:]==find)[0][0]+index)\n",
    "    return ('Not','Found')\n",
    "twoSum(nums, target)"
   ]
  },
  {
   "cell_type": "code",
   "execution_count": 51,
   "metadata": {},
   "outputs": [
    {
     "name": "stdout",
     "output_type": "stream",
     "text": [
      "1.23 µs ± 56.8 ns per loop (mean ± std. dev. of 7 runs, 1000000 loops each)\n"
     ]
    }
   ],
   "source": [
    "%%timeit\n",
    "def twoSum(nums, target):\n",
    "    store = {}\n",
    "    for index, val in enumerate(nums):\n",
    "        remainder = target - val\n",
    "        if remainder in store:\n",
    "            return (store[remainder], index)\n",
    "        store[val] = index\n",
    "    \n",
    "    return ('Not', 'Found')\n",
    "twoSum(nums, target)"
   ]
  }
 ],
 "metadata": {
  "kernelspec": {
   "display_name": "Python 3.7.7 64-bit ('leetcode')",
   "language": "python",
   "name": "python3"
  },
  "language_info": {
   "codemirror_mode": {
    "name": "ipython",
    "version": 3
   },
   "file_extension": ".py",
   "mimetype": "text/x-python",
   "name": "python",
   "nbconvert_exporter": "python",
   "pygments_lexer": "ipython3",
   "version": "3.7.7"
  },
  "metadata": {
   "interpreter": {
    "hash": "dafad87a42173a4031725ace0de836d0e407495f6d8ed240c0d5ac58fe51068a"
   }
  },
  "orig_nbformat": 2,
  "vscode": {
   "interpreter": {
    "hash": "96d9c2f8ce7b1fe037d4b1881fe0f51668b09dacce61dfd4574eb1b0f625e76b"
   }
  }
 },
 "nbformat": 4,
 "nbformat_minor": 2
}
