{
 "cells": [
  {
   "attachments": {},
   "cell_type": "markdown",
   "metadata": {},
   "source": [
    "- Given a string s, find the length of the longest substring without repeating characters.\n",
    "\n",
    "- Example 1:\n",
    "    - Input: s = \"abcabcbb\"\n",
    "    - Output: 3\n",
    "    - Explanation: The answer is \"abc\", with the length of 3.\n",
    "\n",
    "- Example 2:\n",
    "    - Input: s = \"bbbbb\"\n",
    "    - Output: 1\n",
    "    - Explanation: The answer is \"b\", with the length of 1.\n",
    "\n",
    "- Example 3:\n",
    "    - Input: s = \"pwwkew\"\n",
    "    - Output: 3\n",
    "    - Explanation: The answer is \"wke\", with the length of 3. Notice that the answer must be a substring, \"pwke\" is a subsequence and not a substring.\n",
    " \n",
    "- Constraints:\n",
    "    - 0 <= s.length <= 5 * 104\n",
    "    - s consists of English letters, digits, symbols and spaces."
   ]
  },
  {
   "cell_type": "code",
   "execution_count": 4,
   "metadata": {},
   "outputs": [
    {
     "name": "stdout",
     "output_type": "stream",
     "text": [
      "55.7 µs ± 346 ns per loop (mean ± std. dev. of 7 runs, 10,000 loops each)\n"
     ]
    }
   ],
   "source": [
    "%%timeit\n",
    "'''\n",
    "This is a naive solution. But you are wasting a lot of iterations because you loop through strings even when you already know it is \n",
    "shorter than the current \"longest_string\". (i.e. if longest string has length 3, when you iterate one to the left, you should not consider any substrings\n",
    "with length less than 3)\n",
    "'''\n",
    "def count_longest_substring(s: str) -> str:\n",
    "    ## split string to list\n",
    "    slist = list(s)\n",
    "\n",
    "    ## iterate through list and find substrings\n",
    "    longest_string_len = 0\n",
    "\n",
    "    for i in range(len(slist)):\n",
    "        checkval = slist[i:]\n",
    "        curr_string = {}\n",
    "        for index, j in enumerate(checkval):\n",
    "            curr_string_len_pre = len(curr_string)\n",
    "            # print(f'Current string before add to set: {curr_string}')\n",
    "            if curr_string.get(j) is None:\n",
    "                curr_string[j] = index\n",
    "            # print(f'Current string after add to set: {curr_string}')\n",
    "            curr_string_len_post = len(curr_string)\n",
    "            if curr_string_len_pre == curr_string_len_post:\n",
    "                # print(f'Found duplicate sequence, storing longest string of length {curr_string_len_pre}')\n",
    "                if longest_string_len < curr_string_len_pre:\n",
    "                    # print(f'Replacing longest string len with {longest_string_len} and longest string with {longest_string}')\n",
    "                    longest_string_len = curr_string_len_pre\n",
    "                    longest_string = list(dict.fromkeys(curr_string))\n",
    "                break\n",
    "\n",
    "    return longest_string_len, longest_string\n",
    "        \n",
    "s = 'alsdjfaiowecjnkaljfaoilauhdkas'\n",
    "count_longest_substring(s)"
   ]
  },
  {
   "cell_type": "code",
   "execution_count": 10,
   "metadata": {},
   "outputs": [
    {
     "name": "stdout",
     "output_type": "stream",
     "text": [
      "17.3 µs ± 788 ns per loop (mean ± std. dev. of 7 runs, 100,000 loops each)\n"
     ]
    }
   ],
   "source": [
    "%%timeit\n",
    "'''\n",
    "Let's try another solution. Instead of using looping over the entire string iteratively, we use pointers to demarcate the start and end of the string \n",
    "to consider. Then, we increment the pointers rightwards whenever some exclusion condition is hit, and terminate it when the last pointer hits the end\n",
    "'''\n",
    "s = 'alsdjfaiowecjnkaljfaoilauhdkas'\n",
    "def count_longest_substring(s: str) -> tuple[int, str]:\n",
    "    slist = list(s)\n",
    "    string_start_pointer = string_end_pointer = 0\n",
    "    while string_end_pointer != (len(slist) - 1):\n",
    "        substring_list = slist[string_start_pointer:string_end_pointer]\n",
    "        if len(set(substring_list)) < len(substring_list):\n",
    "            string_start_pointer += 1\n",
    "        string_end_pointer += 1\n",
    "    \n",
    "    longest_substring = ''.join(slist[string_start_pointer:string_end_pointer])\n",
    "    len_longest_substring = len(longest_substring)\n",
    "\n",
    "    return len_longest_substring, longest_substring\n",
    "        \n",
    "count_longest_substring(s)"
   ]
  }
 ],
 "metadata": {
  "kernelspec": {
   "display_name": "leetcode",
   "language": "python",
   "name": "python3"
  },
  "language_info": {
   "codemirror_mode": {
    "name": "ipython",
    "version": 3
   },
   "file_extension": ".py",
   "mimetype": "text/x-python",
   "name": "python",
   "nbconvert_exporter": "python",
   "pygments_lexer": "ipython3",
   "version": "3.10.4"
  },
  "orig_nbformat": 4,
  "vscode": {
   "interpreter": {
    "hash": "dfdded1f1fc51a09373c4da6cf047b9f407487aea834e3e130f9bd43989e85a2"
   }
  }
 },
 "nbformat": 4,
 "nbformat_minor": 2
}
