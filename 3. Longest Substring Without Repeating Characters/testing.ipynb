{
 "cells": [
  {
   "attachments": {},
   "cell_type": "markdown",
   "metadata": {},
   "source": [
    "- Given a string s, find the length of the longest substring without repeating characters.\n",
    "\n",
    "- Example 1:\n",
    "    - Input: s = \"abcabcbb\"\n",
    "    - Output: 3\n",
    "    - Explanation: The answer is \"abc\", with the length of 3.\n",
    "\n",
    "- Example 2:\n",
    "    - Input: s = \"bbbbb\"\n",
    "    - Output: 1\n",
    "    - Explanation: The answer is \"b\", with the length of 1.\n",
    "\n",
    "- Example 3:\n",
    "    - Input: s = \"pwwkew\"\n",
    "    - Output: 3\n",
    "    - Explanation: The answer is \"wke\", with the length of 3. Notice that the answer must be a substring, \"pwke\" is a subsequence and not a substring.\n",
    " \n",
    "- Constraints:\n",
    "    - 0 <= s.length <= 5 * 104\n",
    "    - s consists of English letters, digits, symbols and spaces."
   ]
  },
  {
   "cell_type": "code",
   "execution_count": null,
   "metadata": {},
   "outputs": [],
   "source": []
  }
 ],
 "metadata": {
  "language_info": {
   "name": "python"
  },
  "orig_nbformat": 4
 },
 "nbformat": 4,
 "nbformat_minor": 2
}
