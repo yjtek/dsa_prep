{
 "cells": [
  {
   "attachments": {},
   "cell_type": "markdown",
   "metadata": {},
   "source": [
    "## Qn"
   ]
  },
  {
   "attachments": {},
   "cell_type": "markdown",
   "metadata": {},
   "source": [
    "Given a string s, return the longest palindromic substring in s.\n",
    "\n",
    "- Example 1:\n",
    "    - Input: s = \"babad\"\n",
    "    - Output: \"bab\"\n",
    "    - Explanation: \"aba\" is also a valid answer.\n",
    "\n",
    "- Example 2:\n",
    "    - Input: s = \"cbbd\"\n",
    "    - Output: \"bb\"\n",
    " \n",
    "- Constraints:\n",
    "    - 1 <= s.length <= 1000\n",
    "    - s consist of only digits and English letters."
   ]
  },
  {
   "attachments": {},
   "cell_type": "markdown",
   "metadata": {},
   "source": [
    "## Option 1: Brute Force"
   ]
  },
  {
   "attachments": {},
   "cell_type": "markdown",
   "metadata": {},
   "source": [
    "Let's start by discussing a brute force strategy. To use brute force, you simply exhaustively explore all possible strings, and check if they are palindromes.\n",
    "\n",
    "For a given string S of length N, there are N choose 2 ways to get a pair of start and end points. This evaluates to $\\frac {N!} {2! \\cdot (N-2)!}$, which simplifies to $\\frac {N \\cdot (N-1)} {2}$. In Big O notation, this is $O(N^2)$.\n",
    "\n",
    "But of course, evaluating if each string is a palindrome also takes effort. The best way to check if a string is a palindrome is to start from the middle, and expand outwards. In the worst case, where all chosen substrings are palindromes, the check takes $O(M)$ where M is the length of the substring (i.e. each check will iterate over the entire length of the substring). Since we are comparing all substrings, $M = \\frac{N}{2}$. Hence, the check itself will take $O(N/2)$ or $O(N)$ time.\n",
    "\n",
    "This approach has time complexity of $O(N^3)$, and space complexity of $O(1)$."
   ]
  },
  {
   "cell_type": "code",
   "execution_count": 27,
   "metadata": {},
   "outputs": [
    {
     "data": {
      "text/plain": [
       "'wow'"
      ]
     },
     "execution_count": 27,
     "metadata": {},
     "output_type": "execute_result"
    }
   ],
   "source": [
    "def check_palindrome(s: str) -> bool:\n",
    "    if len(s) == 0 or len(s) == 1:\n",
    "        return True\n",
    "\n",
    "    # For even length strings, add a character to it's middle to evaluate palindrome\n",
    "    if len(s) % 2 == 0:\n",
    "        s = s[:len(s)//2] + '~' + s[(len(s)//2):]\n",
    "    # Starting from the middle character, expand outwards \n",
    "    left=right=len(s)//2\n",
    "    while s[left]==s[right]:\n",
    "        left-=1\n",
    "        right+=1\n",
    "        if left < 0:\n",
    "            return True\n",
    "    return False\n",
    "\n",
    "def longest_palindromic_substring_bruteforce(s: str) -> str:\n",
    "    left=right=0\n",
    "    longest_palindromic_substring = ''\n",
    "    for left in range(len(s)):\n",
    "        for right in range(left, len(s)):\n",
    "            substring_length = len(s[left:(right+1)])\n",
    "            is_palindrome = check_palindrome(s[left:(right+1)])\n",
    "            \n",
    "            if is_palindrome & (substring_length > len(longest_palindromic_substring)):\n",
    "                longest_palindromic_substring = s[left:(right+1)]\n",
    "    return longest_palindromic_substring\n",
    "\n",
    "longest_palindromic_substring_bruteforce('wow')"
   ]
  },
  {
   "attachments": {},
   "cell_type": "markdown",
   "metadata": {},
   "source": [
    "## Option 2: Dynamic Programming"
   ]
  },
  {
   "attachments": {},
   "cell_type": "markdown",
   "metadata": {},
   "source": [
    "Let's observe palindromes more closely. Suppose that we have some known palindromic string `X`. If we add characters to either side of `X`, we will make string `aXa` if both characters are the same, or `aXb` if they are different. In the first situation, `aXa` will also be a palindrome.\n",
    "\n",
    "This means that we do not need to expend additional resources evaluating the encapsulated string X once more, which suggests that every substring is only evaluated once! This turns the previous time complexity of $O(N^3)$ to $O(N^2)$ instead, but the space complexity goes from $O(1)$ to $O(N^2)$, because you store $N^2$ values in the dp table.\n",
    "\n",
    "As with all DP solutions, we will build up from shorter to longer strings and store our intermediate solutions which we then refer to when encountering longer strings."
   ]
  },
  {
   "cell_type": "code",
   "execution_count": 41,
   "metadata": {},
   "outputs": [
    {
     "data": {
      "text/plain": [
       "'wtfftw'"
      ]
     },
     "execution_count": 41,
     "metadata": {},
     "output_type": "execute_result"
    }
   ],
   "source": [
    "def longest_palindromic_substring_dp(s: str) -> str:\n",
    "    ## Initialise \"table\" to store values\n",
    "    dp = [[False]*len(s) for x in range(len(s))]\n",
    "\n",
    "    ## Longest palindrome is first letter by default (let's just define 1 letter as a palindrome)\n",
    "    longest_palindrome = s[0]\n",
    "\n",
    "    ## Build from length 1 strings to full length N string...\n",
    "    for string_len in range(1, len(s)+1):\n",
    "        ## Iterate through every viable starting index for strings of length string_len. \n",
    "        ## e.g. if the full string is 5 characters long, and you are looking for all possible substrings of length 3, it doesn't\n",
    "        ## make sense to look beyond the element at index 2 (012, 123, 234), because there are no strings with length 3 beyond it\n",
    "        for string_start_index in range(len(s)-string_len+1):\n",
    "\n",
    "            ## If string length is 1, assign True to the relevant dp object\n",
    "            if string_len == 1:\n",
    "                dp[string_start_index][string_start_index]=True\n",
    "\n",
    "            ## If string length is 2, assign True to the relevant dp object if both the characters match\n",
    "            elif (string_len == 2) & (s[string_start_index] == s[string_start_index+string_len-1]):\n",
    "                dp[string_start_index][string_start_index+string_len-1] = True\n",
    "                if len(longest_palindrome) < string_len:\n",
    "                    longest_palindrome = s[string_start_index:(string_start_index+string_len)]\n",
    "\n",
    "            ## If string length exceeds 2, assign True to the relevant dp object if both the characters match AND the middle substring is palindrome.\n",
    "            ## This can be looked up from the table, because we already computed all shorter substrings\n",
    "            elif (string_len > 2) & (s[string_start_index] == s[string_start_index+string_len-1]) & (dp[string_start_index+1][string_start_index+string_len-2]):\n",
    "                dp[string_start_index][string_start_index+string_len-1] = True\n",
    "                if len(longest_palindrome) < string_len:\n",
    "                    longest_palindrome = s[string_start_index:(string_start_index+string_len)]\n",
    "    return longest_palindrome\n",
    "\n",
    "longest_palindromic_substring_dp('wtfftw')"
   ]
  },
  {
   "attachments": {},
   "cell_type": "markdown",
   "metadata": {},
   "source": [
    "## Option 3: Expand from center "
   ]
  },
  {
   "attachments": {},
   "cell_type": "markdown",
   "metadata": {},
   "source": [
    "The obvious downside to the DP solution above is, of course, that you actually need to maintain a table of \"answers\" for shorter substrings, which takes up unnecessary space. In fact, this isn't strictly necessary. Notice that all palindromes must be symmetric about the center. Hence, to find the longest palindrome, we iterate through each character in the string and find the longest possible palindrome with it as the \"center\". \n",
    "\n",
    "To be more precise, we will visit each character, and start comparing the characters to its left and right, and proceed only if they match. This will help to avoid unnecessary palindrome checks. Since we are visitng N possible characters, and in the worse case we expand each center by N/2 steps, the time complexity of this algorithm is $O(N^2)$. But since we are doing away with the dp table, the space complexity is simply $O(1)$.\n",
    "\n",
    "One interesting note here. Since we are no longer iteratively exploring strings, from left to right, but instead expanding them from potential centers, we will run into issues when we encounter even numbered palindromes. For example, `aba` is obviously centered around `b`, but `abba` has no character center point. To get around this issue, we will put in special characters between each character which allows us to consider this expansion."
   ]
  },
  {
   "cell_type": "code",
   "execution_count": 43,
   "metadata": {},
   "outputs": [
    {
     "data": {
      "text/plain": [
       "'a'"
      ]
     },
     "execution_count": 43,
     "metadata": {},
     "output_type": "execute_result"
    }
   ],
   "source": [
    "def longest_palindromic_substring_expandfromcenter(s: str) -> str:\n",
    "    \n",
    "    ## Add character '~' in between every character in the string to account for even length palindromes\n",
    "    s_mod = list(s)\n",
    "    s_mod = ''.join([''.join(x) for x in zip(['~' for _  in range(len(s_mod))], s_mod)]) + '~'\n",
    "    \n",
    "    ## Set lps to the first character of the string, in the absence of anything longer we define singletons are palindromes\n",
    "    lps = s_mod[0]\n",
    "\n",
    "    ## Loop through every character in the string (including the new ~ character) as a \"center\" candidate\n",
    "    ## We start from 1 and end of the second last character, because obviously you cannothave a palindrome centered at the start and end\n",
    "    for center in range(1,len(s_mod)-1):\n",
    "        distance_from_center=0\n",
    "\n",
    "        # Keep expanding distance_from_center while...\n",
    "        while (\n",
    "            ((center - distance_from_center) >= 0) & ##... you have additional characters on the left \n",
    "            ((center + distance_from_center) <= (len(s_mod))) & ##... and you have additional characters on the right\n",
    "            (s_mod[center-distance_from_center]==s_mod[center+distance_from_center]) ##... and the characters at current expansion from center match\n",
    "        ):\n",
    "            if (\n",
    "                ((center-distance_from_center) <= 0) or ## Unless you are at the left boundary\n",
    "                ((center+distance_from_center) >= len(s_mod)-1) or ## or you are at the right boundary\n",
    "                (s_mod[center-distance_from_center-1]!=s_mod[center+distance_from_center+1]) ## or the next characters don't match\n",
    "            ):\n",
    "                break\n",
    "        \n",
    "            distance_from_center+=1 #expand 1 more character left and right\n",
    "\n",
    "            #If the length of the current expansion exceeds the last known LPS, store it as the LPS\n",
    "            if len(s_mod[(center-distance_from_center):(center+distance_from_center)]) > len(lps):\n",
    "                lps = s_mod[(center-distance_from_center):(center+distance_from_center+1)]\n",
    "    \n",
    "    #Return LPS without the special characters ~\n",
    "    return lps.replace('~','')\n",
    "\n",
    "longest_palindromic_substring_expandfromcenter('abcde')"
   ]
  },
  {
   "attachments": {},
   "cell_type": "markdown",
   "metadata": {},
   "source": [
    "## Option 4: Manacher's Algorithm"
   ]
  },
  {
   "attachments": {},
   "cell_type": "markdown",
   "metadata": {},
   "source": [
    "Our best attempt so far has been $O(N^2)$ time and $O(1)$ space complexity. But amazingly, there is in fact an $O(N)$ time complexity solution!\n",
    "\n",
    "The idea here is to expand on the solution in option 3, but we further eliminate needless expansions from center. Let's consider a string `abaaba`. For each of reference, I will denote each character with a unique subscript identifier, but note that this has no bearing on the palindrome comparison.\n",
    "\n",
    "$a_1b_2a_3a_4b_5a_6$\n",
    "\n",
    "Based on the previous solution, we will go from left to right, considering each character and space as a potential center candidate.\n",
    "\n",
    "Let's pause at this character in our loop: $a_1b_2a_3<a_4>b_5a_6$. At this point, what do we already know? \n",
    "- We know for a fact that there is symmetry about the mid point around the first and second `aba`\n",
    "- We also know that there is no palindrome around $a_3$\n",
    "- But by the preceding 2 facts, it must also be the case that there is no palindrome around $a_4$\n",
    "    - If there was one, then $a_1$ to $a_3$ cannot possibly be symmetric with $a_4$ to $a_6$\n",
    "- This makes the palindrome check for $a_4$ unnecessary!\n",
    "\n",
    "As such, the idea behind Manacher's algorithm is to give up some space $O(N)$ to record what we see in each of the earlier centers, and through this, we avoid expending compute on substrings that we know are definitely not palindromes, or substrings that we already know are palindromes. By doing this, it helps us reduce our time complexity to $O(N)$. Why $O(N)$?"
   ]
  },
  {
   "cell_type": "code",
   "execution_count": null,
   "metadata": {},
   "outputs": [],
   "source": [
    "def longest_palindromic_substring_manacher(s: str) -> str:\n",
    "    "
   ]
  },
  {
   "attachments": {},
   "cell_type": "markdown",
   "metadata": {},
   "source": [
    "## Option 5: Suffix Tree / Eertree"
   ]
  },
  {
   "attachments": {},
   "cell_type": "markdown",
   "metadata": {},
   "source": [
    "Another O(N) solution is to build a suffix tree for the given string"
   ]
  },
  {
   "cell_type": "code",
   "execution_count": null,
   "metadata": {},
   "outputs": [],
   "source": []
  },
  {
   "attachments": {},
   "cell_type": "markdown",
   "metadata": {},
   "source": [
    "## Answer"
   ]
  },
  {
   "cell_type": "code",
   "execution_count": 4,
   "metadata": {},
   "outputs": [
    {
     "data": {
      "text/plain": [
       "'wtfftw'"
      ]
     },
     "execution_count": 4,
     "metadata": {},
     "output_type": "execute_result"
    }
   ],
   "source": [
    "def longestPalindrome(s: str) -> str:\n",
    "    n = len(s)\n",
    "    \n",
    "    def getLen(l, r): \n",
    "        while l >= 0 and r < n and s[l] == s[r]:\n",
    "            l -= 1\n",
    "            r += 1\n",
    "        return r - l -1\n",
    "\n",
    "    start = 0\n",
    "    length = 0\n",
    "    for i in range(n):\n",
    "        cur = max(\n",
    "            getLen(i,i),\n",
    "            getLen(i,i+1)\n",
    "        )\n",
    "        if cur <= length: \n",
    "            continue\n",
    "        length = cur\n",
    "        start = i - (cur - 1) // 2\n",
    "    return s[start: start+length]\n",
    "\n",
    "longestPalindrome('wtfftw')"
   ]
  },
  {
   "cell_type": "code",
   "execution_count": 8,
   "metadata": {},
   "outputs": [],
   "source": [
    "def findLongestPalindromicString(text):\n",
    "    N = len(text)\n",
    "    print(f'text || {text}')\n",
    "    print(f'len(text) || {len(text)}')\n",
    "\n",
    "    if N == 0:\n",
    "        return\n",
    "    N = 2*N+1    # Position count\n",
    "    print(f'Count positions in text 2*N+1 || {2*N+1}')\n",
    "\n",
    "    L = [0] * N\n",
    "    L[0] = 0\n",
    "    L[1] = 1\n",
    "    C = 1     # centerPosition\n",
    "    R = 2     # centerRightPosition\n",
    "    i = 0    # currentRightPosition\n",
    "    iMirror = 0     # currentLeftPosition\n",
    "    maxLPSLength = 0\n",
    "    maxLPSCenterPosition = 0\n",
    "    start = -1\n",
    "    end = -1\n",
    "    diff = -1\n",
    "   \n",
    "    # Uncomment it to print LPS Length array\n",
    "    # printf(\"%d %d \", L[0], L[1]);\n",
    "    for i in range(2,N):\n",
    "        print('='*50)\n",
    "       \n",
    "        # get currentLeftPosition iMirror for currentRightPosition i\n",
    "        iMirror = 2*C-i\n",
    "        L[i] = 0\n",
    "        diff = R - i\n",
    "\n",
    "        print(f\"i, C, iMirror, diff || {i}, {C}, {iMirror}, {diff}\")\n",
    "        # If currentRightPosition i is within centerRightPosition R\n",
    "        if diff > 0:\n",
    "            print(f'diff > 0 || {diff} > 0')\n",
    "            print(f'min(L[iMirror], diff) || min({L[iMirror]}, {diff})')\n",
    "            L[i] = min(L[iMirror], diff)\n",
    "   \n",
    "        # Attempt to expand palindrome centered at currentRightPosition i\n",
    "        # Here for odd positions, we compare characters and\n",
    "        # if match then increment LPS Length by ONE\n",
    "        # If even position, we just increment LPS by ONE without\n",
    "        # any character comparison\n",
    "        try:\n",
    "            print(f'(i + L[i]) < N || ({i} + {L[i]}) < {N}')\n",
    "            print(f'((i - L[i]) > 0 || ({i} - {L[i]}) > 0')\n",
    "            print(f'((i + L[i] + 1) % 2 == 0) || (({i} + {L[i]} + 1) % 2 == 0)')\n",
    "            print(f'(text[(i + L[i] + 1) // 2] == text[(i - L[i] - 1) // 2]) || \\\n",
    "                  (text[({i} + {L[i]} + 1) // 2] == text[({i} - {L[i]} - 1) // 2]) \\\n",
    "                  ({text[(i + L[i] + 1) // 2]} == {text[(i - L[i] - 1) // 2]}) ')\n",
    "            while ((i + L[i]) < N and (i - L[i]) > 0) and \\\n",
    "                    (((i + L[i] + 1) % 2 == 0) or \\\n",
    "                    (text[(i + L[i] + 1) // 2] == text[(i - L[i] - 1) // 2])):\n",
    "                L[i]+=1\n",
    "        except Exception as e:\n",
    "            pass\n",
    "        \n",
    "        if L[i] > maxLPSLength:        # Track maxLPSLength\n",
    "            print(f'L[i] > maxLPSLength ||  {L[i]} > {maxLPSLength}')\n",
    "            maxLPSLength = L[i]\n",
    "            maxLPSCenterPosition = i\n",
    "   \n",
    "        # If palindrome centered at currentRightPosition i\n",
    "        # expand beyond centerRightPosition R,\n",
    "        # adjust centerPosition C based on expanded palindrome.\n",
    "        if i + L[i] > R:\n",
    "            print(f'i + L[i] > R ||  {i}+ {L[i]} > {R}')\n",
    "            C = i\n",
    "            R = i + L[i]\n",
    "   \n",
    "    # Uncomment it to print LPS Length array\n",
    "    # printf(\"%d \", L[i]);\n",
    "    start = (maxLPSCenterPosition - maxLPSLength) // 2\n",
    "    end = start + maxLPSLength - 1\n",
    "    print (\"LP S of string is \" + text + \" : \",text[start:end+1])"
   ]
  },
  {
   "cell_type": "code",
   "execution_count": 9,
   "metadata": {},
   "outputs": [
    {
     "name": "stdout",
     "output_type": "stream",
     "text": [
      "text || abcbab\n",
      "len(text) || 6\n",
      "Count positions in text 2*N+1 || 27\n",
      "==================================================\n",
      "i, C, iMirror, diff || 2, 1, 0, 0\n",
      "(i + L[i]) < N || (2 + 0) < 13\n",
      "((i - L[i]) > 0 || (2 - 0) > 0\n",
      "((i + L[i] + 1) % 2 == 0) || ((2 + 0 + 1) % 2 == 0)\n",
      "(text[(i + L[i] + 1) // 2] == text[(i - L[i] - 1) // 2]) ||                   (text[(2 + 0 + 1) // 2] == text[(2 - 0 - 1) // 2])                   (b == a) \n",
      "==================================================\n",
      "i, C, iMirror, diff || 3, 1, -1, -1\n",
      "(i + L[i]) < N || (3 + 0) < 13\n",
      "((i - L[i]) > 0 || (3 - 0) > 0\n",
      "((i + L[i] + 1) % 2 == 0) || ((3 + 0 + 1) % 2 == 0)\n",
      "(text[(i + L[i] + 1) // 2] == text[(i - L[i] - 1) // 2]) ||                   (text[(3 + 0 + 1) // 2] == text[(3 - 0 - 1) // 2])                   (c == b) \n",
      "L[i] > maxLPSLength ||  1 > 0\n",
      "i + L[i] > R ||  3+ 1 > 2\n",
      "==================================================\n",
      "i, C, iMirror, diff || 4, 3, 2, 0\n",
      "(i + L[i]) < N || (4 + 0) < 13\n",
      "((i - L[i]) > 0 || (4 - 0) > 0\n",
      "((i + L[i] + 1) % 2 == 0) || ((4 + 0 + 1) % 2 == 0)\n",
      "(text[(i + L[i] + 1) // 2] == text[(i - L[i] - 1) // 2]) ||                   (text[(4 + 0 + 1) // 2] == text[(4 - 0 - 1) // 2])                   (c == b) \n",
      "==================================================\n",
      "i, C, iMirror, diff || 5, 3, 1, -1\n",
      "(i + L[i]) < N || (5 + 0) < 13\n",
      "((i - L[i]) > 0 || (5 - 0) > 0\n",
      "((i + L[i] + 1) % 2 == 0) || ((5 + 0 + 1) % 2 == 0)\n",
      "(text[(i + L[i] + 1) // 2] == text[(i - L[i] - 1) // 2]) ||                   (text[(5 + 0 + 1) // 2] == text[(5 - 0 - 1) // 2])                   (b == c) \n",
      "L[i] > maxLPSLength ||  5 > 1\n",
      "i + L[i] > R ||  5+ 5 > 4\n",
      "==================================================\n",
      "i, C, iMirror, diff || 6, 5, 4, 4\n",
      "diff > 0 || 4 > 0\n",
      "min(L[iMirror], diff) || min(0, 4)\n",
      "(i + L[i]) < N || (6 + 0) < 13\n",
      "((i - L[i]) > 0 || (6 - 0) > 0\n",
      "((i + L[i] + 1) % 2 == 0) || ((6 + 0 + 1) % 2 == 0)\n",
      "(text[(i + L[i] + 1) // 2] == text[(i - L[i] - 1) // 2]) ||                   (text[(6 + 0 + 1) // 2] == text[(6 - 0 - 1) // 2])                   (b == c) \n",
      "==================================================\n",
      "i, C, iMirror, diff || 7, 5, 3, 3\n",
      "diff > 0 || 3 > 0\n",
      "min(L[iMirror], diff) || min(1, 3)\n",
      "(i + L[i]) < N || (7 + 1) < 13\n",
      "((i - L[i]) > 0 || (7 - 1) > 0\n",
      "((i + L[i] + 1) % 2 == 0) || ((7 + 1 + 1) % 2 == 0)\n",
      "(text[(i + L[i] + 1) // 2] == text[(i - L[i] - 1) // 2]) ||                   (text[(7 + 1 + 1) // 2] == text[(7 - 1 - 1) // 2])                   (a == c) \n",
      "==================================================\n",
      "i, C, iMirror, diff || 8, 5, 2, 2\n",
      "diff > 0 || 2 > 0\n",
      "min(L[iMirror], diff) || min(0, 2)\n",
      "(i + L[i]) < N || (8 + 0) < 13\n",
      "((i - L[i]) > 0 || (8 - 0) > 0\n",
      "((i + L[i] + 1) % 2 == 0) || ((8 + 0 + 1) % 2 == 0)\n",
      "(text[(i + L[i] + 1) // 2] == text[(i - L[i] - 1) // 2]) ||                   (text[(8 + 0 + 1) // 2] == text[(8 - 0 - 1) // 2])                   (a == b) \n",
      "==================================================\n",
      "i, C, iMirror, diff || 9, 5, 1, 1\n",
      "diff > 0 || 1 > 0\n",
      "min(L[iMirror], diff) || min(1, 1)\n",
      "(i + L[i]) < N || (9 + 1) < 13\n",
      "((i - L[i]) > 0 || (9 - 1) > 0\n",
      "((i + L[i] + 1) % 2 == 0) || ((9 + 1 + 1) % 2 == 0)\n",
      "(text[(i + L[i] + 1) // 2] == text[(i - L[i] - 1) // 2]) ||                   (text[(9 + 1 + 1) // 2] == text[(9 - 1 - 1) // 2])                   (b == b) \n",
      "i + L[i] > R ||  9+ 3 > 10\n",
      "==================================================\n",
      "i, C, iMirror, diff || 10, 9, 8, 2\n",
      "diff > 0 || 2 > 0\n",
      "min(L[iMirror], diff) || min(0, 2)\n",
      "(i + L[i]) < N || (10 + 0) < 13\n",
      "((i - L[i]) > 0 || (10 - 0) > 0\n",
      "((i + L[i] + 1) % 2 == 0) || ((10 + 0 + 1) % 2 == 0)\n",
      "(text[(i + L[i] + 1) // 2] == text[(i - L[i] - 1) // 2]) ||                   (text[(10 + 0 + 1) // 2] == text[(10 - 0 - 1) // 2])                   (b == a) \n",
      "==================================================\n",
      "i, C, iMirror, diff || 11, 9, 7, 1\n",
      "diff > 0 || 1 > 0\n",
      "min(L[iMirror], diff) || min(1, 1)\n",
      "(i + L[i]) < N || (11 + 1) < 13\n",
      "((i - L[i]) > 0 || (11 - 1) > 0\n",
      "((i + L[i] + 1) % 2 == 0) || ((11 + 1 + 1) % 2 == 0)\n",
      "==================================================\n",
      "i, C, iMirror, diff || 12, 9, 6, 0\n",
      "(i + L[i]) < N || (12 + 0) < 13\n",
      "((i - L[i]) > 0 || (12 - 0) > 0\n",
      "((i + L[i] + 1) % 2 == 0) || ((12 + 0 + 1) % 2 == 0)\n",
      "LP S of string is abcbab :  abcba\n"
     ]
    }
   ],
   "source": [
    "findLongestPalindromicString('abcbab')"
   ]
  },
  {
   "cell_type": "code",
   "execution_count": null,
   "metadata": {},
   "outputs": [],
   "source": []
  },
  {
   "cell_type": "code",
   "execution_count": null,
   "metadata": {},
   "outputs": [],
   "source": []
  }
 ],
 "metadata": {
  "kernelspec": {
   "display_name": "leetcode",
   "language": "python",
   "name": "python3"
  },
  "language_info": {
   "codemirror_mode": {
    "name": "ipython",
    "version": 3
   },
   "file_extension": ".py",
   "mimetype": "text/x-python",
   "name": "python",
   "nbconvert_exporter": "python",
   "pygments_lexer": "ipython3",
   "version": "3.10.4"
  },
  "orig_nbformat": 4,
  "vscode": {
   "interpreter": {
    "hash": "dfdded1f1fc51a09373c4da6cf047b9f407487aea834e3e130f9bd43989e85a2"
   }
  }
 },
 "nbformat": 4,
 "nbformat_minor": 2
}
