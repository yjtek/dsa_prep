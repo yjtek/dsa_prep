{
 "metadata": {
  "language_info": {
   "codemirror_mode": {
    "name": "ipython",
    "version": 3
   },
   "file_extension": ".py",
   "mimetype": "text/x-python",
   "name": "python",
   "nbconvert_exporter": "python",
   "pygments_lexer": "ipython3",
   "version": "3.8.5"
  },
  "orig_nbformat": 2,
  "kernelspec": {
   "name": "python385jvsc74a57bd07759b2334fd10e38b7f9760cfb727a713723db7821855a1fa926a11ffed69eb3",
   "display_name": "Python 3.8.5 64-bit ('3.8.5': pyenv)"
  },
  "metadata": {
   "interpreter": {
    "hash": "9892fafd1af1be696c57cfa36b32f0b848a83b584ebe196a32a915c591a14bc8"
   }
  }
 },
 "nbformat": 4,
 "nbformat_minor": 2,
 "cells": [
  {
   "source": [
    "Lessons: Using the string literal is still the fastest. Otherwise, if you need to be fancy"
   ],
   "cell_type": "markdown",
   "metadata": {}
  },
  {
   "cell_type": "code",
   "execution_count": 12,
   "metadata": {},
   "outputs": [],
   "source": [
    "def isPalindrome(x: int) -> bool:\n",
    "    return str(x) == str(x)[::-1]    "
   ]
  },
  {
   "cell_type": "code",
   "execution_count": 13,
   "metadata": {},
   "outputs": [],
   "source": [
    "def isPalindrome2(x: int) -> bool:\n",
    "    if x < 0 or (x > 0 and x%10 == 0):   # if x is negative, return False. if x is positive and last digit is 0, that also cannot form a palindrome, return False.\n",
    "        return False\n",
    "    \n",
    "    result = 0\n",
    "    while x > result:\n",
    "        result = result * 10 + x % 10\n",
    "        x = x // 10\n",
    "        \n",
    "    return True if (x == result or x == result // 10) else False"
   ]
  },
  {
   "cell_type": "code",
   "execution_count": 14,
   "metadata": {},
   "outputs": [],
   "source": [
    "import math \n",
    "def isPalindrome3(x: int) -> bool:\n",
    "    orig = x\n",
    "    back_x = 0\n",
    "    while x > 0:\n",
    "        back_x = (back_x * 10) + (x % 10)\n",
    "        x = x // 10\n",
    "    return orig == back_x"
   ]
  },
  {
   "cell_type": "code",
   "execution_count": 15,
   "metadata": {},
   "outputs": [],
   "source": [
    "def isPalindrome4(x):\n",
    "    if x < 0:\n",
    "        return False\n",
    "    p, res = x, 0\n",
    "    while p:\n",
    "        res = res * 10 + p % 10\n",
    "        p /= 10\n",
    "    return res == x"
   ]
  },
  {
   "cell_type": "code",
   "execution_count": 16,
   "metadata": {},
   "outputs": [],
   "source": [
    "def isPalindrome5(x: int) -> bool:\n",
    "\tif x<0:\n",
    "\t\treturn False\n",
    "\n",
    "\tinputNum = x\n",
    "\tnewNum = 0\n",
    "\twhile x>0:\n",
    "\t\tnewNum = newNum * 10 + x%10\n",
    "\t\tx = x//10\n",
    "\treturn newNum == inputNum"
   ]
  },
  {
   "cell_type": "code",
   "execution_count": 17,
   "metadata": {},
   "outputs": [
    {
     "output_type": "stream",
     "name": "stdout",
     "text": [
      "CPU times: user 2 µs, sys: 1e+03 ns, total: 3 µs\nWall time: 2.86 µs\n"
     ]
    },
    {
     "output_type": "execute_result",
     "data": {
      "text/plain": [
       "False"
      ]
     },
     "metadata": {},
     "execution_count": 17
    }
   ],
   "source": [
    "%time\n",
    "isPalindrome(987649817236410735)"
   ]
  },
  {
   "cell_type": "code",
   "execution_count": 22,
   "metadata": {},
   "outputs": [
    {
     "output_type": "stream",
     "name": "stdout",
     "text": [
      "CPU times: user 2 µs, sys: 0 ns, total: 2 µs\nWall time: 4.77 µs\n"
     ]
    },
    {
     "output_type": "execute_result",
     "data": {
      "text/plain": [
       "False"
      ]
     },
     "metadata": {},
     "execution_count": 22
    }
   ],
   "source": [
    "%time\n",
    "isPalindrome2(987649817236410735)\n"
   ]
  },
  {
   "cell_type": "code",
   "execution_count": 23,
   "metadata": {},
   "outputs": [
    {
     "output_type": "stream",
     "name": "stdout",
     "text": [
      "CPU times: user 2 µs, sys: 0 ns, total: 2 µs\nWall time: 6.2 µs\n"
     ]
    },
    {
     "output_type": "execute_result",
     "data": {
      "text/plain": [
       "False"
      ]
     },
     "metadata": {},
     "execution_count": 23
    }
   ],
   "source": [
    "%time\n",
    "isPalindrome3(987649817236410735)"
   ]
  },
  {
   "cell_type": "code",
   "execution_count": 24,
   "metadata": {},
   "outputs": [
    {
     "output_type": "stream",
     "name": "stdout",
     "text": [
      "CPU times: user 2 µs, sys: 0 ns, total: 2 µs\nWall time: 4.77 µs\n"
     ]
    },
    {
     "output_type": "execute_result",
     "data": {
      "text/plain": [
       "False"
      ]
     },
     "metadata": {},
     "execution_count": 24
    }
   ],
   "source": [
    "%time\n",
    "isPalindrome4(987649817236410735)"
   ]
  },
  {
   "cell_type": "code",
   "execution_count": 25,
   "metadata": {},
   "outputs": [
    {
     "output_type": "stream",
     "name": "stdout",
     "text": [
      "CPU times: user 3 µs, sys: 0 ns, total: 3 µs\nWall time: 5.72 µs\n"
     ]
    },
    {
     "output_type": "execute_result",
     "data": {
      "text/plain": [
       "False"
      ]
     },
     "metadata": {},
     "execution_count": 25
    }
   ],
   "source": [
    "%time\n",
    "isPalindrome5(987649817236410735)"
   ]
  },
  {
   "cell_type": "code",
   "execution_count": null,
   "metadata": {},
   "outputs": [],
   "source": []
  }
 ]
}