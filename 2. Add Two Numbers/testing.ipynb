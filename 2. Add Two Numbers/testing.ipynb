{
 "cells": [
  {
   "cell_type": "code",
   "execution_count": 21,
   "metadata": {},
   "outputs": [
    {
     "name": "stdout",
     "output_type": "stream",
     "text": [
      "3 <__main__.ListNode object at 0x10b0d2e30>\n"
     ]
    }
   ],
   "source": [
    "#Definition for singly-linked list.\n",
    "class ListNode:\n",
    "    def __init__(self, val=0, next=None):\n",
    "        self.val = val\n",
    "        self.next = next"
   ]
  },
  {
   "cell_type": "code",
   "execution_count": 65,
   "metadata": {},
   "outputs": [
    {
     "data": {
      "text/plain": [
       "2"
      ]
     },
     "execution_count": 65,
     "metadata": {},
     "output_type": "execute_result"
    }
   ],
   "source": [
    "ll1.val"
   ]
  },
  {
   "cell_type": "code",
   "execution_count": 76,
   "metadata": {},
   "outputs": [
    {
     "data": {
      "text/plain": [
       "807"
      ]
     },
     "execution_count": 76,
     "metadata": {},
     "output_type": "execute_result"
    }
   ],
   "source": [
    "## Let's assume (from the examples provided) that you will be presented with 2, possibly unequal sized, lists\n",
    "l1 = [2,4,3]\n",
    "l2 = [5,6,4]\n",
    "\n",
    "## First, serialise list into a nested listnodes, using the provided class\n",
    "def serialise_list_to_listnode(l: list) -> ListNode:\n",
    "    \n",
    "    if len(l) == 0:\n",
    "        node = None\n",
    "\n",
    "    elif len(l) == 1:\n",
    "        node = ListNode(l[0])\n",
    "\n",
    "    elif len(l) >= 2:\n",
    "        node = ListNode(l[0], serialise_list_to_listnode(l[1:]))\n",
    "\n",
    "    return node\n",
    "\n",
    "ll1 = serialise_list_to_listnode(l1)\n",
    "ll2 = serialise_list_to_listnode(l2)\n",
    "\n",
    "## Next write a function to compute the sum of the values associated with each linkedlist, taking in the serialised linknodes as inputs\n",
    "def sumLinkedListValues(l1: list, l2: list) -> ListNode:\n",
    "    \n",
    "    ## From left to right, ll1 and ll2 are always matching in terms of powers of 10. So just loop over the 2 linkedlists iteratively and sum, carrying over anything that exceed 9. \n",
    "    ll1 = serialise_list_to_listnode(l1)\n",
    "    ll2 = serialise_list_to_listnode(l2)\n",
    "\n",
    "    carry_forward = 0\n",
    "    lnew = []\n",
    "    for i in range(max(len(l1), len(l2))):\n",
    "        ll1_val = ll1.val if ll1 is not None else 0\n",
    "        ll2_val = ll2.val if ll2 is not None else 0\n",
    "        \n",
    "        total = ll1_val + ll2_val + carry_forward\n",
    "        result_val = total % 10\n",
    "        carry_forward = total // 10\n",
    "        lnew.append(result_val)\n",
    "\n",
    "        ll1=ll1.next\n",
    "        ll2=ll2.next\n",
    "    \n",
    "    return serialise_list_to_listnode(lnew)\n",
    "    \n",
    "## The function will return the linknode at the head of the linklist representing the sum\n",
    "def deserialise_listnode_to_int(ln: ListNode) -> int:\n",
    "    l_int = [ln.val]\n",
    "    while ln.next is not None:\n",
    "        ln = ln.next\n",
    "        l_int.append(ln.val)\n",
    "    \n",
    "    intval = [val * 10**power for power, val in enumerate(l_int)]\n",
    "    return sum(intval)\n",
    "\n",
    "deserialise_listnode_to_int(sumLinkedListValues(l1, l2))"
   ]
  },
  {
   "cell_type": "code",
   "execution_count": 46,
   "metadata": {},
   "outputs": [],
   "source": [
    "class ListNode:\n",
    "    def __init__(self, val=0, next=None):\n",
    "        self.val = val\n",
    "        self.next = next\n",
    "        \n",
    "def addTwoNumbers(l1: ListNode, l2: ListNode) -> ListNode:\n",
    "    dummy = ListNode()\n",
    "    curr = dummy\n",
    "    carry = 0\n",
    "    \n",
    "    while l1 or l2:\n",
    "        # try:\n",
    "        #     print(f'l1.val: {l1.val}')\n",
    "        # except:\n",
    "        #     pass\n",
    "        # try: \n",
    "        #     print(f'l2.val: {l2.val}')\n",
    "        # except:\n",
    "        #     pass\n",
    "        \n",
    "        x = l1.val if l1 else 0\n",
    "        y = l2.val if l2 else 0\n",
    "        s = x + y + carry\n",
    "        carry = s // 10\n",
    "        \n",
    "        # print(f's: {s}')\n",
    "        # print(f's % 10: {s%10}')\n",
    "        # print(f'carry: {carry}')\n",
    "\n",
    "        curr.next = ListNode(s % 10)\n",
    "        curr = curr.next\n",
    "        if l1: l1 = l1.next\n",
    "        if l2: l2 = l2.next\n",
    "        \n",
    "    if carry:\n",
    "        curr.next = ListNode(carry)\n",
    "        \n",
    "    return dummy.next"
   ]
  },
  {
   "cell_type": "code",
   "execution_count": 48,
   "metadata": {},
   "outputs": [
    {
     "name": "stdout",
     "output_type": "stream",
     "text": [
      "2\n",
      "1\n",
      "8\n",
      "2\n"
     ]
    }
   ],
   "source": [
    "# Define the input linked lists\n",
    "l1 = ListNode(7, ListNode(4, ListNode(3)))\n",
    "l2 = ListNode(5, ListNode(6, ListNode(4, ListNode(2))))\n",
    "\n",
    "# Call the addTwoNumbers function to get the sum of the two linked lists\n",
    "result = addTwoNumbers(l1, l2)\n",
    "\n",
    "# Traverse the output linked list and print the values\n",
    "while result:\n",
    "    print(result.val)\n",
    "    result = result.next"
   ]
  },
  {
   "cell_type": "code",
   "execution_count": 31,
   "metadata": {},
   "outputs": [
    {
     "data": {
      "text/plain": [
       "[3, 4, 2]"
      ]
     },
     "execution_count": 31,
     "metadata": {},
     "output_type": "execute_result"
    }
   ],
   "source": [
    "v3 = ListNode(2, next=None)\n",
    "v2 = ListNode(4, next=v3)\n",
    "v1 = ListNode(3, next=v2)\n",
    "\n",
    "v6 = ListNode(5, next=None)\n",
    "v5 = ListNode(6, next=v6)\n",
    "v4 = ListNode(4, next=v5)\n",
    "\n",
    "def addTwoNumbers(l1, l2):\n",
    "    dummy = cur = ListNode(0)\n",
    "    carry = 0\n",
    "    while l1 or l2 or carry:\n",
    "        if l1:\n",
    "            carry += l1.val\n",
    "            l1 = l1.next\n",
    "        if l2:\n",
    "            carry += l2.val\n",
    "            l2 = l2.next\n",
    "        cur.next = ListNode(carry%10)\n",
    "        cur = cur.next\n",
    "        carry //= 10\n",
    "    return dummy.next\n",
    "\n",
    "# addTwoNumbers(v1, v4).next.next.val\n",
    "\n",
    "def serialise_linked_list(node: ListNode) -> list[int]:\n",
    "    next_node_available = True\n",
    "    vallist = []\n",
    "    while next_node_available:\n",
    "        vallist.append(node.val)\n",
    "        if node.next is not None:\n",
    "            node = node.next\n",
    "        else:\n",
    "            next_node_available=False\n",
    "    return vallist\n",
    "    \n",
    "serialise_linked_list(v1)"
   ]
  },
  {
   "cell_type": "code",
   "execution_count": null,
   "metadata": {},
   "outputs": [],
   "source": []
  },
  {
   "cell_type": "code",
   "execution_count": 7,
   "metadata": {},
   "outputs": [],
   "source": [
    "# l1 = [2,4,3]\n",
    "# l2 = [5,6,4]\n",
    "\n",
    "# l1 = [0]\n",
    "# l2 = [0]\n",
    "\n",
    "# l1 = [9,9,9,9,9,9,9]\n",
    "# l2 = [9,9,9,9]"
   ]
  },
  {
   "cell_type": "code",
   "execution_count": 8,
   "metadata": {},
   "outputs": [
    {
     "data": {
      "text/plain": [
       "[8, 9, 9, 9, 0, 0, 0, 1]"
      ]
     },
     "execution_count": 8,
     "metadata": {},
     "output_type": "execute_result"
    }
   ],
   "source": [
    "def conv_list_to_value(l: list) -> int:\n",
    "    l_sum = sum([(10**i) * v for i,v in enumerate(l)])\n",
    "    return l_sum\n",
    "\n",
    "def conv_value_to_list(val: int) -> list[int]:\n",
    "    vallist = [int(x) for x in list(str(val))[::-1]]\n",
    "    return vallist\n",
    "\n",
    "def solution(l1: list, l2: list) -> list[int]:\n",
    "    l1_val = conv_list_to_value(l1)\n",
    "    l2_val = conv_list_to_value(l2)\n",
    "    return_val = l1_val + l2_val\n",
    "    return_val_list = conv_value_to_list(return_val)\n",
    "    return return_val_list\n",
    "solution(l1, l2)"
   ]
  },
  {
   "cell_type": "code",
   "execution_count": null,
   "metadata": {},
   "outputs": [],
   "source": []
  }
 ],
 "metadata": {
  "kernelspec": {
   "display_name": "leetcode",
   "language": "python",
   "name": "python3"
  },
  "language_info": {
   "codemirror_mode": {
    "name": "ipython",
    "version": 3
   },
   "file_extension": ".py",
   "mimetype": "text/x-python",
   "name": "python",
   "nbconvert_exporter": "python",
   "pygments_lexer": "ipython3",
   "version": "3.10.4"
  },
  "orig_nbformat": 4
 },
 "nbformat": 4,
 "nbformat_minor": 2
}
