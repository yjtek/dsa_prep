{
 "cells": [
  {
   "cell_type": "markdown",
   "metadata": {},
   "source": [
    "### Sorting Cheat Sheet"
   ]
  },
  {
   "cell_type": "markdown",
   "metadata": {},
   "source": [
    "- Time/Space complexity $O(N^2)$ / $O(N \\log N)$\n",
    "    - best/average/worst\n",
    "- Stable sorting?\n",
    "- In-place sorting?\n",
    "- Comparison based?\n",
    "\n",
    "Case\n",
    "\n",
    "Complexity\n",
    "\n",
    "Best Case\n",
    "\n",
    "O(n)\n",
    "\n",
    "Average Case\n",
    "\n",
    "O(n*log(n))\n",
    "\n",
    "Worst Case\n",
    "\n",
    "O(n*log(n))\n",
    "\n",
    "Space\n",
    "\n",
    "O(n)\n",
    "\n",
    "Stable\n",
    "\n",
    "YES\n",
    "\n",
    "In-Place Sorting\tNO, as it requires extra space"
   ]
  }
 ],
 "metadata": {
  "language_info": {
   "name": "python"
  }
 },
 "nbformat": 4,
 "nbformat_minor": 2
}
