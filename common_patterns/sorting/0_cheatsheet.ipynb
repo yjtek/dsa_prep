{
 "cells": [
  {
   "cell_type": "markdown",
   "metadata": {},
   "source": [
    "### Sorting Cheat Sheet"
   ]
  },
  {
   "cell_type": "markdown",
   "metadata": {},
   "source": [
    "- Time complexity $O(N^2)$ / $O(N \\log N)$\n",
    "- Space complexity $O(1)$/other\n",
    "- Stable sorting?\n",
    "- Comparison based?"
   ]
  }
 ],
 "metadata": {
  "language_info": {
   "name": "python"
  }
 },
 "nbformat": 4,
 "nbformat_minor": 2
}
