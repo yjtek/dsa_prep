{
 "cells": [
  {
   "cell_type": "markdown",
   "metadata": {},
   "source": [
    "### Counting Sort"
   ]
  },
  {
   "cell_type": "markdown",
   "metadata": {},
   "source": [
    "- Idea\n",
    "    - We count the occurences of each unique value in an array\n",
    "    - Then, iterating upwards from smallest value, take cumulative counts. \n",
    "        - The idea is that if the smallest value has 2 occurrences, and the second smallest has 2 values, then insertion of the second smallest must start from 3. \n",
    "    - In this way, we can use the cumulative counter to decide the rightmost position for each given value\n",
    "\n",
    "- The time complexity of this sort is $O(N+K)$, which is significantly faster than the regular sorting algorithms of $O(N \\log N)$\n",
    "    - So this comes in very useful in cases where the array is integer-valued and bounded!"
   ]
  },
  {
   "cell_type": "markdown",
   "metadata": {},
   "source": [
    "### Example"
   ]
  },
  {
   "cell_type": "markdown",
   "metadata": {},
   "source": [
    "- Let `arr = [1,6,2,2,7,3,3]`\n",
    "\n",
    "- Maximum value of array `max(arr) = 7`\n",
    "\n",
    "- Create a second array of size 7+1 = 8; `B = [0,0,0,0,0,0,0,0]`\n",
    "\n",
    "- Iterating through arr, for each value in `arr`, increment the corresponding index in `B`\n",
    "    - `arr[0] = 1` --> `B = [0,1,0,0,0,0,0,0]`\n",
    "    - `arr[1] = 6` --> `B = [0,1,0,0,0,0,1,0]`\n",
    "    - `arr[2] = 2` --> `B = [0,1,1,0,0,0,1,0]`\n",
    "    - `arr[3] = 2` --> `B = [0,1,2,0,0,0,1,0]`\n",
    "    - `arr[4] = 7` --> `B = [0,1,2,0,0,0,1,1]`\n",
    "    - `arr[5] = 3` --> `B = [0,1,2,1,0,0,1,1]`\n",
    "    - `arr[6] = 3` --> `B = [0,1,2,2,0,0,1,1]`\n",
    "\n",
    "- Take cumulative sum of `B`\n",
    "    - `B = [0,1,2,2,0,0,1,1]` -> `B = [0,1,3,5,5,5,6,7]`\n",
    "    - It's worth understanding more deeply what `B` means here\n",
    "        - every index `i` in `B` represents a value that could appear in `arr`\n",
    "        - the value at index `i` represents the last position of that particular value + 1\n",
    "        - That is; `B[2] = 3` represents the position of the last 2 in the sorted array (which should be 2) + 1 \n",
    "\n",
    "- Then iterating through `arr` **FROM THE RIGHT**, add the value `val` to the corresponding position in `B[val-1]` and decrement `B[val]`\n",
    "    - Init `res = [None, None, None, None, None, None, None]`\n",
    "\n",
    "    - `arr[6] = 3` --> `B[3] = 5` --> `res[5-1] = 3`\n",
    "        - `res = [None, None, None, None, 3, None, None]`\n",
    "        - `B[3] -= 1` --> `B = [0,1,3,4,5,5,6,7]`\n",
    "\n",
    "    - `arr[5] = 3` --> `B[3] = 4` --> `res[4-1] = 3`\n",
    "        - `res = [None, None, None, 3, 3, None, None]`\n",
    "        - `B[3] -= 1` --> `B = [0,1,3,3,5,5,6,7]`\n",
    "\n",
    "    - `arr[4] = 7` --> `B[7] = 7` --> `res[7-1] = 7`\n",
    "        - `res = [None, None, None, 3, 3, None, 7]`\n",
    "        - `B[7] -= 1` --> `B = [0,1,3,3,5,5,6,6]`\n",
    "\n",
    "    - `arr[3] = 2` --> `B[2] = 3` --> `res[3-1] = 2`\n",
    "        - `res = [None, None, 2, 3, 3, None, 7]`\n",
    "        - `B[2] -= 1` --> `B = [0,1,2,3,5,5,6,6]`\n",
    "\n",
    "    - `arr[2] = 2` --> `B[2] = 2` --> `res[2-1] = 2`\n",
    "        - `res = [None, 2, 2, 3, 3, None, 7]`\n",
    "        - `B[2] -= 1` --> `B = [0,1,1,3,5,5,6,6]`\n",
    "\n",
    "    - `arr[1] = 6` --> `B[6] = 6` --> `res[6-1] = 5`\n",
    "        - `res = [None, 2, 2, 3, 3, 6, 7]`\n",
    "        - `B[6] -= 1` --> `B = [0,1,1,3,5,5,5,6]`\n",
    "\n",
    "    - `arr[0] = 1` --> `B[1] = 1` --> `res[1-1] = 1`\n",
    "        - `res = [1, 2, 2, 3, 3, 6, 7]`\n",
    "        - `B[1] -= 1` --> `B = [0,0,1,3,5,5,5,6]`\n",
    "\n",
    "    - Return"
   ]
  },
  {
   "cell_type": "markdown",
   "metadata": {},
   "source": [
    "### Code Implementation"
   ]
  },
  {
   "cell_type": "code",
   "execution_count": 9,
   "metadata": {},
   "outputs": [
    {
     "data": {
      "text/plain": [
       "[0, 0, 0, 0, 0, 1, 1, 1, 1, 2, 2, 2, 3, 5, 5, 5, 5, 6, 6, 7]"
      ]
     },
     "execution_count": 9,
     "metadata": {},
     "output_type": "execute_result"
    }
   ],
   "source": [
    "## Assume values are integers bounded between 0 and 9\n",
    "\n",
    "def count_sort(arr: list[int]):    \n",
    "    digit_count_cumulative = [0] * 10\n",
    "    \n",
    "    for val in arr:\n",
    "        digit_count_cumulative[val] += 1\n",
    "    \n",
    "    for i in range(1, len(digit_count_cumulative)):\n",
    "        digit_count_cumulative[i] = digit_count_cumulative[i] + digit_count_cumulative[i-1]\n",
    "\n",
    "    res: list[int] = [-1] * len(arr)\n",
    "    for val in arr[::-1]:\n",
    "        val_pos = digit_count_cumulative[val] - 1\n",
    "        res[val_pos] = val\n",
    "        digit_count_cumulative[val] -= 1\n",
    "\n",
    "    return res\n",
    "\n",
    "import random\n",
    "arr = random.choices(range(10), k=20)\n",
    "count_sort(arr)"
   ]
  },
  {
   "cell_type": "markdown",
   "metadata": {},
   "source": [
    "### Time Complexity"
   ]
  },
  {
   "cell_type": "markdown",
   "metadata": {},
   "source": [
    "- Time complexity\n",
    "    - Iterate array and find maximum value $k$ in $O(N)$\n",
    "    - Create array `B` of size $k$ in $O(1)$\n",
    "    - Iterate array again to get counts `B` for each value in $O(N)$\n",
    "    - Find cumulative sum of `B` in $O(k)$\n",
    "    - Iterate through the input array again to append values to the right position in $O(N)$\n",
    "\n",
    "    - In total, we go through input array 3 times, and array `B` once, giving us time complexity of $O(3N + K) \\approx O(N+K)$\n",
    "\n",
    "- Space complexity\n",
    "    - We create an extra array of size $N$ to hold the result array, and an extra array of size $K$ to hold the counts. Hence, memory is $O(N+K)$\n",
    "\n",
    "- This seems better than most sorting algorithms, which are $O( N \\log N)$, BUT there are clear downsides\n",
    "    1. Memory use could be very large if $K$ is large!\n",
    "    2. Counting unique values won't work for float values"
   ]
  }
 ],
 "metadata": {
  "kernelspec": {
   "display_name": "dsa-prep-3dngTr8Z-py3.12",
   "language": "python",
   "name": "python3"
  },
  "language_info": {
   "codemirror_mode": {
    "name": "ipython",
    "version": 3
   },
   "file_extension": ".py",
   "mimetype": "text/x-python",
   "name": "python",
   "nbconvert_exporter": "python",
   "pygments_lexer": "ipython3",
   "version": "3.12.6"
  }
 },
 "nbformat": 4,
 "nbformat_minor": 2
}
