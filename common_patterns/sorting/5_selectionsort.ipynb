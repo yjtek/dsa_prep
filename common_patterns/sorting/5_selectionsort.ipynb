{
 "cells": [
  {
   "cell_type": "markdown",
   "metadata": {},
   "source": [
    "### Selection Sort"
   ]
  },
  {
   "cell_type": "markdown",
   "metadata": {},
   "source": [
    "- This is a very basic sort\n",
    "\n",
    "- Iterate through the array multiple times, and maintain a pointer starting from 0\n",
    "\n",
    "- For each iteration, pick out the minimum value in the array, and put it at your pointer\n",
    "\n",
    "- Increment the pointer"
   ]
  },
  {
   "cell_type": "markdown",
   "metadata": {},
   "source": [
    "### Example"
   ]
  },
  {
   "cell_type": "markdown",
   "metadata": {},
   "source": [
    "- Let array be [1,6,2,7,3]\n",
    "\n",
    "- pointer = 0\n",
    "    - looping through arr[0:], minimum value is 1, and swap 1 to position 0\n",
    "\n",
    "- pointer = 1\n",
    "    - looping through arr[1:], minimum value is 2, swap 2 to position 1\n",
    "\n",
    "- pointer = 2\n",
    "    - looping through arr[2:], minimum value is 3, swap 3 to position 2\n",
    "\n",
    "- etc\n"
   ]
  },
  {
   "cell_type": "markdown",
   "metadata": {},
   "source": [
    "### Code Implementation"
   ]
  },
  {
   "cell_type": "code",
   "execution_count": 12,
   "metadata": {},
   "outputs": [
    {
     "data": {
      "text/plain": [
       "[1, 2, 3, 6, 7]"
      ]
     },
     "execution_count": 12,
     "metadata": {},
     "output_type": "execute_result"
    }
   ],
   "source": [
    "import math\n",
    "arr = [1,6,2,7,3]\n",
    "\n",
    "def selection_sort(arr: list[int]):\n",
    "    for i in range(len(arr)):\n",
    "        minval: float = math.inf\n",
    "        for j in range(i, len(arr)):\n",
    "            if arr[j] < minval:\n",
    "                minval = arr[j]\n",
    "                minvalindex = j\n",
    "        arr[i], arr[minvalindex] = arr[minvalindex], arr[i]\n",
    "\n",
    "selection_sort(arr)\n",
    "arr"
   ]
  },
  {
   "cell_type": "markdown",
   "metadata": {},
   "source": [
    "### Time Complexity"
   ]
  },
  {
   "cell_type": "markdown",
   "metadata": {},
   "source": [
    "- Finding minimum value in an array takes $O(N)$ time\n",
    "\n",
    "- We loop over the whole array in $O(N)$ time\n",
    "\n",
    "- Hence, total time complexity is $O(N^2)$\n",
    "\n",
    "- $O(1)$ space because sort is in place"
   ]
  }
 ],
 "metadata": {
  "kernelspec": {
   "display_name": "dsa-prep-3dngTr8Z-py3.12",
   "language": "python",
   "name": "python3"
  },
  "language_info": {
   "codemirror_mode": {
    "name": "ipython",
    "version": 3
   },
   "file_extension": ".py",
   "mimetype": "text/x-python",
   "name": "python",
   "nbconvert_exporter": "python",
   "pygments_lexer": "ipython3",
   "version": "3.12.6"
  }
 },
 "nbformat": 4,
 "nbformat_minor": 2
}
