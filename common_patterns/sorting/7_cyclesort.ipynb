{
 "cells": [
  {
   "cell_type": "markdown",
   "metadata": {},
   "source": [
    "### Cycle Sort"
   ]
  },
  {
   "cell_type": "markdown",
   "metadata": {},
   "source": [
    "- This is an interesting algorithm, because it is useful when overwriting the value is expensive. \n",
    "    - So the idea is, not only do you want to do the sort quickly, but you would also like to minimise the number of times you overwrite values in the array while sorting\n",
    "    - Take something like bubble sort for example. If we compare adjacent values and swap values that are not ordered, we end repeating the expensive write operation multiple times\n",
    "\n",
    "- What is the insight behind this approach?\n",
    "    - First, note that any permutation of an array can be expressed as a product of cycles\n",
    "        - A \"cycle\" here means a series of swaps such that the starting node and ending node are the same. (e.g. A --> B, B --> C, C --> A)\n",
    "        - That is, no matter how the values are arranged at the start, any rearrangement into a sorted order can be expressed as a series of cycles, or at least 1 cycle\n",
    "            - Just imagine an array shifted rightwards by 1. (A --> B, B --> C, C --> ... X --> A)\n",
    "            - This is just 1 massive cycle\n",
    "\n",
    "- So the logic is; if we move values according to its cycles, it must result in the minimum number of moves\n",
    "    - because each value moves to its \"correct\" position immediately, we do not make any extra moves "
   ]
  },
  {
   "cell_type": "markdown",
   "metadata": {},
   "source": [
    "#### How does it work?"
   ]
  },
  {
   "cell_type": "markdown",
   "metadata": {},
   "source": [
    "- Create a set $S$ that holds indices from 0 to `len(arr)-1`\n",
    "\n",
    "- Iterate through the array starting from i=0\n",
    "    - Scan the array, count values smaller than arr[i], and call this `c`\n",
    "    - Swap `arr[i]` and `arr[c]` (i.e. if there are c=3 values smaller than arr[i], it must belong in index 3 (the 4th position))\n",
    "    - Pop `c+1` from `S`\n",
    "\n",
    "    - Because of the swap, there is a new value at `arr[i]`\n",
    "    - Again, count values smaller than arr[i], call this `c` \n",
    "    - Swap `arr[i]` and `arr[c]` \n",
    "    \n",
    "    - Keep doing this until we reach an `arr[i]` that is in the right position. In this case, until we reach a value that belongs as `i=0`\n",
    "    - This is when a complete cycle has been found\n",
    "\n",
    "- Pop left from `s` for the next value to explore\n",
    "\n",
    "- When `s` is empty, all values must be in the right position"
   ]
  },
  {
   "cell_type": "markdown",
   "metadata": {},
   "source": [
    "### Example"
   ]
  },
  {
   "cell_type": "markdown",
   "metadata": {},
   "source": [
    "- Let arr = [1,6,2,7,3]\n",
    "\n",
    "- Let S = [0,1,2,3,4]\n",
    "\n",
    "- Start at index 0, popleft from S\n",
    "    - arr[0] = 1 is the smallest value and is in the right place\n",
    "    - a cycle of 1 is found\n",
    "    - [1,6,2,7,3]\n",
    "\n",
    "- Popleft from S, index 1\n",
    "    - arr[1] = 6\n",
    "    - 3 values smaller than 6\n",
    "    - place 6 at index 3\n",
    "    - Remove 3 from s\n",
    "    - [1,7,2,6,3]\n",
    "    \n",
    "    - arr[1] = 7\n",
    "    - 4 values smaller than 7\n",
    "    - place 7 at index 4\n",
    "    - Remove 4 from S\n",
    "    - [1,3,2,6,7]\n",
    "\n",
    "    - arr[1] = 3\n",
    "    - 2 values smaller than 3\n",
    "    - place 3 at index 2\n",
    "    - Remove 2 from S\n",
    "    - [1,2,3,6,7]\n",
    "\n",
    "    - arr[1] = 2\n",
    "    - 1 value smaller than 2, it is in right position\n",
    "    - Cycle ends, and S is empty"
   ]
  },
  {
   "cell_type": "markdown",
   "metadata": {},
   "source": [
    "### Code Implementation"
   ]
  },
  {
   "cell_type": "code",
   "execution_count": 8,
   "metadata": {},
   "outputs": [
    {
     "data": {
      "text/plain": [
       "[4, 3, 2, 1]"
      ]
     },
     "execution_count": 8,
     "metadata": {},
     "output_type": "execute_result"
    }
   ],
   "source": [
    "temp = [1,2,3,4,5]\n",
    "temp = [5,4,3,2,1]\n",
    "temp.remove(5)\n",
    "temp"
   ]
  },
  {
   "cell_type": "code",
   "execution_count": 9,
   "metadata": {},
   "outputs": [
    {
     "data": {
      "text/plain": [
       "[1, 2, 3, 6, 7]"
      ]
     },
     "execution_count": 9,
     "metadata": {},
     "output_type": "execute_result"
    }
   ],
   "source": [
    "from collections import deque\n",
    "def cycle_sort(arr: list[int]):\n",
    "    S = list(range(len(arr)))[::-1]\n",
    "    while S:\n",
    "        curr_index = S.pop()\n",
    "        # curr_val, count_less_than_curr_val = None, None\n",
    "\n",
    "        curr_val = arr[curr_index]\n",
    "        count_less_than_curr_val = len([x for x in arr if x < curr_val]) \n",
    "        \n",
    "        while (curr_index != count_less_than_curr_val):\n",
    "            arr[curr_index], arr[count_less_than_curr_val] = arr[count_less_than_curr_val], arr[curr_index]\n",
    "            S.remove(count_less_than_curr_val)\n",
    "\n",
    "            curr_val = arr[curr_index]\n",
    "            count_less_than_curr_val = len([x for x in arr if x < curr_val]) \n",
    "\n",
    "arr = [1,6,2,7,3]\n",
    "cycle_sort(arr)\n",
    "arr"
   ]
  },
  {
   "cell_type": "markdown",
   "metadata": {},
   "source": [
    "### Time Complexity"
   ]
  },
  {
   "cell_type": "markdown",
   "metadata": {},
   "source": [
    "- We iterate through every position in $O(N)$\n",
    "\n",
    "- At each position, we compare with every value in the array in $O(N)$\n",
    "\n",
    "- This leads us to time complexity of $O(N^2)$\n",
    "\n",
    "- Sort is in place, so memory complexity is $O(1)$"
   ]
  }
 ],
 "metadata": {
  "kernelspec": {
   "display_name": "dsa-prep-3dngTr8Z-py3.12",
   "language": "python",
   "name": "python3"
  },
  "language_info": {
   "codemirror_mode": {
    "name": "ipython",
    "version": 3
   },
   "file_extension": ".py",
   "mimetype": "text/x-python",
   "name": "python",
   "nbconvert_exporter": "python",
   "pygments_lexer": "ipython3",
   "version": "3.12.6"
  }
 },
 "nbformat": 4,
 "nbformat_minor": 2
}
