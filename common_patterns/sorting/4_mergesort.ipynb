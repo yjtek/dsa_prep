{
 "cells": [
  {
   "cell_type": "markdown",
   "metadata": {},
   "source": [
    "### Merge Sort"
   ]
  },
  {
   "cell_type": "markdown",
   "metadata": {},
   "source": [
    "- The idea is to recursively halve the arrays until you reach the base case of 1\n",
    "\n",
    "- Then, compare the left and right halves that you have; if left smaller than right, put left first. Else put right. That way, you now have sorted subarray of length 2\n",
    "\n",
    "- Then using the 2 sorted subarrays, \"merge\" them again; compare the leftmost values of left and right subarrays until 1 or both of them are exhausted. You now have a sorted subarray of length 4\n",
    "\n",
    "- etc."
   ]
  },
  {
   "cell_type": "markdown",
   "metadata": {},
   "source": [
    "### Example"
   ]
  },
  {
   "cell_type": "markdown",
   "metadata": {},
   "source": [
    "- Let arr be [1,6,2,7,3]\n",
    "    - Split array into [1,6,2] and [7,3]\n",
    "    - Split [1,6,2] into [1,6] and [2]\n",
    "    - Split [1,6] into [1] and [6]\n",
    "    - Split [7,3] into [7] and [3]\n",
    "\n",
    "- Comparing [1] and [6], 1 < 6, so pop from left. Then append 6. This gives you [1,6]\n",
    "\n",
    "- Compare [1,6] and [2]\n",
    "    - 1 < 2, so pop left\n",
    "    - 2 < 6, so pop right\n",
    "    - Pop last value of 6\n",
    "    - this gives you [1,2,6]\n",
    "\n",
    "- Compare [7] and [3], which gives [3,7]\n",
    "\n",
    "- Compare [1,2,6] and [3,7]\n",
    "    - 1 < 3, pop left\n",
    "    - 2 < 3 , pop left\n",
    "    - 3 < 6, pop right\n",
    "    - 6 < 7, pop left\n",
    "    - pop 7\n",
    "\n",
    "- End with [1,2,3,6,7]"
   ]
  },
  {
   "cell_type": "markdown",
   "metadata": {},
   "source": [
    "### Code Implementation"
   ]
  },
  {
   "cell_type": "code",
   "execution_count": 25,
   "metadata": {},
   "outputs": [
    {
     "data": {
      "text/plain": [
       "[1, 2, 3, 6, 7]"
      ]
     },
     "execution_count": 25,
     "metadata": {},
     "output_type": "execute_result"
    }
   ],
   "source": [
    "def merge_sort(arr: list[int]):\n",
    "    \n",
    "    if len(arr) <= 1:\n",
    "        return arr\n",
    "\n",
    "    m = len(arr)//2\n",
    "\n",
    "    left = merge_sort(arr[:m])\n",
    "    right = merge_sort(arr[m:])\n",
    "\n",
    "    res = []\n",
    "    leftpointer, rightpointer = 0, 0\n",
    "    \n",
    "    while ((leftpointer < len(left)) and (rightpointer < len(right))):\n",
    "        if left[leftpointer] <= right[rightpointer]:\n",
    "            res.append(left[leftpointer])\n",
    "            leftpointer += 1\n",
    "        else:\n",
    "            res.append(right[rightpointer])\n",
    "            rightpointer += 1\n",
    "\n",
    "    if leftpointer == len(left):\n",
    "        res += right[rightpointer:]\n",
    "    if rightpointer == len(right):\n",
    "        res += left[leftpointer:]\n",
    "    \n",
    "    return res\n",
    "            \n",
    "arr = [1,6,2,7,3]\n",
    "merge_sort(arr)"
   ]
  },
  {
   "cell_type": "markdown",
   "metadata": {},
   "source": [
    "### Time Complexity"
   ]
  },
  {
   "cell_type": "markdown",
   "metadata": {},
   "source": [
    "- We can perform at most $log(N)$ splits before we reach base case\n",
    "\n",
    "- Worst case occurs when splits are even, which results in $O(N/k)$ comparisons when comparing left and right\n",
    "\n",
    "- Therefore, total complexity is $O(N \\log N)$\n",
    "\n",
    "- No extra space is used, so $O(1)$ space needed"
   ]
  }
 ],
 "metadata": {
  "kernelspec": {
   "display_name": "dsa-prep-3dngTr8Z-py3.12",
   "language": "python",
   "name": "python3"
  },
  "language_info": {
   "codemirror_mode": {
    "name": "ipython",
    "version": 3
   },
   "file_extension": ".py",
   "mimetype": "text/x-python",
   "name": "python",
   "nbconvert_exporter": "python",
   "pygments_lexer": "ipython3",
   "version": "3.12.6"
  }
 },
 "nbformat": 4,
 "nbformat_minor": 2
}
