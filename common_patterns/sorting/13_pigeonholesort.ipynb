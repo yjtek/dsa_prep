{
 "cells": [
  {
   "cell_type": "markdown",
   "metadata": {},
   "source": [
    "### Pigeonhole Sort"
   ]
  },
  {
   "cell_type": "markdown",
   "metadata": {},
   "source": [
    "- Idea \n",
    "    - Traverse input to find min and max values\n",
    "    - Initialise a second array of size max - min\n",
    "    - For every value in input, find the appropriate \"slot\" to place it in the second array\n",
    "    - Traverse the second array and combine all the non-empty slots into a sorted array\n",
    "\n",
    "- This is kind of like bucket sort, but more restrictive, because it assumes a discrete range of values\n",
    "    - It is also kind of bad when the range is large, because the array you initialise will be huge"
   ]
  },
  {
   "cell_type": "markdown",
   "metadata": {},
   "source": [
    "### Example"
   ]
  },
  {
   "cell_type": "markdown",
   "metadata": {},
   "source": [
    "- Let `arr = [1,7,2,6,4,2]`\n",
    "- Traverse once, min=1, max=7.\n",
    "    - Hence, range = 7-1+1 = 7\n",
    "- Init an array of size 7\n",
    "    - `B = [ [], [], [], [], [], [], [] ]`\n",
    "- Traverse arr again, and place the values in the index val - min\n",
    "    - val = 1, val-min=0\n",
    "        - B[0].append(1)\n",
    "        - `B = [ [1], [], [], [], [], [], [] ]`\n",
    "    - val = 7, val-min=6\n",
    "        - B[6].append(7)\n",
    "        - `B = [ [1], [], [], [], [], [], [7] ]`\n",
    "    - val = 2, val-min=1\n",
    "        - B[1].append(2)\n",
    "        - `B = [ [1], [2], [], [], [], [], [7] ]`\n",
    "    - val = 6, val-min=5\n",
    "        - B[5].append(6)\n",
    "        - `B = [ [1], [2], [], [], [], [6], [7] ]`\n",
    "    - val = 4, val-min=3\n",
    "        - B[3].append(4)\n",
    "        - `B = [ [1], [2], [], [4], [], [6], [7] ]`\n",
    "    - val = 2, val-min=1\n",
    "        - B[1].append(2)\n",
    "        - `B = [ [1], [2,2], [], [4], [], [6], [7] ]`\n",
    "\n",
    "- Traverse all pigeonholes, and append to the result array\n",
    "    - res = [1] + [2,2] + [] + [4] + [] + [6] + [7] = [1,2,2,4,6,7]"
   ]
  },
  {
   "cell_type": "markdown",
   "metadata": {},
   "source": [
    "### Code Implementation"
   ]
  },
  {
   "cell_type": "code",
   "execution_count": 5,
   "metadata": {},
   "outputs": [
    {
     "data": {
      "text/plain": [
       "[7, 17, 17, 19, 19, 23, 23, 24, 27, 29, 36, 40, 41, 42, 42, 45, 45, 47, 48, 49]"
      ]
     },
     "execution_count": 5,
     "metadata": {},
     "output_type": "execute_result"
    }
   ],
   "source": [
    "import random\n",
    "\n",
    "def pigeonhole_sort(arr: list[int]):\n",
    "    minval, maxval = min(arr), max(arr)\n",
    "    total_range = maxval-minval+1\n",
    "\n",
    "    pigeonholes = [[] for _ in range(total_range)]\n",
    "\n",
    "    for val in arr:\n",
    "        val_index = val - minval \n",
    "        pigeonholes[val_index].append(val)\n",
    "\n",
    "    res = [val for sublist in pigeonholes for val in sublist]\n",
    "    return res\n",
    "\n",
    "arr = random.choices(range(50), k=20)\n",
    "pigeonhole_sort(arr)"
   ]
  },
  {
   "cell_type": "markdown",
   "metadata": {},
   "source": [
    "### Time Complexity"
   ]
  },
  {
   "cell_type": "markdown",
   "metadata": {},
   "source": [
    "- Time complexity\n",
    "    - You traverse the input array to find min and max in $O(N)$\n",
    "    - You traverse the input array again and compute its position in the new array in $O(N)$\n",
    "    - Finally, you traverse the new array to find non-empty slots in $O(R)$, where `R` is the distance between the max and min values in the input array\n",
    "    - Overall this gives a time complexxity of $O(N+R)$\n",
    "\n",
    "- Space complexity\n",
    "    - You create a second array of size R, and a return array of size N\n",
    "    - so overall space complexity is $O(N+R)$"
   ]
  }
 ],
 "metadata": {
  "kernelspec": {
   "display_name": "dsa-prep-3dngTr8Z-py3.12",
   "language": "python",
   "name": "python3"
  },
  "language_info": {
   "codemirror_mode": {
    "name": "ipython",
    "version": 3
   },
   "file_extension": ".py",
   "mimetype": "text/x-python",
   "name": "python",
   "nbconvert_exporter": "python",
   "pygments_lexer": "ipython3",
   "version": "3.12.6"
  }
 },
 "nbformat": 4,
 "nbformat_minor": 2
}
