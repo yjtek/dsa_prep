{
 "cells": [
  {
   "cell_type": "markdown",
   "metadata": {},
   "source": [
    "### Shell Sort"
   ]
  },
  {
   "cell_type": "markdown",
   "metadata": {},
   "source": [
    "- Just as combsort is a generalisation of bubble sort, where multiple elements are compared at decreasing intervals, shellsort is a generalisation of insertion sort, where elements are compared at decreasing intervals\n",
    "\n",
    "- The idea here is built on the notion that, inversions at larger distances contribute more to the total inversions of an array, so if we resolve long distance inversions early, we make fewer comparisons overall\n",
    "\n",
    "- Idea\n",
    "    - Starting from a gap of $n//2$\n",
    "        - iterate through the array such that we look at every $n//2$ element\n",
    "        - Suppose n=5. \n",
    "        - Then we start by looking at elements `0,2,4`\n",
    "            - Perform insertion sort\n",
    "            - Condider `arr[0, 2]`; if `array[2] < array[0]`, swap\n",
    "            - Consider `arr[0, 2, 4]`. Place `array[4]` in the right position by comparing it with `array[0]` and `array[2]`\n",
    "        - Next, look at elmements 1,3\n",
    "            - repeat\n",
    "    - Next, set gap to be $n//4$\n",
    "        - repeat\n",
    "    - Repeat until gap == 0"
   ]
  },
  {
   "cell_type": "markdown",
   "metadata": {},
   "source": [
    "### Example"
   ]
  },
  {
   "cell_type": "markdown",
   "metadata": {},
   "source": [
    "- Let arr = [4,6,3,7,2]\n",
    "\n",
    "- We start by defining gap = 5//2 = 2\n",
    "    - arr[0] = 4 > arr[2] = 3, swap\n",
    "        - arr = [3,6,4,7,2]\n",
    "    - arr[2] = 4 > arr[4] = 2, swap\n",
    "        - arr = [3,6,2,7,4]\n",
    "        - arr[0] = 3 > arr[2] = 2, swap\n",
    "            - arr = [2,6,3,7,4]\n",
    "\n",
    "- gap = 2 // 2 = 1\n",
    "    - arr[0] = 2 < arr[1] = 6, no swap\n",
    "    - arr[1] = 6 > arr[2] = 3, swap\n",
    "        - arr = [2,3,6,7,4]\n",
    "        - arr[0] = 2 < arr[1] = 3, no swap\n",
    "    - arr[2] = 6 < arr[3] = 7, no swap\n",
    "    - arr[3] = 7 > arr[4] = 4, swap\n",
    "        - arr = [2,3,6,4,7]\n",
    "        - arr[2] = 6 > arr[3] = 4, swap\n",
    "            - arr = [2,3,4,6,7]\n",
    "            - arr[1] = 3 < arr[2] = 4, no swap\n",
    "        \n",
    "- gap = 1//2 = 0, return"
   ]
  },
  {
   "cell_type": "markdown",
   "metadata": {},
   "source": [
    "### Code Implementation"
   ]
  },
  {
   "cell_type": "code",
   "execution_count": 24,
   "metadata": {},
   "outputs": [
    {
     "data": {
      "text/plain": [
       "[1, 2, 4, 6, 8]"
      ]
     },
     "execution_count": 24,
     "metadata": {},
     "output_type": "execute_result"
    }
   ],
   "source": [
    "def shell_sort(arr: list[int]) -> None:\n",
    "    gap = len(arr)//2\n",
    "    while gap > 0:\n",
    "        for subarray_end in range(gap, len(arr)):\n",
    "            curr_index = subarray_end\n",
    "            comparison_index = subarray_end - gap\n",
    "            \n",
    "            while (comparison_index >= 0) and (arr[curr_index] <= arr[comparison_index]):\n",
    "                arr[curr_index], arr[comparison_index] = arr[comparison_index], arr[curr_index]\n",
    "                curr_index, comparison_index = comparison_index, comparison_index - gap\n",
    "\n",
    "        gap//=2\n",
    "\n",
    "arr = [1,6,2,8,4]\n",
    "shell_sort(arr)\n",
    "arr"
   ]
  },
  {
   "cell_type": "markdown",
   "metadata": {},
   "source": [
    "### Time Complexity"
   ]
  },
  {
   "cell_type": "markdown",
   "metadata": {},
   "source": [
    "- Time complexity\n",
    "    - Worst case\n",
    "        - In the outer loop, gap reduces by half in each run, so there are $\\log N$ possible gaps to check\n",
    "        - In the inner loop, we perform checks on $N$ possible subarrays\n",
    "        - For each subarray, we potentially iterate another $N$ times to do the swap\n",
    "        - Therefore, in the worst case, shell sort is $O(N^2)$\n",
    "    - Average Case\n",
    "        - This assumes that the gap reduction due to the gap comparisons creates an almost sorted array, so the inner loop runs in $O(N)$\n",
    "        - Therefore, outer and inner loop produces $O(N \\log N)$ time complexity\n",
    "\n",
    "- Space complexity\n",
    "    - No additional space used, so shell sort is $O(1)$ space"
   ]
  },
  {
   "cell_type": "markdown",
   "metadata": {},
   "source": []
  }
 ],
 "metadata": {
  "kernelspec": {
   "display_name": "dsa-prep-3dngTr8Z-py3.12",
   "language": "python",
   "name": "python3"
  },
  "language_info": {
   "codemirror_mode": {
    "name": "ipython",
    "version": 3
   },
   "file_extension": ".py",
   "mimetype": "text/x-python",
   "name": "python",
   "nbconvert_exporter": "python",
   "pygments_lexer": "ipython3",
   "version": "3.12.6"
  }
 },
 "nbformat": 4,
 "nbformat_minor": 2
}
