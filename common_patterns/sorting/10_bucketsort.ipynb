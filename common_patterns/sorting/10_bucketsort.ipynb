{
 "cells": [
  {
   "cell_type": "markdown",
   "metadata": {},
   "source": [
    "### Bucket Sort"
   ]
  },
  {
   "cell_type": "markdown",
   "metadata": {},
   "source": [
    "- Idea\n",
    "    - Given some array of size $k$, we create $k$ ordered buckets, and put the values into the corresponding buckets using some logic (e.g. bucket based on first digit)\n",
    "\n",
    "    - Assume this placing into buckets for each digit can be done in $O(1)$ time\n",
    "\n",
    "    - Since there are $k$ values and $k$ buckets, on average, there should only be ~1 value per bucket. If there are multiple values per bucket, sort the bucket. Sorting can be done however you want\n",
    "\n",
    "    - Traverse all buckets in order and add the value in the bucket to the result"
   ]
  },
  {
   "cell_type": "markdown",
   "metadata": {},
   "source": [
    "### Example"
   ]
  },
  {
   "cell_type": "markdown",
   "metadata": {},
   "source": [
    "- Let arr = [0.9, 2.6, 0.1, 1.2, 4.2]\n",
    "\n",
    "- Since len(arr) = 5, create 5 buckets\n",
    "\n",
    "- Place values of arr into buckets according to their first digit\n",
    "    - [[0.9,0.1], [1.2], [2.6], [], [4.2]]\n",
    "\n",
    "- Iterating through all buckets, sort if bucket length exceeds 1\n",
    "    - [[0.1,0.9], [1.2], [2.6], [], [4.2]]\n",
    "\n",
    "- Recombine\n",
    "    - [0.1, 0.9, 1.2, 2.6, 4.2]"
   ]
  },
  {
   "cell_type": "markdown",
   "metadata": {},
   "source": [
    "### Code Implementation"
   ]
  },
  {
   "cell_type": "code",
   "execution_count": 6,
   "metadata": {},
   "outputs": [
    {
     "data": {
      "text/plain": [
       "[1, 2, 3, 4, 5]"
      ]
     },
     "execution_count": 6,
     "metadata": {},
     "output_type": "execute_result"
    }
   ],
   "source": [
    "test = [5,4,3,2,1]\n",
    "test.sort()\n",
    "test"
   ]
  },
  {
   "cell_type": "code",
   "execution_count": 10,
   "metadata": {},
   "outputs": [],
   "source": [
    "## Assume the elements are float values from 0 - 100\n",
    "import numpy as np\n",
    "\n",
    "def bucket_sort(arr: list[float]):\n",
    "    buckets = [[] for _ in range(len(arr))]\n",
    "    \n",
    "    ## O(N)\n",
    "    for val in arr:\n",
    "        val_bucket = int(val) % len(arr)\n",
    "        buckets[val_bucket].append(val)\n",
    "\n",
    "    ## O(K)\n",
    "    res = []\n",
    "    for bucket in buckets:\n",
    "        if len(bucket) >= 2:\n",
    "            bucket.sort()\n",
    "        res += bucket\n",
    "    return res\n",
    "\n",
    "arr = [float(x) for x in np.random.uniform(0, 100, size=200)]\n",
    "sorted_arr = bucket_sort(arr)\n",
    "sorted_arr;"
   ]
  },
  {
   "cell_type": "markdown",
   "metadata": {},
   "source": [
    "### Time Complexity"
   ]
  },
  {
   "cell_type": "markdown",
   "metadata": {},
   "source": [
    "- The time complexity of bucket sort ie entirely dependent on how well the array is split into the ordered buckets\n",
    "    - If the $k$ values are split relatively evenly into $k$ buckets, then the split takes $O(N)$ and the recombination will take $O(K)$, giving us $O(N+K)$ time complexity\n",
    "\n",
    "    - HOWEVER, if the split is skewed, and we need to do some sorting within the buckets, then the time complexity can be closer to $O(N \\log N)$ or $O(N^2)$ depending on how much sorting needs to be done\n",
    "\n",
    "- In terms of space complexity, we have $O(K)$ extra space from using the buckets, and $O(N)$ extra space from the recombination array, giving us $O(N+K)$ space complexity"
   ]
  }
 ],
 "metadata": {
  "kernelspec": {
   "display_name": "dsa-prep-3dngTr8Z-py3.12",
   "language": "python",
   "name": "python3"
  },
  "language_info": {
   "codemirror_mode": {
    "name": "ipython",
    "version": 3
   },
   "file_extension": ".py",
   "mimetype": "text/x-python",
   "name": "python",
   "nbconvert_exporter": "python",
   "pygments_lexer": "ipython3",
   "version": "3.12.6"
  }
 },
 "nbformat": 4,
 "nbformat_minor": 2
}
