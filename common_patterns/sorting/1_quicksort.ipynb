{
 "cells": [
  {
   "cell_type": "markdown",
   "metadata": {},
   "source": [
    "### Quicksort"
   ]
  },
  {
   "cell_type": "markdown",
   "metadata": {},
   "source": [
    "- This is a divide and conquer algorithm\n",
    "\n",
    "- Idea:\n",
    "    - At each iteration, you choose a value as a pivot\n",
    "        - Since array is unsorted, just pick the last value in the array as the pivot (for convenience)\n",
    "    - You want to partition the array into 2 parts; 1 portion that has values smaller than the pivot, and 1 portion that has values larger than the pivot\n",
    "        - To do this, we initialise 2 pointers; `i` and `j`\n",
    "        - `i` will indicate the last value in the left array (where all values are smaller than pivot). Therefore, `i` starts at -1, because we don't know whether the first value is smaller than pivot\n",
    "        - `j` will be used as the pointer to iterate through the entire array. Therefore, `j` starts at 0 \n",
    "        - At each point, if value at `j` is larger than pivot value, increment `j`\n",
    "        - If value at `j` is less than pivot value, increment `i`, then swap values at positions `i` and `j`\n",
    "        \n",
    "    - Finally, you want to place the pivot in the \"correct\" position in the array\n",
    "        - Swap value at `i+1` with pivot value\n",
    "        \n",
    "    - Then, ignoring the pivot, handle the subarrays from index [0: pivot index - 1] and [pivot index + 1 :]\n",
    "    - That is, recursively solve the subproblems on the left and right halves of the array\n",
    "    - This will continue until you hit the base case where the left and/or right subarrays have length 1. Then just return"
   ]
  },
  {
   "cell_type": "markdown",
   "metadata": {},
   "source": [
    "### Example"
   ]
  },
  {
   "cell_type": "markdown",
   "metadata": {},
   "source": [
    "- Imagine we have input array [1,6,2,8,4]\n",
    "\n",
    "- Pick 4 as pivot\n",
    "    - `i=-1, j=0`\n",
    "        - `arr[j]` is less than 4, so `i+=1`, and swap `arr[i]` and `arr[j]`\n",
    "        - [1,6,2,8,4]\n",
    "        - increment `j`\n",
    "    - `i=0, j=1`\n",
    "        - `arr[j]` is greater than 4\n",
    "        - increment `j`\n",
    "    - `i=0, j=2`\n",
    "        - `arr[j]` is less than 4\n",
    "        - Swap `arr[i+=1 = 1]` and `arr[j]`\n",
    "        - [1,2,6,8,4]\n",
    "        - increment `j`\n",
    "    - `i=1, j=3`\n",
    "        - `arr[j]` is greater than 4\n",
    "        - increment `j`\n",
    "    - `i=1, j=4`\n",
    "        - We reached `len(arr) - 1`, break\n",
    "    - Swap pivot and arr[i+1]\n",
    "        - [1,2,4,8,6]\n",
    "\n",
    "- Quicksort left\n",
    "    - Pick 2 as pivot\n",
    "        - `i=-1, j=0`\n",
    "            - `arr[j]` < pivot\n",
    "            - Swap `arr[i+=1 = 0]` and `arr[j=0]`\n",
    "            - [1,2]\n",
    "            - increment `j`\n",
    "        - `i=0, j=1`\n",
    "            - `j` has arrived at end of subarray, break\n",
    "        - Swap pivot and arr[i+1]\n",
    "            - [1,2]\n",
    "\n",
    "- Quicksort right\n",
    "    - Pick 6 as pivot\n",
    "        - `i=-1, j=0`\n",
    "            - `arr[j]` > pivot\n",
    "            - increment `j`\n",
    "        - `i=-1, j=1`\n",
    "            - `j` has arrived at end of subarray, break\n",
    "        - Swap pivot and arr[i+1]\n",
    "            - [6,8]"
   ]
  },
  {
   "cell_type": "markdown",
   "metadata": {},
   "source": [
    "### Code Implementation"
   ]
  },
  {
   "cell_type": "code",
   "execution_count": 42,
   "metadata": {},
   "outputs": [
    {
     "data": {
      "text/plain": [
       "[1, 2, 3, 6, 7]"
      ]
     },
     "execution_count": 42,
     "metadata": {},
     "output_type": "execute_result"
    }
   ],
   "source": [
    "def quicksort(arr: list[int], first_index: int, last_index: int) -> None:\n",
    "    if last_index - first_index < 1:\n",
    "        return\n",
    "    \n",
    "    pivot = arr[last_index]\n",
    "\n",
    "    i, j = first_index-1, first_index\n",
    "\n",
    "    while j < last_index:\n",
    "        if arr[j] <= pivot:\n",
    "            i+=1\n",
    "            arr[i], arr[j] = arr[j], arr[i]\n",
    "            \n",
    "        j+=1\n",
    "    \n",
    "    pivot_position = i\n",
    "    arr[last_index], arr[pivot_position+1] = arr[pivot_position+1], arr[last_index]\n",
    "\n",
    "    quicksort(arr, first_index, pivot_position)\n",
    "    quicksort(arr, pivot_position+2, last_index)\n",
    "\n",
    "arr = [1,6,2,7,3]\n",
    "quicksort(arr, 0, len(arr)-1)\n",
    "arr"
   ]
  },
  {
   "cell_type": "markdown",
   "metadata": {},
   "source": [
    "### Time complexity"
   ]
  },
  {
   "cell_type": "markdown",
   "metadata": {},
   "source": [
    "- For any given pivot, we compare every value in the array with it in $O(N)$\n",
    "\n",
    "- Suppose we split the array down the middle with our chosen pivot\n",
    "\n",
    "- Now, our time complexity of the comparison is $O(N/2 * 2) = O(N)$ \n",
    "    - because we only have half the array to compare, but we have twice the number of arrays!\n",
    "    - Regardless of how many splits you make, every level will be compared in $O(N)$\n",
    "\n",
    "- With that said, if we manage to get a good pivot each time and half our array, that means that we will only need to conduct our split $O(\\log N)$ times\n",
    "    - Hence, with $O(\\log N)$ splits, doing $O(N)$ work at each level, this gives us $O(N \\log N)$\n",
    "\n",
    "- If we get a lousy pivot each time such that all the values are on 1 side of the subarrays, then we have to choose a pivot $O(N)$ times\n",
    "    - Then in the worst case, we need to do $O(N)$ comparisons for $O(N)$ splits, giving us $O(N^2)$"
   ]
  },
  {
   "cell_type": "markdown",
   "metadata": {},
   "source": []
  }
 ],
 "metadata": {
  "kernelspec": {
   "display_name": "dsa-prep-3dngTr8Z-py3.12",
   "language": "python",
   "name": "python3"
  },
  "language_info": {
   "codemirror_mode": {
    "name": "ipython",
    "version": 3
   },
   "file_extension": ".py",
   "mimetype": "text/x-python",
   "name": "python",
   "nbconvert_exporter": "python",
   "pygments_lexer": "ipython3",
   "version": "3.12.6"
  }
 },
 "nbformat": 4,
 "nbformat_minor": 2
}
