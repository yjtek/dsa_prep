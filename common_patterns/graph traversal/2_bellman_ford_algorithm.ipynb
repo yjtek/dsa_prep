{
 "cells": [
  {
   "cell_type": "markdown",
   "metadata": {},
   "source": [
    "### Bellman-Ford Algorithm"
   ]
  },
  {
   "cell_type": "markdown",
   "metadata": {},
   "source": [
    "- Problem: In a directed graph, given a source vertex, return the shortest path to every other vertex in the graph\n",
    "\n",
    "- We previously looked at Dijkstra's algorithm, which solves the same problem.\n",
    "    - However, Dijkstra's does not handle the case where edges are negative, due to the greedy approach\n",
    "    - Bellman-Ford addresses this weakness!\n",
    "\n",
    "- "
   ]
  }
 ],
 "metadata": {
  "language_info": {
   "name": "python"
  }
 },
 "nbformat": 4,
 "nbformat_minor": 2
}
