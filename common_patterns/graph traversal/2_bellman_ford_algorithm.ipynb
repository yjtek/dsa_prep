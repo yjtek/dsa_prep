{
 "cells": [
  {
   "cell_type": "markdown",
   "metadata": {},
   "source": [
    "### Bellman-Ford Algorithm"
   ]
  },
  {
   "cell_type": "markdown",
   "metadata": {},
   "source": [
    "- Problem: In a directed graph, given a source vertex, return the shortest path to every other vertex in the graph\n",
    "\n",
    "- We previously looked at Dijkstra's algorithm, which solves the same problem.\n",
    "    - However, Dijkstra's does not handle the case where edges are negative, due to the greedy approach\n",
    "    - Bellman-Ford addresses this weakness by using **Dynamic Programming**\n",
    "\n",
    "- The idea is very extremely similar to Dijkstra's algorithm with its iterative relaxation. \n",
    "\n",
    "- HOWEVER\n",
    "    - In Dijkstra's, we make the assumption that we only need to perform relaxation at each node once. \n",
    "        - Why? Because every edge is assumed to be positive\n",
    "        - So the shortest path to the node must also be the one with the smallest weight\n",
    "    - In Bellman-Ford, we make no such assumption\n",
    "        - So after visiting a node once and performing relaxation, it may still be possible that another path has a smaller weight! So we have to visit again"
   ]
  },
  {
   "cell_type": "markdown",
   "metadata": {},
   "source": [
    "### Is there some upper bound to the number of times we have to visit? "
   ]
  },
  {
   "cell_type": "markdown",
   "metadata": {},
   "source": [
    "- Yes! If there are $N$ nodes in the graph, we only need to visit the nodes $N-1$ times\n",
    "- Why?\n",
    "    - Let's consider a graph with 4 nodes `[A, B, C, D]`\n",
    "    - From A to D, there are 2 paths: \n",
    "        - A == 2 ==> B == 3 ==> C  \n",
    "        - A == 5 ==> D == -10 == > C\n",
    "        - C == 2 ==> E\n",
    "    - Let's go through the iterative relaxation\n",
    "        - Iteration 1 Start\n",
    "            - `distance_from_a = [0, inf, inf, inf, inf]`\n",
    "            - Check A\n",
    "                - A to B\n",
    "                    - `distance_from_a = [0, 2 , inf, inf, inf]`\n",
    "                - A to D\n",
    "                    - `distance_from_a = [0, 2 , inf, 5, inf]`\n",
    "            - Check B\n",
    "                - B to C\n",
    "                    - `distance_from_a = [0, 2 , 5, 5, inf]`\n",
    "            - Check C\n",
    "                - C to E\n",
    "                    - `distance_from_a = [0, 2 , 5, 5, 7]`\n",
    "            - Check D\n",
    "                - D to C \n",
    "                    - `distance_from_a = [0, 2 , -5, 5, 7]`\n",
    "        - Iteration 2 Start\n",
    "            - `distance_from_a = [0, 2 , -5, 5, 7]`\n",
    "            - Check A\n",
    "                - A to B\n",
    "                    - `distance_from_a = [0, 2 , -5, 5, 7]`\n",
    "                - A to D\n",
    "                    - `distance_from_a = [0, 2 , -5, 5, 7]`\n",
    "            - Check B\n",
    "                - B to C\n",
    "                    - `distance_from_a = [0, 2 , -5, 5, 7]`\n",
    "            - Check C\n",
    "                - C to E\n",
    "                    - `distance_from_a = [0, 2 , -5, 5, -3]`\n",
    "            - Check D\n",
    "                - D to C \n",
    "                    - `distance_from_a = [0, 2 , -5, 5, -3]`\n",
    "    - From the example above, we took 2 iteractions to find the shortest path to E!\n",
    "        - In the first pass, we found A --> B --> C --> E for a weight of 7\n",
    "        - In the second, we found A --> D --> C --> E for a weight of -3\n",
    "    - So for any shortest path, if the weight of second last node is changed in the prior iteration, it will take 1 iteration to correct it\n",
    "    - In any graph, between 2 nodes, the longest path is $N-1$\n",
    "        - It is not N, because that would form a cycle\n",
    "    - In the worst case, the second node from the start may be affected, and the effect may be updated 1 node at a time along the shortest path\n",
    "    - Hence, the maximum number of iterations needed must be $N-1$\n"
   ]
  },
  {
   "cell_type": "markdown",
   "metadata": {},
   "source": [
    "### Example Walkthrough"
   ]
  },
  {
   "cell_type": "code",
   "execution_count": null,
   "metadata": {},
   "outputs": [],
   "source": [
    "import matplotlib.pyplot as plt\n",
    "import networkx as nx\n",
    "\n",
    "G = nx.DiGraph()\n",
    "G.add_edge(\"1\", \"2\", weight=6)\n",
    "G.add_edge(\"1\", \"3\", weight=5)\n",
    "G.add_edge(\"1\", \"4\", weight=5)\n",
    "G.add_edge(\"2\", \"5\", weight=-1)\n",
    "G.add_edge(\"3\", \"2\", weight=-2)\n",
    "G.add_edge(\"3\", \"5\", weight=1)\n",
    "G.add_edge(\"4\", \"3\", weight=-2)\n",
    "G.add_edge(\"4\", \"6\", weight=-1)\n",
    "G.add_edge(\"5\", \"7\", weight=3)\n",
    "G.add_edge(\"6\", \"7\", weight=3)"
   ]
  },
  {
   "cell_type": "markdown",
   "metadata": {},
   "source": [
    "- Let's suppose the problem requires us to find the shortest path from node 1 to all other nodes\n",
    "\n",
    "- We init an array of size 7, which we call `distance_from_node1 = [inf, inf, inf, inf, inf, inf, inf]`\n",
    "\n",
    "- Like in Dijkstra's, let's start at node 1 and traverse all edges\n",
    "\n",
    "- Iteration 1\n",
    "    - Check 1 and 2\n",
    "        - `distance_from_node1 = [0, 6, inf, inf, inf, inf, inf]`\n",
    "    - Check 1 and 3\n",
    "        - `distance_from_node1 = [0, 6, 5, inf, inf, inf, inf]`\n",
    "    - Check 1 and 4\n",
    "        - `distance_from_node1 = [0, 6, 5, 5, inf, inf, inf]`\n",
    "    - Check 2 and 5\n",
    "        - `distance_from_node1 = [0, 6, 5, 5, 5, inf, inf]`\n",
    "    - Check 3 and 2\n",
    "        - `5 - 2 = 3` is < 6 replace\n",
    "        - `distance_from_node1 = [0, 3, 5, 5, 5, inf, inf]`\n",
    "    - Check 3 and 5\n",
    "        - `5 + 1 = 6` > 4, no replace\n",
    "        - `distance_from_node1 = [0, 3, 5, 5, 5, inf, inf]`\n",
    "    - Check 4 and 3\n",
    "        - `5 - 2 = 3` is < 5, replace\n",
    "        - `distance_from_node1 = [0, 3, 3, 5, 5, inf, inf]`\n",
    "    - Check 4 and 6\n",
    "        - `distance_from_node1 = [0, 3, 3, 5, 5, 4, inf]`\n",
    "    - Check 5 and 7\n",
    "        - `distance_from_node1 = [0, 3, 3, 5, 5, 4, 8]`\n",
    "    - Check 6 and 7\n",
    "        - `distance_from_node1 = [0, 3, 3, 5, 5, 4, 7]`\n",
    "\n",
    "- etc.\n",
    "        "
   ]
  },
  {
   "cell_type": "markdown",
   "metadata": {},
   "source": [
    "### Code Implementation"
   ]
  },
  {
   "cell_type": "markdown",
   "metadata": {},
   "source": [
    "### Time Complexity"
   ]
  },
  {
   "cell_type": "markdown",
   "metadata": {},
   "source": []
  }
 ],
 "metadata": {
  "kernelspec": {
   "display_name": "dsa-prep-3dngTr8Z-py3.12",
   "language": "python",
   "name": "python3"
  },
  "language_info": {
   "name": "python",
   "version": "3.12.6"
  }
 },
 "nbformat": 4,
 "nbformat_minor": 2
}
