{
 "cells": [
  {
   "cell_type": "markdown",
   "metadata": {},
   "source": [
    "### Kruskal's Algorithm"
   ]
  },
  {
   "cell_type": "markdown",
   "metadata": {},
   "source": [
    "- Given a weighted graph, find the minimum spanning tree\n",
    "\n",
    "- Kruskal's Algorithm is a greedy algorithm. In general, it will\n",
    "    - Sort all edges in non-decreasing order\n",
    "    - Each time a new edge does not form a cycle, add the edge\n",
    "    - Repeat until there are $V-1$ edges in the tree"
   ]
  },
  {
   "cell_type": "markdown",
   "metadata": {},
   "source": [
    "### Example Walkthrough"
   ]
  },
  {
   "cell_type": "markdown",
   "metadata": {},
   "source": [
    "- Imagine the following graph"
   ]
  },
  {
   "cell_type": "code",
   "execution_count": 12,
   "metadata": {},
   "outputs": [],
   "source": [
    "import networkx as nx\n",
    "G = nx.Graph()\n",
    "G.add_edge(0, 1, weight=4)\n",
    "G.add_edge(0, 7, weight=8)\n",
    "G.add_edge(1, 2, weight=8)\n",
    "G.add_edge(1, 7, weight=11)\n",
    "G.add_edge(2, 3, weight=7)\n",
    "G.add_edge(2, 5, weight=4)\n",
    "G.add_edge(2, 8, weight=2)\n",
    "G.add_edge(3, 4, weight=9)\n",
    "G.add_edge(3, 5, weight=14)\n",
    "G.add_edge(4, 5, weight=10)\n",
    "G.add_edge(5, 6, weight=2)\n",
    "G.add_edge(6, 7, weight=1)\n",
    "G.add_edge(6, 8, weight=6)\n",
    "G.add_edge(7, 8, weight=7)\n",
    "# nx.draw_networkx_edge_labels(G, pos=nx.spring_layout(G))\n",
    "# nx.draw_networkx(G)"
   ]
  },
  {
   "cell_type": "markdown",
   "metadata": {},
   "source": [
    "- We represent every edge as a tuple `(from_node, to_node, edge_weight)`\n",
    "- Sort every edge in ascending order by weight\n",
    "\n",
    "- Sorted edges\n",
    "    - (6,7,1)\n",
    "    - (2,8,2)\n",
    "    - (5,6,2)\n",
    "    - (0,1,4)\n",
    "    - (2,5,4)\n",
    "    - (6,8,6)\n",
    "    - (2,3,7)\n",
    "    - (7,8,7)\n",
    "    - (0,7,8)\n",
    "    - (1,2,8)\n",
    "    - (3,4,9)\n",
    "    - (4,5,10)\n",
    "    - (1,7,11)\n",
    "    - (3,5,14)\n",
    "\n",
    "- Add edges from the top, so long as no cycle is formed\n",
    "    - Adding (6,7,1)\n",
    "        - (6,7)\n",
    "    - Adding (2,8,2)\n",
    "        - (2,8), (6,7)\n",
    "    - Adding (5,6,2)\n",
    "        - (2,8), (5,6,7)\n",
    "    - Adding (0,1,4)\n",
    "        - (2,8), (5,6,7), (0,1)\n",
    "    - Adding (2,5,4)\n",
    "        - (2,5,6,7,8), (0,1)\n",
    "    - Adding (6,8,6)\n",
    "        - 6 and 8 are already connected through a subgraph!!! Adding edge 6-8 will lead to cycle. **DO NOT ADD**\n",
    "        - (2,5,6,7,8), (0,1)\n",
    "    - Adding (2,3,7)\n",
    "        - (2,3,5,6,7,8), (0,1)\n",
    "    - Adding (7,8,7)\n",
    "        - Already connected, do not add\n",
    "        - (2,3,5,6,7,8), (0,1)\n",
    "    - Adding (0,7,8)\n",
    "        - (0,1,2,3,5,6,7,8)\n",
    "    - Adding (1,2,8)\n",
    "        - Already connected, do not add\n",
    "        - (0,1,2,3,5,6,7,8)\n",
    "    - Adding (3,4,9)\n",
    "        - (0,1,2,3,4,5,6,7,8)\n",
    "    - All $N$ nodes are connected, terminate"
   ]
  },
  {
   "cell_type": "markdown",
   "metadata": {},
   "source": [
    "### Union Find: How do we tell if a cycle will be formed from adding an edge?"
   ]
  },
  {
   "cell_type": "markdown",
   "metadata": {},
   "source": [
    "- Kruskal's algorithm requires us to tell whether adding a node will result in a cycle. How can we write a procedure to do this?\n",
    "    - We rely on an algorithm called **Union Find**\n",
    "\n",
    "- Idea\n",
    "    - We maintain 2 arrays while iterating through all the edges\n",
    "        - `parent`, representing the parent of each node. Initially, all nodes are parents of themselves\n",
    "        - `rank`, representing the number of children the node has. Initially, all nodes have `rank = 0`\n",
    "\n",
    "    - When adding some arbitrary edge $(i, j)$, we check if $i$ and $j$ have the same parent\n",
    "        - That is, we check if `parent[i] = parent[j]`\n",
    "        - If the parents are equal, then $i$ and $j$ are already connected, and we should not add the edge\n",
    "        - If the parents are not equal, then we add $(i, j)$, but at the same time, we also need to update `parent[i]` and `parent[j]` to point to the same node\n",
    "    \n",
    "    - How do we update the `parent` array in the event the `parent[i] != parent[j]`?\n",
    "        - We check `rank[i]` and `rank[j]`\n",
    "        - If `rank[i] >= rank[j]`\n",
    "            - update `parent[j] = i` \n",
    "            - update `rank[i] = rank[i] + rank[j]`\n",
    "        - Else\n",
    "            - update `parent[i] = j`\n",
    "            - update `rank[j] = rank[j] + rank[i]`\n",
    "\n",
    "- Sub-Idea: Path Compression\n",
    "    - In the Union-Find process, it is very likely that we come acrossa case where the parent of a node is not directly connected to it\n",
    "        - That is, suppose we have this case: \n",
    "            - parent[i] = j, parent[j] = k, parent[k] = root\n",
    "        - Then `root` is the parent of `i`, but to get to `root`, we need to make 3 jumps\n",
    "        - How do we know we've reached the root? When the node is parent of itself. That is, `parent[root] == root`\n",
    "    \n",
    "    - To make things more efficient, we want to try to shorten the number of redundant jumps we need to get to the parent\n",
    "\n",
    "    - So whenever we come across a case where `parent[i] != parent[parent[i]]` (i.e. the parent of the node is not the grandparent), this means that there is no direct connection between the node and its eventual parent\n",
    "        - So before we recursively find the root node, we set `parent[i] = parent[parent[i]]`, so that we skip 1 hop in future \n",
    "        - Graphically, imagine we have A --> B --> C --> D\n",
    "            - Then immediate parent of D is C, immedate parent of C is B etc. \n",
    "            - So we know `parent[D] = C`, and we check that `parent[C] != C`, we perform path compression\n",
    "            - `parent[D] = parent[parent[D]] = parent[C] = B`\n",
    "            - So the new graph is A --> B --> C / D"
   ]
  },
  {
   "cell_type": "markdown",
   "metadata": {},
   "source": [
    "### Code Implementation"
   ]
  },
  {
   "cell_type": "code",
   "execution_count": 66,
   "metadata": {},
   "outputs": [],
   "source": [
    "import numpy as np\n",
    "import networkx as nx\n",
    "G = nx.Graph()\n",
    "G.add_edge(0, 1, weight=4)\n",
    "G.add_edge(0, 7, weight=8)\n",
    "G.add_edge(1, 2, weight=8)\n",
    "G.add_edge(1, 7, weight=11)\n",
    "G.add_edge(2, 3, weight=7)\n",
    "G.add_edge(2, 5, weight=4)\n",
    "G.add_edge(2, 8, weight=2)\n",
    "G.add_edge(3, 4, weight=9)\n",
    "G.add_edge(3, 5, weight=14)\n",
    "G.add_edge(4, 5, weight=10)\n",
    "G.add_edge(5, 6, weight=2)\n",
    "G.add_edge(6, 7, weight=1)\n",
    "G.add_edge(6, 8, weight=6)\n",
    "G.add_edge(7, 8, weight=7)"
   ]
  },
  {
   "cell_type": "code",
   "execution_count": 79,
   "metadata": {},
   "outputs": [
    {
     "data": {
      "text/plain": [
       "[(6, 7, 1),\n",
       " (2, 8, 2),\n",
       " (5, 6, 2),\n",
       " (0, 1, 4),\n",
       " (2, 5, 4),\n",
       " (2, 3, 7),\n",
       " (0, 7, 8),\n",
       " (3, 4, 9)]"
      ]
     },
     "execution_count": 79,
     "metadata": {},
     "output_type": "execute_result"
    }
   ],
   "source": [
    "inputs = [\n",
    "    (6,7,1), (2,8,2),(5,6,2),(0,1,4),(2,5,4),(6,8,6),\n",
    "    (2,3,7),(7,8,7),(0,7,8),(1,2,8),(3,4,9),(4,5,10),\n",
    "    (1,7,11),(3,5,14)\n",
    "]\n",
    "\n",
    "def union(parents, rank, f, t):\n",
    "    if rank[parents[f]] >= rank[parents[t]]:\n",
    "        parents[parents[t]] = f\n",
    "        rank[parents[f]] += rank[parents[t]]\n",
    "    else:\n",
    "        parents[parents[f]] = parents[t]\n",
    "        rank[parents[t]] += rank[parents[f]]\n",
    "\n",
    "    return parents, rank\n",
    "\n",
    "def find_parent(i, parents):\n",
    "    if parents[i] != i:\n",
    "        parents[i] = find_parent(parents[i], parents)\n",
    "    \n",
    "    return parents[i]\n",
    "       \n",
    "def kruskals_algorithm(inputs: list[tuple[int,int,int]], n_vertices: int) -> list[tuple[int, int, int]]:\n",
    "    sorted_inputs = sorted(inputs, key=lambda x: x[2])\n",
    "    res = []\n",
    "\n",
    "    parents = list(range(n_vertices))\n",
    "    rank = [1] * n_vertices\n",
    "\n",
    "    for (f,t,e) in sorted_inputs:\n",
    "        # print('='*50)\n",
    "        # print(f,t,e)\n",
    "        # print(parents)\n",
    "        # print(rank)\n",
    "        if find_parent(f, parents) == find_parent(t, parents):\n",
    "            continue\n",
    "        \n",
    "        res.append((f,t,e))\n",
    "        parents, rank = union(parents, rank, f, t)\n",
    "        \n",
    "        # print(parents)\n",
    "        # print(rank)\n",
    "        # print(res)\n",
    "\n",
    "    return res\n",
    "    \n",
    "kruskals_algorithm(inputs, 9)"
   ]
  },
  {
   "cell_type": "markdown",
   "metadata": {},
   "source": [
    "### Time Complexity"
   ]
  },
  {
   "cell_type": "markdown",
   "metadata": {},
   "source": [
    "- Time complexity\n",
    "    - Let the number of input edges be $E$\n",
    "    - We sort the edges in $E \\log E$ time\n",
    "\n",
    "    - Then, looping through all edges in $O(E)$ time\n",
    "        - Find parent in amortized $O(1)$ time\n",
    "        - Perform union in $O(1)$ time\n",
    "\n",
    "    - Total time complexity is E + E \\log E = $O(E \\log E)$\n",
    "\n",
    "- Space complexity\n",
    "    - We use $O(E)$ space to hold the sorted edges\n",
    "    - We use $O(V)$ space to hold the `parents` and `rank` arrays\n",
    "    - So total space complexity is $O(E+V)$"
   ]
  },
  {
   "cell_type": "markdown",
   "metadata": {},
   "source": []
  }
 ],
 "metadata": {
  "kernelspec": {
   "display_name": "dsa-prep-3dngTr8Z-py3.12",
   "language": "python",
   "name": "python3"
  },
  "language_info": {
   "codemirror_mode": {
    "name": "ipython",
    "version": 3
   },
   "file_extension": ".py",
   "mimetype": "text/x-python",
   "name": "python",
   "nbconvert_exporter": "python",
   "pygments_lexer": "ipython3",
   "version": "3.12.6"
  }
 },
 "nbformat": 4,
 "nbformat_minor": 2
}
