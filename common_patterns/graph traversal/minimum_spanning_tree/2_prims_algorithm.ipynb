{
 "cells": [
  {
   "cell_type": "markdown",
   "metadata": {},
   "source": [
    "### Prims Algorithm"
   ]
  },
  {
   "cell_type": "markdown",
   "metadata": {},
   "source": [
    "- Given a weighted graph, find the minimum spanning tree\n",
    "\n",
    "- We previously covered Kruskal's algorithm; Prim's is kind of similar\n",
    "    - Recall that in Kruskal's, we sort the edges from smallest to largest weight, and add them iteratively to build up the minimum spanning tree UNLESS adding an edge forms a cycle\n",
    "\n",
    "- In Prim's, we don't sort the edges. \n",
    "    - Instead, we start by adding the smallest edge\n",
    "    - Then, we pick the next smallest edge that is **connected to the vertices already added**\n",
    "    - So the idea is that we will maintain a tree throughout, and we keep adding edges unless adding an edge forms a cycle (like Kruskal's) "
   ]
  },
  {
   "cell_type": "markdown",
   "metadata": {},
   "source": [
    "### Example Walkthrough"
   ]
  },
  {
   "cell_type": "markdown",
   "metadata": {},
   "source": [
    "- Imagine the following graph"
   ]
  },
  {
   "cell_type": "code",
   "execution_count": 15,
   "metadata": {},
   "outputs": [],
   "source": [
    "import networkx as nx\n",
    "G = nx.Graph()\n",
    "G.add_edge(0, 1, weight=4)\n",
    "G.add_edge(0, 7, weight=8)\n",
    "G.add_edge(1, 2, weight=8)\n",
    "G.add_edge(1, 7, weight=11)\n",
    "G.add_edge(2, 3, weight=7)\n",
    "G.add_edge(2, 5, weight=4)\n",
    "G.add_edge(2, 8, weight=2)\n",
    "G.add_edge(3, 4, weight=9)\n",
    "G.add_edge(3, 5, weight=14)\n",
    "G.add_edge(4, 5, weight=10)\n",
    "G.add_edge(5, 6, weight=2)\n",
    "G.add_edge(6, 7, weight=1)\n",
    "G.add_edge(6, 8, weight=6)\n",
    "G.add_edge(7, 8, weight=7)\n",
    "# nx.draw_networkx_edge_labels(G, pos=nx.spring_layout(G))\n",
    "# nx.draw_networkx(G)"
   ]
  },
  {
   "cell_type": "markdown",
   "metadata": {},
   "source": [
    "- We represent every edge as a tuple `(from_node, to_node, edge_weight)`\n",
    "\n",
    "- Sorted edges\n",
    "    - (6,7,1)\n",
    "    - (2,8,2)\n",
    "    - (5,6,2)\n",
    "    - (0,1,4)\n",
    "    - (2,5,4)\n",
    "    - (6,8,6)\n",
    "    - (2,3,7)\n",
    "    - (7,8,7)\n",
    "    - (0,7,8)\n",
    "    - (1,2,8)\n",
    "    - (3,4,9)\n",
    "    - (4,5,10)\n",
    "    - (1,7,11)\n",
    "    - (3,5,14)"
   ]
  },
  {
   "cell_type": "markdown",
   "metadata": {},
   "source": [
    "- Stepping through the algorithm\n",
    "    - The smallest edge is (6,7,1), add it to graph\n",
    "        - (6,7)\n",
    "    - The next smallest edge connected to the graph is (5,6,2)\n",
    "        - (5,6,7)\n",
    "    - The next smallest edge connected to the graph is (2,5,4)\n",
    "        - (2,5,6,7)\n",
    "    - The next smallest edge connected to the graph is (2,8,2)\n",
    "        - (2,5,6,7,8)\n",
    "    - The next smallest edge connected to the graph is (2,3,7)\n",
    "        - Technically, (6,8,6) is the next smallest. But 6 and 8 are already connected, and adding this will created a cycle\n",
    "        - (2,3,5,6,7,8)\n",
    "    - (0,7,8)\n",
    "        - (0,2,3,5,6,7,8)\n",
    "    - (0,1,4)\n",
    "        - (0,1,2,3,5,6,7,8)\n",
    "    - (3,4,9)\n",
    "        - (0,1,2,3,4,5,6,7,8)\n"
   ]
  },
  {
   "cell_type": "markdown",
   "metadata": {},
   "source": [
    "- How do we efficiently retrieve the next smallest connected? \n",
    "    - This sort of pattern should trigger us to use a min heap!!"
   ]
  },
  {
   "cell_type": "markdown",
   "metadata": {},
   "source": [
    "### Code Implementation"
   ]
  },
  {
   "cell_type": "code",
   "execution_count": 3,
   "metadata": {},
   "outputs": [],
   "source": [
    "from collections import defaultdict\n",
    "\n",
    "inputs = [\n",
    "    (6,7,1), (2,8,2),(5,6,2),(0,1,4),(2,5,4),(6,8,6),\n",
    "    (2,3,7),(7,8,7),(0,7,8),(1,2,8),(3,4,9),(4,5,10),\n",
    "    (1,7,11),(3,5,14)\n",
    "]\n",
    "\n",
    "inputs_weight_first = [\n",
    "    (x[2], x[0], x[1]) for x in inputs\n",
    "]\n",
    "\n",
    "def make_adjacency_map(inputs_weight_first: list[tuple[int, int, int]]) -> dict[int, list[tuple[int, int]]]:\n",
    "    res = defaultdict(list)\n",
    "    for (e,f,t) in inputs_weight_first:\n",
    "        res[f].append((t,e))\n",
    "        res[t].append((f,e))\n",
    "    return res\n",
    "\n",
    "# make_adjacency_map(inputs_weight_first)\n",
    "# inputs_weight_first;"
   ]
  },
  {
   "cell_type": "code",
   "execution_count": 4,
   "metadata": {},
   "outputs": [
    {
     "data": {
      "text/plain": [
       "37"
      ]
     },
     "execution_count": 4,
     "metadata": {},
     "output_type": "execute_result"
    }
   ],
   "source": [
    "import heapq\n",
    "\n",
    "def prims_algorithm(inputs_weight_first: list[tuple[int, int, int]]):\n",
    "    adj_map: dict[int, list[tuple[int, int]]] = make_adjacency_map(inputs_weight_first)\n",
    "    priority_queue = [(0,0,0)]\n",
    "    visited = set()\n",
    "    edges = []\n",
    "    spanning_tree_weight = []\n",
    "        \n",
    "    while priority_queue:\n",
    "        # print('='*50)\n",
    "        # print(f\"{priority_queue=}\")\n",
    "        # print(f\"{edges=}\")\n",
    "        # print(f\"{visited=}\")\n",
    "\n",
    "        e, f,t = heapq.heappop(priority_queue)\n",
    "        # print(f'{e=}, {f=}, {t=}')\n",
    "        if t in visited:\n",
    "            continue\n",
    "        \n",
    "        edges.append((f,t))\n",
    "        visited.add(t)\n",
    "        spanning_tree_weight.append(e)\n",
    "\n",
    "        for neighbour, weight in adj_map.get(t, []):\n",
    "            if neighbour not in visited:\n",
    "                heapq.heappush(priority_queue, (weight, t, neighbour))\n",
    "        \n",
    "        # print(f\"{priority_queue=}\")\n",
    "        # print(f\"{edges=}\")\n",
    "        # print(f\"{visited=}\")\n",
    "        \n",
    "    return edges, spanning_tree_weight\n",
    "    # return spanning_tree_weight\n",
    "\n",
    "edges, weights = prims_algorithm(inputs_weight_first)\n",
    "sum(weights)"
   ]
  },
  {
   "cell_type": "markdown",
   "metadata": {},
   "source": [
    "### Time Complexity"
   ]
  },
  {
   "cell_type": "markdown",
   "metadata": {},
   "source": [
    "- Time complexity\n",
    "    - We create adj_map in $O(E)$ time\n",
    "    - In each iteration, we do a heappop and a heappush from the minheap, that stores every edge once\n",
    "        - Heap Pop\n",
    "            - We can pop from the min heap in $O(\\log E)$ time\n",
    "            - For $E$ edges, this gives us $O(E \\log E)$\n",
    "        - Heap Push\n",
    "            - We push each vertex once to heap\n",
    "            - Since there are $V$ vertices, and heappush takes $O(\\log E)$ time, total complexity is $O(V \\log E)$\n",
    "    - Overall, this gives us $O((V+E) \\log E)$\n",
    "    \n",
    "- Space complexity\n",
    "    - We create adj_map in $O(E)$ space\n",
    "    - We create the heap in $O(E)$ space\n",
    "    - We track visited vertices in $O(V)$ space\n",
    "    - So overall space complexity is $O(E+V)$"
   ]
  }
 ],
 "metadata": {
  "kernelspec": {
   "display_name": "dsa-prep-3dngTr8Z-py3.12",
   "language": "python",
   "name": "python3"
  },
  "language_info": {
   "codemirror_mode": {
    "name": "ipython",
    "version": 3
   },
   "file_extension": ".py",
   "mimetype": "text/x-python",
   "name": "python",
   "nbconvert_exporter": "python",
   "pygments_lexer": "ipython3",
   "version": "3.12.6"
  }
 },
 "nbformat": 4,
 "nbformat_minor": 2
}
