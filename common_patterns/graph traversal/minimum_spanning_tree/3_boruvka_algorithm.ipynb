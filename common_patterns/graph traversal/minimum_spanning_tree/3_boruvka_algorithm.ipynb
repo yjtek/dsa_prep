{
 "cells": [
  {
   "cell_type": "markdown",
   "metadata": {},
   "source": [
    "### Boruvka Algorithm"
   ]
  },
  {
   "cell_type": "markdown",
   "metadata": {},
   "source": [
    "- Recap\n",
    "    - In Kruskal's, we sort edges from smallest to largest, and iterative add them so long as adding an edge doesn't create a cycle\n",
    "    - In Prim's, we add edges to a min-heap, and iteratively add the next smallest connected edge to the graph so long as it doesn't form a cycle\n",
    "\n",
    "- Boruvka's Algorithm is similar to Kruskals', in that we use Union-Find to identify next edge to add\n",
    "\n",
    "- Idea\n",
    "    - At the start, Boruvka's assumes every vertex is standalone components (i.e. if you have 10 vertices, then you have 10 components)\n",
    "    - Then at each iteration, find the cheapest edge from every component to another component and join them\n",
    "    - So every iteration lets you halve the number of components, which goes on until you reach 1 component\n",
    "\n",
    "\n",
    "- **DOWNSIDE**\n",
    "    - Boruvka's assumes that an MST exists\n",
    "    - If none exists, the algorithm will not terminate correctly"
   ]
  },
  {
   "cell_type": "markdown",
   "metadata": {},
   "source": [
    "### Example Walkthrough"
   ]
  },
  {
   "cell_type": "markdown",
   "metadata": {},
   "source": [
    "- Imagine the following graph"
   ]
  },
  {
   "cell_type": "code",
   "execution_count": null,
   "metadata": {},
   "outputs": [],
   "source": [
    "import networkx as nx\n",
    "G = nx.Graph()\n",
    "G.add_edge(0, 1, weight=4)\n",
    "G.add_edge(0, 7, weight=8)\n",
    "G.add_edge(1, 2, weight=8)\n",
    "G.add_edge(1, 7, weight=11)\n",
    "G.add_edge(2, 3, weight=7)\n",
    "G.add_edge(2, 5, weight=4)\n",
    "G.add_edge(2, 8, weight=2)\n",
    "G.add_edge(3, 4, weight=9)\n",
    "G.add_edge(3, 5, weight=14)\n",
    "G.add_edge(4, 5, weight=10)\n",
    "G.add_edge(5, 6, weight=2)\n",
    "G.add_edge(6, 7, weight=1)\n",
    "G.add_edge(6, 8, weight=6)\n",
    "G.add_edge(7, 8, weight=7)\n",
    "# nx.draw_networkx_edge_labels(G, pos=nx.spring_layout(G))\n",
    "# nx.draw_networkx(G)"
   ]
  },
  {
   "cell_type": "markdown",
   "metadata": {},
   "source": [
    "- There are 9 nodes. All are assumed to be standalone components\n",
    "    - Let's create a variable to track component counts `n_components`\n",
    "\n",
    "- As per the usual union find approach, create:\n",
    "    - An array `parents` of size $V$. At the start, each vertex is its own parent\n",
    "    - An array `rank` of size $V$, with value 1\n",
    "\n",
    "- Beyond the 2 arrays from union-find, we init an array that records the cheapest edge from every vertex, which we call `cheapest_edge`\n",
    "    \n",
    "- Iterate until `n_components` = 1\n",
    "    \n",
    "- Iteration 1: \n",
    "    - Compute `cheapest_edge` by iterating over every edge\n",
    "        - For each edge, check parents of vertex 1 and vertex 2 \n",
    "        - If equal, then vertices belong to the same group, ignore this edge\n",
    "        - Otherwise, check the current record in `cheapest_edge` for vertex 1 parent and vertex 2 parent\n",
    "            - If the weight in the array exceeds current weight, replace the entry in `cheapest_edge` with this edge\n",
    "        - By doing this for every edge, you will end up with the `cheapest_edge` for all parent vertex.\n",
    "        - Remember, we don't store the cheapest edge of every vertex, but every **parent** vertex, so the minimisation happens in 1 location\n",
    "    \n",
    "    - Iterate over every edge again\n",
    "        - For each edge, check parents of vertex 1 and 2\n",
    "        - if equal, then vertices belong to the same group, so edge can be ignored\n",
    "        - Else\n",
    "            - Add edge to `edges`\n",
    "            - Add edge weight to `cumulative_weights`\n",
    "            - perform union find on parents of vertex 1 and 2, so `parents` and `rank` are updated\n",
    "            - since the edge is added, there must be 1 fewer component, decrement `n_components` by 1\n",
    "\n",
    "- Keep this up until `n_components == 1`\n"
   ]
  },
  {
   "cell_type": "markdown",
   "metadata": {},
   "source": [
    "### Code Implementation"
   ]
  },
  {
   "cell_type": "code",
   "execution_count": 15,
   "metadata": {},
   "outputs": [
    {
     "data": {
      "text/plain": [
       "37"
      ]
     },
     "execution_count": 15,
     "metadata": {},
     "output_type": "execute_result"
    }
   ],
   "source": [
    "inputs = [\n",
    "    (6,7,1), (2,8,2),(5,6,2),(0,1,4),(2,5,4),(6,8,6),\n",
    "    (2,3,7),(7,8,7),(0,7,8),(1,2,8),(3,4,9),(4,5,10),\n",
    "    (1,7,11),(3,5,14)\n",
    "]\n",
    "n_vertices = 9\n",
    "\n",
    "n_components = n_vertices\n",
    "def find_parent(vertex, parents):\n",
    "    if parents[vertex] == vertex:\n",
    "        return vertex\n",
    "\n",
    "    parents[vertex] = find_parent(parents[vertex], parents)\n",
    "    return parents[vertex]\n",
    "\n",
    "parents = list(range(n_vertices))\n",
    "rank = [1] * n_vertices\n",
    "cheapest_edge = [None] * n_vertices\n",
    "edges = []\n",
    "weights = []\n",
    "\n",
    "while n_components > 1:\n",
    "    for (f, t, w) in inputs:\n",
    "        f_parent, t_parent = find_parent(f, parents), find_parent(t, parents)\n",
    "        if f_parent == t_parent:\n",
    "            ## nodes are in the same component, no need for edge\n",
    "            continue\n",
    "        else:\n",
    "            if (not cheapest_edge[f_parent]) or (cheapest_edge[f_parent][2] > w):\n",
    "                cheapest_edge[f_parent] = (f,t,w)\n",
    "                \n",
    "            if (not cheapest_edge[t_parent]) or (cheapest_edge[t_parent][2] > w):\n",
    "                cheapest_edge[t_parent] = (f,t,w)\n",
    "        \n",
    "    for vertex in range(n_vertices):\n",
    "        if cheapest_edge[vertex]:\n",
    "            f, t, w = cheapest_edge[vertex]\n",
    "            f_parent, t_parent = find_parent(f, parents), find_parent(t, parents)\n",
    "\n",
    "            if f_parent == t_parent:\n",
    "                ## The cheapest edge is redundant\n",
    "                continue\n",
    "            \n",
    "            edges.append((f,t))\n",
    "            weights.append(w)\n",
    "            if rank[f_parent] >= rank[t_parent]:\n",
    "                parents[t_parent] = f_parent\n",
    "                rank[f_parent] += rank[t_parent]\n",
    "            else:\n",
    "                parents[f_parent] = t_parent\n",
    "                rank[t_parent] += rank[f_parent]\n",
    "            n_components -= 1\n",
    "\n",
    "    cheapest_edge = [None] * n_vertices\n",
    "\n",
    "edges\n",
    "sum(weights)"
   ]
  },
  {
   "cell_type": "markdown",
   "metadata": {},
   "source": [
    "### Time Complexity"
   ]
  },
  {
   "cell_type": "markdown",
   "metadata": {},
   "source": [
    "- Time Complexity\n",
    "    - For $V$ vertices, there are at most $\\log V$ iterations on average, since we halve the number of components in each iteration\n",
    "    - For each iteration, we compare all $E$ edges to find the minimum edge to a vertex\n",
    "    - This gives us time complexity of $O(E \\log V)$\n",
    "    - Union find takes amortised constant time, so we treat it as approximately $O(1)$\n",
    "\n",
    "- Space complexity\n",
    "    - Due to union find, we have 2 arrays `parents` and `rank` of size $V$\n",
    "    - Thus, space complexity is $O(V)$"
   ]
  },
  {
   "cell_type": "markdown",
   "metadata": {},
   "source": []
  }
 ],
 "metadata": {
  "kernelspec": {
   "display_name": "dsa-prep-3dngTr8Z-py3.12",
   "language": "python",
   "name": "python3"
  },
  "language_info": {
   "codemirror_mode": {
    "name": "ipython",
    "version": 3
   },
   "file_extension": ".py",
   "mimetype": "text/x-python",
   "name": "python",
   "nbconvert_exporter": "python",
   "pygments_lexer": "ipython3",
   "version": "3.12.6"
  }
 },
 "nbformat": 4,
 "nbformat_minor": 2
}
