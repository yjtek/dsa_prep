{
 "cells": [
  {
   "cell_type": "markdown",
   "metadata": {},
   "source": [
    "### Bellman-Ford Algorithm"
   ]
  },
  {
   "cell_type": "markdown",
   "metadata": {},
   "source": [
    "- Problem: In a directed graph, given a source vertex, return the shortest path to every other vertex in the graph\n",
    "\n",
    "- We previously looked at Dijkstra's algorithm, which solves the same problem.\n",
    "    - However, Dijkstra's does not handle the case where edges are negative, due to the greedy approach\n",
    "    - Bellman-Ford addresses this weakness by using **Dynamic Programming**\n",
    "\n",
    "- The idea is very extremely similar to Dijkstra's algorithm with its iterative relaxation. \n",
    "\n",
    "- HOWEVER\n",
    "    - In Dijkstra's, we make the assumption that we only need to perform relaxation at each node once. \n",
    "        - Why? Because every edge is assumed to be positive\n",
    "        - So the shortest path to the node must also be the one with the smallest weight\n",
    "    - In Bellman-Ford, we make no such assumption\n",
    "        - So after visiting a node once and performing relaxation, it may still be possible that another path has a smaller weight! So we have to visit again"
   ]
  },
  {
   "cell_type": "markdown",
   "metadata": {},
   "source": [
    "### Is there some upper bound to the number of times we have to visit? "
   ]
  },
  {
   "cell_type": "markdown",
   "metadata": {},
   "source": [
    "- Yes! If there are $N$ nodes in the graph, we only need to visit the nodes $N-1$ times\n",
    "- Why?\n",
    "    - Let's consider a graph with 4 nodes `[A, B, C, D]`\n",
    "    - From A to D, there are 2 paths: \n",
    "        - A == 2 ==> B == 3 ==> C  \n",
    "        - A == 5 ==> D == -10 == > C\n",
    "        - C == 2 ==> E\n",
    "    - Let's go through the iterative relaxation\n",
    "        - Iteration 1 Start\n",
    "            - `distance_from_a = [0, inf, inf, inf, inf]`\n",
    "            - Check A\n",
    "                - A to B\n",
    "                    - `distance_from_a = [0, 2 , inf, inf, inf]`\n",
    "                - A to D\n",
    "                    - `distance_from_a = [0, 2 , inf, 5, inf]`\n",
    "            - Check B\n",
    "                - B to C\n",
    "                    - `distance_from_a = [0, 2 , 5, 5, inf]`\n",
    "            - Check C\n",
    "                - C to E\n",
    "                    - `distance_from_a = [0, 2 , 5, 5, 7]`\n",
    "            - Check D\n",
    "                - D to C \n",
    "                    - `distance_from_a = [0, 2 , -5, 5, 7]`\n",
    "        - Iteration 2 Start\n",
    "            - `distance_from_a = [0, 2 , -5, 5, 7]`\n",
    "            - Check A\n",
    "                - A to B\n",
    "                    - `distance_from_a = [0, 2 , -5, 5, 7]`\n",
    "                - A to D\n",
    "                    - `distance_from_a = [0, 2 , -5, 5, 7]`\n",
    "            - Check B\n",
    "                - B to C\n",
    "                    - `distance_from_a = [0, 2 , -5, 5, 7]`\n",
    "            - Check C\n",
    "                - C to E\n",
    "                    - `distance_from_a = [0, 2 , -5, 5, -3]`\n",
    "            - Check D\n",
    "                - D to C \n",
    "                    - `distance_from_a = [0, 2 , -5, 5, -3]`\n",
    "    - From the example above, we took 2 iteractions to find the shortest path to E!\n",
    "        - In the first pass, we found A --> B --> C --> E for a weight of 7\n",
    "        - In the second, we found A --> D --> C --> E for a weight of -3\n",
    "    - So for any shortest path, if the weight of second last node is changed in the prior iteration, it will take 1 iteration to correct it\n",
    "    - In any graph, between 2 nodes, the longest path is $N-1$\n",
    "        - It is not N, because that would form a cycle\n",
    "    - In the worst case, the second node from the start may be affected, and the effect may be updated 1 node at a time along the shortest path\n",
    "    - Hence, the maximum number of iterations needed must be $N-1$\n"
   ]
  },
  {
   "cell_type": "markdown",
   "metadata": {},
   "source": [
    "### Example Walkthrough"
   ]
  },
  {
   "cell_type": "code",
   "execution_count": null,
   "metadata": {},
   "outputs": [],
   "source": [
    "import matplotlib.pyplot as plt\n",
    "import networkx as nx\n",
    "\n",
    "G = nx.DiGraph()\n",
    "G.add_edge(\"1\", \"2\", weight=6)\n",
    "G.add_edge(\"1\", \"3\", weight=5)\n",
    "G.add_edge(\"1\", \"4\", weight=5)\n",
    "G.add_edge(\"2\", \"5\", weight=-1)\n",
    "G.add_edge(\"3\", \"2\", weight=-2)\n",
    "G.add_edge(\"3\", \"5\", weight=1)\n",
    "G.add_edge(\"4\", \"3\", weight=-2)\n",
    "G.add_edge(\"4\", \"6\", weight=-1)\n",
    "G.add_edge(\"5\", \"7\", weight=3)\n",
    "G.add_edge(\"6\", \"7\", weight=3)"
   ]
  },
  {
   "cell_type": "markdown",
   "metadata": {},
   "source": [
    "- Let's suppose the problem requires us to find the shortest path from node 1 to all other nodes\n",
    "\n",
    "- We init an array of size 7, which we call `distance_from_node1 = [inf, inf, inf, inf, inf, inf, inf]`\n",
    "\n",
    "- Like in Dijkstra's, let's start at node 1 and traverse all edges\n",
    "\n",
    "- Iteration 1\n",
    "    - Check 1 and 2\n",
    "        - `distance_from_node1 = [0, 6, inf, inf, inf, inf, inf]`\n",
    "    - Check 1 and 3\n",
    "        - `distance_from_node1 = [0, 6, 5, inf, inf, inf, inf]`\n",
    "    - Check 1 and 4\n",
    "        - `distance_from_node1 = [0, 6, 5, 5, inf, inf, inf]`\n",
    "    - Check 2 and 5\n",
    "        - `distance_from_node1 = [0, 6, 5, 5, 5, inf, inf]`\n",
    "    - Check 3 and 2\n",
    "        - `5 - 2 = 3` is < 6 replace\n",
    "        - `distance_from_node1 = [0, 3, 5, 5, 5, inf, inf]`\n",
    "    - Check 3 and 5\n",
    "        - `5 + 1 = 6` > 4, no replace\n",
    "        - `distance_from_node1 = [0, 3, 5, 5, 5, inf, inf]`\n",
    "    - Check 4 and 3\n",
    "        - `5 - 2 = 3` is < 5, replace\n",
    "        - `distance_from_node1 = [0, 3, 3, 5, 5, inf, inf]`\n",
    "    - Check 4 and 6\n",
    "        - `distance_from_node1 = [0, 3, 3, 5, 5, 4, inf]`\n",
    "    - Check 5 and 7\n",
    "        - `distance_from_node1 = [0, 3, 3, 5, 5, 4, 8]`\n",
    "    - Check 6 and 7\n",
    "        - `distance_from_node1 = [0, 3, 3, 5, 5, 4, 7]`\n",
    "\n",
    "- Iteration 2\n",
    "    - Check 1 and 2\n",
    "        - `distance_from_node1 = [0, 3, 3, 5, 5, 4, 7]`\n",
    "    - Check 1 and 3\n",
    "        - `distance_from_node1 = [0, 3, 3, 5, 5, 4, 7]`\n",
    "    - Check 1 and 4\n",
    "        - `distance_from_node1 = [0, 3, 3, 5, 5, 4, 7]`\n",
    "    - Check 2 and 5\n",
    "        - `3 - 1 = 2` < 5\n",
    "        - `distance_from_node1 = [0, 3, 3, 5, 2, 4, 7]`\n",
    "    - Check 3 and 2\n",
    "        - `3 - 2 = 1` < 3\n",
    "        - `distance_from_node1 = [0, 1, 3, 5, 2, 4, 7]`\n",
    "    - Check 3 and 5\n",
    "        - `distance_from_node1 = [0, 1, 3, 5, 2, 4, 7]`\n",
    "    - Check 4 and 3\n",
    "        - `distance_from_node1 = [0, 1, 3, 5, 2, 4, 7]`\n",
    "    - Check 4 and 6\n",
    "        - `distance_from_node1 = [0, 1, 3, 5, 2, 4, 7]`\n",
    "    - Check 5 and 7\n",
    "        - `distance_from_node1 = [0, 1, 3, 5, 2, 4, 5]`\n",
    "    - Check 6 and 7\n",
    "        - `distance_from_node1 = [0, 1, 3, 5, 2, 4, 5]`\n",
    "    \n",
    "- Iteration 3\n",
    "    - Check 1 and 2\n",
    "        - `distance_from_node1 = [0, 1, 3, 5, 2, 4, 5]`\n",
    "    - Check 1 and 3\n",
    "        - `distance_from_node1 = [0, 1, 3, 5, 2, 4, 5]`\n",
    "    - Check 1 and 4\n",
    "        - `distance_from_node1 = [0, 1, 3, 5, 2, 4, 5]`\n",
    "    - Check 2 and 5\n",
    "        - `distance_from_node1 = [0, 1, 3, 5, 0, 4, 5]`\n",
    "    - Check 3 and 2\n",
    "        - `distance_from_node1 = [0, 1, 3, 5, 0, 4, 5]`\n",
    "    - Check 3 and 5\n",
    "        - `distance_from_node1 = [0, 1, 3, 5, 0, 4, 5]`\n",
    "    - Check 4 and 3\n",
    "        - `distance_from_node1 = [0, 1, 3, 5, 0, 4, 5]`        \n",
    "    - Check 4 and 6\n",
    "        - `distance_from_node1 = [0, 1, 3, 5, 0, 4, 5]`\n",
    "    - Check 5 and 7\n",
    "        - `distance_from_node1 = [0, 1, 3, 5, 0, 4, 3]`\n",
    "    - Check 6 and 7\n",
    "        - `distance_from_node1 = [0, 1, 3, 5, 0, 4, 3]`\n",
    "\n"
   ]
  },
  {
   "cell_type": "markdown",
   "metadata": {},
   "source": [
    "### Code Implementation"
   ]
  },
  {
   "cell_type": "markdown",
   "metadata": {},
   "source": [
    "- Assume input to the algorithm is a list of tuples, where each tuple is `(from_node, to_node, edge_weight)`\n",
    "- Like in Dijkstra's, let's make an adjacency map in the following structure `{from_node: (edge_weight, to_node)}`\n",
    "- Following this, we will go node by node to perform **relaxation**"
   ]
  },
  {
   "cell_type": "code",
   "execution_count": 6,
   "metadata": {},
   "outputs": [
    {
     "data": {
      "text/plain": [
       "{0: [(1, 6), (2, 5), (3, 5)],\n",
       " 1: [(4, -1)],\n",
       " 2: [(1, -2), (4, 1)],\n",
       " 3: [(2, -2), (5, -1)],\n",
       " 4: [(6, 3)],\n",
       " 5: [(6, 3)],\n",
       " 6: []}"
      ]
     },
     "execution_count": 6,
     "metadata": {},
     "output_type": "execute_result"
    }
   ],
   "source": [
    "inputs = [\n",
    "    (0,1,6), (0,2,5), (0,3,5), (1,4,-1), (2,1,-2), (2,4,1), (3,2,-2), (3,5,-1), (4,6,3), (5,6,3)\n",
    "]\n",
    "\n",
    "def make_adjacency_map(inputs: list[tuple[int, int, int]]) -> dict[int, list]:\n",
    "    res = {}\n",
    "    for from_node, to_node, edge_weight in inputs:\n",
    "        if from_node not in res:\n",
    "            res[from_node] = [(to_node, edge_weight)]\n",
    "        else:\n",
    "            res[from_node].append((to_node, edge_weight))\n",
    "        \n",
    "        if to_node not in res:\n",
    "            res[to_node] = []\n",
    "    return res\n",
    "\n",
    "adj_map = make_adjacency_map(inputs)\n",
    "adj_map"
   ]
  },
  {
   "cell_type": "code",
   "execution_count": 19,
   "metadata": {},
   "outputs": [
    {
     "data": {
      "text/plain": [
       "[0, 1, 3, 5, 0, 4, 3]"
      ]
     },
     "execution_count": 19,
     "metadata": {},
     "output_type": "execute_result"
    }
   ],
   "source": [
    "import math\n",
    "from collections import deque\n",
    "\n",
    "def bellman_ford(start_node: int, adj_map: dict):\n",
    "    ## init distances\n",
    "    dist = [math.inf for _ in range(len(adj_map))]\n",
    "    dist[start_node] = 0\n",
    "\n",
    "    ## we perform relaxation of all nodes N-1 times to guarantee minimum distance is identified\n",
    "    for _ in range(len(adj_map)-1):\n",
    "        # print('='*50)\n",
    "        \n",
    "        ## Unlike in dijkstra's, we don't just explore the edge with the minimum connection, but explore exhaustively. So use a queue instead of a a hea[]\n",
    "        queue = deque([(start_node, to, weight) for (to, weight) in adj_map.get(start_node, ())])\n",
    "        \n",
    "        ## maintain a set of nodes visited in an iteration. If\n",
    "        visited = set()\n",
    "        no_updates = True\n",
    "\n",
    "        ## In each iteration, go through every node\n",
    "        while queue:\n",
    "            # print('-'*25)\n",
    "            f, t, w = queue.popleft()\n",
    "            # print(f'{f=}, {t=}, {w=}')\n",
    "\n",
    "            if (f,t) in visited:\n",
    "                continue\n",
    "\n",
    "            if dist[t] > (dist[f] + w):\n",
    "                no_updates = False\n",
    "                dist[t] = dist[f] + w\n",
    "            \n",
    "            for to, weight in adj_map.get(t, ()):\n",
    "                queue.append((t, to, weight))\n",
    "            \n",
    "            visited.add((f,t))\n",
    "\n",
    "        ## If an entire iteration goes through without anything updating, don't need to do the remaining iterations\n",
    "        if no_updates:\n",
    "            return dist\n",
    "        \n",
    "    return dist\n",
    "            \n",
    "bellman_ford(0, adj_map)"
   ]
  },
  {
   "cell_type": "markdown",
   "metadata": {},
   "source": [
    "### Time Complexity"
   ]
  },
  {
   "cell_type": "markdown",
   "metadata": {},
   "source": [
    "- Time complexity\n",
    "    - Outer loop runs in $O(|V|)$ (where V is the number of vertices)\n",
    "    - Inner while loop runs in $O(|E|)$ (where E is the number of edges)\n",
    "        - In the worst case, $N$ nodes can have $(N * (N-1))/2$ edges, so the worst case for inner while loop is $N^2$\n",
    "    - Thus, worst case time complexity is $N^3$\n",
    "\n",
    "- Space complexity\n",
    "    - Bellman-Ford requires an extra array of size $N$, so space complexity is $O(N)$"
   ]
  },
  {
   "cell_type": "markdown",
   "metadata": {},
   "source": []
  }
 ],
 "metadata": {
  "kernelspec": {
   "display_name": "dsa-prep-3dngTr8Z-py3.12",
   "language": "python",
   "name": "python3"
  },
  "language_info": {
   "codemirror_mode": {
    "name": "ipython",
    "version": 3
   },
   "file_extension": ".py",
   "mimetype": "text/x-python",
   "name": "python",
   "nbconvert_exporter": "python",
   "pygments_lexer": "ipython3",
   "version": "3.12.6"
  }
 },
 "nbformat": 4,
 "nbformat_minor": 2
}
