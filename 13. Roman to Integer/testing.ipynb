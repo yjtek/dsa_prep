{
 "metadata": {
  "language_info": {
   "codemirror_mode": {
    "name": "ipython",
    "version": 3
   },
   "file_extension": ".py",
   "mimetype": "text/x-python",
   "name": "python",
   "nbconvert_exporter": "python",
   "pygments_lexer": "ipython3",
   "version": "3.8.5"
  },
  "orig_nbformat": 2,
  "kernelspec": {
   "name": "python385jvsc74a57bd07759b2334fd10e38b7f9760cfb727a713723db7821855a1fa926a11ffed69eb3",
   "display_name": "Python 3.8.5 64-bit ('3.8.5': pyenv)"
  },
  "metadata": {
   "interpreter": {
    "hash": "9892fafd1af1be696c57cfa36b32f0b848a83b584ebe196a32a915c591a14bc8"
   }
  }
 },
 "nbformat": 4,
 "nbformat_minor": 2,
 "cells": [
  {
   "cell_type": "code",
   "execution_count": 81,
   "metadata": {},
   "outputs": [],
   "source": [
    "# def solution(s):"
   ]
  },
  {
   "cell_type": "code",
   "execution_count": 82,
   "metadata": {},
   "outputs": [],
   "source": [
    "s = 'III' #3\n",
    "s = 'IX' #4\n",
    "s = 'LVIII' #58\n",
    "s = 'MCMXCIV' #1994\n",
    "lookup_dict = {'I': 1, 'V': 5, 'X': 10, 'L': 50, 'C': 100, 'D': 500, 'M': 1000}"
   ]
  },
  {
   "cell_type": "code",
   "execution_count": 95,
   "metadata": {},
   "outputs": [
    {
     "output_type": "execute_result",
     "data": {
      "text/plain": [
       "1994"
      ]
     },
     "metadata": {},
     "execution_count": 95
    }
   ],
   "source": [
    "val = 0\n",
    "for x in range(len(s)-1):\n",
    "    if lookup_dict[s[x]] > lookup_dict[s[x+1]]:\n",
    "        val += lookup_dict[s[x]]\n",
    "    else:\n",
    "        val -= lookup_dict[s[x]]\n",
    "val += lookup_dict[s[-1]]\n",
    "val"
   ]
  },
  {
   "cell_type": "code",
   "execution_count": 79,
   "metadata": {},
   "outputs": [
    {
     "output_type": "stream",
     "name": "stdout",
     "text": [
      "CPU times: user 3 µs, sys: 0 ns, total: 3 µs\nWall time: 5.01 µs\n"
     ]
    },
    {
     "output_type": "execute_result",
     "data": {
      "text/plain": [
       "1994"
      ]
     },
     "metadata": {},
     "execution_count": 79
    }
   ],
   "source": [
    "%time\n",
    "\n",
    "def romanToInt(s):\n",
    "    s_val = [lookup_dict[x] for x in list(s)]\n",
    "    val = sum([x if x >= y else -x for x,y in zip(s_val[:-1], s_val[1:])] + [s_val[-1]])\n",
    "    return val\n",
    "\n",
    "romanToInt(s)"
   ]
  },
  {
   "cell_type": "code",
   "execution_count": 80,
   "metadata": {},
   "outputs": [
    {
     "output_type": "stream",
     "name": "stdout",
     "text": [
      "CPU times: user 2 µs, sys: 0 ns, total: 2 µs\nWall time: 5.25 µs\n"
     ]
    },
    {
     "output_type": "execute_result",
     "data": {
      "text/plain": [
       "1994"
      ]
     },
     "metadata": {},
     "execution_count": 80
    }
   ],
   "source": [
    "%time\n",
    "\n",
    "def romanToInt(s: str) -> int:\n",
    "        translations = {\n",
    "            \"I\": 1,\n",
    "            \"V\": 5,\n",
    "            \"X\": 10,\n",
    "            \"L\": 50,\n",
    "            \"C\": 100,\n",
    "            \"D\": 500,\n",
    "            \"M\": 1000\n",
    "        }\n",
    "        number = 0\n",
    "        s = s.replace(\"IV\", \"IIII\").replace(\"IX\", \"VIIII\")\n",
    "        s = s.replace(\"XL\", \"XXXX\").replace(\"XC\", \"LXXXX\")\n",
    "        s = s.replace(\"CD\", \"CCCC\").replace(\"CM\", \"DCCCC\")\n",
    "        for char in s:\n",
    "            number += translations[char]\n",
    "        return number\n",
    "\n",
    "romanToInt(s)"
   ]
  },
  {
   "cell_type": "code",
   "execution_count": null,
   "metadata": {},
   "outputs": [],
   "source": [
    "## This is a nice solution because you don't need to zip multiple strings. Just make use of the string itself by keeping track of the previous value you were looking at.\n",
    "def romanToInt(self, s):\n",
    "    d = {'M':1000, 'D':500, 'C':100, 'L':50, 'X':10, 'V':5, 'I':1}\n",
    "    res, p = 0, 'I'\n",
    "    for c in s[::-1]:\n",
    "        res, p = res - d[c] if d[c] < d[p] else res + d[c], c\n",
    "    return res"
   ]
  }
 ]
}