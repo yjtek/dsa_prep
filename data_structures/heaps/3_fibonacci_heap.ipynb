{
 "cells": [
  {
   "cell_type": "markdown",
   "metadata": {},
   "source": [
    "## Fibonacci Heap"
   ]
  },
  {
   "cell_type": "markdown",
   "metadata": {},
   "source": [
    "- We have discussed the idea behind a min/max heap that allows us to add/pop the min/max value from an array in $O(\\log N)$ time. This was previously implemented as a binary heap\n",
    "\n",
    "- However, there are some optimisations that can be made to a regular binary heap\n",
    "    - \n",
    "\n",
    "- Generally, the advantages over a regular binary heap is not large. But in specific cases (e.g. in Dijkstra's / Prim's algorithm), it can lead to very significant speed ups"
   ]
  }
 ],
 "metadata": {
  "kernelspec": {
   "display_name": "dsa-prep-3dngTr8Z-py3.12",
   "language": "python",
   "name": "python3"
  },
  "language_info": {
   "codemirror_mode": {
    "name": "ipython",
    "version": 3
   },
   "file_extension": ".py",
   "mimetype": "text/x-python",
   "name": "python",
   "nbconvert_exporter": "python",
   "pygments_lexer": "ipython3",
   "version": "3.12.5"
  }
 },
 "nbformat": 4,
 "nbformat_minor": 2
}
