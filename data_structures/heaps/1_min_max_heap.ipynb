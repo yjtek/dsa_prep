{
 "cells": [
  {
   "cell_type": "markdown",
   "metadata": {},
   "source": [
    "## Min/Max Heap"
   ]
  },
  {
   "cell_type": "markdown",
   "metadata": {
    "vscode": {
     "languageId": "plaintext"
    }
   },
   "source": [
    "- Think of a min/max heap as a binary tree where the every node is smaller/larger than everything below it\n",
    "\n",
    "- In such a structure, the root node must hold the smallest/largest value!"
   ]
  },
  {
   "cell_type": "markdown",
   "metadata": {},
   "source": [
    "### Implementing Min/Max Heap"
   ]
  },
  {
   "cell_type": "markdown",
   "metadata": {},
   "source": [
    "- A heap is typically represented by an array\n",
    "\n",
    "- In the array representation of a binary tree, for a given node at index $i$\n",
    "    - the node's left/right children are found at $2i+1$ and $2i+2$\n",
    "        - e.g for node at index 2, the children are at index 5 and 6\n",
    "    - By the same logic, a node's parent can be found at $(i-1)//2$\n",
    "        - e.g. for node at index 5, the parent is at $(5-1)//2 = 2$\n",
    "        - e.g. for node at index 6, the parent is at $(6-1)//2 = 2$\n",
    "\n",
    "- A min/max heap is usually used as a priority queue of sorts, when you need to iteratively remove the object with the highest value in the queue \n",
    "    \n",
    "- So what kind of operations must a priority queue (i.e. a min/max heap) support?\n",
    "    - You must be able to retrieve the smallest/largest value `pop_min`\n",
    "        - Getting the min/max runs in $O(1)$ time\n",
    "        - But retaining the heap structure requires you to `heapify` the array after every pop, and that takes $O(\\log N)$ time\n",
    "    - You must be able to add an item to the queue `insert`\n",
    "        - You can insert and heapify, taking $O(\\log N)$ time\n",
    "    - You must be able to delete an item from the queue (regardless of where it is) `delete`\n",
    "        - You can delete and heapify, taking $O(\\log N)$ time"
   ]
  },
  {
   "cell_type": "code",
   "execution_count": 48,
   "metadata": {},
   "outputs": [],
   "source": [
    "min(None, 5)"
   ]
  },
  {
   "cell_type": "code",
   "execution_count": 57,
   "metadata": {},
   "outputs": [],
   "source": [
    "import math\n",
    "\n",
    "class MinHeap:\n",
    "    def __init__(self, input_arr: list):\n",
    "        self.heap_arr = self.build_heap(input_arr)\n",
    "    \n",
    "    def _safe_index(self, arr, index):\n",
    "        if index is None:\n",
    "            pass\n",
    "        if 0 < index < len(arr):\n",
    "            return arr[index]\n",
    "        return None\n",
    "\n",
    "    def _parent_index(self, index):\n",
    "        return (index - 1)//2\n",
    "\n",
    "    def _left_child_index(self, index):\n",
    "        return 2*index + 1\n",
    "    \n",
    "    def _right_child_index(self, index):\n",
    "        return 2*index + 2\n",
    "\n",
    "    def build_heap(self, input_arr: list):\n",
    "        tree_height = math.log2(len(input_arr))//1 + 1\n",
    "        last_node_index_before_terminal_level = int(2 ** (tree_height-1) - 2)\n",
    "        output_array = input_arr.copy()\n",
    "        \n",
    "        ## Don't need to bother about the last level, because there is no way to heapify down\n",
    "        for i in range(last_node_index_before_terminal_level, -1, -1):\n",
    "            output_array = self._heapify_down(output_array, i)\n",
    "        return output_array\n",
    "\n",
    "    def _heapify_up(self, arr: list, index: int):\n",
    "        if arr[index] < arr[self._parent_index(index)]:\n",
    "            arr[index], arr[self._parent_index(index)] = arr[self._parent_index(index)], arr[index]\n",
    "            self._heapify_up(arr, self._parent_index(index))\n",
    "        return arr\n",
    "\n",
    "    def _heapify_down(self, arr: list, index: int):\n",
    "        left_child_index = self._left_child_index(index)\n",
    "        right_child_index = self._right_child_index(index)\n",
    "\n",
    "        swap_with = None\n",
    "        if (left_child_index < len(arr)) and (arr[index] > arr[left_child_index]):\n",
    "            swap_with = left_child_index\n",
    "        if (right_child_index < len(arr)) and (arr[index] > arr[right_child_index]):\n",
    "            swap_with = right_child_index\n",
    "        if swap_with:\n",
    "            arr[index], arr[swap_with] = arr[swap_with], arr[index]\n",
    "            arr = self._heapify_down(arr, swap_with)\n",
    "        return arr\n",
    "        \n",
    "    def insert(self, val):\n",
    "        self.heap_arr.append(val)\n",
    "        self._heapify_up(self.heap_arr, len(self.heap_arr) - 1)\n",
    "\n",
    "    def _delete(self, index):\n",
    "        self.heap_arr[index], self.heap_arr[len(self.heap_arr)-1] = self.heap_arr[len(self.heap_arr)-1], self.heap_arr[index]\n",
    "        return_val = self.heap_arr[-1]\n",
    "        self.heap_arr = self.heap_arr[:-1]\n",
    "        self._heapify_down(self.heap_arr, index)\n",
    "        return return_val\n",
    "            \n",
    "    def pop_min(self):\n",
    "        return self._delete(0)\n",
    "\n",
    "    def peek(self):\n",
    "        return self.heap_arr[0]"
   ]
  },
  {
   "cell_type": "code",
   "execution_count": 58,
   "metadata": {},
   "outputs": [
    {
     "name": "stdout",
     "output_type": "stream",
     "text": [
      "[1, 5, 2, 8, 9, 3, 10]\n",
      "[1, 4, 2, 5, 9, 3, 10, 8]\n",
      "[2, 4, 3, 5, 9, 8, 10]\n"
     ]
    }
   ],
   "source": [
    "heap = MinHeap([1,5,2,8,9,3,10])\n",
    "print(heap.heap_arr)\n",
    "\n",
    "heap.insert(4)\n",
    "print(heap.heap_arr)\n",
    "\n",
    "heap.pop_min()\n",
    "print(heap.heap_arr)"
   ]
  },
  {
   "cell_type": "markdown",
   "metadata": {},
   "source": [
    "### Heapifying"
   ]
  },
  {
   "cell_type": "markdown",
   "metadata": {},
   "source": [
    "#### Insertion: Heapifying a single node"
   ]
  },
  {
   "cell_type": "markdown",
   "metadata": {},
   "source": [
    "- Let's suppose we have an existing heap [1,3,4,5,6,7], all nodes respect the heap structure\n",
    "\n",
    "- Suppose I want to add in a new node `2`\n",
    "\n",
    "- We start by appending `2` at the end, creating the array [1,3,4,5,6,7,2]\n",
    "\n",
    "- Now, the heap structure is broken. How can we regain the heap structure?\n",
    "\n",
    "- Simple! We `heapify_up` the 2 until it is in the appropriate node respecting the heap structure\n",
    "    - Compare 4 and 2\n",
    "    - 2 < 4, so swap 2 and 4. Now the array is [1,3,2,5,6,7,4]\n",
    "    - Compare 2 and 1. 2 > 1, so no swaps.\n",
    "    - In the worst case, 2 gets swapped $\\log N$ times (or the height of the binary tree)\n",
    "    - So worst case for `heapify_up` is $O(\\log N)$"
   ]
  },
  {
   "cell_type": "markdown",
   "metadata": {},
   "source": [
    "#### Build Heap: Heapifying a random array"
   ]
  },
  {
   "cell_type": "markdown",
   "metadata": {},
   "source": [
    "- Ok that was simply for a single node. But what if I want to do this for an entire random array?\n",
    "\n",
    "- First thought, let's run `heapify_up` for all nodes in our array!!\n",
    "    - So for each of $n$ nodes, we incur  $O(log N)$ from `heapify_up`\n",
    "    - Overall time complexity becomes $O(N \\log N)$\n",
    "\n",
    "- But is there an even better way? Turns out, there is. We can `heapify_down` instead, which runs in $O(N)$ time!!\n",
    "\n",
    "- Wait, but isn't this just doing the same thing, in the different direction? How can that possible get us from $O(N \\log N)$ to $O(N)$!?!?!\n",
    "\n",
    "- Let's check out the math:\n",
    "    - **Key insight**: If you `heapify_down`, you end up doing fewer steps on average, because half of the nodes of a binary tree are in the bottom level, where you don't can't `heapify_down` any further!!\n",
    "    - Why? \n",
    "        - Because $\\frac{1}{2}$ of the nodes are in the bottom level of the tree, where there is no need to heapify down!\n",
    "        - $\\frac{1}{4}$ are in the next lower level, where it will need to move down at most 1 level\n",
    "        - $\\frac{1}{8}$ are in the 2nd lowest level, where it will need to move down at most 2 levels\n",
    "        - etc...\n",
    "        - So asymptotically, for $n$ nodes, the max number of operations is $n \\cdot (\\frac{1}{2} \\cdot 0 + \\frac{1}{4} \\cdot 1 + ...) = n \\cdot 1 = n$\n",
    "    - Comparing what happens when you `heapify_up`\n",
    "        - for $n$ nodes, the max number of operations is $n \\cdot (\\frac{1}{2} \\cdot \\log{n} + \\frac{1}{4} \\cdot (\\log{n} - 1) + ...) \\approx n \\cdot \\log{n}$\n",
    "\n",
    "- $\\therefore$ `heapify_down` is MUCH more efficient when building a min/max heap from a random array!"
   ]
  },
  {
   "cell_type": "markdown",
   "metadata": {},
   "source": [
    "#### Why not `heapify_down` when heapifying a single node, if it's more efficient?"
   ]
  },
  {
   "cell_type": "markdown",
   "metadata": {},
   "source": [
    "- When adding a new node, we always add it to the end of the array (i.e. it becomes the lowest possible node), hence we `heapify_up`\n",
    "\n",
    "- Why not add it to the start and heapify down instead? First, let's establish that this gives a sensible answer\n",
    "    - Let's take an existing heap `[3,4,6,7,9,10]`\n",
    "    - Suppose, we want to add an `8` to the heap, and we append it to the array's start instead of the end\n",
    "    - Array becomes `[8,3,4,6,7,9,10]`\n",
    "    - Now we `heapify_down`\n",
    "    - Compare `8` to `3` and `4`, and swap it with `3`\n",
    "    - Array becomes `[3,8,4,6,7,9,10]`\n",
    "    - Compare `8` to `6` and `7`, and swap it with `6`\n",
    "    - Array becomes `[3,6,4,8,7,9,10]`\n",
    "\n",
    "- So `heapify_down` is valid when doing insertion, but it is considered less efficient than `heapify_up` because at every step, you need to make 2 comparisons (with `curr.left` and `curr.right`) instead of 1 (with `curr.parent`)"
   ]
  },
  {
   "cell_type": "markdown",
   "metadata": {},
   "source": [
    "#### Deletion: Removing a node"
   ]
  },
  {
   "cell_type": "markdown",
   "metadata": {},
   "source": [
    "- When deleting a node (no matter where you are deleting from), we run the a similar `heapify_down` process\n",
    "    - Swap the node you want to delete with the last node\n",
    "    - Remove the last node (thereby removing the node you want to delete)\n",
    "    - Run `heapify_down` on the swapped node, because it is probably larger/smaller than its children. All other nodes are not affected\n",
    "\n",
    "- As an example, let's say we have a heap $[5, 10, 15, 20, 25, 30, 35]$\n",
    "    - Let's suppose we want to delete `15`\n",
    "    - Swap `15` and last node to get $[5, 10, 35, 20, 25, 30, 15]$\n",
    "    - Remove last node to get $[5, 10, 35, 20, 25, 30]$\n",
    "    - `heapify_down` from `35`, comparing `35` and `30`, to get $[5, 10, 30, 20, 25, 35]$\n",
    "    - This is now a heap again, done in $O(\\log N)$ time \n"
   ]
  },
  {
   "cell_type": "markdown",
   "metadata": {},
   "source": [
    "### Uses of a Heap"
   ]
  },
  {
   "cell_type": "markdown",
   "metadata": {},
   "source": [
    "- Heaps are pretty useful data structures. We'll explore 3 uses:\n",
    "    1. Sorting: heapsort has O(n*logn) time complexity at worst\n",
    "    2. Greedy Graph Search — A* and Djikstra: greedy algorithms, such as the Djikstra’s shortest path, can use heaps to store priority-node pairs\n",
    "    3. Huffman Coding: heaps can be used to store and retrieve the two lowest-frequency trees"
   ]
  },
  {
   "cell_type": "markdown",
   "metadata": {},
   "source": [
    "#### HeapSort"
   ]
  },
  {
   "cell_type": "markdown",
   "metadata": {},
   "source": [
    "- Heaps are one of the ways you can sort a random array\n",
    "- First, build a heap from the random array, in $O(N)$\n",
    "- Then, pop from the root until the array is exhausted. Each pop (deletion) runs in $O(\\log N)$ time, and to exhaust the array will take us $O(N)$ time, giving us $O(N \\log N)$ "
   ]
  },
  {
   "cell_type": "code",
   "execution_count": 59,
   "metadata": {},
   "outputs": [
    {
     "data": {
      "text/plain": [
       "[1, 2, 3, 5, 8, 9, 10]"
      ]
     },
     "execution_count": 59,
     "metadata": {},
     "output_type": "execute_result"
    }
   ],
   "source": [
    "## Reusing MinHeap class from above\n",
    "\n",
    "def heapsort(input_arr: list):\n",
    "    heap = MinHeap(input_arr)\n",
    "    sorted_arr = []\n",
    "    while heap.heap_arr:\n",
    "        sorted_arr.append(heap.pop_min())\n",
    "    return sorted_arr\n",
    "\n",
    "heapsort([1,5,2,8,9,3,10])"
   ]
  }
 ],
 "metadata": {
  "kernelspec": {
   "display_name": "dsa-prep-3dngTr8Z-py3.12",
   "language": "python",
   "name": "python3"
  },
  "language_info": {
   "codemirror_mode": {
    "name": "ipython",
    "version": 3
   },
   "file_extension": ".py",
   "mimetype": "text/x-python",
   "name": "python",
   "nbconvert_exporter": "python",
   "pygments_lexer": "ipython3",
   "version": "3.12.5"
  }
 },
 "nbformat": 4,
 "nbformat_minor": 2
}
