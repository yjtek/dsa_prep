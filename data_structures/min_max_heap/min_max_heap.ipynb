{
 "cells": [
  {
   "cell_type": "markdown",
   "metadata": {},
   "source": [
    "## Min/Max Heap"
   ]
  },
  {
   "cell_type": "markdown",
   "metadata": {
    "vscode": {
     "languageId": "plaintext"
    }
   },
   "source": [
    "- Think of a min/max heap as a binary tree where the every node is smaller/larger than everything below it\n",
    "\n",
    "- In such a structure, the root node must hold the smallest/largest value!"
   ]
  },
  {
   "cell_type": "markdown",
   "metadata": {},
   "source": [
    "### Building a Min/Max Heap"
   ]
  },
  {
   "cell_type": "markdown",
   "metadata": {},
   "source": [
    "- A heap is typically represented by an array\n",
    "\n",
    "- In the array representation of a binary tree, for a given node at index $i$\n",
    "    - the node's left/right children are found at $2i+1$ and $2i+2$\n",
    "        - e.g for node at index 2, the children are at index 5 and 6\n",
    "    - By the same logic, a node's parent can be found at $(i-1)//2$\n",
    "        - e.g. for node at index 5, the parent is at $(5-1)//2 = 2$\n",
    "        - e.g. for node at index 6, the parent is at $(6-1)//2 = 2$\n",
    "\n",
    "- A min/max heap is usually used as a priority queue of sorts, when you need to iteratively remove the object with the highest value in the queue \n",
    "    \n",
    "- So what kind of operations must a priority queue (i.e. a min/max heap) support?\n",
    "    - You must be able to retrieve the smallest/largest value `pop_min`\n",
    "        - Getting the min/max runs in $O(1)$ time\n",
    "        - But retaining the heap structure requires you to `heapify` the array after every pop, and that takes $O(\\log N)$ time\n",
    "    - You must be able to add an item to the queue `insert`\n",
    "        - You can insert and heapify, taking $O(\\log N)$ time\n",
    "    - You must be able to delete an item from the queue (regardless of where it is) `delete`\n",
    "        - You can delete and heapify, taking $O(\\log N)$ time"
   ]
  },
  {
   "cell_type": "code",
   "execution_count": null,
   "metadata": {},
   "outputs": [],
   "source": [
    "class MinHeap:\n",
    "    def __init__(self, vals: list):\n",
    "        self.vals=vals\n",
    "    \n",
    "    def _parent_index(self, index):\n",
    "        return (index - 1)//2\n",
    "\n",
    "    def _left_child_index(self, index):\n",
    "        return 2*index + 1\n",
    "    \n",
    "    def _right_child_index(self, index):\n",
    "        return 2*index + 2\n",
    "\n",
    "    def _heapify(self, index_to_heapify: int):\n",
    "        \n",
    "\n",
    "    def insert(self, val):\n",
    "        ...\n",
    "\n",
    "    def delete(self, val):\n",
    "        ...\n",
    "\n",
    "    def pop_min(self):\n",
    "        ...\n",
    "\n",
    "    def peek(self):\n",
    "        return self.vals[0]"
   ]
  }
 ],
 "metadata": {
  "kernelspec": {
   "display_name": "dsa-prep-3dngTr8Z-py3.12",
   "language": "python",
   "name": "python3"
  },
  "language_info": {
   "name": "python",
   "version": "3.12.5"
  }
 },
 "nbformat": 4,
 "nbformat_minor": 2
}
