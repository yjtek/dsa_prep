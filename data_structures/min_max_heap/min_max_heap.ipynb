{
 "cells": [
  {
   "cell_type": "markdown",
   "metadata": {},
   "source": [
    "## Min/Max Heap"
   ]
  },
  {
   "cell_type": "markdown",
   "metadata": {
    "vscode": {
     "languageId": "plaintext"
    }
   },
   "source": [
    "- Think of a min/max heap as a binary tree where the every node is smaller/larger than everything below it\n",
    "\n",
    "- In such a structure, the root node must hold the smallest/largest value!"
   ]
  },
  {
   "cell_type": "markdown",
   "metadata": {},
   "source": [
    "### Implementing Min/Max Heap"
   ]
  },
  {
   "cell_type": "markdown",
   "metadata": {},
   "source": [
    "- A heap is typically represented by an array\n",
    "\n",
    "- In the array representation of a binary tree, for a given node at index $i$\n",
    "    - the node's left/right children are found at $2i+1$ and $2i+2$\n",
    "        - e.g for node at index 2, the children are at index 5 and 6\n",
    "    - By the same logic, a node's parent can be found at $(i-1)//2$\n",
    "        - e.g. for node at index 5, the parent is at $(5-1)//2 = 2$\n",
    "        - e.g. for node at index 6, the parent is at $(6-1)//2 = 2$\n",
    "\n",
    "- A min/max heap is usually used as a priority queue of sorts, when you need to iteratively remove the object with the highest value in the queue \n",
    "    \n",
    "- So what kind of operations must a priority queue (i.e. a min/max heap) support?\n",
    "    - You must be able to retrieve the smallest/largest value `pop_min`\n",
    "        - Getting the min/max runs in $O(1)$ time\n",
    "        - But retaining the heap structure requires you to `heapify` the array after every pop, and that takes $O(\\log N)$ time\n",
    "    - You must be able to add an item to the queue `insert`\n",
    "        - You can insert and heapify, taking $O(\\log N)$ time\n",
    "    - You must be able to delete an item from the queue (regardless of where it is) `delete`\n",
    "        - You can delete and heapify, taking $O(\\log N)$ time"
   ]
  },
  {
   "cell_type": "code",
   "execution_count": null,
   "metadata": {},
   "outputs": [],
   "source": [
    "class MinHeap:\n",
    "    def __init__(self, vals: list):\n",
    "        self.vals=vals\n",
    "    \n",
    "    def _parent_index(self, index):\n",
    "        return (index - 1)//2\n",
    "\n",
    "    def _left_child_index(self, index):\n",
    "        return 2*index + 1\n",
    "    \n",
    "    def _right_child_index(self, index):\n",
    "        return 2*index + 2\n",
    "\n",
    "    def _heapify_up(self, heapify_from_index: int):\n",
    "        \n",
    "        \n",
    "\n",
    "    def insert(self, val):\n",
    "        ...\n",
    "\n",
    "    def delete(self, val):\n",
    "        ...\n",
    "\n",
    "    def pop_min(self):\n",
    "        ...\n",
    "\n",
    "    def peek(self):\n",
    "        return self.vals[0]"
   ]
  },
  {
   "cell_type": "markdown",
   "metadata": {},
   "source": [
    "### Heapifying"
   ]
  },
  {
   "cell_type": "markdown",
   "metadata": {},
   "source": [
    "#### Heapifying a single node"
   ]
  },
  {
   "cell_type": "markdown",
   "metadata": {},
   "source": [
    "- Let's suppose we have an existing heap [1,3,4,5,6,7], all nodes respect the heap structure\n",
    "\n",
    "- Suppose I want to add in a new node `2`\n",
    "\n",
    "- We start by appending `2` at the end, creating the array [1,3,4,5,6,7,2]\n",
    "\n",
    "- Now, the heap structure is broken. How can we regain the heap structure?\n",
    "\n",
    "- Simple! We `heapify_up` the 2 until it is in the appropriate node respecting the heap structure\n",
    "    - Compare 4 and 2\n",
    "    - 2 < 4, so swap 2 and 4. Now the array is [1,3,2,5,6,7,4]\n",
    "    - Compare 2 and 1. 2 > 1, so no swaps.\n",
    "    - In the worst case, 2 gets swapped $\\log N$ times (or the height of the binary tree)\n",
    "    - So worst case for `heapify_up` is $O(\\log N)$"
   ]
  },
  {
   "cell_type": "markdown",
   "metadata": {},
   "source": [
    "#### Heapifying a random array"
   ]
  },
  {
   "cell_type": "markdown",
   "metadata": {},
   "source": [
    "- Ok that was simply for a single node. But what if I want to do this for an entire random array?\n",
    "\n",
    "- First thought, let's run `heapify_up` for all nodes in our array!!\n",
    "    - So for each of $n$ nodes, we incur  $O(log N)$ from `heapify_up`\n",
    "    - Overall time complexity becomes $O(N \\log N)$\n",
    "\n",
    "-"
   ]
  }
 ],
 "metadata": {
  "kernelspec": {
   "display_name": "dsa-prep-3dngTr8Z-py3.12",
   "language": "python",
   "name": "python3"
  },
  "language_info": {
   "name": "python",
   "version": "3.12.5"
  }
 },
 "nbformat": 4,
 "nbformat_minor": 2
}
