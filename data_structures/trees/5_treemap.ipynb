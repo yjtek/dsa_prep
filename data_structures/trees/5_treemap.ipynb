{
 "cells": [
  {
   "cell_type": "code",
   "execution_count": 28,
   "metadata": {},
   "outputs": [],
   "source": []
  },
  {
   "cell_type": "code",
   "execution_count": 31,
   "metadata": {},
   "outputs": [
    {
     "name": "stdout",
     "output_type": "stream",
     "text": [
      "==================================================\n",
      "DFS perm=[], count={1: 2, 2: 1}\n",
      "Looping n=1, perm=[], count={1: 2, 2: 1}\n",
      "Add value start: perm=[], count={1: 2, 2: 1}\n",
      "Recursion start: perm=[1], count={1: 1, 2: 1}\n",
      "==================================================\n",
      "   DFS perm=[1], count={1: 1, 2: 1}\n",
      "   Looping n=1, perm=[1], count={1: 1, 2: 1}\n",
      "   Add value start: perm=[1], count={1: 1, 2: 1}\n",
      "   Recursion start: perm=[1, 1], count={1: 0, 2: 1}\n",
      "==================================================\n",
      "      DFS perm=[1, 1], count={1: 0, 2: 1}\n",
      "      Looping n=1, perm=[1, 1], count={1: 0, 2: 1}\n",
      "      Looping n=2, perm=[1, 1], count={1: 0, 2: 1}\n",
      "      Add value start: perm=[1, 1], count={1: 0, 2: 1}\n",
      "      Recursion start: perm=[1, 1, 2], count={1: 0, 2: 0}\n",
      "==================================================\n",
      "         DFS perm=[1, 1, 2], count={1: 0, 2: 0}\n",
      "         Returning: perm=[1, 1, 2], count={1: 0, 2: 0}\n",
      "      Recursion return: perm=[1, 1, 2], count={1: 0, 2: 0}\n",
      "      Re-instating Value: perm=[1, 1], count={1: 0, 2: 1}\n",
      "      Ending: perm=[1, 1], count={1: 0, 2: 1}\n",
      "   Recursion return: perm=[1, 1], count={1: 0, 2: 1}\n",
      "   Re-instating Value: perm=[1], count={1: 1, 2: 1}\n",
      "   Looping n=2, perm=[1], count={1: 1, 2: 1}\n",
      "   Add value start: perm=[1], count={1: 1, 2: 1}\n",
      "   Recursion start: perm=[1, 2], count={1: 1, 2: 0}\n",
      "==================================================\n",
      "      DFS perm=[1, 2], count={1: 1, 2: 0}\n",
      "      Looping n=1, perm=[1, 2], count={1: 1, 2: 0}\n",
      "      Add value start: perm=[1, 2], count={1: 1, 2: 0}\n",
      "      Recursion start: perm=[1, 2, 1], count={1: 0, 2: 0}\n",
      "==================================================\n",
      "         DFS perm=[1, 2, 1], count={1: 0, 2: 0}\n",
      "         Returning: perm=[1, 2, 1], count={1: 0, 2: 0}\n",
      "      Recursion return: perm=[1, 2, 1], count={1: 0, 2: 0}\n",
      "      Re-instating Value: perm=[1, 2], count={1: 1, 2: 0}\n",
      "      Looping n=2, perm=[1, 2], count={1: 1, 2: 0}\n",
      "      Ending: perm=[1, 2], count={1: 1, 2: 0}\n",
      "   Recursion return: perm=[1, 2], count={1: 1, 2: 0}\n",
      "   Re-instating Value: perm=[1], count={1: 1, 2: 1}\n",
      "   Ending: perm=[1], count={1: 1, 2: 1}\n",
      "Recursion return: perm=[1], count={1: 1, 2: 1}\n",
      "Re-instating Value: perm=[], count={1: 2, 2: 1}\n",
      "Looping n=2, perm=[], count={1: 2, 2: 1}\n",
      "Add value start: perm=[], count={1: 2, 2: 1}\n",
      "Recursion start: perm=[2], count={1: 2, 2: 0}\n",
      "==================================================\n",
      "   DFS perm=[2], count={1: 2, 2: 0}\n",
      "   Looping n=1, perm=[2], count={1: 2, 2: 0}\n",
      "   Add value start: perm=[2], count={1: 2, 2: 0}\n",
      "   Recursion start: perm=[2, 1], count={1: 1, 2: 0}\n",
      "==================================================\n",
      "      DFS perm=[2, 1], count={1: 1, 2: 0}\n",
      "      Looping n=1, perm=[2, 1], count={1: 1, 2: 0}\n",
      "      Add value start: perm=[2, 1], count={1: 1, 2: 0}\n",
      "      Recursion start: perm=[2, 1, 1], count={1: 0, 2: 0}\n",
      "==================================================\n",
      "         DFS perm=[2, 1, 1], count={1: 0, 2: 0}\n",
      "         Returning: perm=[2, 1, 1], count={1: 0, 2: 0}\n",
      "      Recursion return: perm=[2, 1, 1], count={1: 0, 2: 0}\n",
      "      Re-instating Value: perm=[2, 1], count={1: 1, 2: 0}\n",
      "      Looping n=2, perm=[2, 1], count={1: 1, 2: 0}\n",
      "      Ending: perm=[2, 1], count={1: 1, 2: 0}\n",
      "   Recursion return: perm=[2, 1], count={1: 1, 2: 0}\n",
      "   Re-instating Value: perm=[2], count={1: 2, 2: 0}\n",
      "   Looping n=2, perm=[2], count={1: 2, 2: 0}\n",
      "   Ending: perm=[2], count={1: 2, 2: 0}\n",
      "Recursion return: perm=[2], count={1: 2, 2: 0}\n",
      "Re-instating Value: perm=[], count={1: 2, 2: 1}\n",
      "Ending: perm=[], count={1: 2, 2: 1}\n"
     ]
    },
    {
     "data": {
      "text/plain": [
       "[[1, 1, 2], [1, 2, 1], [2, 1, 1]]"
      ]
     },
     "execution_count": 31,
     "metadata": {},
     "output_type": "execute_result"
    }
   ],
   "source": []
  },
  {
   "cell_type": "code",
   "execution_count": null,
   "metadata": {},
   "outputs": [],
   "source": [
    "- {1:1, 2:1, 3:1}\n",
    "    - {1:0, 2:1, 3:1}\n",
    "        - {1:0, 2:1, 3:1}\n",
    "        - {1:0, 2:0, 3:1} \n",
    "            - {1:0, 2:0, 3:1}\n",
    "            - {1:0, 2:0, 3:1}\n",
    "            - {1:0, 2:0, 3:0}\n",
    "            - [1,2,3]\n",
    "            - {1:0, 2:0, 3:1}\n"
   ]
  }
 ],
 "metadata": {
  "kernelspec": {
   "display_name": "dsa-prep-3dngTr8Z-py3.12",
   "language": "python",
   "name": "python3"
  },
  "language_info": {
   "codemirror_mode": {
    "name": "ipython",
    "version": 3
   },
   "file_extension": ".py",
   "mimetype": "text/x-python",
   "name": "python",
   "nbconvert_exporter": "python",
   "pygments_lexer": "ipython3",
   "version": "3.12.6"
  }
 },
 "nbformat": 4,
 "nbformat_minor": 2
}
