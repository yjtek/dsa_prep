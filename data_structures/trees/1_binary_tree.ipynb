{
 "cells": [
  {
   "cell_type": "code",
   "execution_count": 1,
   "metadata": {},
   "outputs": [],
   "source": [
    "from typing import Optional\n",
    "\n",
    "class Node:\n",
    "    def __init__(self, val: int):\n",
    "        self.val: int = val\n",
    "        self.left: Optional[Node] = None\n",
    "        self.right: Optional[Node] = None"
   ]
  },
  {
   "cell_type": "markdown",
   "metadata": {},
   "source": [
    "## Binary Tree"
   ]
  },
  {
   "cell_type": "markdown",
   "metadata": {},
   "source": [
    "- A binary tree is a hierachical data structure where each node has (at most) 2 children, the left and right child\n",
    "- There are no restrictions for the value of the children vs their parents"
   ]
  },
  {
   "cell_type": "markdown",
   "metadata": {},
   "source": [
    "- Insertion/deletion from a BT is $O(N)$. Since there are no order-restrictions for the nodes, you basically just traverse the tree until you find an empty spot\n",
    "\n",
    "- This doesn't guarantee the tree remains balanced or anything fancy. It literally just inserts a value"
   ]
  },
  {
   "cell_type": "code",
   "execution_count": 24,
   "metadata": {},
   "outputs": [],
   "source": [
    "from collections import deque\n",
    "\n",
    "def insert(root: Node, insert_val: int):\n",
    "    '''\n",
    "    Traverse the height of the tree, so this is O(log N). If balanced tree is needed, then O(N)\n",
    "    '''\n",
    "    if root.left is None:\n",
    "        root.left = Node(insert_val)\n",
    "        return\n",
    "    \n",
    "    if root.right is None:\n",
    "        root.right = Node(insert_val)\n",
    "        return\n",
    "    \n",
    "    insert(root.left, insert_val)\n",
    "        \n",
    "\n",
    "def find(root: Node, find_val: int):\n",
    "    '''\n",
    "    Traverse the whole tree in the worst case, so O(N)\n",
    "    '''\n",
    "    pq = deque([root])\n",
    "    while pq:\n",
    "        curr = pq.pop()\n",
    "        if curr.val == find_val:\n",
    "            return True\n",
    "        if curr.left:\n",
    "            pq.append(curr.left)\n",
    "        if curr.right:\n",
    "            pq.append(curr.right)\n",
    "    return False\n",
    "            \n",
    "def delete(root: Node, delete_val: int):\n",
    "    '''\n",
    "    Traverse the whole tree in the worst case, so O(N)\n",
    "    '''\n",
    "    ## Find the node with the value to delete. \n",
    "    pq = deque([root])\n",
    "    while pq:\n",
    "        target = pq.pop()\n",
    "        if target.val == delete_val:\n",
    "            break\n",
    "        if target.left:\n",
    "            pq.append(target.left)\n",
    "        if target.right:\n",
    "            pq.append(target.right)\n",
    "    \n",
    "    if target.val != delete_val:\n",
    "        return \"No such value in tree\"\n",
    "    \n",
    "    ## Once you find the node to delete, find the bottom right node and swap it with the node to delete (i.e. swap values)\n",
    "    pq = deque([(None, root)])\n",
    "    while pq:\n",
    "        parent, curr = pq.pop()\n",
    "        if curr.left:\n",
    "            pq.append((curr, curr.left))\n",
    "        if curr.right:\n",
    "            pq.append((curr, curr.right))\n",
    "    \n",
    "    ## Change target to the value of the last node\n",
    "    target.val = curr.val\n",
    "    \n",
    "    ## Remove the last node from the Tree\n",
    "    if parent:\n",
    "        if parent.left == curr:\n",
    "            parent.left = None\n",
    "        else:\n",
    "            parent.right = None\n",
    "    \n",
    "    return root"
   ]
  },
  {
   "cell_type": "code",
   "execution_count": 12,
   "metadata": {},
   "outputs": [],
   "source": [
    "def inorder(root: Node):\n",
    "    if root.left:\n",
    "        inorder(root.left)\n",
    "    print(root.val)\n",
    "    if root.right:\n",
    "        inorder(root.right)\n"
   ]
  },
  {
   "cell_type": "code",
   "execution_count": 19,
   "metadata": {},
   "outputs": [
    {
     "name": "stdout",
     "output_type": "stream",
     "text": [
      "5\n",
      "3\n",
      "6\n",
      "2\n",
      "4\n"
     ]
    }
   ],
   "source": [
    "root = Node(2)\n",
    "root.left = Node(3)\n",
    "root.right = Node(4)\n",
    "root.left.left = Node(5)\n",
    "root.left.right = Node(6)\n",
    "inorder(root)"
   ]
  },
  {
   "cell_type": "code",
   "execution_count": 20,
   "metadata": {},
   "outputs": [
    {
     "name": "stdout",
     "output_type": "stream",
     "text": [
      "10\n",
      "5\n",
      "3\n",
      "6\n",
      "2\n",
      "4\n"
     ]
    }
   ],
   "source": [
    "insert(root, 10)\n",
    "inorder(root)"
   ]
  },
  {
   "cell_type": "code",
   "execution_count": 22,
   "metadata": {},
   "outputs": [
    {
     "data": {
      "text/plain": [
       "True"
      ]
     },
     "execution_count": 22,
     "metadata": {},
     "output_type": "execute_result"
    }
   ],
   "source": [
    "find(root,10)"
   ]
  },
  {
   "cell_type": "code",
   "execution_count": 23,
   "metadata": {},
   "outputs": [
    {
     "name": "stdout",
     "output_type": "stream",
     "text": [
      "5\n",
      "3\n",
      "6\n",
      "2\n",
      "4\n"
     ]
    }
   ],
   "source": [
    "delete(root, 10)\n",
    "inorder(root)"
   ]
  },
  {
   "cell_type": "markdown",
   "metadata": {},
   "source": [
    "## Binary Search Tree"
   ]
  },
  {
   "cell_type": "markdown",
   "metadata": {},
   "source": [
    "- Similar to a binary search tree is a hierachical data structure where each node has (at most) 2 children, the left and right child\n",
    "- Unlike a binary tree, however, BSTs enforce that every thing to the left of a parent (all children, grandchildren, etc) must be smaller than the root. And everything to the right must be larger\n",
    "- Because of this, all subtrees in a BST must also be BSTs themselves\n",
    "- Also because of this condition, BSTs generally do not accept duplicate values"
   ]
  },
  {
   "cell_type": "code",
   "execution_count": 102,
   "metadata": {},
   "outputs": [],
   "source": [
    "def insert(root: Node|None, insert_val: int):\n",
    "    '''\n",
    "    O(log N) because we can split the tree in half depending on whether insert is larger or smaller than root\n",
    "    In worst case of unbalanced tree, O(N)\n",
    "    '''\n",
    "    if root is None:\n",
    "        return Node(insert_val)\n",
    "\n",
    "    if insert_val < root.val:\n",
    "        root.left = insert(root.left, insert_val)\n",
    "    elif insert_val > root.val:\n",
    "        root.right = insert(root.right, insert_val)\n",
    "    else:\n",
    "        # do nothing if values match, cannot have duplicates in BST\n",
    "        return\n",
    "\n",
    "    return root\n",
    "\n",
    "def find(root: Node|None, find_val: int):\n",
    "    '''\n",
    "    O(log N)\n",
    "    O(N) if unbalanced tree\n",
    "    '''\n",
    "    if not root:\n",
    "        return None\n",
    "    \n",
    "    if root.val == find_val:\n",
    "        return root\n",
    "    \n",
    "    if root.val > find_val:\n",
    "        return find(root.left, find_val)\n",
    "    elif root.val < find_val:\n",
    "        return find(root.right, find_val)\n",
    "    \n",
    "def get_in_order_successor(root: Node):\n",
    "    '''\n",
    "    O(log N) because you only traverse 1 path\n",
    "    '''\n",
    "    curr = root.right\n",
    "    while curr and curr.left:\n",
    "        curr = curr.left\n",
    "    return curr\n",
    "\n",
    "def delete(root: Node|None, delete_val: int):\n",
    "    '''\n",
    "    O(log N) from the get_in_order_successtor\n",
    "    + O(log N) from the recursive delete\n",
    "    '''\n",
    "    \n",
    "    if not root:\n",
    "        return None\n",
    "    \n",
    "    #If delete val is smaller than root, search on left subtree\n",
    "    if root.val > delete_val:\n",
    "        root.left = delete(root.left, delete_val)\n",
    "\n",
    "    #If delete val is larger than root, search on right subtree\n",
    "    elif root.val < delete_val:\n",
    "        root.right = delete(root.right, delete_val)\n",
    "    \n",
    "    # if value matches, then we have found the node to delete\n",
    "    else:\n",
    "        if (not root.left) and (not root.right):\n",
    "            # if node to delete has no children, just return none. The parent.left/parent.right will simply be assigned None value\n",
    "            return None\n",
    "        elif (not root.left):\n",
    "            # if node to delete has 1 child, return the child. This will be assigned as one of the children of current node's parent\n",
    "            return root.right\n",
    "        elif (not root.right):\n",
    "            return root.left\n",
    "        else:\n",
    "            # if node to delete has 2 children, then it gets trickier\n",
    "            # because the node's children can also have their own children, and the BST structure must be preserved\n",
    "            # Therefore, when deleting a node with multiple children, you want to find the **in-order successor**\n",
    "            # That is, what is the next largest value that can take the place of the deleted node\n",
    "            successor = get_in_order_successor(root)\n",
    "            if successor:\n",
    "                root.val = successor.val\n",
    "                root.right = delete(root.right, successor.val)\n",
    "        \n",
    "    return root\n",
    "\n",
    "def inorder(root: Node):\n",
    "    if root.left:\n",
    "        inorder(root.left)\n",
    "    print(root.val)\n",
    "    if root.right:\n",
    "        inorder(root.right)\n",
    "\n",
    "def make_bst(arr: list[int]):\n",
    "    "
   ]
  },
  {
   "cell_type": "code",
   "execution_count": 106,
   "metadata": {},
   "outputs": [],
   "source": [
    "root = Node(10)\n",
    "root.left = Node(5)\n",
    "root.right = Node(15)\n",
    "root.right.left = Node(12)\n",
    "root.right.right = Node(18)"
   ]
  },
  {
   "cell_type": "code",
   "execution_count": 107,
   "metadata": {},
   "outputs": [
    {
     "name": "stdout",
     "output_type": "stream",
     "text": [
      "1\n",
      "5\n",
      "10\n",
      "12\n",
      "15\n",
      "18\n"
     ]
    }
   ],
   "source": [
    "insert(root, 1)\n",
    "inorder(root)"
   ]
  },
  {
   "cell_type": "code",
   "execution_count": 82,
   "metadata": {},
   "outputs": [],
   "source": [
    "find(root, 1)"
   ]
  },
  {
   "cell_type": "code",
   "execution_count": 108,
   "metadata": {},
   "outputs": [
    {
     "name": "stdout",
     "output_type": "stream",
     "text": [
      "1\n",
      "5\n",
      "10\n",
      "15\n",
      "18\n"
     ]
    }
   ],
   "source": [
    "delete(root, 12)\n",
    "inorder(root)"
   ]
  },
  {
   "cell_type": "markdown",
   "metadata": {},
   "source": [
    "### Constructing a BST"
   ]
  },
  {
   "cell_type": "markdown",
   "metadata": {},
   "source": [
    "- There are 2 ways to construct a BST given an array of integers\n",
    "    - Recursively, in $O(N \\log N)$ time and $O(N)$ space\n",
    "    - Iteratively, in $O(N)$ time and $O(N)$ space"
   ]
  },
  {
   "cell_type": "code",
   "execution_count": 121,
   "metadata": {},
   "outputs": [],
   "source": [
    "def inorder(root: Node):\n",
    "    if root.left:\n",
    "        inorder(root.left)\n",
    "    print(root.val)\n",
    "    if root.right:\n",
    "        inorder(root.right)"
   ]
  },
  {
   "cell_type": "code",
   "execution_count": 125,
   "metadata": {},
   "outputs": [
    {
     "name": "stdout",
     "output_type": "stream",
     "text": [
      "2\n",
      "3\n",
      "5\n",
      "6\n",
      "8\n",
      "10\n"
     ]
    }
   ],
   "source": [
    "arr = [10,5,2,8,3,6,]\n",
    "\n",
    "def add_val_to_tree(root: Node|None, val: int) -> Node|None:\n",
    "    '''\n",
    "    Time complexity: O(log N) for each val, because you traverse the height of the tree at worst. At worst, tree is very inbalanced, so O(N)\n",
    "    Space complexity: O(log N) if tree is balanced, O(N) is tree is inbalanced, because stack memory is used in the recursion\n",
    "    '''\n",
    "    if not root:\n",
    "        return Node(val)\n",
    "    if val < root.val:\n",
    "        root.left = make_bst(root.left, val)\n",
    "    elif val > root.val:\n",
    "        root.right = make_bst(root.right, val)\n",
    "    \n",
    "    return root\n",
    "\n",
    "def make_bst_recursive(arr: list[int]) -> Node|None:    \n",
    "    '''\n",
    "    Time complexity: Each call to `add_val_to_tree` is O(log N) on average. Since there are N vals in arr, then it is O(N log N). In the worst case, this may be N^2\n",
    "    Space complexity: Same as `add_val_to_tree`; O(log N) if tree is balanced, O(N) is tree is inbalanced, because stack memory is used in the recursion\n",
    "    '''\n",
    "    root = None\n",
    "    for val in arr:\n",
    "        root = add_val_to_tree(root, val)\n",
    "    return root\n",
    "\n",
    "root = make_bst_recursive(arr)\n",
    "inorder(root)"
   ]
  },
  {
   "cell_type": "code",
   "execution_count": 137,
   "metadata": {},
   "outputs": [],
   "source": [
    "def make_bst_iterative(arr: list[int]) -> Node|None:\n",
    "    '''\n",
    "    Time complexity: \n",
    "    Space complexity: \n",
    "    '''\n",
    "    root = None\n",
    "    for val in arr:\n",
    "        root = bst_iterative_insert(root, val)\n",
    "    return root\n",
    "\n",
    "def bst_iterative_insert(root: Node|None, val: int) -> Node:\n",
    "    if not root:\n",
    "        return Node(val)\n",
    "\n",
    "    curr = root\n",
    "    while curr:\n",
    "        if val < curr.val:\n",
    "            if not curr.left:\n",
    "                curr.left = Node(val)\n",
    "                return root\n",
    "            else:\n",
    "                curr = curr.left\n",
    "        if val > curr.val:\n",
    "            if not curr.right:\n",
    "                curr.right = Node(val)\n",
    "                return root\n",
    "            else:\n",
    "                curr = curr.right\n",
    "\n",
    "def inorder(root: Node):\n",
    "    if root.left:\n",
    "        inorder(root.left)\n",
    "    print(root.val)\n",
    "    if root.right:\n",
    "        inorder(root.right)"
   ]
  },
  {
   "cell_type": "code",
   "execution_count": 139,
   "metadata": {},
   "outputs": [
    {
     "name": "stdout",
     "output_type": "stream",
     "text": [
      "2\n",
      "3\n",
      "5\n",
      "6\n",
      "8\n",
      "10\n"
     ]
    }
   ],
   "source": [
    "arr = [10,5,2,8,3,6,]\n",
    "root = make_bst_iterative(arr)\n",
    "inorder(root)"
   ]
  }
 ],
 "metadata": {
  "kernelspec": {
   "display_name": "dsa-prep-3dngTr8Z-py3.12",
   "language": "python",
   "name": "python3"
  },
  "language_info": {
   "codemirror_mode": {
    "name": "ipython",
    "version": 3
   },
   "file_extension": ".py",
   "mimetype": "text/x-python",
   "name": "python",
   "nbconvert_exporter": "python",
   "pygments_lexer": "ipython3",
   "version": "3.12.6"
  }
 },
 "nbformat": 4,
 "nbformat_minor": 2
}
