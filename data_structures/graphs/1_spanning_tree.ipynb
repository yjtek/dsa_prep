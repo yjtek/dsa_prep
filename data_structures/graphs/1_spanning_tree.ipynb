{
 "cells": [
  {
   "cell_type": "markdown",
   "metadata": {},
   "source": [
    "## (Minimum) Spanning Tree"
   ]
  },
  {
   "cell_type": "markdown",
   "metadata": {},
   "source": [
    "### Definitions"
   ]
  },
  {
   "cell_type": "markdown",
   "metadata": {},
   "source": [
    "- Spanning Tree\n",
    "    - Let's assume, WLOG, a graph `G` with $V$ vertices, and $E$ edges  \n",
    "    - A spanning tree is defined as any subgraph `g` of `G` that includes every vertex of `G`\n",
    "        - In other words, it is the subset of edges that forms an acyclic tree where every node of the graph is part of the tree\n",
    "\n",
    "    - Properties of a spanning tree\n",
    "        - The number of vertices $V$ in the graph and the spanning tree are the same\n",
    "        - The spanning tree cannot contain cycles\n",
    "            - Therefore, for all vertices $V$ to be included in a spanning tree without cycles, count of edges $E$ in the spanning tree must be $E = V-1$\n",
    "        - The spanning tree must be connected. That is, there should not be separate components in the spanning tree\n",
    "        - The total cost (or weight) of the spanning tree is defined as the sum of the edge weights of all the edges of the spanning tree.\n",
    "\n",
    "- Minimum Spanning Tree\n",
    "    - The minimum spanning tree of a graph `G` is the spanning tree with the least weight among all possible spanning trees"
   ]
  }
 ],
 "metadata": {
  "language_info": {
   "name": "python"
  }
 },
 "nbformat": 4,
 "nbformat_minor": 2
}
