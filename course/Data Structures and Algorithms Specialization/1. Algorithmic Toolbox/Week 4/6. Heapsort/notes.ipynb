{
 "cells": [
  {
   "cell_type": "markdown",
   "metadata": {},
   "source": [
    "### Heapsort "
   ]
  },
  {
   "cell_type": "markdown",
   "metadata": {},
   "source": [
    "- We've covered merge sort and quicksort. Now we look another common sorting algorithm Heap sort\n",
    "\n",
    "- The "
   ]
  }
 ],
 "metadata": {
  "language_info": {
   "name": "python"
  }
 },
 "nbformat": 4,
 "nbformat_minor": 2
}
