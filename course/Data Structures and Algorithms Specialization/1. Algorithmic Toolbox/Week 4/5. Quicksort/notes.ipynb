{
 "cells": [
  {
   "cell_type": "markdown",
   "metadata": {},
   "source": [
    "### Quick Sort"
   ]
  },
  {
   "cell_type": "markdown",
   "metadata": {},
   "source": [
    "- Quick sort is a comparison-based sorting algorithm, and is $O(n \\log(n))$ run time on average\n",
    "- The idea of quick sort is quite simple, but takes some getting used to. We'll talk through this using an example\n",
    "    - Imagine we have an input array [6,4,2,3,9,8,9,4,7,6,1]\n",
    "    - We first need to choose a value to sort against, known as the **pivot**. \n",
    "        - We will iterate through this list, and compare all the other values to this pivot\n",
    "        - At the end of this process, we want to end up with 2 regions. One of the regions will have all values $v \\le \\text{pivot}$, and the other will have values $v \\gt \\text{pivot}$\n",
    "        - Finally, we place our pivot in the middle of these 2 regions, and the pivot is now in the correct position\n",
    "        - Call quicksort on the left and right regions\n",
    "- Intuition and issues\n",
    "    - Quicksort is faster because we are iteratively halving our sort space. Though the first sort requires a full scan of $n$ elements, we are recursively halving the comparisons, thus creating the $\\log(n)$\n",
    "    - However, quicksort performance is very dependent on your pivot choice. It is only $O(n \\log(n))$ on average. In the worst case, it is $O(N^2)$, which is basically selection sort\n",
    "    - To see how it is $O(N^2)$ in the worst case, we can simply imagine a list that is already sorted, and we pick the pivot from the end of the list\n",
    "    - So instead of halving the list at each iteration, we are simply removing the last element"
   ]
  },
  {
   "cell_type": "code",
   "execution_count": 124,
   "metadata": {},
   "outputs": [
    {
     "data": {
      "text/plain": [
       "[1, 2, 3, 4, 5, 7, 8, 9, 10]"
      ]
     },
     "execution_count": 124,
     "metadata": {},
     "output_type": "execute_result"
    }
   ],
   "source": [
    "def quicksort(array, left_inclusive, right_inclusive, verbose=False, log_recurs=0):\n",
    "    '''\n",
    "    Time complexity: O(N log(N)) on average, O(N^2) in worst case\n",
    "    Space complexity: O(N) because we are just permuting the same input array\n",
    "    '''\n",
    "\n",
    "    indent = ' '*3*log_recurs\n",
    "    if verbose:\n",
    "        print(indent + '='*50)\n",
    "        print(indent + f'Calling {array=} from {left_inclusive=} to {right_inclusive=}')\n",
    "\n",
    "    # If left and right indices are the same, then array is already sorted\n",
    "    if left_inclusive >= right_inclusive:\n",
    "        return array\n",
    "    \n",
    "    # take last value as the pivot value\n",
    "    pivot = array[right_inclusive]\n",
    "    if verbose:\n",
    "        print(indent + f'Pivot value from index {right_inclusive=} is {array[right_inclusive]=}')\n",
    "\n",
    "    # Loop from leftmost index to second last value, since last value is pivot\n",
    "    left_segment_end_index = left_inclusive\n",
    "    if verbose:\n",
    "        print(f\"{indent} {array=}\")\n",
    "    for index in range(left_inclusive, right_inclusive):\n",
    "        if verbose:\n",
    "            print(indent + f'Comparing {array[index]=} with {pivot=}')\n",
    "        if array[index] <= pivot:\n",
    "            if verbose:\n",
    "                print(indent + f'{array[index]=} is less than {pivot=}')\n",
    "            array[index], array[left_segment_end_index] = array[left_segment_end_index], array[index]\n",
    "            left_segment_end_index+=1\n",
    "        if verbose:\n",
    "            print(f\"{indent} {array=}\")\n",
    "    array[right_inclusive], array[left_segment_end_index] = array[left_segment_end_index], array[right_inclusive]\n",
    "    if verbose:\n",
    "        print(f\"{indent} {array=}\")\n",
    "    \n",
    "    array = quicksort(array, left_inclusive, left_segment_end_index-1, log_recurs=log_recurs+1, verbose=verbose)\n",
    "    array = quicksort(array, left_segment_end_index+1, right_inclusive, log_recurs=log_recurs+1, verbose=verbose)\n",
    "    return array\n",
    "\n",
    "    \n",
    "array = [10,4,9,1,8,3,7,2,5]\n",
    "quicksort(array,0,len(array)-1, verbose=False)\n",
    "    "
   ]
  },
  {
   "cell_type": "markdown",
   "metadata": {},
   "source": [
    "- We can increase the practical running time of quicksort by randomising the pivot instead of taking an arbitrary rightmost/leftmost element. With randomness, we are more likely to get even partitions, and thus get a $O(N \\log(N))$ run time"
   ]
  },
  {
   "cell_type": "code",
   "execution_count": 137,
   "metadata": {},
   "outputs": [
    {
     "data": {
      "text/plain": [
       "[1, 1, 1, 2, 3, 4, 5, 7, 8, 9, 10, 10]"
      ]
     },
     "execution_count": 137,
     "metadata": {},
     "output_type": "execute_result"
    }
   ],
   "source": [
    "import numpy as np\n",
    "\n",
    "def randomised_quicksort(array, left_inclusive, right_inclusive, verbose=False, log_recurs=0):\n",
    "    '''\n",
    "    Time complexity: O(N log(N)) on average, O(N^2) in worst case\n",
    "    Space complexity: O(N) because we are just permuting the same input array\n",
    "    '''\n",
    "    indent = ' '*3*log_recurs\n",
    "    if verbose:\n",
    "        print(indent + '='*50)\n",
    "        print(indent + f'Calling {array=} from {left_inclusive=} to {right_inclusive=}')\n",
    "\n",
    "    # If left and right indices are the same, then array is already sorted\n",
    "    if left_inclusive >= right_inclusive:\n",
    "        return array\n",
    "    \n",
    "    # take last value as the pivot value\n",
    "    pivot_index = np.random.randint(left_inclusive, right_inclusive, 1)[0]\n",
    "    pivot = array[pivot_index]\n",
    "    if verbose:\n",
    "        print(indent + f'Pivot value from index {pivot_index=} is {array[pivot_index]=}')\n",
    "\n",
    "    # Loop from leftmost index to second last value, since last value is pivot\n",
    "    array[pivot_index], array[right_inclusive] = array[right_inclusive], array[pivot_index]\n",
    "    left_segment_end_index = left_inclusive\n",
    "    if verbose:\n",
    "        print(f\"{indent} {array=}\")\n",
    "    for index in range(left_inclusive, right_inclusive):\n",
    "        if verbose:\n",
    "            print(indent + f'Comparing {array[index]=} with {pivot=}')\n",
    "        if array[index] <= pivot:\n",
    "            if verbose:\n",
    "                print(indent + f'{array[index]=} is less than {pivot=}')\n",
    "            array[index], array[left_segment_end_index] = array[left_segment_end_index], array[index]\n",
    "            left_segment_end_index+=1\n",
    "        if verbose:\n",
    "            print(f\"{indent} {array=}\")\n",
    "    array[right_inclusive], array[left_segment_end_index] = array[left_segment_end_index], array[right_inclusive]\n",
    "    if verbose:\n",
    "        print(f\"{indent} {array=}\")\n",
    "    \n",
    "    array = randomised_quicksort(array, left_inclusive, left_segment_end_index-1, log_recurs=log_recurs+1, verbose=verbose)\n",
    "    array = randomised_quicksort(array, left_segment_end_index+1, right_inclusive, log_recurs=log_recurs+1, verbose=verbose)\n",
    "    return array\n",
    "\n",
    "array = [10,4,9,10,1,8,1,3,7,1,2,5]\n",
    "randomised_quicksort(array,0,len(array)-1, verbose=False)"
   ]
  },
  {
   "cell_type": "markdown",
   "metadata": {},
   "source": [
    "- What happens to quicksort when all elements are equal to each other?\n",
    "    - It becomes $O(N^2)$!\n",
    "    - Because regardless of what element you choose, you will never split it into 2 even arrays, so you can't make use of the recursion fully\n",
    "\n",
    "- To overcome this issue, we can modify our partitioning approach\n",
    "    - Instead of maintaining 2 regions (left region < pivot and right region > pivot), we maintain 3 instead!\n",
    "    - left region where values < pivot\n",
    "    - middle region where values == pivot\n",
    "    - right region whre values > pivot"
   ]
  },
  {
   "cell_type": "code",
   "execution_count": null,
   "metadata": {},
   "outputs": [],
   "source": [
    "import numpy as np\n",
    "\n",
    "def quicksort_3waypartition(array, left_index, right_inndex):\n",
    "    if left_index >= right_index:\n",
    "        return array\n",
    "\n",
    "    pivot_index = np.random.randint(left_index, right_index, 1)[0]\n",
    "    pivot = array[pivot_index]\n",
    "    "
   ]
  },
  {
   "cell_type": "code",
   "execution_count": 1,
   "metadata": {},
   "outputs": [],
   "source": [
    "# import numpy as np\n",
    "\n",
    "# def quicksort_3waypartition(array, left_inclusive, right_inclusive, verbose=False, log_recurs=0):\n",
    "#     '''\n",
    "#     Time complexity: O(N log(N)) on average, O(N^2) in worst case\n",
    "#     Space complexity: O(N) because we are just permuting the same input array\n",
    "#     '''\n",
    "#     indent = ' '*3*log_recurs\n",
    "#     if verbose:\n",
    "#         print(indent + '='*50)\n",
    "#         print(indent + f'Calling {array=} from {left_inclusive=} to {right_inclusive=}')\n",
    "\n",
    "#     # If left and right indices are the same, then array is already sorted\n",
    "#     if left_inclusive >= right_inclusive:\n",
    "#         return array\n",
    "    \n",
    "#     # take random value as the pivot value\n",
    "#     pivot_index = np.random.randint(left_inclusive, right_inclusive, 1)[0]\n",
    "#     pivot = array[pivot_index]\n",
    "#     if verbose:\n",
    "#         print(indent + f'Pivot value from index {pivot_index=} is {array[pivot_index]=}')\n",
    "    \n",
    "#     # Put the pivot at the end of the list for ease of iteration\n",
    "#     array[pivot_index], array[right_inclusive] = array[right_inclusive], array[pivot_index]\n",
    "#     if verbose:\n",
    "#         print(indent + f'Placed pivot value at end of array, array is now {array=}')\n",
    "    \n",
    "#     # Keep track of where the left segment ends, and where the middle segment ends\n",
    "#     # Note that middle segment must start where the left segment ends\n",
    "#     left_segment_end_index = left_inclusive\n",
    "#     count_middle_segment = 0\n",
    "    \n",
    "#     if verbose:\n",
    "#         print(f\"{indent} {array=}\")\n",
    "    \n",
    "#     # Loop from leftmost index to second last value, since last value is pivot\n",
    "#     for index in range(left_inclusive, right_inclusive):\n",
    "#         if verbose:\n",
    "#             print(indent + f'Comparing {index=} {array[index]=} with {pivot=}')\n",
    "        \n",
    "#         # If the current value is less than or equal to pivot, swap with the end of the left segment and increment left segment end pointer by 1\n",
    "#         # The \n",
    "#         if array[index] <= pivot:\n",
    "#             if verbose:\n",
    "#                 print(indent + f'{array[index]=} is less than or equal to {pivot=}')\n",
    "            \n",
    "#             array[index], array[left_segment_end_index] = array[left_segment_end_index], array[index]\n",
    "            \n",
    "#             left_segment_end_index+=1\n",
    "            \n",
    "#             # If it is exactly equal to the pivot, then increment the count of the middle segment by 1\n",
    "#             # Then, swap the index to by at the end of the middle segment\n",
    "#             if array[index] == pivot:\n",
    "#                 print(indent + f'{array[index]=} is equal to {pivot=}')\n",
    "#                 count_middle_segment += 1\n",
    "#                 array[index], array[left_segment_end_index + count_middle_segment] = array[left_segment_end_index + count_middle_segment], array[index]\n",
    "                        \n",
    "#         if verbose:\n",
    "#             print(f\"{indent} {array=}\")\n",
    "        \n",
    "#     # Finally, put the pivot in the correct position, which is at the end of the left segment\n",
    "#     array[right_inclusive], array[left_segment_end_index] = array[left_segment_end_index], array[right_inclusive]\n",
    "#     right_segment_start = left_segment_end_index - count_middle_segment\n",
    "\n",
    "#     if verbose:\n",
    "#         print(f\"{indent} {array=}\")\n",
    "    \n",
    "#     array = quicksort_3waypartition(array, left_inclusive, left_segment_end_index-1, log_recurs=log_recurs+1, verbose=verbose)\n",
    "#     array = quicksort_3waypartition(array, right_segment_start, right_inclusive, log_recurs=log_recurs+1, verbose=verbose)\n",
    "#     return array\n",
    "\n",
    "# array = [1,5,1,5,1,5]\n",
    "# quicksort_3waypartition(array,0,len(array)-1, verbose=True)"
   ]
  }
 ],
 "metadata": {
  "kernelspec": {
   "display_name": "kaggle",
   "language": "python",
   "name": "python3"
  },
  "language_info": {
   "codemirror_mode": {
    "name": "ipython",
    "version": 3
   },
   "file_extension": ".py",
   "mimetype": "text/x-python",
   "name": "python",
   "nbconvert_exporter": "python",
   "pygments_lexer": "ipython3",
   "version": "3.10.4"
  }
 },
 "nbformat": 4,
 "nbformat_minor": 2
}
