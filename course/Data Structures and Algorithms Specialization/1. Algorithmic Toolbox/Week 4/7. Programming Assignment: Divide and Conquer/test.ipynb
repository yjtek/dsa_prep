{
 "cells": [
  {
   "cell_type": "code",
   "execution_count": 13,
   "metadata": {},
   "outputs": [],
   "source": [
    "import numpy as np"
   ]
  },
  {
   "cell_type": "markdown",
   "metadata": {},
   "source": [
    "### 4.1 Sorted Array Multiple Search Problem"
   ]
  },
  {
   "cell_type": "markdown",
   "metadata": {},
   "source": [
    "- Sorted Array Multiple Search Problem: Search multiple keys in a sorted sequence of keys.\n",
    "    - **Input:** The first two lines of the input contain an integer $n$ and a sequence $k_0 \\lt k_1 \\lt ... \\lt k_{n−1}$ of $n$ distinct positive integers in increasing order. The next two lines contain an integer $m$ and $m$ positive integers $q_{0},q_{1},...,q_{m−1}$\n",
    "    - **Output:** For all $i$ from 0 to $m−1$, output an index $0 \\le j \\le n−1$ such that $k_j = q_i$, or −1, if there is no such index.\n",
    "    - **Constraints:** $1 \\le n \\le 3 \\cdot 10^4$; $1 \\le m \\le 10^5$; $1 \\le k_i \\le 10^9$ for all $0 \\le i \\le n$; $1 \\le q_j \\le 10^9$ for all $0 \\le j \\le m$\n",
    "    - **Sample:**\n",
    "        - 5 (Sequence length size)\n",
    "        - 1 5 8 12 13 (Sequence)\n",
    "        - 5 (Count of values to find)\n",
    "        - 8 1 23 1 11 (Values to find)\n",
    "        - Output: 2 0 -1 0 -1"
   ]
  },
  {
   "cell_type": "code",
   "execution_count": 18,
   "metadata": {},
   "outputs": [
    {
     "name": "stdout",
     "output_type": "stream",
     "text": [
      "2 0 -1 0 -1  \n",
      "2 0 -1 0 -1 "
     ]
    }
   ],
   "source": [
    "def binary_search_recursive(keys, query, left, right):\n",
    "    index = -1\n",
    "    mid = (left+right)//2\n",
    "\n",
    "    if keys[mid] == query:\n",
    "        return mid\n",
    "\n",
    "    if left >= right:\n",
    "        return -1\n",
    "\n",
    "    if keys[mid] < query:\n",
    "        left = mid+1\n",
    "        return binary_search_recursive(keys, query, left, right)\n",
    "     \n",
    "    if query < keys[mid]:\n",
    "        right = mid-1\n",
    "        return binary_search_recursive(keys, query, left, right)\n",
    "\n",
    "def binary_search_iterative(keys, query):\n",
    "    left = 0\n",
    "    right = len(keys)\n",
    "\n",
    "    while left < right:\n",
    "        mid = (left+right)//2\n",
    "\n",
    "        if keys[mid] == query:\n",
    "            return mid\n",
    "        elif keys[mid] < query:\n",
    "            left = mid+1\n",
    "        elif keys[mid] > query:\n",
    "            right = mid-1\n",
    "    \n",
    "    return -1\n",
    "\n",
    "def binary_search(keys, query):\n",
    "    return binary_search_recursive(keys, query, 0, len(keys)-1)\n",
    "\n",
    "input_keys = [1,5,8,12,13]\n",
    "input_queries = [8,1,23,1,11]\n",
    "\n",
    "# n = np.random.randint(1, 3e4)\n",
    "# m = np.random.randint(1, 1e6)\n",
    "# input_keys = list(np.random.randint(0, 1e10, n))\n",
    "# input_queries = list(np.random.randint(0, 1e10, m))\n",
    "\n",
    "for q in input_queries:\n",
    "    print(binary_search(input_keys, q), end=' ')\n",
    "print(' ')\n",
    "for q in input_queries:\n",
    "    print(binary_search_iterative(input_keys, q), end=' ')"
   ]
  },
  {
   "cell_type": "markdown",
   "metadata": {},
   "source": [
    "### 4.2 Binary Search with Duplicates"
   ]
  },
  {
   "cell_type": "markdown",
   "metadata": {},
   "source": [
    "- Binary Search with Duplicates Problem: Find the index of the first occurrence of a key in a sorted array\n",
    "    - **Input:** The first two lines of the input contain an integer $n$ and a sequence $k_0 \\le k_1 \\le ... \\le k_{n-1}$ of $n$ positive integers in non-decreasing order. The next two lines contain an integer $m$ and $m$ positive integers $q_0, q_1, ... q_{m-1}$\n",
    "    - **Output:** For all $i$ from 0 to $m-1$, output the index $0 \\le j \\le n-1$ of the first occurrence of $q_i$ (i.e. k_j = q_i) or -1, if there is no such index\n",
    "    - **Constraints:** $1 \\le n \\le 3 \\cdot 10^4; 1 \\le m \\le 10^5; 1 \\le k_i \\le 10^9$ for all $0 \\le i \\le n$; $1 \\le q_j \\le 10^9$ for all $0 \\le j \\le m$"
   ]
  },
  {
   "cell_type": "code",
   "execution_count": 3,
   "metadata": {},
   "outputs": [
    {
     "name": "stdout",
     "output_type": "stream",
     "text": [
      "6 1 -1 0 "
     ]
    }
   ],
   "source": [
    "def binary_search(keys, query):\n",
    "\n",
    "    ## init left and right pointers\n",
    "    left = 0\n",
    "    right = len(keys)\n",
    "    retval = -1\n",
    "\n",
    "    while left <= right:\n",
    "        mid = (left+right)//2\n",
    "        if keys[mid] == query:\n",
    "            retval = mid\n",
    "            right=mid-1\n",
    "        elif keys[mid] > query:\n",
    "            right=mid-1\n",
    "        elif keys[mid] < query:\n",
    "            left=mid+1\n",
    "    \n",
    "    return retval\n",
    "    \n",
    "input_keys = [2,4,4,4,7,7,9]\n",
    "input_queries = [9,4,5,2]\n",
    "# input_queries = [2]\n",
    "\n",
    "for q in input_queries:\n",
    "    print(binary_search(input_keys, q), end=' ')"
   ]
  },
  {
   "cell_type": "markdown",
   "metadata": {},
   "source": [
    "### 4.3 Majority Element\n",
    "\n",
    "- Check whether a given sequence of numbers contains an element that appears more than half of the times\n",
    "    - **Input** The first line contains an integer $n$, the next one contains a sequence of n non-negative integers. $a_0,...,a_{n−1}$\n",
    "    - **Output** Output 1 if the sequence contains an element that appears more than $\\frac{n}{2}$ times, and 0 otherwise\n",
    "    - **Constraints** $1 \\le n \\le 10^5$; $0 \\le a_i \\le 10^9$ for all $0 \\le i \\le n$\n",
    "    - **Sample**\n",
    "        1. 2 3 9 2 2 --> 1\n",
    "        2. 1 2 3 1 --> 0"
   ]
  },
  {
   "cell_type": "markdown",
   "metadata": {},
   "source": [
    "- There are a LOT of ways to do this. We'll go through them all here"
   ]
  },
  {
   "cell_type": "markdown",
   "metadata": {},
   "source": [
    "#### 4.3.1 Brute force"
   ]
  },
  {
   "cell_type": "markdown",
   "metadata": {},
   "source": [
    "- The most obvious (and compute terrible) way to do this is by brute force\n",
    "\n",
    "- We loop over every number in the array, and check the number of times it appears"
   ]
  },
  {
   "cell_type": "code",
   "execution_count": 3,
   "metadata": {},
   "outputs": [
    {
     "data": {
      "text/plain": [
       "0"
      ]
     },
     "execution_count": 3,
     "metadata": {},
     "output_type": "execute_result"
    }
   ],
   "source": [
    "input_array = [2,3,9,2,2]\n",
    "\n",
    "def majority_brute_force(input_array):\n",
    "    '''\n",
    "    Time complexity: O(N log(N)) + O(N) because you loop over the entire list. \n",
    "        - Hashmap insertion is O(log N), which we do N times. \n",
    "        - We loop across the array of size N, leading to another O(N) operation\n",
    "    Space complexity: O(N) because of the hashmap needed to store the values and counts\n",
    "    '''\n",
    "    store_val = {}\n",
    "    target = (len(input_array) // 2) + 1\n",
    "    for elem in input_array:\n",
    "        if elem not in store_val.keys(): \n",
    "            store_val[elem] = 1\n",
    "        else:\n",
    "            store_val[elem] += 1\n",
    "        if store_val[elem] >= target:\n",
    "            return 1\n",
    "    return 0\n",
    "        \n",
    "majority_brute_force([2,3,9,1,2])"
   ]
  },
  {
   "cell_type": "markdown",
   "metadata": {},
   "source": [
    "### 4.3.2 Moore's Voting Algorithm"
   ]
  },
  {
   "cell_type": "markdown",
   "metadata": {},
   "source": [
    "- Rather than the brute force solution to count all elements above, there is a more elegant approach\n",
    "\n",
    "- We iterate through the array and maintain 2 values; (i) the current guess of majority element; and (ii) excess count, i.e. the number that the current majority element exceeds the other elements by\n",
    "\n",
    "- At the end, whatever the current majority element is becomes our majority candidate, and we loop over the array once more to count the majority candidate\n",
    "\n",
    "- If the count exceeds $\\frac{n}{2}$, then it is the majority element. Else, no majority element exists"
   ]
  },
  {
   "cell_type": "code",
   "execution_count": 6,
   "metadata": {},
   "outputs": [
    {
     "data": {
      "text/plain": [
       "1"
      ]
     },
     "execution_count": 6,
     "metadata": {},
     "output_type": "execute_result"
    }
   ],
   "source": [
    "input_array = [2,3,9,2,2]\n",
    "\n",
    "def majority_moores(input_array):\n",
    "    '''\n",
    "    Time complexity: O(N) for the initial loop, and another O(N) for the second loop, for an overall O(N)\n",
    "    Space complexity: O(1), because constant data is stored\n",
    "    '''\n",
    "\n",
    "    majority_element = None\n",
    "    count_majority_excess = 0\n",
    "    for elem in input_array:\n",
    "        if count_majority_excess == 0:\n",
    "            majority_element = elem\n",
    "            count_majority_excess += 1\n",
    "        elif elem == majority_element:\n",
    "            count_majority_excess += 1\n",
    "        elif elem != majority_element:\n",
    "            count_majority_excess -= 1\n",
    "    \n",
    "    check_majority = 0\n",
    "    for elem in input_array:\n",
    "        if elem == majority_element:\n",
    "            check_majority += 1\n",
    "    \n",
    "    if check_majority >= ((len(input_array)//2)+1):\n",
    "        return 1\n",
    "    else:\n",
    "        return 0\n",
    "\n",
    "majority_moores(input_array)"
   ]
  },
  {
   "cell_type": "markdown",
   "metadata": {},
   "source": [
    "### 4.4 Speeding up RandomizedQuickSort"
   ]
  },
  {
   "cell_type": "markdown",
   "metadata": {},
   "source": [
    "- Sort a given sequence of numbers (that may contain duplicates) using a modification of RandomizedQuickSort that works in $O(n \\log n)$ expected time\n",
    "    - **Input:** An integer array with $n$ elements that may contain duplicates\n",
    "    - **Output:** Sorted array (generated using a modification of RandomizedQuickSort) that works in $O(N \\log(N))$ expected time\n",
    "    "
   ]
  },
  {
   "cell_type": "markdown",
   "metadata": {},
   "source": [
    "- Recall that Quicksort is slow when there are duplicates in the array (See section 5 notes on Quicksort)\n",
    "    - This is because, with duplicates, you can end up pivoting on values that are exactly the same as the pivot values, leading to imbalanced splits \n",
    "    - This creates $O(N^2)$ worst case run time\n",
    "\n",
    "- To fix this, we can implement 3-way quicksort as we previously did\n",
    "    - Maintain a pointer to the end of the left array\n",
    "    - Maintain a pointer to the start of the right array\n",
    "    - In the recursive step, ignore the middle part where all values are equal\n",
    "    - This will give us the $O(N \\log N)$ performance by guaranteeing more even splits\n",
    "\n",
    "    "
   ]
  },
  {
   "cell_type": "code",
   "execution_count": 18,
   "metadata": {},
   "outputs": [
    {
     "name": "stdout",
     "output_type": "stream",
     "text": [
      "[1, 2, 2, 2, 2, 2, 2, 3, 4, 4, 4, 5, 6, 6, 7, 7, 8, 9, 86]\n"
     ]
    }
   ],
   "source": [
    "from random import randint\n",
    "\n",
    "def partition3(array, left, right):\n",
    "    end_of_left_array = left+1\n",
    "    start_of_right_array = right\n",
    "    curr_index = left+1\n",
    "\n",
    "    while curr_index <= start_of_right_array:\n",
    "        # print(f\"{array=}, {curr_index=}\")\n",
    "        if array[curr_index] < array[left]:\n",
    "            array[curr_index], array[end_of_left_array] = array[end_of_left_array], array[curr_index]\n",
    "            end_of_left_array += 1\n",
    "            curr_index += 1\n",
    "        elif array[curr_index] > array[left]:\n",
    "            array[curr_index], array[start_of_right_array] = array[start_of_right_array], array[curr_index]\n",
    "            start_of_right_array -= 1\n",
    "        elif array[curr_index] == array[left]:\n",
    "            curr_index += 1\n",
    "    return end_of_left_array, start_of_right_array\n",
    "    \n",
    "def randomized_quick_sort(array, left, right):\n",
    "    if left >= right:\n",
    "        return\n",
    "    k = randint(left, right)\n",
    "    array[left], array[k] = array[k], array[left]\n",
    "    # print(array)\n",
    "\n",
    "    m1, m2 = partition3(array, left, right)\n",
    "    randomized_quick_sort(array, left, m1 - 1)\n",
    "    randomized_quick_sort(array, m2 + 1, right)\n",
    "\n",
    "input_array = [2,1,2,2,5,7,4,8,6,2,4,4,7,86,6,3,9,2,2]\n",
    "randomized_quick_sort(input_array, 0, len(input_array)-1)\n",
    "print(input_array)"
   ]
  },
  {
   "cell_type": "markdown",
   "metadata": {},
   "source": [
    "### 4.5 Number of Inversions"
   ]
  },
  {
   "cell_type": "markdown",
   "metadata": {},
   "source": [
    "- Compute the number of inversions in a sequence of integers\n",
    "    - **Input:** A seqeunce of $n$ integers $a_1, ... a_n$\n",
    "    - **Output:** The number of inversions in the sequence, i.e., the number of indices $i < j$ such that $a_i > a_j$.\n",
    "    - **Constraints:** $1 \\le n \\le 30 000$, $1 \\le a_i \\le 10^9$ for all $1 \\le i \\le n$\n",
    "    - **Sample:** \n",
    "        - 2 3 9 2 9 --> 2 (index (1,3) and index (2,3))"
   ]
  },
  {
   "cell_type": "markdown",
   "metadata": {},
   "source": [
    "- In section 4, we covered the idea of `mergesort`, which we can adapt to this problem\n",
    "    - We iteratively halve the size of the input array, until we reach singleton arrays. \n",
    "    - When we reach singletons, we compare the first elements of the left and right arrays (the `merge` step) and place the smaller element into the new array. \n",
    "    - Now, since we're interested in counting inversions, we can throw in an additional step. At each point, if we pick from the right array instead of the left array, we have encountered an inversion\n",
    "    - Furthermore, since both subarrays are already sorted at each call to `merge`, whenever we pick from the right array, the number of inversions must increase by the full size of the left array\n",
    "        - i.e. if the right array value is smaller than the leftmost value of the left array, it is smaller than all other values in the left array also\n",
    "    - Finally, return the count of inversions"
   ]
  },
  {
   "cell_type": "code",
   "execution_count": 5,
   "metadata": {},
   "outputs": [
    {
     "data": {
      "text/plain": [
       "[5, 4, 3, 2, 1]"
      ]
     },
     "execution_count": 5,
     "metadata": {},
     "output_type": "execute_result"
    }
   ],
   "source": [
    "test = [5,4,3,2,1]\n",
    "test2 = []\n",
    "# test2.append(test.pop(4))\n",
    "test2.extend(test)\n",
    "test2"
   ]
  },
  {
   "cell_type": "code",
   "execution_count": null,
   "metadata": {},
   "outputs": [],
   "source": [
    "def merge_sort(a):\n",
    "    if len(a) == 1:\n",
    "        return a\n",
    "\n",
    "    mid = len(a)//2\n",
    "    left_array = merge_sort(a[:mid])\n",
    "    right_array = merge_sort(a[mid:])\n",
    "    sorted_array = []\n",
    "    while (len(left_array) != 0) & (len(right_array) != 0):\n",
    "        if left_array[0] <= right_array[0]:\n",
    "            left_array "
   ]
  },
  {
   "cell_type": "code",
   "execution_count": 9,
   "metadata": {},
   "outputs": [
    {
     "data": {
      "text/plain": [
       "([1, 2, 3, 4, 5], 10)"
      ]
     },
     "execution_count": 9,
     "metadata": {},
     "output_type": "execute_result"
    }
   ],
   "source": [
    "from itertools import combinations\n",
    "\n",
    "def inversions_naive(a):\n",
    "    '''\n",
    "    Time complexity: O(N^2) because we loop over every possible pair\n",
    "    Space complexity: O(1) because we don't use any additional storage besides the original array\n",
    "    '''\n",
    "    number_of_inversions = 0\n",
    "    for i, j in combinations(range(len(a)), 2):\n",
    "        if a[i] > a[j]:\n",
    "            number_of_inversions += 1\n",
    "    return number_of_inversions\n",
    "\n",
    "def inversions_binary(a, count_inversions = 0):\n",
    "    '''\n",
    "    Time complexity: O(N log N). For each recursion, the while loop makes O(N) comparisons, and the depth of the call tree is O(log N) because we halve the array at each step\n",
    "    Space complexity: O(N) because we create a new sorted array to hold the sorted values\n",
    "    '''\n",
    "    mid = len(a)//2\n",
    "    if len(a) == 1:\n",
    "        return a, 0\n",
    "\n",
    "    left_array, count_invs_left = inversions_binary(a[:mid], count_inversions)\n",
    "    right_array, count_invs_right = inversions_binary(a[mid:], count_inversions)\n",
    "    sorted_array = []\n",
    "    count_inversions = count_invs_left + count_invs_right\n",
    "\n",
    "    while (len(left_array) != 0) & (len(right_array) != 0):\n",
    "        if left_array[0] <= right_array[0]:\n",
    "            sorted_array.append(left_array.pop(0))\n",
    "        else:\n",
    "            sorted_array.append(right_array.pop(0))\n",
    "            count_inversions += len(left_array)\n",
    "\n",
    "    if len(left_array) != 0:\n",
    "        sorted_array.extend(left_array)\n",
    "    \n",
    "    if len(right_array) != 0:\n",
    "        sorted_array.extend(right_array)\n",
    "\n",
    "    return sorted_array, count_inversions\n",
    "\n",
    "a = [5,4,3,2,1]\n",
    "inversions_binary(a, 0)"
   ]
  },
  {
   "cell_type": "markdown",
   "metadata": {},
   "source": [
    "### 4.6 Organizing a Lottery"
   ]
  },
  {
   "cell_type": "markdown",
   "metadata": {},
   "source": [
    "- You are organizing an online lottery. To participate, a person bets on a single integer. You then draw several segments of consecutive integers at random. A participant’s payoffis proportional to the number of segments that contain the participant’s number. You need an efficient algorithm for computing the payoffs for all participants. A simple scan of the list of all ranges for each participant is too slow since your lottery is very popular: you have thousands of participants and thousands of ranges.\n",
    "    - **Input:** A list of segments and a list of points.\n",
    "    - **Output:** The number of segments containing each point\n",
    "    - **Constraints:** $1 \\le n,m \\le 50000$; $10^8 \\le l_i \\le r_i \\le 10^8$ for all $1 \\le i \\le n$; $-10^8 \\le p_j \\le 10^8$ for all $1 \\le j \\le m$ \n",
    "    - **Samples:**\n",
    "        - Segments: (0,5), (7,10); Points: (1, 6, 11); Output: 1 0 0 \n",
    "        - Segments: (-10,10); Points: (-100, 100, 0); Output: 0 0 1\n",
    "        - Segments: (0,5), (-3,2), (7,10); Points: (1, 6); Output: 2 0"
   ]
  },
  {
   "cell_type": "markdown",
   "metadata": {},
   "source": [
    "- Idea\n",
    "    - Get and sort a list of all left boundaries $L$\n",
    "        - $O(N \\log (N))$\n",
    "    - Get and sort a list of all right boundaries $R$\n",
    "        - $O(N \\log (N))$\n",
    "    - Combine and sort $L, R$ with the list of points $P$, call it `combined`\n",
    "        - $O(2(N+M) \\log(2N + M))$\n",
    "    - Going from left to right in `combined`\n",
    "        - $O(2N + M)$\n",
    "        - Maintain a counter called `nested_count`, which keeps track of how many of the given line segments we are \"inside\"\n",
    "        - Maintain a hashmap called `count_point_intersection`\n",
    "        - When we encounter a value from $L$, increment `nested_count` by 1 (you are now \"inside\" a segment)\n",
    "        - When we encounter a value from $R$, decrement `nested_count` by 1 (you are leaving a segment)\n",
    "        - When we encounter a value from $P$, add $p$ as a key to `count_point_intersection` and set value to be `nested_count`\n",
    "        - Finally, retrieve the counts from the hashmap in order of the input keys and return as list "
   ]
  },
  {
   "cell_type": "code",
   "execution_count": 10,
   "metadata": {},
   "outputs": [
    {
     "data": {
      "text/plain": [
       "[2, 0]"
      ]
     },
     "execution_count": 10,
     "metadata": {},
     "output_type": "execute_result"
    }
   ],
   "source": [
    "def points_cover_sweepline(starts, ends, points):\n",
    "    '''\n",
    "    Time complexity: O(N+M log(N+M)) (see explainer above)\n",
    "    Space complexity: O(M) for extra hashmap and return list\n",
    "    '''\n",
    "\n",
    "    starts_tup = [(x, 'l') for x in starts]\n",
    "    ends_tup = [(x, 'r') for x in ends]\n",
    "    points_tup = [(x, 'p') for x in points]\n",
    "    sorted_array = sorted(starts_tup + ends_tup + points_tup, key = lambda x: (x[0], x[1]))\n",
    "\n",
    "    nested_count = 0\n",
    "    count_point_intersection = {}\n",
    "    for element in sorted_array:\n",
    "        if element[1] == 'l':\n",
    "            nested_count+=1\n",
    "        elif element[1] == 'r':\n",
    "            nested_count-=1\n",
    "        elif element[1] == 'p':\n",
    "            count_point_intersection[element[0]] = nested_count\n",
    "\n",
    "    retval = []\n",
    "    for point in points:\n",
    "        retval.append(count_point_intersection.get(point))\n",
    "    \n",
    "    return retval\n",
    "\n",
    "points_cover_sweepline([0,-3,7], [5,2,10], [1,6])"
   ]
  },
  {
   "cell_type": "markdown",
   "metadata": {},
   "source": [
    "### 4.7 Closest points"
   ]
  },
  {
   "cell_type": "markdown",
   "metadata": {},
   "source": [
    "- Find the closest pair of points in a set of points on a plane\n",
    "    - **Input:** A list of $n$ points on a plane\n",
    "    - **Output:** Minimum distance between a pair of these points\n",
    "    - **Constraints:** $2 \\le n \\le 10^5$; $-10^9 \\le x,y \\le 10^9$ are integers\n",
    "    - **Samples**\n",
    "        - Points: (0,0), (3,4) --> 5\n",
    "        - Points: (4,4), (-2,-2), (-3,-4), (-1,3), (2,3), (-4,0), (1,1), (-1,-1), (3,-1), (-4,2), (-2,4) --> 1.414213"
   ]
  },
  {
   "cell_type": "markdown",
   "metadata": {},
   "source": []
  }
 ],
 "metadata": {
  "kernelspec": {
   "display_name": "kaggle",
   "language": "python",
   "name": "python3"
  },
  "language_info": {
   "codemirror_mode": {
    "name": "ipython",
    "version": 3
   },
   "file_extension": ".py",
   "mimetype": "text/x-python",
   "name": "python",
   "nbconvert_exporter": "python",
   "pygments_lexer": "ipython3",
   "version": "3.10.4"
  }
 },
 "nbformat": 4,
 "nbformat_minor": 2
}
