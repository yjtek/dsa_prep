{
 "cells": [
  {
   "cell_type": "markdown",
   "metadata": {},
   "source": [
    "- Divide and conquer\n",
    "    - Divide a problem into non-overlapping subproblems that are of the same type as the original, then recombine"
   ]
  },
  {
   "cell_type": "markdown",
   "metadata": {},
   "source": [
    "- Linear search\n",
    "    - Input: Array $A$ with $n$ elements, and key $k$\n",
    "    - Output: Index $i$ where $A[i] = k$. If not found, output none.\n",
    "    - Linear search solves this by iterating through the array one by one to find matching values"
   ]
  },
  {
   "cell_type": "code",
   "execution_count": null,
   "metadata": {},
   "outputs": [],
   "source": [
    "def linear_search(array, low, high):\n",
    "    "
   ]
  }
 ],
 "metadata": {
  "kernelspec": {
   "display_name": "kaggle",
   "language": "python",
   "name": "python3"
  },
  "language_info": {
   "name": "python",
   "version": "3.10.4"
  }
 },
 "nbformat": 4,
 "nbformat_minor": 2
}
