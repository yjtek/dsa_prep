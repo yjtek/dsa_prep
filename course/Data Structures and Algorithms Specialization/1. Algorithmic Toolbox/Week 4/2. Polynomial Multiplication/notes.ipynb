{
 "cells": [
  {
   "cell_type": "markdown",
   "metadata": {},
   "source": [
    "### Application of Divide and Conquer in multiplying polynomials"
   ]
  },
  {
   "cell_type": "markdown",
   "metadata": {},
   "source": [
    "- We can apply divide and conquer on polynomial multiplcation to get more efficient product\n",
    "\n",
    "- Suppose $A(x) = 3x^2 + 2x + 5, B(x) = 5x^2 + x + 2$. Then $A(x) B(x) = 15x^4 + 13x^3 + 33 x^2 + 9x + 10$\n",
    "\n",
    "- General problems statement\n",
    "    - **Input:** 2 $n-1$ degree polynomials $A = a_{n-1} x^{n-1} + a_{n-2} x^{n-2} + ... a_1 x + a_0$ and $B = b_{n-1} x^{n-1} + b_{n-2} x^{n-2} + ... b_1 x + b_0$\n",
    "    - **Output:** The product polynomial $C = c_{2n-2} x^{2n-2} + c_{2n-3} x^{2n-3} + ... c_1 x + c_0$. Note the following relation between $a$, $b$ and $c$ coefficients:\n",
    "        - $c_{2n-2} = a_{n-1} \\cdot b_{n-1}$\n",
    "        - $c_{2n-3} = a_{n-1} \\cdot b_{n-2} + a_{n-2} \\cdot b_{n-1}$ \n",
    "        - $c_{2n-4} = a_{n-1} \\cdot b_{n-3} + a_{n-2} \\cdot b_{n-2} + a_{n-3} \\cdot b_{n-1}$ \n",
    "        - $...$\n",
    "        - $c_2 = a_{2} \\cdot b_{0} + a_{1} \\cdot b_{1} + a_{0} \\cdot b_{2}$\n",
    "        - $c_1 = a_{1} \\cdot b_{0} + a_{0} \\cdot b_{1}$\n",
    "        - $c_0 = a_{0} \\cdot b_{0}$\n",
    "\n",
    "- Rewriting the previous example\n",
    "    - **Input:** n=3, A = (3,2,5), B=(5,1,2)\n",
    "    - **Output:** C = (15, 13, 33, 9, 10)     "
   ]
  },
  {
   "cell_type": "markdown",
   "metadata": {},
   "source": [
    "- Naive solution\n",
    "    - To solve this, we can iterate through the coefficients in arrays $A$ and $B$. For every pair, we compute the value, and add it into the appropriate slot for $c$\n",
    "    - This is $O(N^2)$, so it's obviously bad"
   ]
  },
  {
   "cell_type": "code",
   "execution_count": 1,
   "metadata": {},
   "outputs": [],
   "source": [
    "def naive_mult_poly(A, B, n):\n",
    "    '''\n",
    "    time complexity: O(N^2) because of nested for loop\n",
    "    space complexity: O(N)\n",
    "    '''\n",
    "    product = [0] * ((2*n)-1)\n",
    "    for i in range(n-1):\n",
    "        for j in range(n-1):\n",
    "            product[i+j] += product[i+j] + (A[i] * B[j])\n",
    "    return product\n"
   ]
  },
  {
   "cell_type": "markdown",
   "metadata": {},
   "source": [
    "- Naive divide and conquer\n",
    "    - Surprisingly, there is a way to apply divide and conquer to solve this problem, though it isn't straightforward. \n",
    "    - Let's first try a naive divide and conquer approach\n",
    "    \n",
    "    - Let the 2 polynomials be $A = a_{n-1} x^{n-1} + a_{n-2}x^{n-2} + ... + a_{1}x + a_0$ and $B = b_{n-1}x^{n-1} + b_{n-2}x^{n-2} + ... + b_{1}x + b_0$. \n",
    "\n",
    "- To get the recursion, notice that we can rewrite $A = C \\cdot x^{\\frac{n}{2}} + D$ and $B = E \\cdot x^{\\frac{n}{2}} + F$ \n",
    "    $$A = (a_{n-1} x^{\\frac{n}{2} - 1} + a_{n-2} x^{\\frac{n}{2} - 2} + ... + a_{n - \\frac{n}{2}} x^{\\frac{n}{2} - \\frac{n}{2}}) \\cdot x^{\\frac{n}{2}} + (a_{\\frac{n}{2} - 1} x^{\\frac{n}{2} - 1} + a_{\\frac{n}{2} - 2} x^{\\frac{n}{2} - 2} + a_{\\frac{n}{2} - \\frac{n}{2}} x^{\\frac{n}{2} - \\frac{n}{2}})$$\n",
    "    - Basically we factor out $x^{\\frac{n}{2}}$ from all polynomial terms with $x^a \\ge x^{\\frac{n}{2}}$\n",
    "    - Notice that after factorising, the coefficient of $x^{\\frac{n}{2}}$ is just another polynomial. We can apply the same logic, and split that into a sum of its own sub polynomials!\n",
    "    - This iterative halving of the coefficient is the basis of the recursion\n",
    "\n",
    "- What is the base case of the recursion?\n",
    "    - This splitting of higher order polynomials will go on until we hit this case; $A = a_1 x + a_0$ and $B = b_1 x + b_0$, where the coefficients are no longer polynomials\n",
    "    - Multiplying it out, it is obvious that $A \\cdot B = a_1 b_1 x^2 + (a_1 b_0 + a_0 b_1) \\cdot x + a_0 b_0$\n",
    "    - So in the base case, we perform 4 operations; $(a_1 b_1, a_1 b_0, a_0 b_1, a_0 b_0)$\n",
    "\n",
    "- So clearly, at every step, 1 operation becomes 4! At each step, the amount of work is:\n",
    "    - Step 0: $4^0$\n",
    "    - Step 1: $4^1$\n",
    "    - Step 2: $4^2$\n",
    "    - ...\n",
    "    - Step n: $4^n$\n",
    "\n",
    "- How many times can we split the polynomial of degree $n$? \n",
    "    - Obviously, since we are halving the power at each step, we can do this for $\\log_2(n)$ steps\n",
    "\n",
    "- Recurrence relation: $T(n) = 4 T(\\frac{n}{2}) + kn$\n",
    "    - 4 because we are doing 4 operations\n",
    "    - $n/2$ because we are halving the polynomial degree\n",
    "    - $kn$ because we are taking the sum of $n$ coefficients, multiplied by some constant work $k$\n",
    "\n",
    "- So the total work done is $\\sum_{i=0}^{\\log_2(n)} 4^i$, \n",
    "    - This is $O(4^{\\log_2(n)}) = O(2^{2 \\log_2(n)}) = O(2^{\\log_2(n^2)}) = O(n^2)$\n"
   ]
  },
  {
   "cell_type": "code",
   "execution_count": 103,
   "metadata": {},
   "outputs": [
    {
     "data": {
      "text/plain": [
       "[0, 12, 17, 16, 10, 4, 1]"
      ]
     },
     "execution_count": 103,
     "metadata": {},
     "output_type": "execute_result"
    }
   ],
   "source": [
    "def naive_dnc_mult_poly(A, B, input_length, log_recurse_level=0):\n",
    "    '''\n",
    "    time complexity: O(N^2), from analysis above\n",
    "    '''\n",
    "    # log_recurse_level+=1\n",
    "    # print('='*50)\n",
    "    # print(f'Calling {A=} and {B=} and {input_length=}')\n",
    "    # print(f\"{log_recurse_level=}\")\n",
    "\n",
    "    if len(A) == len(B) == 1:\n",
    "        ret = [A[0] * B[0]]\n",
    "        # print(f\"Returning {ret=}\")\n",
    "        return ret\n",
    "    \n",
    "    if input_length % 2 != 0:\n",
    "        input_length += 1\n",
    "\n",
    "    if (len(A) < input_length):\n",
    "        A = A + (input_length-len(A)) * [0] \n",
    "    if (len(B) < input_length):\n",
    "        B = (input_length-len(B)) * [0] + B\n",
    "    \n",
    "    assert(len(A) == len(B))\n",
    "    \n",
    "    \n",
    "    # print(f'Modified {A=} and {B=} and {input_length=}')\n",
    "    mid_a = len(A) // 2\n",
    "    mid_b = len(B) // 2\n",
    "\n",
    "    left_half_array = naive_dnc_mult_poly(A[:mid_a], B[:mid_b], mid_a, log_recurse_level)\n",
    "    right_half_array = naive_dnc_mult_poly(A[mid_a:], B[mid_b:], mid_a, log_recurse_level)\n",
    "\n",
    "    c1 = naive_dnc_mult_poly(A[:mid_a], B[mid_b:], mid_a, log_recurse_level)\n",
    "    c2 = naive_dnc_mult_poly(A[mid_a:], B[:mid_b], mid_a, log_recurse_level)\n",
    "    mid_array = [v1+v2 for v1,v2 in zip(c1, c2)]\n",
    "\n",
    "    # print(f\"Pre-length mod: {left_half_array=}, {mid_array=}, {right_half_array=}\")\n",
    "    \n",
    "    expected_length = input_length*2 - 1\n",
    "    add_to_left_half_end = expected_length - len(left_half_array)\n",
    "    add_to_right_half_start = expected_length - len(right_half_array)\n",
    "    add_to_mid_end = (expected_length - len(mid_array)) // 2\n",
    "    add_to_mid_start = (expected_length - len(mid_array)) - add_to_mid_end\n",
    "    # print(f\"{expected_length=}, {add_to_left_half_end=}, {add_to_right_half_start=}, {add_to_mid_start=}, {add_to_mid_end=}\")\n",
    "\n",
    "    left_half_array = left_half_array + [0]*add_to_left_half_end\n",
    "    right_half_array = [0]*add_to_right_half_start + right_half_array\n",
    "    mid_array = [0]*add_to_mid_start + mid_array + [0]*add_to_mid_end\n",
    "    \n",
    "    final = [x+y+z for x,y,z in zip(left_half_array, mid_array, right_half_array)]\n",
    "    # print(f\"Combining: {left_half_array=}, {mid_array=}, {right_half_array=}\")\n",
    "    # print(f\"{final=}\")\n",
    "    return final\n",
    "\n",
    "A = [4,3,2,1]\n",
    "B = [0,3,2,1]\n",
    "naive_dnc_mult_poly(A, B, len(A), log_recurse_level=0)"
   ]
  },
  {
   "cell_type": "markdown",
   "metadata": {},
   "source": [
    "- So we have taken our original naive solution which was $O(N^2)$, and applied divide and conquer to get...another $O(N^2)$ solution. Not amazing\n",
    "\n",
    "- But we can be smarter about how we do this! \n",
    "    - Recall that we're rewriting polynomials $A$ and $B$ as $A = C x^{\\frac{n}{2}} + D$ and $B = E x^{\\frac{n}{2}} + F$ \n",
    "    - As we discussed above, when multiplying out $A$ and $B$, we're doing 4 multiplications $a_1 b_1, a_1 b_2, a_2 b_1, a_2 b_2$\n",
    "\n",
    " "
   ]
  },
  {
   "cell_type": "code",
   "execution_count": null,
   "metadata": {},
   "outputs": [],
   "source": []
  }
 ],
 "metadata": {
  "kernelspec": {
   "display_name": "kaggle",
   "language": "python",
   "name": "python3"
  },
  "language_info": {
   "codemirror_mode": {
    "name": "ipython",
    "version": 3
   },
   "file_extension": ".py",
   "mimetype": "text/x-python",
   "name": "python",
   "nbconvert_exporter": "python",
   "pygments_lexer": "ipython3",
   "version": "3.10.4"
  }
 },
 "nbformat": 4,
 "nbformat_minor": 2
}
