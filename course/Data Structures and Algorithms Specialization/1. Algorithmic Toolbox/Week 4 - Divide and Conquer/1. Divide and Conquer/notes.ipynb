{
 "cells": [
  {
   "cell_type": "markdown",
   "metadata": {},
   "source": [
    "### Divide and conquer"
   ]
  },
  {
   "cell_type": "markdown",
   "metadata": {},
   "source": [
    "- Divide a problem into non-overlapping subproblems that are of the same type as the original, then recombine"
   ]
  },
  {
   "cell_type": "markdown",
   "metadata": {},
   "source": [
    "### Linear Search"
   ]
  },
  {
   "cell_type": "markdown",
   "metadata": {},
   "source": [
    "- Linear search\n",
    "    - Input: Array $A$ with $n$ elements, and key $k$\n",
    "    - Output: Index $i$ where $A[i] = k$. If not found, output none.\n",
    "    - Linear search solves this by iterating through the array one by one to find matching values"
   ]
  },
  {
   "cell_type": "code",
   "execution_count": 1,
   "metadata": {},
   "outputs": [],
   "source": [
    "def linear_search_recurs(array, low, high, key):\n",
    "    if high < low:\n",
    "        return None\n",
    "    if array[low] == key:\n",
    "        return low\n",
    "    return linear_search_recurs(array, low+1, high, key)\n",
    "\n",
    "def linear_search_iter(array, low, high, key):\n",
    "    for i in range(low, high+1):\n",
    "        if array[i] == key:\n",
    "            return i\n",
    "    return None"
   ]
  },
  {
   "cell_type": "markdown",
   "metadata": {},
   "source": [
    "- Is linear search a recurrence relation? By defn, recurrence relation is just an equation that recursively defines a sequence of values (e.g. Fibonacci)\n",
    "\n",
    "- Let's define a recurrence relation as $T(n)$ where\n",
    "    - $T$ is the worst case time taken for the algorithm\n",
    "    - $n$ is the size of the problem\n",
    "\n",
    "- In the linear search example, $T(n) = T(n-1) + c$ where $c$ is a constant, and $T(0) = c$\n",
    "    - Basically means that the worst time for an $n$ sized problem is just the worst time for the $n-1$ sized problem plus some constant time (from comparison of high < low / array[low] == key) in code above\n",
    "    - Since each recurrence step takes a constant amount of work, the total work must be $\\sum_{i=0}^{n} c = \\Theta(n)$"
   ]
  },
  {
   "cell_type": "markdown",
   "metadata": {},
   "source": [
    "### Binary Search"
   ]
  },
  {
   "cell_type": "markdown",
   "metadata": {},
   "source": [
    "- Problem statement\n",
    "    - **Input:** Sorted array $A[\\text{low} ... \\text{high}]$ where $\\forall \\text{low} \\le i \\lt \\text{high}: A[i] \\le A[i+1]$. Key $k$\n",
    "    - **Output** Index $i$, where $A[i] = k$. Else, greatest index $i$ where $A[i] < k$. Else, $k \\lt A[\\text{low}]$, return $\\text{low} - 1$\n",
    "    - **Sample:** [3,5,8,20,20,50,60] -> search(2) = 0; search(3) = 1; search(5) = 2; search(61) = 8"
   ]
  },
  {
   "cell_type": "code",
   "execution_count": 25,
   "metadata": {},
   "outputs": [
    {
     "name": "stdout",
     "output_type": "stream",
     "text": [
      "==================================================\n",
      "array=[1, 2, 5, 7, 9, 10, 35, 36], array[low:high]=[1, 2, 5, 7, 9, 10, 35, 36], array[mid]=9, low=0, mid=4, high=8, key=36\n",
      "==================================================\n",
      "array=[1, 2, 5, 7, 9, 10, 35, 36], array[low:high]=[10, 35, 36], array[mid]=35, low=5, mid=6, high=8, key=36\n",
      "==================================================\n",
      "array=[1, 2, 5, 7, 9, 10, 35, 36], array[low:high]=[36], array[mid]=36, low=7, mid=7, high=8, key=36\n"
     ]
    },
    {
     "data": {
      "text/plain": [
       "7"
      ]
     },
     "execution_count": 25,
     "metadata": {},
     "output_type": "execute_result"
    }
   ],
   "source": [
    "import math\n",
    "def binary_search_recurs(array, low, high, key):\n",
    "    if high < low:\n",
    "        return low - 1\n",
    "    mid = math.floor(low + ((high - low)/2))\n",
    "    print('='*50)\n",
    "    print(f'{array=}, {array[low:high]=}, {array[mid]=}, {low=}, {mid=}, {high=}, {key=}')\n",
    "\n",
    "    if array[mid] == key:\n",
    "        return mid\n",
    "    elif key < array[mid]:\n",
    "        return binary_search_recurs(array, low, mid-1, key)\n",
    "    elif key > array[mid]:\n",
    "        return binary_search_recurs(array, mid+1, high, key)\n",
    "\n",
    "def binary_search_iter(array, low, high, key):\n",
    "    while high >= low:\n",
    "        mid = math.floor(low + ((high - low)/2))\n",
    "        if array[mid] == key:\n",
    "            return mid\n",
    "        elif array[mid] < key:\n",
    "            low = mid+1\n",
    "        elif array[mid] > key:\n",
    "            high = mid-1\n",
    "    return low-1\n",
    "            \n",
    "a = [1,2,5,7,9,10,35,36]\n",
    "key = 36\n",
    "index = binary_search_recurs(a, 0, len(a), key)\n",
    "# index = binary_search_iter(a, 0, len(a), key)\n",
    "# a[index]\n",
    "index"
   ]
  },
  {
   "cell_type": "markdown",
   "metadata": {},
   "source": [
    "- Let's consider the recurrence relation of binary search\n",
    "- $T(n) = T(\\frac{n}{2}) + c$\n",
    "- $T(0) = c$\n",
    "- The problem size recursively goes from $n, n/2, n/4 ... 0$, giving us $\\log_2{n}$ number of subproblems\n",
    "- At each level, we do $c$ amount of work\n",
    "- So the total work is $\\sum_{i=0}^{\\log_2(n)} c$\n",
    "- In other words, the problem is $O(\\log_2(n))$"
   ]
  }
 ],
 "metadata": {
  "kernelspec": {
   "display_name": "kaggle",
   "language": "python",
   "name": "python3"
  },
  "language_info": {
   "codemirror_mode": {
    "name": "ipython",
    "version": 3
   },
   "file_extension": ".py",
   "mimetype": "text/x-python",
   "name": "python",
   "nbconvert_exporter": "python",
   "pygments_lexer": "ipython3",
   "version": "3.10.4"
  }
 },
 "nbformat": 4,
 "nbformat_minor": 2
}
