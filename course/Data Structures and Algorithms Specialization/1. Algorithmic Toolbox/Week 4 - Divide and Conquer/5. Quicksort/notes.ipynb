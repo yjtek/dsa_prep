{
 "cells": [
  {
   "cell_type": "markdown",
   "metadata": {},
   "source": [
    "### Quick Sort"
   ]
  },
  {
   "cell_type": "markdown",
   "metadata": {},
   "source": [
    "- Quick sort is a comparison-based sorting algorithm, and is $O(n \\log(n))$ run time on average\n",
    "- The idea of quick sort is quite simple, but takes some getting used to. We'll talk through this using an example\n",
    "    - Imagine we have an input array [6,4,2,3,9,8,9,4,7,6,1]\n",
    "    - We first need to choose a value to sort against, known as the **pivot**. \n",
    "        - We will iterate through this list, and compare all the other values to this pivot\n",
    "        - At the end of this process, we want to end up with 2 regions. One of the regions will have all values $v \\le \\text{pivot}$, and the other will have values $v \\gt \\text{pivot}$\n",
    "        - Finally, we place our pivot in the middle of these 2 regions, and the pivot is now in the correct position\n",
    "        - Call quicksort on the left and right regions\n",
    "- Intuition and issues\n",
    "    - Quicksort is faster because we are iteratively halving our sort space. Though the first sort requires a full scan of $n$ elements, we are recursively halving the comparisons, thus creating the $\\log(n)$\n",
    "    - However, quicksort performance is very dependent on your pivot choice. It is only $O(n \\log(n))$ on average. In the worst case, it is $O(N^2)$, which is basically selection sort\n",
    "    - To see how it is $O(N^2)$ in the worst case, we can simply imagine a list that is already sorted, and we pick the pivot from the end of the list\n",
    "    - So instead of halving the list at each iteration, we are simply removing the last element"
   ]
  },
  {
   "cell_type": "code",
   "execution_count": 10,
   "metadata": {},
   "outputs": [
    {
     "data": {
      "text/plain": [
       "[1, 2, 3, 4, 5, 7, 8, 9, 10]"
      ]
     },
     "execution_count": 10,
     "metadata": {},
     "output_type": "execute_result"
    }
   ],
   "source": [
    "def quicksort(array, left_inclusive, right_inclusive, verbose=False, log_recurs=0):\n",
    "    '''\n",
    "    Time complexity: O(N log(N)) on average, O(N^2) in worst case\n",
    "    Space complexity: O(N) because we are just permuting the same input array\n",
    "    '''\n",
    "\n",
    "    indent = ' '*3*log_recurs\n",
    "    if verbose:\n",
    "        print(indent + '='*50)\n",
    "        print(indent + f'Calling {array=} from {left_inclusive=} to {right_inclusive=}')\n",
    "\n",
    "    # If left and right indices are the same, then array is already sorted\n",
    "    if left_inclusive >= right_inclusive:\n",
    "        return array\n",
    "    \n",
    "    # take last value as the pivot value\n",
    "    pivot = array[right_inclusive]\n",
    "    if verbose:\n",
    "        print(indent + f'Pivot value from index {right_inclusive=} is {array[right_inclusive]=}')\n",
    "\n",
    "    # Loop from leftmost index to second last value, since last value is pivot\n",
    "    left_segment_end_index = left_inclusive\n",
    "    if verbose:\n",
    "        print(f\"{indent} {array=}\")\n",
    "    for index in range(left_inclusive, right_inclusive):\n",
    "        if verbose:\n",
    "            print(indent + f'Comparing {array[index]=} with {pivot=}')\n",
    "        if array[index] <= pivot:\n",
    "            if verbose:\n",
    "                print(indent + f'{array[index]=} is less than {pivot=}')\n",
    "            array[index], array[left_segment_end_index] = array[left_segment_end_index], array[index]\n",
    "            left_segment_end_index+=1\n",
    "        if verbose:\n",
    "            print(f\"{indent} {array=}\")\n",
    "    array[right_inclusive], array[left_segment_end_index] = array[left_segment_end_index], array[right_inclusive]\n",
    "    if verbose:\n",
    "        print(f\"{indent} {array=}\")\n",
    "    \n",
    "    array = quicksort(array, left_inclusive, left_segment_end_index-1, log_recurs=log_recurs+1, verbose=verbose)\n",
    "    array = quicksort(array, left_segment_end_index+1, right_inclusive, log_recurs=log_recurs+1, verbose=verbose)\n",
    "    return array\n",
    "\n",
    "    \n",
    "array = [10,4,9,1,8,3,7,2,5]\n",
    "quicksort(array,0,len(array)-1, verbose=False)\n",
    "    "
   ]
  },
  {
   "cell_type": "markdown",
   "metadata": {},
   "source": [
    "- We can increase the practical running time of quicksort by randomising the pivot instead of taking an arbitrary rightmost/leftmost element. With randomness, we are more likely to get even partitions, and thus get a $O(N \\log(N))$ run time"
   ]
  },
  {
   "cell_type": "code",
   "execution_count": 11,
   "metadata": {},
   "outputs": [
    {
     "data": {
      "text/plain": [
       "[1, 1, 1, 2, 3, 4, 5, 7, 8, 9, 10, 10]"
      ]
     },
     "execution_count": 11,
     "metadata": {},
     "output_type": "execute_result"
    }
   ],
   "source": [
    "import numpy as np\n",
    "\n",
    "def randomised_quicksort(array, left_inclusive, right_inclusive, verbose=False, log_recurs=0):\n",
    "    '''\n",
    "    Time complexity: O(N log(N)) on average, O(N^2) in worst case\n",
    "    Space complexity: O(N) because we are just permuting the same input array\n",
    "    '''\n",
    "    indent = ' '*3*log_recurs\n",
    "    if verbose:\n",
    "        print(indent + '='*50)\n",
    "        print(indent + f'Calling {array=} from {left_inclusive=} to {right_inclusive=}')\n",
    "\n",
    "    # If left and right indices are the same, then array is already sorted\n",
    "    if left_inclusive >= right_inclusive:\n",
    "        return array\n",
    "    \n",
    "    # take last value as the pivot value\n",
    "    pivot_index = np.random.randint(left_inclusive, right_inclusive, 1)[0]\n",
    "    pivot = array[pivot_index]\n",
    "    if verbose:\n",
    "        print(indent + f'Pivot value from index {pivot_index=} is {array[pivot_index]=}')\n",
    "\n",
    "    # Loop from leftmost index to second last value, since last value is pivot\n",
    "    array[pivot_index], array[right_inclusive] = array[right_inclusive], array[pivot_index]\n",
    "    left_segment_end_index = left_inclusive\n",
    "    if verbose:\n",
    "        print(f\"{indent} {array=}\")\n",
    "    for index in range(left_inclusive, right_inclusive):\n",
    "        if verbose:\n",
    "            print(indent + f'Comparing {array[index]=} with {pivot=}')\n",
    "        if array[index] <= pivot:\n",
    "            if verbose:\n",
    "                print(indent + f'{array[index]=} is less than {pivot=}')\n",
    "            array[index], array[left_segment_end_index] = array[left_segment_end_index], array[index]\n",
    "            left_segment_end_index+=1\n",
    "        if verbose:\n",
    "            print(f\"{indent} {array=}\")\n",
    "    array[right_inclusive], array[left_segment_end_index] = array[left_segment_end_index], array[right_inclusive]\n",
    "    if verbose:\n",
    "        print(f\"{indent} {array=}\")\n",
    "    \n",
    "    array = randomised_quicksort(array, left_inclusive, left_segment_end_index-1, log_recurs=log_recurs+1, verbose=verbose)\n",
    "    array = randomised_quicksort(array, left_segment_end_index+1, right_inclusive, log_recurs=log_recurs+1, verbose=verbose)\n",
    "    return array\n",
    "\n",
    "array = [10,4,9,10,1,8,1,3,7,1,2,5]\n",
    "randomised_quicksort(array,0,len(array)-1, verbose=False)"
   ]
  },
  {
   "cell_type": "markdown",
   "metadata": {},
   "source": [
    "- What happens to quicksort when all elements are equal to each other?\n",
    "    - It becomes $O(N^2)$!\n",
    "    - Because regardless of what element you choose, you will never split it into 2 even arrays, so you can't make use of the recursion fully\n",
    "\n",
    "- To overcome this issue, we can modify our partitioning approach\n",
    "    - Instead of maintaining 2 regions (left region < pivot and right region > pivot), we maintain 3 instead!\n",
    "    - left region where values < pivot\n",
    "    - middle region where values == pivot\n",
    "    - right region whre values > pivot"
   ]
  },
  {
   "cell_type": "code",
   "execution_count": 65,
   "metadata": {},
   "outputs": [],
   "source": [
    "import numpy as np\n",
    "\n",
    "def quicksort_3waypartition(array, left_index, right_index, verbose=False, log_recurs=0):\n",
    "    indent = ' ' * 3 * log_recurs\n",
    "    if left_index >= right_index:\n",
    "        return array\n",
    "\n",
    "    if verbose:\n",
    "        print('='*50)\n",
    "        print(indent + f\"{array=}, {left_index=}, {right_index=}\")\n",
    "\n",
    "    pivot_index = np.random.randint(left_index, right_index, 1)[0]\n",
    "    pivot = array[pivot_index]\n",
    "    array[pivot_index], array[right_index] = array[right_index], array[pivot_index]\n",
    "    if verbose:\n",
    "        print(indent + f\"{pivot_index=}, {pivot=}, {array=}\")\n",
    "\n",
    "    after_left_array_end_index = left_index\n",
    "    index = left_index\n",
    "    right_array_start_first_index = right_index\n",
    "\n",
    "    while (index < right_array_start_first_index):\n",
    "        if verbose:\n",
    "            print(indent + f\"Start loop {index}: {array=}, {index=}, {array[index]=}, {pivot=}, {after_left_array_end_index=}, {right_array_start_first_index=}\")\n",
    "        if array[index] < pivot:\n",
    "            array[index], array[after_left_array_end_index] = array[after_left_array_end_index], array[index]\n",
    "            after_left_array_end_index += 1\n",
    "            index += 1\n",
    "        elif array[index] > pivot:\n",
    "            array[index], array[right_array_start_first_index-1] = array[right_array_start_first_index-1], array[index]\n",
    "            right_array_start_first_index -= 1\n",
    "        elif array[index] == pivot:\n",
    "            index += 1\n",
    "        if verbose:\n",
    "            print(indent + f\"End loop {index}: {array=}, {index=}, {array[index]=}, {pivot=}, {after_left_array_end_index=}, {right_array_start_first_index=}\")\n",
    "\n",
    "    if verbose:\n",
    "        print(indent + f\"Post loop {array=}, {after_left_array_end_index=}, {right_array_start_first_index=}\")\n",
    "\n",
    "    array[right_index], array[right_array_start_first_index] = array[right_array_start_first_index], array[right_index]\n",
    "    if verbose:\n",
    "        print(indent + f\"Post loop post swap {array=}\")\n",
    "\n",
    "    array = quicksort_3waypartition(array, left_index, after_left_array_end_index-1, verbose=verbose, log_recurs=log_recurs+1)\n",
    "    if verbose:\n",
    "        print(indent + f\"Recurs left {array=}\")\n",
    "\n",
    "    array = quicksort_3waypartition(array, right_array_start_first_index+1, right_index, verbose=verbose, log_recurs=log_recurs+1)\n",
    "    if verbose:\n",
    "        print(indent + f\"Recurs right {array=}\")\n",
    "\n",
    "    return array\n",
    "\n",
    "array = [10,1,5,9,2,5,8,3,5,7,4,5]\n",
    "# array = [10,1,5,9,5]\n",
    "quicksort_3waypartition(array, 0, len(array)-1, verbose=False)"
   ]
  },
  {
   "cell_type": "markdown",
   "metadata": {},
   "source": [
    "### Space complexity of quicksort"
   ]
  },
  {
   "cell_type": "markdown",
   "metadata": {},
   "source": [
    "- We already know that quicksort has an average time complexity of $O(N log(N))$ and worst case time complexity of $O(N^2)$\n",
    "- What about space complexity?\n",
    "    - The `partition` process (select pivot, loop to compare values) takes $O(N)$ time, but takes $O(1)$ space! Because you don't store any additional information that scales with the size of the input\n",
    "    - But the recursive calls to left and right also takes some space on the call stack! So even though the quicksort algorithm just modifies the original input array, it is recursively creating storing values on the call stack\n",
    "    - In the worst case, when the array is already sorted (i.e. in the $O(N^2)$ time complexity case), the recursion has to be called $N$ times, leading to $N$ copies of the array being made in the stack\n",
    "    - So because of these copies, out-of-the-box quicksort is takes $O(N)$ space!!\n",
    "\n",
    "- However, there is a way to modify quicksort so that is only takes $O(\\log(N))$ space on the call stack instead of $O(N)$!\n",
    "    - Instead of calling the quicksort recursively for both the left and right arrays at each step, we can amend out recursive calls to call the shorter of the 2 halves instead\n",
    "    - After the short of the two halves is process, we continue with quicksort on the longer half\n",
    "\n",
    "- Why is this helpful? Because if we call the arrays recursively in this manner, we are guaranteed that the recursion depth goes to AT MOST $O(\\log(N))$! Because if we always pick the shorter half, the worst case for space complexity happens when we split the array exactly in 2 every step. So the call stack goes up to (at most) $\\log(N)$"
   ]
  },
  {
   "cell_type": "markdown",
   "metadata": {},
   "source": [
    "#### Tail call optimisation"
   ]
  },
  {
   "cell_type": "markdown",
   "metadata": {},
   "source": [
    "- Tail call optimisation happens when we perform put tail recursion into our quicksort algorithm\n",
    "    - What is tail recursion? This is when the recursive call is the last thing executed by the algorithm\n",
    "\n",
    "- How does tail recursion help? Let's imagine a recursive Fibonaaci function, and we use it to compute `fib(4)`\n",
    "```\n",
    "def fib(n):\n",
    "    if n == 0:\n",
    "        return 0\n",
    "    if n in [1,2]:\n",
    "        return 1\n",
    "    return fib(n-1) + fib(n-1)\n",
    "```\n",
    "\n",
    "- To compute `fib(4)`, we take `fib(3)` + `fib(2)`\n",
    "    - To compute `fib(3)`, we take `fib(2)` + `fib(1)`\n",
    "    - To compute `fib(2)`, we take `fib(1)` + `fib(0)`\n",
    "    - Notice that, to compute `fib(4)`, the computer needs to hold the call tree of `fib(3)` and `fib(2)` in memory\n",
    "    - Practically, every time we make a recursive call, a **stack frame** to the computer's **call stack**. If too many frames are added (e.g. when too many recursive calls are made), then we have a **stack overflow**.\n",
    "\n",
    "- However, some compilers have optimisations when a method is tail recursive! Because your function returns a recursive call, there is nothing else left to do in the function, so you can return to the parent frame! This means that (again, only for some compilers) you never have additional stack frames, which minimises the memory use!\n",
    "\n",
    "- Unfortunately, Python doesn't offer this capability. But we can still pretend it does, and implement a factorial with tail recursion.\n",
    "    - Generally, tail recursion makes use of an `accumulator` so that you realise the change in the value in the same function, rather than requiring an in-memory compute\n",
    "    - Here, the term `a+b` serves as the accumulator. So at each recursion step, we already pass the Fib value accumulated to that point into the function\n",
    "\n",
    "- For better explanation: https://www.youtube.com/watch?v=XMBgja5u70M\n",
    "\n",
    "```\n",
    "def fib_tail_recurs(n, a, b):\n",
    "    if n == 0:\n",
    "        return a\n",
    "    if n == 1:\n",
    "        return b\n",
    "    return fib_tail_recurs(n-1, b, a+b)\n",
    "```"
   ]
  },
  {
   "cell_type": "code",
   "execution_count": 92,
   "metadata": {},
   "outputs": [
    {
     "data": {
      "text/plain": [
       "55"
      ]
     },
     "execution_count": 92,
     "metadata": {},
     "output_type": "execute_result"
    }
   ],
   "source": [
    "def fib_tail_recurs(n, a=0, b=1):\n",
    "    if n == 0:\n",
    "        return a\n",
    "    if n == 1:\n",
    "        return b\n",
    "    return fib_tail_recurs(n-1, b, a+b)\n",
    "\n",
    "fib_tail_recurs(10)"
   ]
  },
  {
   "cell_type": "markdown",
   "metadata": {},
   "source": [
    "### Intro Sort"
   ]
  },
  {
   "cell_type": "markdown",
   "metadata": {},
   "source": [
    "- Introsort is like a chimera of a few sorting algorithms. We give an overview here, but won't provide a full implementation\n",
    "\n",
    "- Basically, we make use of Quicksort's faster average case performance, but in the event that the recursion depth exceeds some value, we switch to heap sort to avoid quicksort's worst case performance\n",
    "\n",
    "- This creates a $O(N \\log N)$ worst case"
   ]
  }
 ],
 "metadata": {
  "kernelspec": {
   "display_name": "kaggle",
   "language": "python",
   "name": "python3"
  },
  "language_info": {
   "codemirror_mode": {
    "name": "ipython",
    "version": 3
   },
   "file_extension": ".py",
   "mimetype": "text/x-python",
   "name": "python",
   "nbconvert_exporter": "python",
   "pygments_lexer": "ipython3",
   "version": "3.10.4"
  }
 },
 "nbformat": 4,
 "nbformat_minor": 2
}
