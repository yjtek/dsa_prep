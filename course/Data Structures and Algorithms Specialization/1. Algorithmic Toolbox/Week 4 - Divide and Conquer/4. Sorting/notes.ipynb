{
 "cells": [
  {
   "cell_type": "markdown",
   "metadata": {},
   "source": [
    "- Sorting is quite an integral part of many algorithms, because a sorted input can speed up many algorithms, and can also speed up our queries\n",
    "\n",
    "- In this section, we study the efficient ways to sort something\n",
    "\n",
    "- Sorting problem\n",
    "    - **Input:** Sequence $A[1...N]$\n",
    "    - **Output:** Permutation $A'[1...N]$ in increasing/decreasing order"
   ]
  },
  {
   "cell_type": "markdown",
   "metadata": {},
   "source": [
    "### Selection Sort"
   ]
  },
  {
   "cell_type": "markdown",
   "metadata": {},
   "source": [
    "- We start with the naive solution, called **selection sort**\n",
    "\n",
    "- Basically, for each index in the $n$ length input array, we scan through the entire input to place the minimum at each step. \n",
    "    - At step 1, we make $n-1$ comparisons\n",
    "    - At step 2, we make $n-2$ comparisons (because the first element is already minimum)\n",
    "    - etc\n",
    "\n",
    "- In total, we make $(n-1) + (n-2) + ...$ comparisons, or $\\frac{n * (n+1)}{2}$ comparisons. This gives us a run time of $O(N^2)$"
   ]
  },
  {
   "cell_type": "code",
   "execution_count": 3,
   "metadata": {},
   "outputs": [],
   "source": [
    "def selection_sort(array: list):\n",
    "    for i in range(len(array)):\n",
    "        min_index = i\n",
    "        for j in range(i, len(array)):\n",
    "            if array[j] < array[min_index]:\n",
    "                min_index = j\n",
    "        array[i], array[min_index] = array[min_index], array[i]\n",
    "    return array"
   ]
  },
  {
   "cell_type": "markdown",
   "metadata": {},
   "source": [
    "### Merge Sort"
   ]
  },
  {
   "cell_type": "markdown",
   "metadata": {},
   "source": [
    "- A faster way to sort an array (and also what we've covered in the previous section) is to make use of divide and conquer\n",
    "\n",
    "- The idea behind merge sort is to split the array iteratively into smaller and smaller segments, then put them back together in sorted order. Intuitively, at each recursive step, we are comparing arrays that are already sorted, so you don't need to make $n^2$ comparisons. Instead, you just compare your solution with the relevant value\n",
    "\n",
    "- Merge sort satisfies the recursion $T(N) = 2 \\cdot T(\\frac{N}{2}) + O(N)$, where $a = 2, b=2, d=1$\n",
    "    - $a=2$ because at each step, we're recursively splitting the array into 2 parts, and calling merge sort on each part\n",
    "    - $b=2$ because the array size is halved at each step\n",
    "    - $d=1$ because the merge step requires $N$ comparisons at the worst case\n",
    "\n",
    "- By Master Theorem, since $\\log_b(a) = \\log_2(2) = 1 = d$, run time is therefore $O(N \\log(N))$"
   ]
  },
  {
   "cell_type": "code",
   "execution_count": 30,
   "metadata": {},
   "outputs": [
    {
     "data": {
      "text/plain": [
       "[1, 1, 3, 4, 6, 7, 14, 34, 36, 51, 71, 141, 522, 1352, 3451, 4452, 7812]"
      ]
     },
     "execution_count": 30,
     "metadata": {},
     "output_type": "execute_result"
    }
   ],
   "source": [
    "def merge(left_array: list, right_array: list, verbose: bool):\n",
    "    '''\n",
    "    Time complexity: O(N), because in the worst case, you need to make $N-1$ comparisons\n",
    "    Space compexity: O(N), because you're creating a new ordered list, no other intermediates\n",
    "    '''\n",
    "\n",
    "    merged_array = []\n",
    "    while (len(left_array) != 0) & (len(right_array) != 0):\n",
    "        if verbose:\n",
    "            print(f\"{merged_array=}\")\n",
    "        if left_array[0] <= right_array[0]:\n",
    "            val = left_array.pop(0)\n",
    "        else:\n",
    "            val = right_array.pop(0)\n",
    "        \n",
    "        if verbose:\n",
    "            print(f'{val=}')\n",
    "        merged_array.append(val)\n",
    "    \n",
    "    if verbose:\n",
    "        print(f\"{merged_array=}\")\n",
    "    \n",
    "    if len(left_array) > 0:\n",
    "        merged_array += left_array\n",
    "    elif len(right_array) > 0:\n",
    "        merged_array += right_array\n",
    "    \n",
    "    return merged_array\n",
    "\n",
    "def merge_sort(array: list, verbose: bool):\n",
    "    '''\n",
    "    Time complexity: O(N log(N)). O(N) for the merge step, and O(log(N)) for the recursive step\n",
    "    Space compexity: O(N), because you're creating a new ordered list, no other intermediates\n",
    "    '''\n",
    "\n",
    "    if verbose:\n",
    "        print('='*50)\n",
    "\n",
    "    if len(array) == 1:\n",
    "        return array\n",
    "    \n",
    "    mid_index = len(array)//2\n",
    "    left_array = merge_sort(array[:mid_index], verbose=verbose)\n",
    "    right_array = merge_sort(array[mid_index:], verbose=verbose)\n",
    "    \n",
    "    if verbose:\n",
    "        print(f'{mid_index=}, {left_array=}, {right_array=}')\n",
    "    \n",
    "    merged_array = merge(left_array, right_array, verbose)\n",
    "    \n",
    "    if verbose:\n",
    "        print(f\"{merged_array=}, {left_array=}, {right_array=}\")\n",
    "    \n",
    "    return merged_array\n",
    "\n",
    "\n",
    "merge_sort([1,1,522,6,14,71,51,4452,7812,3451,34,1352,7,4,141,36,3], False)"
   ]
  },
  {
   "cell_type": "markdown",
   "metadata": {},
   "source": [
    "### Comparison-based vs Non-comparison based sorting"
   ]
  },
  {
   "cell_type": "markdown",
   "metadata": {},
   "source": [
    "- Comparison-based sorting is when sorting is done via some comparison of 2 elements. The 2 sorting approaches we have studied so far (merge sort and selection sort) are both comparison based sorts\n",
    "\n",
    "- In general, for comparison based sorting, the algorithm performs $\\Omega(n \\log n)$ comparisons in the worst case to sort $n$ objects\n",
    "    - That is, for any comparison based sorting algorithm, there exists an array $A$ such that the algorithm performs at least $\\Omega(n \\log n)$ comparisons to sort $A$\n",
    "\n",
    "- Proof\n",
    "    - For a given array, the sequence of comparisons made can be expressed in terms of a decision tree. \n",
    "        - Imagine an array [3,2,1]. To sort it, we must first compare 3 vs 2, then 3 vs 1, then 2 vs 1 \n",
    "        - Every leaf in this tree is a specific sequence of comparisons\n",
    "    - In general, the number of leaves $L$ for a given array of size $N$ must be at least $N!$\n",
    "    - Why? Because an array of size $N$ has $N!$ possible permutations. And so there must be $N!$ ways to make the comparisons such that you get to the sorted solution. \n",
    "    - The worst case run time is given by the depth $d$ of the tree\n",
    "    - However, the depth of the tree is directly related to the number of leaves too!\n",
    "        - It must be the case that $2^d \\ge L$, assuming a binary tree\n",
    "        - Rewriting, $d \\log_2(2) \\ge \\log_2(L) \\rightarrow d \\ge \\log_2(L)$\n",
    "    - Since depth $d$ is worst case run time, it must be that the worst case run time is $\\log_2(L) = \\log_2(N!)$\n",
    "    $$\\begin{aligned}\n",
    "        \\log_2(N!) &= \\log_2(1 \\cdot 2 \\cdot ... N) \\\\\n",
    "        &= \\log_2(1) + \\log_2(2) + ... \\log_2(N) \\\\\n",
    "        &\\ge \\log_2(\\frac{N}{2}) + \\log_2(\\frac{N}{2} + 1) + ... \\log_2(N) & \\text{throwing away the first half of the summation leads to a smaller number} \\\\\n",
    "        &\\ge \\frac{n}{2} \\log_2(\\frac{N}{2}) & \\text{there are n/2 values in both sums, but every term in this sum is lower than the previous}\\\\\n",
    "        &= \\Omega(n \\log n) & \\text{Dropping constants}\n",
    "    \\end{aligned}$$ \n"
   ]
  },
  {
   "cell_type": "markdown",
   "metadata": {},
   "source": [
    "- However, comparing pairs of value is not the only way to sort an array, which is why we have **non comparison-based sorting**\n",
    "\n",
    "- Here, we look at an example called **Count sort**, which is kind of a gimmicky sort that works only when the values in the array are small integers.\n",
    "\n",
    "- Let's look at how this works:\n",
    "    - Imagine my input array is [1,2,5,1,2,3,1,5,1,4,2]\n",
    "    - To sort this array, we iterate through the input array and count the number of values 1, 2, 3, 4, 5\n",
    "    - We conclude that there are four 1s, three 2s, one 3, one 4, and one 5\n",
    "    - So our sorted array is just [1,1,1,1,2,2,2,3,4,5]. This was sorted without explicitly comparing anything, and we only scan the array once! "
   ]
  },
  {
   "cell_type": "code",
   "execution_count": 53,
   "metadata": {},
   "outputs": [
    {
     "data": {
      "text/plain": [
       "[41, 78, 93]"
      ]
     },
     "execution_count": 53,
     "metadata": {},
     "output_type": "execute_result"
    }
   ],
   "source": [
    "import numpy as np\n",
    "\n",
    "def count_sort(array, max_val=100):\n",
    "    '''\n",
    "    Time complexity: O(2 * array_size + max_val) = O(N + M)\n",
    "    Space complexity: O(array_size + max_val) for storing list and generating sorted list\n",
    "    '''\n",
    "    # print(array)\n",
    "    assert max(array) < max_val\n",
    "    array_len = len(array)\n",
    "\n",
    "\n",
    "    # This portion is O(N)\n",
    "    counts = [0] * max_val\n",
    "    for i in range(array_len):\n",
    "        counts[array[i]] += 1\n",
    "    # print(counts)\n",
    "\n",
    "    # This portion is O(M)\n",
    "    start_positions = [0]*max_val\n",
    "    start_positions[0] = 0\n",
    "    for j in range(1, max_val):\n",
    "        start_positions[j] = start_positions[j-1] + counts[j-1]\n",
    "    # print(start_positions)\n",
    "\n",
    "    # This portion is O(N)\n",
    "    sorted_array = [0]*array_len\n",
    "    for k in range(array_len):\n",
    "        element_to_insert = array[k]\n",
    "        insert_at_index = start_positions[element_to_insert]\n",
    "        # print(f\"{k=}, {element_to_insert=}, {insert_at_index=}\")\n",
    "        \n",
    "        sorted_array[insert_at_index] = element_to_insert\n",
    "        start_positions[element_to_insert] += 1\n",
    "    \n",
    "    return sorted_array\n",
    "\n",
    "array = np.random.randint(0,99,size=3)\n",
    "count_sort(array)"
   ]
  }
 ],
 "metadata": {
  "kernelspec": {
   "display_name": "kaggle",
   "language": "python",
   "name": "python3"
  },
  "language_info": {
   "codemirror_mode": {
    "name": "ipython",
    "version": 3
   },
   "file_extension": ".py",
   "mimetype": "text/x-python",
   "name": "python",
   "nbconvert_exporter": "python",
   "pygments_lexer": "ipython3",
   "version": "3.10.4"
  }
 },
 "nbformat": 4,
 "nbformat_minor": 2
}
