{
 "cells": [
  {
   "cell_type": "markdown",
   "metadata": {},
   "source": [
    "### 6.1 Maximum amount of gold"
   ]
  },
  {
   "cell_type": "markdown",
   "metadata": {},
   "source": [
    "- Given a set of gold bars of various weights and a backpack that can hold at most W pounds, place as much gold as possible into the backpack.\n",
    "    - **Input:** A set of $n$ gold bars of integer weights $w_1, ... w_n$ and a backpack that can hold at most $W$ pounds\n",
    "    - **Output:** A subset of gold bars of maximum total weight not exceeding $W$\n",
    "    - **Constraints:** $1 \\le W \\le 10^4$; $1 \\le n \\le 300$; $0 \\le w_1, ... w_n \\le 10^5$\n",
    "    - **Sample:**\n",
    "        - W = 10, (1,4,8) --> 9"
   ]
  },
  {
   "cell_type": "code",
   "execution_count": null,
   "metadata": {},
   "outputs": [],
   "source": [
    "## inputs \n",
    "capacity = 10\n",
    "weights = [1,4,8]\n",
    "\n",
    "def maximum_gold(capacity, weights):\n",
    "    ## build cache\n",
    "    cache = [[0 for _ in range(capacity+1)] for _ in range(len(weights)+1)]\n",
    "\n",
    "    ## build optimal weights row-wise.\n",
    "    ## Each row shows the optimal weight of the items up to that point (i.e. in row 2, i only consider the first 2 elements)\n",
    "    for row in range(1, len(weights)+1):\n",
    "        for col in range(1, capacity+1):\n",
    "            # print('='*50)\n",
    "            # print(row, col)\n",
    "            # display(cache)\n",
    "            if col < weights[row-1]:\n",
    "                cache[row][col] = cache[row-1][col]\n",
    "            else:\n",
    "                cache[row][col] = max(\n",
    "                    cache[row-1][col-weights[row-1]] + weights[row-1],\n",
    "                    cache[row-1][col]\n",
    "                )\n",
    "\n",
    "    ## return bottom right\n",
    "    return cache[len(weights)][capacity]\n",
    "\n",
    "maximum_gold(capacity, weights)"
   ]
  },
  {
   "cell_type": "markdown",
   "metadata": {},
   "source": [
    "### 6.2 Splitting the Pirate Loot"
   ]
  },
  {
   "cell_type": "markdown",
   "metadata": {},
   "source": [
    "- Partition a set of integers into three subsets with equal sums.\n",
    "    - **Input:** A sequence of integers $v_1, ... v_n$\n",
    "    - **Output:** Check whether it is possible to partition them into three subsets with equal sums, i.e. check whether there exist three disjoint sets $S_1, S_2, S_3 \\subseteq \\{1,2,...n\\}$ such that $S_1 \\cup S_2 \\cup S_3 = \\{1,2,...n\\}$  and $$\\sum_{i \\in S_1} v_i = \\sum_{j \\in S_2} v_j = \\sum_{k \\in S_3} v_k$$\n",
    "    - **Constraints:** $1 \\le n \\le 20$; $1 \\le v_i \\le 30$ for all $i$\n",
    "    - **Samples:**\n",
    "        - 4, [3,3,3,3] -> 0\n",
    "        - 1, [30] -> 0\n",
    "        - 13, [1,2,3,4,5,5,7,7,8,10,12,19,25] -> 1"
   ]
  },
  {
   "cell_type": "markdown",
   "metadata": {},
   "source": [
    "- This is an interesting problem, because it can be solved via backtracking or bitmask\n",
    "\n",
    "- Since this section is about dynamic programming, let's first try to solve via backtracking"
   ]
  },
  {
   "cell_type": "code",
   "execution_count": 113,
   "metadata": {},
   "outputs": [
    {
     "data": {
      "text/plain": [
       "1"
      ]
     },
     "execution_count": 113,
     "metadata": {},
     "output_type": "execute_result"
    }
   ],
   "source": [
    "values = [3,1,1,4,4,2]\n",
    "partition_count=3\n",
    "\n",
    "def partition3_iter(values, partition_count=3, verbose=False):\n",
    "    total_sum = sum(values)\n",
    "    if total_sum % partition_count != 0:\n",
    "        return 0\n",
    "        \n",
    "    partition_value_target = total_sum/partition_count\n",
    "    # values = sorted(values, reverse=True)\n",
    "    partition_values = [0] * partition_count\n",
    "\n",
    "    ## Each queue element represents (`value_index`, `partition_index`)\n",
    "    queue = [(0, 0)]\n",
    "    success = []\n",
    "    total_succeed = 0\n",
    "    i = 0\n",
    "    while queue:\n",
    "        i+=1\n",
    "        if verbose:\n",
    "            print('='*50)\n",
    "            print(f\"{queue=}, {success=}, {partition_values=}, {total_succeed=}, {i=}\")\n",
    "\n",
    "        value_index, partition_index = queue.pop()\n",
    "        if value_index >= len(values):\n",
    "            return 1\n",
    "\n",
    "        if ((partition_values[partition_index] + values[value_index]) <= partition_value_target):\n",
    "            if verbose:\n",
    "                print(f'Successfully adding {value_index=}, {partition_index=}')\n",
    "            partition_values[partition_index] += values[value_index]\n",
    "            queue.append((value_index+1, 0))\n",
    "            success.append((value_index, partition_index))\n",
    "            if partition_values[partition_index] == partition_value_target:\n",
    "                total_succeed += 1\n",
    "        else:\n",
    "            if verbose:\n",
    "                print(f'Unable to add {value_index=}, {partition_index=}')\n",
    "            at_partition_end = (partition_index+1) >= partition_count\n",
    "            \n",
    "            # Otherwise, try the current value in the next partition\n",
    "            if not at_partition_end:\n",
    "                if verbose:\n",
    "                    print(f'Trying ({value_index=}, {partition_index+1=})')\n",
    "                queue.append((value_index, partition_index+1))\n",
    "            else:\n",
    "                # If we are at the end of either the values or the partitions arrays, backtrack to last success\n",
    "                if verbose:\n",
    "                    print('At partition end')\n",
    "                while at_partition_end:\n",
    "                    try:\n",
    "                        value_index, partition_index = success.pop()\n",
    "                    except:\n",
    "                        return 0\n",
    "                    \n",
    "                    if verbose:\n",
    "                        print(f'Backtracking to ({value_index=}, {partition_index=})')\n",
    "                    \n",
    "                    if partition_values[partition_index] == partition_value_target:\n",
    "                        total_succeed -= 1\n",
    "                    \n",
    "                    partition_values[partition_index] -= values[value_index]\n",
    "                    \n",
    "                    at_partition_end = (partition_index+1) >= partition_count\n",
    "                    \n",
    "                    ## If we have backtracked to the point where a partition value is 0, that means that no combination of values (from and including this value to the end) can give the desired value. \n",
    "                    ## Take for example the [4,4,2] subarray in [3,1,1,4,4,2]. \n",
    "                    ##  State: [5, 0, 0] \n",
    "                    ##  Target value: 5\n",
    "                    ##  Subarray: [4,4,2]\n",
    "                    ## We know that this is bound to fail. But before it fails, we must have tried 4+4, 4+2, 4+2 (that is, a+b, a+c, b+c)\n",
    "                    ## Then, once all combinations are tried, there is no need to worry about the cases (b+a, c+a, c+b) by symmetry. So if we backtrack till a 0 is hit, break the iteration\n",
    "                    if partition_values[partition_index] == 0:\n",
    "                        at_partition_end = True\n",
    "\n",
    "                queue.append((value_index, partition_index+1))\n",
    "        \n",
    "        if total_succeed >= (partition_count-1):\n",
    "            return 1\n",
    "\n",
    "partition3(values, verbose=False)"
   ]
  },
  {
   "cell_type": "code",
   "execution_count": 126,
   "metadata": {},
   "outputs": [
    {
     "data": {
      "text/plain": [
       "1"
      ]
     },
     "execution_count": 126,
     "metadata": {},
     "output_type": "execute_result"
    }
   ],
   "source": [
    "values = [3,1,1,4,4,2]\n",
    "partition_count=3\n",
    "\n",
    "def partition3_recurs(values, partition_count=3, verbose=False):\n",
    "    total = sum(values)\n",
    "    if total % partition_count != 0:\n",
    "        return 0\n",
    "\n",
    "    partition_value_target = total/partition_count\n",
    "    partition_values = [0] * partition_count\n",
    "\n",
    "    def try_place_value_at_index(i):\n",
    "        # Index does not exist, return \n",
    "        if i >= len(values):\n",
    "            return 1\n",
    "\n",
    "        for partition_index in range(partition_count):\n",
    "            if partition_values[partition_index] + values[i] <= partition_value_target:\n",
    "                partition_values[partition_index] += values[i]\n",
    "\n",
    "                if try_place_value_at_index(i+1):\n",
    "                    return 1\n",
    "                else:\n",
    "                    partition_values[partition_index] -= values[i]\n",
    "                    if partition_values[partition_index] == 0:\n",
    "                        break\n",
    "                              \n",
    "        return 0\n",
    "    return try_place_value_at_index(0)\n",
    "\n",
    "partition3_recurs(values=values)"
   ]
  },
  {
   "cell_type": "markdown",
   "metadata": {},
   "source": [
    "### 6.3 Maximum Value of an Arithmetic Expression"
   ]
  },
  {
   "cell_type": "markdown",
   "metadata": {},
   "source": [
    "- Parenthesize an arithmetic expression to maximize its value\n",
    "    - **Input:** An arithmetic expression consisting of digits as well as plus, minus, and multiplication signs\n",
    "    - **Output:** Add parentheses to the expression in order to maximize its value\n",
    "    - **Constraints:** $0 \\le n \\le 14$ (hence the string contains at most 29 symbols)\n",
    "    - **Sample:** \n",
    "        - `5-8+7*4-8+9` -> `200`"
   ]
  },
  {
   "cell_type": "code",
   "execution_count": null,
   "metadata": {},
   "outputs": [],
   "source": [
    "import re\n",
    "import math\n",
    "\n",
    "dataset = '5-8+7*4-8+9'\n",
    "\n",
    "def maximum_value(dataset):\n",
    "    digits = re.split('\\-|\\+|\\*', dataset)\n",
    "    ops = re.findall('\\-|\\+|\\*', dataset)\n",
    "    \n",
    "    # every row represents a `start_index`, and every col represents an `end_index`\n",
    "    # The value at (`start_index`, `end_index`) refers to the maximum possible value looking at the subarray of digits between the start and end indices\n",
    "    # Since we have operations `+`, `-`, `*`, we need to store both the minimum and maximum possible values. Because, for example, a `-` operation is only maximised when the LHS subarray is maximised, and the RHS is minimised (assuming it is not negative)\n",
    "    min_cache = [['' for _ in range(len(digits))] for _ in range(len(digits))]\n",
    "    max_cache = [['' for _ in range(len(digits))] for _ in range(len(digits))]\n",
    "    \n",
    "    # We iterate through the cache diagonally, because at each value, we either fill it with the number that is directly above it (do not use the i-th value) or the one that is 1 row up and value(i) columns to the left\n",
    "    for i in range(len(digits)):\n",
    "        for j in range(len(digits)-i):\n",
    "            # print('='*50)\n",
    "            # print(f\"{i=}, {j=}, {i+j=}\")\n",
    "            \n",
    "            ## If we look at subarray of length 1, the only possible value is itself. \n",
    "            if j == i+j:\n",
    "                min_cache[j][i+j] = digits[j]\n",
    "                max_cache[j][i+j] = digits[j]\n",
    "            \n",
    "            ## Otherwise, if there is more than 1 digit, there is at least 1 way to add brackets. The idea here is that, for any composite array with 3 digits and above, you can split it into smaller subarrays with known values (e.g. with 3, you can split 1-2 or 2-1. With 4, you can split 1-3, 2-2, 3-1, and the 3 can be further split iteratively). The point is that the subarrays are of known values, so to find how to maximise any larger subarray, we just need to try 4 possible permutations of min and max for both the left and right subarrays\n",
    "            else:\n",
    "                minval = math.inf\n",
    "                maxval = -math.inf\n",
    "\n",
    "                for midpoint in range(j, i+j):\n",
    "                    # print(f\"{i=}, {j=}, {i+j=}, {midpoint=}\")\n",
    "\n",
    "                    minmin = eval(str(min_cache[j][midpoint]) + ops[midpoint] + str(min_cache[midpoint+1][i+j]))\n",
    "                    maxmax = eval(str(max_cache[j][midpoint]) + ops[midpoint] + str(max_cache[midpoint+1][i+j]))\n",
    "                    minmax = eval(str(min_cache[j][midpoint]) + ops[midpoint] + str(max_cache[midpoint+1][i+j]))\n",
    "                    maxmin = eval(str(max_cache[j][midpoint]) + ops[midpoint] + str(min_cache[midpoint+1][i+j]))\n",
    "\n",
    "                    minval = min(\n",
    "                        minval,\n",
    "                        minmin,\n",
    "                        maxmax,\n",
    "                        minmax,\n",
    "                        maxmin, \n",
    "                    )\n",
    "\n",
    "                    maxval = max(\n",
    "                        maxval,\n",
    "                        minmin,\n",
    "                        maxmax,\n",
    "                        minmax,\n",
    "                        maxmin, \n",
    "                    )\n",
    "\n",
    "                min_cache[j][i+j] = minval\n",
    "                max_cache[j][i+j] = maxval\n",
    "\n",
    "    return max_cache[0][len(digits)-1]\n",
    "\n",
    "maximum_value(dataset)"
   ]
  },
  {
   "cell_type": "code",
   "execution_count": null,
   "metadata": {},
   "outputs": [],
   "source": []
  }
 ],
 "metadata": {
  "kernelspec": {
   "display_name": "kaggle",
   "language": "python",
   "name": "python3"
  },
  "language_info": {
   "codemirror_mode": {
    "name": "ipython",
    "version": 3
   },
   "file_extension": ".py",
   "mimetype": "text/x-python",
   "name": "python",
   "nbconvert_exporter": "python",
   "pygments_lexer": "ipython3",
   "version": "3.10.4"
  }
 },
 "nbformat": 4,
 "nbformat_minor": 2
}
