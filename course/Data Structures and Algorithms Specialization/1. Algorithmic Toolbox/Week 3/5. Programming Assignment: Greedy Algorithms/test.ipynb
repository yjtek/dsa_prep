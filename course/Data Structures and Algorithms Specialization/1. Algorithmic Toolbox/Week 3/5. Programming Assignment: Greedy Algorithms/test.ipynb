{
 "cells": [
  {
   "cell_type": "markdown",
   "metadata": {},
   "source": [
    "### Section 3.1"
   ]
  },
  {
   "cell_type": "markdown",
   "metadata": {},
   "source": [
    "#### 3.1.1 Money Change"
   ]
  },
  {
   "cell_type": "markdown",
   "metadata": {},
   "source": [
    "- In this problem, you will implement a simple greedy algorithm used by cashiers all over the world. We assume that a cashier has unlimited number of coins of each denomination.\n",
    "    - **Input format:** Integer money.\n",
    "    - **Output format:** The minimum number of coins with denominations 1, 5, 10 that changes money.\n",
    "    - **Constraints:** $1 \\le \\text{money} \\le 10^3$"
   ]
  },
  {
   "cell_type": "code",
   "execution_count": 3,
   "metadata": {},
   "outputs": [
    {
     "data": {
      "text/plain": [
       "6"
      ]
     },
     "execution_count": 3,
     "metadata": {},
     "output_type": "execute_result"
    }
   ],
   "source": [
    "def money_change(money: int) -> int:\n",
    "    count_coints = 0\n",
    "    \n",
    "    n_10 = money // 10\n",
    "    money -= n_10 * 10\n",
    "    \n",
    "    n_5 = money // 5\n",
    "    money -= n_5 * 5\n",
    "\n",
    "    return n_10 + n_5 + money\n",
    "\n",
    "money_change(2)\n",
    "money_change(28)"
   ]
  },
  {
   "cell_type": "markdown",
   "metadata": {},
   "source": [
    "#### 3.2.2 Maximum Value of the Loot"
   ]
  },
  {
   "cell_type": "markdown",
   "metadata": {},
   "source": [
    "- A thief breaks into a spice shop and finds 4 pounds of saffron, 3 pounds of vanilla, and 5 pounds of cinnamon. His backpack fits at most 9 pounds, therefore he cannot take everything. Assuming that the prices of saffron, vanilla, and cinnamon are $5000, $200, and $10, respectively, what is the most valuable loot in this case? If the thief takes $u_1$ pounds of saffron, $u_2$ pounds of vanilla, and $u_3$ pounds of cinnamon, the total value of the loot is $$5000 \\cdot \\frac{u_1}{4} + 200 \\cdot \\frac{u_2}{3} + 10 \\cdot \\frac{u_3}{5}$$ The thief would like to maximize the value of this expression subject to the following constraints: $u_1 \\le 4, u_2 \\le 3, u_3 \\le 5, u_1 + u_2 + u_3 \\le 9$\n",
    "    - **Input format:** The first line of the input contains the number $n$ of compounds and the capacity $W$ of a backpack. The next $n$ lines define the costs and weights of the compounds. The $i$-th line contains the cost $c_i$ and the weight $w_i$ of the $i$-th compound.\n",
    "    - **Output format:** Output the maximum value of compounds that fit into the backpack.\n",
    "    - **Constraints:** $1 \\le n \\le 10^3, 0 \\le W \\le 2 \\cdot 10^6; 0 \\le c_i \\le 2 \\cdot 10^6, 0 \\lt w_i \\le 2 \\cdot 10^6 \\text{ for all } 1 \\le i \\le n$. All the numbers are integers.\n",
    "    - **Extras:** Although the Input to this problem consists of integers, the Output may be non-integer. Therefore, the absolute value of the difference between the answer of your program and the optimal value should be at most $10^{−3}$. To ensure this, output your answer with at least four digits after the decimal point (otherwise your answer, while being computed correctly, can turn out to be wrong because of the rounding issues)\n"
   ]
  },
  {
   "cell_type": "code",
   "execution_count": null,
   "metadata": {},
   "outputs": [],
   "source": [
    "def "
   ]
  }
 ],
 "metadata": {
  "kernelspec": {
   "display_name": "kaggle",
   "language": "python",
   "name": "python3"
  },
  "language_info": {
   "codemirror_mode": {
    "name": "ipython",
    "version": 3
   },
   "file_extension": ".py",
   "mimetype": "text/x-python",
   "name": "python",
   "nbconvert_exporter": "python",
   "pygments_lexer": "ipython3",
   "version": "3.10.4"
  }
 },
 "nbformat": 4,
 "nbformat_minor": 2
}
