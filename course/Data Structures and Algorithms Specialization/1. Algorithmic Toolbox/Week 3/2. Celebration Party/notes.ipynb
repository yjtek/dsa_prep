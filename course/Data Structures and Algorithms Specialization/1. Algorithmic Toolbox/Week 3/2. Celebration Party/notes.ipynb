{
 "cells": [
  {
   "cell_type": "markdown",
   "metadata": {},
   "source": [
    "- **Problem**: Organise the children at a birthday party into groups such that the age of any two children in a group differs by at most 2\n",
    "    - Naive: Try all possible distributions. For each distribution, test if the age criteria is met. Then return the minimum number of groups among all solutions that meet the criteria\n",
    "    - The runtime of the naive solution is absurd, since it is at least some exponential. Imagine that there are $g$ groups and $c$ children. Then each child can go into any of the groups, so there are $g^k$ possible combinations.\n",
    "    - It is $\\Omega(2^n)$"
   ]
  },
  {
   "cell_type": "markdown",
   "metadata": {},
   "source": [
    "- **Solution**\n",
    "    - Consider a related problem: You have a set of $n$ points $x_1, x_2 ... x_n$. You want to know the number of segments of length at most 2 to cover all the points. If you see the set of points as the children's ages, and the segments as the groups, then it's basically the same problem!\n",
    "    - But if you see it this way, then it becomes obvious where to start; we should start with a with a segment covering the leftmost point. In other words, define a group with the youngest person. \n",
    "    - Then, fit all people within youngest age + 2 into this group!\n",
    "    - Iterate\n"
   ]
  },
  {
   "cell_type": "code",
   "execution_count": null,
   "metadata": {},
   "outputs": [],
   "source": [
    "def points_cover_sorted(sorted_points):\n",
    "    '''\n",
    "    Time complexity: O(N) because we are looping over each element of the list once\n",
    "    Space complexity: O(N)because we are storing a list\n",
    "    '''\n",
    "\n",
    "    segments = []\n",
    "    curr_index = 0\n",
    "    while left <= len(sorted_points):\n",
    "        l, r = sorted_points[curr_index], sorted_points[curr_index]+2\n",
    "        segments.append((l, r))\n",
    "        while sorted_points[curr_index] <= r:\n",
    "            curr_index += 1\n",
    "    return segments\n"
   ]
  }
 ],
 "metadata": {
  "kernelspec": {
   "display_name": "kaggle",
   "language": "python",
   "name": "python3"
  },
  "language_info": {
   "name": "python",
   "version": "3.10.4"
  }
 },
 "nbformat": 4,
 "nbformat_minor": 2
}
