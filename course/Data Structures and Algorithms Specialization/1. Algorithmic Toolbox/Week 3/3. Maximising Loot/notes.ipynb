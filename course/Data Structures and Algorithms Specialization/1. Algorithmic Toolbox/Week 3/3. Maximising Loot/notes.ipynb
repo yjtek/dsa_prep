{
 "cells": [
  {
   "cell_type": "markdown",
   "metadata": {},
   "source": [
    "- **Problem:** We have a knapsack of limited capacity. How do we choose from a set of items with values $v_1 ... v_n$ and weights $w_1 ... w_n$ to get the most valuable set of items constrained by the weight?\n",
    "- **Input:** Weights $w_1, w_2 ... w_n$ and values $v_1, v_2 ... v_n$\n",
    "- **Output:** Maximum total value of fraction of items that fit into knapsack of capacity $W$\n",
    "\n",
    "- It is obvious that the best strategy is to fill up on items with the best value per weight. How can we prove this?\n",
    "    - Assume $\\frac{v_1}{w_1} > \\frac{v_2}{w_2} > ... > \\frac{v_1}{wn1}$\n",
    "    - Imagine that I have some solution with a set of $w_1 < w_2$\n",
    "    - Then, by swappingn 1 unit of item 1 with 1 unit of item 2, I can maintain the weight, but increase the value of my set\n",
    "    - So the greedy choice is the safe choice"
   ]
  },
  {
   "cell_type": "code",
   "execution_count": 27,
   "metadata": {},
   "outputs": [
    {
     "name": "stdout",
     "output_type": "stream",
     "text": [
      "0 + (20)\n",
      "20 + (0)\n",
      "20 + (6)\n"
     ]
    },
    {
     "data": {
      "text/plain": [
       "({(10, 1): 2, (8, 2): 0, (6, 3): 1}, 26, 5)"
      ]
     },
     "execution_count": 27,
     "metadata": {},
     "output_type": "execute_result"
    }
   ],
   "source": [
    "def get_best_item_index(list_of_items: list[tuple]):\n",
    "    '''\n",
    "    Time complexity: O(N) because loops through the entire list\n",
    "    Space complexity: O(1), no storage needed besides float and max value per weight \n",
    "    '''\n",
    "    max_value_per_weight = -1\n",
    "    best_item_index = -1\n",
    "    for index, item in enumerate(list_of_items):\n",
    "        value, weight = item\n",
    "        if value/weight > max_value_per_weight:\n",
    "            max_value_per_weight = value/weight\n",
    "            best_item_index = index\n",
    "    return best_item_index\n",
    "            \n",
    "def knapsack(capacity, list_of_items):\n",
    "    '''\n",
    "    Time complexity: O(N^2) because `get_best_item_index` loops through the entire list, and the `while` loops over the entire list again\n",
    "    Space complexity: O(N), store knapsack contents\n",
    "    '''\n",
    "\n",
    "    knapsack_contents = {}\n",
    "    knapsack_weight = 0\n",
    "    knapsack_value = 0\n",
    "\n",
    "    while (knapsack_weight < capacity) & (len(list_of_items) != 0):\n",
    "        best_item_index = get_best_item_index(list_of_items)\n",
    "        item_weight, item_value = list_of_items.pop(best_item_index)\n",
    "        item_count = (capacity - knapsack_weight) // item_weight\n",
    "        \n",
    "        print(f'{knapsack_weight} + ({item_count * item_weight})')\n",
    "\n",
    "        if knapsack_weight + (item_count * item_weight) <= capacity:\n",
    "            knapsack_contents[(item_weight, item_value)] = item_count\n",
    "            knapsack_weight += item_count * item_weight\n",
    "            knapsack_value += item_count * item_value\n",
    "    \n",
    "    return knapsack_contents, knapsack_weight, knapsack_value\n",
    "\n",
    "# get_best_item_index([(8, 2), (10,1), (6,3)])\n",
    "# knapsack(27, [(8, 2), (10,1), (6,3)])"
   ]
  },
  {
   "cell_type": "markdown",
   "metadata": {},
   "source": [
    "- TLDR: Greedy algorithms can often be optimised by sorting the input first. In this case of maximising loot, if the list were sorted according to value per weight, we can reduce time complexity by factor of $N$, because we only loop through list once\n"
   ]
  },
  {
   "cell_type": "markdown",
   "metadata": {},
   "source": []
  }
 ],
 "metadata": {
  "kernelspec": {
   "display_name": "kaggle",
   "language": "python",
   "name": "python3"
  },
  "language_info": {
   "codemirror_mode": {
    "name": "ipython",
    "version": 3
   },
   "file_extension": ".py",
   "mimetype": "text/x-python",
   "name": "python",
   "nbconvert_exporter": "python",
   "pygments_lexer": "ipython3",
   "version": "3.10.4"
  }
 },
 "nbformat": 4,
 "nbformat_minor": 2
}
