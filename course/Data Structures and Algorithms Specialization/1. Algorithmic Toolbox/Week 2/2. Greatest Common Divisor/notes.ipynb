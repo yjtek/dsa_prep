{
 "cells": [
  {
   "cell_type": "markdown",
   "metadata": {},
   "source": [
    "### Greatest common divisor"
   ]
  },
  {
   "cell_type": "markdown",
   "metadata": {},
   "source": [
    "- Ouput GCD given inputs $a, b \\ge 0$\n",
    "\n",
    "- Naively, we can just check both $a$ and $b$ up to the square root of itself"
   ]
  },
  {
   "cell_type": "code",
   "execution_count": 25,
   "metadata": {},
   "outputs": [
    {
     "data": {
      "text/plain": [
       "6"
      ]
     },
     "execution_count": 25,
     "metadata": {},
     "output_type": "execute_result"
    }
   ],
   "source": [
    "import math\n",
    "def gcd_naive(a,b):\n",
    "    minval = min(a,b)\n",
    "    gcd = -1\n",
    "    for val in range(1,minval):\n",
    "        if (a % val == 0) & (b % val == 0):\n",
    "            gcd = val\n",
    "    return gcd\n",
    "\n",
    "gcd_naive(6175878, 89798763754892653453379597352537489494736)"
   ]
  },
  {
   "cell_type": "markdown",
   "metadata": {},
   "source": [
    "- Again, this is quite slow, with the function in the order of $O(\\min{(a, b)})$, where $a \\ge b$\n",
    "\n",
    "- To make this more efficient, let's rewrite the 2 inputs $a$ and $b$ slightly:\n",
    "    - Let's use the following result from number theory\n",
    "        - Let $a = b \\cdot q_1 + r_1$ \n",
    "        - By Euclidean Algorithm, $gcd(a,b) = gcd(b, r_1)$"
   ]
  },
  {
   "cell_type": "code",
   "execution_count": 2,
   "metadata": {},
   "outputs": [
    {
     "data": {
      "text/plain": [
       "1"
      ]
     },
     "execution_count": 2,
     "metadata": {},
     "output_type": "execute_result"
    }
   ],
   "source": [
    "def gcd_eff(a,b):\n",
    "    if a < b:\n",
    "        b, a = a, b\n",
    "    \n",
    "    r = a % b\n",
    "    if r == 0:\n",
    "        return b\n",
    "\n",
    "    return gcd_eff(b, a % b)\n",
    "    \n",
    "gcd_eff(6175878, 89798763754892653453379597352537489494736)\n",
    "gcd_eff(3, 7)"
   ]
  },
  {
   "cell_type": "code",
   "execution_count": 27,
   "metadata": {},
   "outputs": [
    {
     "name": "stdout",
     "output_type": "stream",
     "text": [
      "1.32 s ± 95.7 ms per loop (mean ± std. dev. of 7 runs, 1 loop each)\n"
     ]
    }
   ],
   "source": [
    "%timeit gcd_naive(6175878, 89798763754892653453379597352537489494736)"
   ]
  },
  {
   "cell_type": "code",
   "execution_count": 28,
   "metadata": {},
   "outputs": [
    {
     "name": "stdout",
     "output_type": "stream",
     "text": [
      "2.98 µs ± 141 ns per loop (mean ± std. dev. of 7 runs, 100,000 loops each)\n"
     ]
    }
   ],
   "source": [
    "%timeit gcd_eff(6175878, 89798763754892653453379597352537489494736)"
   ]
  }
 ],
 "metadata": {
  "kernelspec": {
   "display_name": "kaggle",
   "language": "python",
   "name": "python3"
  },
  "language_info": {
   "codemirror_mode": {
    "name": "ipython",
    "version": 3
   },
   "file_extension": ".py",
   "mimetype": "text/x-python",
   "name": "python",
   "nbconvert_exporter": "python",
   "pygments_lexer": "ipython3",
   "version": "3.10.4"
  }
 },
 "nbformat": 4,
 "nbformat_minor": 2
}
