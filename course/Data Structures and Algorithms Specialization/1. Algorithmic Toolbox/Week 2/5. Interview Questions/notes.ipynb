{
 "cells": [
  {
   "cell_type": "markdown",
   "metadata": {},
   "source": [
    "### Josephus Problem"
   ]
  },
  {
   "cell_type": "markdown",
   "metadata": {},
   "source": [
    "- Find the position of the survivor in the vicious series of killings described by Flavius Josephus, the first-century historian and head of Jewish forces in Galilee.\n",
    "\n",
    "    - Input: Natural numbers n and k. They represent n rebels standingin a circle. Rebels are being eliminated in such a way that every k-th still alive rebel around the circle is killed until only one rebel left. Rebels are killed clockwise starting from rebel 0, i.e., rebel k −1 is killed first. \n",
    "\n",
    "    - Output: The position of the survivor, denoted Josephus(n,k)."
   ]
  },
  {
   "cell_type": "code",
   "execution_count": 36,
   "metadata": {},
   "outputs": [
    {
     "data": {
      "text/plain": [
       "3"
      ]
     },
     "execution_count": 36,
     "metadata": {},
     "output_type": "execute_result"
    }
   ],
   "source": [
    "import numpy as np\n",
    "\n",
    "def josph_iter(n, k):\n",
    "    '''\n",
    "    Time complexity: O(N)\n",
    "    Space complexity: O(N) due to list used\n",
    "    '''\n",
    "\n",
    "    if n == 1:\n",
    "        return 0\n",
    "\n",
    "    array = [x for x in range(n)]\n",
    "    curr_index = 0\n",
    "\n",
    "    while len(array) > 1:\n",
    "        # print(array)\n",
    "        curr_index = (curr_index + k - 1) % n\n",
    "        array = np.delete(array, curr_index)\n",
    "        n = len(array)\n",
    "    return array[0]\n",
    "\n",
    "def josph_recurs(input_list, k, curr_index):\n",
    "    '''\n",
    "    Time complexity: O(N)\n",
    "    Space complexity: O(N) due to recursive call stack\n",
    "    '''\n",
    "\n",
    "    if len(input_list) == 1:\n",
    "        return input_list[0]\n",
    "\n",
    "    curr_index = (curr_index + k - 1) % len(input_list)\n",
    "    input_list.pop(curr_index)\n",
    "    \n",
    "    return josph_recurs(input_list, k, curr_index)\n",
    "    \n",
    "# josph_iter(5, 2)\n",
    "# josph_iter(7, 3)\n",
    "\n",
    "# josph_recurs([x for x in range(5)], 2, 0)\n",
    "# josph_recurs([x for x in range(7)], 3, 0)"
   ]
  },
  {
   "cell_type": "code",
   "execution_count": 41,
   "metadata": {},
   "outputs": [
    {
     "data": {
      "text/plain": [
       "4"
      ]
     },
     "execution_count": 41,
     "metadata": {},
     "output_type": "execute_result"
    }
   ],
   "source": [
    "def Josephus(n, k):\n",
    " \n",
    "    # initialize two variables i and ans\n",
    "    i = 1\n",
    "    ans = 0\n",
    "    while(i <= n):\n",
    " \n",
    "        # update the value of ans\n",
    "        ans = (ans + k) % i\n",
    "        i += 1\n",
    "     \n",
    "    # returning the required answer\n",
    "    return ans + 1\n",
    "\n",
    "Josephus(7, 3)"
   ]
  },
  {
   "cell_type": "code",
   "execution_count": 29,
   "metadata": {},
   "outputs": [
    {
     "data": {
      "text/plain": [
       "[10, 20, 40, 50]"
      ]
     },
     "execution_count": 29,
     "metadata": {},
     "output_type": "execute_result"
    }
   ],
   "source": [
    "test = [10,20,30,40,50]\n",
    "test.pop(2)\n",
    "test"
   ]
  },
  {
   "cell_type": "markdown",
   "metadata": {},
   "source": [
    "### Range Sum Queries Problem\n",
    "\n",
    "- Given an integer array and a set of ranges in it, compute the sum for each range\n",
    "    - Input: An integer array $(a_0, ... a_{n-1})$, and $q$ ranges $(l_0, r_0), (l_1, r_1) ... (l_q, r_q)$\n",
    "    - Output: For each range $(l,r)$, compute $\\text{range(l,r)} = \\sum_{l \\le i \\le r}a_i$"
   ]
  },
  {
   "cell_type": "code",
   "execution_count": 21,
   "metadata": {},
   "outputs": [
    {
     "data": {
      "text/plain": [
       "[12, 14, 9]"
      ]
     },
     "execution_count": 21,
     "metadata": {},
     "output_type": "execute_result"
    }
   ],
   "source": [
    "'''\n",
    "    Naive solution: Loop over the specified range\n",
    "    Time complexity: O((r - l) * q) \n",
    "    Space complexity: O(1) \n",
    "'''\n",
    "def range_sum_naive(array, index_range_set: list[tuple]):\n",
    "    range_sum = []\n",
    "    for index_range in index_range_set:\n",
    "        l, r = index_range\n",
    "        arraysum = 0\n",
    "        for i in range(l, r+1):\n",
    "            arraysum += array[i]\n",
    "        range_sum.append(arraysum)\n",
    "    return range_sum\n",
    "\n",
    "'''\n",
    "    Less Naive solution: Precompute the prefix sum for each position. So if you want to sum from some arbitrary positions l to r, simply take prefix sum at r minus prefix sum at l-1. Practically, this makes a big difference if you have a lot of ranges to compute, because you only loop over the array once\n",
    "    \n",
    "    Time complexity: \n",
    "        - Prefix sum: O(N)\n",
    "        - Range sum: O(1)\n",
    "    Space complexity: \n",
    "        - Prefix sum + Range sum: O(N)\n",
    "'''\n",
    "\n",
    "def range_sum_prefix(array, index_range_set):\n",
    "    \n",
    "    prefix_sum = []\n",
    "    prefix_sum.append(array[0])\n",
    "    for i in array[1:]:\n",
    "        prefix_sum.append(prefix_sum[-1] + i)\n",
    "\n",
    "    range_sum = []\n",
    "    for index_range in index_range_set:\n",
    "        l, r = index_range\n",
    "        range_sum.append(prefix_sum[r] - prefix_sum[l-1])\n",
    "    return range_sum\n",
    "        \n",
    "range_sum_naive([1,2,3,4,5], [(2,4), (1,4), (3,4)])\n",
    "range_sum_prefix([1,2,3,4,5], [(2,4), (1,4), (3,4)])"
   ]
  }
 ],
 "metadata": {
  "kernelspec": {
   "display_name": "kaggle",
   "language": "python",
   "name": "python3"
  },
  "language_info": {
   "codemirror_mode": {
    "name": "ipython",
    "version": 3
   },
   "file_extension": ".py",
   "mimetype": "text/x-python",
   "name": "python",
   "nbconvert_exporter": "python",
   "pygments_lexer": "ipython3",
   "version": "3.10.4"
  }
 },
 "nbformat": 4,
 "nbformat_minor": 2
}
