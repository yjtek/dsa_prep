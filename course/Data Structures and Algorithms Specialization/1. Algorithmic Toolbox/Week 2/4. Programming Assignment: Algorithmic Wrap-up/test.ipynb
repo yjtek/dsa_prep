{
 "cells": [
  {
   "cell_type": "markdown",
   "metadata": {},
   "source": [
    "## Section 2.1 Programming Challenges"
   ]
  },
  {
   "cell_type": "markdown",
   "metadata": {},
   "source": [
    "### 2.1.1 Fibonacci Number"
   ]
  },
  {
   "cell_type": "code",
   "execution_count": 45,
   "metadata": {},
   "outputs": [
    {
     "data": {
      "text/plain": [
       "832040"
      ]
     },
     "execution_count": 45,
     "metadata": {},
     "output_type": "execute_result"
    }
   ],
   "source": [
    "def fib_eff(n, fib_store={0:0, 1:1, 2:1}):\n",
    "    if n in fib_store.keys():\n",
    "        return fib_store.get(n)\n",
    "    \n",
    "    fib_store[n] = fib_eff(n-1) + fib_eff(n-2)\n",
    "    return fib_store[n]\n",
    "\n",
    "fib_eff(30)"
   ]
  },
  {
   "cell_type": "markdown",
   "metadata": {},
   "source": [
    "### 2.1.2 Last Digit of Fibonacci Number"
   ]
  },
  {
   "cell_type": "code",
   "execution_count": 2,
   "metadata": {},
   "outputs": [
    {
     "data": {
      "text/plain": [
       "0"
      ]
     },
     "execution_count": 2,
     "metadata": {},
     "output_type": "execute_result"
    }
   ],
   "source": [
    "def fib_last_digit(n):\n",
    "    if n <= 1:\n",
    "        return n\n",
    "\n",
    "    n_minus_1 = 1\n",
    "    n_minus_2 = 0\n",
    "    \n",
    "    for i in range(2, n+1):\n",
    "        # print('='*50)\n",
    "        # print(n_minus_1, n_minus_2)\n",
    "        n_minus_1, n_minus_2 =  (n_minus_1+n_minus_2) % 10, n_minus_1\n",
    "        # print(n_minus_1, n_minus_2)\n",
    "\n",
    "    return n_minus_1\n",
    "    \n",
    "fib_last_digit(30)"
   ]
  },
  {
   "cell_type": "markdown",
   "metadata": {},
   "source": [
    "### 2.1.3 Huge Fibonacci Number"
   ]
  },
  {
   "cell_type": "code",
   "execution_count": 28,
   "metadata": {},
   "outputs": [],
   "source": [
    "## The regular memoized fib_eff hits recursion limit. So change to iterative fib instead. This is still very slow for large values of n, so might be better to just adjust the recursion limit\n",
    "def fib_iter_mod(n, m):\n",
    "    curr, prev = 1, 1\n",
    "    for i in range(3, n+1):\n",
    "        curr, prev = curr+prev, curr\n",
    "    \n",
    "    return curr % m\n",
    "\n",
    "def fib_eff_mod(n, m, fib_store={0:0, 1:1, 2:1}):\n",
    "    if n in fib_store.keys():\n",
    "        return fib_store.get(n)\n",
    "    \n",
    "    fib_store[n] = fib_eff(n-1, m, fib_store) + fib_eff(n-2, m, fib_store)\n",
    "    return fib_store[n] % m\n",
    "\n",
    "# fib_iter(2816213588, 239)\n",
    "# fib_eff(115, 1000)"
   ]
  },
  {
   "cell_type": "markdown",
   "metadata": {},
   "source": [
    "### 2.1.4 Last digit of Fibonacci sum"
   ]
  },
  {
   "cell_type": "code",
   "execution_count": 59,
   "metadata": {},
   "outputs": [
    {
     "data": {
      "text/plain": [
       "5"
      ]
     },
     "execution_count": 59,
     "metadata": {},
     "output_type": "execute_result"
    }
   ],
   "source": [
    "def fib_sum_last_digit_naive(n):\n",
    "    if n <= 1:\n",
    "        return n\n",
    "    \n",
    "    fib_sum = 0\n",
    "    f0, f1, _sum = 0, 1, 1\n",
    "\n",
    "    for i in range(1, n):\n",
    "        f0, f1 = f1, f0+f1 \n",
    "        _sum += f1\n",
    "    \n",
    "    return int(str(_sum)[-1])\n",
    "\n",
    "def fib_sum_last_digit_eff(n, fib_store = {0:0,1:1,2:1}):\n",
    "    '''\n",
    "    Note that sum of F0 ... FN is simply F_{N+2} - 1\n",
    "    '''\n",
    "    if n <= 1:\n",
    "        return n\n",
    "    \n",
    "    if (n+2) not in fib_store.keys():\n",
    "        fib_store[n+2] = fib_eff(n+1) + fib_eff(n)\n",
    "    \n",
    "    return int(str(fib_store[n+2] - 1)[-1])\n",
    "\n",
    "fib_sum_last_digit_eff(100)\n",
    "# fib_eff(5)"
   ]
  },
  {
   "cell_type": "markdown",
   "metadata": {},
   "source": [
    "### 2.1.5 Last digit of Fibonacci partial sum"
   ]
  },
  {
   "cell_type": "code",
   "execution_count": 73,
   "metadata": {},
   "outputs": [
    {
     "data": {
      "text/plain": [
       "1"
      ]
     },
     "execution_count": 73,
     "metadata": {},
     "output_type": "execute_result"
    }
   ],
   "source": [
    "def fib_partial_sum(m, n, fib_store = {0:0, 1:1, 2:1}):\n",
    "    \n",
    "    '''\n",
    "    use result from 2.1.4 that sum f_0 to f_n = f_{n+2} - 1\n",
    "    '''\n",
    "    assert m <= n, 'm < n not satisfied'\n",
    "    diff = (fib_eff(n+2, fib_store) - 2) - (fib_eff(m+2-1, fib_store) - 2)\n",
    "    return int(str(diff)[-1])\n",
    "\n",
    "fib_partial_sum(3,7)"
   ]
  },
  {
   "cell_type": "markdown",
   "metadata": {},
   "source": [
    "### 2.1.6 Last digit of Fibonacci sum of squares"
   ]
  },
  {
   "cell_type": "code",
   "execution_count": 103,
   "metadata": {},
   "outputs": [
    {
     "name": "stdout",
     "output_type": "stream",
     "text": [
      "203023208030065646654504166904697594722575\n",
      "203023208030065646654504166904697594722575\n"
     ]
    },
    {
     "data": {
      "text/plain": [
       "5"
      ]
     },
     "execution_count": 103,
     "metadata": {},
     "output_type": "execute_result"
    }
   ],
   "source": [
    "import numpy as np\n",
    "def fib_sum_squares_last_digit(n, fib_store={0:0, 1:1, 2:1}):\n",
    "    '''\n",
    "    Using hint in question, f6 * f5 = f1**2 + f2**2 + f3**2 + f4**2 + f5**2.\n",
    "    In general, f_{n} * f_{n-1} = \\sum_{i=0}^{n-1} f_{i}**2\n",
    "    '''\n",
    "    sum_squares = fib_eff(n+1, fib_store) * fib_eff(n, fib_store)\n",
    "    return int(str(sum_squares)[-1])\n",
    "\n",
    "n = 101\n",
    "print(fib_eff(n) * fib_eff(n-1))\n",
    "print(np.sum([fib_eff(i)**2 for i in range(n)]))\n",
    "fib_sum_squares_last_digit(n-1)"
   ]
  },
  {
   "cell_type": "markdown",
   "metadata": {},
   "source": [
    "### 2.1.7 Greatest common denominator"
   ]
  },
  {
   "cell_type": "code",
   "execution_count": 112,
   "metadata": {},
   "outputs": [
    {
     "data": {
      "text/plain": [
       "17657"
      ]
     },
     "execution_count": 112,
     "metadata": {},
     "output_type": "execute_result"
    }
   ],
   "source": [
    "def gcd(a, b):\n",
    "    '''\n",
    "    Using result from Euclidean method \n",
    "    '''\n",
    "    if a < b:\n",
    "        a,b = b,a\n",
    "\n",
    "    if a % b == 0:\n",
    "        return min(a,b)\n",
    "    else:\n",
    "        return gcd(b, a%b)\n",
    "\n",
    "gcd(3, 7)\n",
    "gcd(28851538, 1183019)"
   ]
  },
  {
   "cell_type": "markdown",
   "metadata": {},
   "source": [
    "### 2.1.8 Least common multiple"
   ]
  },
  {
   "cell_type": "code",
   "execution_count": 113,
   "metadata": {},
   "outputs": [
    {
     "data": {
      "text/plain": [
       "467970912861.0"
      ]
     },
     "execution_count": 113,
     "metadata": {},
     "output_type": "execute_result"
    }
   ],
   "source": [
    "def lcm(a, b):\n",
    "    '''\n",
    "    - LCM and GCD have an interesting relationship.\n",
    "    - Suppose gcd(a, b) = x. That means that \n",
    "        - a = x * f_1 * f_2 * ... f_n \n",
    "        - b = x * g_1 * g_2 * ... g_n \n",
    "        - where f_i and g_j are prime factors\n",
    "    - Since x is gcd, it MUST be the case that f_1 ... f_n are distinct from g_1 ... g_n. \n",
    "        - Because if they are not distinct, the terms can be folded into the gcd!\n",
    "\n",
    "    - So this means that the LCM must be\n",
    "        - (a * b)/x = x * f_1 ... * f_n * g_1 * ... g_n\n",
    "    '''\n",
    "    x = gcd(a,b)\n",
    "    return a/x * b/x\n",
    "\n",
    "lcm(761457, 614573)"
   ]
  }
 ],
 "metadata": {
  "kernelspec": {
   "display_name": "kaggle",
   "language": "python",
   "name": "python3"
  },
  "language_info": {
   "codemirror_mode": {
    "name": "ipython",
    "version": 3
   },
   "file_extension": ".py",
   "mimetype": "text/x-python",
   "name": "python",
   "nbconvert_exporter": "python",
   "pygments_lexer": "ipython3",
   "version": "3.10.4"
  }
 },
 "nbformat": 4,
 "nbformat_minor": 2
}
