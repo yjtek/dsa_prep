{
 "cells": [
  {
   "cell_type": "markdown",
   "metadata": {},
   "source": [
    "- Greedy strategy: At each step, pick the local optimum and hope it'll become a global optimum\n",
    "    - e.g. You have a set of numbers [1,2,3,4,5]. Form the largest possible number from this set. To solve, we can pick the largest available number at each step, giving you 54321\n",
    "    - There is no guarantee that this works. For example, imagine we have [9,11,12]. Applying the previous algorithm gives us 12119, which is obvously smaller than 91211.\n",
    "    - So for greedy algorithms, you have to prove that it converges \n",
    "\n",
    "        "
   ]
  },
  {
   "cell_type": "markdown",
   "metadata": {},
   "source": [
    "- Queue of patients: \n",
    "    - Problem: $n$ patients have to come to the doctor's as 9am. They can be treated in any order. For the $i$-th patient, the time needed for treatment is $t_i$. How do we arrange the patients in such a queue that the waiting time is minimized\n",
    "        - Example: Let $t_1 = 15, t_2 = 20, t_3 = 10$. Assume arrangement 1,2,3. Then patient 1 doesn't wait, patient 2 waits 15 mins, and patient 3 waits 35 mins\n",
    "    - Let's try a greedy algorithm\n",
    "        - treat patient with minimum treatment time first, then recursively solve for the smaller set of patients\n",
    "        - Notice how we are breaking the problem down into subproblems\n",
    "            - A greedy choice is known as the **safe choice** if there is an optimal solution consistent with this choice\n",
    "        - In this case, treating the patient with minimum treatment time first is the safe choice\n",
    "            - We can show this by showing that there is no optimal solution such that there can be consecutive patients $p_x$ and $p_y$ with $t_x > t_y$\n",
    "            - Assume $t_x > t_y$\n",
    "            - Assume in some solution, there are patients in some order $p_1, ... p_x, p_y, ... p_n$. \n",
    "                - In this order, $p_y$ waits for $t_x$ minutes, and everyone after $p_y$ waits for both $t_x + t_y$\n",
    "            - Swapping to order $p_1, ... p_y, p_x, ... p_n$. \n",
    "                - Now, $p_x waits only for t_y minutes$, and everyone else still waits for $t_x + t_y$\n",
    "                - So total time has gone down!!\n",
    "            - Hence, an ordering must be optimal IFF $p_{n-1} < p_{n}, \\forall N$"
   ]
  },
  {
   "cell_type": "code",
   "execution_count": 6,
   "metadata": {},
   "outputs": [
    {
     "data": {
      "text/plain": [
       "(510, [10, 20, 30, 30, 40, 60])"
      ]
     },
     "execution_count": 6,
     "metadata": {},
     "output_type": "execute_result"
    }
   ],
   "source": [
    "import numpy as np\n",
    "\n",
    "def naive_min_total_waiting_time(treatment_times_array):\n",
    "    '''\n",
    "    For each of the n positions, we loop over the whole array to determine the minimum value for that position, then sum the waiting times\n",
    "\n",
    "    - Time complexity: O(N^2)\n",
    "    - Space complexity: O(N) due to list holding the treatment status\n",
    "    '''\n",
    "    waiting_time = 0\n",
    "    n = len(treatment_times_array)\n",
    "    treated = [0] * n\n",
    "    treat_order = []\n",
    "    for i in range(n):\n",
    "        tmin = np.inf\n",
    "        min_index = None\n",
    "        for j in range(n):\n",
    "            if (treated[j] == 0) & (treatment_times_array[j] < tmin):\n",
    "                tmin = treatment_times_array[j]\n",
    "                min_index = j\n",
    "        waiting_time += (n - i) * tmin\n",
    "        treated[min_index] = 1\n",
    "        treat_order.append(treatment_times_array[min_index])\n",
    "    return waiting_time, treat_order\n",
    "\n",
    "naive_min_total_waiting_time([10,30,20,40,30,60])"
   ]
  },
  {
   "cell_type": "markdown",
   "metadata": {},
   "source": [
    "- Summary\n",
    "    - Reduce and solve subproblems\n",
    "    - A choice is safe if optimum solution consistent with this choice. Greedy choices are not always safe \n",
    "    - So generally, we can use greedy algorithm by\n",
    "        - Use greedy choice\n",
    "        - Then prove that it is safe\n",
    "        - Then problem is reduced to subproblem"
   ]
  }
 ],
 "metadata": {
  "kernelspec": {
   "display_name": "kaggle",
   "language": "python",
   "name": "python3"
  },
  "language_info": {
   "codemirror_mode": {
    "name": "ipython",
    "version": 3
   },
   "file_extension": ".py",
   "mimetype": "text/x-python",
   "name": "python",
   "nbconvert_exporter": "python",
   "pygments_lexer": "ipython3",
   "version": "3.10.4"
  }
 },
 "nbformat": 4,
 "nbformat_minor": 2
}
