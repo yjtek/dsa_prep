{
 "cells": [
  {
   "cell_type": "markdown",
   "metadata": {},
   "source": [
    "### Section 3.1"
   ]
  },
  {
   "cell_type": "markdown",
   "metadata": {},
   "source": [
    "#### 3.1.1 Money Change"
   ]
  },
  {
   "cell_type": "markdown",
   "metadata": {},
   "source": [
    "- In this problem, you will implement a simple greedy algorithm used by cashiers all over the world. We assume that a cashier has unlimited number of coins of each denomination.\n",
    "    - **Input format:** Integer money.\n",
    "    - **Output format:** The minimum number of coins with denominations 1, 5, 10 that changes money.\n",
    "    - **Constraints:** $1 \\le \\text{money} \\le 10^3$"
   ]
  },
  {
   "cell_type": "code",
   "execution_count": 128,
   "metadata": {},
   "outputs": [
    {
     "data": {
      "text/plain": [
       "1000.0"
      ]
     },
     "execution_count": 128,
     "metadata": {},
     "output_type": "execute_result"
    }
   ],
   "source": [
    "def money_change(money: int) -> int:\n",
    "    count_coints = 0\n",
    "    \n",
    "    n_10 = money // 10\n",
    "    money -= n_10 * 10\n",
    "    \n",
    "    n_5 = money // 5\n",
    "    money -= n_5 * 5\n",
    "\n",
    "    return n_10 + n_5 + money\n",
    "\n",
    "# money_change(2)\n",
    "# money_change(28)\n",
    "money_change(1e4)"
   ]
  },
  {
   "cell_type": "markdown",
   "metadata": {},
   "source": [
    "#### 3.2.2 Maximum Value of the Loot"
   ]
  },
  {
   "cell_type": "markdown",
   "metadata": {},
   "source": [
    "- A thief breaks into a spice shop and finds 4 pounds of saffron, 3 pounds of vanilla, and 5 pounds of cinnamon. His backpack fits at most 9 pounds, therefore he cannot take everything. Assuming that the prices of saffron, vanilla, and cinnamon are $5000, $200, and $10, respectively, what is the most valuable loot in this case? If the thief takes $u_1$ pounds of saffron, $u_2$ pounds of vanilla, and $u_3$ pounds of cinnamon, the total value of the loot is $$5000 \\cdot \\frac{u_1}{4} + 200 \\cdot \\frac{u_2}{3} + 10 \\cdot \\frac{u_3}{5}$$ The thief would like to maximize the value of this expression subject to the following constraints: $u_1 \\le 4, u_2 \\le 3, u_3 \\le 5, u_1 + u_2 + u_3 \\le 9$\n",
    "    - **Input format:** The first line of the input contains the number $n$ of compounds and the capacity $W$ of a backpack. The next $n$ lines define the costs and weights of the compounds. The $i$-th line contains the cost $c_i$ and the weight $w_i$ of the $i$-th compound.\n",
    "    - **Output format:** Output the maximum value of compounds that fit into the backpack.\n",
    "    - **Constraints:** $1 \\le n \\le 10^3, 0 \\le W \\le 2 \\cdot 10^6; 0 \\le c_i \\le 2 \\cdot 10^6, 0 \\lt w_i \\le 2 \\cdot 10^6 \\text{ for all } 1 \\le i \\le n$. All the numbers are integers.\n",
    "    - **Extras:** Although the Input to this problem consists of integers, the Output may be non-integer. Therefore, the absolute value of the difference between the answer of your program and the optimal value should be at most $10^{−3}$. To ensure this, output your answer with at least four digits after the decimal point (otherwise your answer, while being computed correctly, can turn out to be wrong because of the rounding issues)\n"
   ]
  },
  {
   "cell_type": "code",
   "execution_count": 129,
   "metadata": {},
   "outputs": [
    {
     "data": {
      "text/plain": [
       "12010616.03033839"
      ]
     },
     "execution_count": 129,
     "metadata": {},
     "output_type": "execute_result"
    }
   ],
   "source": [
    "import numpy as np\n",
    "\n",
    "weights=list(np.random.randint(0, 2e7, size=int(1e4)))\n",
    "values=list(np.random.randint(0, 2e7, size=int(1e4)))\n",
    "capacity=np.random.randint(1, 1e4, size=1)[0]\n",
    "\n",
    "def optimal_value(capacity, weights, values):\n",
    "    updated_capacity = capacity\n",
    "    value_per_weight = [v/w for w,v in zip(weights,values)]\n",
    "    total_value = 0\n",
    "    while (updated_capacity != 0) and (len(value_per_weight) != 0):\n",
    "        # print('='*50)\n",
    "        max_index = np.argmax(value_per_weight)\n",
    "        item_available_weight = weights.pop(max_index)\n",
    "        item_value_per_weight = value_per_weight.pop(max_index)\n",
    "        # print(item_available_weight)\n",
    "        # print(item_value_per_weight)\n",
    "\n",
    "        item_weight_added = min(item_available_weight, updated_capacity)\n",
    "        # print(item_weight_added)\n",
    "\n",
    "\n",
    "        updated_capacity -= item_weight_added\n",
    "        # print(updated_capacity)\n",
    "\n",
    "        total_value += (item_weight_added * item_value_per_weight)\n",
    "        # print(total_value)\n",
    "\n",
    "    return total_value\n",
    "\n",
    "# optimal_value(50, [20,50,30], [60,100,120])\n",
    "# optimal_value(10, [30], [500])\n",
    "optimal_value(capacity, weights, values)"
   ]
  },
  {
   "cell_type": "markdown",
   "metadata": {},
   "source": [
    "#### 3.2.3 Car Fueling"
   ]
  },
  {
   "cell_type": "markdown",
   "metadata": {},
   "source": [
    "- Compute the minimum number of gas tank refills to get from one city to another.\n",
    "    - **Input format:** The first line contains an integer $d$. The second line contains an integer $m$. The third line specifies an integer $n$. Finally, the last line contains integers $\\text{stop}_1, \\text{stop}_2, ..., \\text{stop}_n$\n",
    "    - **Output format:** The minimum number of refills needed. If it is not possible to reach the destination, output −1.\n",
    "    - **Constraints:** $1 \\le d \\le 10^5, 1 \\le m \\le 400, 1 \\le n \\le 300, 0 \\lt \\text{stop}_1 \\lt \\text{stop}_2 \\lt ... \\lt \\text{stop}_n \\lt d$"
   ]
  },
  {
   "cell_type": "code",
   "execution_count": 130,
   "metadata": {},
   "outputs": [
    {
     "data": {
      "text/plain": [
       "27"
      ]
     },
     "execution_count": 130,
     "metadata": {},
     "output_type": "execute_result"
    }
   ],
   "source": [
    "# def min_refills(distance, tank, stops):\n",
    "#     # write your code here\n",
    "#     return -1\n",
    "\n",
    "# d, m, _, *stops = map(int, stdin.read().split())\n",
    "# print(min_refills(d, m, stops))\n",
    "\n",
    "import numpy as np\n",
    "\n",
    "# distance_between_cities = np.random.randint(1, 1e6, 1)[0]\n",
    "distance_between_cities = 1e4\n",
    "# distance_on_full_tank = np.random.randint(1, 400, 1)[0]\n",
    "distance_on_full_tank = 400\n",
    "# n = np.random.randint(1, 300, 1)[0]\n",
    "n = 300\n",
    "stops = sorted(list(np.random.randint(1, distance_between_cities, n)))\n",
    "\n",
    "def min_refills(distance_between_cities: float, distance_on_full_tank: float, stops: list[float]):\n",
    "    stops_remaining = stops\n",
    "    curr_position = 0\n",
    "    count_stops = 0\n",
    "\n",
    "    while (len(stops) != 0) and ((curr_position + distance_on_full_tank) < distance_between_cities):\n",
    "        try:\n",
    "            travel_till_index = np.argmax([x for x in stops_remaining if (x-curr_position) <= distance_on_full_tank])\n",
    "        except:\n",
    "            break\n",
    "\n",
    "        curr_position = stops_remaining[travel_till_index]\n",
    "        stops_remaining = stops_remaining[(travel_till_index+1):]\n",
    "        count_stops += 1\n",
    "    \n",
    "    if (curr_position + distance_on_full_tank) >= distance_between_cities:\n",
    "        return count_stops\n",
    "    else:\n",
    "        return -1\n",
    "    \n",
    "# min_refills(950, 400, [200, 375, 550, 750])\n",
    "# min_refills(5, 3, [1, 2, 5, 8])\n",
    "min_refills(distance_between_cities, distance_on_full_tank, stops)"
   ]
  },
  {
   "cell_type": "markdown",
   "metadata": {},
   "source": [
    "#### 3.2.4 Maximum Advertisement Revenue"
   ]
  },
  {
   "cell_type": "markdown",
   "metadata": {},
   "source": [
    "- You have $n = 3$ advertisement slots on your popular Internet page and you want to sell them to advertisers. They expect, respectively, $\\text{clicks}_1 = 10, \\text{clicks}_2 = 20, \\text{clicks}_3 = 30$ clicks per day. You found three advertisers willing to pay $\\text{price}_1 = \\$2, \\text{price}_2 = \\$3, and \\text{price}_3 = \\$5$ per click. How would you pair the slots and advertisers to maximize the revenue? \n",
    "    - **Input format:** The first line contains an integer $n$, the second one contains a sequence of integers $\\text{price}_1,...,\\text{price}_n$, the third one contains a sequence of integers $\\text{clicks}_1,...,\\text{clicks}_n$\n",
    "    - **Output format:** Output the maximum value of $(p_1 \\cdot c_1 + ... + p_n \\cdot c_n)$, where $c_1,...,c_n$ is a permutation of clicks.\n",
    "    - **Constraints**: $1 \\le n \\le 10^3, 0 \\le \\text{price}_i, \\text{clicks}_i \\le 10^5$ for all $1 \\le i \\le n$"
   ]
  },
  {
   "cell_type": "code",
   "execution_count": 131,
   "metadata": {},
   "outputs": [
    {
     "data": {
      "text/plain": [
       "6"
      ]
     },
     "execution_count": 131,
     "metadata": {},
     "output_type": "execute_result"
    }
   ],
   "source": [
    "sum([1,2,3])"
   ]
  },
  {
   "cell_type": "code",
   "execution_count": 132,
   "metadata": {},
   "outputs": [
    {
     "data": {
      "text/plain": [
       "1947206806826297"
      ]
     },
     "execution_count": 132,
     "metadata": {},
     "output_type": "execute_result"
    }
   ],
   "source": [
    "import numpy as np\n",
    "\n",
    "n = np.random.randint(1, 1e4, 1)[0]\n",
    "prices = list(np.random.randint(0, 1e6, n))\n",
    "clicks = list(np.random.randint(0, 1e6, n))\n",
    "\n",
    "def naive_max_dot_product(prices, clicks):\n",
    "    assert len(prices) == len(clicks)\n",
    "    \n",
    "    maxval = 0\n",
    "    while len(prices) != 0:\n",
    "        pmax = prices.pop(np.argmax(prices))\n",
    "        cmax = clicks.pop(np.argmax(clicks))\n",
    "        maxval += (pmax * cmax)\n",
    "    return maxval\n",
    "\n",
    "def fast_max_dot_product(prices, clicks):\n",
    "    assert len(prices) == len(clicks)\n",
    "    prices = sorted(prices, reverse=True)\n",
    "    clicks = sorted(clicks, reverse=True)\n",
    "    \n",
    "    return sum([p*c for p, c in zip(prices, clicks)])\n",
    "\n",
    "\n",
    "naive_max_dot_product([2,3,9], [7,4,2])\n",
    "naive_max_dot_product([23], [39])\n",
    "fast_max_dot_product(prices, clicks)"
   ]
  },
  {
   "cell_type": "markdown",
   "metadata": {},
   "source": [
    "#### 3.2.5 Collecting Signatures"
   ]
  },
  {
   "cell_type": "markdown",
   "metadata": {},
   "source": [
    "- You are responsible for collecting signatures from all tenants in a building. For each tenant, you know a period of time when he or she is at home. You would like to collect all signatures by visiting the building as few times as possible. For simplicity, we assume that when you enter the building, you instantly collect the signatures of all tenants that are in the building at that time\n",
    "    - **Input format:** The first line of the input contains the number n of segments. Each of the following n lines contains two integers $l_i$ and $r_i$ (separated by a space) defining the coordinates of endpoints of the i-th segment.\n",
    "    - **Output format:** The minimum number $k$ of points on the first line and the integer coordinates of $k$ points (separated by spaces) on the second line. You can output the points in any order. If there are multiple such sets of points, you can output any of them.\n",
    "    - **Constraints:** $1 \\le n \\le 100; 0 \\le l_i \\le r_i \\le 10^9$ for all $i$"
   ]
  },
  {
   "cell_type": "code",
   "execution_count": 133,
   "metadata": {},
   "outputs": [],
   "source": [
    "import numpy as np\n",
    "# n = np.random.randint(1, 100, 1)[0]\n",
    "n = 100\n",
    "segments = []\n",
    "for _ in range(n):\n",
    "    x = np.random.randint(0, 1e10, 1)[0]\n",
    "    segments.append((x, np.random.randint(x, 1e10, 1)[0]))\n",
    "\n",
    "def optimal_points(segments: list[tuple]):\n",
    "    segments_sort_left_bound = sorted(segments, key=lambda x: x[0]) \n",
    "\n",
    "    prev_segment = None\n",
    "    curr_segment = None\n",
    "    right_bound = -1\n",
    "    points = [] \n",
    "    \n",
    "    # print(segments_sort_left_bound)\n",
    "    while len(segments_sort_left_bound) != 0:\n",
    "        # print('='*50)\n",
    "        # print(f'{segments_sort_left_bound=}')\n",
    "        # print(f'{prev_segment=}')\n",
    "        # print(f'{curr_segment=}')\n",
    "        \n",
    "        if (curr_segment is None) & (prev_segment is None):\n",
    "            prev_segment = segments_sort_left_bound.pop(0)\n",
    "            right_bound = prev_segment[1]\n",
    "            \n",
    "        curr_segment = segments_sort_left_bound.pop(0)\n",
    "        \n",
    "        # print(f'{segments_sort_left_bound=}')\n",
    "        # print(f'{prev_segment=}')\n",
    "        # print(f'{curr_segment=}')\n",
    "        # print(f'{right_bound=}')\n",
    "        # print(f'{points=}')\n",
    "\n",
    "        if curr_segment[0] > right_bound:\n",
    "            prev_segment, curr_segment = curr_segment, None\n",
    "            points.append(right_bound)\n",
    "            right_bound = prev_segment[1] \n",
    "        elif curr_segment[1] < right_bound:\n",
    "            right_bound = curr_segment[1]\n",
    "\n",
    "    points.append(right_bound)\n",
    "    return points\n",
    "\n",
    "# optimal_points([(1,3), (2,5), (3,6)])\n",
    "# optimal_points([(4,7), (1,3), (2,5), (5,6)])\n",
    "# optimal_points(segments)"
   ]
  },
  {
   "cell_type": "markdown",
   "metadata": {},
   "source": [
    "#### 3.2.6 Maximum Number of Prizes"
   ]
  },
  {
   "cell_type": "markdown",
   "metadata": {},
   "source": [
    "- You are organizing a competition for children and have $n$ candies to give as prizes. You would like to use these candies for top $k$ places in this competition with a restriction that a higher place gets a larger number of candies. To make as many children happy as possible, you need to find the largest value of $k$ for which it is possible.\n",
    "    - **Input format:** Integer $n$\n",
    "    - **Output format:** In the first line, output the maximum number $k$ such that n can be represented as the sum of $k$ pairwise distinct positive integers. In the second line, output $k$ pairwise distinct positive integers that sum up to $n$ (if there are multiple such representations, output any of them).\n",
    "    - **Constraints:** $1 \\le n \\le 10^9$"
   ]
  },
  {
   "cell_type": "code",
   "execution_count": 191,
   "metadata": {},
   "outputs": [
    {
     "data": {
      "text/plain": [
       "[1, 2, 3, 4]"
      ]
     },
     "execution_count": 191,
     "metadata": {},
     "output_type": "execute_result"
    }
   ],
   "source": [
    "def naive_optimal_summands(n) -> list:\n",
    "    summands = []\n",
    "    i = 0\n",
    "    \n",
    "    while sum(summands) < n:\n",
    "        i += 1\n",
    "        summands.append(i)\n",
    "    \n",
    "    if sum(summands) > n:\n",
    "        exceed = sum(summands) - n\n",
    "        remainder = summands.pop() - exceed\n",
    "        summands[-1] += remainder\n",
    "        \n",
    "    # write your code here\n",
    "    return summands\n",
    "\n",
    "def fast_optimal_summands(n) -> list:\n",
    "    guess = n\n",
    "    lb = 1\n",
    "    ub = guess\n",
    "    sumval_np1 = ((guess+1) * (guess+2))/2\n",
    "    sumval = (guess * (guess+1))/2\n",
    "    \n",
    "    i = 0\n",
    "    while not ((sumval <= n) and (sumval_np1 > n)):\n",
    "        # print('='*50)\n",
    "        # print(f'{ub=}')\n",
    "        # print(f'{lb=}')\n",
    "        # print(f'{guess=}')\n",
    "        # print(f'{sumval=}')\n",
    "        # print(f'{sumval_np1=}')\n",
    "        # print(f'target={n}')        \n",
    "        \n",
    "        if (sumval > n):\n",
    "            ub = (lb+ub) // 2 \n",
    "        elif (sumval_np1 < n):\n",
    "            lb = guess\n",
    "\n",
    "        if guess == ((lb + ub) // 2):\n",
    "            guess += 1\n",
    "        else:\n",
    "            guess = (lb + ub) // 2\n",
    "        \n",
    "        sumval_np1 = ((guess+1) * (guess+2))/2\n",
    "        sumval = (guess * (guess+1))/2\n",
    "        \n",
    "    # print(f'while loop terminated at: {guess}')\n",
    "    # print(sumval)\n",
    "    # print(sumval_np1)\n",
    "    # print(n)\n",
    "    \n",
    "    if sumval == n:\n",
    "        return list(np.arange(guess) + 1)\n",
    "    elif sumval < n:\n",
    "        returnval = list(np.arange(guess) + 1)\n",
    "        returnval[-1] += int(n - sumval)\n",
    "        return returnval\n",
    "\n",
    "# fast_optimal_summands(36)\n",
    "# len(fast_optimal_summands(1e9))\n",
    "fast_optimal_summands(10)"
   ]
  },
  {
   "cell_type": "markdown",
   "metadata": {},
   "source": [
    "#### 3.2.7 Maximum Salary"
   ]
  },
  {
   "cell_type": "markdown",
   "metadata": {},
   "source": [
    "- This is probably the most important problem in this book. As the last question on an interview, your future boss gives you a few pieces of paper with a single number written on each of them and asks you to compose a largest number from these numbers. The resulting number is going to be your salary, so you are very motivated to solve this problem\n",
    "\n",
    "- Recall the algorithm for this problem that works for single digit integers: sort the input integers in decreasing order and concatenate them. As we know already, this algorithm does not always maximize your salary: for example, for an input consisting of two integers 23 and 3 it returns 233, while the largest number is 323.\n",
    "\n",
    "- Not to worry, all you need to do to maximize your salary is to sort the input integers with respect to some other ordering. For example, this ordering should tell us that 3 should precede 32.\n",
    "\n",
    "    - **Input format**: The first line of the input contains an integer $n$. The second line contains integers $a_1,...,a_n$\n",
    "    - **Output format**: The largest number that can be composed out of $a_1,...,a_n$\n",
    "    - **Constraints**: $1 \\le n \\le 100; 1 \\le a_i \\le 10^3 \\forall 1 \\le i \\le n$"
   ]
  },
  {
   "cell_type": "code",
   "execution_count": 229,
   "metadata": {},
   "outputs": [
    {
     "data": {
      "text/plain": [
       "9801968296499517947593569165904489698961895891787168575857285688542843184068251811803780377827770276687651757975217456745073507270717070869966966693168986801674167336722658265406536638761406085715544552544153125287519851351204769474702461444924406436743454326407640103957380036203583453357318831053052983270426522449239623892334212104184716651611567145213651177115610901082107310671013"
      ]
     },
     "execution_count": 229,
     "metadata": {},
     "output_type": "execute_result"
    }
   ],
   "source": [
    "import numpy as np\n",
    "n = np.random.randint(1, 100, 1)[0]\n",
    "n = 100\n",
    "numbers = list(np.random.randint(1, 1e4, n))\n",
    "\n",
    "def largest_number_fast(numbers):\n",
    "    for i in range(len(numbers)-1):\n",
    "        for j in range(i+1, len(numbers)):\n",
    "            xy = str(numbers[i]) + str(numbers[j])\n",
    "            yx = str(numbers[j]) + str(numbers[i])\n",
    "            if xy <= yx:\n",
    "                numbers[i], numbers[j] = numbers[j], numbers[i]\n",
    "    return int(''.join([str(x) for x in numbers]))\n",
    "            \n",
    "# largest_number_fast([21,2])\n",
    "# largest_number_fast([9,4,6,1,9])\n",
    "# largest_number_fast([23, 39, 92])\n",
    "# largest_number_fast([5,1,9,2,23,21])\n",
    "# largest_number_fast(numbers)"
   ]
  },
  {
   "cell_type": "markdown",
   "metadata": {},
   "source": []
  }
 ],
 "metadata": {
  "kernelspec": {
   "display_name": "kaggle",
   "language": "python",
   "name": "python3"
  },
  "language_info": {
   "codemirror_mode": {
    "name": "ipython",
    "version": 3
   },
   "file_extension": ".py",
   "mimetype": "text/x-python",
   "name": "python",
   "nbconvert_exporter": "python",
   "pygments_lexer": "ipython3",
   "version": "3.10.4"
  }
 },
 "nbformat": 4,
 "nbformat_minor": 2
}
