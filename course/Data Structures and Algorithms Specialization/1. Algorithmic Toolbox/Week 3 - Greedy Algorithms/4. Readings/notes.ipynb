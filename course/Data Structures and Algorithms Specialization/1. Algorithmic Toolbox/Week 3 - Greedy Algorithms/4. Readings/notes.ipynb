{
 "cells": [
  {
   "cell_type": "markdown",
   "metadata": {},
   "source": [
    "- Remember, you MUST prove correctness of greedy step\n",
    "\n",
    "- Reusing example from part 1, we want to make the largest possible number from a set of numbers. Can we simply take the largest possible number at each step?\n",
    "    - Consider an arbitrary optimal solution. If it belongs to the restricted search space, then we are done. If it does not belong to the restricted search space, tweak it so that it is still optimum and belongs to the restricted search space.\n",
    "    - Here, we will prove the correctness of LargestConcatenate for single digit numbers (the correctness of Change for denominations 1, 5, and 10 will be given later). Let $N$ be the largest number that can be obtained by concatenating digits $d_1 ... d_n$ in some order and let $d_m$ be the largest digit\n",
    "    - Then $N$ starts with $d_m$\n",
    "    - If $N$ does not start with $d_m$, $N$ has the form $d_i...d_m...$\n",
    "    - But then swapping $d_i$ and $d_m$ gets us a larger number"
   ]
  },
  {
   "cell_type": "markdown",
   "metadata": {},
   "source": [
    "- Problem: Compute the minimum number of coins needed to change a given value into coins with denominations 1, 5, 10\n",
    "- Input: integer `money`\n",
    "- Output: Min number of coins  with denomination 1, 5, 10 that sum to `money`\n",
    "\n",
    "- We can solve this by using largest denomination first!\n",
    "    - Proof: Same as above. Let's suppose we have some input $N$\n",
    "    - Let's suppose I have solution ${x_1, x_2 , x_3}$\n",
    "    - If I am using fewer 10s than possible, then I can always add a 10 and take out 2 corresponding 5s, or 10 corresponding 1s, to get fewer coins\n",
    "    - So it must be the case that I should maximise the largest deonomination first\n",
    "\n",
    "- However, notice that this only works if the lower denominations are factors of the largest. i.e. the larger denomination is just some multiple of lower ones. Let's see a case where greedy algorithm fails\n",
    "    - Denominations [1,4,6], input 8\n",
    "    - Greedy algo gives 1 of 6 and 2 of 2\n",
    "    - But 2 of 4 is smaller!\n",
    "    - Fails because 6 is not a multiple of 4\n"
   ]
  }
 ],
 "metadata": {
  "language_info": {
   "name": "python"
  }
 },
 "nbformat": 4,
 "nbformat_minor": 2
}
