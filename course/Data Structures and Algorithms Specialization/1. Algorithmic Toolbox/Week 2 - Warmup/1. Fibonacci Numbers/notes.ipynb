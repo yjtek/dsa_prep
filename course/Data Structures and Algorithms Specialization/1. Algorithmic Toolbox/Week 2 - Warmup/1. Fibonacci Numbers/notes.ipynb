{
 "cells": [
  {
   "cell_type": "markdown",
   "metadata": {},
   "source": [
    "### Fibonacci numbers"
   ]
  },
  {
   "cell_type": "markdown",
   "metadata": {},
   "source": [
    "- Fibonacci numbers are defined recursively as $F_n = F_{n-1} + F_{n-2}$\n",
    "- Algorithmically, we know that we can simply recursively compute Fibonacci numbers"
   ]
  },
  {
   "cell_type": "code",
   "execution_count": 6,
   "metadata": {},
   "outputs": [
    {
     "data": {
      "text/plain": [
       "832040"
      ]
     },
     "execution_count": 6,
     "metadata": {},
     "output_type": "execute_result"
    }
   ],
   "source": [
    "def fib(n):\n",
    "    if n == 0:\n",
    "        return 0\n",
    "    elif n <= 2:\n",
    "        return 1\n",
    "    else:\n",
    "        return fib(n-1) + fib(n-2)\n",
    "\n",
    "fib(20)\n",
    "fib(30)"
   ]
  },
  {
   "cell_type": "markdown",
   "metadata": {},
   "source": [
    "- But run-time wise, this is a really bad. Because you are recursively calling the function multiple times, you need to compute the same number multiple times. Let's step through one example to see what we mean:\n",
    "    - When you call $fib(n)$, it calls $fib(n-1)$ and $fib(n-2)$. \n",
    "    - To get $fib(n-1)$, it calls $fib(n-2)$ and $fib(n-3)$\n",
    "    - And so on\n",
    "    - But notice, you call $fib(n-2)$ twice, even though you are computing the same thing!!\n",
    "    - This is obviously a waste of effort\n",
    "\n",
    "- How can we make the algorithm more efficient?\n",
    "    - Store numbers! So for each value of $fib(n)$, we only compute it once"
   ]
  },
  {
   "cell_type": "code",
   "execution_count": 29,
   "metadata": {},
   "outputs": [
    {
     "data": {
      "text/plain": [
       "832040"
      ]
     },
     "execution_count": 29,
     "metadata": {},
     "output_type": "execute_result"
    }
   ],
   "source": [
    "fib_store: dict = {\n",
    "    0: 0,\n",
    "    1: 1,\n",
    "    2: 1\n",
    "}\n",
    "def fib_eff(n, fib_store=fib_store):\n",
    "    if n in fib_store.keys():\n",
    "        return fib_store.get(n)\n",
    "    else:\n",
    "        fib_store[n] = fib_eff(n-1, fib_store) + fib_eff(n-2, fib_store)\n",
    "        return fib_store[n]\n",
    "\n",
    "# fib_eff(20)\n",
    "fib_eff(30)"
   ]
  },
  {
   "cell_type": "code",
   "execution_count": 24,
   "metadata": {},
   "outputs": [
    {
     "name": "stdout",
     "output_type": "stream",
     "text": [
      "741 ms ± 15.3 ms per loop (mean ± std. dev. of 7 runs, 1 loop each)\n"
     ]
    }
   ],
   "source": [
    "%timeit fib(30)"
   ]
  },
  {
   "cell_type": "code",
   "execution_count": 25,
   "metadata": {},
   "outputs": [
    {
     "name": "stdout",
     "output_type": "stream",
     "text": [
      "213 ns ± 12.2 ns per loop (mean ± std. dev. of 7 runs, 1,000,000 loops each)\n"
     ]
    }
   ],
   "source": [
    "%timeit fib_eff(30)"
   ]
  }
 ],
 "metadata": {
  "kernelspec": {
   "display_name": "kaggle",
   "language": "python",
   "name": "python3"
  },
  "language_info": {
   "codemirror_mode": {
    "name": "ipython",
    "version": 3
   },
   "file_extension": ".py",
   "mimetype": "text/x-python",
   "name": "python",
   "nbconvert_exporter": "python",
   "pygments_lexer": "ipython3",
   "version": "3.10.4"
  }
 },
 "nbformat": 4,
 "nbformat_minor": 2
}
