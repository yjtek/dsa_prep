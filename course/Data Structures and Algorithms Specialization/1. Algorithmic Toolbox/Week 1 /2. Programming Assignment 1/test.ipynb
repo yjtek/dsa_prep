{
 "cells": [
  {
   "cell_type": "markdown",
   "metadata": {},
   "source": [
    "### Problem: Given two digits $0 \\le a,b \\le 9$, find $a + b$\n",
    "\n",
    "### Input: a and b\n",
    "\n",
    "### Output: a + b"
   ]
  },
  {
   "cell_type": "code",
   "execution_count": null,
   "metadata": {},
   "outputs": [],
   "source": [
    "def sum_two_digits(a, b) -> float:\n",
    "    assert 0 <= a <= 9, 'a out of bounds'\n",
    "    assert 0 <= b <= 9, 'b out of bounds'\n",
    "    return a + b"
   ]
  }
 ],
 "metadata": {
  "kernelspec": {
   "display_name": "kaggle",
   "language": "python",
   "name": "python3"
  },
  "language_info": {
   "name": "python",
   "version": "3.10.4"
  }
 },
 "nbformat": 4,
 "nbformat_minor": 2
}
