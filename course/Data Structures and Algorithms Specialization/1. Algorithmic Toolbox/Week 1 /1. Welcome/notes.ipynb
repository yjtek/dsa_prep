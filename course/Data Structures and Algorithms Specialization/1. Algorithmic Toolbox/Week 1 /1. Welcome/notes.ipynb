{
 "cells": [
  {
   "cell_type": "markdown",
   "metadata": {},
   "source": [
    "### Königsberg bridge problem"
   ]
  },
  {
   "cell_type": "markdown",
   "metadata": {},
   "source": [
    "- Degree of graph node is the number of connections (i.e. even nodes have even number of connections)\n",
    "- A cycle in a graph is Eulerian if it visits every edge once\n",
    "- A graph is Eulerian if it has an Eulerian cycle \n",
    "- Euler's theorem: A graph is Eulerian IFF it is balanced \n",
    "- Eulerian path theorem: A connected graph has an Eulerian path IFF it is either balanced or has 2 odd nodes\n",
    "- Eulerian path theorem (directed graph): A strongly connected directed graph is Eulerian IFF it is balanced"
   ]
  },
  {
   "cell_type": "markdown",
   "metadata": {},
   "source": [
    "### Josephus Problem"
   ]
  },
  {
   "cell_type": "markdown",
   "metadata": {},
   "source": [
    "- The problem set up: $n$ people in a circle, and every $k$-th person dies until the last one stands. Where should you stand?\n",
    "- For $k = 2$, there is a specific pattern\n",
    "    - https://www.youtube.com/watch?v=uCsD3ZGzMgE&t=624s\n",
    "    - In sitution where $n$ is a power of 2, the person who starts will win.\n",
    "    - So we can rewrite $n$ as $2^a + l$. So after $l$ steps, whoever's turn it is will win the game\n",
    "    - So the winner will be the $2l + 1$ position"
   ]
  },
  {
   "cell_type": "markdown",
   "metadata": {},
   "source": []
  }
 ],
 "metadata": {
  "language_info": {
   "name": "python"
  }
 },
 "nbformat": 4,
 "nbformat_minor": 2
}
