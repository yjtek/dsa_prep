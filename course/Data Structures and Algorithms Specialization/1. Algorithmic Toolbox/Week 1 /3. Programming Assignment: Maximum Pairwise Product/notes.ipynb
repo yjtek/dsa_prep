{
 "cells": [
  {
   "cell_type": "markdown",
   "metadata": {},
   "source": [
    "### Problem: Given a sequence of integers $0 \\le a_0,..., a_{n-1} \\le 10^5$, find the maximum pairwise product, that is $\\max_{0 \\le i \\neq j \\le n-1} a_i a_j$\n",
    "\n",
    "- Input format: The input contains $n$ non-negative integers $0 \\le a_0, ... a_{n-1} \\le 10^5$\n",
    "\n",
    "- Output format: Output a single number, the maximum pairwise product \n",
    "\n",
    "- Examples: \n",
    "    - soln([1,2,3]) = 6\n",
    "    - soln([7, 5, 14, 2, 8, 8, 10, 1, 2, 3]) = 140"
   ]
  },
  {
   "cell_type": "code",
   "execution_count": 2,
   "metadata": {},
   "outputs": [],
   "source": [
    "import numpy as np"
   ]
  },
  {
   "cell_type": "markdown",
   "metadata": {},
   "source": [
    "### Solution"
   ]
  },
  {
   "cell_type": "markdown",
   "metadata": {},
   "source": [
    "- We can first implement this in a naive way by using nested loops. "
   ]
  },
  {
   "cell_type": "code",
   "execution_count": 12,
   "metadata": {},
   "outputs": [
    {
     "data": {
      "text/plain": [
       "140"
      ]
     },
     "execution_count": 12,
     "metadata": {},
     "output_type": "execute_result"
    }
   ],
   "source": [
    "def max_pairwise_product(a: list[float]) -> float:\n",
    "    maxval = -np.inf\n",
    "    for i in range(len(a)-1):\n",
    "        for j in range(i+1, len(a)):\n",
    "            if a[i] * a[j] > maxval:\n",
    "                maxval = a[i] * a[j]\n",
    "    return maxval\n",
    "        \n",
    "max_pairwise_product([1,2,3])\n",
    "max_pairwise_product([7,5,14,2,8,8,10,1,2,3])"
   ]
  },
  {
   "cell_type": "markdown",
   "metadata": {},
   "source": [
    "- This works fine. But it's obvious that we'll run into issues if the list is large. The culprit here is obviously the nested loop, creating an $O(N^2)$ solution\n",
    "\n",
    "- How can we fix this? Instead of passing over the list $n * n$ times, we go over it once to find the max value, and once more to find the second largest, giving us an $O(N)$ runtime"
   ]
  },
  {
   "cell_type": "code",
   "execution_count": 10,
   "metadata": {},
   "outputs": [
    {
     "data": {
      "text/plain": [
       "140"
      ]
     },
     "execution_count": 10,
     "metadata": {},
     "output_type": "execute_result"
    }
   ],
   "source": [
    "def max_pairwise_product(a: list[float]) -> float:\n",
    "    maxval_index = -1\n",
    "    for i in range(len(a)):\n",
    "        if ((maxval_index == -1) or (a[i] > a[maxval_index])):\n",
    "            maxval_index = i\n",
    "\n",
    "    maxval_index2 = -1\n",
    "    for i in range(len(a)):\n",
    "        if i == maxval_index:\n",
    "            continue\n",
    "        if ((maxval_index2 == -1) or (a[i] > a[maxval_index2])):\n",
    "            maxval_index2 = i\n",
    "    return a[maxval_index] * a[maxval_index2]\n",
    "        \n",
    "max_pairwise_product([1,2,3])\n",
    "max_pairwise_product([7,5,14,2,8,8,10,1,2,3])"
   ]
  },
  {
   "cell_type": "markdown",
   "metadata": {},
   "source": [
    "- In some interviews, there will be cases where it is not possible to see where your test has failed. So we need to wrote some code to brute force the testing process. Here, we give an example of how this might be done"
   ]
  },
  {
   "cell_type": "code",
   "execution_count": 9,
   "metadata": {},
   "outputs": [],
   "source": [
    "def generate_test():\n",
    "    array_size=np.random.randint(low=0, high=1e5, size=1)\n",
    "    array=np.random.randint(low=0, high=1e5, size=array_size)\n",
    "    return list(array)\n",
    "\n",
    "def brute_force_test(max_test):\n",
    "    i = 0\n",
    "    while i <= max_test:\n",
    "        test = generate_test()\n",
    "        my_answer = max_pairwise_product(test)\n",
    "\n",
    "        highest_val = max(test)\n",
    "        test.remove(highest_val)\n",
    "        second_highest_val = max(test)\n",
    "        correct_answer = highest_val * second_highest_val\n",
    "        assert(correct_answer == my_answer)\n",
    "        i+=1\n",
    "\n",
    "brute_force_test(100)"
   ]
  }
 ],
 "metadata": {
  "kernelspec": {
   "display_name": "kaggle",
   "language": "python",
   "name": "python3"
  },
  "language_info": {
   "codemirror_mode": {
    "name": "ipython",
    "version": 3
   },
   "file_extension": ".py",
   "mimetype": "text/x-python",
   "name": "python",
   "nbconvert_exporter": "python",
   "pygments_lexer": "ipython3",
   "version": "3.10.4"
  }
 },
 "nbformat": 4,
 "nbformat_minor": 2
}
