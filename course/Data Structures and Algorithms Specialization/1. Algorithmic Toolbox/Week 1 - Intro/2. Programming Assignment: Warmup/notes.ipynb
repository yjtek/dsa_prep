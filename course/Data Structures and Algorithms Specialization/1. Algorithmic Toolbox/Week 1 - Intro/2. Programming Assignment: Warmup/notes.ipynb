{
 "cells": [
  {
   "cell_type": "markdown",
   "metadata": {},
   "source": [
    "### Problem: Given two digits $0 \\le a,b \\le 9$, find $a + b$\n",
    "\n",
    "### Input: a and b\n",
    "\n",
    "### Output: a + b"
   ]
  },
  {
   "cell_type": "code",
   "execution_count": 7,
   "metadata": {},
   "outputs": [
    {
     "data": {
      "text/plain": [
       "9"
      ]
     },
     "execution_count": 7,
     "metadata": {},
     "output_type": "execute_result"
    }
   ],
   "source": [
    "def sum_two_digits(a, b) -> float:\n",
    "    assert 0 <= a <= 9, 'a out of bounds'\n",
    "    assert 0 <= b <= 9, 'b out of bounds'\n",
    "    return a + b\n",
    "\n",
    "sum_two_digits(2, 7)"
   ]
  }
 ],
 "metadata": {
  "kernelspec": {
   "display_name": "kaggle",
   "language": "python",
   "name": "python3"
  },
  "language_info": {
   "codemirror_mode": {
    "name": "ipython",
    "version": 3
   },
   "file_extension": ".py",
   "mimetype": "text/x-python",
   "name": "python",
   "nbconvert_exporter": "python",
   "pygments_lexer": "ipython3",
   "version": "3.10.4"
  }
 },
 "nbformat": 4,
 "nbformat_minor": 2
}
