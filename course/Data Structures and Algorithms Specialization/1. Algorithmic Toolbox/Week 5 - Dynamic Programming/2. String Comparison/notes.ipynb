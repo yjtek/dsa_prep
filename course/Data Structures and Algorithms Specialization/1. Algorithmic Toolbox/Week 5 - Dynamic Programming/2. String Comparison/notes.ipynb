{
 "cells": [
  {
   "cell_type": "markdown",
   "metadata": {},
   "source": [
    "### String comparison"
   ]
  },
  {
   "cell_type": "markdown",
   "metadata": {},
   "source": [
    "- This problem was inspired by gene matching in biology\n",
    "\n",
    "- **Problem:** Imagine you have 2 strings, and you want to measure the similarity between them. Starting from the beginning of both strings, you can take the following actions\n",
    "    - You can pop both starting letters from the strings\n",
    "    - You can insert a space into 1 of the strings\n",
    "    - You can delete a letter from 1 of the strings\n",
    "    \n",
    "    - If you pop both letters and they match, you get +1 score. For every mismatch, you get $-\\mu$ score, and every insertion/deletion gets $-\\sigma$ score\n",
    "        - $\\text{Score} = \\text{matches} - \\mu * \\text{mismatch} - \\sigma * \\text{insert or delete}$\n",
    "\n",
    "    - What is the maximum score for 2 given strings?\n",
    "\n",
    "- **Input:** Two strings $s_1, s_2$, mismatch penalty $\\mu$, indel (insert/delete) penalty $\\sigma$\n",
    "\n",
    "- **Output:** An alignment of the strings maximising the score"
   ]
  },
  {
   "cell_type": "markdown",
   "metadata": {},
   "source": [
    "### Approach"
   ]
  },
  {
   "cell_type": "markdown",
   "metadata": {},
   "source": [
    "- We can recast this problem into another simpler problem; notice that maximising the length of a common subsequence between 2 strings will maximise the alignment score if $\\mu = \\sigma = 0$\n",
    "    - Seeing this is trivial; if there is no penalty for misalignent and for insert/del operations, then we want to perform as many actions as possible to maximise our common letters\n",
    "\n",
    "- So the problem becomes: given 2 strings, what is the minimum number of inserts/deletes/substitutions that are needed to transform one string to another\n",
    "    - Example: Given `EDITING` and `DISTANCE` as strings, the optimal alignment is\n",
    "    - `E - D - I - _ - T - I - N - G - _`\n",
    "    - `_ - D - I - S - T - A - N - C - E`\n",
    "    - There are\n",
    "        - 4 matches: `D`, `I`, `T`, `N`\n",
    "        - 2 mismatches: `I <-> A`, `G <-> C`\n",
    "        - 2 insertion + 1 deletion (or vice versa depending on which way you go for)"
   ]
  },
  {
   "cell_type": "markdown",
   "metadata": {},
   "source": [
    "- Let's represent this as a table\n",
    "\n",
    "|       | _ | D | I | S | T | A | N | C | E | \n",
    "|   -   | - | - | - | - | - | - | - | - | - |\n",
    "| **_** | 0 | 1 | 2 | 3 | 4 | 5 | 6 | 7 | 8 |\n",
    "| **E** | 1 | 1 | 2 | 3 | 4 | 5 | 6 | 7 | 7 |\n",
    "| **D** | 2 | **(ii) 1** | 2 | 3 | 4 | 5 | 6 | 7 | 8 |\n",
    "| **I** | 3 | 2 | 1 | **(i) 2** | 3 | 4 | 5 | 6 | 7 |\n",
    "| **T** | 4 | 3 | **(iii) 2** | **(iv) 2** | 2 | 3 | 4 | 5 | 6 |\n",
    "| **I** | 5 | 4 | 3 | 3 | 3 | 3 | 4 | 5 | 6 |\n",
    "| **N** | 6 | 5 | 4 | 4 | 4 | 4 | 3 | 4 | 5 |\n",
    "| **G** | 7 | 6 | 5 | 5 | 5 | 5 | 4 | 4 | 5 |"
   ]
  },
  {
   "cell_type": "markdown",
   "metadata": {},
   "source": [
    "- The first row and first column is trivial\n",
    "    - Going from an empty string to either of the words is simply adding the required number of characters. So going from `_` to `E` in `EDITING` will require 1 operation\n",
    "\n",
    "- What about the other rows and columns?\n",
    "    - Remember, a dynamic programming problem is simply a **recursion problem** with cached intermediate solutions\n",
    "    - So if we want a DP solution, we need to set up a recursive relationship between each element and its earlier elements!\n",
    "    - What is the recursive solution here? \n",
    "        1. Note that to get from 1 string to another string, we must first get to its substring - 1\n",
    "            - For example, to get from `ABC --> ABCDE`, we must first get from `ABC --> ABCD --> ABCDE`\n",
    "            - So the optimal path to get from string A to string B is simply the optimal path to get from string A to string B' plus 1 step, where B' has 1 less character than B\n",
    "- It is easiest to work with examples:\n",
    "    - Looking at element **(i)** in the table\n",
    "        - We are asking for the minimum number of steps `EDI -> DIS`\n",
    "        - To make this transition, `EDI` has 3 possible routes representing the 3 possible actions; insertion, deletion, substitution\n",
    "            (i) **Insertion:** `EDI -> DI ->  DIS`\n",
    "                - This is classified as the \"insertion\" option\n",
    "                - Because to get from `EDI` to `DIS`, we count the number of steps to get from `EDI` to `DI`, then add 1 \n",
    "                - The `EDI -> DI` route takes 1 step, and getting from `DI -> DIS` takes 1 insertion. \n",
    "                - Hence, this is considered an insertino\n",
    "            (ii) **Match:** `ED -> D`\n",
    "                - Since the last letters of both strings match, we don't need take any action once we know the subcase, which `E -> _`\n",
    "                - Since `E -> _` takes 1 step, `ED -> D` also takes the same step\n",
    "            (iii) **Deletion:** `EDIT -> EDI -> DI`\n",
    "                - This is classified as the \"deletion\" option\n",
    "                - Because going from `EDIT` to `EDI` removes a letter from our first word\n",
    "            (iv) **Mismatch:** `EDIT -> DIT -> DIS`\n",
    "                - This is considered a substitution case\n",
    "                - Because we take the `EDIT` and do the same transformation as the one diagonally above to the left (chop of the `E`)\n",
    "                - Then we sub the `T` for `S`"
   ]
  },
  {
   "cell_type": "code",
   "execution_count": 38,
   "metadata": {},
   "outputs": [],
   "source": [
    "import numpy as np \n",
    "str1 = 'EDITING'\n",
    "str2 = 'DISTANCE'\n",
    "\n",
    "def edit_distance(str1, str2, return_path=False):\n",
    "    memoize = np.zeros((len(str1)+1, len(str2)+1))\n",
    "    str1_split = [' '] + list(str1)\n",
    "    str2_split = [' '] + list(str2)\n",
    "\n",
    "    for i in range(len(str1_split)):\n",
    "        for j in range(len(str2_split)):\n",
    "            if (i == 0):\n",
    "                memoize[i][j] = j\n",
    "                continue\n",
    "            if (j == 0):\n",
    "                memoize[i][j] = i\n",
    "                continue\n",
    "            \n",
    "            insertion = memoize[i, j-1] + 1\n",
    "            deletion = memoize[i-1, j] + 1\n",
    "            mismatch = memoize[i-1, j-1] + 1\n",
    "            match = memoize[i-1, j-1]\n",
    "            # print(f\"{insertion=}, {deletion=}, {mismatch=}, {match=}\")\n",
    "\n",
    "            if str1_split[i] == str2_split[j]:\n",
    "                # print(f'{str1_split[i]=} | {str2_split[j]=}')\n",
    "                memoize[i][j] = min(insertion, deletion, match)\n",
    "                # print(memoize)\n",
    "            else:\n",
    "                # print(f'{str1_split[i]=} | {str2_split[j]=}')\n",
    "                memoize[i][j] = min(insertion, deletion, mismatch)\n",
    "                # print(memoize)\n",
    "    \n",
    "    if return_path:\n",
    "        return memoize, memoize[len(str1)][len(str2)]\n",
    "    else:\n",
    "        return memoize[len(str1)][len(str2)]\n",
    "\n",
    "memoize, distance = edit_distance(str1, str2, return_path=True)"
   ]
  },
  {
   "cell_type": "code",
   "execution_count": 48,
   "metadata": {},
   "outputs": [
    {
     "name": "stdout",
     "output_type": "stream",
     "text": [
      "(7, 7) --> (7, 8) \n",
      "(6, 6) --> (7, 7) \n",
      "(5, 5) --> (6, 6) \n",
      "(4, 4) --> (5, 5) \n",
      "(4, 3) --> (4, 4) \n",
      "(3, 2) --> (4, 3) \n",
      "(2, 1) --> (3, 2) \n",
      "(1, 1) --> (2, 1) \n",
      "(0, 0) --> (1, 1) \n"
     ]
    }
   ],
   "source": [
    "def trace_path(memoize, row, col):\n",
    "    insert = memoize[row][col-1]\n",
    "    delete = memoize[row-1][col]\n",
    "    replace = memoize[row-1][col-1]\n",
    "\n",
    "    if min(insert, delete, replace) == delete:\n",
    "        print(f\"({row-1}, {col}) --> ({row}, {col}) \")\n",
    "        return row-1, col\n",
    "    elif min(insert, delete, replace) == insert:\n",
    "        print(f\"({row}, {col-1}) --> ({row}, {col}) \")\n",
    "        return row, col-1\n",
    "    elif min(insert, delete, replace) == replace:\n",
    "        print(f\"({row-1}, {col-1}) --> ({row}, {col}) \")\n",
    "        return row-1, col-1\n",
    "    \n",
    "row_count, col_count = memoize.shape\n",
    "curr_row, curr_col = row_count-1, col_count-1\n",
    "\n",
    "while (curr_row != 0) & (curr_col != 0):\n",
    "    curr_row, curr_col = trace_path(memoize, curr_row, curr_col)"
   ]
  },
  {
   "cell_type": "markdown",
   "metadata": {},
   "source": [
    "### Approach 2"
   ]
  },
  {
   "cell_type": "markdown",
   "metadata": {},
   "source": [
    "- We have looked at memoization that starts from the beginning of the string and iteratively expands the result for longer strings. This is known as a **bottom up** solution, since it works its way upwards from a null string as the base case \n",
    "\n",
    "- What would a **top down** approach look like in a DP solution? Simple! We just do the same call recursively, starting from the top of the stack\n",
    "\n",
    "- This is much less preferred, because you need to store stack frames for every recursive call you make, and this can lead to memory problems due to the recursion"
   ]
  },
  {
   "cell_type": "code",
   "execution_count": 1,
   "metadata": {},
   "outputs": [],
   "source": [
    "# import numpy as np \n",
    "# str1 = 'EDITING'\n",
    "# str2 = 'DISTANCE'\n",
    "\n",
    "# def edit_distance(str1, str2):\n"
   ]
  }
 ],
 "metadata": {
  "kernelspec": {
   "display_name": "kaggle",
   "language": "python",
   "name": "python3"
  },
  "language_info": {
   "codemirror_mode": {
    "name": "ipython",
    "version": 3
   },
   "file_extension": ".py",
   "mimetype": "text/x-python",
   "name": "python",
   "nbconvert_exporter": "python",
   "pygments_lexer": "ipython3",
   "version": "3.10.4"
  }
 },
 "nbformat": 4,
 "nbformat_minor": 2
}
