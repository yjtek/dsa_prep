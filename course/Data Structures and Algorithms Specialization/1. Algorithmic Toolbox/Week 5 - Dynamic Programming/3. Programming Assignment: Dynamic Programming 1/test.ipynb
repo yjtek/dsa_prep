{
 "cells": [
  {
   "cell_type": "markdown",
   "metadata": {},
   "source": [
    "### 5.1 Money change"
   ]
  },
  {
   "cell_type": "markdown",
   "metadata": {},
   "source": [
    "- Compute the minimum number of coins needed to change the given value into coins with denominations 1, 3, and 4\n",
    "    - **Input:** An integer `money`\n",
    "    - **Output:** The minimum number of coins with denominations 1, 3, and 4 that changes `money`\n",
    "    - **Constraints:** $1 \\le \\text{money} \\le 10^3$\n",
    "    - **Sample:** \n",
    "        - 34 --> 9"
   ]
  },
  {
   "cell_type": "code",
   "execution_count": 24,
   "metadata": {},
   "outputs": [
    {
     "data": {
      "text/plain": [
       "1"
      ]
     },
     "execution_count": 24,
     "metadata": {},
     "output_type": "execute_result"
    }
   ],
   "source": [
    "results = {}\n",
    "\n",
    "def change(money):\n",
    "    if money <= 0:\n",
    "        return 0    \n",
    "    if money in results:\n",
    "        return results.get(money)\n",
    "\n",
    "    count1 = change(money-1) + 1\n",
    "    count3 = change(money-3) + 1\n",
    "    count4 = change(money-4) + 1\n",
    "    # print(count1, count3, count4)\n",
    "    results[money] = min(count1, count3, count4)\n",
    "    return results.get(money)\n",
    "\n",
    "change(1)"
   ]
  },
  {
   "cell_type": "markdown",
   "metadata": {},
   "source": [
    "### 5.2 Primitive Calculator"
   ]
  },
  {
   "cell_type": "markdown",
   "metadata": {},
   "source": [
    "- Find the minimum number of operations needed to get a positive integer n from 1 by using only three operations: add 1, multiply by 2, and multiply by 3\n",
    "    - **Input:** An integer $n$\n",
    "    - **Output:** The minimum number of operations “+1”, “×2”, and “×3” needed to get n from 1\n",
    "    - **Constraints:** $1 \\le n \\le 10^6$\n",
    "    - **Samples:**\n",
    "        - 1 -> (0, 1)\n",
    "        - 96234 -> (1, 3, 9, 10, 11, 22, 66, 198, 594, 1782, 5346, 16038, 32078, 96234)"
   ]
  },
  {
   "cell_type": "code",
   "execution_count": 93,
   "metadata": {},
   "outputs": [],
   "source": [
    "import math \n",
    "\n",
    "shortest_path = {}\n",
    "def compute_operations_recurs(n):\n",
    "    if n <= 1:\n",
    "        return [], 0\n",
    "    if n in shortest_path:\n",
    "        path, pathlen = shortest_path.get(n)\n",
    "        return path, pathlen\n",
    "\n",
    "    if n % 3 == 0:\n",
    "        div3_path, div3_pathlen = compute_operations(n/3)\n",
    "        # div3_pathlen += 1\n",
    "        shortest_path[n/3] = (div3_path, div3_pathlen)\n",
    "    else:\n",
    "        div3_path = None\n",
    "        div3_pathlen = math.inf\n",
    "    \n",
    "    if n % 2 == 0:\n",
    "        div2_path, div2_pathlen = compute_operations(n/2)\n",
    "        # div2_pathlen += 1\n",
    "        shortest_path[n/2] = (div2_path, div2_pathlen)\n",
    "    else:\n",
    "        div2_path = None\n",
    "        div2_pathlen = math.inf\n",
    "\n",
    "    minus1_path, minus1_pathlen = compute_operations(n-1)\n",
    "    shortest_path[n-1] = (minus1_path, minus1_pathlen)\n",
    "\n",
    "    if min(div3_pathlen, div2_pathlen, minus1_pathlen) == div3_pathlen:\n",
    "        return [n/3] + div3_path, div3_pathlen+1\n",
    "    elif min(div3_pathlen, div2_pathlen, minus1_pathlen) == div2_pathlen:\n",
    "        return [n/2] + div2_path, div2_pathlen+1\n",
    "    elif min(div3_pathlen, div2_pathlen, minus1_pathlen) == minus1_pathlen:\n",
    "        return [n-1] + minus1_path, minus1_pathlen+1\n",
    "\n",
    "# compute_operations_recurs(1000)\n",
    "# shortest_path"
   ]
  },
  {
   "cell_type": "code",
   "execution_count": 116,
   "metadata": {},
   "outputs": [
    {
     "data": {
      "text/plain": [
       "3"
      ]
     },
     "execution_count": 116,
     "metadata": {},
     "output_type": "execute_result"
    }
   ],
   "source": [
    "import math\n",
    "shortest_path = {}\n",
    "\n",
    "def compute_operations_iter(n):\n",
    "    if n < 1:\n",
    "        return ([], 0)\n",
    "    \n",
    "    for i in range(1, n+1):\n",
    "        if i % 3 == 0:\n",
    "            div3_path, div3_pathlen = shortest_path.get(i/3, ([], 0))\n",
    "        else:\n",
    "            div3_path, div3_pathlen = (None, math.inf)\n",
    "\n",
    "        if i % 2 == 0:\n",
    "            div2_path, div2_pathlen = shortest_path.get(i/2, ([], 0))\n",
    "        else:\n",
    "            div2_path, div2_pathlen = (None, math.inf)\n",
    "    \n",
    "        minus1_path, minus1_pathlen = shortest_path.get(i-1, ([], 0))\n",
    "\n",
    "        minlen = min(div3_pathlen, div2_pathlen, minus1_pathlen)\n",
    "        if div3_pathlen == minlen:\n",
    "            shortest_path[i] = ([i] + div3_path, div3_pathlen + 1)\n",
    "        elif div2_pathlen == minlen:\n",
    "            shortest_path[i] = ([i] + div2_path, div2_pathlen + 1)\n",
    "        elif minus1_pathlen == minlen:\n",
    "            shortest_path[i] = ([i] + minus1_path, minus1_pathlen + 1)\n",
    "    \n",
    "    return shortest_path[n][0]\n",
    "\n",
    "compute_operations_iter(10)"
   ]
  },
  {
   "cell_type": "markdown",
   "metadata": {},
   "source": [
    "### 5.3 Edit Distance"
   ]
  },
  {
   "cell_type": "markdown",
   "metadata": {},
   "source": [
    "- Compute the edit distance between two strings.\n",
    "    - **Input:** Two strings\n",
    "    - **Output:** The minimum number of single-symbol insertions, deletions, and substitutions to transform one string into the other one\n",
    "    - **Constraints:** The length of both strings is at least 1 and at most 100\n",
    "    - **Samples:**\n",
    "        - `short`, `ports` -> 3\n",
    "            - Delete `s`, sub `h -> p`, insert `s`\n",
    "        - `editing`, `distance` -> 5\n",
    "        - `ab`, `ab` -> 0"
   ]
  },
  {
   "cell_type": "code",
   "execution_count": 29,
   "metadata": {},
   "outputs": [
    {
     "data": {
      "text/plain": [
       "'kyzofojvecmqbpbmfmxytrznwpcvqvdqvtwgnrwfsfleidvjriporuzotkkkxjcygszgujvsjbrjukwqtucxbpch'"
      ]
     },
     "execution_count": 29,
     "metadata": {},
     "output_type": "execute_result"
    }
   ],
   "source": [
    "import string\n",
    "import random\n",
    "def _generate_random_word(minlen=1, maxlen=100):\n",
    "    wordlen = random.choice([x for x in range(minlen, maxlen+1)])\n",
    "    return ''.join([random.choice(string.ascii_lowercase) for _ in range(wordlen)])\n"
   ]
  },
  {
   "cell_type": "code",
   "execution_count": 31,
   "metadata": {},
   "outputs": [
    {
     "ename": "ModuleNotFoundError",
     "evalue": "No module named 'Levenshtein'",
     "output_type": "error",
     "traceback": [
      "\u001b[0;31m---------------------------------------------------------------------------\u001b[0m",
      "\u001b[0;31mModuleNotFoundError\u001b[0m                       Traceback (most recent call last)",
      "Cell \u001b[0;32mIn[31], line 25\u001b[0m\n\u001b[1;32m     21\u001b[0m                 mem[i][j] \u001b[38;5;241m=\u001b[39m \u001b[38;5;28mmin\u001b[39m(mismatch, insert, delete)\n\u001b[1;32m     23\u001b[0m     \u001b[38;5;28;01mreturn\u001b[39;00m mem[\u001b[38;5;28mlen\u001b[39m(str1_split)\u001b[38;5;241m-\u001b[39m\u001b[38;5;241m1\u001b[39m][\u001b[38;5;28mlen\u001b[39m(str2_split)\u001b[38;5;241m-\u001b[39m\u001b[38;5;241m1\u001b[39m]\n\u001b[0;32m---> 25\u001b[0m \u001b[38;5;28;01mimport\u001b[39;00m \u001b[38;5;21;01mLevenshtein\u001b[39;00m  \n\u001b[1;32m     27\u001b[0m w1 \u001b[38;5;241m=\u001b[39m _generate_random_word()\n\u001b[1;32m     28\u001b[0m w2 \u001b[38;5;241m=\u001b[39m _generate_random_word()\n",
      "\u001b[0;31mModuleNotFoundError\u001b[0m: No module named 'Levenshtein'"
     ]
    }
   ],
   "source": [
    "def edit_distance(str1, str2):\n",
    "    str1_split = [' '] + list(str1)\n",
    "    str2_split = [' '] + list(str2)\n",
    "    mem = [[0 for _ in range(len(str2_split))] for _ in range(len(str1_split))]\n",
    "    \n",
    "    for i in range(len(str1_split)):\n",
    "        for j in range(len(str2_split)):\n",
    "            if i == 0:\n",
    "                mem[i][j] = j\n",
    "                continue\n",
    "            if j == 0:\n",
    "                mem[i][j] = i\n",
    "                continue\n",
    "\n",
    "            insert = mem[i-1][j] + 1\n",
    "            delete = mem[i][j-1] + 1\n",
    "            mismatch = mem[i-1][j-1] + 1\n",
    "            match = mem[i-1][j-1]\n",
    "\n",
    "            if str1_split[i] == str2_split[j]:\n",
    "                mem[i][j] = min(match, insert, delete)\n",
    "            elif str1_split[i] != str2_split[j]:\n",
    "                mem[i][j] = min(mismatch, insert, delete)\n",
    "            \n",
    "    return mem[len(str1_split)-1][len(str2_split)-1]\n",
    "\n",
    "w1 = _generate_random_word()\n",
    "w2 = _generate_random_word()\n",
    "edit_distance(w1, w2)"
   ]
  },
  {
   "cell_type": "markdown",
   "metadata": {},
   "source": [
    "### 5.4 Longest Common Subsequence of Two Sequences"
   ]
  },
  {
   "cell_type": "markdown",
   "metadata": {},
   "source": [
    "- Compute the maximum length of a common subsequence of two sequences\n",
    "    - **Input:** Two sequences\n",
    "    - **Output:** The maximum length of a common subsequence\n",
    "    - **Constraints:** $1 \\le n,m \\le 100$; $-10^9 \\le a_i, b_i \\le 10^9$ for all $i$\n",
    "    - **Samples:**\n",
    "        1. [2,7,5], [2,5] -> 2\n",
    "        2. [7], [4] -> 0\n",
    "        3. [2,7,8,3], [5,2,8,7] -> 2"
   ]
  },
  {
   "cell_type": "code",
   "execution_count": 134,
   "metadata": {},
   "outputs": [
    {
     "data": {
      "text/plain": [
       "2.0"
      ]
     },
     "execution_count": 134,
     "metadata": {},
     "output_type": "execute_result"
    }
   ],
   "source": [
    "import numpy as np\n",
    "\n",
    "def lcs2(seq1, seq2):\n",
    "    seq1_split = [' '] + seq1\n",
    "    seq2_split = [' '] + seq2\n",
    "\n",
    "    mem = np.zeros((len(seq1_split), len(seq2_split)))\n",
    "\n",
    "    for i in range(len(seq1_split)):\n",
    "        for j in range(len(seq2_split)):\n",
    "            if i == 0 or j == 0:\n",
    "                mem[i][j] = 0\n",
    "                continue\n",
    "\n",
    "            delete = mem[i-1][j] \n",
    "            insert = mem[i][j-1]\n",
    "            match = mem[i-1][j-1] + 1\n",
    "\n",
    "            if seq1_split[i]==seq2_split[j]:\n",
    "                mem[i][j] = max(delete, insert, match)\n",
    "            else:\n",
    "                mem[i][j] = max(delete, insert)\n",
    "\n",
    "    return mem[len(seq1_split)-1][len(seq2_split)-1]\n",
    "\n",
    "seq1 = [2, 7, 8, 3]\n",
    "seq2 = [5, 2, 8, 7]\n",
    "lcs2(seq1, seq2)"
   ]
  },
  {
   "cell_type": "markdown",
   "metadata": {},
   "source": [
    "### 5.5 Longest Common Subsequence of Three Sequences"
   ]
  },
  {
   "cell_type": "markdown",
   "metadata": {},
   "source": [
    "- Compute the maximum length of a common subsequence of three sequences.\n",
    "    - **Input:** Three sequences\n",
    "    - **Output:** The maximum length of a common subsequence.\n",
    "    - **Constraints:** $1 \\le n,m,l \\le 100$; $-10^9 \\le a_i, b_i, c_i \\le 10^9$\n",
    "    - **Samples:**\n",
    "        1. [1,2,3], [2,1,3], [1,3,5] -> 2\n",
    "        2. [8,3,2,1,7], [8,2,1,3,8,10,7], [6,8,3,1,4,7] -> 3"
   ]
  },
  {
   "cell_type": "code",
   "execution_count": 17,
   "metadata": {},
   "outputs": [
    {
     "data": {
      "text/plain": [
       "3"
      ]
     },
     "execution_count": 17,
     "metadata": {},
     "output_type": "execute_result"
    }
   ],
   "source": [
    "seq1 = [1,2,3]\n",
    "seq2 = [2,1,3]\n",
    "seq3 = [1,3,5]\n",
    "\n",
    "seq1 = [8,3,2,1,7]\n",
    "seq2 = [8,2,1,3,8,10,7]\n",
    "seq3 = [6,8,3,1,4,7]\n",
    "\n",
    "def lcs3(seq1, seq2, seq3):\n",
    "    seq1_split = [' '] + seq1\n",
    "    seq2_split = [' '] + seq2\n",
    "    seq3_split = [' '] + seq3 \n",
    "\n",
    "    mem = [[[0 for _ in range(len(seq3_split))] for _ in range(len(seq2_split))] for _ in range(len(seq1_split))]\n",
    "\n",
    "    for i in range(len(seq1_split)):\n",
    "        for j in range(len(seq2_split)):\n",
    "            for k in range(len(seq3_split)):\n",
    "                if (i == 0) or (j == 0) or (k == 0):\n",
    "                    mem[i][j][k] = 0\n",
    "                    continue\n",
    "                \n",
    "                if (seq1_split[i] == seq2_split[j]) and (seq1_split[i] == seq3_split[k]):\n",
    "                    mem[i][j][k] = mem[i-1][j-1][k-1] + 1\n",
    "                else:\n",
    "                    ## if current character does not match across 3 strings, the longest subsequence is the longest subsequence that exists when I remove a letter from one/two/three of my strings\n",
    "                    ## In fact, this can be optimised further! We actually only need to consider the cases where we rmeove 1 letter from each string. Why? Because the maximum length of common subsequence \n",
    "                    ## between sequences of lengths (x-1, x, x) must be AT MOST the sequences of lengths (x-1, x-1, x)\n",
    "                    mem[i][j][k] = max(\n",
    "                        mem[i-1][j][k],\n",
    "                        mem[i][j-1][k],\n",
    "                        mem[i][j][k-1],\n",
    "\n",
    "                        # mem[i-1][j-1][k],\n",
    "                        # mem[i][j-1][k-1],\n",
    "                        # mem[i-1][j][k-1],\n",
    "\n",
    "                        # mem[i-1][j-1][k-1],\n",
    "                    )\n",
    "\n",
    "    return mem[len(seq1_split)-1][len(seq2_split)-1][len(seq3_split)-1]"
   ]
  },
  {
   "cell_type": "code",
   "execution_count": null,
   "metadata": {},
   "outputs": [],
   "source": []
  }
 ],
 "metadata": {
  "kernelspec": {
   "display_name": "kaggle",
   "language": "python",
   "name": "python3"
  },
  "language_info": {
   "codemirror_mode": {
    "name": "ipython",
    "version": 3
   },
   "file_extension": ".py",
   "mimetype": "text/x-python",
   "name": "python",
   "nbconvert_exporter": "python",
   "pygments_lexer": "ipython3",
   "version": "3.10.4"
  }
 },
 "nbformat": 4,
 "nbformat_minor": 2
}
