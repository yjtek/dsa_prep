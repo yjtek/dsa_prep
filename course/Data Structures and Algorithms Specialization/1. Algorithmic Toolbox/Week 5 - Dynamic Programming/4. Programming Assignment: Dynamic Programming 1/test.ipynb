{
 "cells": [
  {
   "cell_type": "markdown",
   "metadata": {},
   "source": [
    "### 5.1 Money change"
   ]
  },
  {
   "cell_type": "markdown",
   "metadata": {},
   "source": [
    "- Compute the minimum number of coins needed to change the given value into coins with denominations 1, 3, and 4\n",
    "    - **Input:** An integer `money`\n",
    "    - **Output:** The minimum number of coins with denominations 1, 3, and 4 that changes `money`\n",
    "    - **Constraints:** $1 \\le \\text{money} \\le 10^3$\n",
    "    - **Sample:** \n",
    "        - 34 --> 9"
   ]
  },
  {
   "cell_type": "markdown",
   "metadata": {},
   "source": []
  }
 ],
 "metadata": {
  "language_info": {
   "name": "python"
  }
 },
 "nbformat": 4,
 "nbformat_minor": 2
}
