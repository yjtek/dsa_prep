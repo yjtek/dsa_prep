{
 "cells": [
  {
   "cell_type": "markdown",
   "metadata": {},
   "source": [
    "# AVL Trees"
   ]
  },
  {
   "cell_type": "markdown",
   "metadata": {},
   "source": [
    "## Introduction to AVL Trees"
   ]
  },
  {
   "cell_type": "markdown",
   "metadata": {},
   "source": [
    "- Let's introduce the concept of node **height**. The height of a node is just how far away they are from the nearest leaf, including itself\n",
    "    - Any leaf has a height of 1 \n",
    "\n",
    "- How do we compute the height of a node?\n",
    "    - We can do this recursively! \n",
    "    - 1 if N is a leaf (doesn't matter if there are deeper leaves)\n",
    "    - Else, N.Height is $1 + \\max(\\text{N.Left.Height}, \\text{N.Right.Height})$\n",
    "\n",
    "- Recall that previously, each node has 4 attributes: parent, key, left_child, and right_child. We now add Height as an attribute"
   ]
  },
  {
   "cell_type": "code",
   "execution_count": 2,
   "metadata": {},
   "outputs": [],
   "source": [
    "from dataclasses import dataclass\n",
    "\n",
    "@dataclass\n",
    "class Node:\n",
    "    key: int\n",
    "    height: int\n",
    "    parent: 'Node'\n",
    "    left_child: 'Node'\n",
    "    right_child: 'Node'"
   ]
  },
  {
   "cell_type": "markdown",
   "metadata": {},
   "source": [
    "- So how does this relate to tree balance?\n",
    "    - Simply, the height is an indirect measure of subtree size\n",
    "    - If the size of subtrees are roughly the same, then the heights are roughly the same\n",
    "    - This is the **AVL property** of a tree\n",
    "\n",
    "- **AVL Property:** For all nodes $N$, AVL property is maintained when $$| \\text{N.Left.Height} - \\text{N.Right.Height} | \\le 1 $$\n",
    "    - This ensures balance"
   ]
  },
  {
   "cell_type": "markdown",
   "metadata": {},
   "source": [
    "- If AVL property on all nodes then height is $O(\\log(N))$\n",
    "\n",
    "- Theorem: Let $N$ be some node of a binary tree satisfying the AVL property. Let $h = \\text{N.Height}$. Then the subtree of $N$ has size at least the h-th Fibonacci number "
   ]
  },
  {
   "cell_type": "markdown",
   "metadata": {},
   "source": [
    "- Proof by induction on $h$\n",
    "    - Base case\n",
    "        - Let's assume a node $N$ with height $h=1$ (i.e. node is a leaf). \n",
    "        - Then the subtree of $N$ has size $1$ \n",
    "    - Inductive step\n",
    "        - Let's assume a node $N$ with height $h > 1$ \n",
    "        - One subtree of $N$ must have height at least $h-1$. \n",
    "            - It cannot be more than h-1, otherwise the height of $N$ would be more than $h$\n",
    "            - It cannot be less than h-1, otherwise the height of $N$ would be less than $h$\n",
    "        - The other subtree must have height of at least $h-2$\n",
    "            - It can be more than $h-2$, but not more than $h-1$\n",
    "            - It cannot be less than $h-2$, since we assumed that the tree follows the AVL property, then height difference is at most 1\n",
    "        - From base case:\n",
    "            - If node $N$ has height 2, then the subtree heights must be at least $2-1 = 1$ and $2-2=0$. \n",
    "                - Subtrees of height 1 have minimum size 1\n",
    "                - Subtrees of height 0 have minimum size 0\n",
    "                - So subtrees of height 2 have at least size of 1\n",
    "            - If node $N$ has height 3, then the subtree heights must be at least $3-1 = 2$ and $3-2=1$. \n",
    "                - Subtrees of height 2 have minimum size 1\n",
    "                - Subtrees of height 1 have minimum size 1\n",
    "                - So subtrees of height 3 have at least size of 2\n",
    "            - You can see that you are just going to add the numbers sequentially, leading to Fibonacci series\n",
    "\n",
    "- The lower bound of Fibonacci sequence is $2^{\\frac{h}{2}}$. You can see proof here (https://proofwiki.org/wiki/Upper_and_Lower_Bound_of_Fibonacci_Number), though it is not crucial\n",
    "    - Therefore, any node with height $h$ has subtree of size $n \\ge 2^{\\frac{h}{2}}$\n",
    "    - Therefore $h \\le 2 \\cdot \\log(n)$\n",
    "    - Therefore $h$ is $O(\\log(n))$"
   ]
  },
  {
   "cell_type": "markdown",
   "metadata": {},
   "source": [
    "## Implementation of AVL Tree"
   ]
  },
  {
   "cell_type": "markdown",
   "metadata": {},
   "source": [
    "- We have discussed why AVL property is good. But AVL property is destroyed by insertions and deletions!\n",
    "    - How do we ensure that AVL property is preserved?\n",
    "\n",
    "- Observations\n",
    "    - 1. Deletion/Insertions don't affect the height of all nodes, only those that are in the path of the operation! This is because of the AVL property, where the tree is balanced. So rebalancing the tree should only take $O(\\log(N))$"
   ]
  },
  {
   "cell_type": "markdown",
   "metadata": {},
   "source": [
    "### Insertion"
   ]
  },
  {
   "cell_type": "markdown",
   "metadata": {},
   "source": [
    "- We need an insertion algorithm that rebalances the tree to maintain AVL property. Turns out, it's not hard!\n",
    "    - Given key $k$ and root $R$\n",
    "    - Do an `Insert` (see notes under Binary search tree, already implemented)\n",
    "    - Find the node with value $k$\n",
    "    - Rebalance it\n",
    "\n",
    "- How to rebalance a node $N$?\n",
    "    - If AVL property already met, (i.e. height of left child and height of right child differs by at most 1), then do nothing\n",
    "    - If height of left/right child exceeds right/left child by more than 1, then we need to move left/right child upwards!\n",
    "    - So long as AVL property is maintained, tree should never be unbalanced by more than 2 (i.e. height difference cannot be more than 2)\n",
    "\n",
    "- Pseudocode: `Rebalance(N)`\n",
    "    - Store parent: `P = N.parent`\n",
    "    - Check which direction to rebalance towards:\n",
    "        - `if N.left_child.height > N.right_child.height + 1: RebalanceTowardsRight(N)`\n",
    "        - `if N.right_child.height > N.left_child.height + 1: RebalanceTowardsLeft(N)`\n",
    "    - Adjust height of $N$, which may have changed because of rebalancing\n",
    "        - `AdjustHeight(N)`\n",
    "    - Adjust height of $N$'s parent, which may have changed because of rebalancing\n",
    "        - `if P != None: Rebalance(P)`\n",
    " "
   ]
  },
  {
   "cell_type": "markdown",
   "metadata": {},
   "source": [
    "- However, there is a specific case where this rotation fails:\n",
    "    - Suppose we have node $N$ with left child $A$ and right child $C$, that fail the AVL condition\n",
    "    - If AVL fails because of the right child of $A$ (i.e. A's right child is heaviest)\n",
    "    - Then when rotation to the right happens, $A$'s right child becomes $N$'s left child, which causes an unbalanced tree again\n",
    "    "
   ]
  },
  {
   "attachments": {
    "image.png": {
     "image/png": "[encoded data removed]"
    }
   },
   "cell_type": "markdown",
   "metadata": {},
   "source": [
    "![image.png](attachment:image.png)"
   ]
  },
  {
   "cell_type": "markdown",
   "metadata": {},
   "source": [
    "- To fix this, rotate the problematic grandchild leftwards, before rotating the whole tree rightwards"
   ]
  },
  {
   "cell_type": "code",
   "execution_count": 3,
   "metadata": {},
   "outputs": [],
   "source": [
    "def AdjustHeight(N) -> Node:\n",
    "    N.height = 1 + max(N.left_child.height, N.right_child.height)\n",
    "    return N\n",
    "\n",
    "def RotateRight(N):\n",
    "    P = N.parent\n",
    "    New_Root_Node = N.right_child.copy()\n",
    "    Swap_Parent_Node = N.right_child.left_child.copy()\n",
    "    \n",
    "    ## Fix references to and from N's parent\n",
    "    if P.key > N.key:\n",
    "        ## N is left child\n",
    "        P.left_child = New_Root_Node\n",
    "    elif P.key < N.key:\n",
    "        ## N is right child\n",
    "        P.right_child = New_Root_Node\n",
    "    \n",
    "    ## For N, left branch does not change. Fix the reference to and from N's right branch\n",
    "    Swap_Parent_Node.parent = N\n",
    "    N.right_child = Swap_Parent_Node\n",
    "    N.parent = New_Root_Node\n",
    "\n",
    "    ## Fix references to and from new root node\n",
    "    New_Root_Node.parent = P\n",
    "    New_Root_Node.left_child = N\n",
    "\n",
    "\n",
    "def RotateLeft(N):\n",
    "    P = N.parent\n",
    "    New_Root_Node = N.left_child.copy()\n",
    "    Swap_Parent_Node = N.left_child.right_child.copy()\n",
    "    \n",
    "    ## Fix references to and from N's parent\n",
    "    if P.key > N.key:\n",
    "        ## N is left child\n",
    "        P.left_child = New_Root_Node\n",
    "    elif P.key < N.key:\n",
    "        ## N is right child\n",
    "        P.right_child = New_Root_Node\n",
    "    \n",
    "    ## For N, right branch does not change. Fix the reference to and from N's left branch\n",
    "    Swap_Parent_Node.parent = N\n",
    "    N.left_child = Swap_Parent_Node\n",
    "    N.parent = New_Root_Node\n",
    "\n",
    "    ## Fix references to and from new root node\n",
    "    New_Root_Node.parent = P\n",
    "    New_Root_Node.right_child = N\n",
    "    \n",
    "def RebalanceRight(N):\n",
    "    M = N.left_child\n",
    "    if M.right_child.height > M.left_child.height:\n",
    "        RotateLeft(M)\n",
    "        AdjustHeight(M)\n",
    "    RotateRight(N)\n",
    "    AdjustHeight(N)\n"
   ]
  },
  {
   "cell_type": "markdown",
   "metadata": {},
   "source": [
    "### Deletion"
   ]
  },
  {
   "cell_type": "markdown",
   "metadata": {},
   "source": [
    "- Same idea, deletion can decrease the height of a tree, which can cause the parent to become inbalanced\n",
    "- Pseudocode\n",
    "    - Delete(N)\n",
    "    - M = Parent of node replacing N\n",
    "    - Rebalance(M)\n",
    "\n",
    "- Can be done in $O(\\log(N))$ time!"
   ]
  },
  {
   "cell_type": "markdown",
   "metadata": {},
   "source": [
    "### Merge"
   ]
  },
  {
   "cell_type": "markdown",
   "metadata": {},
   "source": [
    "- Combine 2 binary search trees into 1\n",
    "- Merging 2 sorted lists generally takes $O(N)$ time\n",
    "- But if both lists are separated (i.e. all the keys in 1 list are smaller than the keys in the other), then it is a lot faster!"
   ]
  },
  {
   "cell_type": "markdown",
   "metadata": {},
   "source": [
    "- So given roots $R_1$ and $R_2$ of 2 trees, where all keys in $R_1$ tree are smaller than those in $R_2$, output the root of a new tree with all elements of both trees\n",
    "\n",
    "- Let's go through a trivial case. Suppose I am free to add an extra node to merge the 2 trees. Then the solution is trivial. I just need to add a new node above both $R_1, R_2$ with $R_1$ as the left child, and $R_2$ as the right"
   ]
  },
  {
   "cell_type": "code",
   "execution_count": null,
   "metadata": {},
   "outputs": [],
   "source": [
    "def MergeWithRoot(r1: Node, r2: Node, t: Node):\n",
    "    t.left_child = r1\n",
    "    t.right_child = r2\n",
    "    r1.parent = t\n",
    "    r2.parent = t\n",
    "    return t"
   ]
  },
  {
   "cell_type": "markdown",
   "metadata": {},
   "source": [
    "- But as it turns out, we can do exactly this by taking the largest element from the $R_1$ subtree, and setting it as the node! \n",
    "    - It also works if we take the smallest element of $R_2$ and set it as the node, but we'll just do 1 case as the example\n",
    "\n",
    "- This can be done in $O(\\log(N))$ time, assuming AVL tree! Otherwise it's $O(h)$ where $h$ is the depth of the max value in left tree"
   ]
  },
  {
   "cell_type": "code",
   "execution_count": null,
   "metadata": {},
   "outputs": [],
   "source": [
    "import math\n",
    "\n",
    "def find(key: int, root: Node):\n",
    "    curr_node = root\n",
    "    if key == curr_node.key:\n",
    "        return curr_node\n",
    "    elif key < curr_node.key:\n",
    "        return find(key, curr_node.left_child)\n",
    "    else:\n",
    "        return find(key, curr_node.right_child)\n",
    "\n",
    "def delete(N: Node):\n",
    "    ...\n",
    "\n",
    "def Merge(r1: Node, r2: Node):\n",
    "    T = find(int(math.inf), r1)\n",
    "    delete(T)\n",
    "    MergeWithRoot(r1, r2, T)\n",
    "    return T"
   ]
  },
  {
   "cell_type": "markdown",
   "metadata": {},
   "source": [
    "- But quite clearly, this merge doesn't maintain balance. The $r_1$ subtree could be a lot bigger/smaller than $r_2$, so merging them from their root nodes may not be ideal\n",
    "\n",
    "- There is a way around this; instead of merging from the root, traverse down the larger tree until you find a node where the AVL condition is met, and do the merge there!\n",
    "\n",
    "- This traversal will take at most $O(|\\text{r1.height} - \\text{r2.height}| + 1)$ "
   ]
  },
  {
   "cell_type": "code",
   "execution_count": null,
   "metadata": {},
   "outputs": [],
   "source": [
    "def AVLMergeWithRoot(r1, r2, T):\n",
    "    if abs(r1.height - r2.height) <= 1:\n",
    "        MergeWithRoot(r1, r2, T)\n",
    "        T.height = max(r1.height, r2.height) + 1\n",
    "        return T\n",
    "    elif r1.height > r2.height:\n",
    "        new_root = AVLMergeWithRoot(r1.right, r2, T)\n",
    "        r1.right = new_root\n",
    "        new_root.parent = r1\n",
    "        RebalanceRight(r1)\n",
    "        return new_root\n",
    "    else:\n",
    "        new_root = AVLMergeWithRoot(r1, r2.left, T)\n",
    "        r2.left = new_root\n",
    "        new_root.parent = r2\n",
    "        RebalanceRight(r2)\n",
    "        return new_root"
   ]
  },
  {
   "cell_type": "markdown",
   "metadata": {},
   "source": [
    "### Split"
   ]
  },
  {
   "cell_type": "markdown",
   "metadata": {},
   "source": [
    "- Break 1 binary tree into 2\n",
    "- Given a root $R$ of a tree and a key $x$, return 2 trees, one with all elements $\\le x$ and the other with all elements $\\gt x$\n",
    "\n",
    "- Approach:\n",
    "    - Search for $x$\n",
    "    - Once we get the position where $x$, anything we can split the tree into stuff that is larger and stuff that is smaller than x"
   ]
  },
  {
   "cell_type": "code",
   "execution_count": null,
   "metadata": {},
   "outputs": [],
   "source": [
    "def split(r: Node, x: int):\n",
    "    # If there is no root node, then there is nothing to split. Return none for the new roots\n",
    "    if r is None:\n",
    "        return (None, None)\n",
    "    \n",
    "    # If the value to find is lower than the root node, then everything to the right of r must be in the same subtree, because all values in the right tree must also be larger than x.\n",
    "    # Therefore, we look at the left child of r and try to split it about the value x.\n",
    "    # This will give us new roots r1 and r2. \n",
    "    # We know that r is the root of a tree that is larger than x, and r2 is also the root of a tree that is larger than x\n",
    "    # Since r2 came from the left subtree of r, all values in r2 subtree must be less than r\n",
    "    # So we can simply do a merge with root of r2 and r's right child, using r as the root\n",
    "    if x <= r.key:\n",
    "        r1, r2 = split(r.left_child, x)\n",
    "        r3 = MergeWithRoot(r2, r.right_child, r)\n",
    "        return (r1, r3)\n",
    "    \n",
    "    if x > r.key:\n",
    "        r1, r2 = split(r.right_child, x)\n",
    "        r3 = MergeWithRoot(r1, r.left_child, r)\n",
    "        return (r3, r2)"
   ]
  }
 ],
 "metadata": {
  "kernelspec": {
   "display_name": "dsa_prep",
   "language": "python",
   "name": "python3"
  },
  "language_info": {
   "codemirror_mode": {
    "name": "ipython",
    "version": 3
   },
   "file_extension": ".py",
   "mimetype": "text/x-python",
   "name": "python",
   "nbconvert_exporter": "python",
   "pygments_lexer": "ipython3",
   "version": "3.10.13"
  }
 },
 "nbformat": 4,
 "nbformat_minor": 2
}
