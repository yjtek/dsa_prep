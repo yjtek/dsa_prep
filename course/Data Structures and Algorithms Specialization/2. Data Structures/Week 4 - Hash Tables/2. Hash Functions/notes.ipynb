{
 "cells": [
  {
   "cell_type": "markdown",
   "metadata": {},
   "source": [
    "### Phone book implementation with Hashmap"
   ]
  },
  {
   "cell_type": "markdown",
   "metadata": {},
   "source": [
    "- Having discussed hash tables, maps, and sets, how do we implement a phone book?\n",
    "\n",
    "- Requirements:\n",
    "    1. Add and delete contacts fast\n",
    "    2. Call person by name\n",
    "    3. Determine who is calling given their phonenumber\n",
    "\n",
    "- Quite clearly, requirements 2 and 3 are different look ups, one looks up a number using name as a key, the other looks up a name using number as a key\n",
    "    - So we need 2 maps; `number -> name` and `name -> number`\n",
    "    - Both of these are hash tables"
   ]
  },
  {
   "cell_type": "markdown",
   "metadata": {},
   "source": [
    "- Recall the following from previous notes:\n",
    "    - Jargon\n",
    "        - $n$: Number of objects in universe to store\n",
    "        - $m$: Cardinality of hash function\n",
    "        - $c$: Longest chain length\n",
    "    - Asymptotics\n",
    "        - $\\Theta(n+m)$  memory\n",
    "        - $\\Theta(c+1)$  time\n",
    "\n",
    "- We want to keep $m$ and $c$ as small as possible!\n",
    "- We further know that $c \\ge \\frac{n}{m}$\n",
    "    - The smallest $c$ you can get is if you evenly divide all $n$ objects between the $m$ chains"
   ]
  },
  {
   "cell_type": "markdown",
   "metadata": {},
   "source": [
    "### What is a good hash function for phone number?"
   ]
  },
  {
   "cell_type": "markdown",
   "metadata": {},
   "source": [
    "- Options\n",
    "    - First 3 digits? Bad, because area code is often the same, so you get large $c$\n",
    "    - Last 3 digits? Might be bad, if many numbers end with `000`\n",
    "    - Random? Good distribution guaranteed, but hash cannot be repeated!\n",
    "\n",
    "- Remember, we want our hash function to be \n",
    "    - Deterministic (i.e. for a given value the computed hash is always the same)\n",
    "    - Fast to compute\n",
    "    - Distributes keys well info different cells\n",
    "    - Few collisions\n",
    "\n",
    "- **Problem**: if the number of possible keys is much bigger than cardinality of the hash function $|S| >> m$, then any hash function $h$ can give you a bad input with collisions"
   ]
  },
  {
   "cell_type": "markdown",
   "metadata": {},
   "source": [
    "### Universal family"
   ]
  },
  {
   "cell_type": "markdown",
   "metadata": {},
   "source": [
    "- So if no single hash function that exists can give us the desired case of few collisions, we rely instead on a `universal family` of hash functions\n",
    "    - It is similar to the quicksort idea, where choosing pivot randomly helps us get better performance asymptotically!\n",
    "\n",
    "- We will choose a family (set) of hash functions, then choose a random one from the family\n",
    "\n",
    "- Formally\n",
    "    - Let $U$ be the **universe** i.e. set of all possible keys that we want to hash\n",
    "    - Let $\\mathbb{H} = \\{h: U \\rightarrow \\{0,1,...m-1\\} \\}$ be a set of hash functions\n",
    "    - $\\mathbb{H}$ is a **universal family** if for any two keys $x,y \\in U \\text{ and } x \\neq y$, the probability of collision is at most $\\frac{1}{m}$\n",
    "    $$Pr[h(x) = h(y)] \\le \\frac{1}{m}$$\n",
    "    \n",
    "- Intuitively, it just means that if I randomly pick some hash function from this set, and computed h(x) and h(y) for a specific pair (x, y), I have at most $\\frac{1}{m}$ probabilty of collision\n",
    "    - Just as an example, if I uniformly pick a random hash function for x, and another for y, this gives us collision with probability $\\frac{1}{m}$\n",
    "    - Of course this doesn't work, because then the hashing isn't deterministic. It is just to illustrate the idea\n",
    "    - In actual implementation, we will use the same $h$ throughout the algorithm"
   ]
  },
  {
   "cell_type": "markdown",
   "metadata": {},
   "source": [
    "### Load Factor"
   ]
  },
  {
   "cell_type": "markdown",
   "metadata": {},
   "source": [
    "- Let's discuss 1 more concept, called the load factor $\\alpha$\n",
    "    - $\\alpha = \\frac{n}{m}$\n",
    "    - It is simply the ratio between the number of objects and cardinality of the hash "
   ]
  },
  {
   "cell_type": "markdown",
   "metadata": {},
   "source": [
    "- Theorem: If we choose $h$ randomly from universal family, the average length of the longest chain $c$ is $O(1 + \\alpha)$, where $\\alpha=\\frac{n}{m}$ is the load factor of the table\n",
    "    - That is; if $h$ is from the universal family, operations with hash table run on average in time $O(1 + \\alpha)$"
   ]
  },
  {
   "cell_type": "markdown",
   "metadata": {},
   "source": [
    "- So effectively, our problem reduces to choosing a good $\\alpha$, which we can do by choosing a good $m$\n",
    "    - Ideally, we want $0.5 \\lt \\alpha \\lt 1$\n",
    "    - Once alpha is chosen, the memory we need is automatically $O(m) = O(\\frac{n}{\\alpha}) = O(n)$\n",
    "    - Operations run in $O(1+\\alpha) = O(1)$ time "
   ]
  },
  {
   "cell_type": "markdown",
   "metadata": {},
   "source": [
    "### Dynamic Hash Table"
   ]
  },
  {
   "cell_type": "markdown",
   "metadata": {},
   "source": [
    "- We often don't know the size of $n$ in advance\n",
    "- So instead of wasting space by starting with a big hash table, we can use the idea of dynamic arrays\n",
    "    - Start with hash table of some size, and resize when $\\alpha$ becomes too large\n",
    "    - Then choose a new hash function from universal set, and rehash all objects\n",
    "\n",
    "- `Rehash` is technically O(N), but since it is rarely called, it is actually O(1) on average\n",
    "    - This kind of asymptotic analysis, ignoring expensive but infrequent operations, is called **amortized time complexity**"
   ]
  },
  {
   "cell_type": "code",
   "execution_count": 1,
   "metadata": {},
   "outputs": [],
   "source": [
    "def Rehash(hash_table):\n",
    "    ## Assume some preset size of hash table\n",
    "    load_factor = len(hash_table.keys()) / hash_table.size\n",
    "\n",
    "    if load_factor > 0.9:\n",
    "        hash_table_new = make_hash_table(size=2*hash_table.size)\n",
    "        hash_new = choose_hash(universal_set)\n",
    "        for key, value in hash_table.items():\n",
    "            position_in_new = hash_new(key)\n",
    "            hash_table_new[position_in_new].append((key, value))\n",
    "    \n",
    "    return hash_table_new, hash_new"
   ]
  },
  {
   "cell_type": "markdown",
   "metadata": {},
   "source": [
    "### So what is a universal family?"
   ]
  },
  {
   "cell_type": "markdown",
   "metadata": {},
   "source": [
    "- For any finite family of integers, there is not universal hash function, but there is a **universal family** of hash functions. Let's see what it looks like in our phone book example\n",
    "\n",
    "- Assume phone numbers go up to 15 digits. So our requirement is that any universal family we define must be able to take in numbers up to 10^15\n",
    "\n",
    "- Universal family\n",
    "    - Let $\\mathbb{H}_p = \\{h_p^{a,b}(x) = ((ax+b) \\mod p) \\mod m \\}$ be a set of hash functions\n",
    "    - Assume $a,b: 1 \\le a \\le p-1, 0 \\le b \\le p-1$\n",
    "    - $\\mathbb{H}_p$ is a **universal family** for the set of integers between 0 and $p-1$ for any prime number $p$\n",
    "\n",
    "    - You choose some values $a, b$ to generate the hash function. Since there are $p$ choices of $b$, and $p-1$ choices of $a$, there are $p(p-1)$ total hash functions that can be generated\n",
    "    - You choose a prime number $p$, which has to be larger than the value you wish to hash\n",
    "    - $m$ is the cardinality of the hash function\n",
    "\n",
    "    - This is super fast to compute, and scales quite easily!\n",
    "\n",
    "    - Example: Let $a=34, b=2, p=10,000,019$\n",
    "        - Assume we want to hash $x=1482567$\n",
    "        - $(34 * 1482567 + 2) \\mod 10,000,019 = 407,185$\n",
    "        - $407185 \\mod 1000 = 185$\n",
    "        - $h(x) = 185$"
   ]
  },
  {
   "cell_type": "markdown",
   "metadata": {},
   "source": [
    "- Why does this work?\n",
    "    - Just assume it works, the proof is too involved"
   ]
  },
  {
   "cell_type": "markdown",
   "metadata": {},
   "source": [
    "- In general\n",
    "    - Define the maximum length $L$ of the input (in this case, phone number has maximum of 8 characters)\n",
    "    - Convert input to integers between 0 and $10^L - 1$. We subtract 1 because 0 indexing\n",
    "    - Choose a prime number $p \\gt 10^L$\n",
    "    - Choose a hash table cardinality $m$\n",
    "    - Choose random hash function from universal family (i.e. choose random values of $a$ and $b$)"
   ]
  },
  {
   "cell_type": "markdown",
   "metadata": {},
   "source": [
    "### Hashing non-integers"
   ]
  },
  {
   "cell_type": "markdown",
   "metadata": {},
   "source": [
    "- We stated above a method to hash numbers. But clearly, the universal family doesn't work for non-integer inputs. What if we want to implement a hash table lookup `name` to `number`?\n",
    "\n",
    "- Definitions\n",
    "    - Let $|S|$ be the length of a string\n",
    "    - Let $S = S[0]S[1]...S[|S|-1]$ where $S[i]$ are individual characters\n",
    "\n",
    "- To hash the string:\n",
    "    - We convert each $S[i]$ to integers using using ASCII, Unicode etc\n",
    "    - Choose a big prime number $p$\n",
    "    - Then the universal family is $\\mathbb{P}_p = \\{h_p^x(S) = \\sum_{i=0}^{|S|-1} S[i] x^i \\mod p \\}$\n",
    "        - Choose $p$ is a fixed prime value\n",
    "        - Choose $1 \\le x \\le p-1$ as the *polynomial*\n",
    "\n",
    "- What is the idea here?\n",
    "    - Basically, we want to generate the hash by taking the polynomial sum of each character in the string\n",
    "    - Imagine we have some string $S$ where $|S| = 3$\n",
    "        - Iteration 1: Hash = 0\n",
    "        - Iteration 2: Hash = $S[2] \\mod p$\n",
    "        - Iteration 2: Hash = $((S[2] \\mod p) \\cdot x + S[1]) \\mod p$\n",
    "        - Iteration 3: Hash = $(((S[2] \\mod p) \\cdot x + S[1]) \\mod p) \\cdot x + S[0] = S[2]x^2 \\mod p + S[1]x \\mod p + S[0] \\mod p$\n",
    "        \n",
    "- Let's implement this"
   ]
  },
  {
   "cell_type": "code",
   "execution_count": null,
   "metadata": {},
   "outputs": [],
   "source": [
    "def PolyHash(string, prime, polynomial):\n",
    "    '''\n",
    "    Time complexity: O(N) in the length of the string to be hashed\n",
    "    '''\n",
    "    hashvalue = 0\n",
    "    for _, character in enumerate(string):\n",
    "        hashvalue = ((hashvalue * polynomial) + ord(character)) % prime\n",
    "    return hashvalue"
   ]
  },
  {
   "cell_type": "markdown",
   "metadata": {},
   "source": [
    "### Asymptotics of polyhash"
   ]
  },
  {
   "cell_type": "markdown",
   "metadata": {},
   "source": [
    "- Assume we have two strings $s_1$ and $s_2$ of length at most $L + 1$\n",
    "- If we choose $h$ from $\\mathbb{P}_p$ at random (i.e. choose random value of $x \\in [1, p-1]$), the probability of collision $\\text{Pr}[h(s_1) = h(s_2)]$ is at most $\\frac{L}{p}$\n",
    "    - Proof: Again, proof is too involved. Just know that the proof is because the equation $a_0 + a_1 x + a_2 x^2 + ... a_L x^L = 0 (\\mod p)$ for prime $p$ has at most $L$ different solutions $x$\n",
    "\n",
    "- Of course, the procedure above for polyhash doesn't give us desired cardinality $m$ yet\n",
    "    - As you can see, $m$ does not appear in the universal set \n",
    "    - To fix this, notice that the output of the polyhash $h_p(S)$ is just an integer\n",
    "    - So we can just combine this output with our earlier hashing function, to give us $h_m(S) = h_{a,b}(h_x(S)) \\mod m$ for any desired cardinality $m$\n",
    "\n",
    "- Result stated without proof\n",
    "    - For any 2 strings $s_1, s_2$ with length at most $L+1$ and cardinality $m$, the probability of collision $Pr[h_m(s_1) = h_m(s_2)]$ is at most $\\frac{1}{m} + \\frac{L}{p}$\n",
    "    - Hence, if $p \\gt m \\cdot L$, the probability of collision is $O(\\frac{1}{m})$"
   ]
  },
  {
   "cell_type": "markdown",
   "metadata": {},
   "source": [
    "- Running time\n",
    "    - For $p \\gt m \\cdot L$, the longest chain length is $c = O(1 + \\frac{n}{m}) = O(1 + \\alpha)$\n",
    "    - `PolyHash(S)` will run in $O(|S|)$ time\n",
    "    - If lengths of names in the phone book are bounded by constant $L$, computing $h(S)$ takes $O(L) = O(1)$"
   ]
  },
  {
   "cell_type": "markdown",
   "metadata": {},
   "source": [
    "### TLDR"
   ]
  },
  {
   "cell_type": "markdown",
   "metadata": {},
   "source": [
    "- Phone book implemented in 2 hash tables: names -> numbers, and numbers -> names\n",
    "- Both strings and integers can be hashed, with the appropriate hash function\n",
    "- Search and modification runs in O(1) on average with the appropriate hashing!"
   ]
  },
  {
   "cell_type": "markdown",
   "metadata": {},
   "source": []
  }
 ],
 "metadata": {
  "kernelspec": {
   "display_name": "kaggle",
   "language": "python",
   "name": "python3"
  },
  "language_info": {
   "codemirror_mode": {
    "name": "ipython",
    "version": 3
   },
   "file_extension": ".py",
   "mimetype": "text/x-python",
   "name": "python",
   "nbconvert_exporter": "python",
   "pygments_lexer": "ipython3",
   "version": "3.10.4"
  }
 },
 "nbformat": 4,
 "nbformat_minor": 2
}
