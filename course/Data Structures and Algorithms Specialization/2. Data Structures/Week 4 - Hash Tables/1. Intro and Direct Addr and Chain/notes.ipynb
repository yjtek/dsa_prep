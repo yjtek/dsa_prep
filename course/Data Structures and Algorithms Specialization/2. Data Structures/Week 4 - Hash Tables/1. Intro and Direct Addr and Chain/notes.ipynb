{
 "cells": [
  {
   "cell_type": "markdown",
   "metadata": {},
   "source": [
    "### Hash Tables"
   ]
  },
  {
   "cell_type": "markdown",
   "metadata": {},
   "source": [
    "- Used in many areas when we want fast lookup (e.g. phone contacts, search number by name)\n",
    "\n",
    "- We'll discuss several implementations in this section"
   ]
  },
  {
   "cell_type": "markdown",
   "metadata": {},
   "source": [
    "### Direct addressing"
   ]
  },
  {
   "cell_type": "markdown",
   "metadata": {},
   "source": [
    "- Assume we want a hash table for (Singapore) phone numbers, which have 8 digits\n",
    "    - This gives us 10^8 possible numbers\n",
    "\n",
    "- In direct addressing, this means that we create an array of size 10^8 to store these numbers. Approach:\n",
    "    - `def hash(phone_number): ...`: Takes in a phone number and hashes it, returning an index between 1 and 10^8. We will use this to look up the contact information\n",
    "    - `def GetName(phone_number): ...` Hash the phone number to get index `i`, and return the contact at index `i` of the phonebook array\n",
    "    - `def SetName(phone_number, name): ...` Hash the phone number to get index `i`, and assign the `name` at position `i` of the phonebook array\n",
    "\n",
    "- Asymptotics\n",
    "    - Time\n",
    "        - `hash():` O(1)\n",
    "        - `SetName():` O(1)\n",
    "        - `GetName():` O(1)\n",
    "    - Space\n",
    "        - O(U), where U is the size of the phone number universe\n",
    "    - Very inefficient! You need to maintain an array of 10^8 size even if you only have 1 phone number\n",
    "    "
   ]
  },
  {
   "cell_type": "markdown",
   "metadata": {},
   "source": [
    "### Other data structures for hashmaps"
   ]
  },
  {
   "cell_type": "markdown",
   "metadata": {},
   "source": [
    "- Linked lists\n",
    "    - To resolve the space issue, can we use a different data structure? Like a linked list\n",
    "        - Put pairs (Phone number, Name) into doubly linked lists, maintaining `head` and `tail` pointers\n",
    "        - Adding a contact is now O(1), just append to tail\n",
    "        - But `GetName` becomes O(N), because you search through the whole linked list!"
   ]
  },
  {
   "cell_type": "markdown",
   "metadata": {},
   "source": [
    "- Dynamic sorted array\n",
    "    - Since retrieval from linked list is slow, what if we put the (names, phone number) pairs into a dynamic sorted array instead?\n",
    "    - `GetName` becomes O(log N) by binary search\n",
    "    - But adding a new contact becomes O(N)! Because you look through the whole array to find the right spot"
   ]
  },
  {
   "cell_type": "markdown",
   "metadata": {},
   "source": [
    "### Hash functions"
   ]
  },
  {
   "cell_type": "markdown",
   "metadata": {},
   "source": [
    "- Since neither linked lists nor dynamic arrays will suffice, let's see how a **hash function** helps us here!\n",
    "    - Definition: For any set of objects $S$ and integer $m \\gt 0$, a hash function $h: S \\rightarrow \\{0,1,..., m-1\\}$ is called a hash function\n",
    "    - $m$ is the **cardinality** of the has function $h$\n",
    "\n",
    "- What makes a good has function?\n",
    "    - Fast to compute\n",
    "    - Different values for different objects\n",
    "    - Direct addressing with $O(m)$ memory; basically we want $m$ to be small enough such that we can use direct addressing\n",
    "        - Think of $m$ as a \"postal code\" of sorts, so we know which region to look for the desired value\n",
    "    - We'd like $m$ to be small (small cardinality)\n",
    "    - Note that it is impossible to have different hash values if the number of objects $|S|$ exceeds $m$\n",
    "\n",
    "- What is a collision?\n",
    "    - When you hash 2 different things, and it gives you the same hash i.e. When $h(o_1) = h(o_2)$ and $o_1 \\neq o_2$, this is a collision!\n",
    "    - If you have a small enough $m$, collisions are bound to happen. If $m$ is so large that you have no collisions, this is just direct addressing\n",
    "    - So some small probablity of collision is ok! "
   ]
  },
  {
   "cell_type": "markdown",
   "metadata": {},
   "source": [
    "### Chaining"
   ]
  },
  {
   "cell_type": "markdown",
   "metadata": {},
   "source": [
    "- We already know we want to have a hashing function with cardinality $m$ to store data, such that $m << |U|$, where $|U|$ is the universe of things to be hashed \n",
    "- But we also stated that collisions are inevitable in such a case\n",
    "\n",
    "- How should we deal with this? Set up a **map**\n",
    "    - Definition: A map from set $S$ objects to set $V$ values is a data structure with methods `HasKey`, `Get`, `Set` where $\\text{object} \\in S$ and $\\text{value} \\in V$\n",
    "    - In a `Map` from `S` to `V`, objets from $S$ are usually called **keys** of the `Map`. Objects from `V` are values of the map. \n",
    "\n",
    "- A map introduces a new idea called **chaining**\n",
    "    - The idea is that the hashing function you set up an array with $m$ `Chains`, where each chain is a doubly linked list\n",
    "    - The hash points you to the right chain, and you traverse the chain to find the value you want"
   ]
  },
  {
   "cell_type": "markdown",
   "metadata": {},
   "source": [
    "### Implementation of chaining"
   ]
  },
  {
   "cell_type": "code",
   "execution_count": 11,
   "metadata": {},
   "outputs": [],
   "source": [
    "from dataclasses import dataclass, field\n",
    "from typing import Type\n",
    "from collections import namedtuple\n",
    "\n",
    "PhoneContact = namedtuple('PhoneContact', 'name, phone_number')\n",
    "\n",
    "@dataclass\n",
    "class Chain:\n",
    "    data: list[PhoneContact] = field(default_factory=list)\n",
    "\n",
    "AllChains: list[Chain] = []\n",
    "\n",
    "def hash(contact_name):\n",
    "    ...\n",
    "\n",
    "def HasKey(contact_name):\n",
    "    chain = AllChains[hash(contact_name)]\n",
    "    for contact in chain:\n",
    "        if contact.name == contact_name:\n",
    "            return True\n",
    "    return False\n",
    "\n",
    "def Get(contact_name):\n",
    "    chain = AllChains[hash(contact_name)]\n",
    "    for contact in chain:\n",
    "        if contact.name == contact_name:\n",
    "            return contact\n",
    "    return None\n",
    "\n",
    "def Set(contact_name, number):\n",
    "    chain = AllChains[hash(contact_name)]\n",
    "    for contact in chain:\n",
    "        if contact.name == requested_contact:\n",
    "            contact.number = number\n",
    "            return\n",
    "    chain.append(PhoneContact(val=contact_info(contact_name, number)))\n"
   ]
  },
  {
   "cell_type": "markdown",
   "metadata": {},
   "source": [
    "#### Asymptotics"
   ]
  },
  {
   "cell_type": "markdown",
   "metadata": {},
   "source": [
    "- Time complexity:\n",
    "    - If $c$ is the length of the longest chain in `Chains`, then the running time of `HasKey`, `Get`, and `Set` is $\\Theta(c+1)$\n",
    "        - Because if c=0, it is $O(1)$\n",
    "    - Intuition: if the chain corresponding to an object is not empty, we need to scan it fully to check if the item is in it before doing of any of the 3 operations. \n",
    "\n",
    "- Space complexity:\n",
    "    - $\\Theta(N)$ to store $n$ pairs of (object, value)\n",
    "    - $\\Theta(m)$ to store $m$ chains\n",
    "    "
   ]
  },
  {
   "cell_type": "markdown",
   "metadata": {},
   "source": [
    "### HashMap"
   ]
  },
  {
   "cell_type": "markdown",
   "metadata": {},
   "source": [
    "- HashSet\n",
    "    - The hashmap structure is similar to a hashmap, except instead of storing a key value pair, just store a key\n",
    "    - You should implement methods `Add`, `Remove`, `Find`\n",
    "    - The actual set object can use a hashmap implementation, with all values `V` just equals True\n",
    "    - Or you can just store a list of keys"
   ]
  },
  {
   "cell_type": "code",
   "execution_count": null,
   "metadata": {},
   "outputs": [],
   "source": [
    "from dataclasses import dataclass, field\n",
    "\n",
    "@dataclass\n",
    "class Chain:\n",
    "    data: list = field(default_factory=list)\n",
    "\n",
    "def hash(object) -> int:\n",
    "    ...\n",
    "\n",
    "Chains: list[Chain] = []\n",
    "\n",
    "def Find(object):\n",
    "    chain = Chain[hash(object)]\n",
    "    for key in chain:\n",
    "        if key == object:\n",
    "            return True\n",
    "    return False\n",
    "\n",
    "def Add(object):\n",
    "    chain = Chain[hash(object)]\n",
    "    for key in chain:\n",
    "        if key == object:\n",
    "            return \n",
    "    chain.append(object)\n",
    "\n",
    "def Remove(object):\n",
    "    if not Find(object):\n",
    "        return\n",
    "    chain = Chain[hash(object)]\n",
    "    chain.remove(object)"
   ]
  },
  {
   "cell_type": "markdown",
   "metadata": {},
   "source": [
    "### TLDR"
   ]
  },
  {
   "cell_type": "markdown",
   "metadata": {},
   "source": [
    "- A hash table is either an implementation of Set or Map\n",
    "- Recall jargon\n",
    "    - $n$: Number of objects in universe to store\n",
    "    - $m$: Cardinality of hash function\n",
    "    - $c$: Longest chain length\n",
    "- Asymptotics\n",
    "    - $\\Theta(n+m)$  memory\n",
    "    - $\\Theta(c+1)$  time"
   ]
  },
  {
   "cell_type": "markdown",
   "metadata": {},
   "source": []
  }
 ],
 "metadata": {
  "kernelspec": {
   "display_name": "kaggle",
   "language": "python",
   "name": "python3"
  },
  "language_info": {
   "codemirror_mode": {
    "name": "ipython",
    "version": 3
   },
   "file_extension": ".py",
   "mimetype": "text/x-python",
   "name": "python",
   "nbconvert_exporter": "python",
   "pygments_lexer": "ipython3",
   "version": "3.10.4"
  }
 },
 "nbformat": 4,
 "nbformat_minor": 2
}
