{
 "cells": [
  {
   "cell_type": "markdown",
   "metadata": {},
   "source": [
    "### Blockchain allegory: Diary    "
   ]
  },
  {
   "cell_type": "markdown",
   "metadata": {},
   "source": [
    "- Imagine Julia keeps a diary when indexed entries\n",
    "    - Every index is unique, and is tagged to a unique diary entry\n",
    "    - Diary keeps a perfect record of Julia's day faithfully\n",
    "    \n",
    "- One day, Julia has a dispute with a friend about whether or not she had lent him $100 \n",
    "    - This information is contained in the diary, and to avoid paying back the $100, the friend forges the diary entry\n",
    "    - Since the record is not found, the $100 cannot be collected\n",
    "\n",
    "- Julia wants to make the diary more forger proof\n",
    "    - Based on what we learnt, it is possible to use hash functions (e.g. MD5) to generate a hash of the corresponding day\n",
    "    - The idea is; if every entry has a hash value, it is extremely difficult to forge an entry with the same hash!\n",
    "    \n",
    "- Hash value is computed as $H[i+1] = h(\\text{concat}(h(\\text{Text}[i+1]), H[i]))$\n",
    "    - That is, the hash value of a given record is the hash of 2 things concatenated together:\n",
    "        - hash of the text\n",
    "        - previous hash\n",
    "\n",
    "- This is great for preventing single entries from getting forged, because to change an entry, you not only must the hash of your forged entry match the original hash, it must also match the hashes of all subsequent entries. \n",
    "\n",
    "- But what if someone was desperate enough to forge not just 1 entry, but all subsequent entries?\n",
    "    - There is another way to make forgery an arbitrary amount more difficult\n",
    "    - We simply demand that a number (**nonce**)should be added to the end of each diary entry such that the hash column value always ends with some number of zeroes (let's say, 3 zeroes)\n",
    "    - Why is that helpful? Because to forge an entry to get the 3 zeroes, you must try an average of 500 times\n",
    "        - Why? Because the value of a random hash modulo 1000 (3 zeroes) is evenly distributed between 0 and 999\n",
    "        - So the 3 zeroes requirement makes things 500 times harder!"
   ]
  },
  {
   "cell_type": "markdown",
   "metadata": {},
   "source": [
    "### Blockchain architecture"
   ]
  },
  {
   "cell_type": "markdown",
   "metadata": {},
   "source": [
    "- So we already know the basics of how blockchain works. The idea is that a hash makes it difficult to forge entries!\n",
    "\n",
    "- While it is great to ensure transactions are not falsified, it is terrible to show people all transactions at once when they want to verify their own transactions! Inefficient (you load everything) and insecure (you show other people's transactions)\n",
    "    - So instead of showing the record itself, just show the hash of the record, and the hash value column\n",
    "    - The person can check that the hash of his transaction matches the hashing function rule \n",
    "    - Rather than send the **entire** column of hashes (unnecessarily intensive), we can separate transactions into **blocks**\n",
    "    - So the diary simply becomes a chain of blocks, or blockchain"
   ]
  },
  {
   "cell_type": "markdown",
   "metadata": {},
   "source": [
    "### Merkle Tree"
   ]
  },
  {
   "cell_type": "markdown",
   "metadata": {},
   "source": [
    "- We know that to check a single transaction, we need to send a whole chain of transactions inside the block, and compute the whole chain of hashes\n",
    "    - Obviously this is not very scalable, it requires $O(N)$ time for $N$ transactions in a block!\n",
    "    - We introduce a data structure here (Merkle Tree) that reduces the time to $O(\\log(N))$\n",
    "\n",
    "- At the bottom of the Merkle tree, each block represents transactions (L1, L2, L3, L4)\n",
    "- Each block is paired and hashed all the way up the tree\n",
    "\n",
    "- Let's imagine you are the owner of block L2\n",
    "    - To see if your data is recorded properly, you only need to receive `Hash(0,0)`, concatenate with your hash, and check against `Hash0`\n",
    "    - To compute top hash, we only need to receieve `Hash(1)`\n",
    "    - So basically at each level, you only receive 1 or 2 hashes, to check if the hash is correct, which gives you $O(\\log(N))$\n",
    "\n",
    "- "
   ]
  }
 ],
 "metadata": {
  "language_info": {
   "name": "python"
  }
 },
 "nbformat": 4,
 "nbformat_minor": 2
}
