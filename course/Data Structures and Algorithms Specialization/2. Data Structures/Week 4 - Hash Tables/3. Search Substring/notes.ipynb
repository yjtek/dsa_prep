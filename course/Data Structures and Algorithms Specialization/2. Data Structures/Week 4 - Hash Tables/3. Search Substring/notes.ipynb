{
 "cells": [
  {
   "cell_type": "markdown",
   "metadata": {},
   "source": [
    "### Applying Hashing: Substring Search"
   ]
  },
  {
   "cell_type": "markdown",
   "metadata": {},
   "source": [
    "- In every browser, you can do a `Find` to get to the text you want very quickly, even if the webpage is large. We will explore how we can implement an algorithm that does this!\n",
    "\n",
    "- Problem: Given a text $T$ and string $P$, find all occurrences of $P$ in $T$\n",
    "    - Substring notation: Let $S[i...j]$ be the subsstring of $S$ starting at position $i$ and ending at $j$\n",
    "        - S = 'hashing'\n",
    "        - S[0...3] = 'hash'\n",
    "        - S[4...6] = 'ing'\n",
    "        - S[2...5] = 'shin'\n",
    "    - Inputs: Strings $T$, $P$\n",
    "    - Output: All positions $i$ in $T$ such that $0 \\le i \\le |T| - |P|$ that $T[i ... (i + |P| - 1)] = P$"
   ]
  },
  {
   "cell_type": "code",
   "execution_count": null,
   "metadata": {},
   "outputs": [],
   "source": [
    "def naive_find_string(string, substring):\n",
    "    '''\n",
    "    Time complexity: O(len(string) * len(substring)), because you search every position in string, and at each position, you go through every character to check for the substring \n",
    "    '''\n",
    "\n",
    "    substring_len = len(substring)\n",
    "    positions_found = []\n",
    "    for i in range(len(string)-substring_len)+1:\n",
    "        if string[i:i+substring_len] == substring:\n",
    "            positions_found.append(i)\n",
    "    return positions_found"
   ]
  },
  {
   "cell_type": "markdown",
   "metadata": {},
   "source": [
    "### Rabin-Karp Algorithm"
   ]
  },
  {
   "cell_type": "markdown",
   "metadata": {},
   "source": [
    "- A more efficient implementation of this substring search using hashing!\n",
    "- Recall how we previously solved it\n",
    "    - We want to compare some pattern $P$ against all substrings $S$ of a string $T$, where every substring has length $|P|$ \n",
    "\n",
    "- Notes\n",
    "    - Assume a hash function $h()$\n",
    "    - If $h(P) \\neq h(S)$, then $P \\neq S$\n",
    "    - If $h(P) = h(S)$, then check if $P = P$\n",
    "    - Use polynomial hash family `Polyhash` discussed in section 2, with some large prime number $\\mathbb{p}$\n",
    "    - The idea is that if $P \\neq S$, then probability of hash collision (i.e. $P(h(P) = h(P)) \\le \\frac{|P|}{\\mathbb{p}}$)\n",
    "        - That is, the collision probabilty is bounded by the length of the pattern divided by the value of the prime number chosen\n",
    "    - So if we choose a large prime number $\\mathbb{p}$, we will almost never have false comparison of strings!\n",
    "\n",
    "    - For a given string with length $|T|$ and pattern with length $|P|$, we search $|T| - |P| + 1$ positions\n",
    "    - Hence, probability of collision is simply $(|T| - |P| + 1) \\cdot \\frac{|P|}{p}$"
   ]
  },
  {
   "cell_type": "code",
   "execution_count": null,
   "metadata": {},
   "outputs": [],
   "source": [
    "import numpy as np\n",
    "big_prime_number = 2147462143\n",
    "\n",
    "def PolyHash(string, polynomial=10, prime=1000000007):\n",
    "    string_list = list(string)[::-1]\n",
    "    hash_val = 0\n",
    "    for char in string_list:\n",
    "        hash_val = ((hash_val * polynomial) + ord(char)) % prime\n",
    "    return hash_val\n",
    "\n",
    "def RabinKarp(string, pattern, prime):\n",
    "    '''\n",
    "    This is a poorly implemented RabinKarp algorithm, and serves only to illustrate the idea. It is poor, because it does not actually improve on the naive approach! We see that it is still O(N*M) time complexity\n",
    "\n",
    "    Time complexity: O(N * M) + O(q M) = O(N * M); \n",
    "        - O(N) because we loop over the string to be compared\n",
    "        - O(M) for the length of the pattern, which we do once in every loop to compute Polyhash\n",
    "        - There is the strange term O(q * M)\n",
    "            - This comes about because we must account for the situation where the hash computes to the same value, and we need to compare the actual pattern with the substring. Remember, this comparison takes O(M) time, where M is the length of the pattern\n",
    "            - Let's suppose there are q occurences of the pattern in the string\n",
    "            - And we know from the analysis above that the hash collision happens (|T| - |P| + 1) . |P|/p times in total\n",
    "            - If p is large, this term is almost 0 (i.e. collisions unlikely)\n",
    "            - So the total times we incur this cost reduces to q\n",
    "            - Hence, the q * M term\n",
    "            - Since q is probably going to be smaller than N, we assume it drops out in the comparison\n",
    "    Space complexity: O(N) for `positions` array\n",
    "    '''\n",
    "    polynomial = np.random.randint(1, prime)\n",
    "    positions = []\n",
    "\n",
    "    pattern_hash = PolyHash(pattern, prime, polynomial) \n",
    "    pattern_len = len(pattern)\n",
    "\n",
    "    for i in range(len(string)-pattern_len):\n",
    "        string_hash = PolyHash(string[i:(i+pattern_len)], prime, polynomial)\n",
    "        if string_hash != pattern_hash:\n",
    "            continue\n",
    "        else:\n",
    "            if string[i:(i+pattern_len)] == pattern:\n",
    "                positions.append(i)\n",
    "            continue\n",
    "    return positions"
   ]
  },
  {
   "cell_type": "markdown",
   "metadata": {},
   "source": [
    "- In the previous implementation of Rabin-Karp algorithm, we incur a huge cost from computing the hash of each substring. But there is actually a way to optimise this!!\n",
    "\n",
    "- The trick here is that `PolyHash` can actually be written as a recurrance relation. Let's show this:\n",
    "    - Let the string to be hashed be $T$\n",
    "    - We want to check all substrings in $T$ with lengths matching the pattern $P$; that is, check $T[i:i+|P|]$ for every value $i \\le |T| - |P| + 1$\n",
    "    - For each position $i$, representing string $T[i: i+|P|]$, we store the hash value in the i-th value of an array, $H[i]$ \n",
    "    - For polyhash, $H[i] = \\sum_{z=i}^{i+|P|-1} (T[z] \\cdot x^{z-i}) \\mod p$\n",
    "    - For polyhash, $H[i+1] = \\sum_{z=i+1}^{i+|P|} (T[z] \\cdot x^{z-i-1}) \\mod p$\n",
    "    - Rewriting $H[i]$...\n",
    "\n",
    "$$\\begin{aligned}\n",
    "    H[i] &= \\sum_{z=i}^{i+|P|-1} (T[z] \\cdot x^{z-i}) \\mod p \\\\\n",
    "    &= [\\sum_{z=i+1}^{i+|P|} (T[z] \\cdot x^{z-i}) + T[i] - T[i + |P|] \\cdot x^{|P|}] \\mod p \\\\\n",
    "    &= [x \\cdot \\sum_{z=i+1}^{i+|P|} (T[z] \\cdot x^{z-i-1}) + T[i] - T[i + |P|] \\cdot x^{|P|}] \\mod p \\\\\n",
    "    &= [x \\cdot H[i+1] + T[i] - T[i + |P|] \\cdot x^{|P|}] \\mod p \\\\\n",
    "\\end{aligned}$$"
   ]
  },
  {
   "cell_type": "markdown",
   "metadata": {},
   "source": [
    "- By rewriting $H[i]$ using $H[i+1]$, notice that:\n",
    "    - $x^{|P|}$ is computed once\n",
    "    - And if $H[i+1]$ is known, then the computation of H[i] is computed in $O(1)$!!\n",
    "\n",
    "- Let's implement this efficient Rubin-Karp algorithm\n",
    "    - We simply make use of the recurrence relation to compute all values of $H[i]$\n",
    "    - Once we have the hash in every position, we can simply run the comparison between the substring and the chosen pattern in $O(1)$ time, since no computations are necessary!"
   ]
  },
  {
   "cell_type": "code",
   "execution_count": 6,
   "metadata": {},
   "outputs": [],
   "source": [
    "def polyhash(string, polynomial=10, prime=1000000007):\n",
    "    string_list = list(string)[::-1]\n",
    "    hash_val = 0\n",
    "    for char in string_list:\n",
    "        hash_val = ((hash_val * polynomial) + ord(char)) % prime\n",
    "    return hash_val\n",
    "\n",
    "def precompute_hash(string, pattern, prime, polynomial):\n",
    "    '''\n",
    "    Time complexity: O(N + M) where N is the length of the string and M is the length of the pattern\n",
    "    '''\n",
    "    pattern_len = len(pattern)\n",
    "    string_len = len(string)\n",
    "    \n",
    "    hash_arr = [None] * (string_len - pattern_len + 1)\n",
    "    last_valid_substring = string[(len(string)-pattern_len):(len(string))]\n",
    "\n",
    "    hash_arr[string_len - pattern_len] = polyhash(last_valid_substring, prime, polynomial)\n",
    "\n",
    "    x_power_p = polynomial ** pattern_len\n",
    "\n",
    "    for i in range(string_len - pattern_len - 1, -1, -1):\n",
    "        hash_arr[i] = (polynomial * hash_arr[i+1] + ord(string[i]) - x_power_p * ord(string[i+pattern_len])) % p\n",
    " \n",
    "    return hash_arr\n",
    "\n",
    "def RabinKarpEfficient(string, pattern):\n",
    "    '''\n",
    "    Time complexity: \n",
    "        - O(M) from computing pattern hash\n",
    "        - O(N + M) for running precompute hash\n",
    "        - O(N) for looping over all string\n",
    "        - In checking for equality between pattern and substring\n",
    "            - Every time hash matches, we incur O(M) from the check\n",
    "            - Let q be the number of matching patterns in the string\n",
    "            - And we know that |P|/p is the number of collision\n",
    "            - So overall this becomes O(M) * (q+ |P|/p) \n",
    "            - If collision probability is small from choosing a large p, then this simplifies to O(qM)\n",
    "        - This is O(N + (q+1)M) overall complexity\n",
    "    Space complexity:\n",
    "        - O(N) from storing ositions, and storing array of precomputed hashes\n",
    "    '''\n",
    "    prime = 32452843\n",
    "    polynomial = np.random.randint(1, prime)\n",
    "    positions = []\n",
    "\n",
    "    pattern_hash = polyhash(pattern, prime, polynomial)\n",
    "    all_substring_hash = precompute_hash(string, pattern, prime, polynomial)\n",
    "\n",
    "    for i in range(len(string)-len(pattern)):\n",
    "        if all_substring_hash[i] == pattern_hash:\n",
    "            if string[i:(i+len(pattern))] == pattern:\n",
    "                positions.append(i)\n",
    "    \n",
    "    return positions"
   ]
  }
 ],
 "metadata": {
  "kernelspec": {
   "display_name": "kaggle",
   "language": "python",
   "name": "python3"
  },
  "language_info": {
   "codemirror_mode": {
    "name": "ipython",
    "version": 3
   },
   "file_extension": ".py",
   "mimetype": "text/x-python",
   "name": "python",
   "nbconvert_exporter": "python",
   "pygments_lexer": "ipython3",
   "version": "3.10.4"
  }
 },
 "nbformat": 4,
 "nbformat_minor": 2
}
