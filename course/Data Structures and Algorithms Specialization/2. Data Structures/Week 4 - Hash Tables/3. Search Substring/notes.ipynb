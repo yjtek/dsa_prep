{
 "cells": [
  {
   "cell_type": "markdown",
   "metadata": {},
   "source": [
    "### Applying Hashing: Substring Search"
   ]
  },
  {
   "cell_type": "markdown",
   "metadata": {},
   "source": [
    "- In every browser, you can do a `Find` to get to the text you want very quickly, even if the webpage is large. We will explore how we can implement an algorithm that does this!\n",
    "\n",
    "- Problem: Given a text $T$ and string $P$, find all occurrences of $P$ in $T$\n",
    "    - Substring notation: Let $S[i...j]$ be the subsstring of $S$ starting at position $i$ and ending at $j$\n",
    "        - S = 'hashing'\n",
    "        - S[0...3] = 'hash'\n",
    "        - S[4...6] = 'ing'\n",
    "        - S[2...5] = 'shin'\n",
    "    - Inputs: Strings $T$, $P$\n",
    "    - Output: All positions $i$ in $T$ such that $0 \\le i \\le |T| - |P|$ that $T[i ... (i + |P| - 1)] = P$"
   ]
  },
  {
   "cell_type": "code",
   "execution_count": 2,
   "metadata": {},
   "outputs": [
    {
     "data": {
      "text/plain": [
       "True"
      ]
     },
     "execution_count": 2,
     "metadata": {},
     "output_type": "execute_result"
    }
   ],
   "source": [
    "test = 'abcde'\n",
    "test[1:3] == 'bc'"
   ]
  },
  {
   "cell_type": "code",
   "execution_count": null,
   "metadata": {},
   "outputs": [],
   "source": [
    "def naive_find_string(string, substring):\n",
    "    '''\n",
    "    Time complexity: O(N^2), because you search every position in string, and you search every substring\n",
    "    '''\n",
    "\n",
    "    substring_len = len(substring)\n",
    "    positions_found = []\n",
    "    for i in range(len(string)-substring_len)+1:\n",
    "        if string[i:i+substring_len] == substring:\n",
    "            positions_found.append(i)\n",
    "    return positions_found\n",
    "\n"
   ]
  }
 ],
 "metadata": {
  "kernelspec": {
   "display_name": "kaggle",
   "language": "python",
   "name": "python3"
  },
  "language_info": {
   "codemirror_mode": {
    "name": "ipython",
    "version": 3
   },
   "file_extension": ".py",
   "mimetype": "text/x-python",
   "name": "python",
   "nbconvert_exporter": "python",
   "pygments_lexer": "ipython3",
   "version": "3.10.4"
  }
 },
 "nbformat": 4,
 "nbformat_minor": 2
}
