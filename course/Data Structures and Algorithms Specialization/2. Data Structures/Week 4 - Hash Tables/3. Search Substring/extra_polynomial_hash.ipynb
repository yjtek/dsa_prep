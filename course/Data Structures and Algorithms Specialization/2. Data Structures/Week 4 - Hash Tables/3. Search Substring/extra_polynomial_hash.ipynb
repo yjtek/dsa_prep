{
 "cells": [
  {
   "cell_type": "markdown",
   "metadata": {},
   "source": [
    "### Polynomial hash: Deep dive"
   ]
  },
  {
   "cell_type": "markdown",
   "metadata": {},
   "source": [
    "- In many algorithms, there is a need to efficiently compare the differences/similarity between 2 strings\n",
    "    - Rabin Karp is one such case, where we want to efficiently find the occurrences of substrings \n",
    "\n",
    "- We have explored in the chapter notes how we can use hashing to accomplish this. In this extra set of notes, we will deep dive into why the polynomial hash works"
   ]
  },
  {
   "cell_type": "markdown",
   "metadata": {},
   "source": [
    "- Let's first implement a polynomial hash\n",
    "\n",
    "- Why use polyhash?\n",
    "    - The logic of polynomial hash is covered pretty well in the lecture; the idea here is that with polyhash, we can compute the difference between overlapping strings in constant time (subtract the first character * some polynomial, add the last character * some polynomial)\n",
    "\n",
    "- Why use modulo?\n",
    "    - Modulo is added to prevent overflow, since the size of the integer grows exponentially\n",
    "\n",
    "- Why must the polynomial $p$ chosen be larger than the size of the character set $|\\Sigma|$>\n",
    "    - Intuitively, the smaller your polynomial, the greater the chance of collisions\n",
    "    - Why? Because the span of the values is simply smaller. Let's take an extreme case; imagine the polynomial is 2:\n",
    "        - Hash value of $2^2 = \\{\\text{a, ba}\\}$\n",
    "        - So many strings can give you the same hash value, which means that collisions are more likely!\n",
    "\n",
    "- A basic implementation is provided below"
   ]
  },
  {
   "cell_type": "code",
   "execution_count": 23,
   "metadata": {},
   "outputs": [
    {
     "name": "stdout",
     "output_type": "stream",
     "text": [
      "Hashing char='s' with ord(char)=115; i=0, polynomial**i=1\n",
      "Hashing char='o' with ord(char)=111; i=1, polynomial**i=31\n",
      "Hashing char='m' with ord(char)=109; i=2, polynomial**i=961\n",
      "Hashing char='e' with ord(char)=101; i=3, polynomial**i=29791\n",
      "Hashing char=' ' with ord(char)=32; i=4, polynomial**i=923521\n",
      "Hashing char='l' with ord(char)=108; i=5, polynomial**i=28629151\n",
      "Hashing char='o' with ord(char)=111; i=6, polynomial**i=887503681\n",
      "Hashing char='n' with ord(char)=110; i=7, polynomial**i=27512614111\n",
      "Hashing char='g' with ord(char)=103; i=8, polynomial**i=852891037441\n",
      "Hashing char='e' with ord(char)=101; i=9, polynomial**i=26439622160671\n",
      "Hashing char='r' with ord(char)=114; i=10, polynomial**i=819628286980801\n",
      "Hashing char=' ' with ord(char)=32; i=11, polynomial**i=25408476896404831\n",
      "Hashing char='s' with ord(char)=115; i=12, polynomial**i=787662783788549761\n",
      "Hashing char='t' with ord(char)=116; i=13, polynomial**i=24417546297445042591\n",
      "Hashing char='r' with ord(char)=114; i=14, polynomial**i=756943935220796320321\n",
      "Hashing char='i' with ord(char)=105; i=15, polynomial**i=23465261991844685929951\n",
      "Hashing char='n' with ord(char)=110; i=16, polynomial**i=727423121747185263828481\n",
      "Hashing char='g' with ord(char)=103; i=17, polynomial**i=22550116774162743178682911\n"
     ]
    },
    {
     "data": {
      "text/plain": [
       "True"
      ]
     },
     "execution_count": 23,
     "metadata": {},
     "output_type": "execute_result"
    }
   ],
   "source": [
    "polynomial = 31\n",
    "prime = 1e9 + 7\n",
    "\n",
    "def polynomial_hash_basic(string):\n",
    "    hashval = 0\n",
    "    for i, char in enumerate(string):\n",
    "        print(f'Hashing {char=} with {ord(char)=}; {i=}, {polynomial**i=}, {hashval=}')\n",
    "        hashval +=  ord(char) * (polynomial**i)\n",
    "    return hashval\n",
    "\n",
    "(polynomial_hash_basic('some longer string')) > (2**64)"
   ]
  },
  {
   "cell_type": "markdown",
   "metadata": {},
   "source": [
    "- The basic implementation runs into several issues immediately;\n",
    "    - `polynomial ** i` can easily overflow the 64 bit integer boundary\n",
    "    - Even if the polynomial is ok, the sum of the polynomial hash can exceed the boundary rapidly, especially if the character size is large\n",
    "\n",
    "- To overcome this, we add a modulo at 2 points\n",
    "    - Whenever we add each term, we take modulo of the current hashval \n",
    "    - Whenever we multiply the polynomial, we take modulo of the current polynomial value"
   ]
  },
  {
   "cell_type": "code",
   "execution_count": 33,
   "metadata": {},
   "outputs": [
    {
     "data": {
      "text/plain": [
       "213920304.0"
      ]
     },
     "execution_count": 33,
     "metadata": {},
     "output_type": "execute_result"
    }
   ],
   "source": [
    "polynomial = 31\n",
    "prime = 1e9 + 7\n",
    "\n",
    "def polynomial_hash(string):\n",
    "    hashval = 0\n",
    "    p = 1\n",
    "    for i, char in enumerate(string):\n",
    "        # print(f'Hashing {char=} with {ord(char)=}; {i=}, {p=}, {hashval=}')\n",
    "        hashval = (hashval + (ord(char) * p)) % prime\n",
    "        p = (p * polynomial) % prime\n",
    "    return hashval\n",
    "\n",
    "polynomial_hash('some long string')"
   ]
  },
  {
   "cell_type": "markdown",
   "metadata": {},
   "source": [
    "### Applying polynomial hashing in substring hash"
   ]
  },
  {
   "cell_type": "markdown",
   "metadata": {},
   "source": [
    "- Let's assume we have following string $s = \\text{coding}$, and the substring $p = \\text{din}$\n",
    "    - Applying the polynomial hash to $s$, we end up with the expression $c \\cdot x^0 + o \\cdot x^1 + d \\cdot x^2 + i \\cdot x^3 + n \\cdot x^4 + g \\cdot x^5$\n",
    "    - Applying the polynomial hash to $p$, we end up with the expression $d \\cdot x^0 + i \\cdot x^1 + n \\cdot x^2$\n",
    "\n",
    "- For the same string `din` in $s$ and $p$, it contributes a different amount to the eventual hash. BUT there is an obvious realtionship in the contribution to both hashes for the matching pattern:\n",
    "    - Contribution of `din` in $s$ is $H_s(\\text{din}) = d \\cdot x^2 + i \\cdot x^3 + n \\cdot x^4$\n",
    "    - Contribution of `din` in $p$ is $H_p(\\text{din}) = d \\cdot x^0 + i \\cdot x^1 + n \\cdot x^2$\n",
    "    - So $H_p(\\text{din}) = \\frac{H_s(\\text{din})}{x^2}$\n",
    "\n",
    "- The idea here is that the hash of a substring can be easily computed in $O(1)$ time, by taking the contribution of that substring, divided by the polynomial raised to the index of the first character"
   ]
  },
  {
   "cell_type": "markdown",
   "metadata": {},
   "source": [
    "### Prefix array"
   ]
  },
  {
   "cell_type": "markdown",
   "metadata": {},
   "source": [
    "- One common idea here is to use a dynamic programming solution to pre-compute a prefix array for a given string\n",
    "    - This will help you get to the hash value of a given substring in O(1) time!\n",
    "\n",
    "- Reusing the example above where $s = \\text{coding}$\n",
    "    - The prefix array $h$ will simply be $[c \\cdot x^0, \\quad c \\cdot x^0 + o \\cdot x^1, \\quad c \\cdot x^0 + o \\cdot x^1 + d \\cdot x^2, ...]$\n",
    "\n",
    "- Let's suppose we have $h$, and we want to compute the value of some substring of $s$. Let's call this substring $s[i : i+j]$ where j is the length of the substring\n",
    "    - We can compute this in O(1) time using $h$ by taking $\\frac{h[i+j-1] - h[i-1]}{x^i}$\n",
    "    - Let's assume we want to get the hash of `din` in $s$. This is $s[2:5]$\n",
    "    - $h[2+3-1] = h[4]$ is the polynomial hash of `codin`, and $h[2-1] = h[1]$ is the polynomial hash of `co`. Hence, the difference between the two values is the contribution of the substring to the original hash\n",
    "    - To find the value of this standalone substring, we simply divide it by the polynomial raised to index $i$"
   ]
  },
  {
   "cell_type": "code",
   "execution_count": 15,
   "metadata": {},
   "outputs": [
    {
     "data": {
      "text/plain": [
       "10534"
      ]
     },
     "execution_count": 15,
     "metadata": {},
     "output_type": "execute_result"
    }
   ],
   "source": [
    "hashval = [3,3,13,251,]\n",
    "(hashval[-1] if hashval else 0) + 10283"
   ]
  },
  {
   "cell_type": "code",
   "execution_count": 32,
   "metadata": {},
   "outputs": [
    {
     "name": "stdout",
     "output_type": "stream",
     "text": [
      "779704350.0\n"
     ]
    },
    {
     "data": {
      "text/plain": [
       "72997956.0"
      ]
     },
     "execution_count": 32,
     "metadata": {},
     "output_type": "execute_result"
    }
   ],
   "source": [
    "polynomial = 31\n",
    "prime = 1e9 + 7\n",
    "string = 'trololol'\n",
    "window_size = 3\n",
    "\n",
    "def polynomial_hash(s: str, return_prefix_hash: bool=False) -> list[int] | int:\n",
    "    if return_prefix_hash:\n",
    "        hashval = []\n",
    "        p = [1]\n",
    "        for i, char in enumerate(string):\n",
    "            # print(f'Hashing {char=} with {ord(char)=}; {i=}, {p=}, {hashval=}')\n",
    "            hashval_new = ((hashval[-1] if hashval else 0) + (ord(char) * p[-1])) % prime\n",
    "            p_new = (p[-1] * polynomial) % prime\n",
    "            hashval.append(hashval_new)\n",
    "            p.append(p_new)\n",
    "        return hashval\n",
    "    else:\n",
    "        hashval = 0\n",
    "        p = 1\n",
    "        for i, char in enumerate(string):\n",
    "            # print(f'Hashing {char=} with {ord(char)=}; {i=}, {p=}, {hashval=}')\n",
    "            hashval = (hashval + (ord(char) * p)) % prime\n",
    "            p = (p * polynomial) % prime\n",
    "        return hashval\n",
    "\n",
    "prefix_hash = polynomial_hash(s=string, return_prefix_hash=True)\n",
    "\n",
    "# def get_substr_hash(first_index: int, last_index: int):\n",
    "first_index = 2\n",
    "last_index = 4\n",
    "\n",
    "if first_index == 0:\n",
    "    print(prefix_hash[last_index])\n",
    "else:\n",
    "    temp = (prefix_hash[last_index] - prefix_hash[first_index-1])/(polynomial**2)\n",
    "    temp = temp + prime if temp < 0 else temp\n",
    "    temp = (temp * pow(int(polynomial), int(len(string)-first_index), int(prime))) % prime\n",
    "    print(temp)\n",
    "\n",
    "polynomial_hash(s=string[first_index:(last_index+1)])"
   ]
  },
  {
   "cell_type": "code",
   "execution_count": 44,
   "metadata": {},
   "outputs": [
    {
     "name": "stdout",
     "output_type": "stream",
     "text": [
      "eksf\n",
      "(581069439, 152602678)\n"
     ]
    },
    {
     "data": {
      "text/plain": [
       "[5, 346, 18605, 197351]"
      ]
     },
     "execution_count": 44,
     "metadata": {},
     "output_type": "execute_result"
    }
   ],
   "source": [
    "class RollingHash:\n",
    "    def __init__(self, s):\n",
    "        self.length = len(s)\n",
    "        self.mod1 = 10**9 + 7\n",
    "        self.mod2 = 10**9 + 9\n",
    "        self.p1 = 31\n",
    "        self.p2 = 37\n",
    "        self.hash1 = [0] * self.length\n",
    "        self.hash2 = [0] * self.length\n",
    "         \n",
    "        # Compute hashes of the string s\n",
    "         \n",
    "        h1 = h2 = 0\n",
    "        p_pow1 = p_pow2 = 1\n",
    "        for i in range(self.length):\n",
    "            h1 = (h1 + (ord(s[i]) - ord('a') + 1) * p_pow1) % self.mod1\n",
    "            h2 = (h2 + (ord(s[i]) - ord('a') + 1) * p_pow2) % self.mod2\n",
    "            p_pow1 = (p_pow1 * self.p1) % self.mod1\n",
    "            p_pow2 = (p_pow2 * self.p2) % self.mod2\n",
    "            self.hash1[i] = h1\n",
    "            self.hash2[i] = h2\n",
    " \n",
    "    # Returns the hash value of the prefix of s up to index i\n",
    "    def prefix(self, index):\n",
    "        return (self.hash1[index], self.hash2[index])\n",
    "     \n",
    "    # # Returns the hash value of the substring of s from index l to r (inclusive)\n",
    "    # def substr(self, l, r):\n",
    "    #     if l == 0:\n",
    "    #         return (self.hash1[r], self.hash2[r])\n",
    "    #     temp1 = self.hash1[r] - self.hash1[l-1]\n",
    "    #     temp2 = self.hash2[r] - self.hash2[l-1]\n",
    "    #     temp1 += self.mod1 if temp1 < 0 else 0\n",
    "    #     temp2 += self.mod2 if temp2 < 0 else 0\n",
    "    #     temp1 = (temp1 * pow(self.p1, self.length-l, self.mod1)) % self.mod1\n",
    "    #     temp2 = (temp2 * pow(self.p2, self.length-l, self.mod2)) % self.mod2\n",
    "    #     return (temp1, temp2)\n",
    "    def substr(self, l, r):\n",
    "        if l == 0:\n",
    "            return (self.hash1[r], self.hash2[r])\n",
    "        temp1 = (self.hash1[r] - self.hash1[l-1] + self.mod1) % self.mod1\n",
    "        temp2 = (self.hash2[r] - self.hash2[l-1] + self.mod2) % self.mod2\n",
    "        temp1 = (temp1 * pow(self.p1, self.length - l, self.mod1)) % self.mod1\n",
    "        temp2 = (temp2 * pow(self.p2, self.length - l, self.mod2)) % self.mod2\n",
    "        return (temp1, temp2)\n",
    " \n",
    "    def __eq__(self, other):\n",
    "        return self.prefix(self.length-1) == other.prefix(other.length-1)\n",
    " \n",
    " \n",
    "my_str = \"geeksforgeeks\"\n",
    "left = 2\n",
    "right = 5\n",
    "print(my_str[left:(right+1)])\n",
    "hash = RollingHash(my_str)\n",
    "print(hash.substr(2,5))\n",
    "\n",
    "hashcheck = RollingHash(my_str[left:(right+1)])\n",
    "hashcheck.hash1"
   ]
  },
  {
   "cell_type": "markdown",
   "metadata": {},
   "source": [
    "#### Extra: Euclidean Algorithm"
   ]
  },
  {
   "cell_type": "markdown",
   "metadata": {},
   "source": [
    "- Euclidean algorithm\n",
    "    - Let's assume there are 2 integers $A, B$ that have a common divisor $d$\n",
    "        - In notation, we write that $d | A$ and $d | B$ (i.e. d divides A and B)\n",
    "    - If $d | A$ and $d | B$, then it must be true that $d | (x \\cdot A + y \\cdot B)$\n",
    "        - Any linear combination of A and B must be divisible by $d$. Think of A and B as a product of some sequence of divisors, including $d$. Then multiplying an additional $x$ to that sequence does not change that fact that it must still be divisible by $d$\n",
    "    - We can always represent $A$ as $A = q \\cdot B + r$, assuming $A > B$. \n",
    "        - If $A < B$ just flip the numbers.\n",
    "        - $q$ is some arbitary integer, and $r$ is the remainder\n",
    "    - But this can be rewritten as $r = A - q \\cdot B$, which is precisely a linear combination of A and B\n",
    "        - Therefore, $r$ must also be divisible by $d$\n",
    "\n",
    "    - Let $d$ be a common divisor of $A$ and $B$.\n",
    "        - $d | A$, $d | B$\n",
    "        - By the argument above, it must be true that, $d | A - qB$\n",
    "        - Therefore, $d | r$\n",
    "    - Let $e$ be a common divisor of $B$ and $r$\n",
    "        - $e | B$, $e | r$\n",
    "        - By the argument above, it must be true that, $e | qB + r$\n",
    "        - Therefore, $e | A$\n",
    "\n",
    "    - So every divisor of A and B must also be a divisor for $r$, and every divisor for B and r must also be a divisor for A\n",
    "        - Therefore, since the set of divisors $d \\equiv e$, then $gcd(A,B) \\equiv gcd(B,r)$\n",
    " "
   ]
  },
  {
   "cell_type": "code",
   "execution_count": 49,
   "metadata": {},
   "outputs": [],
   "source": [
    "def gcd(a, b):\n",
    "    if (a == 0):\n",
    "        return b\n",
    "    elif (b == 0):\n",
    "        return a\n",
    "    else:\n",
    "        ## Tail recursion\n",
    "        return gcd(b%a, a)"
   ]
  },
  {
   "cell_type": "markdown",
   "metadata": {},
   "source": [
    "- From the above discussion, given $d | A$ and $d | B$, then $d | (xA + yB)$\n",
    "- Beyond returning the GCD, the extended Euclidean algorithm also returns the values of $x, y$ such that $gcd(A,B) = xA + yB$\n",
    "\n",
    "$$\\begin{aligned}\n",
    "    ax_1 + by_1 &= \\text{gcd}(a,b) \\\\\n",
    "    \\text{gcd}(a,b) &= \\text{gcd}(b \\mod a,a) \\\\\n",
    "    \\text{gcd}(b \\mod a,a) &= b \\mod a x_2 + a y_2 \\\\ \\\\\n",
    "\n",
    "    \\therefore ax_1 + by_1 &= b \\mod a x_2 + a y_2 \\\\\n",
    "    ax_1 + by_1 &= (b - \\left \\lfloor  \\frac{b}{a} \\right \\rfloor \\cdot a) x_2 + a y_2 \\\\\n",
    "    &= b x_2 - \\left \\lfloor  \\frac{b}{a} \\right \\rfloor \\cdot a \\cdot x_2 + a y_2 \\\\\n",
    "    &= a [y_2 - \\left \\lfloor  \\frac{b}{a} \\right \\rfloor \\cdot x_2] + b x_2 \\\\ \\\\\n",
    "\n",
    "    \\text{Comparing coefficients...} \\\\\n",
    "    \\therefore x_1 &= y_2 - \\left \\lfloor  \\frac{b}{a} \\right \\rfloor \\cdot x_2 \\\\\n",
    "    \\therefore y_1 &= x_2  \n",
    "\n",
    "\n",
    "\\end{aligned}$$"
   ]
  },
  {
   "cell_type": "code",
   "execution_count": 56,
   "metadata": {},
   "outputs": [
    {
     "data": {
      "text/plain": [
       "(5, 1, -2)"
      ]
     },
     "execution_count": 56,
     "metadata": {},
     "output_type": "execute_result"
    }
   ],
   "source": [
    "def gcd_extended(a, b):\n",
    "    if a == 0:\n",
    "        x1 = 0\n",
    "        y1 = 1\n",
    "        return b, x1, y1\n",
    "    \n",
    "    gcd, x2, y2 = gcd_extended(b%a, a)\n",
    "    x1 = y2 - (b//a) * x2\n",
    "    y1 = x2\n",
    "\n",
    "    return gcd, x1, y1\n",
    "    \n",
    "gcd_extended(35, 15)"
   ]
  },
  {
   "cell_type": "markdown",
   "metadata": {},
   "source": [
    "#### Application: Computing Inverse Modulo"
   ]
  },
  {
   "cell_type": "markdown",
   "metadata": {},
   "source": [
    "- In modulo arithmetic, there is no division operation!! \n",
    "    - Instead of dividing, we multiply it by the modular inverse of the denominator!\n",
    "    - For revision of modular arithmetic: https://brilliant.org/wiki/modular-arithmetic/\n",
    "\n",
    "- The modular inverse of of $A \\mod M$ is defined as the integer $B$ such that $(A \\cdot B) \\equiv 1 \\mod M$\n",
    "    - Naive approach: Try all values between $1$ and $M-1$. $O(M)$ time complexity\n",
    "    - Better approach: Use extended Euclidean algorithm! (see section below)\n",
    "    - What's the idea here?\n",
    "        - To take the modular inverse of $A \\mod M$, we are asking for $B$ such that $(A \\cdot B) \\mod M \\equiv 1 \\mod M = 1$\n",
    "        - Let's first observe that this $B$ only exists when $A$ and $M$ are coprime\n",
    "            - If they are not, then no value $B$ can make $A \\cdot B \\equiv 1 \\mod M$\n",
    "            - Because if $gcd(A, M) > 1$, then $gcd(AB, M) > 1$, since the product of 1 extra term to A does not change the original gcd value\n",
    "        - From the extended Euclidean algorithm, we get `gcd, x, y` such that $gcd(A,M) = xA + yM$\n",
    "            - From modular arithemtic, this means that $gcd(A,M) \\mod M = xA \\mod M + yM \\mod M$\n",
    "            - We already know that $gcd(A,M) = 1$, and by definition $yM \\mod M = 0$\n",
    "        - Rewriting, $A \\cdot x \\mod M = 1$\n",
    "        - But this is exactly what we're trying to find! So $x = B$ is a valid answer"
   ]
  },
  {
   "cell_type": "code",
   "execution_count": 6,
   "metadata": {},
   "outputs": [],
   "source": [
    "def gcd_extended(a, b):\n",
    "    if a == 0:\n",
    "        x1 = 0\n",
    "        y1 = 1\n",
    "        return b, x1, y1\n",
    "    \n",
    "    gcd, x2, y2 = gcd_extended(b%a, a)\n",
    "    x1 = y2 - (b//a) * x2\n",
    "    y1 = x2\n",
    "\n",
    "    return gcd, x1, y1\n",
    "\n",
    "def inverse_mod(a, m):\n",
    "    gcd, x, y = gcd_extended(a, m)\n",
    "    \n",
    "    ## If the gcd of a and m is larger than 1, then there is no way for the gcd of a*b to be 1, because the original larger divisor is still there\n",
    "    if gcd != 1:\n",
    "        return None  \n",
    "    else:\n",
    "        # return x % m\n",
    "        return x"
   ]
  }
 ],
 "metadata": {
  "kernelspec": {
   "display_name": "kaggle",
   "language": "python",
   "name": "python3"
  },
  "language_info": {
   "codemirror_mode": {
    "name": "ipython",
    "version": 3
   },
   "file_extension": ".py",
   "mimetype": "text/x-python",
   "name": "python",
   "nbconvert_exporter": "python",
   "pygments_lexer": "ipython3",
   "version": "3.10.4"
  }
 },
 "nbformat": 4,
 "nbformat_minor": 2
}
