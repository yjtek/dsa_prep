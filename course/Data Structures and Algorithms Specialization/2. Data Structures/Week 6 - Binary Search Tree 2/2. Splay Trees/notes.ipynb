{
 "cells": [
  {
   "cell_type": "markdown",
   "metadata": {},
   "source": [
    "# Splay Trees"
   ]
  },
  {
   "cell_type": "markdown",
   "metadata": {},
   "source": [
    "## Introduction"
   ]
  },
  {
   "cell_type": "markdown",
   "metadata": {},
   "source": [
    "- We've looked at AVL trees to keep trees balanced\n",
    "- There are many other BST structures, all designed to optimise for different things\n",
    "- We will look at Splay Trees, which are optimised to make average lookup time short\n",
    "    - To do this, after every look up, splay trees push the nodes upwards from the leaf to the root, so you can access it faster without traversing the full height of the tree!\n",
    "    - i.e. you trade off balance, for less height traversal\n",
    "    - vs AVL trees, which takes $O(\\log(N))$ for look ups in on average\n",
    "\n",
    "- Naive way to push stuff to the top: just rotate\n",
    "\n",
    "- Better way: Rearrange depending on node and its parent\n",
    "    - So just do a case analysis depending on the current arrangement; Zig Zig, Zig Zag, or Zig\n",
    "    - See notes for details\n",
    "    - Just keep calling `Splay()` until $N$ reaches the root"
   ]
  },
  {
   "cell_type": "code",
   "execution_count": null,
   "metadata": {},
   "outputs": [],
   "source": [
    "def Splay(N):\n",
    "    #choose proper case\n",
    "    ...\n",
    "    if N.parent is not None:\n",
    "        Splay(N)"
   ]
  },
  {
   "cell_type": "markdown",
   "metadata": {},
   "source": [
    "## Implementation"
   ]
  },
  {
   "cell_type": "markdown",
   "metadata": {},
   "source": [
    "- Splay operation is sometimes slow, because tree has no balance guarantees\n",
    "    - BUT splay actually has built-in balancing ability, just not in the same way as AVL trees\n",
    "    - So we can introduce amortized complexity, because everytime the expensive step is run, you actually help to balance the tree!\n",
    "\n",
    "- It turns out that the amortised cost of doing $O(D)$ work and then splaying a node of depth $D$ is $O(\\log(N))$\n",
    "\n",
    "- Operations\n",
    "    - `Find`\n",
    "        - Assume the node $N$ is at depth $D$. We need $O(D)$ time to find the node\n",
    "        - Run `Splay(N)` \n",
    "        - So amortized cost is $O(\\log(n))$, because you \"pay\" for the work of finding $N$ by splaying to rebalance the tree. So if you find this node often, it becomes much closer to $O(1)$ \n",
    "        - Splay must be run EVEN if you don't find $N$, or you'll have done $O(D)$ work without amortizing \n",
    "    - `Delete`: Same idea\n",
    "    - "
   ]
  },
  {
   "cell_type": "code",
   "execution_count": 1,
   "metadata": {},
   "outputs": [],
   "source": [
    "def SplayTreeFind(k, R):\n",
    "    N = find(k, R)\n",
    "    Splay(N)\n",
    "    return N\n",
    "\n",
    "def SplayTreeInsert(k, R):\n",
    "    Insert(k, R)\n",
    "    SplayTreeFind(k, R)\n",
    "\n",
    "def SplayTreeDelete(N):\n",
    "    Splay(Next(N))\n",
    "    Splay(N)\n",
    "    L = N.left_child\n",
    "    R = N.right_child\n",
    "    R.left_child = L\n",
    "    L.parent = R\n",
    "    Root = R\n",
    "    R.parent = None\n",
    "\n",
    "def CutLeft(N):\n",
    "    L = N.left_child\n",
    "    N.left_child = None\n",
    "    L.parent = None\n",
    "    return L, N\n",
    "\n",
    "def SplayTreeSplit(R, x):\n",
    "    '''\n",
    "    Idea: Splay first, then cut the tree\n",
    "    '''\n",
    "    N = Find(x, R)\n",
    "    Splay(N)\n",
    "    if N.key > x:\n",
    "        return CutLeft(R)\n",
    "    elif N.key < x:\n",
    "        return CutRight(R)\n",
    "    else:\n",
    "        return N.left_child, N.right_child\n",
    "    \n",
    "def SplayTreeMerge(r1, r2):\n",
    "    '''\n",
    "    Idea: Splay largest element of first tree, move it to root, then stick second tree as child of the root\n",
    "    '''\n",
    "    N = Find(math.inf, r1)\n",
    "    Splay(N)\n",
    "    N.right_child = r2\n",
    "    r2.parent = N"
   ]
  },
  {
   "cell_type": "markdown",
   "metadata": {},
   "source": [
    "## Proof that Splay Tree is Log(N)"
   ]
  },
  {
   "cell_type": "markdown",
   "metadata": {},
   "source": [
    "- No clue what he's saying, just assume the stuff in the notes are correct lol"
   ]
  },
  {
   "cell_type": "markdown",
   "metadata": {},
   "source": []
  }
 ],
 "metadata": {
  "kernelspec": {
   "display_name": "dsa_prep",
   "language": "python",
   "name": "python3"
  },
  "language_info": {
   "codemirror_mode": {
    "name": "ipython",
    "version": 3
   },
   "file_extension": ".py",
   "mimetype": "text/x-python",
   "name": "python",
   "nbconvert_exporter": "python",
   "pygments_lexer": "ipython3",
   "version": "3.10.13"
  }
 },
 "nbformat": 4,
 "nbformat_minor": 2
}
