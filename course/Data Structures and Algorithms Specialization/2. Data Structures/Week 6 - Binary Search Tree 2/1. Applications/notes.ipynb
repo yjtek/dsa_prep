{
 "cells": [
  {
   "cell_type": "markdown",
   "metadata": {},
   "source": [
    "# BST: Applications "
   ]
  },
  {
   "cell_type": "code",
   "execution_count": 2,
   "metadata": {},
   "outputs": [],
   "source": [
    "from dataclasses import dataclass\n",
    "\n",
    "@dataclass\n",
    "class Node:\n",
    "    key: int\n",
    "    size: int\n",
    "    parent: 'Node'\n",
    "    left_child: 'Node'\n",
    "    right_child: 'Node'\n"
   ]
  },
  {
   "cell_type": "markdown",
   "metadata": {},
   "source": [
    "## Computing order statistics in BST"
   ]
  },
  {
   "cell_type": "markdown",
   "metadata": {},
   "source": [
    "- Let's suppose you want to find the n-th largest node in the BST \n",
    "- We can use the BST structure, and add a new field `Size` to keep track of how many elements there are in the subtrees\n",
    "\n",
    "- Introduce Size such that $$\\text{N.Size} = \\text{N.Left.Size} + \\text{N.Right.Size} + 1$$ \n",
    "    - The size at a node is the size of the sum of both its subtrees plus 1 for itself"
   ]
  },
  {
   "cell_type": "markdown",
   "metadata": {},
   "source": [
    "- When rotating, size has to be recomputed using `RecomputeSize(N)`"
   ]
  },
  {
   "cell_type": "code",
   "execution_count": 3,
   "metadata": {},
   "outputs": [],
   "source": [
    "def RecomputeSize(N):\n",
    "    N.size = N.left_child.size + N.right_child.size + 1\n",
    "\n",
    "def RotateRight(N):\n",
    "    ...\n",
    "    RecomputeSize(N)\n",
    "    RecomputeSize(new_root)\n",
    "\n",
    "def OrderStatistic(R: Node, k: int):\n",
    "    '''\n",
    "    Return the node whose key is the k-th smallest \n",
    "    '''\n",
    "    s = R.left_child.size\n",
    "    if k == s+1:\n",
    "        # By definition, there are s nodes to the left of R. So R must be the s+1-th smallest node\n",
    "        return R\n",
    "    elif k < s+1:\n",
    "        # If k is less than s+1, then the node we want to find must be in the left subtree. So call OrderStatistic recursively\n",
    "        return OrderStatistic(R.left_child, k)\n",
    "    elif k > s+1:\n",
    "        # If k is more than s+1, then the node we want to find must be in the right subtree. Call OrderStatistic recursively on right child.\n",
    "        # However, keep in mind that the right child has no visibility of the nodes in the left child. So we must remove s+1 from the rank k we want to look for\n",
    "        # This was not necessary in the k < s+1 case, because the k-th smallest value in the bigger subtree is still the k-th smallest in the reduced subtree. Removing larger values from the right of the tree doesn't change the rank we want to look for. \n",
    "        return OrderStatistic(R.right_child, k-s-1)"
   ]
  },
  {
   "cell_type": "markdown",
   "metadata": {},
   "source": [
    "- This runs in $O(h)$ or $O(\\log(N))$ depending on AVL property\n",
    "\n",
    "- How do you compute the rank of the node with a given key?"
   ]
  },
  {
   "cell_type": "code",
   "execution_count": null,
   "metadata": {},
   "outputs": [],
   "source": [
    "def GetRankOfNode(R: Node, k: int):\n",
    "    s = R.left_child.size\n",
    "    if R.key == k:\n",
    "        return s + 1\n",
    "    elif R.key > k:\n",
    "        return GetRankOfNode(R.left_child, k)\n",
    "    elif R.key < k:\n",
    "        return GetRankOfNode(R.right_child, k-s-1)"
   ]
  },
  {
   "cell_type": "markdown",
   "metadata": {},
   "source": [
    "- Implication: Given a BST, we can get the rank of any element in $O(\\log(N))$! \n",
    "    - i.e If I give you an array of numbers, and ask you to find the 5th smallest/largest element, you can do this in logarithmic time instead of linear time"
   ]
  },
  {
   "cell_type": "markdown",
   "metadata": {},
   "source": [
    "## Color Flips"
   ]
  },
  {
   "cell_type": "markdown",
   "metadata": {},
   "source": [
    "- Suppose we have an array of squares, which are either black of white\n",
    "- We want to flip the colours of all squares after index $x$\n",
    "\n",
    "- Operations\n",
    "    - `NewArray(n)`: Create array with $n$ white squares\n",
    "    - `Colour(m)`: Return colour of m-th square\n",
    "    - `Flip(x)`: Flio colour of all squares of index > x\n",
    "\n",
    "- Naive implementation\n",
    "    - We can implement this as an array\n",
    "    - But flip will be slow, $O(N)$\n",
    "\n",
    "- Instead, we can use a BST to do this\n",
    "    - Store the array of coloured boxes as a tree\n",
    "    - Store another tree where the colours are opposite to your first tree\n",
    "        - This is called the dual tree\n",
    "    - To flip the colours for every element after index $x$, we can\n",
    "        - Split both the tree at node $x$\n",
    "        - Merge the left of tree one with the right of tree 2, and vice versa\n",
    "        - This gives us the tree we want!"
   ]
  },
  {
   "cell_type": "markdown",
   "metadata": {},
   "source": [
    "- So trees can totally be used for more than just searching! We can use it to store lists also"
   ]
  },
  {
   "cell_type": "markdown",
   "metadata": {},
   "source": []
  }
 ],
 "metadata": {
  "kernelspec": {
   "display_name": "dsa_prep",
   "language": "python",
   "name": "python3"
  },
  "language_info": {
   "codemirror_mode": {
    "name": "ipython",
    "version": 3
   },
   "file_extension": ".py",
   "mimetype": "text/x-python",
   "name": "python",
   "nbconvert_exporter": "python",
   "pygments_lexer": "ipython3",
   "version": "3.10.13"
  }
 },
 "nbformat": 4,
 "nbformat_minor": 2
}
