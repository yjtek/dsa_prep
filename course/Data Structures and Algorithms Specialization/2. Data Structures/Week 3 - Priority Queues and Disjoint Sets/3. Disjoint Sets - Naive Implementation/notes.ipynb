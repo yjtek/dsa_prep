{
 "cells": [
  {
   "cell_type": "markdown",
   "metadata": {},
   "source": [
    "### Disjoint set "
   ]
  },
  {
   "cell_type": "markdown",
   "metadata": {},
   "source": [
    "- As the name suggests, the disjoint set structure helps us maintain disjoint groups, and helps us determine if elements belong to the same group easily! Let's take an example:\n",
    "    - Imagine I have a maze, where every path is made up discrete units\n",
    "    - Imagine that we want to know if we can reach an arbitrary point B from an arbitrary point A\n",
    "        - For this to happen, we need to know if A and B belong to the same set\n",
    "            - For us to know this, we must have a way of adding items to common sets iteratively\n",
    "\n",
    "- From the requirements above, we define a **disjoint set** data structure with the following methods\n",
    "    - `MakeSet(x)`: Creates a singleton set $\\{x\\}$\n",
    "    - `Find(x)`: Return the ID of the set containing $x$\n",
    "        - If x and y are in the same set, then $\\text{Find}(x) = \\text{Find}(y)$\n",
    "    - `Union(x,y)`: Merges two sets containing $x$ and $y$ if $\\text{Find}(x) \\neq \\text{Find}(y)$\n",
    "    \n",
    "- In the maze example, we make use of this data structure to answer our question by doing a preprocessing step:\n",
    "\n",
    "```\n",
    "def preprocess(maze):\n",
    "    for cell in maze:\n",
    "        MakeSet(cell)\n",
    "    for cell in maze:\n",
    "        for neighbour in cell.neighbours:\n",
    "            Union(cell, neighbour)\n",
    "```\n",
    "\n",
    "- Then we can simply answer our question by doing\n",
    "```\n",
    "def is_reachable(A,B):\n",
    "    return Find(A) == Find(B)\n",
    "```"
   ]
  },
  {
   "cell_type": "markdown",
   "metadata": {},
   "source": [
    "### Naive implementation of disjoint set"
   ]
  },
  {
   "cell_type": "markdown",
   "metadata": {},
   "source": [
    "- Let's take the value of the smallest element of a set as its ID\n",
    "- We will maintain an array called `group_id`, which shows the group_id for a each value\n",
    "    - Assume we have 3 sets: {9,3,2,4,7}, {5}, {6,1,8}\n",
    "    - then `group_id` array is [1,2,2,2,5,1,2,1,2]"
   ]
  },
  {
   "cell_type": "code",
   "execution_count": 11,
   "metadata": {},
   "outputs": [
    {
     "data": {
      "text/plain": [
       "[2, 2, 2, 2, 2, 5, 1, 1, 1]"
      ]
     },
     "execution_count": 11,
     "metadata": {},
     "output_type": "execute_result"
    }
   ],
   "source": [
    "class DisjointSetNaive:\n",
    "    def __init__(self, input_array):\n",
    "        self.input_array = input_array\n",
    "        self.group_id = [None] * (len(input_array))\n",
    "     \n",
    "    def make_set(self, index):\n",
    "        '''\n",
    "        O(1)\n",
    "        '''\n",
    "        self.group_id[index] = self.input_array[index]\n",
    "\n",
    "    def find(self, index):\n",
    "        '''\n",
    "        O(1)\n",
    "        '''\n",
    "        return self.group_id[index]\n",
    "\n",
    "    def union(self, index1, index2):\n",
    "        '''\n",
    "        O(N) due to the for loop\n",
    "        '''\n",
    "\n",
    "        index1_id = self.find(index1)\n",
    "        index2_id = self.find(index2)\n",
    "        \n",
    "        ## If groupid for both indices are the same, then they are in the same set\n",
    "        if index1_id == index2_id:\n",
    "            return\n",
    "        \n",
    "        ## Else they are in different sets\n",
    "        else:\n",
    "            ## use the smaller of the 2 IDs as the parent set for merging\n",
    "            merge_into_group_id = min(index1_id, index2_id)\n",
    "            \n",
    "            ## Go through the entire array. \n",
    "            for i in range(len(self.input_array)):\n",
    "                # If the group ID for index i is index1_id or index2_id, redirect to the master group ID determined above\n",
    "                if self.group_id[i] in [index1_id, index2_id]:\n",
    "                    self.group_id[i] = merge_into_group_id\n",
    "\n",
    "\n",
    "\n",
    "        \n",
    "input_array = [9,3,2,4,7,5,6,1,8]\n",
    "djs = DisjointSetNaive(input_array)\n",
    "for i in range(len(input_array)):\n",
    "    djs.make_set(i)\n",
    "djs.union(0,1)\n",
    "djs.union(0,2)\n",
    "djs.union(0,3)\n",
    "djs.union(0,4)\n",
    "djs.union(5,5)\n",
    "djs.union(6,7)\n",
    "djs.union(6,8)\n",
    "\n",
    "djs.group_id"
   ]
  }
 ],
 "metadata": {
  "kernelspec": {
   "display_name": "kaggle",
   "language": "python",
   "name": "python3"
  },
  "language_info": {
   "codemirror_mode": {
    "name": "ipython",
    "version": 3
   },
   "file_extension": ".py",
   "mimetype": "text/x-python",
   "name": "python",
   "nbconvert_exporter": "python",
   "pygments_lexer": "ipython3",
   "version": "3.10.4"
  }
 },
 "nbformat": 4,
 "nbformat_minor": 2
}
