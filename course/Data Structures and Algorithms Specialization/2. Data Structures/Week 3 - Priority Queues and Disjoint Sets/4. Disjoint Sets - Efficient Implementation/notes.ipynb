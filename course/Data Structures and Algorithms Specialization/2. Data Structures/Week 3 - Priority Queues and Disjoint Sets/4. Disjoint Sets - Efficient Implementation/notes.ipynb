{
 "cells": [
  {
   "cell_type": "markdown",
   "metadata": {},
   "source": [
    "### Trees"
   ]
  },
  {
   "cell_type": "markdown",
   "metadata": {},
   "source": [
    "- As discussed previously, a naive implementation of disjoint set leads to $O(N)$ run time for the `Union` operation\n",
    "    - We tried looking at linked lists to resolve this issue, but by solving the problem with `Union`, the other operation `Find` now becomes $O(N)$ instead\n",
    "\n",
    "- We now explore how representing each set as a rooted tree can help resolve this problem\n",
    "    - Let each set be a rooted tree\n",
    "    - Let the ID of the set be the root of the tree\n",
    "    - Define a separate array `parent` such that `parent[i]` is the parent of `i`\n",
    "\n",
    "- Assume the same 3 sets again {5}, {6,8,1}, {9,3,2,4,7}\n",
    "    - Define 3 trees: \n",
    "        - 5\n",
    "        - 6 \n",
    "            - 8\n",
    "            - 1\n",
    "        - 4\n",
    "            - 2\n",
    "            - 3\n",
    "            - 9\n",
    "                - 7\n",
    "    - Then `parent` array is $[6,4,4,4,5,6,9,6,4]$\n",
    "        - Remember, array[0] refers to the parent of the value 1, which is 6"
   ]
  },
  {
   "cell_type": "markdown",
   "metadata": {},
   "source": [
    "- By representing the sets as trees, this allows us a shortcut for `Union`\n",
    "    - We can call Union simply by pointing the root of one tree to the root of another!\n",
    "\n",
    "- Using the example above, let's suppose we call `Union(3, 8)`. This gives us 2 options. We can union the second tree (rooted at 6) into the third (rooted at 4), or the other way around. \n",
    "\n",
    "- For ease of traversal (minimise tree height), we always put the smaller tree into the bigger tree. So now the trees are:\n",
    "    - 5\n",
    "    - 4\n",
    "        - 2\n",
    "        - 3\n",
    "        - 9\n",
    "            - 7\n",
    "        - 6 \n",
    "            - 8\n",
    "            - 1"
   ]
  },
  {
   "cell_type": "code",
   "execution_count": 1,
   "metadata": {},
   "outputs": [],
   "source": [
    "class DisjointSetTree:\n",
    "    def __init__(self, input_array):\n",
    "        self.input_array = input_array\n",
    "        self.parents = [None] * len(input_array)\n",
    "\n",
    "    def make_set(self, value):\n",
    "        '''\n",
    "        O(1)\n",
    "        '''\n",
    "        self.parents[index] = value\n",
    "\n",
    "    def find(self, value):\n",
    "        '''\n",
    "        O(log(N)) because in a complete binary tree, there are at most log(N) levels to traverse\n",
    "        '''\n",
    "        curr_value = value\n",
    "        while parents[curr_value] != curr_value:\n",
    "            curr_value = parents[curr_value]\n",
    "        return curr_value\n"
   ]
  },
  {
   "cell_type": "markdown",
   "metadata": {},
   "source": [
    "### Union by rank"
   ]
  },
  {
   "cell_type": "markdown",
   "metadata": {},
   "source": [
    "- As discussed, it is better to hang a shorter tree under the root of the taller one, to minimise tree height\n",
    "\n",
    "- To find the height of a tree, we will store the height of the subtree in an array `rank`, where `rank[i]` is the height of the subtree with root at $i$\n",
    "\n",
    "- This is known as the union by rank heuristic\n",
    "\n",
    "- Note that for any node $i$ at any point, the values in `rank[i]` are equal to the height of the tree rooted at $i$"
   ]
  },
  {
   "cell_type": "code",
   "execution_count": 23,
   "metadata": {},
   "outputs": [
    {
     "data": {
      "text/plain": [
       "[None, 1, 4, 1, 1, 4, 6, None, None, None]"
      ]
     },
     "metadata": {},
     "output_type": "display_data"
    },
    {
     "data": {
      "text/plain": [
       "[None, 2, 0, 0, 1, 0, 0, None, None, None]"
      ]
     },
     "metadata": {},
     "output_type": "display_data"
    }
   ],
   "source": [
    "class DisjointSetTree:\n",
    "    def __init__(self, max_size):\n",
    "        self.parents = [None] * max_size\n",
    "        self.rank = [None] * max_size\n",
    "\n",
    "    def make_set(self, value):\n",
    "        '''\n",
    "        O(1)\n",
    "        '''\n",
    "        self.parents[value] = value\n",
    "        self.rank[value] = 0\n",
    "\n",
    "    def find_group_id(self, value):\n",
    "        '''\n",
    "        O(log(N)) because in a complete binary tree, there are at most log(N) levels to traverse\n",
    "        '''\n",
    "        curr_value = value\n",
    "        while self.parents[curr_value] != curr_value:\n",
    "            curr_value = self.parents[curr_value]\n",
    "        return curr_value\n",
    "\n",
    "    def union(self, value1, value2):\n",
    "        '''\n",
    "        O(log(N)) because of the `find_group_id` operation. Otherwise, everything else is actually O(1)\n",
    "        '''\n",
    "        ## Get the group IDs of both requested values\n",
    "        value1_group_id = self.find_group_id(value1)\n",
    "        value2_group_id = self.find_group_id(value2)\n",
    "        \n",
    "        ## If the group IDs are the same, then the values are in the smae group\n",
    "        if value1_group_id == value2_group_id:\n",
    "            return\n",
    "\n",
    "        ## If the group IDs are different, check which is the larger group, and change the smaller group ID to the larger group ID\n",
    "        if self.rank[value1_group_id] > self.rank[value2_group_id]:\n",
    "            self.parents[value2_group_id] = value1_group_id\n",
    "        \n",
    "        elif self.rank[value1_group_id] < self.rank[value2_group_id]:\n",
    "            self.parents[value1_group_id] = value2_group_id\n",
    "        \n",
    "        ## If the group ranks are equal, then arbitrarily pick the group ID of the second one as the parent, and increment the rank of the second group ID by 1\n",
    "        else:\n",
    "            self.parents[value1_group_id] = value2_group_id\n",
    "            self.rank[value2_group_id] += 1\n",
    "\n",
    "dst = DisjointSetTree(max_size=10)\n",
    "[dst.make_set(x) for x in range(1,7)]\n",
    "dst.union(2,4)\n",
    "dst.union(5,2)\n",
    "dst.union(3,1)\n",
    "dst.union(2,3)\n",
    "# dst.union(2,6)\n",
    "\n",
    "display(dst.parents)\n",
    "display(dst.rank)"
   ]
  },
  {
   "cell_type": "markdown",
   "metadata": {},
   "source": [
    "### Path compression"
   ]
  },
  {
   "cell_type": "markdown",
   "metadata": {},
   "source": [
    "- Recap\n",
    "    - We started by representing the sets as linked list, incurring O(N)/O(1) performance for `Union`/`Find`\n",
    "    - We next discussed representing the sets as trees, incurring O(log(N))/O(log(N)) performance for `Union`/`Find`\n",
    "\n",
    "- Notice that, in the tree representation, `Union` is O(log(N)) because it relies on `Find`, which is itself O(log(N))\n",
    "    - We now talk about an approach which transforms the work of `Union`/`Find` into **almost** constant time by performing `Find` more efficiently\n",
    "\n",
    "- In the `Find` algorithm, we traverse the path of a given node to its root\n",
    "    - What if, while traversing, we store all intermediate values as the parent as well!\n",
    "    - For example, imagine we have this path up a tree `2 --> 4 --> 6`\n",
    "    - Instead of merely returning the parent 6, `Find` modifies the `parent` array along the way such that `parent[2] = 6` and `parent[4] = 6` also\n",
    "    - Through this, every find operation flatten the tree!\n",
    "    - This is known as `path compression`"
   ]
  },
  {
   "cell_type": "code",
   "execution_count": null,
   "metadata": {},
   "outputs": [],
   "source": [
    "def find_group_id(self, value):\n",
    "    '''\n",
    "    Recursively call find until we hit the case where value == self.parent[value] (the root), then return\n",
    "    '''\n",
    "    if self.parent[value] != value:\n",
    "        parent[value] = self.find(self.parent[value])\n",
    "    return value"
   ]
  },
  {
   "cell_type": "markdown",
   "metadata": {},
   "source": [
    "### Analysis of algorithm"
   ]
  },
  {
   "cell_type": "markdown",
   "metadata": {},
   "source": [
    "- Let's first discuss the definition of iterated logarithm\n",
    "    - The iterated logarithm of some value $n$ is the number of times the logarithm function needs to be applied to $n$ before the result is less than or equal to 1\n",
    "    $$ \\log^{*} n = \\begin{Bmatrix} 0 & \\text{if } n \\le 1 \\\\ 1 + \\log^*(\\log(n)) & \\text{if } n \\ge 1 \\end{Bmatrix}$$\n",
    "\n",
    "    - Practically speaking, for most practical values of $n$, the $\\log^*$ function is at most 5\n",
    "        - That is, if I take the log of any number 5 times, it will be bounded by 1"
   ]
  },
  {
   "cell_type": "markdown",
   "metadata": {},
   "source": [
    "- Bounds of the Disjoint set data structure\n",
    "    - Assume `Disjoint` is initially empty \n",
    "    - Assume we applied both path compression and rank heuristic\n",
    "    - Assume we make a sequence of $m$ operations, including $n$ calls to `MakeSet`\n",
    "    - Then the total running time is $O(m \\log^*(N))$\n",
    "    - This leads to an amortized time of a single operation to be $O(\\log^*(N))$\n",
    "    - As established above, $\\log^*(N) \\le 5$ for most reasonable values of $N$\n",
    "    - Hence, disjoint set is amortized constant time!"
   ]
  },
  {
   "cell_type": "markdown",
   "metadata": {},
   "source": [
    "### Proof that disjoint set's union-join is constant time "
   ]
  },
  {
   "cell_type": "markdown",
   "metadata": {},
   "source": [
    "- $\\text{Height} \\le \\text{Rank}$\n",
    "    - When using path compression, the `rank` array no longer represents the height of the tree (since we are modifying the parent recursively each time we call `find` we go along)\n",
    "    - BUT `rank` is an upper bound of the height of the tree\n",
    "    - And for all root nodes, it must be true that their `rank` is not affected by path compression\n",
    "\n",
    "- Properties of the forest\n",
    "    - There must be at most $\\frac{n}{2^k}$ nodes of rank $k$\n",
    "        - Obviously, because the trees are binary\n",
    "        - So if there are $n$ total nodes, and each node of rank $k$ has $2^k$ children, then there must be $\\frac{n}{2^k}$ of such nodes\n",
    "    - For any given node $i$, $\\text{rank}[i] \\lt \\text{rank}[\\text{parent}[i]]$\n",
    "        - That is, the rank of a child must be smaller than the rank of its parent\n",
    "        - Again, obvious? A parent's rank must comprise of all the children's children too\n",
    "    - If a nodeis an internal node, it will always be an internal node\n",
    "        - No combination of `union` and `find` can change a node with a parent to a root"
   ]
  }
 ],
 "metadata": {
  "kernelspec": {
   "display_name": "kaggle",
   "language": "python",
   "name": "python3"
  },
  "language_info": {
   "codemirror_mode": {
    "name": "ipython",
    "version": 3
   },
   "file_extension": ".py",
   "mimetype": "text/x-python",
   "name": "python",
   "nbconvert_exporter": "python",
   "pygments_lexer": "ipython3",
   "version": "3.10.4"
  }
 },
 "nbformat": 4,
 "nbformat_minor": 2
}
