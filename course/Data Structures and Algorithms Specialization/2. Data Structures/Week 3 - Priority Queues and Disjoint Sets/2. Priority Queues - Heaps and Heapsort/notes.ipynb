{
 "cells": [
  {
   "cell_type": "markdown",
   "metadata": {},
   "source": [
    "### Binary Tree"
   ]
  },
  {
   "cell_type": "markdown",
   "metadata": {},
   "source": [
    "- A binary max-heap is a binary tree (each node has 0,1, or 2 children) where the value of each node is at least the values of its children\n",
    "    - Min heap is the same definition, but with each node having at most the values of its children"
   ]
  },
  {
   "cell_type": "markdown",
   "metadata": {},
   "source": [
    "- MaxHeap API\n",
    "    - `GetMax`: O(1)\n",
    "        - Returns the root value\n",
    "    - `SiftUp`: O(log(N))\n",
    "        - For a given node, check if it obeys the MaxHeap property\n",
    "        - If it does not (i.e. child larger than parent), then swap it with parent\n",
    "    - `SiftDown`: O(log(N))\n",
    "        - For a given node, check if it obeys the MaxHeap property\n",
    "        - If it does not (i.e. parent smaller than child), then check left and right child, and swap with the larger of the two\n",
    "    - `Insert`: O(log(N))\n",
    "        - Place the new node as the last leaf \n",
    "        - Then do `SiftUp` until the heap property is satisfied\n",
    "    - `ExtractMax`: O(log(N))\n",
    "        - Replace the root with the last leaf\n",
    "        - Remove the last leaf from the heap, this is your max\n",
    "        - `Siftdown` the root\n",
    "    - `ChangePriority`: O(log(N))\n",
    "        - If the new priority is higher, you want to sift up\n",
    "        - If the new priority is lower, you want to sift down\n",
    "    - `Remove`: O(log(N))\n",
    "        - Replace the priority value to inf\n",
    "        - Siftup\n",
    "        - Call `ExtractMax`\n",
    "    "
   ]
  },
  {
   "cell_type": "markdown",
   "metadata": {},
   "source": [
    "- Complete binary tree\n",
    "    - A tree is complete if all levels are filled except the last level, which is filled from left to right\n",
    "\n",
    "- What are the advantages of a complete binary tree\n",
    "    1. Short tree: A complete binary tree with $n$ nodes has at most O(log(N)) height. This means you can store a lot of nodes, but still get the max value in log(N) time!\n",
    "    2. Store as array: You can represent the MaxHeap quite easily as an array\n",
    "        - Assuming parent is index 1, a given node will have parent at node floor(i/2)\n",
    "        - A given node will have children at 2i and 2i+1\n",
    "\n",
    "- But what are our downsides?\n",
    "    - We need to keep the tree complete for every operation. That is, anytime an operation modifies the shape of the tree, we need to ensure that the tree becomes complete again\n",
    "        - Not every operation will involve changing the tree shape, only `Insert` and `ExtractMax`\n",
    "    - `Insert` in the last vacant position and sift up, so insert takes log(N) time\n",
    "    - `ExtractMax` swaps the root node (the max node) with the last leaf, and then sifts down, incurring log(N) time again"
   ]
  },
  {
   "cell_type": "markdown",
   "metadata": {},
   "source": [
    "### Implementation"
   ]
  },
  {
   "cell_type": "code",
   "execution_count": null,
   "metadata": {},
   "outputs": [],
   "source": [
    "# 0\n",
    "# 1               2        \n",
    "# 3       4       5       6\n",
    "# 7   8   9   10  11  12  13  14"
   ]
  },
  {
   "cell_type": "code",
   "execution_count": 172,
   "metadata": {},
   "outputs": [],
   "source": [
    "import math\n",
    "\n",
    "class MaxHeap:\n",
    "    def __init__(self, max_size, nodes):\n",
    "        self.max_size=max_size\n",
    "        self.nodes=nodes\n",
    "        self.size=len(nodes)\n",
    "        self.__post_init__()\n",
    "\n",
    "    def __post_init__(self):\n",
    "        if self.size != 0:\n",
    "            self.heapify()\n",
    "    \n",
    "    def print_nodes(self):\n",
    "        display(self.nodes)\n",
    "\n",
    "    def parent(self, index, zero_index=True):\n",
    "        # Assume 0 indexed\n",
    "        if zero_index:\n",
    "            return (index-1)//2\n",
    "        else:\n",
    "            return index//2\n",
    "\n",
    "    def left_child(self, index, zero_index=True):\n",
    "        if zero_index:\n",
    "            return (2*index)+1\n",
    "        else:\n",
    "            return 2*index\n",
    "    \n",
    "    def right_child(self, index, zero_index=True):\n",
    "        if zero_index:\n",
    "            return (2*index)+2\n",
    "        else:\n",
    "            return (2*index)+1\n",
    "\n",
    "    def sift_up(self, index, zero_index=True):\n",
    "        if zero_index:\n",
    "            min_index=0\n",
    "        else:\n",
    "            min_index=1\n",
    "        \n",
    "        curr_index=index\n",
    "        while (curr_index > min_index) and (self.nodes[self.parent(curr_index)] < self.nodes[curr_index]):\n",
    "            self.nodes[self.parent(curr_index)], self.nodes[curr_index] = self.nodes[curr_index], self.nodes[self.parent(curr_index)]\n",
    "\n",
    "            curr_index = self.parent(curr_index)\n",
    "\n",
    "    def sift_down(self, index, zero_index=True):\n",
    "        if zero_index:\n",
    "            min_index=0\n",
    "        else:\n",
    "            min_index=1\n",
    "        \n",
    "        left_child_index, right_child_index = self.left_child(index), self.right_child(index)\n",
    "        left_child_value, right_child_value = -math.inf, -math.inf\n",
    "        \n",
    "        if (left_child_index >= self.size) and (right_child_index >= self.size):\n",
    "            return\n",
    "        \n",
    "        if left_child_index < self.size:\n",
    "            left_child_value = self.nodes[left_child_index]\n",
    "        if right_child_index < self.size:\n",
    "            right_child_value = self.nodes[right_child_index]\n",
    "        \n",
    "        curr_value = self.nodes[index]\n",
    "        if left_child_value > right_child_value:\n",
    "            swap_index = left_child_index\n",
    "        else:\n",
    "            swap_index = right_child_index\n",
    "\n",
    "        if curr_value < max(curr_value, left_child_value, right_child_value):\n",
    "            self.nodes[swap_index], self.nodes[index] = self.nodes[index], self.nodes[swap_index]\n",
    "\n",
    "            self.sift_down(swap_index)\n",
    "\n",
    "    def insert(self, value):\n",
    "        if self.size == self.max_size:\n",
    "            raise ValueError(\"Heap is max, unable to insert\")\n",
    "        else:\n",
    "            self.size += 1\n",
    "            self.nodes.append(value)\n",
    "            self.sift_up(self.size-1)\n",
    "\n",
    "    def extract_max(self):\n",
    "        self.nodes[0], self.nodes[-1] = self.nodes[-1], self.nodes[0]\n",
    "        maxval = self.nodes.pop()\n",
    "        self.size -= 1\n",
    "        self.sift_down(0)\n",
    "        return maxval\n",
    "    \n",
    "    def remove(self, index):\n",
    "        self.nodes[index] = math.inf\n",
    "        self.sift_up(index)\n",
    "        # print(self.nodes)\n",
    "\n",
    "        self.extract_max()\n",
    "\n",
    "    def change_priority(self, index, new_priority):\n",
    "        previous_prior = self.nodes[index]\n",
    "        self.nodes[index] = new_priority\n",
    "        \n",
    "        if new_priority > old_priority:\n",
    "            self.sift_up(index)\n",
    "        else:\n",
    "            self.sift_down(index)\n",
    "\n",
    "# mh = MaxHeap(max_size=100, nodes=[])\n",
    "# mh.insert(0)\n",
    "# mh.insert(1)\n",
    "# mh.insert(2)\n",
    "# mh.insert(3)\n",
    "# mh.remove(2)\n",
    "\n",
    "mh = MaxHeap(max_size=100, nodes=[0,1,2,3,4,5])"
   ]
  },
  {
   "cell_type": "markdown",
   "metadata": {},
   "source": [
    "### Heap Sort"
   ]
  },
  {
   "cell_type": "markdown",
   "metadata": {},
   "source": [
    "- For a given array, we can sort by building a heap, then iteratively doing `ExtractMax`! This is known as heapsort\n",
    "    - Time complexity is O(N log(N))\n",
    "        a. Turning an array into a heap takes O(N) time\n",
    "        b. After it is turned into a heap, we call `ExtractMax` N times, with each call taking N log N\n",
    "    - As such, overall time complexity is N log N"
   ]
  },
  {
   "cell_type": "markdown",
   "metadata": {},
   "source": [
    "- We should pay some attention to point A above. How is it possible that turning an array into a heap (**heapify**) only takes O(N) time? Let's think through\n",
    "    - There are 2 ways we can turn an array into a heap. Start from the bottom, `SiftDown`\n",
    "    - Start from the top, and keep calling `SiftUp`\n",
    "\n",
    "    - In the first case, we don't need to call `SiftDown` on the bottom row, because there is nothing below that layer.\n",
    "        - This removes $\\frac{n}{2}$ nodes from the loop\n",
    "    - In the second case, we don't need to call `SiftUp` on the top row, because there is nothing above that layer.\n",
    "        - This removes $1$ nodes from the loop\n",
    "\n",
    "    - So it is clear that `SiftDown` is faster!!\n",
    "\n",
    "- We now know `SiftDown` is faster. How many operations does the `SiftDown` actually take?\n",
    "    - The bottom layer is left alone, so each of the $\\frac{n}{2}$ nodes in bottom layer takes 0 operations\n",
    "    - $\\frac{n}{4}$ nodes in second last layer takes 1 operation\n",
    "    - $\\frac{n}{8}$ nodes in second last layer takes 2 operations\n",
    "    - ...\n",
    "    - 1 node takes $\\log(N)$ operations\n",
    "\n",
    "$$\\begin{aligned}\n",
    "\\frac{n}{4} \\cdot 1 + \\frac{n}{8} \\cdot 2 + ... 1 \\cdot \\log_2(n) &= \\sum_{i=1}^{\\log_2(n)} \\frac{i \\cdot n}{2^{i+1}} \\\\\n",
    "&= \\frac{n}{4} \\sum_{i=1}^{\\log_2(n)} \\frac{i}{2^{i-1}} \\\\\n",
    "&\\lt \\frac{n}{4} \\sum_{i=1}^{\\inf} \\frac{i}{2^{i-1}} \\\\\n",
    "&= \\frac{n}{4} \\sum_{i=1}^{\\inf} i x^{i-1} & x = \\frac{1}{2} \\\\\n",
    "&= \\frac{n}{4} \\sum_{i=1}^{\\inf} \\frac{d}{dx} x^i \\\\\n",
    "&= \\frac{n}{4} \\frac{d}{dx} \\sum_{i=1}^{\\inf} x^i \\\\\n",
    "&= \\frac{n}{4} \\frac{d}{dx} \\frac{1}{1-x} \\\\\n",
    "&= \\frac{n}{4} \\frac{1}{(1-x)^2} \\\\\n",
    "&= \\frac{n}{4} \\frac{1}{\\frac{1}{4}} & x=\\frac{1}{2} \\\\\n",
    "&= n\n",
    "\\end{aligned}$$\n",
    "\n",
    "- Thus, building a heap is O(N)!"
   ]
  },
  {
   "cell_type": "code",
   "execution_count": 178,
   "metadata": {},
   "outputs": [
    {
     "data": {
      "text/plain": [
       "[99, 81, 71, 70, 62]"
      ]
     },
     "execution_count": 178,
     "metadata": {},
     "output_type": "execute_result"
    }
   ],
   "source": [
    "import numpy as np\n",
    "import types\n",
    "\n",
    "input_array = list(np.random.randint(0, 100, 5))\n",
    "\n",
    "def heapify(self):\n",
    "    for i in range((self.size-2)//2, -1 , -1):\n",
    "        self.sift_down(i)\n",
    "\n",
    "MaxHeap.heapify = heapify\n",
    "\n",
    "def heap_sort(self):\n",
    "\n",
    "    self.heapify() #should already be a heap, O(N) otherwise\n",
    "    output_sorted = []\n",
    "\n",
    "    # extract max implicitly calls sift down, so it is O(log(N))\n",
    "    # We do this for N nodes, giving us N log(N) time complexity\n",
    "    while self.nodes:\n",
    "        output_sorted.append(self.extract_max())\n",
    "    return output_sorted\n",
    "    \n",
    "MaxHeap.heap_sort = heap_sort\n",
    "\n",
    "\n",
    "mh = MaxHeap(max_size=100, nodes=input_array)\n",
    "mh.heap_sort()"
   ]
  },
  {
   "cell_type": "markdown",
   "metadata": {},
   "source": [
    "### Partial sorting"
   ]
  },
  {
   "cell_type": "markdown",
   "metadata": {},
   "source": [
    "- Interestingly, the math above can also be used to show that while a **full sort** is $O(N \\log(N))$, a **partial sort** may not be!\n",
    "\n",
    "- Imagine we have an array $A[1,...N]$, and we want to output the last $k$ elements in the sorted version of $A$. Using the same approach as above\n",
    "    - We first heapify the array $A$ in $O(N)$ time\n",
    "    - Then we loop from 1 to $k$ and `ExtractMax`, taking $k \\log(N)$ time\n",
    "    - Overall time complexity is $O(N + K \\log(N))$ \n",
    "        - But imagine if $k$ is sufficiently small such that $k \\le \\frac{N}{\\log(N)}$\n",
    "        - Then the time complexity simply becomes $O(N)$!"
   ]
  },
  {
   "cell_type": "markdown",
   "metadata": {},
   "source": [
    "### d-ary heap"
   ]
  },
  {
   "cell_type": "markdown",
   "metadata": {},
   "source": [
    "- As opposed to a binary heap, with every node has at most 2 children, it is also possible to construct a d-ary heap, where every node has at most $d$ children\n",
    "    - In such a case, the height of the tree is $log_d(n)$ (as opposed to $\\log_2(n)$ in the binary heap case)\n",
    "    - Similarly, running `SiftUp` is now $O(\\log_d(n))$ and `SiftDown` is $O(d \\log_d(n))$"
   ]
  }
 ],
 "metadata": {
  "kernelspec": {
   "display_name": "kaggle",
   "language": "python",
   "name": "python3"
  },
  "language_info": {
   "codemirror_mode": {
    "name": "ipython",
    "version": 3
   },
   "file_extension": ".py",
   "mimetype": "text/x-python",
   "name": "python",
   "nbconvert_exporter": "python",
   "pygments_lexer": "ipython3",
   "version": "3.10.4"
  }
 },
 "nbformat": 4,
 "nbformat_minor": 2
}
