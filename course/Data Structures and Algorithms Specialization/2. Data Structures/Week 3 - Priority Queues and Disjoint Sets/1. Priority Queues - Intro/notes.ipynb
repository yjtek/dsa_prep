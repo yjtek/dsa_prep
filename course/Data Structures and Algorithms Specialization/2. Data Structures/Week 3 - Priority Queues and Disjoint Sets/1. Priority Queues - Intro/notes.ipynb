{
 "cells": [
  {
   "cell_type": "markdown",
   "metadata": {},
   "source": [
    "### Priority Queue"
   ]
  },
  {
   "cell_type": "markdown",
   "metadata": {},
   "source": [
    "- We already covered what a queue is in previous lectures\n",
    "\n",
    "- A priority queue is the same idea as a queue, except there is an additional parameter determining the order of the dequeue operations. Some applications:\n",
    "    - Scheduling jobs: Some jobs are more important than others, so use priority queue to dequeue more impt jobs first\n",
    "\n",
    "- Priority queue API\n",
    "    - **Insert(p):** Insert new element with priority $p$\n",
    "    - **ExtractMax()** Extract element with maximum priority\n",
    "    - **Remove(i)** Remove specific element $i$\n",
    "    - **GetMax()** Return element with max priority without removing it from the priority queue\n",
    "    - **ChangePriority(i, p)** Change priority of element at $i$ to $p$\n",
    "\n",
    "- Naive Implementation of priority queue can be done using a linked list or an array\n",
    "    - **Unsorted array/linked list:** \n",
    "        - **Insert** is O(1), because you are just inserting to the end of the linked list / array \n",
    "        - **ExtractMax** is O(N) because you scan through the whole list/array before you determine max value\n",
    "    - **Sorted array**\n",
    "        - **Insert** is O(N), because you must scan the whole array before you know where the correct insert position is\n",
    "        - **ExtractMax** is O(1), because you just pop from the end \n",
    "\n",
    "    - Clearly, one or the other operation between `Insert` and `ExtractMax` will be O(N)\n",
    "\n",
    "- BUT an ideal implementation using **binary heap** will produce $O(\\log(N))$ for both insert and extract max!"
   ]
  },
  {
   "cell_type": "markdown",
   "metadata": {},
   "source": []
  }
 ],
 "metadata": {
  "language_info": {
   "name": "python"
  }
 },
 "nbformat": 4,
 "nbformat_minor": 2
}
