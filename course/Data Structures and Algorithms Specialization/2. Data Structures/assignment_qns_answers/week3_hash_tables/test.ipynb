{
 "cells": [
  {
   "cell_type": "markdown",
   "metadata": {},
   "source": [
    "### 1. Phone Book"
   ]
  },
  {
   "cell_type": "code",
   "execution_count": 2,
   "metadata": {},
   "outputs": [],
   "source": [
    "class Query:\n",
    "    def __init__(self, query):\n",
    "        self.type = query[0]\n",
    "        self.number = int(query[1])\n",
    "        if self.type == 'add':\n",
    "            self.name = query[2]\n",
    "\n",
    "def read_queries():\n",
    "    n = int(input())\n",
    "    return [Query(input().split()) for i in range(n)]\n",
    "\n",
    "def write_responses(result):\n",
    "    print('\\n'.join(result))\n",
    "\n",
    "def process_queries(queries):\n",
    "    result = []\n",
    "    # Keep list of all existing (i.e. not deleted yet) contacts.\n",
    "    contacts = []\n",
    "    for cur_query in queries:\n",
    "        if cur_query.type == 'add':\n",
    "            # if we already have contact with such number,\n",
    "            # we should rewrite contact's name\n",
    "            for contact in contacts:\n",
    "                if contact.number == cur_query.number:\n",
    "                    contact.name = cur_query.name\n",
    "                    break\n",
    "            else: # otherwise, just add it\n",
    "                contacts.append(cur_query)\n",
    "        elif cur_query.type == 'del':\n",
    "            for j in range(len(contacts)):\n",
    "                if contacts[j].number == cur_query.number:\n",
    "                    contacts.pop(j)\n",
    "                    break\n",
    "        else:\n",
    "            response = 'not found'\n",
    "            for contact in contacts:\n",
    "                if contact.number == cur_query.number:\n",
    "                    response = contact.name\n",
    "                    break\n",
    "            result.append(response)\n",
    "    return result"
   ]
  },
  {
   "cell_type": "code",
   "execution_count": 18,
   "metadata": {},
   "outputs": [
    {
     "data": {
      "text/plain": [
       "['Mom', 'not found', 'police', 'not found', 'Mom', 'daddy']"
      ]
     },
     "execution_count": 18,
     "metadata": {},
     "output_type": "execute_result"
    }
   ],
   "source": [
    "queries = [\n",
    "    'add 911 police',\n",
    "    'add 76213 Mom',\n",
    "    'add 17239 Bob',\n",
    "    'find 76213',\n",
    "    'find 910',\n",
    "    'find 911',\n",
    "    'del 910',\n",
    "    'del 911',\n",
    "    'find 911',\n",
    "    'find 76213',\n",
    "    'add 76213 daddy',\n",
    "    'find 76213',\n",
    "]\n",
    "queries = [Query(query_str.split()) for query_str in queries]\n",
    "\n",
    "def process_queries(queries):\n",
    "    results = []\n",
    "    contacts = {}\n",
    "    for query in queries:\n",
    "        if query.type == 'add':\n",
    "            contacts[query.number] = query.name\n",
    "        elif query.type == 'find':\n",
    "            if query.number in contacts:\n",
    "                results.append(contacts.get(query.number))\n",
    "            else:\n",
    "                results.append('not found')\n",
    "        elif query.type == 'del':\n",
    "            if query.number in contacts:\n",
    "                del contacts[query.number]\n",
    "        else:\n",
    "            raise ValueError('Operation must be `add`, `find`, or `del`')\n",
    "\n",
    "    return results\n",
    "\n",
    "process_queries(queries)"
   ]
  },
  {
   "cell_type": "markdown",
   "metadata": {},
   "source": [
    "### 2. Hashing with chains"
   ]
  },
  {
   "cell_type": "code",
   "execution_count": null,
   "metadata": {},
   "outputs": [],
   "source": [
    "class Query:\n",
    "\n",
    "    def __init__(self, query):\n",
    "        self.type = query[0]\n",
    "        if self.type == 'check':\n",
    "            self.ind = int(query[1])\n",
    "        else:\n",
    "            self.s = query[1]\n",
    "\n",
    "class QueryProcessor:\n",
    "    _multiplier = 263\n",
    "    _prime = 1000000007\n",
    "\n",
    "    def __init__(self, bucket_count):\n",
    "        self.bucket_count = bucket_count\n",
    "        # store all strings in one list\n",
    "        self.elems = []\n",
    "\n",
    "    def _hash_func(self, s):\n",
    "        ans = 0\n",
    "        for c in reversed(s):\n",
    "            ans = (ans * self._multiplier + ord(c)) % self._prime\n",
    "        return ans % self.bucket_count\n",
    "\n",
    "    def write_search_result(self, was_found):\n",
    "        print('yes' if was_found else 'no')\n",
    "\n",
    "    def write_chain(self, chain):\n",
    "        print(' '.join(chain))\n",
    "\n",
    "    def read_query(self):\n",
    "        return Query(input().split())\n",
    "\n",
    "    def process_query(self, query):\n",
    "        if query.type == \"check\":\n",
    "            # use reverse order, because we append strings to the end\n",
    "            self.write_chain(cur for cur in reversed(self.elems) if self._hash_func(cur) == query.ind)\n",
    "        else:\n",
    "            try:\n",
    "                ind = self.elems.index(query.s)\n",
    "            except ValueError:\n",
    "                ind = -1\n",
    "            if query.type == 'find':\n",
    "                self.write_search_result(ind != -1)\n",
    "            elif query.type == 'add':\n",
    "                if ind == -1:\n",
    "                    self.elems.append(query.s)\n",
    "            else:\n",
    "                if ind != -1:\n",
    "                    self.elems.pop(ind)\n",
    "\n",
    "    def process_queries(self):\n",
    "        n = int(input())\n",
    "        for i in range(n):\n",
    "            self.process_query(self.read_query())"
   ]
  },
  {
   "cell_type": "code",
   "execution_count": null,
   "metadata": {},
   "outputs": [],
   "source": [
    "class QueryProcessor:\n",
    "    _multiplier = 263\n",
    "    _prime = 1000000007\n",
    "\n",
    "    def __init__(self, bucket_count):\n",
    "        self.bucket_count = bucket_count\n",
    "        # store all strings in one list\n",
    "        self.chains = {chain_index: deque() for chain_index in range(bucket_count)}\n",
    "        self.results = []\n",
    "\n",
    "    def _hash_func(self, s):\n",
    "        ans = 0\n",
    "        for c in reversed(s):\n",
    "            ans = (ans * self._multiplier + ord(c)) % self._prime\n",
    "        return ans % self.bucket_count\n",
    "\n",
    "    def write_search_result(self, was_found):\n",
    "        print('yes' if was_found else 'no')\n",
    "\n",
    "    def write_chain(self, chain):\n",
    "        self.results.append(' '.join(chain))\n",
    "\n",
    "    def read_query(self):\n",
    "        return Query(input().split())\n",
    "\n",
    "    def process_query(self, query):\n",
    "        if query.type == \"check\":\n",
    "            self.write_chain(self.chains[query.ind])\n",
    "\n",
    "        elif query.type == 'add':\n",
    "            chain_index = self._hash_func(query.s)\n",
    "            if query.s not in self.chains[chain_index]:\n",
    "                self.chains[chain_index].appendleft(query.s)\n",
    "\n",
    "        elif query.type == 'find':\n",
    "            chain_index = self._hash_func(query.s)\n",
    "            if query.s not in self.chains[chain_index]:\n",
    "                self.results.append('no')\n",
    "            else:\n",
    "                self.results.append('yes')\n",
    "\n",
    "        elif query.type == 'del':\n",
    "            chain_index = self._hash_func(query.s)\n",
    "            if query.s in self.chains[chain_index]:\n",
    "                self.chains[chain_index].remove(query.s)\n",
    "        \n",
    "        else:\n",
    "            raise ValueError('Operation must be one of `add`, `check`, `find`, `del`')\n",
    "            \n",
    "    def process_queries(self):\n",
    "        n = int(input())\n",
    "        for i in range(n):\n",
    "            self.process_query(self.read_query())\n",
    "        self.write_responses()\n",
    "    \n",
    "    def write_responses(self):\n",
    "        print('\\n'.join(self.results))\n",
    "\n",
    "\n",
    "queries = [\n",
    "    'add world',\n",
    "    'add HellO',\n",
    "    'check 4',\n",
    "    'find World',\n",
    "    'find world',\n",
    "    'del world',\n",
    "    'check 4',\n",
    "    'del HellO',\n",
    "    'add luck',\n",
    "    'add GooD',\n",
    "    'check 2',\n",
    "    'del good',\n",
    "]\n",
    "\n",
    "bucket_count = 5\n",
    "proc = QueryProcessor(bucket_count)\n",
    "proc.process_queries()"
   ]
  },
  {
   "cell_type": "markdown",
   "metadata": {},
   "source": [
    "### 3. Find pattern in text"
   ]
  },
  {
   "cell_type": "code",
   "execution_count": 10,
   "metadata": {},
   "outputs": [
    {
     "name": "stdout",
     "output_type": "stream",
     "text": [
      "0\n"
     ]
    }
   ],
   "source": [
    "# python3\n",
    "\n",
    "def read_input():\n",
    "    return (input().rstrip(), input().rstrip())\n",
    "\n",
    "def print_occurrences(output):\n",
    "    print(' '.join(map(str, output)))\n",
    "\n",
    "def get_occurrences(pattern, text):\n",
    "    return [\n",
    "        i \n",
    "        for i in range(len(text) - len(pattern) + 1) \n",
    "        if text[i:i + len(pattern)] == pattern\n",
    "    ]\n",
    "\n",
    "if __name__ == '__main__':\n",
    "    print_occurrences(get_occurrences(*read_input()))"
   ]
  },
  {
   "cell_type": "code",
   "execution_count": 57,
   "metadata": {},
   "outputs": [],
   "source": [
    "def PolyHash(text, polynomial=10, prime=1000000007):\n",
    "    text_list = list(text)[::-1]\n",
    "    hash_val = 0\n",
    "    for char in text_list:\n",
    "        hash_val = ((hash_val * polynomial) + ord(char)) % prime\n",
    "    return hash_val\n",
    "\n",
    "def PrecomputeHash(text, pattern, polynomial=10, prime=1000000007):\n",
    "    pattern_len = len(pattern)\n",
    "    text_len = len(text)\n",
    "\n",
    "    last_substring = text[(text_len-pattern_len):text_len]\n",
    "    last_substring_hash = PolyHash(last_substring, polynomial, prime)\n",
    "    \n",
    "    hash_values = [None] * (text_len-pattern_len+1)\n",
    "    hash_values[-1] = last_substring_hash\n",
    "    \n",
    "    x_power_patternlen = 1\n",
    "    for i in range(pattern_len):\n",
    "        x_power_patternlen = (x_power_patternlen * polynomial) % prime \n",
    "\n",
    "    for i in range(text_len-pattern_len-1, -1, -1):\n",
    "        hash_values[i] = (polynomial*hash_values[i+1] + ord(text[i]) - (ord(text[i + pattern_len]) *  x_power_patternlen)) % prime\n",
    "    \n",
    "    return hash_values\n",
    "\n",
    "def RabinKarp(pattern, text, polynomial=123, prime=1000000007):\n",
    "    hash_values = PrecomputeHash(text, pattern, polynomial=polynomial, prime=prime)\n",
    "    pattern_hash = PolyHash(pattern, polynomial)\n",
    "    positions = []\n",
    "\n",
    "    for i in range(len(text) - len(pattern) + 1):\n",
    "        # print(f\"{i=}, {hash_values[i]=}\")\n",
    "        if hash_values[i] == pattern_hash:\n",
    "            # print('here')\n",
    "            if text[i:(i+len(pattern))] == pattern:\n",
    "                positions.append(i)\n",
    "    return positions"
   ]
  },
  {
   "cell_type": "code",
   "execution_count": 56,
   "metadata": {},
   "outputs": [
    {
     "name": "stdout",
     "output_type": "stream",
     "text": [
      "[10777, 10968, 10787, 10869, 10777]\n",
      "i=0, hash_values[i]=1479664\n",
      "here\n",
      "i=1, hash_values[i]=1509800\n",
      "i=2, hash_values[i]=1479787\n",
      "i=3, hash_values[i]=1494672\n",
      "i=4, hash_values[i]=1479664\n",
      "here\n"
     ]
    },
    {
     "data": {
      "text/plain": [
       "[0, 4]"
      ]
     },
     "execution_count": 56,
     "metadata": {},
     "output_type": "execute_result"
    }
   ],
   "source": [
    "pattern = 'aba'\n",
    "text = 'abacaba'\n",
    "\n",
    "# PolyHash(pattern)\n",
    "print(PrecomputeHash(pattern=pattern, text=text))\n",
    "RabinKarp(pattern, text)"
   ]
  },
  {
   "cell_type": "markdown",
   "metadata": {},
   "source": [
    "### 4. Substring equality"
   ]
  },
  {
   "cell_type": "markdown",
   "metadata": {},
   "source": []
  }
 ],
 "metadata": {
  "kernelspec": {
   "display_name": "kaggle",
   "language": "python",
   "name": "python3"
  },
  "language_info": {
   "codemirror_mode": {
    "name": "ipython",
    "version": 3
   },
   "file_extension": ".py",
   "mimetype": "text/x-python",
   "name": "python",
   "nbconvert_exporter": "python",
   "pygments_lexer": "ipython3",
   "version": "3.10.4"
  }
 },
 "nbformat": 4,
 "nbformat_minor": 2
}
