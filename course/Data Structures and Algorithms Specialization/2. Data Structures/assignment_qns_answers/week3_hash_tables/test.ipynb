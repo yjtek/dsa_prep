{
 "cells": [
  {
   "cell_type": "markdown",
   "metadata": {},
   "source": [
    "### 1. Phone Book"
   ]
  },
  {
   "cell_type": "code",
   "execution_count": null,
   "metadata": {},
   "outputs": [],
   "source": [
    "class Query:\n",
    "    def __init__(self, query):\n",
    "        self.type = query[0]\n",
    "        self.number = int(query[1])\n",
    "        if self.type == 'add':\n",
    "            self.name = query[2]\n",
    "\n",
    "def read_queries():\n",
    "    n = int(input())\n",
    "    return [Query(input().split()) for i in range(n)]\n",
    "\n",
    "def write_responses(result):\n",
    "    print('\\n'.join(result))\n",
    "\n",
    "def process_queries(queries):\n",
    "    result = []\n",
    "    # Keep list of all existing (i.e. not deleted yet) contacts.\n",
    "    contacts = []\n",
    "    for cur_query in queries:\n",
    "        if cur_query.type == 'add':\n",
    "            # if we already have contact with such number,\n",
    "            # we should rewrite contact's name\n",
    "            for contact in contacts:\n",
    "                if contact.number == cur_query.number:\n",
    "                    contact.name = cur_query.name\n",
    "                    break\n",
    "            else: # otherwise, just add it\n",
    "                contacts.append(cur_query)\n",
    "        elif cur_query.type == 'del':\n",
    "            for j in range(len(contacts)):\n",
    "                if contacts[j].number == cur_query.number:\n",
    "                    contacts.pop(j)\n",
    "                    break\n",
    "        else:\n",
    "            response = 'not found'\n",
    "            for contact in contacts:\n",
    "                if contact.number == cur_query.number:\n",
    "                    response = contact.name\n",
    "                    break\n",
    "            result.append(response)\n",
    "    return result\n",
    "\n"
   ]
  }
 ],
 "metadata": {
  "kernelspec": {
   "display_name": "kaggle",
   "language": "python",
   "name": "python3"
  },
  "language_info": {
   "name": "python",
   "version": "3.10.4"
  }
 },
 "nbformat": 4,
 "nbformat_minor": 2
}
