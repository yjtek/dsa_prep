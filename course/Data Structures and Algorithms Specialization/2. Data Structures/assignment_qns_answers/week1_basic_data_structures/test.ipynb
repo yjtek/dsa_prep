{
 "cells": [
  {
   "cell_type": "markdown",
   "metadata": {},
   "source": [
    "### 1. Check brackets"
   ]
  },
  {
   "cell_type": "code",
   "execution_count": 179,
   "metadata": {},
   "outputs": [
    {
     "data": {
      "text/plain": [
       "3"
      ]
     },
     "execution_count": 179,
     "metadata": {},
     "output_type": "execute_result"
    }
   ],
   "source": [
    "from collections import namedtuple\n",
    "import re \n",
    "Bracket = namedtuple(\"Bracket\", [\"char\", \"position\"])\n",
    "\n",
    "input_str = '[](()'\n",
    "def find_mismatch(input_str: str) -> None | int:\n",
    "    stack = []\n",
    "    for index, char in enumerate(input_str):\n",
    "        if char in ['{', '[', '(']:\n",
    "            stack.append((index,char))\n",
    "        elif char in ['}', ']', ')']:\n",
    "            if len(stack) == 0:\n",
    "                return index+1\n",
    "            latest_open_bracket_index, latest_open_bracket = stack.pop()\n",
    "            if latest_open_bracket == '{':\n",
    "                if char != '}':\n",
    "                    return index+1\n",
    "            elif latest_open_bracket == '[':\n",
    "                if char != ']':\n",
    "                    return index+1\n",
    "            elif latest_open_bracket == '(':\n",
    "                if char != ')':\n",
    "                    return index+1\n",
    "        else:\n",
    "            continue\n",
    "    \n",
    "    if len(stack) == 0:\n",
    "        return \"Success\"\n",
    "    return stack[-1][0]+1\n",
    "                \n",
    "find_mismatch(input_str)"
   ]
  },
  {
   "cell_type": "markdown",
   "metadata": {},
   "source": [
    "### 2. Compute tree height"
   ]
  },
  {
   "cell_type": "code",
   "execution_count": 84,
   "metadata": {},
   "outputs": [],
   "source": [
    "# def compute_height(n, parents):\n",
    "#     ...\n",
    "\n",
    "from dataclasses import dataclass, field\n",
    "from typing import Type\n",
    "\n",
    "@dataclass\n",
    "class Node:\n",
    "    index: int\n",
    "    parent: list[Type['Node']] = field(default_factory=list)\n",
    "    child: list[Type['Node']] = field(default_factory=list)\n",
    "\n",
    "input = [-1, 0, 4, 0, 3]\n",
    "\n",
    "## build tree: O(N)\n",
    "def build_tree(input):\n",
    "    all_nodes = [Node(index=index) for index in range(len(input))]\n",
    "    for index, node in enumerate(all_nodes):\n",
    "        if input[index] == -1:\n",
    "            root = node\n",
    "            node.parent = None\n",
    "        else:\n",
    "            node.parent = all_nodes[input[index]]\n",
    "            node.parent.child.append(all_nodes[index])\n",
    "    \n",
    "    return root\n",
    "    \n",
    "root = build_tree(input)\n",
    "\n",
    "## Find height: O(N)\n",
    "def find_height(root):\n",
    "    if root.child == []:\n",
    "        return 1\n",
    "    max_height = 0\n",
    "    for child in root.child:\n",
    "        subtree_root = child\n",
    "        subtree_height = find_height(subtree_root)\n",
    "        max_height = max(\n",
    "            max_height, \n",
    "            subtree_height+1\n",
    "        )\n",
    "    return max_height\n",
    "\n",
    "# find_height(root)"
   ]
  },
  {
   "cell_type": "code",
   "execution_count": 158,
   "metadata": {},
   "outputs": [],
   "source": [
    "class Node:\n",
    "    def __init__(self, index, parent=[], child=[]):\n",
    "        self.index = index\n",
    "        self.parent = parent\n",
    "        self.child = child\n",
    "    \n",
    "    def __repr__(self):\n",
    "        return f\"Node({self.index=}, {self.parent=}, {self.child=})\"\n",
    "\n",
    "def build_tree(parents):\n",
    "    all_nodes = [Node(index=index, parent=[], child=[]) for index in range(len(parents))]\n",
    "\n",
    "    for index in range(len(all_nodes)):        \n",
    "        if parents[index] == -1:\n",
    "            root = all_nodes[index]\n",
    "            all_nodes[index].parent = None\n",
    "        else:\n",
    "            all_nodes[index].parent = all_nodes[parents[index]]\n",
    "            all_nodes[index].parent.child.append(all_nodes[index])\n",
    "                \n",
    "    return root, all_nodes\n",
    "\n",
    "def compute_height(root):    \n",
    "    if root.child == []:\n",
    "        return 1\n",
    "    max_height = 0\n",
    "    for child in root.child:\n",
    "        subtree_root = child\n",
    "        subtree_height = compute_height(subtree_root)\n",
    "        max_height = max(\n",
    "            max_height, \n",
    "            subtree_height+1\n",
    "        )\n",
    "    return max_height\n",
    "\n",
    "# parents = [-1,0,4,0,3]\n",
    "# # root, all_nodes = build_tree(parents)\n",
    "# root, all_nodes = build_tree(parents)\n",
    "# print(compute_height(root))"
   ]
  },
  {
   "cell_type": "code",
   "execution_count": 164,
   "metadata": {},
   "outputs": [
    {
     "data": {
      "text/plain": [
       "array([43284, 51708,  6420, 67470, 29720])"
      ]
     },
     "execution_count": 164,
     "metadata": {},
     "output_type": "execute_result"
    }
   ],
   "source": [
    "parents=np.random.randint(0,n_nodes-1,n_nodes)\n",
    "parents[:5]"
   ]
  },
  {
   "cell_type": "code",
   "execution_count": 172,
   "metadata": {},
   "outputs": [
    {
     "name": "stdout",
     "output_type": "stream",
     "text": [
      "169214\n"
     ]
    },
    {
     "data": {
      "text/plain": [
       "array([    -1,  14303, 160376, 109098,  40235])"
      ]
     },
     "metadata": {},
     "output_type": "display_data"
    },
    {
     "name": "stdout",
     "output_type": "stream",
     "text": [
      "1\n"
     ]
    }
   ],
   "source": [
    "import numpy as np\n",
    "n_nodes=np.random.randint(1,1e6,1)[0]\n",
    "parents=np.random.randint(0,n_nodes-1,n_nodes)\n",
    "parents[0] = -1\n",
    "print(n_nodes)\n",
    "display(parents[:5])\n",
    "\n",
    "root, all_nodes = build_tree(parents)\n",
    "print(compute_height(root))"
   ]
  },
  {
   "cell_type": "markdown",
   "metadata": {},
   "source": [
    "| | with open lineage | without open lineage |\n",
    "| - | - | - |\n",
    "| log level debug | succeed | succeed |\n",
    "| log level warn | fail | ? |"
   ]
  },
  {
   "cell_type": "markdown",
   "metadata": {},
   "source": [
    "### 3. Network packet processing simulation"
   ]
  },
  {
   "cell_type": "code",
   "execution_count": 86,
   "metadata": {},
   "outputs": [],
   "source": [
    "from collections import namedtuple\n",
    "\n",
    "Request = namedtuple(\"Request\", [\"arrived_at\", \"time_to_process\"])\n",
    "Response = namedtuple(\"Response\", [\"was_dropped\", \"started_at\"])"
   ]
  },
  {
   "cell_type": "code",
   "execution_count": 149,
   "metadata": {},
   "outputs": [
    {
     "name": "stdout",
     "output_type": "stream",
     "text": [
      "deque([])\n",
      "deque([2])\n",
      "deque([2, 6])\n",
      "0\n",
      "2\n",
      "6\n"
     ]
    }
   ],
   "source": [
    "from collections import deque\n",
    "buffer_size = 2\n",
    "all_requests = [(0,2),(1,4),(5,3)] #None #[(0,0)]\n",
    "n_requests = len(all_requests)\n",
    "\n",
    "class Buffer:\n",
    "    def __init__(self, size):\n",
    "        self.size = size\n",
    "        self.finish_time = deque()\n",
    "\n",
    "    def _process(self, request):\n",
    "        curr_request_start_time, curr_request_processing_time = request\n",
    "        curr_request_end_time = curr_request_start_time+curr_request_processing_time\n",
    "\n",
    "        ## if nothing in queue...\n",
    "        if not self.finish_time:\n",
    "            ## add the end of the processing time to finish time\n",
    "            self.finish_time.append(curr_request_end_time)\n",
    "            return Response(False, curr_request_start_time)\n",
    "            \n",
    "        ## else if something in queue...\n",
    "        else:\n",
    "            ## if the new item starts after the previous item ends\n",
    "            if curr_request_start_time >= self.finish_time[-1]:\n",
    "                \n",
    "                ## Reset deque\n",
    "                self.finish_time = deque()\n",
    "                self.finish_time.append(curr_request_end_time)\n",
    "                return Response(False, curr_request_start_time)\n",
    "\n",
    "            ## if new item starts before previous item ends\n",
    "            else:\n",
    "                \n",
    "                ## Check start time of new item against the earliest finish time of previous items. If it does not exceed, it means the earliest item is still processing when this item arrives. Else, it means the earliest is already completed, so pop from the queue\n",
    "                while curr_request_start_time >= self.finish_time[0]:\n",
    "                    self.finish_time.popleft()\n",
    "\n",
    "                # if the queue is full, the item is dropped\n",
    "                if len(self.finish_time) >= self.size:\n",
    "                    return Response(True, -1)\n",
    "                \n",
    "                # otherwise, the item is added to the queue, and the time of processing is delayed by the end time of the last processing end time in the queue\n",
    "                else:\n",
    "                    last_processing_end_time = self.finish_time[-1]\n",
    "                    self.finish_time.append(\n",
    "                        last_processing_end_time + curr_request_processing_time\n",
    "                    )\n",
    "                    return Response(False, last_processing_end_time)\n",
    "        \n",
    "    def process_requests(self, requests):\n",
    "        responses = []\n",
    "        for request in requests:\n",
    "            # print(self.finish_time)\n",
    "            response = self._process(request)\n",
    "            responses.append(response)\n",
    "        return responses\n",
    "\n",
    "requests = []\n",
    "for i in range(n_requests):    \n",
    "    arrived_at, time_to_process = all_requests[i]\n",
    "    requests.append(Request(arrived_at, time_to_process))\n",
    "\n",
    "buffer = Buffer(buffer_size)\n",
    "responses = buffer.process_requests(requests)\n",
    "\n",
    "for response in responses:\n",
    "    print(response.started_at if not response.was_dropped else -1)"
   ]
  },
  {
   "cell_type": "markdown",
   "metadata": {},
   "source": [
    "### 4. Extending stack interface"
   ]
  },
  {
   "cell_type": "code",
   "execution_count": 88,
   "metadata": {},
   "outputs": [
    {
     "name": "stdout",
     "output_type": "stream",
     "text": [
      "9\n",
      "9\n",
      "9\n",
      "9\n",
      "9\n",
      "3\n",
      "2\n",
      "None\n"
     ]
    }
   ],
   "source": [
    "class StackWithMax():\n",
    "    '''\n",
    "    To get a max value in O(1) time, we need to keep a record of the maximum value. There are 2 ways to do this\n",
    "        - We can do this in O(N) space, by maintaining another stack with max values. With every pop or push operation, we recompute what the maximum value is up to that index, and whenever we are asked, simply read the last index in the max stack\n",
    "    '''\n",
    "    def __init__(self):\n",
    "        self.__stack = []\n",
    "        self.__maxstack = []\n",
    "\n",
    "    def Push(self, a):\n",
    "        self.__stack.append(a)\n",
    "        \n",
    "        if self.__maxstack == []:\n",
    "            self.__maxstack.append(a)\n",
    "        else:\n",
    "            if self.__maxstack[-1] >= a:\n",
    "                self.__maxstack.append(self.__maxstack[-1])\n",
    "            else:\n",
    "                self.__maxstack.append(a)\n",
    "\n",
    "    def Pop(self):\n",
    "        if len(self.__stack):\n",
    "            stackval = self.__stack.pop()\n",
    "            self.__maxstack.pop()\n",
    "            return stackval\n",
    "        else:\n",
    "            return None\n",
    "\n",
    "\n",
    "    def Max(self):\n",
    "        if len(self.__stack):\n",
    "            return self.__maxstack[-1]\n",
    "        return None\n",
    "        \n",
    "stack = StackWithMax()\n",
    "\n",
    "num_queries = 10\n",
    "queries = [\n",
    "    'push 2', \n",
    "    'push 3',\n",
    "    'push 9',\n",
    "    'push 7',\n",
    "    'push 2',\n",
    "    'max',\n",
    "    'max',\n",
    "    'max',\n",
    "    'pop',\n",
    "    'max',\n",
    "    'pop',\n",
    "    'max',\n",
    "    'pop',\n",
    "    'max',\n",
    "    'pop',\n",
    "    'max',\n",
    "    'pop',\n",
    "    'max',\n",
    "]\n",
    "\n",
    "for i in range(len(queries)):\n",
    "    query = queries[i].split()\n",
    "\n",
    "    if query[0] == \"push\":\n",
    "        stack.Push(int(query[1]))\n",
    "    elif query[0] == \"pop\":\n",
    "        stack.Pop()\n",
    "    elif query[0] == \"max\":\n",
    "        print(stack.Max())\n",
    "    else:\n",
    "        assert(0)\n"
   ]
  },
  {
   "cell_type": "markdown",
   "metadata": {},
   "source": [
    "### 5. Maximum in Sliding Window"
   ]
  },
  {
   "cell_type": "markdown",
   "metadata": {},
   "source": [
    "- There are 3 ways to implement this. We'll implement all 3 and discuss their pros and cons"
   ]
  },
  {
   "cell_type": "code",
   "execution_count": 89,
   "metadata": {},
   "outputs": [
    {
     "name": "stdout",
     "output_type": "stream",
     "text": [
      "7 7 5 6 6\n"
     ]
    }
   ],
   "source": [
    "def max_sliding_window_naive(sequence, m):\n",
    "    maximums = []\n",
    "    for i in range(len(sequence) - m + 1):\n",
    "        maximums.append(max(sequence[i:i + m]))\n",
    "\n",
    "    return maximums\n",
    "\n",
    "n = 8\n",
    "input_sequence=[2,7,3,1,5,2,6,2]\n",
    "assert len(input_sequence) == n\n",
    "window_size = 4\n",
    "\n",
    "print(*max_sliding_window_naive(input_sequence, window_size))"
   ]
  },
  {
   "cell_type": "markdown",
   "metadata": {},
   "source": [
    "#### 1. Implement a queue using two stacks"
   ]
  },
  {
   "cell_type": "markdown",
   "metadata": {},
   "source": [
    "- The idea here is that we implement the $m$ size window as a queue with 2 stacks, where the stacks keep track of the max value (as per Q4)\n",
    "    - One stack holds the $m$ window elements in the order of the actual input \n",
    "    - One stack holds the $m$ window elements in reverse order\n",
    "- With every shift, we enqueue a new value on the right, and dequeue the leftmost value. How?\n",
    "    - Pop all values from stack A (in order) onto stack B (reverse order)\n",
    "    - Pop the latest value of stack B\n",
    "    - Pop values of stack B to stack A\n",
    "    - Push latest value onto stack A\n",
    "- At each point, we simply use `max` operation from StackWithMax to find the max value in the window, which is O(1) as we established in Q4\n",
    "- Overall, sliding the window across the entire array takes O(N), so the overall operation is O(N) time complexity, with an additional O(N) space needed to store max values\n",
    "    - The dequeue operation is actually O(N), but is considered amortized constant time O(1). Why?\n",
    "    - Because the actual copying from stack A to stack B only has to happen once. Once stack B is complete, you no longer need to copy it the next time you want to pop something, until stack B is fully empty\n",
    "    - Hence, for each element, you are pushed once onto stack A, popped once from stack A, and pushed once onto stack B\n",
    "    - Then you are popped for stack B\n",
    "    - So each element's `dequeue` operation is really only **amortized** O(1)! That is, O(1) most of the time, except the times when it is O(N)"
   ]
  },
  {
   "cell_type": "code",
   "execution_count": 34,
   "metadata": {},
   "outputs": [
    {
     "data": {
      "text/plain": [
       "[7, 7, 5, 6, 6]"
      ]
     },
     "execution_count": 34,
     "metadata": {},
     "output_type": "execute_result"
    }
   ],
   "source": [
    "import math\n",
    "\n",
    "input_list = [2,7,3,1,5,2,6,2]\n",
    "window_size = 4\n",
    "\n",
    "class StackWithMax:\n",
    "    def __init__(self, input_list):\n",
    "        self.maxval = []\n",
    "        self.stackval = input_list\n",
    "    \n",
    "    def push(self, val):\n",
    "        if self.maxval == []:\n",
    "            self.maxval.append(val)\n",
    "        else:\n",
    "            if self.maxval[-1] >= val:\n",
    "                self.maxval.append(self.maxval[-1])\n",
    "            else:\n",
    "                self.maxval.append(val)\n",
    "        \n",
    "        self.stackval.append(val)\n",
    "\n",
    "    def pop(self):\n",
    "        if self.maxval != []:\n",
    "            self.maxval.pop()\n",
    "        \n",
    "        if self.stackval != []:\n",
    "            return self.stackval.pop()\n",
    "        else:\n",
    "            return None\n",
    "\n",
    "    def max(self):\n",
    "        if self.maxval != []:\n",
    "            return self.maxval[-1]\n",
    "        return -math.inf\n",
    "\n",
    "    def is_empty(self):\n",
    "        return len(self.stackval) == 0\n",
    "\n",
    "# def window_max(input_list, window_size, verbose=False):\n",
    "stack = StackWithMax([])\n",
    "rev_stack = StackWithMax([])\n",
    "output_max = []\n",
    "for index in range(len(input_list)):\n",
    "\n",
    "    ## If we're in the portion of the array with no legit window, just push to stack\n",
    "    if index < window_size-1:\n",
    "        stack.push(input_list[index])\n",
    "    \n",
    "    ## Otherwise, if we're in the portion of the array with proper window...\n",
    "    else:\n",
    "        ## If there is nothing in the reverse stack\n",
    "        if rev_stack.is_empty():\n",
    "            # pop all values in the stack and place on reverse array\n",
    "            while not stack.is_empty():\n",
    "                rev_stack.push(stack.pop())\n",
    "\n",
    "        ## If there is something in the reverse stack, pop it. This represents removing the value that drops of the sliding window\n",
    "        else:\n",
    "            rev_stack.pop()\n",
    "            \n",
    "        ## Then push incoming value onto stack\n",
    "        stack.push(input_list[index])\n",
    "\n",
    "        ## The maximum value is max of stack and rev stack\n",
    "        output_max.append(max(stack.max(), rev_stack.max()))\n",
    "        # print(stack.maxval)\n",
    "        # print(stack.max())\n",
    "        # print(rev_stack.max())\n",
    "\n",
    "output_max"
   ]
  },
  {
   "cell_type": "markdown",
   "metadata": {},
   "source": [
    "#### 2. Preprocess block suffixes and prefixes"
   ]
  },
  {
   "cell_type": "markdown",
   "metadata": {},
   "source": [
    "- The idea here is quite brilliant. We'll illustrate with an example:\n",
    "    - Suppose $\\text{input} = [1,2,3,4,5,1,2,3,4,5,1,2,3,4,5]$, and $\\text{window size} = 4$\n",
    "    - We partition the array into windows of 4, which can be denoted as $$ [1,2,3,4] \\quad [5,1,2,3] \\quad [4,5,1,2] \\quad [3,4,5] $$\n",
    "    - For every window, we will compute the prefix and suffix max \n",
    "        - The suffix max array in position $i$ is simply the maximum value of the array of the suffix starting from and including $i$ to the end of the array\n",
    "        - The prefix max array in position $i$ is simply the maximum value of the array of the prefix starting from index 0 and ending at and including $i$ \n",
    "        $$\\begin{aligned} \n",
    "            [1,2,3,4] &\\rightarrow \\quad \\text{Suffix Max: } [4,4,4,4] &\\quad \\text{Prefix Max: } [1,2,3,4] \\\\\n",
    "            [5,1,2,3] &\\rightarrow \\quad \\text{Suffix Max: } [5,3,3,3] &\\quad \\text{Prefix Max: } [5,5,5,5] \\\\\n",
    "            [4,5,1,2] &\\rightarrow \\quad \\text{Suffix Max: } [5,5,2,2] &\\quad \\text{Prefix Max: } [4,5,5,5] \\\\\n",
    "            [3,4,5] &\\rightarrow \\quad \\text{Suffix Max: } [5,5,5] &\\quad \\text{Prefix Max: } [3,4,5]\n",
    "            \\end{aligned} $$\n",
    "        - How long does this computation take?\n",
    "            - For a given window size $k$, there must be $\\frac{n}{k}$ arrays\n",
    "            - For each array, to compute prefix/suffix max, either (i) there is 1 value in the prefix/suffix, and that is the max value, or (ii) we compare the new value with the prevailing max value. This gives us $k$ comparisons per window\n",
    "            - As such, the creation of this suffix/prefix preprocessing takes $O(\\frac{nk}{k}) = O(n)$ time!\n",
    "    - Let's suppose we take a random window of size 4. Either (i) this window coincides with one of our partitions above, or (ii) it comprises the suffix of one block + the prefix of the next\n",
    "        - But given a starting position $i$, we know quite which block is needed!\n",
    "            - If the starting position $i$ coincides with one of the precomputed blocks, the window max is simply the suffix max\n",
    "            - If it does not, then the window max is simply the maximum of the suffix max of that block from $i$, and the prefix max in the next block from $i+k!$\n",
    "\n",
    "        - From our example, let's suppose we want the max in [2,3,4,5] i.e. $$[1,2,3,4,5,1] \\quad \\| 2,3,4,5 \\| \\quad [1,2,3,4,5]$$   \n",
    "            - That is, we want the window starting at position $i = 6$\n",
    "            - We know that $\\text{suffix sum}_6 = 3$ \n",
    "            - We know that $\\text{prefix sum}_{6+4-1=9} = 5$ \n",
    "            - So taking $\\max(3,5) = 5$\n",
    "            - The maximum value is 5\n",
    "\n",
    "        - The final $\\max$ computation is $O(1)$, because we are just comparing 2 values!\n",
    "\n",
    "    - Taken together, the algorithm takes $O(\\frac{nk}{k}) + O(1) = O(n)$    "
   ]
  },
  {
   "cell_type": "code",
   "execution_count": 11,
   "metadata": {},
   "outputs": [
    {
     "data": {
      "text/plain": [
       "[7, 7, 5, 6, 6]"
      ]
     },
     "execution_count": 11,
     "metadata": {},
     "output_type": "execute_result"
    }
   ],
   "source": [
    "input_list = [2,7,3,1,5,2,6,2]\n",
    "window_size = 4\n",
    "\n",
    "def window_max(input_list, window_size, verbose=False):\n",
    "\n",
    "\n",
    "    n_partitions = (len(input_list) // window_size) + 1 \n",
    "    suffix_max = [] \n",
    "    prefix_max = []\n",
    "\n",
    "    ## O(N) to build prefix and suffix max \n",
    "    ## There are n/k partitions...\n",
    "    for index in range(n_partitions):\n",
    "        subarray = input_list[(index*window_size):((index+1)*window_size)]\n",
    "        \n",
    "        # ...and each partition runs k iterations of the inner loop\n",
    "        for i in range(len(subarray)):\n",
    "            suffix_max.append(max(subarray[i:]))\n",
    "            prefix_max.append(max(subarray[:i+1]))\n",
    "\n",
    "    # display(suffix_max)\n",
    "    # display(prefix_max)\n",
    "    \n",
    "    window_max_list = []\n",
    "    \n",
    "    ## O(N) to loop across all possible windows\n",
    "    for window_end in range(window_size-1, len(input_list)):\n",
    "        window_start = window_end - window_size + 1\n",
    "        window_max_list.append(max(suffix_max[window_start], prefix_max[window_end]))\n",
    "    return window_max_list\n",
    "        \n",
    "window_max(input_list, window_size)"
   ]
  },
  {
   "cell_type": "markdown",
   "metadata": {},
   "source": [
    "#### 3. Store relevant items in a deque"
   ]
  },
  {
   "cell_type": "markdown",
   "metadata": {},
   "source": [
    "- The idea here is, again, to do some amortized O(N) approach\n",
    "    - Suppose $\\text{input} = [2,7,3,1,5,2,6,2]$, and $\\text{window size} = 4$\n",
    "    - We introduce a deque to hold the **index** of our candidate max values. Moving from left to right...\n",
    "        1. We check that the incoming value at index $i$ is larger than the value at the leftmost index in the deque. If it is, pop the leftmost index of the deque until this is no longer true \n",
    "            - Why do we pop the values that are smaller?\n",
    "                - The new index in question will always be larger than the existing indices, because we are moving from left to right in the sliding window\n",
    "                - Since we are moving from left to right, we know that the incoming value will be a component of more windows that the current deque values (i.e. the values in the deque will drop out sooner, because they entered sooner) \n",
    "                - We know that values on the deque left (tail) are not larger than the current maximum in the deque\n",
    "                - If they are also not larger than the incoming value, then there is no circumstance that they will be the max value in any window! \n",
    "            - Why do we pop from the left?\n",
    "                - Because we want to remove all values that are smaller than the incoming, and to do this, we must go from small to large values\n",
    "        2. Next, check that the rightmost value of the deque is still within the current sliding window. If it is not, pop until the remaining values are in the window\n",
    "            - Why do we pop values from the right now?\n",
    "                - Because we only ever append values on the left, and the sliding window goes from left to right\n",
    "                - So it stands to reason that the rightmost value must also be the the leftmost index in the deque, and it must also be true that, going from right to left, the index values increase\n",
    "    - After we pass the 2 checks above, the following must be true;\n",
    "        - If the incoming value is larger than all the existing values, then the deque will be empty from step 1\n",
    "        - All remaining items in the deque must within the window, from step 2\n",
    "        - So we do an appendleft for the incoming index. \n",
    "            - If it is larger than all values in existing deque, it will be the only value in the deque\n",
    "            - Else, it will form a potential future max value in the deque\n",
    "\n",
    "- How do we analyse the time complexity of the 2 while loops in steps 1 and 2 above?\n",
    "    - At any point, there is at most $k$ items in the deque (since we remove everything outside the window in step 2)\n",
    "    - So it might look like the 2 while loops will be $O(NK)$\n",
    "    - But it is not true, because you cannot pop without a push. \n",
    "    - So this is actually $O(N)$\n",
    "\n",
    "\n"
   ]
  },
  {
   "cell_type": "code",
   "execution_count": 129,
   "metadata": {},
   "outputs": [
    {
     "data": {
      "text/plain": [
       "[7, 7, 5, 6, 6]"
      ]
     },
     "execution_count": 129,
     "metadata": {},
     "output_type": "execute_result"
    }
   ],
   "source": [
    "from collections import deque\n",
    "\n",
    "def window_max(input_list, window_size, verbose=False):\n",
    "    '''\n",
    "    Time complexity O(N): \n",
    "        - O(N) from iterating through each element of the input list. For each element, a fixed number of comparisons are made. \n",
    "        - At most k comparisons from both while loops\n",
    "\n",
    "        - Taken together, it may seem like O(NK)\n",
    "        - But notice that every element in the deque is added only once and popped only once. So the `while` loop is actually amortized O(N)\n",
    "        - As such, time complexity is O(N)\n",
    "    Space complexity O(N):\n",
    "        - Storing the deque takes O(K) space in the worst case (since we are constantly popping items that are outside the window)\n",
    "    '''\n",
    "    maxval_index_deque = deque()\n",
    "    output_index = 0\n",
    "    output_list = []\n",
    "\n",
    "    for i in range(len(input_list)):\n",
    "        if verbose:\n",
    "            print('='*50)\n",
    "            print(f\"{i=}, {maxval_index_deque=}, {output_list=}\")\n",
    "            if maxval_index_deque:\n",
    "                print(f\"{[input_list[x] for x in maxval_index_deque]=}\")\n",
    "        \n",
    "        ## If the deque is not empty, remove all values smaller than the current input, starting from left of deque. \n",
    "        ## Because of the 2 while loops, the deque arranged from small to large going from left to right\n",
    "        ## As such, it is guaranteed that indices i+1... after index i must be larger than index i\n",
    "        ## So if we stop popping from maxval_index_deque, there is no need to check the subsequent values\n",
    "        while (maxval_index_deque) and (input_list[maxval_index_deque[0]] < input_list[i]):\n",
    "            maxval_index_deque.popleft()\n",
    "\n",
    "        ## If the deque is not empty, remove all values outside the window of interest, starting from the right; that is, going from large to small. \n",
    "        ## Why right to left?\n",
    "            ## At every step of the loop, we remove values outside the relevant window, and we remove all values that are smaller than the latest addition\n",
    "            ## So it stands to reason that \n",
    "                ## (i) either the latest addition is the current max, and there are no other values in the deque\n",
    "                ## or (ii) the latest value is not the current max, and the current maximum occurred somewhere before the latest added index\n",
    "                ## As such, we should expect that the deque must be of strictly decreasing order, because there is never a case where we append a larger index to the right\n",
    "        while (maxval_index_deque) and (maxval_index_deque[-1] <= (i-window_size)):\n",
    "            maxval_index_deque.pop()\n",
    "\n",
    "        ## Having done the above preocessing, append the latest index on the left\n",
    "        maxval_index_deque.appendleft(i)\n",
    "\n",
    "        ## Starting from the `window_size-1`-th index, every run of the loop is a possible window. Hence, we return the maximum value of the window by taking the rightmost value in the deque\n",
    "        if i >= (window_size-1):\n",
    "            output_list.append(input_list[maxval_index_deque[-1]])\n",
    "\n",
    "        if verbose:\n",
    "            print(f\"{i=}, {maxval_index_deque=}, {output_list=}\")\n",
    "            if maxval_index_deque:\n",
    "                print(f\"{[input_list[x] for x in maxval_index_deque]=}\")\n",
    "\n",
    "    return output_list\n",
    "\n",
    "input_list = [2,7,3,1,5,2,6,2]\n",
    "window_size = 4\n",
    "window_max(input_list=input_list, window_size=window_size, verbose=False)"
   ]
  }
 ],
 "metadata": {
  "kernelspec": {
   "display_name": "kaggle",
   "language": "python",
   "name": "python3"
  },
  "language_info": {
   "codemirror_mode": {
    "name": "ipython",
    "version": 3
   },
   "file_extension": ".py",
   "mimetype": "text/x-python",
   "name": "python",
   "nbconvert_exporter": "python",
   "pygments_lexer": "ipython3",
   "version": "3.10.4"
  }
 },
 "nbformat": 4,
 "nbformat_minor": 2
}
