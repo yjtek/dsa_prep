{
 "cells": [
  {
   "cell_type": "markdown",
   "metadata": {},
   "source": [
    "### 1. Build Heap"
   ]
  },
  {
   "cell_type": "code",
   "execution_count": 29,
   "metadata": {},
   "outputs": [
    {
     "data": {
      "text/plain": [
       "[(1, 4), (0, 1), (1, 3)]"
      ]
     },
     "execution_count": 29,
     "metadata": {},
     "output_type": "execute_result"
    }
   ],
   "source": [
    "input_list = [5,4,3,2,1]\n",
    "\n",
    "def left_child(input_list, index):\n",
    "    child_index = (2*index) + 1\n",
    "    if child_index < len(input_list):\n",
    "        return child_index \n",
    "    else:\n",
    "        return index\n",
    "\n",
    "def right_child(input_list, index):\n",
    "    child_index = (2*index) + 2\n",
    "    if child_index < len(input_list):\n",
    "        return child_index \n",
    "    else:\n",
    "        return index\n",
    "\n",
    "def parent(input_list, index):\n",
    "    return (index-1)//2\n",
    "\n",
    "def sift_down(input_list, index):\n",
    "    curr_index = index\n",
    "    swaps = []\n",
    "\n",
    "    while (input_list[curr_index] > input_list[left_child(input_list, curr_index)]) or (input_list[curr_index] > input_list[right_child(input_list, curr_index)]):  \n",
    "        # print(f\"sift_down: {curr_index=}, {input_list=}, {left_child(input_list, curr_index)=}, {right_child(input_list, curr_index)=}\")\n",
    "        swap_index = left_child(input_list, curr_index) if input_list[left_child(input_list, curr_index)] < input_list[right_child(input_list, curr_index)] else right_child(input_list, curr_index)\n",
    "\n",
    "        input_list[curr_index], input_list[swap_index] = input_list[swap_index], input_list[curr_index]\n",
    "        swaps.append((curr_index, swap_index))\n",
    "        \n",
    "        curr_index = swap_index\n",
    "        # print(f\"sift_down: {input_list=}\")\n",
    "    return swaps\n",
    "\n",
    "def heapify(input_list):\n",
    "    start_index = len(input_list)//2\n",
    "    swaps = []\n",
    "    for index in range(start_index, -1, -1):\n",
    "        # print(f\"Heapify: {index=}, {input_list=}\")\n",
    "        additional_swaps = sift_down(input_list, index)\n",
    "        swaps.extend(additional_swaps)\n",
    "        # print(f\"Heapify: {index=}, {input_list=}\")\n",
    "    \n",
    "    return swaps\n",
    "\n",
    "heapify(input_list)"
   ]
  },
  {
   "cell_type": "markdown",
   "metadata": {},
   "source": [
    "### 2. Job Queue"
   ]
  },
  {
   "cell_type": "markdown",
   "metadata": {},
   "source": []
  }
 ],
 "metadata": {
  "kernelspec": {
   "display_name": "kaggle",
   "language": "python",
   "name": "python3"
  },
  "language_info": {
   "codemirror_mode": {
    "name": "ipython",
    "version": 3
   },
   "file_extension": ".py",
   "mimetype": "text/x-python",
   "name": "python",
   "nbconvert_exporter": "python",
   "pygments_lexer": "ipython3",
   "version": "3.10.4"
  }
 },
 "nbformat": 4,
 "nbformat_minor": 2
}
