{
 "cells": [
  {
   "cell_type": "markdown",
   "metadata": {},
   "source": [
    "### 1. Tree Orders"
   ]
  },
  {
   "cell_type": "markdown",
   "metadata": {},
   "source": [
    "- Basically implement the traversal ordering from Week 1 notes\n",
    "- Given a tree, print the nodes in in-order, pre-order, and post-order traversals\n",
    "- For practise, do level wise traversals, but don't call it in the final exercise"
   ]
  },
  {
   "cell_type": "code",
   "execution_count": null,
   "metadata": {},
   "outputs": [],
   "source": [
    "# python3\n",
    "\n",
    "import sys, threading\n",
    "sys.setrecursionlimit(10**6) # max depth of recursion\n",
    "threading.stack_size(2**27)  # new thread will get stack of such size\n",
    "\n",
    "class TreeOrders:\n",
    "  def read(self):\n",
    "    self.n = int(sys.stdin.readline())\n",
    "    self.key = [0 for i in range(self.n)]\n",
    "    self.left = [0 for i in range(self.n)]\n",
    "    self.right = [0 for i in range(self.n)]\n",
    "    for i in range(self.n):\n",
    "      [a, b, c] = map(int, sys.stdin.readline().split())\n",
    "      self.key[i] = a\n",
    "      self.left[i] = b\n",
    "      self.right[i] = c\n",
    "\n",
    "  def inOrder(self):\n",
    "    self.result = []\n",
    "    # Finish the implementation\n",
    "    # You may need to add a new recursive method to do that\n",
    "                \n",
    "    return self.result\n",
    "\n",
    "  def preOrder(self):\n",
    "    self.result = []\n",
    "    # Finish the implementation\n",
    "    # You may need to add a new recursive method to do that\n",
    "                \n",
    "    return self.result\n",
    "\n",
    "  def postOrder(self):\n",
    "    self.result = []\n",
    "    # Finish the implementation\n",
    "    # You may need to add a new recursive method to do that\n",
    "                \n",
    "    return self.result\n",
    "\n",
    "def main():\n",
    "\ttree = TreeOrders()\n",
    "\ttree.read()\n",
    "\tprint(\" \".join(str(x) for x in tree.inOrder()))\n",
    "\tprint(\" \".join(str(x) for x in tree.preOrder()))\n",
    "\tprint(\" \".join(str(x) for x in tree.postOrder()))\n",
    "\n",
    "threading.Thread(target=main).start()\n"
   ]
  }
 ],
 "metadata": {
  "kernelspec": {
   "display_name": "dsa_prep",
   "language": "python",
   "name": "python3"
  },
  "language_info": {
   "name": "python",
   "version": "3.10.13"
  }
 },
 "nbformat": 4,
 "nbformat_minor": 2
}
