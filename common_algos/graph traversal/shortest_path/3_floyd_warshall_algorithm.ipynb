{
 "cells": [
  {
   "cell_type": "markdown",
   "metadata": {},
   "source": [
    "### Floyd-Warshall Algorithm"
   ]
  },
  {
   "cell_type": "markdown",
   "metadata": {},
   "source": [
    "- In Dijkstras and Bellman-Ford, we solve the problem of the shortest path to every other node from a given source node\n",
    "\n",
    "- In Floyd-Warshall, we want to solve the problem of shortest path from every node to every other node\n",
    "\n",
    "- In principle,the method to solve this is again very similar to Dijkstra's and Bellman-Ford\n",
    "    - We visit every direct edge\n",
    "    - Then we visit every indirect edge, and update the value if the indirect path is shorter than the direct path"
   ]
  },
  {
   "cell_type": "markdown",
   "metadata": {},
   "source": [
    "### Example Walkthrough"
   ]
  },
  {
   "cell_type": "markdown",
   "metadata": {},
   "source": [
    "- Let's walkthrough an example with this graph structure"
   ]
  },
  {
   "cell_type": "code",
   "execution_count": 1,
   "metadata": {},
   "outputs": [],
   "source": [
    "import matplotlib.pyplot as plt\n",
    "import networkx as nx\n",
    "\n",
    "G = nx.DiGraph()\n",
    "\n",
    "G.add_edge(\"1\", \"2\", weight=3)\n",
    "G.add_edge(\"1\", \"4\", weight=7)\n",
    "G.add_edge(\"2\", \"1\", weight=8)\n",
    "G.add_edge(\"2\", \"3\", weight=2)\n",
    "G.add_edge(\"3\", \"1\", weight=5)\n",
    "G.add_edge(\"3\", \"4\", weight=1)\n",
    "G.add_edge(\"4\", \"1\", weight=2)"
   ]
  },
  {
   "cell_type": "markdown",
   "metadata": {},
   "source": [
    "- We initialise an $N \\times N$ matrix $A_0$. Each `(row,column)` represents the path between $V_{row}$ and $V_{col}$\n",
    "\n",
    "$$\\begin{aligned}\n",
    "    A_0 &= \\begin{bmatrix}\n",
    "        \\inf & \\inf & \\inf & \\inf \\\\\n",
    "        \\inf & \\inf & \\inf & \\inf \\\\\n",
    "        \\inf & \\inf & \\inf & \\inf \\\\\n",
    "        \\inf & \\inf & \\inf & \\inf \\\\\n",
    "    \\end{bmatrix}\n",
    "\\end{aligned}$$\n",
    "\n",
    "- Let's fill in the matrix with direct links between 2 nodes. By definition, the path from a node to itself always has 0 weight, so the diagonal will always be 0. For education purposes, I am also recording all the paths considered. This will be useful reference later\n",
    "\n",
    "$$\\begin{aligned}\n",
    "    A_0 &= \\begin{bmatrix}\n",
    "        0 & 3 & \\inf & 7  \\\\\n",
    "        8  & 0 & 2 & \\inf \\\\\n",
    "        5 & \\inf & 0 & 1 \\\\\n",
    "        2 & \\inf & \\inf & 0 \\\\\n",
    "    \\end{bmatrix}\n",
    "\\end{aligned}$$\n",
    "\n",
    "- Paths considered\n",
    "    - (1,2)\n",
    "        - (1 -> 2) | 3\n",
    "    - (1,3)\n",
    "        - (1 -> 3) | inf\n",
    "    - (1,4)\n",
    "        - (1 -> 4) | 7\n",
    "    - (2,1)\n",
    "        - (2 -> 1) | 8\n",
    "    - (2,3)\n",
    "        - (2 -> 3) | 2 \n",
    "    - (2,4)\n",
    "        - (2 -> 4) | inf\n",
    "    - (3,1)\n",
    "        - (3 -> 1) | 5\n",
    "    - (3,2)\n",
    "        - (3 -> 2) | inf\n",
    "    - (3,4)\n",
    "        - (3 -> 4) | 1\n",
    "    - (4,1)\n",
    "        - (4 -> 1) | 2\n",
    "    - (4,2)\n",
    "        - (4 -> 2) | inf\n",
    "    - (4,3)\n",
    "        - (4 -> 3) | inf"
   ]
  },
  {
   "cell_type": "markdown",
   "metadata": {},
   "source": [
    "- Next, we go through all possible pairs of start and end nodes again, but this time we consider the case when node 1 is the intermediate node.\n",
    "    - Since node 1 is the intermediate node, all paths starting at node 1 will not change their weight, and all paths ending at node 1 will also not change their weights\n",
    "    - This is because travelling from node 1 to node 1 is 0 cost\n",
    "\n",
    "- Let's take our first unknown value in matrix $A_1$ as an example; we explore what happens in $A_1[1][2]$, or the path of node 2 to 3\n",
    "    - We know from $A_0$ that the shortest path from 2 to 3 has weight 2\n",
    "    - With 1 as intermediate, the cost to compare is the path from 2 to 1, then from 1 to 3\n",
    "    - From $A_0$, that is simply `8 + inf = inf`\n",
    "    - Since the path with 1 as intermediate has `inf` cost, we keep the value of 2 in the node\n",
    "    - For reference, we update that we have also considered $2 \\rightarrow 1 \\rightarrow 3$ as a path\n",
    "\n",
    "- A1 Paths considered \n",
    "    - (1,2)\n",
    "        - (1 -> 2) | 3\n",
    "    - (1,3)\n",
    "        - (1 -> 3) | inf\n",
    "    - (1,4)\n",
    "        - (1 -> 4) | 7\n",
    "    - (2,1)\n",
    "        - (2 -> 1) | 8\n",
    "    - (2,3)\n",
    "        - (2 -> 3) | 2 \n",
    "        - (2 -> 1 -> 3) | 8 + inf = inf\n",
    "    - (2,4)\n",
    "        - (2 -> 4) | inf\n",
    "        - (2 -> 1 -> 4) | 8 + 7 = 15\n",
    "    - (3,1)\n",
    "        - (3 -> 1) | 5\n",
    "    - (3,2)\n",
    "        - (3 -> 2) | inf\n",
    "        - (3 -> 1 -> 2) | 5 + 3 = 8\n",
    "    - (3,4)\n",
    "        - (3 -> 4) | 1\n",
    "        - (3 -> 1 -> 4) | 5 + 7 = 12\n",
    "    - (4,1)\n",
    "        - (4 -> 1) | 2\n",
    "    - (4,2)\n",
    "        - (4 -> 2) | inf\n",
    "        - (4 -> 1 -> 2) | 2 + 3 = 5\n",
    "    - (4,3)\n",
    "        - (4 -> 3) | inf\n",
    "        - (4 -> 1 -> 3) | 2 + inf = inf\n"
   ]
  },
  {
   "cell_type": "markdown",
   "metadata": {},
   "source": [
    "- A2 Paths considered\n",
    "    - (1,2)\n",
    "        - (1 -> 2) | 3\n",
    "    - (1,3)\n",
    "        - (1 -> 3) | inf\n",
    "        - (1 -> 2 -> 3) | 3 + 2 = 5\n",
    "    - (1,4)\n",
    "        - (1 -> 4) | 7\n",
    "        - (1 -> 2 -> 4) | 3 + 15 = 18 \n",
    "    - (2,1)\n",
    "        - (2 -> 1) | 8\n",
    "    - (2,3)\n",
    "        - (2 -> 3) | 2 \n",
    "        - (2 -> 1 -> 3) | 8 + inf = inf\n",
    "    - (2,4)\n",
    "        - (2 -> 4) | inf\n",
    "        - (2 -> 1 -> 4) | 8 + 7 = 15\n",
    "    - (3,1)\n",
    "        - (3 -> 1) | 5\n",
    "        - (3 -> 2 -> 1) | 8 + 8 = 16\n",
    "    - (3,2)\n",
    "        - (3 -> 2) | inf\n",
    "        - (3 -> 1 -> 2) | 5 + 3 = 8\n",
    "    - (3,4)\n",
    "        - (3 -> 4) | 1\n",
    "        - (3 -> 1 -> 4) | 5 + 7 = 12\n",
    "        - (3 -> 2 -> 4) / (3 -> 1 -> 2 -> 4) / (3 -> 2 -> 1 -> 4) | 8 + 15 = 23\n",
    "    - (4,1)\n",
    "        - (4 -> 1) | 2\n",
    "        - (4 -> 2 -> 1) | 5 + 8 = 13\n",
    "    - (4,2)\n",
    "        - (4 -> 2) | inf\n",
    "        - (4 -> 1 -> 2) | 2 + 3 = 5\n",
    "    - (4,3)\n",
    "        - (4 -> 3) | inf\n",
    "        - (4 -> 1 -> 3) | 2 + inf = inf\n",
    "        - (4 -> 2 -> 3) / (4 -> 2 -> 1 -> 3) | 5 + 2 = 7"
   ]
  },
  {
   "cell_type": "markdown",
   "metadata": {},
   "source": [
    "- The key pattern insight to note is that; for a graph with $N$ nodes, the longest path must have $N-1$ edges\n",
    "\n",
    "- At each stage, we will \"solve\" for a subproblem of the $N-1$\n",
    "    - As we iterate, we consider the 2 node path, then the 3 node path etc, until we build up to the $N-1$ path\n",
    "\n",
    "- The logic being, if something like `1 -> 2 -> 3 -> 4` is the shortest path for `(1, 4)`, then the shortest path for `(1,3)` must be `1 -> 2 -> 3`\n",
    "\n",
    "- So the Floyd Warshall algorithm builds up to the longest possible path in $N$ iterations (by considering all $N$ nodes as intermediates)\n",
    "\n",
    "- Hence, $N$ must be the number of iterations "
   ]
  },
  {
   "cell_type": "markdown",
   "metadata": {},
   "source": [
    "### Code Implementation"
   ]
  },
  {
   "cell_type": "code",
   "execution_count": 7,
   "metadata": {},
   "outputs": [
    {
     "data": {
      "text/plain": [
       "[[0, 3, 5, 6], [5, 0, 2, 3], [3, 6, 0, 1], [2, 5, 7, 0]]"
      ]
     },
     "execution_count": 7,
     "metadata": {},
     "output_type": "execute_result"
    }
   ],
   "source": [
    "inputs = [\n",
    "    (0,1,3), (0,3,7), (1,0,8), (1,2,2),\n",
    "    (2,0,5), (2,3,1), (3,0,2)    \n",
    "]\n",
    "\n",
    "def create_initial_matrix(inputs: list[tuple[int, int, int]], total_vertices: int) -> list[list[int]]:\n",
    "    '''\n",
    "    In floyd warshall, we initialise an N by N matrix holding the direct paths (where applicable) between 2 nodes.\n",
    "    Note that distance from every node to itself is 0, so diagonal is 0 by definition\n",
    "    '''\n",
    "    a0 = [[float('inf') for _ in range(total_vertices)] for _ in range(total_vertices)]\n",
    "    for (f, t, e) in inputs:\n",
    "        a0[f][t] = e\n",
    "    \n",
    "    for i in range(total_vertices):\n",
    "        a0[i][i] = 0\n",
    "\n",
    "    return a0\n",
    "    \n",
    "\n",
    "def floyd_warshall(inputs: list[tuple[int, int, int]], total_vertices: int):\n",
    "    matrix = create_initial_matrix(inputs, total_vertices)\n",
    "\n",
    "    for intermediate in range(total_vertices):\n",
    "        for r in range(total_vertices):\n",
    "            for c in range(total_vertices):\n",
    "                if (r == intermediate) or (c == intermediate): \n",
    "                    ### Diagonals are always 0 because path from vertex to itself is 0\n",
    "                    continue\n",
    "\n",
    "                ### If path through the intermediate vertex is shorter than the direct path, update the path length that goes through the intermediate vertex\n",
    "                if (matrix[r][intermediate] + matrix[intermediate][c]) < matrix[r][c]:\n",
    "                    matrix[r][c] = (matrix[r][intermediate] + matrix[intermediate][c])\n",
    "\n",
    "    return matrix\n",
    "                    \n",
    "                \n",
    "floyd_warshall(inputs, 4)"
   ]
  },
  {
   "cell_type": "markdown",
   "metadata": {},
   "source": [
    "### Time complexity"
   ]
  },
  {
   "cell_type": "markdown",
   "metadata": {},
   "source": [
    "- Since there are 3 loops over total vertices, time complexity in worst case is $O(N^3)$\n",
    "\n",
    "- Space complexity is $O(N^2)$ for the extra matrix needed to store shortest paths between all pairs of nodes"
   ]
  }
 ],
 "metadata": {
  "kernelspec": {
   "display_name": "dsa-prep-3dngTr8Z-py3.12",
   "language": "python",
   "name": "python3"
  },
  "language_info": {
   "codemirror_mode": {
    "name": "ipython",
    "version": 3
   },
   "file_extension": ".py",
   "mimetype": "text/x-python",
   "name": "python",
   "nbconvert_exporter": "python",
   "pygments_lexer": "ipython3",
   "version": "3.12.6"
  }
 },
 "nbformat": 4,
 "nbformat_minor": 2
}
