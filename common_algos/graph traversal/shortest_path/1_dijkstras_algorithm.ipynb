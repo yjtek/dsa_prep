{
 "cells": [
  {
   "cell_type": "markdown",
   "metadata": {},
   "source": [
    "### Dijkstra's Algorithm"
   ]
  },
  {
   "cell_type": "markdown",
   "metadata": {},
   "source": [
    "- Dijkstra's algorithm finds the shortest path between from some source vertex to all destination vertices in a graph, given a set of edge weights\n",
    "    - Dijkstra's works for directed and undirected graphs\n",
    "    - BUT does not work when the edges contain negative values"
   ]
  },
  {
   "cell_type": "markdown",
   "metadata": {},
   "source": [
    "### How does this work?"
   ]
  },
  {
   "cell_type": "markdown",
   "metadata": {},
   "source": [
    "- Let's suppose we start at a given vertex $V_i$\n",
    "\n",
    "- We create an adjacency map from every vertex $V_i$ to every other vertex $V_{j \\neq i}$, including their weight. That is\n",
    "    - $\\{ V_i: [(V_j, 1), (V_k, 2)] \\}$\n",
    "    - This will tell us, for every vertex $V_i$, which are its immediate neighbours, and the edge weight between them\n",
    "\n",
    "- We create array `shortest_distance_from_vi` of size $|V|$, with each index representing a vertex in the graph\n",
    "    - Each index `j` in this array represents the distance of the vertex $V_j$ from $V_i$\n",
    "    - Since not every other vertex is connected to $V_i$, we initialise all values as $\\inf$\n",
    "    - We will iteratively traverse all nodes in the graph to update these distances \n",
    "\n",
    "- Starting from $V_i$, we assign the value at `shortest_distance_from_vi[i]` to be 0. Intuitively, this just means that the distance of vertex `i` from itself is 0\n",
    "\n",
    "- Next, we update the distances for all neighbours of $V_i$ in `shortest_distance_from_vi`. \n",
    "    - This can be done by taking the weight at $V_i$ and adding it to the edge value of the neighbour\n",
    "        - That is, suppose it costs us 2 to reach $V_i$, and the edge between $V_i$ and $V_j$ is 2, then the total cost to reach $V_j$ through $V_i$ must be 2+2 = 4\n",
    "        - As we iterate through the vertices, it is possible that we encounter $V_i + E_{ij} > V_j$\n",
    "        - In such a case, don't update `shortest_distance_from_vi`\n",
    "    \n",
    "    - This process is called **relaxation**\n",
    "\n",
    "- We pick a neighbour with the smallest distance from $V_i$, and run the same algorithm on it\n",
    "    - Before moving on to the smallest neighbour, mark $V_i$ as visited. We will never visit $V_i$ again"
   ]
  },
  {
   "cell_type": "markdown",
   "metadata": {},
   "source": [
    "### Example Walkthrough"
   ]
  },
  {
   "cell_type": "markdown",
   "metadata": {},
   "source": [
    "- Let's use the graph below"
   ]
  },
  {
   "cell_type": "code",
   "execution_count": 40,
   "metadata": {},
   "outputs": [],
   "source": [
    "import matplotlib.pyplot as plt\n",
    "import networkx as nx\n",
    "\n",
    "G = nx.DiGraph()\n",
    "\n",
    "G.add_edge(\"1\", \"2\", weight=50)\n",
    "G.add_edge(\"1\", \"3\", weight=45)\n",
    "G.add_edge(\"1\", \"4\", weight=10)\n",
    "G.add_edge(\"2\", \"4\", weight=15)\n",
    "G.add_edge(\"2\", \"3\", weight=10)\n",
    "G.add_edge(\"3\", \"5\", weight=30)\n",
    "G.add_edge(\"4\", \"5\", weight=15)\n",
    "G.add_edge(\"5\", \"2\", weight=20)\n",
    "G.add_edge(\"5\", \"3\", weight=35)\n",
    "G.add_edge(\"5\", \"1\", weight=1)\n",
    "G.add_edge(\"6\", \"5\", weight=3)\n",
    "\n",
    "# plt.figure(figsize=(12,7))\n",
    "# pos = nx.spring_layout(G, k=10, iterations=20, seed=7)  # positions for all nodes - seed for reproducibility\n",
    "# nx.draw_networkx_nodes(G, pos, cmap=plt.get_cmap('jet'), node_size = 500)\n",
    "# nx.draw_networkx_labels(G, pos, font_color='white')\n",
    "# nx.draw_networkx_edges(G, pos, arrows=True, arrowsize=15)\n",
    "# nx.draw_networkx_edge_labels(G, pos, font_size='12')\n",
    "# plt.show();"
   ]
  },
  {
   "cell_type": "markdown",
   "metadata": {},
   "source": [
    "- Let's assume we start from node 1\n",
    "\n",
    "    - Add node 1 to `visited` set. No matter what, we will never visit node 1 again\n",
    "        - Why?\n",
    "        - Recall that at every iteration, we take the shortest possible next step\n",
    "        - And in Dijkstra's, the assumption is that every edge is positive\n",
    "        - So for any node `i` that we reach, it will not be possible to find another path that will get us to this node with less cost\n",
    "        - Because any separate path we take must contain a larger edge than the current path. And since edge values are non negative, it is not possible to get a smaller weight from making more hops \n",
    "\n",
    "    - So we see that there 1 has 3 neighbours, 2 (with weight 50), 3 (with weight 45), and 4 (with weight 10)\n",
    "\n",
    "    - `shortest_distance_from_vi = [0,50,45,10,inf,inf]`\n",
    "    - `visited = {1}`\n",
    "\n",
    "- So next one with visit is 4\n",
    "    - `visited = {1,4}`\n",
    "    - 4 has only 1 neighbour 5 (with weight 15)\n",
    "    - 5 is not in visited, so perform **relaxation**\n",
    "    - `shortest_distance_from_vi = [0,50,45,10,10+15=25,inf] = [0,50,45,10,25,inf]`\n",
    "\n",
    "- Visit 5\n",
    "    - `visited = {1,4,5}`\n",
    "    - 5 has 3 neighbours; 1 (with edge 1), 2 (with edge 20), and 3 (with edge 35)\n",
    "    - 1 already exists in `visited`, so skip\n",
    "    - The total distance of path to 2 that goes through 5 is 25 + 20 = 45. This is smaller than 50, so update\n",
    "    - `shortest_distance_from_vi = [0,45,45,10,25,inf]`\n",
    "    - The total distance of path to 3 that goes through 5 is 25 + 35 = 60. This is larger than 45, don't update\n",
    "    - 1 is the next smallest next edge, but 1 is already visited. Ignore\n",
    "    - 2 and 3 have the same weight, just choose one\n",
    "\n",
    "- Visit 2\n",
    "    - `visited = {1,4,5,2}`\n",
    "    - 2 has 2 neighbours; 3 (with edge 10), and 4 (with edge 15)\n",
    "    - The total distance of path to 3 that goes through 2 is 45 + 10 = 55. This is longer than the existing value of 45, so don't update\n",
    "    - 4 is already in `visisted`, skip\n",
    "    - `shortest_distance_from_vi = [0,45,45,10,25,inf]`\n",
    "\n",
    "- Visit 3\n",
    "    - `visited = {1,4,5,2,3}`\n",
    "    - 3 has 1 neighbour; 5 (with edge 30)\n",
    "    - 5 is already visisted, skip\n",
    "    - There are no neighbours that have not been visited, end"
   ]
  },
  {
   "cell_type": "markdown",
   "metadata": {},
   "source": [
    "### Why does Dijkstra's fail with negative edge?"
   ]
  },
  {
   "cell_type": "markdown",
   "metadata": {},
   "source": [
    "- Let's see a case now where Dijkstra's will fail with negative edge"
   ]
  },
  {
   "cell_type": "code",
   "execution_count": 42,
   "metadata": {},
   "outputs": [],
   "source": [
    "import networkx as nx\n",
    "\n",
    "G = nx.DiGraph()\n",
    "G.add_edge(\"1\", \"2\", weight=3)\n",
    "G.add_edge(\"1\", \"4\", weight=5)\n",
    "G.add_edge(\"3\", \"2\", weight=-10)\n",
    "G.add_edge(\"4\", \"3\", weight=2)\n",
    "\n",
    "# plt.figure(figsize=(12,7))\n",
    "# pos = nx.spring_layout(G, k=10, iterations=20, seed=7)  # positions for all nodes - seed for reproducibility\n",
    "# nx.draw_networkx_nodes(G, pos, cmap=plt.get_cmap('jet'), node_size = 500)\n",
    "# nx.draw_networkx_labels(G, pos, font_color='white')\n",
    "# nx.draw_networkx_edges(G, pos, arrows=True, arrowsize=15)\n",
    "# nx.draw_networkx_edge_labels(G, pos, font_size='12')\n",
    "# plt.show();"
   ]
  },
  {
   "cell_type": "markdown",
   "metadata": {},
   "source": [
    "- Again, start from node 1\n",
    "    - `visited = {1}`\n",
    "    - `shortest_distance_from_vi = [0,inf,inf,inf]`\n",
    "    - 2 neighbours; 2 (with edge 3), 4 (with edge 5)\n",
    "    - Update both indices in shortest_distance array\n",
    "    - `shortest_distance_from_vi = [0,3,inf,5]`\n",
    "\n",
    "- Visit 2\n",
    "    - `visited = {1,2}`\n",
    "    - `shortest_distance_from_vi = [0,3,inf,5]`\n",
    "    - No neighbours, so no updates\n",
    "\n",
    "- Visit 4\n",
    "    - `visited = {1,2,4}`\n",
    "    - 1 neighbour; 3 (with edge 2)\n",
    "    - Path to 3 through 4 is 5 + 2 = 7\n",
    "    - `shortest_distance_from_vi = [0,3,7,5]`\n",
    "\n",
    "- Visit 3\n",
    "    - `visited = {1,2,4,3}`\n",
    "    - Neighbour 2 has been visisted, skip\n",
    "    - `shortest_distance_from_vi = [0,3,7,5]`\n",
    "\n",
    "- But wait, let's zoom into the **Visit 3** chunk\n",
    "    - Suppose we didn't skip this.\n",
    "    - We would have found that the shortest path to neighbour 2 through 3 is 7 - 10 = -3\n",
    "    - And this value is smaller than the one at the 2 index!!!\n",
    "    - So ideally, the shortest distance array should be:\n",
    "        - `shortest_distance_from_vi = [0,-3,7,5]`\n",
    "\n",
    "- So the assumption that more hops = more distance that Dijkstra's algorithm makes will fail when negative weights are introduced"
   ]
  },
  {
   "cell_type": "markdown",
   "metadata": {},
   "source": [
    "### Code Implementation"
   ]
  },
  {
   "cell_type": "markdown",
   "metadata": {},
   "source": [
    "- Let's implement Dijkstra's in the following way\n",
    "\n",
    "- We will provide an array of edges and edge weights i.e. `(from, to, weight)`\n",
    "\n",
    "- Given this information, use Dijkstra's to find the shortest path from some arbitrary vertex $i$ to all other vertices $j$\n",
    "\n",
    "- In this implementation, we assume that all edges are bidirectional"
   ]
  },
  {
   "cell_type": "code",
   "execution_count": 79,
   "metadata": {},
   "outputs": [
    {
     "data": {
      "text/plain": [
       "{0: [(4, 1), (8, 7)],\n",
       " 1: [(4, 0), (8, 2), (11, 7)],\n",
       " 7: [(8, 0), (11, 1), (1, 6), (7, 8)],\n",
       " 2: [(8, 1), (7, 3), (2, 8), (4, 5)],\n",
       " 3: [(7, 2), (9, 4), (14, 5)],\n",
       " 8: [(2, 2), (6, 6), (7, 7)],\n",
       " 5: [(4, 2), (14, 3), (10, 4), (2, 6)],\n",
       " 4: [(9, 3), (10, 5)],\n",
       " 6: [(2, 5), (1, 7), (6, 8)]}"
      ]
     },
     "execution_count": 79,
     "metadata": {},
     "output_type": "execute_result"
    }
   ],
   "source": [
    "## (from, to, edge_weight)\n",
    "inputs = [\n",
    "    (0,1,4), (0,7,8), (1,2,8), (1,7,11),\n",
    "    (2,3,7), (2,8,2), (2,5,4), (3,4,9),\n",
    "    (3,5,14), (4,5,10), (5,6,2), (6,7,1),\n",
    "    (6,8,6), (7,8,7)\n",
    "]\n",
    "\n",
    "def construct_adjacency_map(inputs: list[tuple[int,int,int]]) -> dict[int, tuple[int, int]]:\n",
    "    '''\n",
    "    Function should produce an adjacency map of {from: (weight, to)}. This format wll help align with Dijkstra's minheap structure later\n",
    "    '''\n",
    "    adj_map = {}\n",
    "    for input in inputs:\n",
    "        from_node, to_node, edge_weight = input\n",
    "        if from_node not in adj_map:\n",
    "            adj_map[from_node] = [(edge_weight, to_node)]\n",
    "        else:\n",
    "            adj_map[from_node].append((edge_weight,to_node))\n",
    "\n",
    "        if to_node not in adj_map:\n",
    "            adj_map[to_node] = [(edge_weight, from_node)]\n",
    "        else:\n",
    "            adj_map[to_node].append((edge_weight,from_node))\n",
    "\n",
    "    return adj_map\n",
    "\n",
    "adj_map = construct_adjacency_map(inputs)\n",
    "adj_map"
   ]
  },
  {
   "cell_type": "code",
   "execution_count": 78,
   "metadata": {},
   "outputs": [
    {
     "data": {
      "text/plain": [
       "[0, 4, 12, 19, 21, 11, 9, 8, 14]"
      ]
     },
     "execution_count": 78,
     "metadata": {},
     "output_type": "execute_result"
    }
   ],
   "source": [
    "import math\n",
    "import heapq\n",
    "\n",
    "def dijkstras(start_node: int, adj_map: dict) -> list[int]:\n",
    "    distance_from_start_node = [math.inf for _ in adj_map]\n",
    "    distance_from_start_node[start_node] = 0\n",
    "    visited = set()\n",
    "\n",
    "    ## Queue tuples are (edge_weight, next_node_to_visit)\n",
    "    queue = [(0, start_node)] \n",
    "    \n",
    "    while queue:\n",
    "        curr_node_distance, curr_node = heapq.heappop(queue)\n",
    "        visited.add(curr_node)\n",
    "        \n",
    "        for neighbour_edge_val, neighbour_node in adj_map.get(curr_node, []):\n",
    "            if neighbour_node in visited:\n",
    "                continue\n",
    "                        \n",
    "            if distance_from_start_node[neighbour_node] > (curr_node_distance + neighbour_edge_val):\n",
    "                distance_from_start_node[neighbour_node] = curr_node_distance + neighbour_edge_val\n",
    "                heapq.heappush(queue, (distance_from_start_node[neighbour_node], neighbour_node))\n",
    "    \n",
    "    return distance_from_start_node\n",
    "\n",
    "dijkstras(0, adj_map)"
   ]
  },
  {
   "cell_type": "markdown",
   "metadata": {},
   "source": [
    "### Time complexity of Dijkstra's Algorithm"
   ]
  },
  {
   "cell_type": "markdown",
   "metadata": {},
   "source": [
    "- Let's think through the overall algorithm\n",
    "    1. We iterate through all vertices in the graph to construct the `distance_from_start_node` array\n",
    "        - This is done in $O(|V|)$ time\n",
    "    2. We create a heap, and push every node onto the heap\n",
    "        - This is done in $O(log(|V|))$ time\n",
    "    3. For each popped vertex from the queue, we iterate through its neighbours. In the worst case, it is fully connected, so iterating through all neighbours takes $O(||)$ time\n"
   ]
  }
 ],
 "metadata": {
  "kernelspec": {
   "display_name": "dsa-prep-3dngTr8Z-py3.12",
   "language": "python",
   "name": "python3"
  },
  "language_info": {
   "codemirror_mode": {
    "name": "ipython",
    "version": 3
   },
   "file_extension": ".py",
   "mimetype": "text/x-python",
   "name": "python",
   "nbconvert_exporter": "python",
   "pygments_lexer": "ipython3",
   "version": "3.12.6"
  }
 },
 "nbformat": 4,
 "nbformat_minor": 2
}
