{
 "cells": [
  {
   "cell_type": "markdown",
   "metadata": {},
   "source": [
    "## Tree Traversal"
   ]
  },
  {
   "cell_type": "markdown",
   "metadata": {},
   "source": [
    "- A lot of problems are built on traversing a binary tree, or binary search tree in some manner\n",
    "\n",
    "- So it's helpful to be able to implement this sort of common patterns easily\n",
    "\n",
    "- There are 3 types of traversal to know\n",
    "    - In-order Traversal\n",
    "    - Pre-order Traversal\n",
    "    - Post-order Traversal\n",
    "\n",
    "- We will implement these traversals recursively and iteratively, just to get a feel of both algorithms\n",
    "\n",
    "- To facilitate this, we'll just implement a `Node` class for later use"
   ]
  },
  {
   "cell_type": "code",
   "execution_count": 43,
   "metadata": {},
   "outputs": [],
   "source": [
    "from typing import Any, Optional\n",
    "class Node:\n",
    "    def __init__(self, val: Any, left: Optional['Node'] = None, right: Optional['Node'] = None):\n",
    "        self.val = val\n",
    "        self.left = left\n",
    "        self.right = right\n",
    "\n",
    "n1 = Node(1)\n",
    "n2 = Node(2)\n",
    "n3 = Node(3)\n",
    "n4 = Node(4)\n",
    "n5 = Node(5)\n",
    "n1.left=n2\n",
    "n1.right=n3\n",
    "n2.left=n4\n",
    "n2.right=n5\n",
    "\n",
    "n1 = Node(1)\n",
    "n2 = Node(2)\n",
    "n3 = Node(3)\n",
    "n4 = Node(4)\n",
    "n5 = Node(5)\n",
    "n1.left=n2\n",
    "n1.right=n3\n",
    "n2.right=n4\n",
    "n3.right=n5"
   ]
  },
  {
   "cell_type": "markdown",
   "metadata": {},
   "source": [
    "### In-Order Traversal"
   ]
  },
  {
   "cell_type": "markdown",
   "metadata": {},
   "source": [
    "- In-order traversal just means that, for any Node, print the values in the order of \"left child val --> node val --> right child val\"\n",
    "\n",
    "- For example, for the subtree below, in-order traversal produces [4,2,5,1,3]\n",
    "```\n",
    "        1\n",
    "       / \\\n",
    "      2   3\n",
    "     / \\\n",
    "    4   5\n",
    "```"
   ]
  },
  {
   "cell_type": "code",
   "execution_count": 20,
   "metadata": {},
   "outputs": [
    {
     "name": "stdout",
     "output_type": "stream",
     "text": [
      "4 2 5 1 3 "
     ]
    }
   ],
   "source": [
    "def recursive_in_order_traversal(root: Optional[Node]):\n",
    "    if not root:\n",
    "        return\n",
    "    \n",
    "    recursive_in_order_traversal(root.left)\n",
    "    print(root.val, end=' ')\n",
    "    recursive_in_order_traversal(root.right)\n",
    "\n",
    "recursive_in_order_traversal(n1)"
   ]
  },
  {
   "cell_type": "code",
   "execution_count": 18,
   "metadata": {},
   "outputs": [
    {
     "name": "stdout",
     "output_type": "stream",
     "text": [
      "4 2 5 1 3 "
     ]
    }
   ],
   "source": [
    "from collections import deque\n",
    "def iterative_in_order_traversal(root: Optional[Node]):\n",
    "    if not root:\n",
    "        return\n",
    "    \n",
    "    stack = deque()\n",
    "    curr = root\n",
    "    while curr or stack:\n",
    "        while curr is not None:\n",
    "            stack.append(curr)\n",
    "            curr = curr.left\n",
    "        \n",
    "        curr = stack.pop()\n",
    "        print(curr.val, end=' ')\n",
    "        curr = curr.right\n",
    "\n",
    "iterative_in_order_traversal(n1)"
   ]
  },
  {
   "cell_type": "markdown",
   "metadata": {},
   "source": [
    "### Pre-Order Traversal"
   ]
  },
  {
   "cell_type": "markdown",
   "metadata": {},
   "source": [
    "- Pre-order traversal means that, for any Node, print the values in the order of \"node val --> left child val --> right child val\"\n",
    "\n",
    "- For example, for the subtree below, pre-order traversal produces [1,2,4,5,3]\n",
    "```\n",
    "        1\n",
    "       / \\\n",
    "      2   3\n",
    "     / \\\n",
    "    4   5\n",
    "```"
   ]
  },
  {
   "cell_type": "code",
   "execution_count": 19,
   "metadata": {},
   "outputs": [
    {
     "name": "stdout",
     "output_type": "stream",
     "text": [
      "1 2 4 5 3 "
     ]
    }
   ],
   "source": [
    "def recursive_pre_order_traversal(root: Optional[Node]):\n",
    "    if not root:\n",
    "        return\n",
    "    \n",
    "    print(root.val, end=' ')\n",
    "    recursive_pre_order_traversal(root.left)\n",
    "    recursive_pre_order_traversal(root.right)\n",
    "    \n",
    "recursive_pre_order_traversal(n1)"
   ]
  },
  {
   "cell_type": "code",
   "execution_count": 24,
   "metadata": {},
   "outputs": [
    {
     "name": "stdout",
     "output_type": "stream",
     "text": [
      "1 2 4 5 3 "
     ]
    }
   ],
   "source": [
    "def iterative_pre_order_traversal(root: Node):\n",
    "    if not root:\n",
    "        return\n",
    "    \n",
    "    stack = deque()\n",
    "    curr = root\n",
    "    while curr or stack:\n",
    "        while curr is not None:\n",
    "            print(curr.val, end=' ')\n",
    "            stack.append(curr)\n",
    "            curr = curr.left\n",
    "        \n",
    "        curr = stack.pop()\n",
    "        curr = curr.right\n",
    "            \n",
    "iterative_pre_order_traversal(n1)"
   ]
  },
  {
   "cell_type": "markdown",
   "metadata": {},
   "source": [
    "### Post-Order Traversal"
   ]
  },
  {
   "cell_type": "markdown",
   "metadata": {},
   "source": [
    "- Post-order traversal is where, for a given subtree, we print the values in the order \"left child val --> right child val --> node val\"\n",
    "\n",
    "- For example, for the subtree below, post-order traversal produces [4,5,2,3,1]\n",
    "```\n",
    "        1\n",
    "       / \\\n",
    "      2   3\n",
    "     / \\\n",
    "    4   5\n",
    "```"
   ]
  },
  {
   "cell_type": "code",
   "execution_count": 44,
   "metadata": {},
   "outputs": [
    {
     "name": "stdout",
     "output_type": "stream",
     "text": [
      "4 2 5 3 1 "
     ]
    }
   ],
   "source": [
    "def recursive_post_order_traversal(root: Optional[Node]):\n",
    "    if not root:\n",
    "        return\n",
    "    \n",
    "    recursive_post_order_traversal(root.left)\n",
    "    recursive_post_order_traversal(root.right)\n",
    "    print(root.val, end = ' ')\n",
    "    \n",
    "recursive_post_order_traversal(n1)"
   ]
  },
  {
   "cell_type": "code",
   "execution_count": 41,
   "metadata": {},
   "outputs": [
    {
     "name": "stdout",
     "output_type": "stream",
     "text": [
      "4 5 2 3 1 "
     ]
    }
   ],
   "source": [
    "def iterative_post_order_traversal(root: Optional[Node]):\n",
    "    if not root:\n",
    "        return\n",
    "    \n",
    "    stack = deque([root])\n",
    "    curr = root\n",
    "    while stack or curr:\n",
    "        while curr:\n",
    "            if curr.right:\n",
    "                stack.append(curr.right)\n",
    "            if curr.left:\n",
    "                stack.append(curr.left)\n",
    "            curr = curr.left\n",
    "        \n",
    "        curr = stack.pop()\n",
    "        print(curr.val, end=' ')\n",
    "        curr = None\n",
    "\n",
    "iterative_post_order_traversal(n1)"
   ]
  }
 ],
 "metadata": {
  "kernelspec": {
   "display_name": "dsa-prep-3dngTr8Z-py3.12",
   "language": "python",
   "name": "python3"
  },
  "language_info": {
   "codemirror_mode": {
    "name": "ipython",
    "version": 3
   },
   "file_extension": ".py",
   "mimetype": "text/x-python",
   "name": "python",
   "nbconvert_exporter": "python",
   "pygments_lexer": "ipython3",
   "version": "3.12.6"
  }
 },
 "nbformat": 4,
 "nbformat_minor": 2
}
