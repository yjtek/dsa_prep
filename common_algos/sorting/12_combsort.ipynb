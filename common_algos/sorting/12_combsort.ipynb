{
 "cells": [
  {
   "cell_type": "markdown",
   "metadata": {},
   "source": [
    "### Comb Sort"
   ]
  },
  {
   "cell_type": "markdown",
   "metadata": {},
   "source": [
    "- Comb sort is basically bubble sort, but with fancier comparison logic\n",
    "\n",
    "- Recall that in bubble sort;\n",
    "    - We run through the N-sized input array $N$ times\n",
    "    - In each round, going from left to right, we compare the value at `i` and its next neighbour at `i+1`. If `i` exceeds `i+1`, swap them.\n",
    "    - So in the k-th iteration, the k-th largest value gets \"bubbled\" to the end of the array\n",
    "\n",
    "- In comb sort, the only thing that changes is that instead of comparing neighbours with offset of 1, we start by comparing neighbours further away, then iteratively decreasing the comparison distance until we hit offset = 1, which is the bubble sort case\n",
    "    - The idea being that, by the time we hit the offset = 1 case, the array is much closer to being sorted, and will require fewer runs with gap = 1\n",
    "\n",
    "- Through brute force, people have found that the offset should start at `len(arr)` and decrease by a factor of 1.3 at each iteration\n",
    "\n",
    "- The final stage, where offset=1, is basically the bubble sort case. By the time you reach this, the array should be \"kind of\" sorted, so you need to run this fewer times"
   ]
  },
  {
   "cell_type": "markdown",
   "metadata": {},
   "source": [
    "### Example"
   ]
  },
  {
   "cell_type": "markdown",
   "metadata": {},
   "source": [
    "- `arr = [1,6,2,7,3]`\n",
    "\n",
    "- Gap = 5//1.3 = 3\n",
    "    - Compare 1 and 7, no swap\n",
    "    - Compare 6 and 3, swap\n",
    "    - `arr = [1,3,2,7,6]`\n",
    "\n",
    "- Gap = 3//1.3 = 2\n",
    "    - Compare 1 and 2, no swap\n",
    "    - Compare 3 and 7, no swap\n",
    "    - Compare 2 and 6, no swap\n",
    "    - `arr = [1,3,2,7,6]`\n",
    "\n",
    "- Gap = 2//1.3 = 1\n",
    "    - Compare 1 and 3, no swap\n",
    "    - Compare 3 and 2, swap\n",
    "    - `arr = [1,2,3,7,6]`\n",
    "    - Compare 3 and 7, no swap\n",
    "    - Compare 7 and 6, swap\n",
    "    - `arr = [1,2,3,6,7]`\n",
    "\n",
    "- Run through array once more; no swaps, so array is sorted. Return\n"
   ]
  },
  {
   "cell_type": "markdown",
   "metadata": {},
   "source": [
    "### Code Implementation"
   ]
  },
  {
   "cell_type": "code",
   "execution_count": 12,
   "metadata": {},
   "outputs": [],
   "source": [
    "import random\n",
    "arr=random.sample(range(500), k=20)"
   ]
  },
  {
   "cell_type": "code",
   "execution_count": 17,
   "metadata": {},
   "outputs": [],
   "source": [
    "def comb_sort(arr: list[int]):\n",
    "    scaling_factor = 1.3\n",
    "    gap = int(len(arr) // 1.3)\n",
    "    while gap > 1:\n",
    "        for i in range(len(arr)-gap):\n",
    "            if arr[i] > arr[i+gap]:\n",
    "                arr[i], arr[i+gap] = arr[i+gap], arr[i]\n",
    "        gap = int(gap // 1.3)\n",
    "    \n",
    "    sorted=True\n",
    "    while not sorted:\n",
    "        sorted=True\n",
    "        for i in range(len(arr)-1):\n",
    "            if arr[i] > arr[i+1]:\n",
    "                arr[i], arr[i+1] = arr[i+1], arr[i]\n",
    "                sorted=False\n",
    "        \n",
    "comb_sort(arr)\n",
    "# arr"
   ]
  },
  {
   "cell_type": "markdown",
   "metadata": {},
   "source": [
    "### Time Complexity"
   ]
  },
  {
   "cell_type": "markdown",
   "metadata": {},
   "source": [
    "- Time complexity\n",
    "    - In the worst case\n",
    "        - The sorting algorithm behaves like bubble sort, and so will take $O(N^2)$\n",
    "    - In best case\n",
    "        - The gap starts from the array size $N$, and reduces by 1.3 at each iteration\n",
    "        - This means that $\\log_{1.3} N$ passes are made on the array\n",
    "        - In each pass, comparison is made iterating through the whole array in $O(N)$\n",
    "        - Assuming the array is already sorted when you reach the case where gap = 1, this suggests that you would have done the $O(N)$ operation $O(\\log_{1.3} N)$ times\n",
    "        - This leads to overall time complexity of $O(N \\log_{1.3} N)$\n",
    "            - By change of base, we know that $\\log_{1.3} N$ can be expressed as  $\\frac{\\log N}{\\log 1.3}$\n",
    "            - Therefore, $O(N \\log_{1.3} N) = O(\\frac{N}{\\log{1.3}}) \\log N \\approx O(N \\log N)$\n",
    "\n",
    "    - In the average case\n",
    "        - This is a little handwavy, so treat it as such\n",
    "        - We know that $N^2$ inversions exist in a random array\n",
    "        - Also keep in mind that the distance between inversions matters a lot. Long distance inversions contribute disproportionately to the $N^2$ comparisons needed\n",
    "            - For example, in [5,4,3,2,1], swapping 5 and 1 resolves 4 inversions, while swapping 2 and 1 resolves 1 inversion\n",
    "            - Therefore, comb sort's efficiency comes from targeting these inversions early on\n",
    "        - So when we start by resolving long distance inversions, we perform fewer swaps per run, but resolve the more impactful inversions\n",
    "        - Using the same argument, resolving shorter distance inversions resolves more inversions, but less impactful ones.\n",
    "        - It can be empirically observed that inversion count decays exponentially, with ~half of all inversions resolved on average in each pass\n",
    "\n",
    "        - Hence, the complexity on average is $O(\\frac{n^2}{2^{\\log_{1.3} N }})$,\n",
    "\n",
    "- Space complexity\n",
    "    - Sort is in-place, so O(1) space needed"
   ]
  }
 ],
 "metadata": {
  "kernelspec": {
   "display_name": "dsa-prep-3dngTr8Z-py3.12",
   "language": "python",
   "name": "python3"
  },
  "language_info": {
   "codemirror_mode": {
    "name": "ipython",
    "version": 3
   },
   "file_extension": ".py",
   "mimetype": "text/x-python",
   "name": "python",
   "nbconvert_exporter": "python",
   "pygments_lexer": "ipython3",
   "version": "3.12.6"
  }
 },
 "nbformat": 4,
 "nbformat_minor": 2
}
