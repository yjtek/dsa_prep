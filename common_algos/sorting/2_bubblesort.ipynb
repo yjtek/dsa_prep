{
 "cells": [
  {
   "cell_type": "markdown",
   "metadata": {},
   "source": [
    "### Bubble Sort"
   ]
  },
  {
   "cell_type": "markdown",
   "metadata": {},
   "source": [
    "- The idea of bubble sort is to make multiple passes over the array from left to right\n",
    "    - Within each pass, keep track of current value and previous value\n",
    "    - If current value is smaller than previous value, swap current value and previous value\n",
    "    - Continue\n",
    "\n",
    "- From this process, at the end of the first pass, the last value of the array must be the largest value in the array\n",
    "    - Why? Because when we encounter the largest value, it will be larger than all subsequent values, and so it will be swapped to the last position\n",
    "\n",
    "- This is where bubble sort gets its name; at each iteration, the largest remaining value \"bubbles\" up to the end"
   ]
  },
  {
   "cell_type": "markdown",
   "metadata": {},
   "source": [
    "### Example"
   ]
  },
  {
   "cell_type": "markdown",
   "metadata": {},
   "source": [
    "- Let's take [1,6,2,7,3] as an example\n",
    "\n",
    "- first pass\n",
    "    - left=1, right=6\n",
    "        - left < right, continue\n",
    "\n",
    "    - left=6, right=2\n",
    "        - left > right, swap\n",
    "        - [1,2,6,7,3]\n",
    "\n",
    "    - left=6, right=7\n",
    "        - left < right, continue\n",
    "\n",
    "    - left=7, right=2\n",
    "        - left > right, swap\n",
    "        - [1,2,6,3,7]\n",
    "\n",
    "- second pass\n",
    "    - left=1, right=2\n",
    "        - left < right, continue\n",
    "\n",
    "    - left=2, right=6\n",
    "        - left < right, continue\n",
    "        \n",
    "    - left=6, right=3\n",
    "        - left > right, swap\n",
    "        - [1,2,3,6,7]\n",
    "\n",
    "    - left=6, right=7\n",
    "        - left < right, continue\n",
    "        \n",
    "- third pass\n",
    "    - left=1, right=2\n",
    "        - left < right, continue\n",
    "\n",
    "    - left=2, right=3\n",
    "        - left < right, continue\n",
    "        \n",
    "    - left=3, right=6\n",
    "        - left < right, continue\n",
    "\n",
    "    - left=6, right=7\n",
    "        - left < right, continue\n",
    "\n",
    "    - No swaps, return"
   ]
  },
  {
   "cell_type": "markdown",
   "metadata": {},
   "source": [
    "### Code Implementation"
   ]
  },
  {
   "cell_type": "code",
   "execution_count": 2,
   "metadata": {},
   "outputs": [
    {
     "data": {
      "text/plain": [
       "[1, 2, 3, 6, 7]"
      ]
     },
     "execution_count": 2,
     "metadata": {},
     "output_type": "execute_result"
    }
   ],
   "source": [
    "def bubblesort(arr: list[int]) -> None:\n",
    "    for iter in range(len(arr)-1):\n",
    "        swap_found=False\n",
    "        i,j = 0,1\n",
    "        while j < (len(arr)-iter):\n",
    "            if arr[i] > arr[j]:\n",
    "                arr[i], arr[j] = arr[j], arr[i]\n",
    "                swap_found=True\n",
    "            i+=1\n",
    "            j+=1\n",
    "        if not swap_found:\n",
    "            return\n",
    "    \n",
    "arr = [1,6,2,7,3]\n",
    "bubblesort(arr)\n",
    "arr"
   ]
  },
  {
   "cell_type": "markdown",
   "metadata": {},
   "source": [
    "### Time Complexity"
   ]
  },
  {
   "cell_type": "markdown",
   "metadata": {},
   "source": [
    "- We make $n-1$ passes through the array at worst, this happens in $O(N)$\n",
    "\n",
    "- For each pass, we make at worst n-1-k swaps, where k is the number of iterations that we have done; this is done in $O(N)$ time\n",
    "\n",
    "- So overall time complexity is $O(N) * O(N) = O(N^2)$ due to nested loop "
   ]
  },
  {
   "cell_type": "markdown",
   "metadata": {},
   "source": []
  }
 ],
 "metadata": {
  "kernelspec": {
   "display_name": "dsa-prep-3dngTr8Z-py3.12",
   "language": "python",
   "name": "python3"
  },
  "language_info": {
   "codemirror_mode": {
    "name": "ipython",
    "version": 3
   },
   "file_extension": ".py",
   "mimetype": "text/x-python",
   "name": "python",
   "nbconvert_exporter": "python",
   "pygments_lexer": "ipython3",
   "version": "3.12.6"
  }
 },
 "nbformat": 4,
 "nbformat_minor": 2
}
