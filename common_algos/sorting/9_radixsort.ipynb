{
 "cells": [
  {
   "cell_type": "markdown",
   "metadata": {},
   "source": [
    "### Radix Sort"
   ]
  },
  {
   "cell_type": "markdown",
   "metadata": {},
   "source": [
    "- Idea\n",
    "    - The idea of Radix sort is quite simple; for all integers in the array, we sort them digit by digit\n",
    "        - If we sort from the right, then it is called \"Least significant digit\" (LSD) sort\n",
    "        - If we sort from the left, then it is called \"Most significant digit\" (MSD) sort\n",
    "\n",
    "- Since sorting happens digit-wise, we need to ensure that the digit sorting doesn't break the existing order of the array. That is, we need a stable sort\n",
    "    - Why is this important?\n",
    "    - Imagine we have an array [1,12,123,2,23,234]\n",
    "    - Let's start the sort\n",
    "        - Sort by rightmost value:\n",
    "            - [1,12,2,123,23,234]\n",
    "            - Notice that this is a stable sort; 12 comes before 2, even though the last value is 2 in both cases, because 12 appears first in the array\n",
    "        - Sort by next value:\n",
    "            - [1,2,12,123,23,234]\n",
    "            - Now it is clear why we must maintain the order of the existing array in the event of ties; because array is already sorted according to the previous digit\n",
    "            - That is, we dont want a situation where 2 gets placed before 1 even thought 1 came first; because 1 has a smaller first digit than 2!\n",
    "        - Sort by next value:\n",
    "            - [1,2,12,23,123,234]\n",
    "\n",
    "- Note that all values are assumed to be integers, and values are bounded to the numeric base they use\n",
    "    - for example, digit-wise comparison in a base-10 number can only range from 0-9\n",
    "    - Therefore, in such a case, we can use counting sort for its superior run time $O(N+K)$, where K=10 in a base 10 number system and N is the size of the input array"
   ]
  },
  {
   "cell_type": "markdown",
   "metadata": {},
   "source": [
    "### Example"
   ]
  },
  {
   "cell_type": "markdown",
   "metadata": {},
   "source": [
    "- Imagine we have an array [1,12,123,2,23,234]\n",
    "\n",
    "- Let's start the sort\n",
    "    - Sort by rightmost value:\n",
    "        - [1,12,2,123,23,234]\n",
    "        - Notice that this is a stable sort; 12 comes before 2, even though the last value is 2 in both cases, because 12 appears first in the array\n",
    "    - Sort by next value:\n",
    "        - [1,2,12,123,23,234]\n",
    "        - Now it is clear why we must maintain the order of the existing array in the event of ties; because array is already sorted according to the previous digit\n",
    "        - That is, we dont want a situation where 2 gets placed before 1 even thought 1 came first; because 1 has a smaller first digit than 2!\n",
    "    - Sort by next value:\n",
    "        - [1,2,12,23,123,234]"
   ]
  },
  {
   "cell_type": "markdown",
   "metadata": {},
   "source": [
    "### Code Implementation"
   ]
  },
  {
   "cell_type": "code",
   "execution_count": 23,
   "metadata": {},
   "outputs": [
    {
     "data": {
      "text/plain": [
       "[1, 2, 12, 23, 123, 234]"
      ]
     },
     "execution_count": 23,
     "metadata": {},
     "output_type": "execute_result"
    }
   ],
   "source": [
    "arr = [1,12,123,2,23,234]\n",
    "\n",
    "def count_sort(arr: list[str], index: int):    \n",
    "    digit_count = [0] * 10\n",
    "    \n",
    "    for val in arr:\n",
    "        digit_count[int(val[index])] += 1\n",
    "    \n",
    "    digit_count_cumulative = digit_count.copy()\n",
    "    for i in range(1, len(digit_count)):\n",
    "        digit_count_cumulative[i] = digit_count_cumulative[i] + digit_count_cumulative[i-1]\n",
    "\n",
    "    res: list[str] = [''] * len(arr)\n",
    "    for val in arr[::-1]:\n",
    "        val_pos = digit_count_cumulative[int(val[index])] - 1\n",
    "        res[val_pos] = str(val)\n",
    "        digit_count_cumulative[int(val[index])] -= 1\n",
    "\n",
    "    return res\n",
    "    \n",
    "def radix_sort(arr: list[int]):\n",
    "    max_len_digit = max([int(math.log(x, 10)//1 + 1) for x in arr])\n",
    "    res = [str(x).rjust(max_len_digit, '0') for x in arr]\n",
    "\n",
    "    for i in range(max_len_digit-1, -1, -1):\n",
    "        res = count_sort(res, i)\n",
    "\n",
    "    return [int(x) for x in res]\n",
    "\n",
    "radix_sort(arr)"
   ]
  },
  {
   "cell_type": "markdown",
   "metadata": {},
   "source": [
    "### Time Complexity"
   ]
  },
  {
   "cell_type": "markdown",
   "metadata": {},
   "source": [
    "- Time complexity\n",
    "    - Iterate through every digit position. If the largest digit in the input array has length $D$, we iterate $D$ times\n",
    "\n",
    "    - For each of $D$ iterations, we do a count sort, which runs in $O(N+K)$ time\n",
    "        - $N$ refers to the number of values in the input array\n",
    "        - $K$ refers to the number of possible digits we need to count. In a base 10 number, this $K = 10$\n",
    "\n",
    "    - So overall time complexity is $O(D * N(+K))$\n",
    "\n",
    "- We use $N+K$ extra space for each of the sorts, so space complexity is $O(N+K)$"
   ]
  }
 ],
 "metadata": {
  "kernelspec": {
   "display_name": "dsa-prep-3dngTr8Z-py3.12",
   "language": "python",
   "name": "python3"
  },
  "language_info": {
   "codemirror_mode": {
    "name": "ipython",
    "version": 3
   },
   "file_extension": ".py",
   "mimetype": "text/x-python",
   "name": "python",
   "nbconvert_exporter": "python",
   "pygments_lexer": "ipython3",
   "version": "3.12.6"
  }
 },
 "nbformat": 4,
 "nbformat_minor": 2
}
