{
 "cells": [
  {
   "cell_type": "markdown",
   "metadata": {},
   "source": [
    "### Tim Sort"
   ]
  },
  {
   "cell_type": "markdown",
   "metadata": {},
   "source": [
    "- This is a hybrid sorting function; that is, it is made up of a multiple sorting functions combined\n",
    "    - This is the algorithm used natively by Python in its `sorted()` method\n",
    "    - There are optimisations built into the Python version (e.g. galloping mode) which I will not cover in this notebook\n",
    "\n",
    "- The idea of Timsort is quite simple\n",
    "    - Divide the array into subarrays of predefined sizes $n$.\n",
    "        - These are known as **runs**, and $N$ is the **run size**\n",
    "    - For each small subarray, perform `insertion_sort()` \n",
    "    - Then do `merge_sort()` across all sorted subarrays"
   ]
  },
  {
   "cell_type": "markdown",
   "metadata": {},
   "source": [
    "### Example"
   ]
  },
  {
   "cell_type": "markdown",
   "metadata": {},
   "source": [
    "- Let's assume we have array [20, 0, 19, 1, 18, ...]\n",
    "\n",
    "- We split arrays into groups of 5\n",
    "    - [20, 1, 19, 2, 18]\n",
    "    - [3, 17, 4, 16, 5]\n",
    "    - [15, 6, 14, 7, 13]\n",
    "    - [8, 12, 9, 11, 10]\n",
    "\n",
    "- Insertion sort is performed on each array:\n",
    "    - [1, 2, 18, 19, 20]\n",
    "    - [3, 4, 5, 16, 17]\n",
    "    - [6, 7, 13, 14, 15]\n",
    "    - [8, 9, 10, 11, 12]\n",
    "\n",
    "- Then merge sort on subarray pairs\n",
    "    - [1, 2, 3, 4, 5, 16, 17, 18, 19, 20]\n",
    "    - [6, 7, 8, 9, 10, 11, 12, 13, 14, 15]\n",
    "    - ...\n",
    "\n",
    "- Return sorted array"
   ]
  },
  {
   "cell_type": "markdown",
   "metadata": {},
   "source": [
    "### Code Implementation"
   ]
  },
  {
   "cell_type": "markdown",
   "metadata": {},
   "source": [
    "- See `merge_sort()` and `insertion_sort()` implementations"
   ]
  },
  {
   "cell_type": "markdown",
   "metadata": {},
   "source": [
    "### Time Complexity"
   ]
  },
  {
   "cell_type": "markdown",
   "metadata": {},
   "source": [
    "- The optimised time complexity of `TimSort` actually comes from the optimisations built into the algorithm\n",
    "\n",
    "- Optimisations\n",
    "    1. Detection of ascending and descending runs. \n",
    "        - If a stretch of descending data is detected, `TimSort` reverses the array before attempting the insertion sort, which avoids the worst of insertion sort's performance\n",
    "    2. Galloping Mode (Binary Search Insertions)\n",
    "        - This happens during the \"merge\" step\n",
    "        - When `TimSort` detects that many elements are coming from one run, it skips over multiple elements of the run when comparing elements, and this reduces the number of comparisons made during the actual `merge` step\n",
    "        - The skips are handled by binary search\n",
    "    3. Adaptive Merging\n",
    "        - You don't always run `merge` on adjacent runs; rather, you choose runs to merge based on maintaining approimately equal sized runs\n",
    "    4. Insertion Sort for Smaller Arrays\n",
    "        - To avoid overhead, when the number of items to sort is small, TimSort uses insertion sort\n",
    "    \n",
    "\n",
    "- Taking all of the optimisations together, `TimSort` has the following complexities\n",
    "    - Best case\n",
    "        - $O(N)$ time and $O(N)$ space\n",
    "    - Worst case\n",
    "        - $O(N \\log N)$ time and $O(N)$ space\n",
    "    - Average case\n",
    "        - $O(N \\log N)$ time and $O(N)$ space\n",
    "    "
   ]
  }
 ],
 "metadata": {
  "kernelspec": {
   "display_name": "dsa-prep-3dngTr8Z-py3.12",
   "language": "python",
   "name": "python3"
  },
  "language_info": {
   "codemirror_mode": {
    "name": "ipython",
    "version": 3
   },
   "file_extension": ".py",
   "mimetype": "text/x-python",
   "name": "python",
   "nbconvert_exporter": "python",
   "pygments_lexer": "ipython3",
   "version": "3.12.6"
  }
 },
 "nbformat": 4,
 "nbformat_minor": 2
}
