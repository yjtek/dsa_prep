{
 "cells": [
  {
   "cell_type": "markdown",
   "metadata": {},
   "source": [
    "### Introspective Sort"
   ]
  },
  {
   "cell_type": "markdown",
   "metadata": {},
   "source": [
    "- This is a hybrid sorting algorithm, combining `InsertionSort`, `Quicksort` and `Heapsort`\n",
    "\n",
    "- Procedure overview\n",
    "    - When array is small, use `Insertionsort`\n",
    "    - Else, use `QuickSort` until it exceeds some recursion depth\n",
    "    - If recursion depth exceeds some threshold, use `HeapSort`"
   ]
  },
  {
   "cell_type": "markdown",
   "metadata": {},
   "source": [
    "### Example"
   ]
  },
  {
   "cell_type": "markdown",
   "metadata": {},
   "source": [
    "### Code Implementation"
   ]
  },
  {
   "cell_type": "markdown",
   "metadata": {},
   "source": [
    "### Time Complexity"
   ]
  },
  {
   "cell_type": "markdown",
   "metadata": {},
   "source": [
    "- $O(N \\log N)$ time \n",
    "- $O(\\log N)$ space from the recursion stack"
   ]
  }
 ],
 "metadata": {
  "language_info": {
   "name": "python"
  }
 },
 "nbformat": 4,
 "nbformat_minor": 2
}
