{
 "cells": [
  {
   "cell_type": "markdown",
   "metadata": {},
   "source": [
    "### Insertion Sort"
   ]
  },
  {
   "cell_type": "markdown",
   "metadata": {},
   "source": [
    "- This is kind of like selection sort \n",
    "    - Recall that in selection sort, we run through the array at each iteration, and put the minimum value in the correct position\n",
    "\n",
    "- In this case, instead of running through the array and placing the minimum the correct spot and gradually shrinking the array, we start with the first element and gradually increase the size of the array, placing the `i-th` element at the correct spot in each iteration"
   ]
  },
  {
   "cell_type": "markdown",
   "metadata": {},
   "source": [
    "### Example"
   ]
  },
  {
   "cell_type": "markdown",
   "metadata": {},
   "source": [
    "- Let array be [1,6,2,7,3]\n",
    "\n",
    "- Start by looking at [1]\n",
    "    - By definition, it is in the right spot, since the array has size 1\n",
    "\n",
    "- Look at [1,6]\n",
    "    - This array is ordered\n",
    "\n",
    "- Look at [1,6,2]\n",
    "    - We know that [1,6] is ordered. So we need to put 2 in the right position\n",
    "    - 2 < 6, so swap 2 and 6\n",
    "    - [1,2,6]\n",
    "\n",
    "- Look at [1,2,6,7]\n",
    "    - Ordered\n",
    "\n",
    "- Look at [1,2,6,7,3]\n",
    "    - Swap 3 and 7, [1,2,6,3,7]\n",
    "    - Swap 3 and 6, [1,2,3,6,7]\n",
    "\n",
    "- End"
   ]
  },
  {
   "cell_type": "markdown",
   "metadata": {},
   "source": [
    "### Code Implementation"
   ]
  },
  {
   "cell_type": "code",
   "execution_count": 1,
   "metadata": {},
   "outputs": [
    {
     "data": {
      "text/plain": [
       "[1, 2, 3, 6, 7]"
      ]
     },
     "execution_count": 1,
     "metadata": {},
     "output_type": "execute_result"
    }
   ],
   "source": [
    "def insertionsort(arr: list[int]):\n",
    "    for i in range(1,len(arr)):\n",
    "        j = i\n",
    "        while (j >= 1) and (arr[j] < arr[j-1]):\n",
    "            arr[j], arr[j-1] = arr[j-1], arr[j]\n",
    "            j -= 1\n",
    "\n",
    "arr = [1,6,2,7,3]\n",
    "insertionsort(arr)\n",
    "arr"
   ]
  },
  {
   "cell_type": "markdown",
   "metadata": {},
   "source": [
    "### Time Complexity"
   ]
  },
  {
   "cell_type": "markdown",
   "metadata": {},
   "source": [
    "- We iterate through all indices of the array in $O(N)$\n",
    "\n",
    "- At each index $i$, in the worst case (where the input is in reverse order), we need to make $i$ swaps. This is also $O(N)$\n",
    "\n",
    "- So overall time complexity is $O(N^2)$\n",
    "\n"
   ]
  }
 ],
 "metadata": {
  "kernelspec": {
   "display_name": "dsa-prep-3dngTr8Z-py3.12",
   "language": "python",
   "name": "python3"
  },
  "language_info": {
   "codemirror_mode": {
    "name": "ipython",
    "version": 3
   },
   "file_extension": ".py",
   "mimetype": "text/x-python",
   "name": "python",
   "nbconvert_exporter": "python",
   "pygments_lexer": "ipython3",
   "version": "3.12.6"
  }
 },
 "nbformat": 4,
 "nbformat_minor": 2
}
