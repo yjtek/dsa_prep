{
 "cells": [
  {
   "cell_type": "markdown",
   "metadata": {},
   "source": [
    "### Tree Sort"
   ]
  },
  {
   "cell_type": "markdown",
   "metadata": {},
   "source": [
    "- Given an array, tree sort adds elements into a binary search tree \n",
    "\n",
    "- Next, perform in-order traversal and return items in sorted order\n",
    "\n",
    "- The difficulty here comes from building and popping from a BST while maintaining a BST structure"
   ]
  },
  {
   "cell_type": "markdown",
   "metadata": {},
   "source": [
    "### Example"
   ]
  },
  {
   "cell_type": "markdown",
   "metadata": {},
   "source": [
    "- Let `arr = [1,6,2,7,3]`\n",
    "\n",
    "- We define a function called `insert_to_tree(value)` that adds an element to the tree. Tree will be built recursively\n",
    "\n",
    "- Then, in-order traversal will give us `1,2,3,6,7`\n",
    "\n",
    "- **NOTE**\n",
    "    - Since the tree is built recursively, permutations of the same array can lead to different trees\n",
    "    - While in-order traversal will always give us a sorted array, it might be better to use more complex structures than BSTs, because you can end up with very skewed trees in the BST case\n",
    "        - For instance, AVL trees will offer self balancing feature"
   ]
  },
  {
   "cell_type": "markdown",
   "metadata": {},
   "source": [
    "### Code Implementation"
   ]
  },
  {
   "cell_type": "code",
   "execution_count": 20,
   "metadata": {},
   "outputs": [
    {
     "name": "stdout",
     "output_type": "stream",
     "text": [
      "1\n",
      "2\n",
      "3\n",
      "6\n",
      "7\n"
     ]
    }
   ],
   "source": [
    "from typing import Optional\n",
    "\n",
    "## Define a node to have a value attribute, and contain a left and right child\n",
    "class Node: \n",
    "  def __init__(self, val: int): \n",
    "    self.val = val \n",
    "    self.left = None\n",
    "    self.right = None\n",
    "\n",
    "## To insert a value into a BST, \n",
    "def insert_val_to_bst(root_node: Optional[Node], val: int):\n",
    "    if not root_node:\n",
    "        return Node(val)\n",
    "\n",
    "    if val < root_node.val:\n",
    "        root_node.left = insert_val_to_bst(root_node.left, val)\n",
    "    elif val > root_node.val:\n",
    "        root_node.right = insert_val_to_bst(root_node.right, val)\n",
    "    \n",
    "    return root_node\n",
    "            \n",
    "def build_tree(arr: list[int]) -> None:\n",
    "    root = None\n",
    "    if not arr:\n",
    "        raise ValueError('len(arr) should be at least 1')\n",
    "    for val in arr: \n",
    "        root = insert_val_to_bst(root, val)\n",
    "    return root\n",
    "        \n",
    "def in_order_traversal(root: Node):\n",
    "    if not root:\n",
    "        return\n",
    "    \n",
    "    if root.left:\n",
    "        in_order_traversal(root.left)\n",
    "    print(root.val)\n",
    "\n",
    "    if root.right:\n",
    "        in_order_traversal(root.right)\n",
    "\n",
    "root = build_tree([1,6,2,7,3])\n",
    "in_order_traversal(root)"
   ]
  },
  {
   "cell_type": "markdown",
   "metadata": {},
   "source": [
    "### Time Complexity"
   ]
  },
  {
   "cell_type": "markdown",
   "metadata": {},
   "source": [
    "- Time complexity\n",
    "    - Average case\n",
    "        - Adding an item to the BST takes $O(\\log N)$ time, because we are halving the search space each time we traverse 1 level of the tree\n",
    "        - So adding $N$ items will take $O(N \\log N)$ time\n",
    "\n",
    "    - Worst case\n",
    "        - In the worst case where the BST is extremely skewed, we end up traversing the full $N$ items to find the right place for the new element\n",
    "        - In this case, we incur $O(N)$ time for the insert, and $N$ items, giving us $O(N^2)$\n",
    "\n",
    "- Space complexity\n",
    "    - We have $O(N)$ space from building the tree\n",
    "\n"
   ]
  }
 ],
 "metadata": {
  "kernelspec": {
   "display_name": "dsa-prep-3dngTr8Z-py3.12",
   "language": "python",
   "name": "python3"
  },
  "language_info": {
   "codemirror_mode": {
    "name": "ipython",
    "version": 3
   },
   "file_extension": ".py",
   "mimetype": "text/x-python",
   "name": "python",
   "nbconvert_exporter": "python",
   "pygments_lexer": "ipython3",
   "version": "3.12.6"
  }
 },
 "nbformat": 4,
 "nbformat_minor": 2
}
