{
 "cells": [
  {
   "cell_type": "markdown",
   "metadata": {},
   "source": [
    "## Main"
   ]
  },
  {
   "cell_type": "markdown",
   "metadata": {},
   "source": [
    "- The idea here is that we're traversing both trees at the same time\n",
    "\n",
    "- When both nodes exist, sum them\n",
    "\n",
    "- When one side exists but the other doesn't, we just append the node\n",
    "\n",
    "- This runs in $O(\\max(m,n))$ time \n",
    "\n",
    "- You can recursively run the mergeTrees algorithm, or iteratively do it.\n",
    "\n",
    "- Both will require $O(\\log(\\max(m,n)))$ space for a balanced tree, and $O(\\max(m,n))$ in the worst case for an unbalanced one (e.g. all branches go to left)"
   ]
  },
  {
   "cell_type": "code",
   "execution_count": 22,
   "metadata": {},
   "outputs": [],
   "source": [
    "from typing import Optional\n",
    "from collections import deque\n",
    "\n",
    "# Definition for a binary tree node.\n",
    "class TreeNode:\n",
    "    def __init__(self, val=0, left=None, right=None):\n",
    "        self.val = val\n",
    "        self.left = left\n",
    "        self.right = right\n",
    "\n",
    "class Solution:\n",
    "    def mergeTrees(self, root1: Optional[TreeNode], root2: Optional[TreeNode]) -> Optional[TreeNode]:\n",
    "        '''\n",
    "        Iterative solution\n",
    "        '''\n",
    "        if not root1 and not root2:\n",
    "            return None\n",
    "        elif not root2:\n",
    "            return root1\n",
    "        elif not root1:\n",
    "            return root2\n",
    "\n",
    "        queue = deque([(root1, root2)])\n",
    "\n",
    "        while queue:\n",
    "            n1, n2 = queue.popleft()\n",
    "            if not n1 and not n2:\n",
    "                return None\n",
    "\n",
    "            n1.val += n2.val\n",
    "            \n",
    "            if n1.left and n2.left:\n",
    "                queue.append((n1.left, n2.left))\n",
    "            elif n2.left:\n",
    "                n1.left = n2.left\n",
    "            elif n1.left:\n",
    "                ...\n",
    "\n",
    "            if n1.right and n2.right:\n",
    "                queue.append((n1.right, n2.right))\n",
    "            elif n2.right:\n",
    "                n1.right = n2.right\n",
    "            elif n1.right:\n",
    "                ...\n",
    "\n",
    "        return root1\n",
    "    \n",
    "    def mergeTrees_recursive(self, root1: Optional[TreeNode], root2: Optional[TreeNode]) -> Optional[TreeNode]:\n",
    "        '''\n",
    "        Recursive solution\n",
    "        '''\n",
    "        if not root1 and not root2:\n",
    "            return None\n",
    "        elif not root2:\n",
    "            return root1\n",
    "        elif not root1:\n",
    "            return root2\n",
    "        elif root1 and root2:\n",
    "            root1.val += root2.val\n",
    "            root1.left = self.mergeTrees_recursive(root1.left, root2.left)\n",
    "            root1.right = self.mergeTrees_recursive(root1.right, root2.right)\n",
    "            return root1\n",
    "\n"
   ]
  },
  {
   "cell_type": "code",
   "execution_count": 24,
   "metadata": {},
   "outputs": [
    {
     "name": "stdout",
     "output_type": "stream",
     "text": [
      "3 4 5 5 4 7\n"
     ]
    }
   ],
   "source": [
    "t1_1=TreeNode(1)\n",
    "t1_2=TreeNode(3)\n",
    "t1_3=TreeNode(2)\n",
    "t1_4=TreeNode(5)\n",
    "t1_1.left = t1_2\n",
    "t1_1.right = t1_3\n",
    "t1_2.left = t1_4\n",
    "\n",
    "t2_1=TreeNode(2)\n",
    "t2_2=TreeNode(1)\n",
    "t2_3=TreeNode(3)\n",
    "t2_4=None\n",
    "t2_5=TreeNode(4)\n",
    "t2_6=None\n",
    "t2_7=TreeNode(7)\n",
    "t2_1.left = t2_2\n",
    "t2_1.right = t2_3\n",
    "t2_2.left = t2_4\n",
    "t2_2.right = t2_5\n",
    "t2_3.left = t2_6\n",
    "t2_3.right = t2_7\n",
    "\n",
    "soln = Solution()\n",
    "# soln.mergeTrees(t1_1, t2_1)\n",
    "soln.mergeTrees_recursive(t1_1, t2_1)\n",
    "\n",
    "print(\n",
    "    t1_1.val,\n",
    "    t1_1.left.val,\n",
    "    t1_1.right.val,\n",
    "    t1_1.left.left.val,\n",
    "    t1_1.left.right.val,\n",
    "    # t1_1.right.left.val,\n",
    "    t1_1.right.right.val,\n",
    ")"
   ]
  },
  {
   "cell_type": "markdown",
   "metadata": {},
   "source": [
    "## Review"
   ]
  },
  {
   "cell_type": "markdown",
   "metadata": {},
   "source": [
    "- You managed both the iterative and recursive solutions quite quickly, which is pretty good\n",
    "\n",
    "- There was a minor kerfuffle with the iterative solution due to the check for existance of left and right branches, but you resolved it quite speedily compared to your previous attempts."
   ]
  }
 ],
 "metadata": {
  "kernelspec": {
   "display_name": "dsa_prep",
   "language": "python",
   "name": "python3"
  },
  "language_info": {
   "codemirror_mode": {
    "name": "ipython",
    "version": 3
   },
   "file_extension": ".py",
   "mimetype": "text/x-python",
   "name": "python",
   "nbconvert_exporter": "python",
   "pygments_lexer": "ipython3",
   "version": "3.10.13"
  }
 },
 "nbformat": 4,
 "nbformat_minor": 2
}
