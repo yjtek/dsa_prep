{
 "cells": [
  {
   "cell_type": "markdown",
   "metadata": {},
   "source": [
    "## Main"
   ]
  },
  {
   "cell_type": "markdown",
   "metadata": {},
   "source": [
    "- It is always possible to put $n$ queens on an $n \\times n$ board so long as $n >= 4$\n",
    "\n",
    "- The idea of this soluion is to do backtracking, while maintaining a \"no go\" zone where new queens cannot be placed\n",
    "\n",
    "- No go zones are maintained in 3 sets\n",
    "\t- Check for row\n",
    "\t- Check for +ve diagonal \n",
    "\t\t- In the positive diagonal, row+column will give unique values, so we use this as an identifier (numbering from top left)\n",
    "\t\t\t- (0,0)\n",
    "\t\t\t- (1,0), (0,1)\n",
    "\t\t\t- (2,0), (1,1), (0,2)\n",
    "\t\t\t- ...\n",
    "\t- Check for -ve diagonal\n",
    "\t\t- In the negative diagonal, row-column with give unique values, so we use this as an identifier (numbering from top left)\n",
    "\t\t\t- (0,4)\n",
    "\t\t\t- (0,3), (1,4)\n",
    "\t\t\t- (0,2), (1,3), (2,4)\n",
    "\t\t\t- ...\n",
    "  \n",
    "- You don't need to worry about columns; you just need to ensure that you iterate over all columns so no 2 queens are placed in the same col"
   ]
  },
  {
   "cell_type": "code",
   "execution_count": null,
   "metadata": {},
   "outputs": [
    {
     "data": {
      "text/plain": [
       "[[1, 3, 0, 2], [2, 0, 3, 1]]"
      ]
     },
     "execution_count": 1,
     "metadata": {},
     "output_type": "execute_result"
    }
   ],
   "source": [
    "def my_nqueens(n: int) -> list[int]:\n",
    "    res = []\n",
    "    interim = []\n",
    "    col_used = set()\n",
    "    pos_diag_used = set()\n",
    "    neg_diag_used = set()\n",
    "\n",
    "    def backtrack(rowindex: int):\n",
    "        nonlocal interim\n",
    "        if rowindex == n:\n",
    "            res.append(interim.copy())\n",
    "            return\n",
    "    \n",
    "        for colindex in range(n):\n",
    "            if (\n",
    "                (colindex in col_used) or\n",
    "                (colindex+rowindex in pos_diag_used) or\n",
    "                (colindex-rowindex in neg_diag_used)\n",
    "            ):\n",
    "                continue\n",
    "            \n",
    "            col_used.add(colindex)\n",
    "            pos_diag_used.add(colindex+rowindex)\n",
    "            neg_diag_used.add(colindex-rowindex)\n",
    "            \n",
    "            interim.append(colindex)\n",
    "            backtrack(rowindex+1)\n",
    "\n",
    "            col_used.remove(colindex)\n",
    "            pos_diag_used.remove(colindex+rowindex)\n",
    "            neg_diag_used.remove(colindex-rowindex)\n",
    "            interim.pop()\n",
    "    \n",
    "    backtrack(0)\n",
    "    return res\n",
    "    \n",
    "my_nqueens(4)"
   ]
  },
  {
   "cell_type": "code",
   "execution_count": 19,
   "metadata": {},
   "outputs": [
    {
     "data": {
      "text/plain": [
       "[[1, 3, 2, 1], [2, 3, 2, 1], [3, 3, 2, 1]]"
      ]
     },
     "execution_count": 19,
     "metadata": {},
     "output_type": "execute_result"
    }
   ],
   "source": [
    "test = [[1],[2],[3]]\n",
    "\n",
    "def recursive_append(l: list, n: int):\n",
    "    if n == 0:\n",
    "        return\n",
    "    \n",
    "    l.append(n)\n",
    "    recursive_append(l, n-1)\n",
    "\n",
    "\n",
    "for t in test:\n",
    "    recursive_append(t, 3)\n",
    "\n",
    "test"
   ]
  },
  {
   "cell_type": "code",
   "execution_count": 27,
   "metadata": {},
   "outputs": [
    {
     "data": {
      "text/plain": [
       "[[3, 1, 4, 2, 0],\n",
       " [2, 4, 1, 3, 0],\n",
       " [4, 2, 0, 3, 1],\n",
       " [3, 0, 2, 4, 1],\n",
       " [4, 1, 3, 0, 2],\n",
       " [0, 3, 1, 4, 2],\n",
       " [1, 4, 2, 0, 3],\n",
       " [0, 2, 4, 1, 3],\n",
       " [2, 0, 3, 1, 4],\n",
       " [1, 3, 0, 2, 4]]"
      ]
     },
     "execution_count": 27,
     "metadata": {},
     "output_type": "execute_result"
    }
   ],
   "source": [
    "def my_nqueens_recursive(n: int):\n",
    "    def backtrack(queens_remaining: int):\n",
    "        # print(f\"backtrack(queens_remaining={queens_remaining})\")\n",
    "        if queens_remaining == 0:\n",
    "            return [[]]\n",
    "        \n",
    "        res = []\n",
    "        for candidate_set in backtrack(queens_remaining-1):\n",
    "            for candidate_col in range(n):\n",
    "                if can_add_col_to_set(candidate_col, 1, candidate_set):\n",
    "                    updated_candidate_set = [candidate_col] + candidate_set\n",
    "                    res.append(updated_candidate_set)\n",
    "        \n",
    "        # print(res)\n",
    "        return res\n",
    "        \n",
    "    def can_add_col_to_set(candidate_col: int, delta: int, candidate_set: list[int]) -> bool:\n",
    "        # print(f\"can_add_col_to_set(candidate_col={candidate_col}, delta={delta}, candidate_set={candidate_set})\")\n",
    "        # print(f\"not candidate_set: {not candidate_set}\")\n",
    "        if not candidate_set:\n",
    "            return True\n",
    "        \n",
    "        is_valid_col = (\n",
    "            (candidate_col in candidate_set) or\n",
    "            (abs(candidate_col - candidate_set[0]) == delta) or\n",
    "            (not can_add_col_to_set(candidate_col, delta+1, candidate_set[1:]))\n",
    "        )\n",
    "        \n",
    "        if is_valid_col:\n",
    "            # print('  ...candidate invalid')\n",
    "            return False\n",
    "        return True\n",
    "    \n",
    "    return backtrack(n)\n",
    "        \n",
    "my_nqueens_recursive(5)"
   ]
  }
 ],
 "metadata": {
  "kernelspec": {
   "display_name": "dsa_prep",
   "language": "python",
   "name": "python3"
  },
  "language_info": {
   "codemirror_mode": {
    "name": "ipython",
    "version": 3
   },
   "file_extension": ".py",
   "mimetype": "text/x-python",
   "name": "python",
   "nbconvert_exporter": "python",
   "pygments_lexer": "ipython3",
   "version": "3.10.13"
  }
 },
 "nbformat": 4,
 "nbformat_minor": 2
}
