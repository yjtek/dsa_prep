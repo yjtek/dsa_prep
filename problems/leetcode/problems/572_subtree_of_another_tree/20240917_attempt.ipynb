{
 "cells": [
  {
   "cell_type": "markdown",
   "metadata": {},
   "source": [
    "## Main"
   ]
  },
  {
   "cell_type": "markdown",
   "metadata": {},
   "source": [
    "- Note: Question is asking for same structure and node values, NOT the same nodes\n",
    "\n",
    "- BFS traverse from `root`\n",
    "    - queue = deque()\n",
    "    - queue.add(root)\n",
    "    - while queue\n",
    "        - curr = queue.popleft()\n",
    "        - if curr.val == subRoot.val\n",
    "            - DFS\n",
    "        - queue.add(curr.left)\n",
    "        - queue.add(curr.right)\n",
    "\n",
    "- In the worst case, BFS takes $O(N)$, and DFS takes $O(\\log N)$, which gives $O(N \\log N)$ time complexity. DFS takes up $O(\\log N)$ stack memory, hence it takes $O(\\log N)$ space  "
   ]
  },
  {
   "cell_type": "code",
   "execution_count": 73,
   "metadata": {},
   "outputs": [],
   "source": [
    "from typing import Optional\n",
    "from collections import deque\n",
    "\n",
    "# Definition for a binary tree node.\n",
    "class TreeNode:\n",
    "    def __init__(self, val=0, left=None, right=None):\n",
    "        self.val = val\n",
    "        self.left = left\n",
    "        self.right = right\n",
    "\n",
    "class Solution:\n",
    "    def matchTree_recursive(self, root, subRoot) -> bool:\n",
    "        if root.val != subRoot.val:\n",
    "            return False\n",
    "        \n",
    "        match_left, match_right = False, False\n",
    "\n",
    "        if root.left and subRoot.left:\n",
    "            match_left = self.matchTree_recursive(root.left, subRoot.left)\n",
    "        elif not root.left and not subRoot.left:\n",
    "            match_left = True\n",
    "        else:\n",
    "            return False\n",
    "        \n",
    "        if root.right and subRoot.right:\n",
    "            match_right = self.matchTree_recursive(root.right, subRoot.right)\n",
    "        elif not root.right and not subRoot.right:\n",
    "            match_right = True\n",
    "        else:\n",
    "            return False\n",
    "        \n",
    "        return match_left and match_right\n",
    "\n",
    "    def isSubtree(self, root: Optional[TreeNode], subRoot: Optional[TreeNode]) -> bool:        \n",
    "        \n",
    "        if not root:\n",
    "            return False\n",
    "        \n",
    "        if not subRoot:\n",
    "            return False\n",
    "        \n",
    "        queue = deque([root])\n",
    "\n",
    "        while queue:\n",
    "            curr = queue.popleft()\n",
    "            if (curr.val == subRoot.val):\n",
    "                \n",
    "                match_left = False\n",
    "                if curr.left and subRoot.left:\n",
    "                    match_left = self.matchTree_recursive(curr.left, subRoot.left)\n",
    "                elif not curr.left and not subRoot.left:\n",
    "                    match_left=True\n",
    "                \n",
    "                match_right=False\n",
    "                if curr.right and subRoot.right:\n",
    "                    match_right = self.matchTree_recursive(curr.right, subRoot.right)\n",
    "                elif not curr.right and not subRoot.right:\n",
    "                    match_right=True\n",
    "\n",
    "\n",
    "                if (match_left and match_right):\n",
    "                    return True\n",
    "                                \n",
    "            queue.append(curr.left) if curr.left else ...\n",
    "            queue.append(curr.right) if curr.right else ...\n",
    "        \n",
    "        return False"
   ]
  },
  {
   "cell_type": "code",
   "execution_count": 72,
   "metadata": {},
   "outputs": [
    {
     "data": {
      "text/plain": [
       "False"
      ]
     },
     "execution_count": 72,
     "metadata": {},
     "output_type": "execute_result"
    }
   ],
   "source": [
    "one = TreeNode(val=3)\n",
    "two = TreeNode(val=4)\n",
    "three = TreeNode(val=5)\n",
    "four = TreeNode(val=1)\n",
    "five = None\n",
    "six = TreeNode(val=2)\n",
    "\n",
    "one.left = two\n",
    "one.right = three\n",
    "two.left=four\n",
    "two.right=five\n",
    "three.left=six\n",
    "\n",
    "subone = TreeNode(3)\n",
    "subtwo = TreeNode(1)\n",
    "subthree = TreeNode(2)\n",
    "subone.left = subtwo\n",
    "subone.right = subthree\n",
    "\n",
    "soln = Solution()\n",
    "soln.isSubtree(one, subone)"
   ]
  },
  {
   "cell_type": "code",
   "execution_count": 69,
   "metadata": {},
   "outputs": [
    {
     "data": {
      "text/plain": [
       "False"
      ]
     },
     "execution_count": 69,
     "metadata": {},
     "output_type": "execute_result"
    }
   ],
   "source": [
    "one = TreeNode(val=3)\n",
    "two = TreeNode(val=4)\n",
    "three = TreeNode(val=5)\n",
    "four = TreeNode(val=1)\n",
    "five = TreeNode(val=2)\n",
    "six = None\n",
    "seven = None\n",
    "eight = None\n",
    "nine = None\n",
    "ten = TreeNode(val=0)\n",
    "\n",
    "one.left = two\n",
    "one.right = three\n",
    "two.left=four\n",
    "two.right=five\n",
    "three.left=six\n",
    "three.right=seven\n",
    "four.left=eight\n",
    "four.right=nine\n",
    "five.left=ten\n",
    "\n",
    "subone = TreeNode(4)\n",
    "subtwo = TreeNode(1)\n",
    "subthree = TreeNode(2)\n",
    "subone.left = subtwo\n",
    "subone.right = subthree\n",
    "\n",
    "soln = Solution()\n",
    "soln.isSubtree(one, subone)"
   ]
  },
  {
   "cell_type": "code",
   "execution_count": 70,
   "metadata": {},
   "outputs": [
    {
     "data": {
      "text/plain": [
       "True"
      ]
     },
     "execution_count": 70,
     "metadata": {},
     "output_type": "execute_result"
    }
   ],
   "source": [
    "one = TreeNode(val=3)\n",
    "two = TreeNode(val=4)\n",
    "three = TreeNode(val=5)\n",
    "four = TreeNode(val=1)\n",
    "five = TreeNode(val=2)\n",
    "\n",
    "one.left = two\n",
    "one.right = three\n",
    "two.left=four\n",
    "two.right=five\n",
    "\n",
    "subone = TreeNode(4)\n",
    "subtwo = TreeNode(1)\n",
    "subthree = TreeNode(2)\n",
    "subone.left = subtwo\n",
    "subone.right = subthree\n",
    "\n",
    "soln = Solution()\n",
    "soln.isSubtree(one, subone)"
   ]
  },
  {
   "cell_type": "markdown",
   "metadata": {},
   "source": [
    "## Review"
   ]
  },
  {
   "cell_type": "markdown",
   "metadata": {},
   "source": [
    "- Your code works, but is kind of more messy than it needs to be. Let's try to work in a better solution in the `solution.ipynb`"
   ]
  },
  {
   "cell_type": "markdown",
   "metadata": {},
   "source": []
  }
 ],
 "metadata": {
  "kernelspec": {
   "display_name": "dsa_prep",
   "language": "python",
   "name": "python3"
  },
  "language_info": {
   "codemirror_mode": {
    "name": "ipython",
    "version": 3
   },
   "file_extension": ".py",
   "mimetype": "text/x-python",
   "name": "python",
   "nbconvert_exporter": "python",
   "pygments_lexer": "ipython3",
   "version": "3.12.5"
  }
 },
 "nbformat": 4,
 "nbformat_minor": 2
}
