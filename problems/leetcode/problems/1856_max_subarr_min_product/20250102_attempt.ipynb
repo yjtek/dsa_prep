{
 "cells": [
  {
   "cell_type": "markdown",
   "metadata": {},
   "source": [
    "## Main"
   ]
  },
  {
   "cell_type": "markdown",
   "metadata": {},
   "source": [
    "- Can't really think of a smart way to do this, so we'll do the N^2 solution\n",
    "\n",
    "- Idea: \n",
    "    - Iterate through each value in the array\n",
    "    - Assume that this value is the minimum value; how far can we extend the array?\n",
    "    - Once it can no longer be extended, compute the sum-min product\n",
    "    - This solution is N^2, because we loop through the array once, and for each entry, potentially we loop through the whole array again\n"
   ]
  },
  {
   "cell_type": "code",
   "execution_count": 8,
   "metadata": {},
   "outputs": [
    {
     "data": {
      "text/plain": [
       "14.0"
      ]
     },
     "execution_count": 8,
     "metadata": {},
     "output_type": "execute_result"
    }
   ],
   "source": [
    "class Solution:\n",
    "    def maxSumMinProduct(self, nums: list[int]) -> int:\n",
    "        res = -float('inf')\n",
    "        for i, min_candidate in enumerate(nums):\n",
    "            l, r= i, i\n",
    "            while (r+1 < len(nums)) and (nums[r+1] >= min_candidate):\n",
    "                r+=1\n",
    "            while (l-1 >= 0) and (nums[l-1] >= min_candidate):\n",
    "                l-=1\n",
    "            \n",
    "            res = max(res, int((sum(nums[l:(r+1)]) * min_candidate) % (1e9+7)))\n",
    "        return res\n",
    "\n",
    "s = Solution()\n",
    "s.maxSumMinProduct([1,2,3,2])\n",
    "# s.maxSumMinProduct([2,3,3,1,2])\n",
    "# s.maxSumMinProduct([3,1,5,6,4,2])"
   ]
  },
  {
   "cell_type": "markdown",
   "metadata": {},
   "source": [
    "## Review"
   ]
  },
  {
   "cell_type": "markdown",
   "metadata": {},
   "source": [
    "- I expect this to TLE\n",
    "- Even if it doesn't, it's N^2. There's a bunch of repeated work that you're doing\n",
    "- This is actually super similar to `Leetcode 84. Largest Rectangle in Histogram`\n",
    "- See solution"
   ]
  }
 ],
 "metadata": {
  "kernelspec": {
   "display_name": "dsa-prep-3dngTr8Z-py3.12",
   "language": "python",
   "name": "python3"
  },
  "language_info": {
   "codemirror_mode": {
    "name": "ipython",
    "version": 3
   },
   "file_extension": ".py",
   "mimetype": "text/x-python",
   "name": "python",
   "nbconvert_exporter": "python",
   "pygments_lexer": "ipython3",
   "version": "3.12.8"
  }
 },
 "nbformat": 4,
 "nbformat_minor": 2
}
