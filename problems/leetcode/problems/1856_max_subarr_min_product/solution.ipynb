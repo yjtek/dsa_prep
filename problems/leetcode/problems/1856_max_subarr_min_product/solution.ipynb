{
 "cells": [
  {
   "cell_type": "markdown",
   "metadata": {},
   "source": [
    "## Main"
   ]
  },
  {
   "cell_type": "markdown",
   "metadata": {},
   "source": [
    "- VERY similar to `Leetcode 84. Largest Rectangle in Histogram`\n",
    "\n",
    "- Idea\n",
    "    - Whenever you see an ascending subarray (e.g. [1,2,3]), it always makes sense to extend it rightwards. Why? \n",
    "        - Imagine you are at [1,2]\n",
    "        - You know the next value is 3\n",
    "        - Adding 3 to the array increases the sum, but doesn't affect the minimum\n",
    "        - As such, sum * minval will always increase!\n",
    "    - Whenever there is a descending subarray (e.g. [3,2,1]), it may or may not make sense to extend the array. Why?\n",
    "        - Imagine you are at [3]. This gives a minval*sum = 3*3 = 9\n",
    "        - At [3,2], minval*sum = 2*5 = 10\n",
    "        - At [3,2,1], minval*sum = 1*6 = 6\n",
    "        - So when faced with a decreasing subarray, you just need to test both including and not including\n",
    "    - In a decreasing array, can we greedily conclude whether to include a value?\n",
    "        - Let's take [3,2,1,30] as an example, and exhaustively consider every possible subarray\n",
    "            - [3] --> 3*3=9\n",
    "            - [3,2] --> 2*5=10\n",
    "            - [3,2,1] --> 1*6=6\n",
    "            - [3,2,1,30] --> 1*36=36\n",
    "            - [2] --> 2*2=4\n",
    "            - [2,1] --> 1*3=3\n",
    "            - [2,1,30] --> 1*33=33\n",
    "            - [1] --> 1*1=1\n",
    "            - [1,30] --> 1*31=31\n",
    "            - [30] --> 30*30=900\n",
    "        - Let's take [7,6,5,8] as an example, and exhaustively consider every possible subarray\n",
    "            - [7] --> 49\n",
    "            - [7,6] --> 78\n",
    "            - [7,6,5] --> 90\n",
    "            - [7,6,5,8] --> 130\n",
    "            - [6] --> 36\n",
    "            - [6,5] --> 55\n",
    "            - [6,5,8] --> 95\n",
    "            - [5] --> 25\n",
    "            - [5,8] --> 65\n",
    "            - [8] --> 64\n",
    "        - So "
   ]
  },
  {
   "cell_type": "code",
   "execution_count": 8,
   "metadata": {},
   "outputs": [],
   "source": [
    "class Solution:\n",
    "    def maxSumMinProduct(self, nums: list[int]) -> int:\n",
    "        res=0\n",
    "        stack=[]\n",
    "        prefix=[0]\n",
    "        for n in nums:\n",
    "            prefix.append(prefix[-1] + n)\n",
    "        \n",
    "        for i, n in enumerate(nums):\n",
    "            new_start = i\n",
    "            while stack and stack[-1][1] > n:\n",
    "                start, val = stack.pop()\n",
    "                total = prefix[i] - prefix[start]\n",
    "                res = max(res, val*total)\n",
    "                new_start = start\n",
    "            stack.append((new_start, n))\n",
    "        \n",
    "        for start, val in stack:\n",
    "            total = prefix[len(nums)] - prefix[start]\n",
    "            res = max(res, val * total)\n",
    "\n",
    "        return int(res % (10**9 + 7))"
   ]
  },
  {
   "cell_type": "code",
   "execution_count": 4,
   "metadata": {},
   "outputs": [
    {
     "data": {
      "text/plain": [
       "60.0"
      ]
     },
     "execution_count": 4,
     "metadata": {},
     "output_type": "execute_result"
    }
   ],
   "source": [
    "s = Solution()\n",
    "s.maxSumMinProduct([1,2,3,2])\n",
    "s.maxSumMinProduct([2,3,3,1,2])\n",
    "s.maxSumMinProduct([3,1,5,6,4,2])"
   ]
  }
 ],
 "metadata": {
  "kernelspec": {
   "display_name": "dsa-prep-3dngTr8Z-py3.12",
   "language": "python",
   "name": "python3"
  },
  "language_info": {
   "codemirror_mode": {
    "name": "ipython",
    "version": 3
   },
   "file_extension": ".py",
   "mimetype": "text/x-python",
   "name": "python",
   "nbconvert_exporter": "python",
   "pygments_lexer": "ipython3",
   "version": "3.12.8"
  }
 },
 "nbformat": 4,
 "nbformat_minor": 2
}
