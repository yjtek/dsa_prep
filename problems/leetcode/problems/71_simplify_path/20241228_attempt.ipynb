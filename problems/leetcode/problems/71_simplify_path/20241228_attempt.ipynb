{
 "cells": [
  {
   "cell_type": "markdown",
   "metadata": {},
   "source": [
    "## Main"
   ]
  },
  {
   "cell_type": "markdown",
   "metadata": {},
   "source": [
    "- Idea\n",
    "    - There are a few immediate difficulties\n",
    "        1. You need to know where you are now\n",
    "        2. If you encounter .., you need to know where you were previously, potentially backtracking all the way to the root\n",
    "        3. Can a pathname ever contain a slash? Appears not; from the question, any number of slashes should give you only 1 slash\n",
    "\n",
    "    - So we maintain a stack\n",
    "        - iterate through all the chars in the string, building up an intermediate string until you hit a slash\n",
    "        - If you hit a single ., do nothing\n",
    "        - If you hit a double ., pop from stack\n",
    "        - If you hit anything else just append to stack\n",
    "\n",
    "    - At the end, join all strings in the stack with a single slash separating them"
   ]
  },
  {
   "cell_type": "code",
   "execution_count": 17,
   "metadata": {},
   "outputs": [
    {
     "data": {
      "text/plain": [
       "'/.../b/d'"
      ]
     },
     "execution_count": 17,
     "metadata": {},
     "output_type": "execute_result"
    }
   ],
   "source": [
    "class Solution:\n",
    "    def simplifyPath(self, path: str) -> str:\n",
    "        stack = []\n",
    "        i = 0\n",
    "        intermediate=''\n",
    "        \n",
    "        if path[-1] != '/':\n",
    "            path = path + '/'\n",
    "\n",
    "        while i < len(path):\n",
    "            if path[i] != '/':\n",
    "                intermediate += path[i]\n",
    "                i += 1\n",
    "                continue\n",
    "            while (i < len(path)) and (path[i] == '/'):\n",
    "                if intermediate:\n",
    "                    if intermediate not in ['.', '..']:\n",
    "                        stack.append(intermediate)\n",
    "                    elif intermediate == '..':\n",
    "                        if stack:\n",
    "                            stack.pop()\n",
    "                    intermediate = ''\n",
    "                i += 1\n",
    "        return '/' + '/'.join(stack)\n",
    "\n",
    "s = Solution()\n",
    "s.simplifyPath('/home/')\n",
    "s.simplifyPath('/home//foo/')\n",
    "s.simplifyPath('/home/user/Documents/../Pictures')\n",
    "s.simplifyPath(\"/../\")\n",
    "s.simplifyPath(\"/.../a/../b/c/../d/./\")"
   ]
  },
  {
   "cell_type": "markdown",
   "metadata": {},
   "source": [
    "## Review"
   ]
  },
  {
   "cell_type": "markdown",
   "metadata": {},
   "source": [
    "- Solved, nicely done\n",
    "- Implementation could be more concise"
   ]
  }
 ],
 "metadata": {
  "kernelspec": {
   "display_name": "dsa-prep-3dngTr8Z-py3.12",
   "language": "python",
   "name": "python3"
  },
  "language_info": {
   "codemirror_mode": {
    "name": "ipython",
    "version": 3
   },
   "file_extension": ".py",
   "mimetype": "text/x-python",
   "name": "python",
   "nbconvert_exporter": "python",
   "pygments_lexer": "ipython3",
   "version": "3.12.8"
  }
 },
 "nbformat": 4,
 "nbformat_minor": 2
}
