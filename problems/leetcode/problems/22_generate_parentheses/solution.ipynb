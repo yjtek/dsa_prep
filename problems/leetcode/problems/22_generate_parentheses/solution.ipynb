{
 "cells": [
  {
   "cell_type": "markdown",
   "metadata": {},
   "source": [
    "## Main"
   ]
  },
  {
   "cell_type": "markdown",
   "metadata": {},
   "source": [
    "- Idea:\n",
    "    - This pattern is backtracking with a stack to hold intermediate values\n",
    "    - Since you have `n` pairs of parenthesis, you can only have at most `n` opening and `n` closing brackets\n",
    "    - At each point, you cannot have more closing than opening brackets\n",
    "    - So you maintain a backtracking function, counting the number of open and close brackets you've used\n",
    "    - Add an additional open/close depending on the counts\n",
    "    - Terminate when you use all `n` pairs, and append to result\n",
    "\n",
    "- Technically you don't really need an additional stack object. You can always pass intermediate values into the backtracking function\n",
    "    - We'll implement both for familiarity \n",
    "\n"
   ]
  },
  {
   "cell_type": "code",
   "execution_count": 12,
   "metadata": {},
   "outputs": [
    {
     "data": {
      "text/plain": [
       "True"
      ]
     },
     "execution_count": 12,
     "metadata": {},
     "output_type": "execute_result"
    }
   ],
   "source": [
    "class Solution:\n",
    "    def generateParenthesis_withstack(self, n: int) -> list[str]:\n",
    "        stack = []\n",
    "        res = []\n",
    "        def backtrack(count_open, count_close):\n",
    "            if count_open == count_close == n:\n",
    "                res.append(''.join(stack))\n",
    "                return\n",
    "            \n",
    "            if count_open < n:\n",
    "                stack.append('(')\n",
    "                backtrack(count_open+1, count_close)\n",
    "                stack.pop()\n",
    "            \n",
    "            if count_close < count_open:\n",
    "                stack.append(')')\n",
    "                backtrack(count_open, count_close+1)\n",
    "                stack.pop()\n",
    "        backtrack(0,0)\n",
    "        return res\n",
    "\n",
    "    def generateParenthesis_withoutstack(self, n: int) -> list[str]:\n",
    "        \n",
    "        res = []\n",
    "        def backtrack(count_open, count_close, intermediate):\n",
    "            if count_open == count_close == n:\n",
    "                res.append(intermediate)\n",
    "                return\n",
    "            \n",
    "            if count_open < n:\n",
    "                intermediate += '('\n",
    "                backtrack(count_open+1, count_close, intermediate)\n",
    "                intermediate = intermediate[:-1]\n",
    "            \n",
    "            if count_close < count_open:\n",
    "                intermediate += ')'\n",
    "                backtrack(count_open, count_close+1, intermediate)\n",
    "                intermediate = intermediate[:-1]\n",
    "        backtrack(0,0,'')\n",
    "        return res\n",
    "    \n",
    "s = Solution()\n",
    "s.generateParenthesis_withstack(4) == s.generateParenthesis_withoutstack(4)"
   ]
  }
 ],
 "metadata": {
  "kernelspec": {
   "display_name": "dsa-prep-3dngTr8Z-py3.12",
   "language": "python",
   "name": "python3"
  },
  "language_info": {
   "codemirror_mode": {
    "name": "ipython",
    "version": 3
   },
   "file_extension": ".py",
   "mimetype": "text/x-python",
   "name": "python",
   "nbconvert_exporter": "python",
   "pygments_lexer": "ipython3",
   "version": "3.12.8"
  }
 },
 "nbformat": 4,
 "nbformat_minor": 2
}
