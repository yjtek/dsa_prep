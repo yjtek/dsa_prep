{
 "cells": [
  {
   "cell_type": "markdown",
   "metadata": {},
   "source": [
    "## Main"
   ]
  },
  {
   "cell_type": "markdown",
   "metadata": {},
   "source": [
    "- Idea\n",
    "    - Go through `enumerate(heights)` one by one\n",
    "    - Init an empty stack\n",
    "    - If the current value of heights array exceeds the top of the stack, append `(index, height)` to stack\n",
    "    - while the current value of height array is LOWER than the top of the stack\n",
    "        - Pop from stack (stack_top_index, stack_top_value)\n",
    "        - Since `stack_top_value` is guaranteed to be greater than current value\n",
    "            - it must be true that we can extend the current value backwards to `stack_top_index`\n",
    "            - it must also be true that `stack_top_value` can no longer be extended rightwards (because it has encountered a lower bar)\n",
    "            - Therefore, the maximum area that has height of `stack_top_value` must be the `current_index - stack_top_index`\n",
    "            - Update result using `max(max_result, (current_index - stack_top_index) * stack_top_value)`\n",
    "            - Add the current (smaller) value as a potential height candidate to the stack `(stack_top_index, height)`\n",
    "            - Why do we use `stack_top_index` as the index? Because we know that the current height is definitely extendable backwards up till that index!!\n",
    "    - Once we are done with these, we know that we have dealt with all cases where the max area is in the middle of the chart\n",
    "    - So iterate through the stack to take the height multiplied by the maximum width from the position of `h` (len(heights)-index)\n",
    "\n",
    "- The trick you missed here is that your stack can contain more than just values, you can add anything to a stack to help your backtracking!!"
   ]
  },
  {
   "cell_type": "code",
   "execution_count": 4,
   "metadata": {},
   "outputs": [
    {
     "data": {
      "text/plain": [
       "10"
      ]
     },
     "execution_count": 4,
     "metadata": {},
     "output_type": "execute_result"
    }
   ],
   "source": [
    "class Solution:\n",
    "    def largestRectangleArea(self, heights: list[int]) -> int:\n",
    "        stack = []\n",
    "        max_area = 0\n",
    "\n",
    "        for curr_index, curr_height in enumerate(heights):\n",
    "            if (not stack) or (curr_height > stack[-1][1]):\n",
    "                stack.append((curr_index, curr_height))\n",
    "                continue\n",
    "        \n",
    "            while stack and (stack[-1][1] >= curr_height):\n",
    "                stack_top_index, stack_top_height = stack.pop()\n",
    "                max_area = max(max_area, (curr_index - stack_top_index) * stack_top_height)\n",
    "            stack.append((stack_top_index, curr_height))\n",
    "\n",
    "        for (i, h) in stack:\n",
    "            max_area = max(max_area, (len(heights)-i)*h)\n",
    "        \n",
    "        return max_area\n",
    "    \n",
    "s = Solution()\n",
    "s.largestRectangleArea([2,1,5,6,2,3])"
   ]
  }
 ],
 "metadata": {
  "kernelspec": {
   "display_name": "dsa-prep-3dngTr8Z-py3.12",
   "language": "python",
   "name": "python3"
  },
  "language_info": {
   "codemirror_mode": {
    "name": "ipython",
    "version": 3
   },
   "file_extension": ".py",
   "mimetype": "text/x-python",
   "name": "python",
   "nbconvert_exporter": "python",
   "pygments_lexer": "ipython3",
   "version": "3.12.8"
  }
 },
 "nbformat": 4,
 "nbformat_minor": 2
}
