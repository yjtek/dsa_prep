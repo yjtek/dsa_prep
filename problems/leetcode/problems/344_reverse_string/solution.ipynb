{
 "cells": [
  {
   "cell_type": "markdown",
   "metadata": {},
   "source": [
    "## Main"
   ]
  },
  {
   "cell_type": "markdown",
   "metadata": {},
   "source": [
    "- Approach 1:\n",
    "    - Since I must only use modify in place, use two pointers starting from front and back of input list, and swap\n",
    "    - As we swap, increment/decrement pointers until they meet\n",
    "    - $O(N)$ time, $O(1)$ memory\n",
    "\n",
    "- **ASSUMING I CAN USE EXTRA MEMORY**\n",
    "\n",
    "- Approach 2: Stack\n",
    "    - Pop to the stack from list, then pop from the stack to a list\n",
    "\n",
    "- Approach 3: similar to approach 1, but instead of incrementing/decrementing pointers, recursively call the reverse function on the shorter string"
   ]
  },
  {
   "cell_type": "code",
   "execution_count": null,
   "metadata": {},
   "outputs": [
    {
     "name": "stdout",
     "output_type": "stream",
     "text": [
      "['o', 'l', 'l', 'e', 'h']\n",
      "['o', 'l', 'l', 'e', 'h']\n"
     ]
    }
   ],
   "source": [
    "class Solution:\n",
    "    def reverseString(self, s: list[str]) -> None:\n",
    "        l, r = 0, len(s)-1\n",
    "        while l < r:\n",
    "            s[l], s[r] = s[r], s[l]\n",
    "            l += 1\n",
    "            r -= 1\n",
    "        # print(s)\n",
    "\n",
    "    def reverseString_stack(self, s: list[str]) -> None:\n",
    "        stack = []\n",
    "        for _ in range(len(s)):\n",
    "            stack.append(s.pop())\n",
    "        s = stack\n",
    "        # print(s)\n",
    "\n",
    "\n",
    "    def reverseString_recursive(self, s: list[str]) -> None:\n",
    "        if len(s) >= 2:\n",
    "            s[0], s[-1] = s[-1], s[0]\n",
    "            self.reverseString_recursive(s[1:-1])\n",
    "        # print(s)\n",
    "\n",
    "soln = Solution()\n",
    "soln.reverseString([\"h\",\"e\",\"l\",\"l\",\"o\"])\n",
    "soln.reverseString_stack([\"h\",\"e\",\"l\",\"l\",\"o\"])\n",
    "soln.reverseString_recursive([\"h\",\"e\",\"l\",\"l\",\"o\"])\n"
   ]
  },
  {
   "cell_type": "markdown",
   "metadata": {},
   "source": [
    "## Followup"
   ]
  }
 ],
 "metadata": {
  "kernelspec": {
   "display_name": "dsa_prep",
   "language": "python",
   "name": "python3"
  },
  "language_info": {
   "codemirror_mode": {
    "name": "ipython",
    "version": 3
   },
   "file_extension": ".py",
   "mimetype": "text/x-python",
   "name": "python",
   "nbconvert_exporter": "python",
   "pygments_lexer": "ipython3",
   "version": "3.10.13"
  }
 },
 "nbformat": 4,
 "nbformat_minor": 2
}
