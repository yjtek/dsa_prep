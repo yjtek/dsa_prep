{
 "cells": [
  {
   "cell_type": "markdown",
   "metadata": {},
   "source": [
    "## Main"
   ]
  },
  {
   "cell_type": "markdown",
   "metadata": {},
   "source": [
    "- This is just arithmetic sum. \n",
    "\n",
    "- If there are $x$ rows, then the total count of coins are $\\frac{x \\cdot (x+1)}{2}$\n",
    "    - Proof:\n",
    "    - Let $n = 1 + 2 + ... x = x + (x-1) + (x-2) + ...$\n",
    "    - Therefore, $2n = (x+1) + (x+1) + ... = x * (x+1)$\n",
    "    - Therefore, $n = \\frac{x \\cdot (x+1)}{2}$\n",
    "\n",
    "- So solving for $x$ from $n$:\n",
    "    - $2n = x^2 + x$\n",
    "    - $x^2 + x - 2n = 0$\n",
    "    - Answer is $\\frac{-1 \\pm \\sqrt{1 - 4(1)(-2n)}}{2} = \\frac{-1 \\pm \\sqrt{1 + 8n}}{2}$\n",
    "\n",
    "- $O(1)$ time and space"
   ]
  },
  {
   "cell_type": "code",
   "execution_count": 1,
   "metadata": {},
   "outputs": [
    {
     "data": {
      "text/plain": [
       "3"
      ]
     },
     "execution_count": 1,
     "metadata": {},
     "output_type": "execute_result"
    }
   ],
   "source": [
    "class Solution:\n",
    "    def arrangeCoins(self, n: int) -> int:\n",
    "        val1 = (-1 + (1 + 8*n)**0.5)/2\n",
    "        val2 = (-1 - (1 + 8*n)**0.5)/2\n",
    "        return max(int(val1//1), int(val2//1))\n",
    "\n",
    "soln = Solution()\n",
    "soln.arrangeCoins(6)"
   ]
  },
  {
   "cell_type": "markdown",
   "metadata": {},
   "source": [
    "## Review"
   ]
  },
  {
   "cell_type": "markdown",
   "metadata": {},
   "source": [
    "- Math"
   ]
  }
 ],
 "metadata": {
  "kernelspec": {
   "display_name": "dsa_prep",
   "language": "python",
   "name": "python3"
  },
  "language_info": {
   "codemirror_mode": {
    "name": "ipython",
    "version": 3
   },
   "file_extension": ".py",
   "mimetype": "text/x-python",
   "name": "python",
   "nbconvert_exporter": "python",
   "pygments_lexer": "ipython3",
   "version": "3.12.5"
  }
 },
 "nbformat": 4,
 "nbformat_minor": 2
}
