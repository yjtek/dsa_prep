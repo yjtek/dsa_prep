{
 "cells": [
  {
   "cell_type": "markdown",
   "metadata": {},
   "source": [
    "## Main"
   ]
  },
  {
   "cell_type": "markdown",
   "metadata": {},
   "source": [
    "- The idea here is a \"sort and slide\"\n",
    "- Given an input array, we first sort it from smallest to largest\n",
    "- Init 2 pointers l, r = 0, 0\n",
    "- while r < len(arr)\n",
    "- if arr[r] * (r-l+1) <= sum(arr[l:(r+1)]) + k, update res = r-l+1\n",
    "    - increment r\n",
    "- otherwise, within the current window bounded by l and r, you cannot get all values to meet the rightmost (i.e. largest) value in `k` operations\n",
    "    - so increment `l`"
   ]
  },
  {
   "cell_type": "code",
   "execution_count": 9,
   "metadata": {},
   "outputs": [
    {
     "data": {
      "text/plain": [
       "1"
      ]
     },
     "execution_count": 9,
     "metadata": {},
     "output_type": "execute_result"
    }
   ],
   "source": [
    "class Solution:\n",
    "    def maxFrequency(self, nums: list[int], k: int) -> int:\n",
    "        nums.sort()\n",
    "        l, r = 0, 0\n",
    "        \n",
    "        curr_window_sum = 0\n",
    "        res = 0\n",
    "        while r < len(nums):\n",
    "            curr_window_sum += nums[r]\n",
    "            \n",
    "            while (r-l+1)*nums[r] > curr_window_sum + k:\n",
    "                curr_window_sum -= nums[l]\n",
    "                l += 1\n",
    "            \n",
    "            res = max(res, r-l+1)\n",
    "            r += 1\n",
    "            \n",
    "        return res\n",
    "\n",
    "s = Solution()\n",
    "s.maxFrequency([1,2,4], 5)\n",
    "s.maxFrequency([1,4,8,13], 5)\n",
    "s.maxFrequency([3,9,6], 2)"
   ]
  },
  {
   "cell_type": "code",
   "execution_count": null,
   "metadata": {},
   "outputs": [],
   "source": []
  }
 ],
 "metadata": {
  "kernelspec": {
   "display_name": "dsa_prep",
   "language": "python",
   "name": "python3"
  },
  "language_info": {
   "codemirror_mode": {
    "name": "ipython",
    "version": 3
   },
   "file_extension": ".py",
   "mimetype": "text/x-python",
   "name": "python",
   "nbconvert_exporter": "python",
   "pygments_lexer": "ipython3",
   "version": "3.12.8"
  }
 },
 "nbformat": 4,
 "nbformat_minor": 2
}
