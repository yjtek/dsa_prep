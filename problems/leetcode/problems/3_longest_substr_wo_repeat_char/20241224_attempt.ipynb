{
 "cells": [
  {
   "cell_type": "markdown",
   "metadata": {},
   "source": [
    "## Main"
   ]
  },
  {
   "cell_type": "markdown",
   "metadata": {},
   "source": [
    "- Idea\n",
    "    - To init:\n",
    "        - Maintain a hashmap of characters and the index they appear\n",
    "        - Maintain pointer to starting index\n",
    "        - Maintain pointer to current index\n",
    "        - Maintain max length variable\n",
    "    \n",
    "    - At each iteration:\n",
    "        - If char in hashmap:\n",
    "            - Swap starting index to hashmap[char] + 1\n",
    "                - Because you cannot possibly have a longer string starting from current starting index without having a duplicate\n",
    "                - e.g. 'bcadaefg' \n",
    "                    - At 'bcada', we have a duplicate `a`\n",
    "                    - There cannot be another string that is longer than `bcad` unless we exclude the first `a`\n",
    "                    - That is, if we increment starting index by 1 to `cada`, obviously the string is shorter and we still have the duplicate\n",
    "                - So the next possible place you can start measuring from without duplicate must be the one excluding the duplicate character\n",
    "            - Replace hashmap[char] with current index\n",
    "            - continue iterating\n",
    "        - If char not in hashmap\n",
    "            - Add char to hashmap\n",
    "        \n",
    "        - curr length is always current_index - starting_index\n",
    "        - Find max length in each iteration by taking `max(maxlen, current_index - starting_index)`"
   ]
  },
  {
   "cell_type": "code",
   "execution_count": 15,
   "metadata": {},
   "outputs": [
    {
     "data": {
      "text/plain": [
       "3"
      ]
     },
     "execution_count": 15,
     "metadata": {},
     "output_type": "execute_result"
    }
   ],
   "source": [
    "class Solution:\n",
    "    def lengthOfLongestSubstring(self, s: str) -> int:\n",
    "        '''\n",
    "        O(N) time from the loop, since no backtracking needed\n",
    "        O(N) space from hashmap\n",
    "        '''\n",
    "        hashmap = {}\n",
    "        start = 0\n",
    "        maxlen = 0\n",
    "        for i, c in enumerate(s):\n",
    "            if c not in hashmap:\n",
    "                hashmap[c] = i\n",
    "            else:\n",
    "                start = max(hashmap[c] + 1, start)\n",
    "                hashmap[c] = i\n",
    "            \n",
    "            maxlen = max(i+1-start, maxlen)\n",
    "        return maxlen\n",
    "\n",
    "s = Solution()\n",
    "s.lengthOfLongestSubstring('abcabcbb')\n",
    "s.lengthOfLongestSubstring('bbbbb')\n",
    "s.lengthOfLongestSubstring('pwwkew')"
   ]
  },
  {
   "cell_type": "code",
   "execution_count": 18,
   "metadata": {},
   "outputs": [
    {
     "data": {
      "text/plain": [
       "7"
      ]
     },
     "execution_count": 18,
     "metadata": {},
     "output_type": "execute_result"
    }
   ],
   "source": [
    "s.lengthOfLongestSubstring('abbabcdefg')\n",
    "# s.lengthOfLongestSubstring('dvdf')"
   ]
  },
  {
   "cell_type": "markdown",
   "metadata": {},
   "source": [
    "## Review"
   ]
  },
  {
   "cell_type": "markdown",
   "metadata": {},
   "source": [
    "- Solved with some minor errors\n",
    "\n",
    "- But"
   ]
  },
  {
   "cell_type": "markdown",
   "metadata": {},
   "source": []
  }
 ],
 "metadata": {
  "kernelspec": {
   "display_name": "dsa_prep",
   "language": "python",
   "name": "python3"
  },
  "language_info": {
   "codemirror_mode": {
    "name": "ipython",
    "version": 3
   },
   "file_extension": ".py",
   "mimetype": "text/x-python",
   "name": "python",
   "nbconvert_exporter": "python",
   "pygments_lexer": "ipython3",
   "version": "3.12.8"
  }
 },
 "nbformat": 4,
 "nbformat_minor": 2
}
