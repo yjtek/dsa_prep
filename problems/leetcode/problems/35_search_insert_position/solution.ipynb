{
 "cells": [
  {
   "cell_type": "markdown",
   "metadata": {},
   "source": [
    "## Main"
   ]
  },
  {
   "cell_type": "markdown",
   "metadata": {},
   "source": [
    "- Since the array is sorted, we can do binary search, which fits the $O(\\log N)$ time complexity requirement\n",
    "\n",
    "- Stepping through examples\n",
    "    - [1,3,5,7,9], when target=9\n",
    "        - m=2\n",
    "        - nums[2] = 5\n",
    "        - l becomes 3, r is still 4\n",
    "        - m = 3\n",
    "        - nums[3] = 7\n",
    "        - l becomes 4, r is still r\n",
    "        - m=4\n",
    "        - nums[4] = 9\n",
    "        - return 4\n",
    "    - [1,3,5,7,9], when target=6\n",
    "        - m=2\n",
    "        - nums[2] = 5\n",
    "        - l becomes 3, r is still 4\n",
    "        - m = 3\n",
    "        - nums[3] = 7\n",
    "        - l is still 3, r becomes 3\n",
    "        - m = 3\n",
    "        - nums[3] = 7\n",
    "        - l is still 3, r becomes 2\n",
    "        - Terminate loop because l > r, return l=3\n",
    "    - [1,3,5,7,9], when target=0\n",
    "        - m=2\n",
    "        - nums[2] = 5\n",
    "        - l is still 0, r becomes 1\n",
    "        - m = 0\n",
    "        - nums[0] = 1\n",
    "        - l is still 0, r becomes -1\n",
    "        - Terminate loop because l > r, return l=0\n",
    "    - [1,3,5,7,9], when target=10\n",
    "        - m=2\n",
    "        - nums[2] = 5\n",
    "        - l becomes 3, r is still 4\n",
    "        - m = 3\n",
    "        - nums[3] = 7\n",
    "        - l becomes 4, r is still 4\n",
    "        - nums[4] = 9\n",
    "        - l becomes 5, r is still 4\n",
    "        - Terminate loop because l > r, return l=5"
   ]
  },
  {
   "cell_type": "code",
   "execution_count": null,
   "metadata": {},
   "outputs": [],
   "source": [
    "class Solution:\n",
    "    def searchInsert(self, nums: list[int], target: int) -> int:\n",
    "        l, r = 0, len(nums)-1\n",
    "\n",
    "        while l <= r:\n",
    "            m = (l+r)//2\n",
    "            if nums[m] == target:\n",
    "                return m\n",
    "            elif nums[m] > target:\n",
    "                r = m-1\n",
    "            elif nums[m] < target:\n",
    "                l = m+1\n",
    "        \n",
    "        return l"
   ]
  }
 ],
 "metadata": {
  "kernelspec": {
   "display_name": "dsa_prep",
   "language": "python",
   "name": "python3"
  },
  "language_info": {
   "codemirror_mode": {
    "name": "ipython",
    "version": 3
   },
   "file_extension": ".py",
   "mimetype": "text/x-python",
   "name": "python",
   "nbconvert_exporter": "python",
   "pygments_lexer": "ipython3",
   "version": "3.10.13"
  }
 },
 "nbformat": 4,
 "nbformat_minor": 2
}
