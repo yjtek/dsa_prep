{
 "cells": [
  {
   "cell_type": "markdown",
   "metadata": {},
   "source": [
    "## Main"
   ]
  },
  {
   "cell_type": "markdown",
   "metadata": {},
   "source": [
    "- Idea:\n",
    "    - Init a stack, and a res array of 0s\n",
    "    - Loop over the `temperatures` input array\n",
    "    - For each value, if the value is smaller than or equal to the value at the top of the stack, add `(index, val)` to stack\n",
    "        - Logic being; if I see a smaller value, I cannot update the `res` array. So I add it to stack in anticipation of future values that I may be able to use to update the array\n",
    "    - If the value is larger than the value at the top of stack, \n",
    "        - Pop the top of stack (because you have found the next largest value and you no longer need to find a value for this specific index)\n",
    "        - In res[popped_index], store the distance as curr_index - popped_index\n",
    "        - Keep popping until the top of stack is smaller than the curr value"
   ]
  },
  {
   "cell_type": "code",
   "execution_count": null,
   "metadata": {},
   "outputs": [
    {
     "data": {
      "text/plain": [
       "[1, 0, 0]"
      ]
     },
     "metadata": {},
     "output_type": "display_data"
    }
   ],
   "source": [
    "class Solution:\n",
    "    def dailyTemperatures(self, temperatures: list[int]) -> list[int]:\n",
    "        stack = []\n",
    "        res = [0] * len(temperatures)\n",
    "        \n",
    "        for i, curr_temp in enumerate(temperatures):\n",
    "            if i == 0:\n",
    "                stack.append((i,curr_temp))\n",
    "            \n",
    "            while stack and (curr_temp > stack[-1][1]):\n",
    "                stack_top_index, stack_top_temp = stack.pop()\n",
    "                res[stack_top_index] = i - stack_top_index\n",
    "            \n",
    "            stack.append((i, curr_temp))\n",
    "        \n",
    "        return res\n",
    "\n",
    "s = Solution()\n",
    "s.dailyTemperatures([73,74,75,71,69,72,76,73])\n",
    "s.dailyTemperatures([30,40,50,60])\n",
    "s.dailyTemperatures([30,60,90])\n",
    "s.dailyTemperatures([0,60,40])"
   ]
  }
 ],
 "metadata": {
  "kernelspec": {
   "display_name": "dsa_prep",
   "language": "python",
   "name": "python3"
  },
  "language_info": {
   "codemirror_mode": {
    "name": "ipython",
    "version": 3
   },
   "file_extension": ".py",
   "mimetype": "text/x-python",
   "name": "python",
   "nbconvert_exporter": "python",
   "pygments_lexer": "ipython3",
   "version": "3.10.13"
  }
 },
 "nbformat": 4,
 "nbformat_minor": 2
}
