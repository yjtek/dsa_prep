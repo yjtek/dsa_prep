{
 "cells": [
  {
   "cell_type": "markdown",
   "metadata": {},
   "source": [
    "## Main"
   ]
  },
  {
   "cell_type": "markdown",
   "metadata": {},
   "source": [
    "- In this type of question where you need a way to know the N-th previous character, first thing to think of is a stack (i.e LIFO queue)\n",
    "\n",
    "- Idea\n",
    "    - For every opening bracket you see, add to stack\n",
    "    - For every closing bracket you see, pop from stack. \n",
    "        - Either the popped opening bracket matches the closed bracket, in which case you can move on \n",
    "        - Or the popped bracket doesn't match, in which case you return false"
   ]
  },
  {
   "cell_type": "code",
   "execution_count": 6,
   "metadata": {},
   "outputs": [
    {
     "data": {
      "text/plain": [
       "True"
      ]
     },
     "execution_count": 6,
     "metadata": {},
     "output_type": "execute_result"
    }
   ],
   "source": [
    "class Solution:\n",
    "    def isValid(self, s: str) -> bool:\n",
    "        stack = []\n",
    "        for c in s:\n",
    "            if c in ['(', '{', '[']:\n",
    "                stack.append(c)\n",
    "            else:\n",
    "                if not stack:\n",
    "                    return False\n",
    "                \n",
    "                most_recent_open= stack.pop()\n",
    "                if (\n",
    "                    (most_recent_open == '(' and c != ')') or\n",
    "                    (most_recent_open == '[' and c != ']') or\n",
    "                    (most_recent_open == '{' and c != '}') \n",
    "                ):\n",
    "                    return False\n",
    "        return True\n",
    "\n",
    "s = Solution()\n",
    "s.isValid('()')\n",
    "s.isValid('()[]{}')\n",
    "s.isValid('(]')\n",
    "s.isValid('([])')"
   ]
  },
  {
   "cell_type": "code",
   "execution_count": null,
   "metadata": {},
   "outputs": [],
   "source": []
  }
 ],
 "metadata": {
  "kernelspec": {
   "display_name": "dsa-prep-3dngTr8Z-py3.12",
   "language": "python",
   "name": "python3"
  },
  "language_info": {
   "codemirror_mode": {
    "name": "ipython",
    "version": 3
   },
   "file_extension": ".py",
   "mimetype": "text/x-python",
   "name": "python",
   "nbconvert_exporter": "python",
   "pygments_lexer": "ipython3",
   "version": "3.12.8"
  }
 },
 "nbformat": 4,
 "nbformat_minor": 2
}
