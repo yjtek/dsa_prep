{
 "cells": [
  {
   "cell_type": "markdown",
   "metadata": {},
   "source": [
    "## [Fail] Main"
   ]
  },
  {
   "cell_type": "markdown",
   "metadata": {},
   "source": [
    "- Brute force\n",
    "    - Iterate through the list on alternate indices and sum, then compare the sums\n",
    "    - This runs in $O(N)$ time with no extra space\n",
    "    - Possible because numbers are never negative\n",
    "\n",
    "- Can I do better than $O(N)$?\n",
    "    - Not sorted, so can't do binary search\n",
    "    - Data structure? Heap? Doesn't really work cause we're not interested in max/min values\n",
    "    - Seems $O(N)$ time and $O(1)$ space is best solution"
   ]
  },
  {
   "cell_type": "code",
   "execution_count": 9,
   "metadata": {},
   "outputs": [],
   "source": [
    "class Solution:\n",
    "    def rob(self, nums: list[int]) -> int:\n",
    "        cumsum1, cumsum2=0,0\n",
    "        for i in range(0, len(nums), 2):\n",
    "            cumsum1 += nums[i] \n",
    "        for i in range(1, len(nums), 2):\n",
    "            cumsum2  += nums[i] \n",
    "        return max(cumsum1, cumsum2)"
   ]
  },
  {
   "cell_type": "code",
   "execution_count": 10,
   "metadata": {},
   "outputs": [],
   "source": [
    "soln = Solution()\n",
    "# soln.rob([1,2,3,1])\n",
    "# soln.rob([2,7,9,3,1])"
   ]
  },
  {
   "cell_type": "markdown",
   "metadata": {},
   "source": [
    "## Review"
   ]
  },
  {
   "cell_type": "markdown",
   "metadata": {},
   "source": [
    "- Your solution failed because the best robbery isn't always alternate houses. \n",
    "- For example, in [2,1,1,2], the best choice is to rob the first and last, which your solution will not account for"
   ]
  },
  {
   "cell_type": "markdown",
   "metadata": {},
   "source": []
  }
 ],
 "metadata": {
  "kernelspec": {
   "display_name": "dsa_prep",
   "language": "python",
   "name": "python3"
  },
  "language_info": {
   "codemirror_mode": {
    "name": "ipython",
    "version": 3
   },
   "file_extension": ".py",
   "mimetype": "text/x-python",
   "name": "python",
   "nbconvert_exporter": "python",
   "pygments_lexer": "ipython3",
   "version": "3.10.13"
  }
 },
 "nbformat": 4,
 "nbformat_minor": 2
}
