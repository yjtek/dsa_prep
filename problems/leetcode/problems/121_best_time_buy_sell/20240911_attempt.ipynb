{
 "cells": [
  {
   "cell_type": "markdown",
   "metadata": {},
   "source": [
    "## [Pass] Main"
   ]
  },
  {
   "cell_type": "markdown",
   "metadata": {},
   "source": [
    "- Brute force\n",
    "    - Test every position as a possible buy, and every other position after as a possible sell\n",
    "    - Record and return the highest profit\n",
    "    - Since you have a nested loop (loop once for brute force buy days, once to brute for sell days), the time complexity is $O(N^2)$ and memory is $O(1)$\n",
    "\n",
    "- Iterate through the array\n",
    "    - Create a record of `lowest_buy`\n",
    "    - At every value, record the difference between current value and `lowest_buy` as `max_profit` if it exceeds current `max_profit`\n",
    "    \n",
    "    - Using [7,1,5,3,6,4]\n",
    "        - At 7, you can only buy. Set `lowest_buy` to 7.\n",
    "        - At 1, you can buy or sell. \n",
    "            - First, check if you can sell. Set max_profit to `max(max_profit, 1 - 7) = -6`\n",
    "            - Set min(1, 7) as `lowest_buy`\n",
    "        - At 5\n",
    "            - `max_profit = max(max_profit, 5-1) = 4`\n",
    "            - `lowest_buy = min(1, 5) = 1`\n",
    "        ...\n",
    "\n",
    "    - return `max_profit`\n",
    "\n",
    "    - This runs in $O(N)$ time, and $O(1)$ space"
   ]
  },
  {
   "cell_type": "code",
   "execution_count": 3,
   "metadata": {},
   "outputs": [],
   "source": [
    "class Solution:\n",
    "    def maxProfit(self, prices: list[int]) -> int:\n",
    "        lowest_buy = float('inf')\n",
    "        max_profit = 0\n",
    "        for price in prices:\n",
    "            if (price - lowest_buy) > max_profit:\n",
    "                max_profit = price - lowest_buy\n",
    "            if price < lowest_buy:\n",
    "                lowest_buy = price\n",
    "        return max_profit"
   ]
  },
  {
   "cell_type": "code",
   "execution_count": 4,
   "metadata": {},
   "outputs": [
    {
     "data": {
      "text/plain": [
       "0"
      ]
     },
     "execution_count": 4,
     "metadata": {},
     "output_type": "execute_result"
    }
   ],
   "source": [
    "soln = Solution()\n",
    "soln.maxProfit([7,1,5,3,6,4])\n",
    "soln.maxProfit([7,6,5,4,3,1])"
   ]
  },
  {
   "cell_type": "markdown",
   "metadata": {},
   "source": [
    "## Review"
   ]
  },
  {
   "cell_type": "markdown",
   "metadata": {},
   "source": [
    "- Nothing much to say, you got the right solution"
   ]
  },
  {
   "cell_type": "markdown",
   "metadata": {},
   "source": []
  }
 ],
 "metadata": {
  "kernelspec": {
   "display_name": "dsa_prep",
   "language": "python",
   "name": "python3"
  },
  "language_info": {
   "codemirror_mode": {
    "name": "ipython",
    "version": 3
   },
   "file_extension": ".py",
   "mimetype": "text/x-python",
   "name": "python",
   "nbconvert_exporter": "python",
   "pygments_lexer": "ipython3",
   "version": "3.10.13"
  }
 },
 "nbformat": 4,
 "nbformat_minor": 2
}
