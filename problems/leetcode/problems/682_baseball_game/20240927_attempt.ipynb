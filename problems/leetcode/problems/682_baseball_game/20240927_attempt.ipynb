{
 "cells": [
  {
   "cell_type": "markdown",
   "metadata": {},
   "source": [
    "## Main"
   ]
  },
  {
   "cell_type": "markdown",
   "metadata": {},
   "source": [
    "- Approach 1:\n",
    "    - Loop through the operations and persist values (if any) to a stack\n",
    "    - Operations\n",
    "        - New integer, add to top of stack\n",
    "        - `+` sum of previous 2 scores, and append sum to the top of stack\n",
    "        - `D` double previous score, and append to the top of stack\n",
    "        - `C` pop from top of stack\n",
    "\n",
    "    - This will be done in $O(N)$ time and $O(N)$ space"
   ]
  },
  {
   "cell_type": "code",
   "execution_count": 11,
   "metadata": {},
   "outputs": [
    {
     "data": {
      "text/plain": [
       "0"
      ]
     },
     "execution_count": 11,
     "metadata": {},
     "output_type": "execute_result"
    }
   ],
   "source": [
    "class Solution:\n",
    "    def calPoints(self, operations: list[str]) -> int:\n",
    "        stack = []\n",
    "        for op in operations:\n",
    "            match op:\n",
    "                case '+':\n",
    "                    if len(stack) < 2:\n",
    "                        pass\n",
    "                    stack.append(stack[-1] + stack[-2])\n",
    "                case 'D':\n",
    "                    if stack:\n",
    "                        stack.append(stack[-1]*2)\n",
    "                case 'C':\n",
    "                    if stack:\n",
    "                        stack.pop()\n",
    "                case _:\n",
    "                    if type(int(op)) == int:\n",
    "                        stack.append(int(op))\n",
    "        return sum(stack)\n",
    "    \n",
    "soln = Solution()\n",
    "soln.calPoints([\"5\",\"2\",\"C\",\"D\",\"+\"])\n",
    "soln.calPoints([\"5\",\"-2\",\"4\",\"C\",\"D\",\"9\",\"+\",\"+\"])\n",
    "soln.calPoints([\"1\", \"C\"])"
   ]
  },
  {
   "cell_type": "markdown",
   "metadata": {},
   "source": [
    "## Review"
   ]
  },
  {
   "cell_type": "markdown",
   "metadata": {},
   "source": [
    "- Trivial"
   ]
  },
  {
   "cell_type": "markdown",
   "metadata": {},
   "source": []
  }
 ],
 "metadata": {
  "kernelspec": {
   "display_name": "dsa_prep",
   "language": "python",
   "name": "python3"
  },
  "language_info": {
   "codemirror_mode": {
    "name": "ipython",
    "version": 3
   },
   "file_extension": ".py",
   "mimetype": "text/x-python",
   "name": "python",
   "nbconvert_exporter": "python",
   "pygments_lexer": "ipython3",
   "version": "3.12.5"
  }
 },
 "nbformat": 4,
 "nbformat_minor": 2
}
