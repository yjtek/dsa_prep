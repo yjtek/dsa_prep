{
 "cells": [
  {
   "cell_type": "markdown",
   "metadata": {},
   "source": [
    "## [Pass] Main"
   ]
  },
  {
   "cell_type": "markdown",
   "metadata": {},
   "source": [
    "- Maintain 3 pointers\n",
    "    - one pointer points to the current node, the one points to the previous node, and one to the next node\n",
    "\n",
    "- At the start, `curr_node` is the head of the linked list, `prev_node` is none, and `next_node` is `curr.next`\n",
    "\n",
    "- Let's do `[1,2,3,4,5]` as an example\n",
    "    - while `curr_node`\n",
    "        - At `1`\n",
    "            - `curr_node` is 1\n",
    "            - `prev_node` is None\n",
    "            - `next_node` is `curr_node.next`, which is 2\n",
    "\n",
    "            - We set `next_node = curr_node.next`, which is 2 node\n",
    "            - We set `curr_node.next = prev_node`, which is None\n",
    "            - We set `prev_node` to `curr_node`, which is the 1 node\n",
    "            - We set `curr_node = next_node`, which is the 2 node\n",
    "            \n",
    "    - `curr_node` exists, so the loop continues\n",
    "        -  At `2`\n",
    "            - `curr_node` is 2\n",
    "            - `prev_node` is 1\n",
    "            - `next_node` is `curr_node.next`, which is 3\n",
    "\n",
    "            - We set `next_node = curr_node.next`, which is 3 node\n",
    "            - We set `curr_node.next = prev_node`, which is 1\n",
    "            - We set `prev_node` to `curr_node`, which is the 2 node\n",
    "            - We set `curr_node = next_node`, which is the 3 node\n",
    "            \n",
    "    \n",
    "- In general, while `curr_node` exists:\n",
    "    - Set `next_node` to `next_node.next`\n",
    "    - Set `curr_node.next` to `prev_node`\n",
    "    - Set `prev_node` to `curr_node`\n",
    "    - Set `curr_node` to `next_node`\n",
    "    \n",
    "- This completes in $O(N)$ time because we visit each node once, and in $O(1)$ space because we don't use any additional data structure"
   ]
  },
  {
   "cell_type": "code",
   "execution_count": 3,
   "metadata": {},
   "outputs": [],
   "source": [
    "from typing import Optional\n",
    "\n",
    "#Definition for singly-linked list.\n",
    "class ListNode:\n",
    "    def __init__(self, val=0, next=None):\n",
    "        self.val = val\n",
    "        self.next = next\n",
    "\n",
    "class Solution:\n",
    "    def reverseList(self, head: Optional[ListNode]) -> Optional[ListNode]:\n",
    "        curr_node = head\n",
    "        prev_node = None\n",
    "\n",
    "        if curr_node is None:\n",
    "            return None\n",
    "\n",
    "        while curr_node:\n",
    "            next_node = curr_node.next\n",
    "            curr_node.next = prev_node\n",
    "            prev_node = curr_node\n",
    "            curr_node = next_node\n",
    "\n",
    "        return prev_node"
   ]
  },
  {
   "cell_type": "code",
   "execution_count": 6,
   "metadata": {},
   "outputs": [
    {
     "name": "stdout",
     "output_type": "stream",
     "text": [
      "1\n",
      "2\n",
      "3\n",
      "4\n",
      "5\n",
      "5\n",
      "4\n",
      "3\n",
      "2\n",
      "1\n"
     ]
    }
   ],
   "source": [
    "one = ListNode(1)\n",
    "two = ListNode(2)\n",
    "three = ListNode(3)\n",
    "four = ListNode(4)\n",
    "five = ListNode(5)\n",
    "\n",
    "one.next = two\n",
    "two.next = three\n",
    "three.next = four\n",
    "four.next = five\n",
    "\n",
    "soln = Solution()\n",
    "_tmp = one\n",
    "while _tmp:\n",
    "    print(_tmp.val)\n",
    "    _tmp = _tmp.next\n",
    "\n",
    "new_head = soln.reverseList(one)\n",
    "\n",
    "while new_head:\n",
    "    print(new_head.val)\n",
    "    new_head = new_head.next"
   ]
  },
  {
   "cell_type": "markdown",
   "metadata": {},
   "source": [
    "## [Pass] Followup"
   ]
  },
  {
   "cell_type": "markdown",
   "metadata": {},
   "source": [
    "- We've done the iterative solution. Let's try the less memory efficient recursive solution\n",
    "\n",
    "- Recursive solution will similarly run in $O(N)$ time, but we will end up using $O(N)$ stack memory\n",
    "\n",
    "- Given `head`, record `next_node`\n",
    "- Set `head.next` to None\n",
    "- Call reverseList on `next_node`. This gives you the head of the reversed linked list\n",
    "- Since `next_node` is now the tail of the recursive call, set `next_node.next` to your current `head` and return\n",
    "- Remember to resolve the edge case where `head.next` is None\n"
   ]
  },
  {
   "cell_type": "code",
   "execution_count": 9,
   "metadata": {},
   "outputs": [],
   "source": [
    "from typing import Optional\n",
    "\n",
    "#Definition for singly-linked list.\n",
    "class ListNode:\n",
    "    def __init__(self, val=0, next=None):\n",
    "        self.val = val\n",
    "        self.next = next\n",
    "\n",
    "class Solution:\n",
    "    def reverseList(self, head: Optional[ListNode]) -> Optional[ListNode]:\n",
    "        if not head:\n",
    "            return None\n",
    "        \n",
    "        curr_node = head\n",
    "        next_node = head.next\n",
    "        curr_node.next = None\n",
    "\n",
    "        if next_node:\n",
    "            new_head = self.reverseList(next_node)\n",
    "            next_node.next = curr_node\n",
    "            return new_head\n",
    "        return curr_node"
   ]
  },
  {
   "cell_type": "code",
   "execution_count": 10,
   "metadata": {},
   "outputs": [
    {
     "name": "stdout",
     "output_type": "stream",
     "text": [
      "1\n",
      "2\n",
      "3\n",
      "4\n",
      "5\n",
      "5\n",
      "4\n",
      "3\n",
      "2\n",
      "1\n"
     ]
    }
   ],
   "source": [
    "one = ListNode(1)\n",
    "two = ListNode(2)\n",
    "three = ListNode(3)\n",
    "four = ListNode(4)\n",
    "five = ListNode(5)\n",
    "\n",
    "one.next = two\n",
    "two.next = three\n",
    "three.next = four\n",
    "four.next = five\n",
    "\n",
    "soln = Solution()\n",
    "_tmp = one\n",
    "while _tmp:\n",
    "    print(_tmp.val)\n",
    "    _tmp = _tmp.next\n",
    "\n",
    "new_head = soln.reverseList(one)\n",
    "\n",
    "while new_head:\n",
    "    print(new_head.val)\n",
    "    new_head = new_head.next"
   ]
  },
  {
   "cell_type": "markdown",
   "metadata": {},
   "source": [
    "## Review"
   ]
  },
  {
   "cell_type": "markdown",
   "metadata": {},
   "source": [
    "- Working solution. Just work on your speed"
   ]
  }
 ],
 "metadata": {
  "kernelspec": {
   "display_name": "dsa_prep",
   "language": "python",
   "name": "python3"
  },
  "language_info": {
   "codemirror_mode": {
    "name": "ipython",
    "version": 3
   },
   "file_extension": ".py",
   "mimetype": "text/x-python",
   "name": "python",
   "nbconvert_exporter": "python",
   "pygments_lexer": "ipython3",
   "version": "3.10.13"
  }
 },
 "nbformat": 4,
 "nbformat_minor": 2
}
