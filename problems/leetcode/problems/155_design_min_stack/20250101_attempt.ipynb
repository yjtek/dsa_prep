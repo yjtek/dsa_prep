{
 "cells": [
  {
   "cell_type": "markdown",
   "metadata": {},
   "source": [
    "## Main"
   ]
  },
  {
   "cell_type": "code",
   "execution_count": 8,
   "metadata": {},
   "outputs": [],
   "source": [
    "class MinStack:\n",
    "\n",
    "    def __init__(self):\n",
    "        self.main_stack = []\n",
    "        self.min_stack = []\n",
    "\n",
    "    def push(self, val: int) -> None:\n",
    "        self.main_stack.append(val)\n",
    "        if (not self.min_stack) or (val <= self.min_stack[-1]):\n",
    "            self.min_stack.append(val)\n",
    "        \n",
    "    def pop(self) -> None:\n",
    "        top = self.main_stack.pop()\n",
    "        if self.min_stack[-1] == top:\n",
    "            self.min_stack.pop()\n",
    "\n",
    "    def top(self) -> int:\n",
    "        if self.main_stack:\n",
    "            return self.main_stack[-1]\n",
    "        \n",
    "    def getMin(self) -> int:\n",
    "        if self.min_stack:\n",
    "            return self.min_stack[-1]"
   ]
  },
  {
   "cell_type": "code",
   "execution_count": 12,
   "metadata": {},
   "outputs": [
    {
     "name": "stdout",
     "output_type": "stream",
     "text": [
      "5 4\n"
     ]
    }
   ],
   "source": [
    "# Your MinStack object will be instantiated and called as such:\n",
    "obj = MinStack()\n",
    "obj.push(4)\n",
    "obj.push(5)\n",
    "# obj.pop()\n",
    "param_3 = obj.top()\n",
    "param_4 = obj.getMin()\n",
    "print(param_3, param_4)"
   ]
  }
 ],
 "metadata": {
  "kernelspec": {
   "display_name": "dsa-prep-3dngTr8Z-py3.12",
   "language": "python",
   "name": "python3"
  },
  "language_info": {
   "codemirror_mode": {
    "name": "ipython",
    "version": 3
   },
   "file_extension": ".py",
   "mimetype": "text/x-python",
   "name": "python",
   "nbconvert_exporter": "python",
   "pygments_lexer": "ipython3",
   "version": "3.12.8"
  }
 },
 "nbformat": 4,
 "nbformat_minor": 2
}
