{
 "cells": [
  {
   "cell_type": "markdown",
   "metadata": {},
   "source": [
    "## Main"
   ]
  },
  {
   "cell_type": "markdown",
   "metadata": {},
   "source": [
    "- Approach 1\n",
    "    - Take prefix cumsum for each position in $O(N)$\n",
    "    - Take suffix cumsum for each position in $O(N)$\n",
    "    - Iterate through both prefix and suffix cumsum and return where they match $O(N)$\n",
    "    - Overall, $O(N)$ time and $O(N)$ space"
   ]
  },
  {
   "cell_type": "code",
   "execution_count": 5,
   "metadata": {},
   "outputs": [
    {
     "data": {
      "text/plain": [
       "3"
      ]
     },
     "execution_count": 5,
     "metadata": {},
     "output_type": "execute_result"
    }
   ],
   "source": [
    "class Solution:\n",
    "    def pivotIndex(self, nums: list[int]) -> int:\n",
    "        sumval = 0\n",
    "        prefix_sum = [0]     \n",
    "        for index in range(1, len(nums)):\n",
    "            sumval += nums[index-1]\n",
    "            prefix_sum.append(sumval)\n",
    "        \n",
    "        sumval = 0\n",
    "        suffix_sum = [0]\n",
    "        for index in range(len(nums)-2, -1, -1):\n",
    "            sumval += nums[index+1]\n",
    "            suffix_sum.append(sumval)\n",
    "        suffix_sum = suffix_sum[::-1]\n",
    "\n",
    "        for i, (x,y) in enumerate(zip(prefix_sum, suffix_sum)):\n",
    "            if x == y:\n",
    "                return i\n",
    "        return -1\n",
    "\n",
    "soln = Solution()\n",
    "soln.pivotIndex([1,2,3])\n",
    "soln.pivotIndex([1,7,3,6,5,6])"
   ]
  },
  {
   "cell_type": "markdown",
   "metadata": {},
   "source": [
    "## Review"
   ]
  },
  {
   "cell_type": "markdown",
   "metadata": {},
   "source": [
    "- Your solution works\n",
    "- Asymptotically efficient, but you actually traverse the array an extra time compared to the optimal solution\n",
    "\n",
    "- Instead of traversing 3 times, you can traverse only twice, if you compute the total sum of the array first! \n",
    "    - This way, when you iterate, you can just subtract  cumulative sum and the current index value from the sum to get the suffix sum\n",
    "\n",
    "- See solution for full implementation"
   ]
  }
 ],
 "metadata": {
  "kernelspec": {
   "display_name": "dsa_prep",
   "language": "python",
   "name": "python3"
  },
  "language_info": {
   "codemirror_mode": {
    "name": "ipython",
    "version": 3
   },
   "file_extension": ".py",
   "mimetype": "text/x-python",
   "name": "python",
   "nbconvert_exporter": "python",
   "pygments_lexer": "ipython3",
   "version": "3.12.5"
  }
 },
 "nbformat": 4,
 "nbformat_minor": 2
}
