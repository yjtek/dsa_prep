{
 "cells": [
  {
   "cell_type": "markdown",
   "metadata": {},
   "source": [
    "## Main"
   ]
  },
  {
   "cell_type": "markdown",
   "metadata": {},
   "source": [
    "- Approach 1: 2 pointers?\n",
    "    - Init a deletion counter as 1\n",
    "    - Start pointers from the 2 ends\n",
    "    - Iteratively Inc/decrementing pointers\n",
    "    - If you meet a mismatch at the pointers, recursively call the function with l+1 \n",
    "    - if still mismatch, call function with r-1 \n",
    "    - If still mismatch then return False\n",
    "    - Else if counters meet, then true\n",
    "    - This solution is $O(N)$ time, and $O(M)$ stack space due to recursion (doesn't scale by length, but by the number of $M$ deletions you have)\n",
    "\n",
    "- Approach 1 would probably work, but I think you can't change the function input set, so you can't add \"deletion_counter\" as an input. So how?\n",
    "\n",
    "- Approach 2: Use the same approach, but just don't recurse? This solution is still $O(N)$ time, without the $O(M)$ stack space"
   ]
  },
  {
   "cell_type": "code",
   "execution_count": 7,
   "metadata": {},
   "outputs": [
    {
     "name": "stdout",
     "output_type": "stream",
     "text": [
      "l=0, r=4\n",
      "l1=1, r1=4\n",
      "l2=0, r2=3\n",
      "l2=0, r2=3\n",
      "l2=1, r2=2\n"
     ]
    },
    {
     "data": {
      "text/plain": [
       "True"
      ]
     },
     "execution_count": 7,
     "metadata": {},
     "output_type": "execute_result"
    }
   ],
   "source": [
    "class Solution:\n",
    "    def validPalindrome(self, s: str) -> bool:\n",
    "        l, r = 0, len(s)-1\n",
    "        # print(f\"{l=}, {r=}\")\n",
    "        while (l <= r) and (s[l] == s[r]):\n",
    "            # print(f\"{l=}, {r=}\")\n",
    "            l += 1\n",
    "            r -= 1\n",
    "        \n",
    "        if l >= r:\n",
    "            return True\n",
    "        else:\n",
    "            l1 = l+1\n",
    "            r1 = r\n",
    "            # print(f\"{l1=}, {r1=}\")\n",
    "            while (l1 <= r1) and (s[l1] == s[r1]):\n",
    "                # print(f\"{l1=}, {r1=}\")\n",
    "                l1 += 1\n",
    "                r1 -= 1\n",
    "            \n",
    "            if l1 >= r1:\n",
    "                return True\n",
    "            \n",
    "            else:\n",
    "                l2 = l\n",
    "                r2 = r-1\n",
    "                # print(f\"{l2=}, {r2=}\")\n",
    "                while (l2 <= r2) and (s[l2] == s[r2]):\n",
    "                    # print(f\"{l2=}, {r2=}\")\n",
    "                    l2 += 1\n",
    "                    r2 -= 1\n",
    "                \n",
    "                if l2 >= r2:\n",
    "                    return True\n",
    "                \n",
    "        return False\n",
    "\n",
    "soln = Solution()\n",
    "soln.validPalindrome('eccer')"
   ]
  },
  {
   "cell_type": "markdown",
   "metadata": {},
   "source": [
    "## Review"
   ]
  },
  {
   "cell_type": "markdown",
   "metadata": {},
   "source": [
    "- It works, but there's probably a more elegant solution"
   ]
  },
  {
   "cell_type": "markdown",
   "metadata": {},
   "source": []
  }
 ],
 "metadata": {
  "kernelspec": {
   "display_name": "dsa_prep",
   "language": "python",
   "name": "python3"
  },
  "language_info": {
   "codemirror_mode": {
    "name": "ipython",
    "version": 3
   },
   "file_extension": ".py",
   "mimetype": "text/x-python",
   "name": "python",
   "nbconvert_exporter": "python",
   "pygments_lexer": "ipython3",
   "version": "3.12.5"
  }
 },
 "nbformat": 4,
 "nbformat_minor": 2
}
