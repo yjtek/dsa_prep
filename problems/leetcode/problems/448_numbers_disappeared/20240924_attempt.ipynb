{
 "cells": [
  {
   "cell_type": "markdown",
   "metadata": {},
   "source": [
    "## Main"
   ]
  },
  {
   "cell_type": "markdown",
   "metadata": {},
   "source": [
    "- If the number of missing values is 2 or less, we can use **XOR** trick\n",
    "    - Since we don't have this certainty, we need to use another approach\n",
    "\n",
    "- Approach 1\n",
    "    - Create a set `A` containing values $[1,n]$, and empty set `B`\n",
    "        - This takes $O(N)$ space\n",
    "    - Iterate through the `nums` array in $O(N)$ time\n",
    "        - For every value encountered, if it is in `A`, remove from `A` and add to `B`\n",
    "        - If value not in `A` or `B`, continue\n",
    "    - return A"
   ]
  },
  {
   "cell_type": "code",
   "execution_count": 10,
   "metadata": {},
   "outputs": [
    {
     "data": {
      "text/plain": [
       "[2]"
      ]
     },
     "execution_count": 10,
     "metadata": {},
     "output_type": "execute_result"
    }
   ],
   "source": [
    "class Solution:\n",
    "    def findDisappearedNumbers(self, nums: list[int]) -> list[int]:\n",
    "        A: set = set(range(1, len(nums)+1))\n",
    "        B: set = set()\n",
    "\n",
    "        for x in nums:\n",
    "            if x in A:\n",
    "                A.remove(x)\n",
    "            \n",
    "            if x not in B:\n",
    "                B.add(x)\n",
    "            \n",
    "        return list(A)\n",
    "    \n",
    "soln = Solution()\n",
    "soln.findDisappearedNumbers([4,3,2,7,8,2,3,1])\n",
    "soln.findDisappearedNumbers([1,1])"
   ]
  },
  {
   "cell_type": "markdown",
   "metadata": {},
   "source": [
    "## Followup"
   ]
  },
  {
   "cell_type": "markdown",
   "metadata": {},
   "source": [
    "- No clue"
   ]
  },
  {
   "cell_type": "markdown",
   "metadata": {},
   "source": [
    "## Review"
   ]
  },
  {
   "cell_type": "markdown",
   "metadata": {},
   "source": [
    "- You failed to find the solution with $O(1)$ space, only managed brute force\n",
    "- Also your brute force uses extra space for no good reason...\n",
    "- Just iterate through the input array and remove from the full array if it is there, otherwise skip. No need for extra set to store deleted array"
   ]
  }
 ],
 "metadata": {
  "kernelspec": {
   "display_name": "dsa_prep",
   "language": "python",
   "name": "python3"
  },
  "language_info": {
   "codemirror_mode": {
    "name": "ipython",
    "version": 3
   },
   "file_extension": ".py",
   "mimetype": "text/x-python",
   "name": "python",
   "nbconvert_exporter": "python",
   "pygments_lexer": "ipython3",
   "version": "3.12.5"
  }
 },
 "nbformat": 4,
 "nbformat_minor": 2
}
