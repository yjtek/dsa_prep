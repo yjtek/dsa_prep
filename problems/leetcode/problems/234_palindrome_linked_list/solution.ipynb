{
 "cells": [
  {
   "cell_type": "markdown",
   "metadata": {},
   "source": [
    "## Main"
   ]
  },
  {
   "cell_type": "markdown",
   "metadata": {},
   "source": [
    "- This is kind of a \"trick-based\" question. That is, you're probably only going to be able to solve it efficiently if you know the trick\n",
    "\n",
    "- The trick here is to use 2 pointers in a unique manner:\n",
    "    - Both pointers start at the head of the linked list\n",
    "    - Pointer one increments by 1, pointer two increments by 2\n",
    "    - So when pointer two is at the end of the linked list, pointer 1 is at the midpoint!\n",
    "\n",
    "- Having done this, to check if the linked list is a palindrome, going forward from pointer 1 at the midpoint to the end must be the same as going backward from pointer 1 to the head\n",
    "\n",
    "- But hang on, this is a **singly** linked list. So how can we move backwards?\n",
    "    - In this case, we need to reverse the left half of the linked list up to the midpoint\n",
    "\n",
    "- Complexity analysis\n",
    "    - Overall time complexity is $O(N)$\n",
    "        - To traverse the entire list, we take $O(N)$ time\n",
    "        - To reverse a linked list, also takes $O(N)$ time\n",
    "        - To compare the 2 sub linked lists, will take $O(N)$ time\n",
    "    - Overall space complexity is $O(1)$\n",
    "        - No additional space is used because we are just traversing and modifying the existing list\n",
    "\n",
    "- Sketch\n",
    "    - Imagine a linked list of length 5 (i.e. 1,2,3,4,5)\n",
    "        - Iterating through pointer positions: \n",
    "            - (0,0)\n",
    "            - (1,2)\n",
    "            - (2,4)\n",
    "            - Terminate, next index after 4 is null\n",
    "        - From linked list in positions [0,1,2], reverse it\n",
    "        - Check that [2,1,0] is the same as [2,3,4]\n",
    "\n",
    "    - Imagine a linked list of length 4 (i.e. 1,2,3,4)\n",
    "        - Iterating through pointer positions: \n",
    "            - (0,0)\n",
    "            - (1,2)\n",
    "            - (2,4) \n",
    "            - Terminate, because 4 is null\n",
    "        - From linked list in positions [0,1], reverse it\n",
    "            - This differs from the above\n",
    "            - **RULE:**\n",
    "                - In general, if pointer2 is null, we reverse everything up to pointer 1's position minus 1\n",
    "                - If pointer2.next is null, then reverse everything up to and including pointer1\n",
    "        - Check that [1,0] is the same as [2,3]\n",
    "\n",
    "    - Imagine a linked list of length 3 (i.e. 1,2,3)\n",
    "        - Iterating through pointer positions: \n",
    "            - (0,0)\n",
    "            - (1,2)\n",
    "            - Terminate, because 2.next is null\n",
    "        - Using **rule** above, reverse [0,1] to [1,0] and compare with [1,2]\n",
    "    \n",
    "    - Imagine a linked list of length 2 (i.e. 1,2)\n",
    "        - Iterating through pointer positions: \n",
    "            - (0,0)\n",
    "            - (1,2)\n",
    "            - Terminate, because pointer2 is null\n",
    "        - Using **rule** above, reverse [0] to [0] and compare with [1]\n",
    "\n",
    "    - Imagine a linked list of length 1\n",
    "        - Iterating through pointer positions: \n",
    "            - (0,0)\n",
    "            - Terminate, because pointer2.next is null\n",
    "        - Using **rule** above, reverse [0] to [0] and compare with [0]\n",
    "        - TRUE BY DEFINITION, this is a base case"
   ]
  },
  {
   "cell_type": "code",
   "execution_count": null,
   "metadata": {},
   "outputs": [],
   "source": [
    "from typing import Optional\n",
    "\n",
    "# Definition for singly-linked list.\n",
    "class ListNode:\n",
    "    def __init__(self, val=0, next=None):\n",
    "        self.val = val\n",
    "        self.next = next\n",
    "\n",
    "class Solution:\n",
    "    def isPalindrome(self, head: Optional[ListNode]) -> bool:\n",
    "        pointer1, pointer2 = head, head\n",
    "        while (pointer2) and (pointer2.next):\n",
    "            # print(f'{pointer1.val=}, {pointer2.val=}')\n",
    "            if (not pointer1) or (not pointer2):\n",
    "                raise ValueError('Neither pointer should be null')\n",
    "            \n",
    "            pointer1 = pointer1.next\n",
    "            pointer2 = pointer2.next.next\n",
    "            # print(f'{pointer1.val if pointer1 else None=}, {pointer2.val if pointer2 else None=}')\n",
    "        \n",
    "        def reverse_linked_list(head: Optional[ListNode], stopping_node: Optional[ListNode] = None) -> Optional[ListNode]:\n",
    "            _curr_node = head\n",
    "            _prev_node = None\n",
    "\n",
    "            while _curr_node:\n",
    "                _next_node = _curr_node.next\n",
    "                _curr_node.next = _prev_node\n",
    "                _prev_node = _curr_node\n",
    "                _curr_node = _next_node\n",
    "                \n",
    "                if _curr_node == stopping_node:\n",
    "                    break\n",
    "\n",
    "            return _prev_node\n",
    "        \n",
    "        new_head = reverse_linked_list(head=head, stopping_node=pointer1)\n",
    "        if pointer2:\n",
    "            # print(f'pointer2 does not exist, compare linked list up to and excluding pointer1 with linked list from pointer1 to end')\n",
    "            \n",
    "            ## There is no need to compare pointer1 with pointer1, because it is equal by definition. So just start the comparison of linkedlists using the node before pointer1 as the head, and the node after pointer1 as the head\n",
    "            pointer1 = pointer1.next\n",
    "        else:\n",
    "            ## reverse linked list up to and including pointer1\n",
    "            # print(f'pointer2 does not exist, compare linked list up to and including pointer1 with linked list from pointer1 to end')\n",
    "            ...\n",
    "\n",
    "        while new_head and pointer1:\n",
    "            # print(f\"{new_head.val=}, {pointer1.val=}\")\n",
    "            if new_head.val != pointer1.val:\n",
    "                return False\n",
    "            new_head = new_head.next\n",
    "            pointer1 = pointer1.next\n",
    "                \n",
    "        return True    \n"
   ]
  },
  {
   "cell_type": "code",
   "execution_count": null,
   "metadata": {},
   "outputs": [
    {
     "name": "stdout",
     "output_type": "stream",
     "text": [
      "pointer1.val=1, pointer2.val=1\n",
      "pointer1.val if pointer1 else None=0, pointer2.val if pointer2 else None=0\n",
      "pointer2 does not exist, compare linked list up to and excluding pointer1 with linked list from pointer1 to end\n",
      "new_head.val=1, pointer1.val=0\n"
     ]
    },
    {
     "data": {
      "text/plain": [
       "False"
      ]
     },
     "metadata": {},
     "output_type": "display_data"
    }
   ],
   "source": [
    "one = ListNode(val=1)\n",
    "two = ListNode(val=0)\n",
    "three = ListNode(val=0)\n",
    "# four = ListNode(val=1)\n",
    "\n",
    "one.next = two\n",
    "two.next = three\n",
    "# three.next = four\n",
    "\n",
    "soln = Solution()\n",
    "soln.isPalindrome(one)"
   ]
  },
  {
   "cell_type": "markdown",
   "metadata": {},
   "source": [
    "## Followup"
   ]
  },
  {
   "cell_type": "markdown",
   "metadata": {},
   "source": [
    "- Already $O(N)$ time and $O(1)$ memory"
   ]
  },
  {
   "cell_type": "markdown",
   "metadata": {},
   "source": []
  }
 ],
 "metadata": {
  "kernelspec": {
   "display_name": "dsa_prep",
   "language": "python",
   "name": "python3"
  },
  "language_info": {
   "codemirror_mode": {
    "name": "ipython",
    "version": 3
   },
   "file_extension": ".py",
   "mimetype": "text/x-python",
   "name": "python",
   "nbconvert_exporter": "python",
   "pygments_lexer": "ipython3",
   "version": "3.10.13"
  }
 },
 "nbformat": 4,
 "nbformat_minor": 2
}
