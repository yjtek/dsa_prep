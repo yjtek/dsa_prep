{
 "cells": [
  {
   "cell_type": "markdown",
   "metadata": {},
   "source": [
    "## Main"
   ]
  },
  {
   "cell_type": "markdown",
   "metadata": {},
   "source": [
    "- Idea:\n",
    "    - Init a stack and iterate through asteroid array\n",
    "    - The only time asteroids collide is if the previous one is moving rightwards, and the current one is moving leftwards\n",
    "    - while the left moving asteroid is larger, eliminate the previous right moving asteroids from stack\n",
    "    - This terminates in 1 of 2 outcomes\n",
    "        - There is no longer a stack, in which case this asteroid will end up being the first item in the stack\n",
    "        - There is still a stack, and the top value is larger than the current asteroid, in which case we continue\n",
    "        - There is still a stack, and the top value is equal to the current asteroid, in which case we pop from the stack and continue"
   ]
  },
  {
   "cell_type": "code",
   "execution_count": null,
   "metadata": {},
   "outputs": [
    {
     "data": {
      "text/plain": [
       "[-2, -2, -2]"
      ]
     },
     "metadata": {},
     "output_type": "display_data"
    }
   ],
   "source": [
    "class Solution:\n",
    "    def asteroidCollision(self, asteroids: list[int]) -> list[int]:\n",
    "        stack = []\n",
    "        for a in asteroids:\n",
    "            if (\n",
    "                not stack \n",
    "                or (not (stack[-1] > 0 and a < 0))\n",
    "            ):\n",
    "                stack.append(a)\n",
    "                continue\n",
    "            \n",
    "            ## This must be the case where a < 0 and stack[-1] > 0\n",
    "            while stack and (stack[-1] > 0 and a < 0) and (abs(a) > stack[-1]):\n",
    "                stack.pop()\n",
    "            \n",
    "            if (not stack) or (stack[-1] < 0 and a < 0):\n",
    "                stack.append(a)\n",
    "            elif stack[-1] > 0 and stack[-1] == -a:\n",
    "                stack.pop()\n",
    "            \n",
    "        return stack\n",
    "\n",
    "s = Solution()\n",
    "s.asteroidCollision([5,10,-5])\n",
    "s.asteroidCollision([8,-8])\n",
    "s.asteroidCollision([10,2,-5])\n",
    "s.asteroidCollision([-2,-1,1,2])\n",
    "s.asteroidCollision([-2,-2,1,-2])"
   ]
  }
 ],
 "metadata": {
  "kernelspec": {
   "display_name": "dsa_prep",
   "language": "python",
   "name": "python3"
  },
  "language_info": {
   "codemirror_mode": {
    "name": "ipython",
    "version": 3
   },
   "file_extension": ".py",
   "mimetype": "text/x-python",
   "name": "python",
   "nbconvert_exporter": "python",
   "pygments_lexer": "ipython3",
   "version": "3.10.13"
  }
 },
 "nbformat": 4,
 "nbformat_minor": 2
}
