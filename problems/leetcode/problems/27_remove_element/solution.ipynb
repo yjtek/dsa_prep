{
 "cells": [
  {
   "cell_type": "markdown",
   "metadata": {},
   "source": [
    "## Main"
   ]
  },
  {
   "cell_type": "markdown",
   "metadata": {},
   "source": [
    "- Two pointers\n",
    "- One points to the curr index, one points to the end of the array\n",
    "- While end_index = element to remove, end_index - 1\n",
    "\n",
    "- If you encounter an element to remove, swap it with the last element of the array, which we already know is an element you want to keep\n",
    "- Decrement the end_index\n",
    "- increment the start_index\n",
    "- End when start_index == end_index\n",
    "- return start index+1\n",
    "\n",
    "- This runs in $O(N)$ time, with no extra space"
   ]
  },
  {
   "cell_type": "code",
   "execution_count": null,
   "metadata": {},
   "outputs": [],
   "source": [
    "class Solution:\n",
    "    def removeElement(self, nums: list[int], val: int) -> int:\n",
    "        if not nums:\n",
    "            return 0\n",
    "        start_index, end_index = 0, len(nums)-1\n",
    "\n",
    "        while start_index < end_index:\n",
    "            # print('='*50)\n",
    "            # print(f\"{nums=}, {start_index=}, {end_index=}, {nums[start_index]}, {nums[end_index]}\")\n",
    "            if nums[end_index] == val:\n",
    "                end_index -= 1\n",
    "                continue\n",
    "            \n",
    "            # print(f\"{nums=}, {start_index=}, {end_index=}, {nums[start_index]}, {nums[end_index]}\")\n",
    "            if nums[start_index] == val:\n",
    "                nums[start_index], nums[end_index] = nums[end_index], nums[start_index]\n",
    "                end_index -= 1\n",
    "            \n",
    "            # print(f\"{nums=}, {start_index=}, {end_index=}, {nums[start_index]}, {nums[end_index]}\")\n",
    "            start_index += 1\n",
    "\n",
    "            # print(f\"{nums=}, {start_index=}, {end_index=}, {nums[start_index]}, {nums[end_index]}\")\n",
    "        \n",
    "        return end_index+1 if nums[end_index] != val else end_index"
   ]
  }
 ],
 "metadata": {
  "kernelspec": {
   "display_name": "dsa_prep",
   "language": "python",
   "name": "python3"
  },
  "language_info": {
   "codemirror_mode": {
    "name": "ipython",
    "version": 3
   },
   "file_extension": ".py",
   "mimetype": "text/x-python",
   "name": "python",
   "nbconvert_exporter": "python",
   "pygments_lexer": "ipython3",
   "version": "3.10.13"
  }
 },
 "nbformat": 4,
 "nbformat_minor": 2
}
