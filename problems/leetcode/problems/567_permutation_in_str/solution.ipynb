{
 "cells": [
  {
   "cell_type": "markdown",
   "metadata": {},
   "source": [
    "## Main"
   ]
  },
  {
   "cell_type": "markdown",
   "metadata": {},
   "source": [
    "- Idea\n",
    "    - use hashmap to check for permutations efficiently\n",
    "    - Use sliding window through s2 to check for permutation"
   ]
  },
  {
   "cell_type": "code",
   "execution_count": null,
   "metadata": {},
   "outputs": [
    {
     "data": {
      "text/plain": [
       "False"
      ]
     },
     "metadata": {},
     "output_type": "display_data"
    }
   ],
   "source": [
    "class Solution:\n",
    "    def checkInclusion(self, s1: str, s2: str) -> bool:\n",
    "        s1_count = {}\n",
    "        for c in s1:\n",
    "            s1_count[c] = 1 + s1_count.get(c, 0)\n",
    "        \n",
    "        l, r = 0, 0\n",
    "        s2_count = {}\n",
    "        while r < len(s2):\n",
    "            s2_count[s2[r]] = 1 + s2_count.get(s2[r], 0)\n",
    "\n",
    "            if (r-l+1) > len(s1):\n",
    "                s2_count[s2[l]] -= 1\n",
    "                if s2_count[s2[l]] == 0:\n",
    "                    s2_count.pop(s2[l])\n",
    "                l += 1\n",
    "            \n",
    "            if (r-l+1) == len(s1):\n",
    "                if s1_count == s2_count:\n",
    "                    return True\n",
    "\n",
    "            r += 1\n",
    "\n",
    "        return False\n",
    "\n",
    "s = Solution()\n",
    "s.checkInclusion('ab', 'eidbaooo')\n",
    "s.checkInclusion('ab', 'eidboaoo')"
   ]
  }
 ],
 "metadata": {
  "kernelspec": {
   "display_name": "dsa_prep",
   "language": "python",
   "name": "python3"
  },
  "language_info": {
   "codemirror_mode": {
    "name": "ipython",
    "version": 3
   },
   "file_extension": ".py",
   "mimetype": "text/x-python",
   "name": "python",
   "nbconvert_exporter": "python",
   "pygments_lexer": "ipython3",
   "version": "3.10.13"
  }
 },
 "nbformat": 4,
 "nbformat_minor": 2
}
