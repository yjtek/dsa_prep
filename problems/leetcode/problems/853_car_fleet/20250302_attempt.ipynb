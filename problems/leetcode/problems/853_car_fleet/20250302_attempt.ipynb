{
 "cells": [
  {
   "cell_type": "markdown",
   "metadata": {},
   "source": [
    "## Main"
   ]
  },
  {
   "cell_type": "markdown",
   "metadata": {},
   "source": [
    "- First idea: will implement $N \\log N$ solution first\n",
    "  - First, we sort the `position` array using np.argsort in descending order\n",
    "  - Then, sort speed in the same way\n",
    "  - Then, going from left to right, check how many steps the car is from the `target` (i.e. `math.ceiling(target-position/speed)`)\n",
    "  - store this in `tmp`\n",
    "  - Go to the next object. If the new car's steps from the endpoint <= tmp, then it will be part of the same fleet. Otherwise, add 1 to fleet count, and treat the next object as a new fleet\n",
    "  - Iterate till end of array\n",
    "  - Total time complexity is $O(N \\log N)$ time from the sort with $O(1)$ space\n"
   ]
  },
  {
   "cell_type": "code",
   "execution_count": 8,
   "metadata": {},
   "outputs": [
    {
     "data": {
      "text/plain": [
       "[(10, 1), (5, 3), (2, 4)]"
      ]
     },
     "execution_count": 8,
     "metadata": {},
     "output_type": "execute_result"
    }
   ],
   "source": [
    "test = [(5,3),(2,4),(10,1)]\n",
    "# test.sort(lambda x: x[0])\n",
    "sorted(test, key=lambda x: x[1])"
   ]
  },
  {
   "cell_type": "code",
   "execution_count": 14,
   "metadata": {},
   "outputs": [
    {
     "name": "stdout",
     "output_type": "stream",
     "text": [
      "3\n",
      "2\n",
      "1\n"
     ]
    }
   ],
   "source": [
    "tmp = [1,2,3]\n",
    "while tmp:\n",
    "    print(tmp.pop())"
   ]
  },
  {
   "cell_type": "code",
   "execution_count": 20,
   "metadata": {},
   "outputs": [
    {
     "data": {
      "text/plain": [
       "[]"
      ]
     },
     "execution_count": 20,
     "metadata": {},
     "output_type": "execute_result"
    }
   ],
   "source": [
    "locals()['tmp']"
   ]
  },
  {
   "cell_type": "code",
   "execution_count": 30,
   "metadata": {},
   "outputs": [
    {
     "data": {
      "text/plain": [
       "2"
      ]
     },
     "execution_count": 30,
     "metadata": {},
     "output_type": "execute_result"
    }
   ],
   "source": [
    "import math\n",
    "\n",
    "class Solution:\n",
    "    def carFleet(self, target: int, position: list[int], speed: list[int]) -> int:\n",
    "        tups: list[tuple[int, int, float]] = sorted(\n",
    "          [(pos, spd, math.ceil(target-pos)/spd) for pos,spd in zip(position, speed)], \n",
    "          key=lambda x: x[0]\n",
    "        )\n",
    "        res = 0\n",
    "        nxt = None\n",
    "        while tups:\n",
    "            curr = tups.pop() if not locals()['nxt'] else nxt\n",
    "            nxt = tups.pop() if tups else None\n",
    "            \n",
    "            # print('='*50)\n",
    "            # print(f\"{curr=}, {nxt=}\")\n",
    "\n",
    "            if not nxt:\n",
    "                return res + 1\n",
    "            \n",
    "            if curr:\n",
    "                if curr[2] < nxt[2]:\n",
    "                    res += 1\n",
    "\n",
    "        return res + 1\n",
    "\n",
    "s = Solution()\n",
    "s.carFleet(12, [10,8,0,5,3], [2,4,1,1,3])\n",
    "s.carFleet(10, [3], [3])\n",
    "s.carFleet(100, [0,2,4], [4,2,1])\n",
    "s.carFleet(10, [0,4,2], [2,1,3])"
   ]
  },
  {
   "cell_type": "markdown",
   "metadata": {},
   "source": [
    "## Review"
   ]
  },
  {
   "cell_type": "markdown",
   "metadata": {},
   "source": [
    "- Idea is correct, implementation could be faster"
   ]
  }
 ],
 "metadata": {
  "kernelspec": {
   "display_name": "dsa_prep",
   "language": "python",
   "name": "python3"
  },
  "language_info": {
   "codemirror_mode": {
    "name": "ipython",
    "version": 3
   },
   "file_extension": ".py",
   "mimetype": "text/x-python",
   "name": "python",
   "nbconvert_exporter": "python",
   "pygments_lexer": "ipython3",
   "version": "3.10.13"
  }
 },
 "nbformat": 4,
 "nbformat_minor": 2
}
