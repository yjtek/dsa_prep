{
 "metadata": {
  "language_info": {
   "codemirror_mode": {
    "name": "ipython",
    "version": 3
   },
   "file_extension": ".py",
   "mimetype": "text/x-python",
   "name": "python",
   "nbconvert_exporter": "python",
   "pygments_lexer": "ipython3",
   "version": "3.8.5"
  },
  "orig_nbformat": 2,
  "kernelspec": {
   "name": "python385jvsc74a57bd09892fafd1af1be696c57cfa36b32f0b848a83b584ebe196a32a915c591a14bc8",
   "display_name": "Python 3.8.5 64-bit ('leetcode-main': venv)"
  },
  "metadata": {
   "interpreter": {
    "hash": "9892fafd1af1be696c57cfa36b32f0b848a83b584ebe196a32a915c591a14bc8"
   }
  }
 },
 "nbformat": 4,
 "nbformat_minor": 2,
 "cells": [
  {
   "source": [
    "Lessons:\n",
    "\n",
    "1) Longer code generally means more memory use, but not necessarily less speed <br>\n",
    "2) Specific built ins tend to be more speedy. In this case, knowing the bit_length() method is helpful <br>"
   ],
   "cell_type": "markdown",
   "metadata": {}
  },
  {
   "cell_type": "code",
   "execution_count": 1,
   "metadata": {},
   "outputs": [
    {
     "output_type": "stream",
     "name": "stdout",
     "text": [
      "/Users/yongjian.tek/Desktop/leetcode-main/bin/python3\n"
     ]
    }
   ],
   "source": [
    "!which python3"
   ]
  },
  {
   "cell_type": "code",
   "execution_count": 19,
   "metadata": {},
   "outputs": [],
   "source": [
    "def reverse(self, x: int) -> int:        \n",
    "    holder = int(str(abs(x))[::-1])\n",
    "    \n",
    "    if holder.bit_length() >= 32:\n",
    "        return 0\n",
    "    else:\n",
    "        if x < 0:\n",
    "            return 0 - holder\n",
    "        else:\n",
    "            return holder"
   ]
  },
  {
   "cell_type": "code",
   "execution_count": null,
   "metadata": {},
   "outputs": [],
   "source": []
  },
  {
   "cell_type": "code",
   "execution_count": 39,
   "metadata": {},
   "outputs": [
    {
     "output_type": "stream",
     "name": "stdout",
     "text": [
      "CPU times: user 7 µs, sys: 0 ns, total: 7 µs\nWall time: 7.87 µs\n"
     ]
    },
    {
     "output_type": "execute_result",
     "data": {
      "text/plain": [
       "17627185321"
      ]
     },
     "metadata": {},
     "execution_count": 39
    }
   ],
   "source": [
    "%%time\n",
    "reverse(12358172671)"
   ]
  }
 ]
}