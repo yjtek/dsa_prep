{
 "cells": [
  {
   "attachments": {},
   "cell_type": "markdown",
   "metadata": {},
   "source": [
    "# Qn"
   ]
  },
  {
   "attachments": {},
   "cell_type": "markdown",
   "metadata": {},
   "source": [
    "You are given two non-empty linked lists representing two non-negative integers. The digits are stored in reverse order, and each of their nodes contains a single digit. Add the two numbers and return the sum as a linked list.\n",
    "\n",
    "You may assume the two numbers do not contain any leading zero, except the number 0 itself.\n",
    "\n",
    "Example 1:\n",
    "- Input: l1 = [2,4,3], l2 = [5,6,4]\n",
    "- Output: [7,0,8]\n",
    "- Explanation: 342 + 465 = 807.\n",
    "\n",
    "Example 2:\n",
    "- Input: l1 = [0], l2 = [0]\n",
    "- Output: [0]\n",
    "\n",
    "Example 3:\n",
    "- Input: l1 = [9,9,9,9,9,9,9], l2 = [9,9,9,9]\n",
    "- Output: [8,9,9,9,0,0,0,1]\n",
    "\n",
    "Constraints:\n",
    "- The number of nodes in each linked list is in the range [1, 100].\n",
    "- 0 <= Node.val <= 9\n",
    "- It is guaranteed that the list represents a number that does not have leading zeros."
   ]
  },
  {
   "cell_type": "code",
   "execution_count": 4,
   "metadata": {},
   "outputs": [],
   "source": [
    "class ListNode:\n",
    "    def __init__(self, val=0, next=None):\n",
    "        self.val: int = val\n",
    "        self.next: ListNode = next"
   ]
  },
  {
   "attachments": {},
   "cell_type": "markdown",
   "metadata": {},
   "source": [
    "# Option 1: Iterative sum through singly-linked lists"
   ]
  },
  {
   "attachments": {},
   "cell_type": "markdown",
   "metadata": {},
   "source": [
    "There is no algorithmic trick here, it is a simple linked list traversal problem. Let's recap the salient points\n",
    "1. The linked lists store the numbers in reverse\n",
    "2. No leading 0s, except for the number 0\n",
    "3. ListNode.val is non-negative and between 0-9\n",
    "\n",
    "This lends itself to straightforward traversal, and summation. Let's implement Example 1 to see what the value is."
   ]
  },
  {
   "cell_type": "code",
   "execution_count": 33,
   "metadata": {},
   "outputs": [],
   "source": [
    "# l1 = [2,4,3], l2 = [5,6,4]\n",
    "l1_2=ListNode(val=3, next=None)\n",
    "l1_1=ListNode(val=4, next=l1_2)\n",
    "l1_0=ListNode(val=2, next=l1_1)\n",
    "\n",
    "l2_2=ListNode(val=4, next=None)\n",
    "l2_1=ListNode(val=6, next=l2_2)\n",
    "l2_0=ListNode(val=5, next=l2_1)\n",
    "\n",
    "def display_linked_list(head_node: ListNode, collect_to_int: bool) -> None:\n",
    "    node=head_node\n",
    "    node_end=False\n",
    "    ll_int=''\n",
    "    while ~node_end:\n",
    "        if collect_to_int:\n",
    "            ll_int += str(node.val)        \n",
    "        else:\n",
    "            print(node.val)\n",
    "\n",
    "        if node.next is None:\n",
    "            break\n",
    "        else:\n",
    "            node=node.next\n",
    "    \n",
    "    if collect_to_int:\n",
    "        return int(ll_int[::-1])\n",
    "        \n",
    "# display_linked_list(l1_0, collect_to_int=False)\n",
    "# display_linked_list(l2_0, collect_to_int=True)\n"
   ]
  },
  {
   "cell_type": "code",
   "execution_count": 39,
   "metadata": {},
   "outputs": [
    {
     "data": {
      "text/plain": [
       "807"
      ]
     },
     "execution_count": 39,
     "metadata": {},
     "output_type": "execute_result"
    }
   ],
   "source": [
    "# l1 = [2,4,3], l2 = [5,6,4]\n",
    "def sum_linked_lists(ll1: ListNode, ll2: ListNode) -> ListNode:\n",
    "    carry=0\n",
    "    collect_nodes = []\n",
    "    \n",
    "    node1 = ll1\n",
    "    node2 = ll2\n",
    "\n",
    "    while (node1 is not None) or (node2 is not None) or (carry != 0):\n",
    "        # print('='*50)\n",
    "        val=(getattr(node1,'val',0) + getattr(node2,'val',0) + carry) % 10\n",
    "        # print(val)\n",
    "        if (getattr(node1,'val',0) + getattr(node2,'val',0) + carry) >= 10:\n",
    "            carry = 1\n",
    "        else:\n",
    "            carry = 0\n",
    "        collect_nodes.append(ListNode(val=val, next=None))\n",
    "        node1 = getattr(node1,'next',None)\n",
    "        node2 = getattr(node2,'next',None)\n",
    "\n",
    "    for node_index in range(len(collect_nodes)-1):\n",
    "        collect_nodes[node_index].next = collect_nodes[node_index+1]\n",
    "    \n",
    "    return collect_nodes[0]\n",
    "\n",
    "# linked_list_head=sum_linked_lists(l1_0, l2_0)\n",
    "# linked_list_head=sum_linked_lists(l1_1, l2_0)\n",
    "# linked_list_head=sum_linked_lists(None, l2_0)\n",
    "display_linked_list(linked_list_head, collect_to_int=True)"
   ]
  }
 ],
 "metadata": {
  "kernelspec": {
   "display_name": "leetcode",
   "language": "python",
   "name": "python3"
  },
  "language_info": {
   "codemirror_mode": {
    "name": "ipython",
    "version": 3
   },
   "file_extension": ".py",
   "mimetype": "text/x-python",
   "name": "python",
   "nbconvert_exporter": "python",
   "pygments_lexer": "ipython3",
   "version": "3.10.4"
  },
  "orig_nbformat": 4
 },
 "nbformat": 4,
 "nbformat_minor": 2
}
