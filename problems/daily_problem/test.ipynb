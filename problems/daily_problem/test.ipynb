{
 "cells": [
  {
   "cell_type": "code",
   "execution_count": 4,
   "metadata": {},
   "outputs": [
    {
     "name": "stdout",
     "output_type": "stream",
     "text": [
      "5.0\n",
      "8.0\n",
      "8.0\n",
      "3.0\n",
      "3.0\n",
      "3.0\n"
     ]
    }
   ],
   "source": [
    "import numpy as np\n",
    "\n",
    "input_arr = [-1, 5, 13, 8, 2, 3, 3, 1]\n",
    "window_size = 3\n",
    "\n",
    "def naive_solution(input_arr):\n",
    "    '''\n",
    "    Time complexity: O(N * M), where N is the array size, and M is the window size. We incur O(N) from looping across the entire position of the array, and O(M) from looping across the entire window at each iteration of M to find the median\n",
    "    Space complexity: O(1)\n",
    "    '''\n",
    "    for i in range(len(input_arr)-window_size+1):\n",
    "        print(np.median(input_arr[i:(i+window_size)]))\n",
    "\n",
    "def sort_first(input_arr):\n",
    "    '''\n",
    "    Instead of running 2 loops, we can simply sort the initial input array. Once the array is sorted, we can return the middle element if window size is odd, or the average of the middle elements, if window size is even.\n",
    "\n",
    "    Time complexity: O(N log N) from sorting. The remaining lookup is a constant time operation\n",
    "    Space complexity: O(1)\n",
    "    '''\n",
    "    sorted(input_arr)"
   ]
  }
 ],
 "metadata": {
  "kernelspec": {
   "display_name": "kaggle",
   "language": "python",
   "name": "python3"
  },
  "language_info": {
   "codemirror_mode": {
    "name": "ipython",
    "version": 3
   },
   "file_extension": ".py",
   "mimetype": "text/x-python",
   "name": "python",
   "nbconvert_exporter": "python",
   "pygments_lexer": "ipython3",
   "version": "3.10.4"
  }
 },
 "nbformat": 4,
 "nbformat_minor": 2
}
