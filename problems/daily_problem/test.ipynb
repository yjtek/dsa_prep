{
 "cells": [
  {
   "cell_type": "code",
   "execution_count": 17,
   "metadata": {},
   "outputs": [
    {
     "data": {
      "text/plain": [
       "5"
      ]
     },
     "execution_count": 17,
     "metadata": {},
     "output_type": "execute_result"
    }
   ],
   "source": [
    "input_arr = [5,2,99,3,4,1,100]\n",
    "\n",
    "input_set = set(input_arr)\n",
    "maxlen = 0\n",
    "\n",
    "for element in input_set:\n",
    "    if element-1 in input_set:\n",
    "        continue\n",
    "    \n",
    "    input_len = 1\n",
    "    while element + 1 in input_set:\n",
    "        input_len += 1\n",
    "        element += 1\n",
    "    maxlen = max(maxlen, input_len)\n",
    "\n",
    "maxlen"
   ]
  }
 ],
 "metadata": {
  "kernelspec": {
   "display_name": "kaggle",
   "language": "python",
   "name": "python3"
  },
  "language_info": {
   "codemirror_mode": {
    "name": "ipython",
    "version": 3
   },
   "file_extension": ".py",
   "mimetype": "text/x-python",
   "name": "python",
   "nbconvert_exporter": "python",
   "pygments_lexer": "ipython3",
   "version": "3.10.4"
  }
 },
 "nbformat": 4,
 "nbformat_minor": 2
}
