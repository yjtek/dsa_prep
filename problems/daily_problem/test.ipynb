{
 "cells": [
  {
   "cell_type": "code",
   "execution_count": 14,
   "metadata": {},
   "outputs": [],
   "source": [
    "import math\n",
    "import numpy as np\n",
    "\n",
    "input_arr = [0,3,5,7,9,10]\n",
    "\n",
    "def find_index_eq_val(input_arr):\n",
    "    len_input = int(np.floor(math.log2(len(input_arr))))\n",
    "    max_tries = len_input + 1\n",
    "    mid = len_input//2\n",
    "    for i in range(max_tries):\n",
    "        if input_arr[mid] == mid:\n",
    "            return mid\n",
    "        elif input_arr[mid] > mid:\n",
    "            mid = len(input_arr[(mid+1):])//2\n",
    "        elif input_arr[mid] < mid:\n",
    "            mid = len(input_arr[:mid])//2\n",
    "    return None\n",
    "\n",
    "find_index_eq_val(input_arr)"
   ]
  }
 ],
 "metadata": {
  "kernelspec": {
   "display_name": "kaggle",
   "language": "python",
   "name": "python3"
  },
  "language_info": {
   "codemirror_mode": {
    "name": "ipython",
    "version": 3
   },
   "file_extension": ".py",
   "mimetype": "text/x-python",
   "name": "python",
   "nbconvert_exporter": "python",
   "pygments_lexer": "ipython3",
   "version": "3.10.4"
  }
 },
 "nbformat": 4,
 "nbformat_minor": 2
}
