{
 "cells": [
  {
   "cell_type": "markdown",
   "metadata": {},
   "source": [
    "## Main"
   ]
  },
  {
   "cell_type": "markdown",
   "metadata": {},
   "source": [
    "- Brute force\n",
    "    - Iterate through the array and square each element in $O(N)$\n",
    "    - Sort the final array in $O(N \\log N)$\n",
    "\n",
    "- Better way (Failed attempt 1)\n",
    "    - Add the minimum element in constant time, so everything >= 0\n",
    "    - Square everything in $O(N)$\n",
    "    - But instead of just squaring, use $(a+b)^2 - b^2 - 2ab$ where $b$ is the min element\n",
    "    - Yo this still isn't sorted lol\n",
    "\n",
    "- Better way\n",
    "    - Two pointers, one at the start and one at the end of array\n",
    "    - At each stage, compare the squared values at your left and right pointer, and append the one with the smaller squared value into your answer\n",
    "    - Return answer\n"
   ]
  },
  {
   "cell_type": "code",
   "execution_count": null,
   "metadata": {},
   "outputs": [
    {
     "data": {
      "text/plain": [
       "[0, 1, 9, 16, 100]"
      ]
     },
     "metadata": {},
     "output_type": "display_data"
    }
   ],
   "source": [
    "class Solution:\n",
    "    def sortedSquares_bruteforce(self, nums: list[int]) -> list[int]:\n",
    "        return sorted([x**2 for x in nums])\n",
    "\n",
    "    def sortedSquares_linear(self, nums: list[int]) -> list[int]:\n",
    "        left, right = 0, len(nums)-1\n",
    "        ans = []\n",
    "        while left <= right:\n",
    "            if (nums[left]**2) > (nums[right]**2):\n",
    "                ans.append(nums[left]**2)\n",
    "                left += 1\n",
    "            else:\n",
    "                ans.append(nums[right]**2)\n",
    "                right -= 1\n",
    "        return ans[::-1]\n",
    "        \n",
    "soln = Solution()\n",
    "soln.sortedSquares_linear([-4,-1,0,3,10])"
   ]
  }
 ],
 "metadata": {
  "kernelspec": {
   "display_name": "dsa_prep",
   "language": "python",
   "name": "python3"
  },
  "language_info": {
   "codemirror_mode": {
    "name": "ipython",
    "version": 3
   },
   "file_extension": ".py",
   "mimetype": "text/x-python",
   "name": "python",
   "nbconvert_exporter": "python",
   "pygments_lexer": "ipython3",
   "version": "3.10.13"
  }
 },
 "nbformat": 4,
 "nbformat_minor": 2
}
