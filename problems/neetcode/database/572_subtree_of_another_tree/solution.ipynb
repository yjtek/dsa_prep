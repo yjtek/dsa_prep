{
 "cells": [
  {
   "cell_type": "markdown",
   "metadata": {},
   "source": [
    "## Main"
   ]
  },
  {
   "cell_type": "markdown",
   "metadata": {},
   "source": [
    "- Idea: We have a helper function to check if two nodes `root` and `subRoot` represent the same tree (i.e. the same node values, ending at the same point)\n",
    "\n",
    "- Then, to check isSubTree, we just check if `isSubTree(root, subRoot)`\n",
    "    - If yes, return True\n",
    "    - If no, check `isSubTree(root.left, subRoot.left)` or `isSubTree(root.left, subRoot.left)`"
   ]
  },
  {
   "cell_type": "code",
   "execution_count": null,
   "metadata": {},
   "outputs": [],
   "source": [
    "from typing import Optional\n",
    "from collections import deque\n",
    "\n",
    "# Definition for a binary tree node.\n",
    "class TreeNode:\n",
    "    def __init__(self, val=0, left=None, right=None):\n",
    "        self.val = val\n",
    "        self.left = left\n",
    "        self.right = right\n",
    "\n",
    "class Solution:\n",
    "    def same_tree(self, root: Optional[TreeNode], subRoot: Optional[TreeNode]) -> bool:\n",
    "        ## Cover both None: True\n",
    "        if not root and not subRoot:\n",
    "            return True\n",
    "        \n",
    "        ## Cover both not none and nodes equal, check subtrees\n",
    "        if root and subRoot and root.val == subRoot.val:\n",
    "            return (\n",
    "                self.same_tree(root.left, subRoot.left) and \n",
    "                self.same_tree(root.right, subRoot.right)\n",
    "            )\n",
    "        \n",
    "        ## Else, in all cases where one is None and one is not: False\n",
    "        return False\n",
    "            \n",
    "    def isSubtree(self, root: Optional[TreeNode], subRoot: Optional[TreeNode]) -> bool:        \n",
    "        \n",
    "        ## If subroot does not exist, Null tree is a subtree of a regular tree\n",
    "        if not subRoot:\n",
    "            return True\n",
    "        \n",
    "        ## If subroot exists and regular tree does not, impossible for subroot to be subtree\n",
    "        elif subRoot and not root:\n",
    "            return False\n",
    "        \n",
    "        ## For cases where subroot exists and regular tree exists, check if curr nodes are same_tree\n",
    "        if self.same_tree(root, subRoot):\n",
    "            return True\n",
    "        \n",
    "        ## If they are not, check if main tree's left child or right child are subtree\n",
    "        return (\n",
    "            self.isSubtree(root.left, subRoot) or\n",
    "            self.isSubtree(root.right, subRoot)\n",
    "        )"
   ]
  }
 ],
 "metadata": {
  "kernelspec": {
   "display_name": "dsa_prep",
   "language": "python",
   "name": "python3"
  },
  "language_info": {
   "codemirror_mode": {
    "name": "ipython",
    "version": 3
   },
   "file_extension": ".py",
   "mimetype": "text/x-python",
   "name": "python",
   "nbconvert_exporter": "python",
   "pygments_lexer": "ipython3",
   "version": "3.12.5"
  }
 },
 "nbformat": 4,
 "nbformat_minor": 2
}
