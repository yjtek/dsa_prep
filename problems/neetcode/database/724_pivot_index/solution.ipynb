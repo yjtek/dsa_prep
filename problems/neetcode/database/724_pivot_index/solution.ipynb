{
 "cells": [
  {
   "cell_type": "markdown",
   "metadata": {},
   "source": [
    "## Main"
   ]
  },
  {
   "cell_type": "markdown",
   "metadata": {},
   "source": [
    "- The idea here is to compute the total of the array first\n",
    "\n",
    "- Then, as you iterate through `nums`, you can track the \"prefix_sum\" cumulatively, and compute `suffix sum` by subtracting the `current value` and `prefix sum` from the `total`!"
   ]
  },
  {
   "cell_type": "code",
   "execution_count": 5,
   "metadata": {},
   "outputs": [
    {
     "data": {
      "text/plain": [
       "3"
      ]
     },
     "execution_count": 5,
     "metadata": {},
     "output_type": "execute_result"
    }
   ],
   "source": [
    "class Solution:\n",
    "    def pivotIndex(self, nums: list[int]) -> int:\n",
    "        total = sum(nums)\n",
    "        prefix_sum = 0\n",
    "        for i in range(0, len(nums)):\n",
    "            suffix_sum = total - nums[i] - prefix_sum\n",
    "            if prefix_sum == suffix_sum:\n",
    "                return i\n",
    "            else:\n",
    "                prefix_sum += nums[i]\n",
    "        return -1\n",
    "\n",
    "\n",
    "soln = Solution()\n",
    "soln.pivotIndex([1,2,3])\n",
    "soln.pivotIndex([1,7,3,6,5,6])"
   ]
  }
 ],
 "metadata": {
  "kernelspec": {
   "display_name": "dsa_prep",
   "language": "python",
   "name": "python3"
  },
  "language_info": {
   "codemirror_mode": {
    "name": "ipython",
    "version": 3
   },
   "file_extension": ".py",
   "mimetype": "text/x-python",
   "name": "python",
   "nbconvert_exporter": "python",
   "pygments_lexer": "ipython3",
   "version": "3.12.5"
  }
 },
 "nbformat": 4,
 "nbformat_minor": 2
}
