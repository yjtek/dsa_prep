{
 "cells": [
  {
   "cell_type": "markdown",
   "metadata": {},
   "source": [
    "## Main"
   ]
  },
  {
   "cell_type": "code",
   "execution_count": null,
   "metadata": {},
   "outputs": [
    {
     "data": {
      "text/plain": [
       "0"
      ]
     },
     "metadata": {},
     "output_type": "display_data"
    }
   ],
   "source": [
    "class Solution:\n",
    "    def calPoints(self, operations: list[str]) -> int:\n",
    "        stack = []\n",
    "        for op in operations:\n",
    "            match op:\n",
    "                case '+':\n",
    "                    if len(stack) < 2:\n",
    "                        pass\n",
    "                    stack.append(stack[-1] + stack[-2])\n",
    "                case 'D':\n",
    "                    if stack:\n",
    "                        stack.append(stack[-1]*2)\n",
    "                case 'C':\n",
    "                    if stack:\n",
    "                        stack.pop()\n",
    "                case _:\n",
    "                    if type(int(op)) == int:\n",
    "                        stack.append(int(op))\n",
    "        return sum(stack)\n",
    "    \n",
    "soln = Solution()\n",
    "soln.calPoints([\"5\",\"2\",\"C\",\"D\",\"+\"])\n",
    "soln.calPoints([\"5\",\"-2\",\"4\",\"C\",\"D\",\"9\",\"+\",\"+\"])\n",
    "soln.calPoints([\"1\", \"C\"])"
   ]
  }
 ],
 "metadata": {
  "kernelspec": {
   "display_name": "dsa_prep",
   "language": "python",
   "name": "python3"
  },
  "language_info": {
   "codemirror_mode": {
    "name": "ipython",
    "version": 3
   },
   "file_extension": ".py",
   "mimetype": "text/x-python",
   "name": "python",
   "nbconvert_exporter": "python",
   "pygments_lexer": "ipython3",
   "version": "3.10.13"
  }
 },
 "nbformat": 4,
 "nbformat_minor": 2
}
