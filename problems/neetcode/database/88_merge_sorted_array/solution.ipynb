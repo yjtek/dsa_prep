{
 "cells": [
  {
   "cell_type": "markdown",
   "metadata": {},
   "source": [
    "## Main"
   ]
  },
  {
   "cell_type": "markdown",
   "metadata": {},
   "source": [
    "- Notes \n",
    "    - `nums1` is already the correct length for the combined array\n",
    "    - Merge `nums2` into `nums1`, don't return nums1 though\n",
    "\n",
    "- Solution\n",
    "    - Create 3 pointers\n",
    "        - `A` tracking current value of nums1\n",
    "        - `B` tracking current value of nums2\n",
    "        - `C` tracking current position in nums1 to insert the value.\n",
    "    \n",
    "    - If we try to do this in order, we'll be modifying the values of `nums1` while we're not done looping through it. \n",
    "    \n",
    "    - So to prevent overwriting values, `C` will start iterating from the back of nums1, `A` and `B` will start iterating from inputs $m$ and $n$\n",
    "\n",
    "    - Since we iterate through both arrays once in the worse case, the time complexity is $O(m+n)$\n",
    "    - The space complexity is $O(1)$"
   ]
  },
  {
   "cell_type": "code",
   "execution_count": null,
   "metadata": {},
   "outputs": [
    {
     "name": "stdout",
     "output_type": "stream",
     "text": [
      "[1, 2, 2, 3, 5, 6]\n"
     ]
    }
   ],
   "source": [
    "class Solution:\n",
    "    def merge(self, nums1: list[int], m: int, nums2: list[int], n: int) -> None:\n",
    "        \"\"\"\n",
    "        Do not return anything, modify nums1 in-place instead.\n",
    "        \"\"\"\n",
    "        if len(nums2) != n:\n",
    "            raise ValueError(\"nums2 length input is wrong\")\n",
    "        if len(nums1) != (m+n):\n",
    "            raise ValueError(\"m+n does not match length of nums1\")\n",
    "        \n",
    "        for i in range(m+n-1, -1, -1):\n",
    "            if (m == 0) or (n==0):\n",
    "                break\n",
    "            if nums1[m-1] >= nums2[n-1]:\n",
    "                nums1[i] = nums1[m-1]\n",
    "                m-=1\n",
    "            else:\n",
    "                nums1[i] = nums2[n-1]\n",
    "                n-=1\n",
    "        \n",
    "        ## Optimised for memory, since you don't make a copy of the nums2[:n] subarray, but slower run time due to loop\n",
    "        if m == 0:\n",
    "            for i in range(n-1,-1,-1):\n",
    "                nums1[i] = nums2[i]\n",
    "\n",
    "        # ## Optimised for runtime, because you populate the array without a loop, but you use some memory since list slicing makes a copy\n",
    "        # if m == 0:\n",
    "        #     nums1[:n] = nums2[:n]\n",
    "\n",
    "        print(nums1)\n",
    "\n",
    "soln = Solution()\n",
    "soln.merge([1,2,3,0,0,0], 3, [2,5,6], 3)"
   ]
  },
  {
   "cell_type": "markdown",
   "metadata": {},
   "source": [
    "## Followup"
   ]
  },
  {
   "cell_type": "markdown",
   "metadata": {},
   "source": [
    "- Already solved in main"
   ]
  },
  {
   "cell_type": "markdown",
   "metadata": {},
   "source": []
  }
 ],
 "metadata": {
  "kernelspec": {
   "display_name": "dsa_prep",
   "language": "python",
   "name": "python3"
  },
  "language_info": {
   "codemirror_mode": {
    "name": "ipython",
    "version": 3
   },
   "file_extension": ".py",
   "mimetype": "text/x-python",
   "name": "python",
   "nbconvert_exporter": "python",
   "pygments_lexer": "ipython3",
   "version": "3.10.13"
  }
 },
 "nbformat": 4,
 "nbformat_minor": 2
}
