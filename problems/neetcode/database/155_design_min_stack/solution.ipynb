{
 "cells": [
  {
   "cell_type": "markdown",
   "metadata": {},
   "source": [
    "## Main"
   ]
  },
  {
   "cell_type": "markdown",
   "metadata": {},
   "source": [
    "- Let's use a standard data structure in Python, the list\n",
    "\n",
    "- For the operations requested\n",
    "    - We can `pop()` from the list in O(1) time\n",
    "    - We can `push()` (in Python's case, `append`) to a list in O(1) time\n",
    "    - We can `top()` a list in O(1) time (just get the last element using slice -1 notation)\n",
    "\n",
    "\n",
    "- However `getMin()` from a list is not something you are able to do in O(1) time!!\n",
    "\n",
    "- Solution: instead of relying on a single list, maintain another list that checks the minimum value associated with each element of the stack!! So `getMin()` retrieves the element at the top of the `min_list` instead of the actual list\n",
    "\n",
    "- But wait, Why maintain a second list, instead of just a value?\n",
    "    - Because when you pop from the main list, you also need to pop from the min_list\n",
    "    - And if you don't have a record for every element in the main list, you will have no way to recover the next minimum without performing an $O(N)$ scan of the main list\n",
    "\n",
    "- So all operations will perform in $O(1)$ time, but you incur $O(N)$ space complexity\n"
   ]
  },
  {
   "cell_type": "code",
   "execution_count": 3,
   "metadata": {},
   "outputs": [
    {
     "data": {
      "text/plain": [
       "-2"
      ]
     },
     "execution_count": 3,
     "metadata": {},
     "output_type": "execute_result"
    }
   ],
   "source": [
    "class MinStack:\n",
    "\n",
    "    def __init__(self):\n",
    "        self.main_list = []\n",
    "        self.min_list = []\n",
    "        \n",
    "    def push(self, val: int) -> None:\n",
    "        self.main_list.append(val)\n",
    "        if not self.min_list:\n",
    "            self.min_list.append(val)\n",
    "        else:\n",
    "            self.min_list.append(min(val, self.min_list[-1]))\n",
    "        \n",
    "    def pop(self) -> None:\n",
    "        self.main_list.pop()\n",
    "        self.min_list.pop()\n",
    "        \n",
    "    def top(self) -> int:\n",
    "        return self.main_list[-1]\n",
    "        \n",
    "    def getMin(self) -> int:\n",
    "        return self.min_list[-1]\n",
    "        \n",
    "\n",
    "ms = MinStack()\n",
    "ms.push(-2)\n",
    "ms.push(0)\n",
    "ms.push(-3)\n",
    "ms.getMin()\n",
    "ms.pop()\n",
    "ms.top()\n",
    "ms.getMin()"
   ]
  }
 ],
 "metadata": {
  "kernelspec": {
   "display_name": "dsa_prep",
   "language": "python",
   "name": "python3"
  },
  "language_info": {
   "codemirror_mode": {
    "name": "ipython",
    "version": 3
   },
   "file_extension": ".py",
   "mimetype": "text/x-python",
   "name": "python",
   "nbconvert_exporter": "python",
   "pygments_lexer": "ipython3",
   "version": "3.12.5"
  }
 },
 "nbformat": 4,
 "nbformat_minor": 2
}
