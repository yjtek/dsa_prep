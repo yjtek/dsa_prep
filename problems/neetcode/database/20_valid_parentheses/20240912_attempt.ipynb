{
 "cells": [
  {
   "cell_type": "markdown",
   "metadata": {},
   "source": [
    "## [Pass] Main"
   ]
  },
  {
   "cell_type": "markdown",
   "metadata": {},
   "source": [
    "- You have a pattern where you need to match the latest opening bracket to the next closing bracket\n",
    "    - This matching needs to happen in a LIFO manner\n",
    "\n",
    "- Since we want LIFO, you should immediately think about a **stack**\n",
    "\n",
    "- Sketch\n",
    "    - Iterate through the string\n",
    "    - Everytime we see an opening bracket, add it to the stack\n",
    "    - Everytime we see a closing bracket, pop from stack and see if it is a matching pair\n",
    "    - If it doesn't match, return false\n",
    "    - If we reach the end of the string AND the stack is empty, return True\n",
    "    - Else return False\n",
    "\n",
    "- This runs in $O(N)$ time because we visit each character once. It also runs in $O(N)$ space for the additional stack and map data structures used"
   ]
  },
  {
   "cell_type": "code",
   "execution_count": 7,
   "metadata": {},
   "outputs": [],
   "source": [
    "class Solution:\n",
    "    def isValid(self, s: str) -> bool:\n",
    "        map_opening_to_closing_bracket = {\n",
    "            '(': ')',\n",
    "            '[': ']',\n",
    "            '{': '}',\n",
    "        }\n",
    "        map_closing_to_opening_bracket = {\n",
    "            v:k for k,v in map_opening_to_closing_bracket.items()\n",
    "        }\n",
    "\n",
    "        opening_bracket_stack = []\n",
    "        \n",
    "        for char in s:\n",
    "            if char in map_opening_to_closing_bracket:\n",
    "                opening_bracket_stack.append(char)\n",
    "            \n",
    "            if char in map_closing_to_opening_bracket:\n",
    "                try:\n",
    "                    latest_opening = opening_bracket_stack.pop()\n",
    "                except:\n",
    "                    return False\n",
    "                if map_closing_to_opening_bracket.get(char) != latest_opening:\n",
    "                    return False\n",
    "\n",
    "        if not opening_bracket_stack:\n",
    "            return True\n"
   ]
  },
  {
   "cell_type": "code",
   "execution_count": 8,
   "metadata": {},
   "outputs": [
    {
     "data": {
      "text/plain": [
       "True"
      ]
     },
     "execution_count": 8,
     "metadata": {},
     "output_type": "execute_result"
    }
   ],
   "source": [
    "soln = Solution()\n",
    "soln.isValid('([])')"
   ]
  },
  {
   "cell_type": "markdown",
   "metadata": {},
   "source": [
    "## Review"
   ]
  },
  {
   "cell_type": "markdown",
   "metadata": {},
   "source": [
    "- Passed, no comments"
   ]
  }
 ],
 "metadata": {
  "kernelspec": {
   "display_name": "dsa_prep",
   "language": "python",
   "name": "python3"
  },
  "language_info": {
   "codemirror_mode": {
    "name": "ipython",
    "version": 3
   },
   "file_extension": ".py",
   "mimetype": "text/x-python",
   "name": "python",
   "nbconvert_exporter": "python",
   "pygments_lexer": "ipython3",
   "version": "3.10.13"
  }
 },
 "nbformat": 4,
 "nbformat_minor": 2
}
