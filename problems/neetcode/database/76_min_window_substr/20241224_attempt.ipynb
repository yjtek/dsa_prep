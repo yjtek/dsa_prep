{
 "cells": [
  {
   "cell_type": "markdown",
   "metadata": {},
   "source": [
    "## Main"
   ]
  },
  {
   "cell_type": "markdown",
   "metadata": {},
   "source": [
    "- Idea:\n",
    "    - Init\n",
    "        - Hashmap for `t`; `target_map`\n",
    "        - Empty hashmap `char_count`, to be populated as we iterate through `s`. We will store `{char: count_char}`\n",
    "        - Heap, storing `(index, char)`\n",
    "        - min_index = index\n",
    "\n",
    "    \n",
    "    - For each iteration through `s`, we land at character `c`\n",
    "        - if c in target_set\n",
    "            - `char_count[c] += 1`\n",
    "            - heappush (index, c)\n",
    "            - while char_count.keys() == target_set\n",
    "                - max_index = index\n",
    "                - heappop()\n",
    "                - char_count[popped_c] -= 1; del popped_c if <= 0\n",
    "                - min_index = heap[0]\n",
    "        - else\n",
    "            continue\n",
    "\n",
    "    - Return s[min_index: max_index]"
   ]
  },
  {
   "cell_type": "code",
   "execution_count": 10,
   "metadata": {},
   "outputs": [],
   "source": [
    "from collections import defaultdict\n",
    "import heapq\n",
    "\n",
    "class Solution:\n",
    "    def minWindow(self, s: str, t: str) -> str:\n",
    "        target_map = defaultdict(int)\n",
    "        for c in t:\n",
    "            target_map[c] += 1\n",
    "\n",
    "        char_counter = defaultdict(int)\n",
    "        heap = []\n",
    "        min_index, max_index, res = None, None, (None, None)\n",
    "\n",
    "        for i, c in enumerate(s):\n",
    "            if c not in target_map:\n",
    "                continue\n",
    "            else:\n",
    "                if min_index is None:\n",
    "                    min_index = i\n",
    "                char_counter[c] += 1\n",
    "                heapq.heappush(heap, (i, c))\n",
    "                while all([x in char_counter for x in target_map.keys()]) and all([char_counter.get(x, 0) >= target_map.get(x,0) for x in target_map.keys()]):\n",
    "                    max_index = i+1\n",
    "                    if res != (None, None):\n",
    "                        res = (min_index, max_index) if (max_index-min_index) < (res[1] - res[0]) else res\n",
    "                    else:\n",
    "                        res = (min_index, max_index)\n",
    "                    popped_char_index, popped_char = heapq.heappop(heap)\n",
    "                    char_counter[popped_char] -= 1\n",
    "                    if char_counter[popped_char] <= 0:\n",
    "                        del char_counter[popped_char]\n",
    "                    if heap:\n",
    "                        min_index = heap[0][0]\n",
    "\n",
    "        if (not res[0]) and (not res[1]):\n",
    "            return ''\n",
    "        return s[res[0]: res[1]]\n",
    "\n",
    "\n",
    "s = Solution()\n",
    "# s.minWindow(s = \"ADOBECODEBANC\", t = \"ABC\")\n",
    "# s.minWindow(s = \"a\", t = \"a\")\n",
    "# s.minWindow(s = \"a\", t = \"aa\")"
   ]
  },
  {
   "cell_type": "code",
   "execution_count": 11,
   "metadata": {},
   "outputs": [
    {
     "data": {
      "text/plain": [
       "'cwae'"
      ]
     },
     "execution_count": 11,
     "metadata": {},
     "output_type": "execute_result"
    }
   ],
   "source": [
    "s.minWindow(s = \"ab\", t = \"b\")\n",
    "s.minWindow(s = \"aa\", t = \"aa\")\n",
    "s.minWindow(s='cabwefgewcwaefgcf', t='cae')"
   ]
  },
  {
   "cell_type": "markdown",
   "metadata": {},
   "source": [
    "## Followup"
   ]
  },
  {
   "cell_type": "markdown",
   "metadata": {},
   "source": [
    "- Not a clue how to do n+m"
   ]
  },
  {
   "cell_type": "markdown",
   "metadata": {},
   "source": [
    "## Review"
   ]
  },
  {
   "cell_type": "markdown",
   "metadata": {},
   "source": [
    "- Your solution works, but uses a lot of extra space (heap + 2 map objects)\n",
    "- The `while` condition is also SUPER inefficient\n",
    "- Look at solution for more elegant answer!"
   ]
  },
  {
   "cell_type": "markdown",
   "metadata": {},
   "source": []
  }
 ],
 "metadata": {
  "kernelspec": {
   "display_name": "dsa_prep",
   "language": "python",
   "name": "python3"
  },
  "language_info": {
   "codemirror_mode": {
    "name": "ipython",
    "version": 3
   },
   "file_extension": ".py",
   "mimetype": "text/x-python",
   "name": "python",
   "nbconvert_exporter": "python",
   "pygments_lexer": "ipython3",
   "version": "3.12.8"
  }
 },
 "nbformat": 4,
 "nbformat_minor": 2
}
