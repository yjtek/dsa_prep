{
 "cells": [
  {
   "cell_type": "markdown",
   "metadata": {},
   "source": [
    "## Main"
   ]
  },
  {
   "cell_type": "markdown",
   "metadata": {},
   "source": [
    "- There are 2 solutions possible\n",
    "        \n",
    "- The O(N) solution using sliding window:\n",
    "    - Init 2 pointers l, r = 0, 0\n",
    "    - Init arrsum = 0\n",
    "    - Init res = 0\n",
    "    - for i in range(len(nums))\n",
    "    - arrsum += nums[r]\n",
    "    - while arrsum exceeds target, move left pointer rightwards"
   ]
  },
  {
   "cell_type": "code",
   "execution_count": 13,
   "metadata": {},
   "outputs": [
    {
     "data": {
      "text/plain": [
       "1"
      ]
     },
     "execution_count": 13,
     "metadata": {},
     "output_type": "execute_result"
    }
   ],
   "source": [
    "class Solution:\n",
    "    def minSubArrayLen(self, target: int, nums: list[int]) -> int:\n",
    "        l = 0\n",
    "        arrsum = 0\n",
    "        res = float('inf')\n",
    "        \n",
    "        for r in range(len(nums)):\n",
    "            arrsum += nums[r]\n",
    "            while arrsum >= target:\n",
    "                res = min(res, r-l+1)\n",
    "                arrsum -= nums[l]\n",
    "                l += 1\n",
    "\n",
    "        return res if res != float('inf') else 0\n",
    "\n",
    "s = Solution()\n",
    "s.minSubArrayLen(nums=[2,3,1,2,4,3], target=2)"
   ]
  },
  {
   "cell_type": "markdown",
   "metadata": {},
   "source": [
    "## Follow Up"
   ]
  },
  {
   "cell_type": "markdown",
   "metadata": {},
   "source": [
    "- The less efficient $O(n \\log n)$ solution is less efficient but very instructive, because it is a reusable pattern\n",
    "\n",
    "- Idea\n",
    "    - We create an additional array of prefix sums with size len(nums)+1 \n",
    "        - prefix_sum[i] will give you the sum of all values in `nums` before position `i`\n",
    "    - Iterate through nums\n",
    "        - For each index `i`, if `prefix_sum[i]` is smaller than target, continue\n",
    "        - Else, we have exceeded out target\n",
    "        - So search for the minimum possible array in this window that will help us get a value that is >= our target\n",
    "        - To search, we take the current window prefix sum (prefix_sum[i]) and subtract the prefix sum of a subwindow, which we denote by prefix_sum[m]\n",
    "        \n",
    "        - How do we search for `m`? Simple, use binary search!\n",
    "            - Why does that work? Because prefix sum only increases\n",
    "            - So suppose I have window of size 5 and subwindow up to index 2 (mid point)\n",
    "            - If window - subwindow is too large, i must not be subtracting enough, so my subwindow needs to expand rightward\n",
    "            - Else, i am subtracting too much, and my subwindow should shrink"
   ]
  },
  {
   "cell_type": "code",
   "execution_count": 12,
   "metadata": {},
   "outputs": [
    {
     "data": {
      "text/plain": [
       "1"
      ]
     },
     "execution_count": 12,
     "metadata": {},
     "output_type": "execute_result"
    }
   ],
   "source": [
    "class Solution:\n",
    "    def minSubArrayLen(self, target: int, nums: list[int]) -> int:\n",
    "        prefix_sum = [0] * (len(nums) + 1)\n",
    "        for i,num in enumerate(nums):\n",
    "            prefix_sum[i+1] = num + prefix_sum[i]\n",
    "        \n",
    "        res = float('inf')\n",
    "        for i in range(1,len(nums)+1):\n",
    "            if prefix_sum[i] < target:\n",
    "                continue\n",
    "            \n",
    "            l, r = 0, i\n",
    "            while l <= r:\n",
    "                # m = l + (r-l+1)//2\n",
    "                # m = (r+l+1)//2\n",
    "                m = (r+l)//2\n",
    "                if (prefix_sum[i] - prefix_sum[m]) >= target:\n",
    "                    l = m+1\n",
    "                elif (prefix_sum[i] - prefix_sum[m]) < target:\n",
    "                    r = m-1\n",
    "            res = min(res, i-l+1)\n",
    "                    \n",
    "        return res if res != float('inf') else 0\n",
    "                    \n",
    "s = Solution()\n",
    "s.minSubArrayLen(nums=[2,3,1,2,4,3], target=7)\n",
    "s.minSubArrayLen(nums=[1,4,4], target=4)\n",
    "# s.minSubArrayLen(nums=[1,1,1,1,1,1,1,1], target=11)"
   ]
  },
  {
   "cell_type": "markdown",
   "metadata": {},
   "source": [
    "## Review"
   ]
  },
  {
   "cell_type": "markdown",
   "metadata": {},
   "source": [
    "- You got the main answer, but not the follow up"
   ]
  },
  {
   "cell_type": "markdown",
   "metadata": {},
   "source": []
  }
 ],
 "metadata": {
  "kernelspec": {
   "display_name": "dsa-prep-3dngTr8Z-py3.12",
   "language": "python",
   "name": "python3"
  },
  "language_info": {
   "codemirror_mode": {
    "name": "ipython",
    "version": 3
   },
   "file_extension": ".py",
   "mimetype": "text/x-python",
   "name": "python",
   "nbconvert_exporter": "python",
   "pygments_lexer": "ipython3",
   "version": "3.12.8"
  }
 },
 "nbformat": 4,
 "nbformat_minor": 2
}
