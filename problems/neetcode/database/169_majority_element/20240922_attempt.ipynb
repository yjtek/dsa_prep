{
 "cells": [
  {
   "cell_type": "markdown",
   "metadata": {},
   "source": [
    "## Main"
   ]
  },
  {
   "cell_type": "markdown",
   "metadata": {},
   "source": [
    "- First thought; use a max heap, and in each node store the element in memory\n",
    "\n",
    "- This will take $O(N)$ memory, and iteratively building the heap will take $O(N \\cdot \\log N)$ time from looping through the array and heapifying\n",
    "\n",
    "- But there is a trick here. Since we are guaranteed to have a majority element, we simply do 1 pass through the loop, and maintain:\n",
    "    - a counter for the max element \n",
    "    - a variable that holds the current max element\n",
    "\n",
    "- Each time you meet a new element\n",
    "    - If new element != current max element, decrement counter\n",
    "    - else, increment counter\n",
    "    - If counter becomes negative, swap current max  to whatever the current element is\n",
    "    - Return the current max at the end of the loop\n",
    "\n",
    "- This is guaranteed to return, because you always have 1 element that appears more than $n/2$ times\n",
    "\n",
    "- THIS DOES NOT WORK IF MAX ELEMENT DOES NOT EXIST MORE THAN N/2 TIMES\n",
    "    - quite obvious, because for this to be working, the increments for a specific element MUST be more than the decrements from all other elements"
   ]
  },
  {
   "cell_type": "code",
   "execution_count": 6,
   "metadata": {},
   "outputs": [
    {
     "data": {
      "text/plain": [
       "2"
      ]
     },
     "execution_count": 6,
     "metadata": {},
     "output_type": "execute_result"
    }
   ],
   "source": [
    "class Solution:\n",
    "    def majorityElement(self, nums: list[int]) -> int:\n",
    "        max_element = None\n",
    "        max_element_counter = 0\n",
    "        for num in nums:\n",
    "            if not max_element:\n",
    "                max_element = num\n",
    "                max_element_counter += 1\n",
    "            elif num == max_element:\n",
    "                max_element_counter += 1\n",
    "            elif num != max_element:\n",
    "                if max_element_counter == 0:\n",
    "                    max_element = num\n",
    "                    max_element_counter = 1\n",
    "                else:\n",
    "                    max_element_counter -= 1\n",
    "                \n",
    "        return max_element\n",
    "\n",
    "\n",
    "soln = Solution()\n",
    "soln.majorityElement([3,2,3])\n",
    "soln.majorityElement([2,2,1,1,1,2,2])"
   ]
  },
  {
   "cell_type": "markdown",
   "metadata": {},
   "source": [
    "## Review"
   ]
  },
  {
   "cell_type": "markdown",
   "metadata": {},
   "source": [
    "- I think you remembered this trick from your initial studies, so not much to say here\n",
    "\n",
    "- The initial thought about using a heap is novel, but time complexity sucks"
   ]
  }
 ],
 "metadata": {
  "kernelspec": {
   "display_name": "dsa_prep",
   "language": "python",
   "name": "python3"
  },
  "language_info": {
   "codemirror_mode": {
    "name": "ipython",
    "version": 3
   },
   "file_extension": ".py",
   "mimetype": "text/x-python",
   "name": "python",
   "nbconvert_exporter": "python",
   "pygments_lexer": "ipython3",
   "version": "3.12.5"
  }
 },
 "nbformat": 4,
 "nbformat_minor": 2
}
