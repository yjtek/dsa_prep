{
 "cells": [
  {
   "cell_type": "markdown",
   "metadata": {},
   "source": [
    "## Main"
   ]
  },
  {
   "cell_type": "markdown",
   "metadata": {},
   "source": [
    "- You can do a simple one in python is `str.split`, and taking length of the last string\n",
    "\n",
    "- Probably this is a bit too simplistic, so we'll come up with a proper algorithm\n",
    "\n",
    "- Starting from the back of the string, we iterate through the string until we hit a non-space character (in case of trailing whitespace). \n",
    "\n",
    "- Then, iterate through the word and increment the counter until we hit a space. This is the length of the last word?\n",
    "\n",
    "- This runs in $O(N)$ time and $O(1)$ space"
   ]
  },
  {
   "cell_type": "code",
   "execution_count": null,
   "metadata": {},
   "outputs": [],
   "source": [
    "class Solution:\n",
    "    def lengthOfLastWord_dumb_solution(self, s: str) -> int:\n",
    "        return len(s.split()[-1])\n",
    "\n",
    "    def lengthOfLastWord(self, s: str) -> int:\n",
    "        curr = len(s)-1\n",
    "        while s[curr] == ' ':\n",
    "            curr -= 1\n",
    "        \n",
    "        length = 0\n",
    "        while (s[curr] != ' ') and (curr >= 0):\n",
    "            length += 1\n",
    "            curr -= 1\n",
    "        \n",
    "        return length\n"
   ]
  },
  {
   "cell_type": "code",
   "execution_count": null,
   "metadata": {},
   "outputs": [
    {
     "data": {
      "text/plain": [
       "1"
      ]
     },
     "metadata": {},
     "output_type": "display_data"
    }
   ],
   "source": [
    "soln = Solution()\n",
    "soln.lengthOfLastWord_dumb_solution(\"Hello World\")\n",
    "soln.lengthOfLastWord_dumb_solution(\" fly me to the moon \")\n",
    "soln.lengthOfLastWord_dumb_solution(\"luffy is still joyboy\")\n",
    "\n",
    "soln.lengthOfLastWord(\"Hello World\")\n",
    "soln.lengthOfLastWord(\" fly me to the moon \")\n",
    "soln.lengthOfLastWord(\"luffy is still joyboy\")\n",
    "soln.lengthOfLastWord(\"a\")"
   ]
  }
 ],
 "metadata": {
  "kernelspec": {
   "display_name": "dsa_prep",
   "language": "python",
   "name": "python3"
  },
  "language_info": {
   "codemirror_mode": {
    "name": "ipython",
    "version": 3
   },
   "file_extension": ".py",
   "mimetype": "text/x-python",
   "name": "python",
   "nbconvert_exporter": "python",
   "pygments_lexer": "ipython3",
   "version": "3.10.13"
  }
 },
 "nbformat": 4,
 "nbformat_minor": 2
}
