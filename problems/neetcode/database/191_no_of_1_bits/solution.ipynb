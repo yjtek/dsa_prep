{
 "cells": [
  {
   "cell_type": "markdown",
   "metadata": {},
   "source": [
    "## Main"
   ]
  },
  {
   "cell_type": "markdown",
   "metadata": {},
   "source": [
    "- Every number can be represented as a binary value\n",
    "    - e.g. `bin(12345) = 11000000111001`\n",
    "\n",
    "- Brute force\n",
    "    - To find the number of `1`s in the binary representation, the naive way is simply to iterate over the binary string and find every `1`. \n",
    "\n",
    "    - This will take $O(32) \\approx O(1)$ operations, because these are 32 bit integers\n",
    "\n",
    "- Mod 2\n",
    "    - Instead of iterating through the string, you can keep taking modulo 2 of the binary representation of the number, and summing the modulo \n",
    "    - Then do a floor division of the number\n",
    "    - Keep going until the number hits 0\n",
    "\n",
    "    - Again, this will take $O(32) \\approx O(1)$ operations, because these are 32 bit integers\n",
    "\n",
    "- Bit Shift\n",
    "    - An equivalent method to the `Mod 2` approach; instead of dividing the value by 2, simply do a bitshift of the binary representation after doing a modulo!\n",
    "\n",
    "    - Bit shift simply cuts off the last number of the binary representation (equivalent to dividing Arabic numerals by 10)\n",
    "\n",
    "    - Modulo handles the cases where last number is 1\n",
    "\n",
    "    - This is also why floor dividing by 2 works; because bit shifting a binary number is equivalent is dividing by 2\n",
    "\n",
    "    - This runs in $O(32)$ time again, because 32 bit integer means a maximum of 32 shifts \n",
    "\n",
    "- Bit Manipulation\n",
    "    - There is a nice trick to get the number of ones; for a number `n` simply take a bitwise `&` of `n` and `n-1`\n",
    "\n",
    "    - Imagine we have `n=10110`. Then `n-1=10011`\n",
    "        - Taking a bitwise `&` gives us `n = 10010`\n",
    "\n",
    "    - Now `n=10010`, `n-1=10001`\n",
    "        - Bitwise `&`: `n=10000`\n",
    "    \n",
    "    - Now `n=10000`, `n-1=01111`\n",
    "        - Bitwise `&`: `n=00000`. END\n",
    "\n",
    "    - We did this bitwise & operation 3 times, we there are 3 1s in the binary representation\n",
    "\n",
    "    - Why does this work? Because by subtracting 1 from a number, we cancel out one `1` in the binary representation.\n",
    "\n",
    "    - This will keep going until all the `1`s to the right of the leading 1 get cancelled\n",
    "\n",
    "    - Finally, when we are left with the leading `1`, subtracting one bascially nets out everything, so the loop terminates\n",
    "\n",
    "    - This is the best solution, because the loop only runs $m$ times, where $m$ is the number of 1s in the binary representation\n",
    "        - In the worst case, this is $O(32) \\approx O(1)$, but might work better than the others on average"
   ]
  },
  {
   "cell_type": "code",
   "execution_count": 64,
   "metadata": {},
   "outputs": [],
   "source": [
    "class Solution:\n",
    "    def _binary_representation(self, n: int) -> str:\n",
    "        return bin(n)[2:]\n",
    "    \n",
    "    def hammingWeight_bruteforce(self, n: int) -> int:\n",
    "        count = 0\n",
    "        for i in self._binary_representation(n):\n",
    "            if i == '1':\n",
    "                count += 1\n",
    "        # print(bin(n)[2:], count)\n",
    "        return count\n",
    "    \n",
    "    def hammingWeight_mod2(self, n: int) -> int:\n",
    "        count = 0\n",
    "        while n != 0:\n",
    "            count += (n % 2)\n",
    "            n //= 2\n",
    "        return count\n",
    "    \n",
    "    def hammingWeight_bitshift(self, n: int) -> int:\n",
    "        count = 0\n",
    "        while n != 0:\n",
    "            count += (n % 2)\n",
    "            n >>= 1\n",
    "        return count\n",
    "    \n",
    "    def hammingWeight_bitmanipulation(self, n: int) -> int:\n",
    "        count=0\n",
    "        while n != 0:\n",
    "            n &= n-1\n",
    "            count += 1\n",
    "        return count\n",
    "\n",
    "        "
   ]
  },
  {
   "cell_type": "code",
   "execution_count": 65,
   "metadata": {},
   "outputs": [
    {
     "name": "stdout",
     "output_type": "stream",
     "text": [
      "11000000111001\n",
      "6\n",
      "6\n",
      "6\n",
      "6\n"
     ]
    }
   ],
   "source": [
    "soln = Solution()\n",
    "print(bin(12345)[2:])\n",
    "print(soln.hammingWeight_bruteforce(12345))\n",
    "print(soln.hammingWeight_mod2(12345))\n",
    "print(soln.hammingWeight_bitshift(12345))\n",
    "print(soln.hammingWeight_bitmanipulation(12345))"
   ]
  },
  {
   "cell_type": "markdown",
   "metadata": {},
   "source": [
    "## Followup"
   ]
  },
  {
   "cell_type": "markdown",
   "metadata": {},
   "source": [
    "- If the function is called many times, suggest to do the bit manipulation trick"
   ]
  },
  {
   "cell_type": "markdown",
   "metadata": {},
   "source": []
  }
 ],
 "metadata": {
  "kernelspec": {
   "display_name": "dsa_prep",
   "language": "python",
   "name": "python3"
  },
  "language_info": {
   "codemirror_mode": {
    "name": "ipython",
    "version": 3
   },
   "file_extension": ".py",
   "mimetype": "text/x-python",
   "name": "python",
   "nbconvert_exporter": "python",
   "pygments_lexer": "ipython3",
   "version": "3.12.5"
  }
 },
 "nbformat": 4,
 "nbformat_minor": 2
}
