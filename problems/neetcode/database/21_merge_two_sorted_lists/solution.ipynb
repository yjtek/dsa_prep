{
 "cells": [
  {
   "cell_type": "markdown",
   "metadata": {},
   "source": [
    "## Main"
   ]
  },
  {
   "cell_type": "markdown",
   "metadata": {},
   "source": [
    "- Since the linked lists are already sorted, you can basically iterate through both linked lists at the same time\n",
    "\n",
    "- Solution sketch:\n",
    "    - Create a dummy `ListNode` as the head of the merged list\n",
    "    - Create a pointer called `curr` pointing to the dummy node. This represents the current node we're at\n",
    "    - While list1 and list2:\n",
    "        - set dummyhead.next to be the smaller of list1.val and list2.val\n",
    "        - set `curr` to be either list1 or list2, depending on which is smaller\n",
    "        - If list1.val is smaller, list1 = list1.next, else list2=list2.next\n",
    "    - Post loop\n",
    "        - if not list1 and not list2, return dummy.next\n",
    "        - if list1, then curr.next = list1\n",
    "        - else curr.next=list2\n",
    "    - Return dummyhead.next\n",
    "\n",
    "    - This will run in $O(max(m,n))$ time, and $O(1)$ memory"
   ]
  },
  {
   "cell_type": "code",
   "execution_count": 1,
   "metadata": {},
   "outputs": [],
   "source": [
    "from typing import Optional\n",
    "\n",
    "# Definition for singly-linked list.\n",
    "class ListNode:\n",
    "    def __init__(self, val=0, next=None):\n",
    "        self.val = val\n",
    "        self.next = next\n",
    "\n",
    "class Solution:\n",
    "    def mergeTwoLists(self, list1: Optional[ListNode], list2: Optional[ListNode]) -> Optional[ListNode]:\n",
    "        dummynode = ListNode()\n",
    "        curr = dummynode\n",
    "        while list1 and list2:\n",
    "            if list1.val <= list2.val:\n",
    "                curr.next = list1\n",
    "                list1 = list1.next\n",
    "            else:\n",
    "                curr.next = list2\n",
    "                list2 = list2.next\n",
    "            curr = curr.next\n",
    "        \n",
    "        if list1:\n",
    "            curr.next = list1\n",
    "        else:\n",
    "            curr.next = list2\n",
    "        \n",
    "        return dummynode.next\n",
    "        "
   ]
  },
  {
   "cell_type": "code",
   "execution_count": 4,
   "metadata": {},
   "outputs": [
    {
     "name": "stdout",
     "output_type": "stream",
     "text": [
      "1\n",
      "1\n",
      "2\n",
      "3\n",
      "4\n",
      "4\n"
     ]
    }
   ],
   "source": [
    "l1_1 = ListNode(1)\n",
    "l1_2 = ListNode(2)\n",
    "l1_3 = ListNode(4)\n",
    "\n",
    "l2_1 = ListNode(1)\n",
    "l2_2 = ListNode(3)\n",
    "l2_3 = ListNode(4)\n",
    "\n",
    "l1_1.next = l1_2\n",
    "l1_2.next = l1_3\n",
    "l2_1.next = l2_2\n",
    "l2_2.next = l2_3\n",
    "\n",
    "soln = Solution()\n",
    "head = soln.mergeTwoLists(l1_1, l2_1)\n",
    "# head = soln.mergeTwoLists([], [])\n",
    "\n",
    "while head:\n",
    "    print(head.val)\n",
    "    head = head.next\n"
   ]
  }
 ],
 "metadata": {
  "kernelspec": {
   "display_name": "dsa_prep",
   "language": "python",
   "name": "python3"
  },
  "language_info": {
   "codemirror_mode": {
    "name": "ipython",
    "version": 3
   },
   "file_extension": ".py",
   "mimetype": "text/x-python",
   "name": "python",
   "nbconvert_exporter": "python",
   "pygments_lexer": "ipython3",
   "version": "3.10.13"
  }
 },
 "nbformat": 4,
 "nbformat_minor": 2
}
