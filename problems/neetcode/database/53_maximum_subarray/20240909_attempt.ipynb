{
 "cells": [
  {
   "cell_type": "markdown",
   "metadata": {},
   "source": [
    "## [Fail] Main"
   ]
  },
  {
   "cell_type": "markdown",
   "metadata": {},
   "source": [
    "- Brute force will be O(N^2) from computing all possible subarray sums\n",
    "\n",
    "- But actually you can do this in 1 pass, so O(N)\n",
    "\n",
    "- We know that no negative number can be part of a maximum subarray (because the subarray excluding it will be larger than the one including it)\n",
    "\n",
    "- So solution:\n",
    "    - We can maintain 2 pointers; one points to the start of the current array, the other iterates through the array\n",
    "    - We maintain a counter called \"sum_maxval\" that holds the value of the largest subarray sum\n",
    "    - At each point, maintain a running sum of the existing values\n",
    "    - When a negative value is reached, compare the running sum with \"sum_maxval\" and replace it if it is larger\n",
    "    - Reset running sum to 0\n",
    "    - After iterating through the list, sum_maxval will have the largest value\n",
    "\n",
    "- In this set up, there is an additional pointer we haven't used. This can be used in case we need to return the actual array start and end for the max subarray "
   ]
  },
  {
   "cell_type": "code",
   "execution_count": 11,
   "metadata": {},
   "outputs": [],
   "source": [
    "class Solution:\n",
    "    def maxSubArray(self, nums: list[int]) -> int:\n",
    "        max_subarray = 0\n",
    "        _curr_sum = 0\n",
    "        for num in nums:\n",
    "            print('='*50)\n",
    "            print(f\"{num=}, {_curr_sum=}, {max_subarray=}\")\n",
    "            if num <= 0:\n",
    "                if _curr_sum > max_subarray:\n",
    "                    max_subarray = _curr_sum\n",
    "                _curr_sum = 0\n",
    "                continue\n",
    "            _curr_sum += num\n",
    "            print(f\"{num=}, {_curr_sum=}, {max_subarray=}\")\n",
    "        return max_subarray"
   ]
  },
  {
   "cell_type": "code",
   "execution_count": 12,
   "metadata": {},
   "outputs": [],
   "source": [
    "soln = Solution()\n",
    "soln.maxSubArray([-2,1,-3,4,-1,2,1,-5,4])"
   ]
  },
  {
   "cell_type": "markdown",
   "metadata": {},
   "source": [
    "## [Fail] Followup"
   ]
  },
  {
   "cell_type": "markdown",
   "metadata": {},
   "source": [
    "## Review"
   ]
  }
 ],
 "metadata": {
  "kernelspec": {
   "display_name": "dsa_prep",
   "language": "python",
   "name": "python3"
  },
  "language_info": {
   "codemirror_mode": {
    "name": "ipython",
    "version": 3
   },
   "file_extension": ".py",
   "mimetype": "text/x-python",
   "name": "python",
   "nbconvert_exporter": "python",
   "pygments_lexer": "ipython3",
   "version": "3.10.13"
  }
 },
 "nbformat": 4,
 "nbformat_minor": 2
}
