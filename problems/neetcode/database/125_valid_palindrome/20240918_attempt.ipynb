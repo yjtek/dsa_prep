{
 "cells": [
  {
   "cell_type": "markdown",
   "metadata": {},
   "source": [
    "## Main"
   ]
  },
  {
   "cell_type": "markdown",
   "metadata": {},
   "source": [
    "- Iterate through the string in $O(N)$ time\n",
    "- Build another string with lower case letters only (no spaces, no non-alphanumeric values) $O(N)$ space\n",
    "- Check if string is palindrome with 2 pointers from the middle in $O(N)$ time"
   ]
  },
  {
   "cell_type": "code",
   "execution_count": 2,
   "metadata": {},
   "outputs": [
    {
     "data": {
      "text/plain": [
       "True"
      ]
     },
     "execution_count": 2,
     "metadata": {},
     "output_type": "execute_result"
    }
   ],
   "source": [
    "'s'.isalnum()"
   ]
  },
  {
   "cell_type": "code",
   "execution_count": 7,
   "metadata": {},
   "outputs": [],
   "source": [
    "class Solution:\n",
    "    def isPalindrome(self, s: str) -> bool:\n",
    "        processed_string: str = ''\n",
    "        for char in s:\n",
    "            if char.isalnum():\n",
    "                processed_string += char.lower()\n",
    "        \n",
    "        if len(processed_string) == 0:\n",
    "            return True\n",
    "        \n",
    "        if len(processed_string) % 2 == 0:\n",
    "            left, right = len(processed_string)//2, len(processed_string)//2 - 1\n",
    "        else:\n",
    "            left, right = len(processed_string)//2, len(processed_string)//2\n",
    "        \n",
    "        while (left >= 0) and (right < len(processed_string)):\n",
    "            if processed_string[left] == processed_string[right]:\n",
    "                left -= 1\n",
    "                right += 1\n",
    "            else:\n",
    "                return False\n",
    "        \n",
    "        return True"
   ]
  },
  {
   "cell_type": "code",
   "execution_count": 8,
   "metadata": {},
   "outputs": [
    {
     "data": {
      "text/plain": [
       "True"
      ]
     },
     "execution_count": 8,
     "metadata": {},
     "output_type": "execute_result"
    }
   ],
   "source": [
    "soln = Solution()\n",
    "soln.isPalindrome(\"A man, a plan, a canal: Panama\")\n",
    "soln.isPalindrome(\"race a car\")\n",
    "soln.isPalindrome(\" \")"
   ]
  },
  {
   "cell_type": "markdown",
   "metadata": {},
   "source": [
    "## Review"
   ]
  },
  {
   "cell_type": "markdown",
   "metadata": {},
   "source": [
    "- You got the idea, but 2 improvements\n",
    "    - Don't use the `isalnum` built in, because technically you're not supposed to\n",
    "    - Don't use extra space from `processed_string`; do this in place"
   ]
  }
 ],
 "metadata": {
  "kernelspec": {
   "display_name": "dsa_prep",
   "language": "python",
   "name": "python3"
  },
  "language_info": {
   "codemirror_mode": {
    "name": "ipython",
    "version": 3
   },
   "file_extension": ".py",
   "mimetype": "text/x-python",
   "name": "python",
   "nbconvert_exporter": "python",
   "pygments_lexer": "ipython3",
   "version": "3.12.5"
  }
 },
 "nbformat": 4,
 "nbformat_minor": 2
}
