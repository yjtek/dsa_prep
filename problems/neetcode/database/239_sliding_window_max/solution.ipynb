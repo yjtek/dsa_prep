{
 "cells": [
  {
   "cell_type": "markdown",
   "metadata": {},
   "source": [
    "## Main"
   ]
  },
  {
   "cell_type": "markdown",
   "metadata": {},
   "source": [
    "- Pattern\n",
    "    - You need a data structure that keeps track of the NEXT LARGEST value, not just the largest value\n",
    "    - A requirement like that should always trigger you to think about the monotonic stack\n",
    "\n",
    "- Idea\n",
    "    - Init l, r = 0, 0\n",
    "    - Init a deque holding the **index** of the max val encountered\n",
    "    - The idea here is to maintain the maximum value's index at the leftmost value of the deque\n",
    "    - For each value in window \n",
    "        - Compare value with the leftmost value in the deque\n",
    "        - Starting from the right of the deque, while the new value is larger, pop from deque\n",
    "            - Why? Because if a new larger value is seen, the previous largest value cannot possibly be the max for any subsequent window\n",
    "            - That is; if I have [1,2,3,4,5], after I see 2, it is impossible for 1 to be the max value for any subsequent window\n",
    "        - If the new value is not larger, then append to the deque\n",
    "            - Why? At some point, you will move past the leftmost index. Then the subsequent index may become the new window max\n",
    "            - For example, if I have [5,4,3,2,1], after my window slides past 5, 4 becomes the new maximum\n",
    "        - Append leftmost value in deque to result\n",
    "        - increment right pointer \n",
    "        - increment left pointer if r-l+1 == k\n",
    "    - Return result starting from k-1\n"
   ]
  },
  {
   "cell_type": "code",
   "execution_count": 17,
   "metadata": {},
   "outputs": [
    {
     "data": {
      "text/plain": [
       "[3, 3, 2, 5]"
      ]
     },
     "execution_count": 17,
     "metadata": {},
     "output_type": "execute_result"
    }
   ],
   "source": [
    "from collections import deque\n",
    "\n",
    "class Solution:\n",
    "    def maxSlidingWindow(self, nums: list[int], k: int) -> list[int]:\n",
    "        l, r = 0, 0\n",
    "        q = deque()\n",
    "        res = []\n",
    "\n",
    "        while r < len(nums):\n",
    "            while q and nums[r] >= nums[q[-1]]:\n",
    "                q.pop()\n",
    "            q.append(r)\n",
    "            \n",
    "            if r-l+1 == k:\n",
    "                res.append(nums[q[0]])\n",
    "                l += 1\n",
    "                if l > q[0]:\n",
    "                    q.popleft()\n",
    "            r+=1\n",
    "        return res\n",
    "    \n",
    "s = Solution()\n",
    "s.maxSlidingWindow(nums=[1,3,-1,-3,5,3,6,7], k=3)\n",
    "s.maxSlidingWindow(nums=[1,3,1,2,0,5], k=3)"
   ]
  }
 ],
 "metadata": {
  "kernelspec": {
   "display_name": "dsa_prep",
   "language": "python",
   "name": "python3"
  },
  "language_info": {
   "codemirror_mode": {
    "name": "ipython",
    "version": 3
   },
   "file_extension": ".py",
   "mimetype": "text/x-python",
   "name": "python",
   "nbconvert_exporter": "python",
   "pygments_lexer": "ipython3",
   "version": "3.12.8"
  }
 },
 "nbformat": 4,
 "nbformat_minor": 2
}
