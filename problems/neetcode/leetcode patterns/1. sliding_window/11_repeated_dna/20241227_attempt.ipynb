{
 "cells": [
  {
   "cell_type": "markdown",
   "metadata": {},
   "source": [
    "## Main"
   ]
  },
  {
   "cell_type": "markdown",
   "metadata": {},
   "source": [
    "- We **specifically** want 10 letter long seqeunces that repeat\n",
    "\n",
    "- Idea\n",
    "    - Fix a window of size 10\n",
    "    - For each window slide, check if string is in set \n",
    "    - If yes add to result, if no add to set\n",
    "\n",
    "    - This takes O(N) time, but takes a lot of space. O(N^2) space probably for the result and the set of hashmaps"
   ]
  },
  {
   "cell_type": "code",
   "execution_count": 11,
   "metadata": {},
   "outputs": [
    {
     "data": {
      "text/plain": [
       "['CCCCCAAAAA', 'AAAAACCCCC']"
      ]
     },
     "execution_count": 11,
     "metadata": {},
     "output_type": "execute_result"
    }
   ],
   "source": [
    "class Solution:\n",
    "    def findRepeatedDnaSequences(self, s: str) -> list[str]:\n",
    "        l, r = 0, 9\n",
    "        seen = set()\n",
    "        res = set()\n",
    "        while r < len(s):\n",
    "            if s[l:(r+1)] in seen and s[l:(r+1)] not in res:\n",
    "                res.add(s[l:(r+1)])\n",
    "            else:\n",
    "                seen.add(s[l:(r+1)])\n",
    "            l,r= l+1, r+1\n",
    "\n",
    "        return list(res)\n",
    "\n",
    "s = Solution()\n",
    "s.findRepeatedDnaSequences(s='AAAAACCCCCAAAAACCCCCCAAAAAGGGTTT')"
   ]
  },
  {
   "cell_type": "markdown",
   "metadata": {},
   "source": [
    "## Review"
   ]
  }
 ],
 "metadata": {
  "kernelspec": {
   "display_name": "dsa-prep-3dngTr8Z-py3.12",
   "language": "python",
   "name": "python3"
  },
  "language_info": {
   "codemirror_mode": {
    "name": "ipython",
    "version": 3
   },
   "file_extension": ".py",
   "mimetype": "text/x-python",
   "name": "python",
   "nbconvert_exporter": "python",
   "pygments_lexer": "ipython3",
   "version": "3.12.8"
  }
 },
 "nbformat": 4,
 "nbformat_minor": 2
}
