{
 "cells": [
  {
   "cell_type": "markdown",
   "metadata": {},
   "source": [
    "## Main"
   ]
  },
  {
   "cell_type": "code",
   "execution_count": 13,
   "metadata": {},
   "outputs": [],
   "source": [
    "class Solution:\n",
    "    def maxFrequency(self, nums: list[int], k: int) -> int:\n",
    "        counter = {}\n",
    "        unique_vals = set()\n",
    "        for num in nums:\n",
    "            counter[num] = 1 + counter.get(num, 0)\n",
    "            unique_vals.add(num)\n",
    "        \n",
    "        unique_vals = sorted(list(unique_vals))\n",
    "        \n",
    "        ## Start at r=1, because at r=0 frequency will always be 1 b/c cannot decrement\n",
    "        r = 1\n",
    "        res = -1\n",
    "        maxops = k\n",
    "        while r < len(unique_vals):\n",
    "            k = maxops\n",
    "            base_count = counter[unique_vals[r]]\n",
    "            for l in range(r):\n",
    "                diff = unique_vals[r] - unique_vals[l]\n",
    "                count_smaller = counter.get(unique_vals[l], 0)\n",
    "                ops_needed = count_smaller * diff\n",
    "                if k >= ops_needed:\n",
    "                    base_count += count_smaller\n",
    "                    k -= ops_needed\n",
    "                else:\n",
    "                    if k//diff >= 1:\n",
    "                        base_count += k//diff\n",
    "                        k = 0\n",
    "\n",
    "                res = max(res, base_count)\n",
    "            r += 1\n",
    "        \n",
    "        return res\n",
    "\n",
    "\n",
    "s = Solution()\n",
    "# s.maxFrequency([1,2,4], 5)\n",
    "# s.maxFrequency([1,4,8,13], 5)"
   ]
  },
  {
   "cell_type": "code",
   "execution_count": 14,
   "metadata": {},
   "outputs": [
    {
     "data": {
      "text/plain": [
       "72"
      ]
     },
     "execution_count": 14,
     "metadata": {},
     "output_type": "execute_result"
    }
   ],
   "source": [
    "s.maxFrequency([9930,9923,9983,9997,9934,9952,9945,9914,9985,9982,9970,9932,9985,9902,9975,9990,9922,9990,9994,9937,9996,9964,9943,9963,9911,9925,9935,9945,9933,9916,9930,9938,10000,9916,9911,9959,9957,9907,9913,9916,9993,9930,9975,9924,9988,9923,9910,9925,9977,9981,9927,9930,9927,9925,9923,9904,9928,9928,9986,9903,9985,9954,9938,9911,9952,9974,9926,9920,9972,9983,9973,9917,9995,9973,9977,9947,9936,9975,9954,9932,9964,9972,9935,9946,9966], 3056)"
   ]
  },
  {
   "cell_type": "markdown",
   "metadata": {},
   "source": [
    "## Review"
   ]
  },
  {
   "cell_type": "markdown",
   "metadata": {},
   "source": [
    "- Fail\n",
    "- You got stuck trying to figure out how to update the window when reaching an invalid value\n",
    "- See solution"
   ]
  },
  {
   "cell_type": "markdown",
   "metadata": {},
   "source": []
  }
 ],
 "metadata": {
  "kernelspec": {
   "display_name": "dsa_prep",
   "language": "python",
   "name": "python3"
  },
  "language_info": {
   "codemirror_mode": {
    "name": "ipython",
    "version": 3
   },
   "file_extension": ".py",
   "mimetype": "text/x-python",
   "name": "python",
   "nbconvert_exporter": "python",
   "pygments_lexer": "ipython3",
   "version": "3.12.8"
  }
 },
 "nbformat": 4,
 "nbformat_minor": 2
}
