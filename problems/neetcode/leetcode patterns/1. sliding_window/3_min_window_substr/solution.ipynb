{
 "cells": [
  {
   "cell_type": "markdown",
   "metadata": {},
   "source": [
    "## Main"
   ]
  },
  {
   "cell_type": "markdown",
   "metadata": {},
   "source": [
    "- Since you got an answer (though not the optimal one), we will focus on the $O(N+M)$ solution"
   ]
  },
  {
   "cell_type": "markdown",
   "metadata": {},
   "source": [
    "- There are 2 key differences here between your solution and this one\n",
    "    - You used a heap to keep track of where to move your left pointer to; this trades off space for time\n",
    "        - i.e. you don't need to increment l 1 by 1 until you reach a valid next value, but you need a heap object\n",
    "    - A heap also requires O(\\log N) time to pop and push, so may negatively affect your time complexity due to N log N operation\n",
    "\n",
    "    - Instead of comparing dictionary keys and values, which is horrendously slow, you can use a simply counter to flag the validity of the substring\n",
    "        - So every time you see something that fits, you increment the counter, and everytime you see something that doesn't, you decrement it\n",
    "        - So you use the hashmap to maintain counts, and if the count falls below the `t` counter, decrement the `have` flag. \n",
    "        - And if you meet a new character that is in `t`, increment the `have` flag IF AND ONLY IF adding the 1 character to the hashmap causes equality in counts\n",
    "        - In this way, you will never end up running the while loop erroneously\n",
    "\n",
    "        - Example \n",
    "            - target counter is `{'A': 1, 'B': 1, 'C': 1}`\n",
    "            - current window counter is `{'A': 0, 'B': 1, 'C': 1}`\n",
    "            - I encounter a `B`, which bumps my window counter to `{'A': 0, 'B': 2, 'C': 1}`\n",
    "            - Since adding B does not cause target[B] == window[B], I do not increment \"have\", so I don't run the while loop to update my result!"
   ]
  },
  {
   "cell_type": "code",
   "execution_count": 2,
   "metadata": {},
   "outputs": [],
   "source": [
    "class Solution:\n",
    "    def minWindow(self, s: str, t: str) -> str:\n",
    "        if t == '': \n",
    "            return ''\n",
    "\n",
    "        count_t, window = {}, {}\n",
    "        for c in t:\n",
    "            count_t[c] = 1 + count_t.get(c, 0)\n",
    "        \n",
    "        have, need = 0, len(count_t)\n",
    "        res, res_len = [-1, -1], float('inf')\n",
    "        l = 0\n",
    "        for r in range(len(s)):\n",
    "            c = s[r]\n",
    "            window[c] = 1 + window.get(c, 0)\n",
    "\n",
    "            if c in count_t and window[c] == count_t[c]:\n",
    "                have += 1\n",
    "            \n",
    "            while have == need:\n",
    "                if (r - l + 1) < res_len:\n",
    "                    res = [l, r]\n",
    "                    res_len = r - l + 1\n",
    "                \n",
    "                window[s[l]] -= 1\n",
    "                if s[l] in count_t and window[s[l]] < count_t[s[l]]:\n",
    "                    have -= 1\n",
    "\n",
    "                l += 1\n",
    "        l, r = res\n",
    "        return s[l : r+1] if res_len != float('inf') else ''\n",
    "\n",
    "s = Solution()"
   ]
  },
  {
   "cell_type": "code",
   "execution_count": 3,
   "metadata": {},
   "outputs": [
    {
     "data": {
      "text/plain": [
       "'BANC'"
      ]
     },
     "execution_count": 3,
     "metadata": {},
     "output_type": "execute_result"
    }
   ],
   "source": [
    "s.minWindow(s = \"ADOBECODEBANC\", t = \"ABC\")\n",
    "# s.minWindow(s = \"a\", t = \"a\")\n",
    "# s.minWindow(s = \"a\", t = \"aa\")\n",
    "# s.minWindow(s = \"ab\", t = \"b\")\n",
    "# s.minWindow(s = \"aa\", t = \"aa\")\n",
    "# s.minWindow(s='cabwefgewcwaefgcf', t='cae')"
   ]
  }
 ],
 "metadata": {
  "kernelspec": {
   "display_name": "dsa_prep",
   "language": "python",
   "name": "python3"
  },
  "language_info": {
   "codemirror_mode": {
    "name": "ipython",
    "version": 3
   },
   "file_extension": ".py",
   "mimetype": "text/x-python",
   "name": "python",
   "nbconvert_exporter": "python",
   "pygments_lexer": "ipython3",
   "version": "3.12.8"
  }
 },
 "nbformat": 4,
 "nbformat_minor": 2
}
