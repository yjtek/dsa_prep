{
 "cells": [
  {
   "cell_type": "markdown",
   "metadata": {},
   "source": [
    "## Main"
   ]
  },
  {
   "cell_type": "markdown",
   "metadata": {},
   "source": [
    "- Idea\n",
    "    - maintain a hashmap of characters in `p` (not a hashset, because there may be duplicates)\n",
    "    - Create two pointers, l and r, where l is 0 and r is len(p)-1\n",
    "    - add characters in `s[l:(r+1)]` to another hashmap \n",
    "    - Check if the two hashmaps are equal\n",
    "    - If yes, append l to result\n",
    "    - Increment l and r by 1\n",
    "    - Subtract 1 from the hashmap for s[l] and add 1 for s[r]"
   ]
  },
  {
   "cell_type": "code",
   "execution_count": 10,
   "metadata": {},
   "outputs": [],
   "source": [
    "class Solution:\n",
    "    def findAnagrams(self, s: str, p: str) -> list[int]:\n",
    "        counter_p = {}\n",
    "        for c in p:\n",
    "            counter_p[c] = 1 + counter_p.get(c, 0)\n",
    "        \n",
    "        l, r = 0, len(p)-1\n",
    "        counter_s = {}\n",
    "        for c in s[l:(r+1)]:\n",
    "            counter_s[c] = 1 + counter_s.get(c, 0)\n",
    "        \n",
    "        res = []\n",
    "        while r < len(s):\n",
    "            if counter_s == counter_p:\n",
    "                res.append(l)\n",
    "            \n",
    "            counter_s[s[l]] = counter_s.get(s[l], 0) - 1\n",
    "            if counter_s.get(s[l], 0) <= 0:\n",
    "                counter_s.pop(s[l])\n",
    "\n",
    "            if r+1 != len(s):\n",
    "                counter_s[s[r+1]] = 1 + counter_s.get(s[r+1], 0)\n",
    "            l+=1\n",
    "            r+=1\n",
    "            \n",
    "        return res"
   ]
  },
  {
   "cell_type": "code",
   "execution_count": 12,
   "metadata": {},
   "outputs": [
    {
     "data": {
      "text/plain": [
       "[0, 1, 2]"
      ]
     },
     "execution_count": 12,
     "metadata": {},
     "output_type": "execute_result"
    }
   ],
   "source": [
    "s = Solution()\n",
    "s.findAnagrams(s='cbaebabacd', p='abc')\n",
    "s.findAnagrams(s='abab', p='ab')"
   ]
  },
  {
   "cell_type": "markdown",
   "metadata": {},
   "source": [
    "## Review"
   ]
  },
  {
   "cell_type": "markdown",
   "metadata": {},
   "source": [
    "- Got it right, nice"
   ]
  }
 ],
 "metadata": {
  "kernelspec": {
   "display_name": "dsa_prep",
   "language": "python",
   "name": "python3"
  },
  "language_info": {
   "codemirror_mode": {
    "name": "ipython",
    "version": 3
   },
   "file_extension": ".py",
   "mimetype": "text/x-python",
   "name": "python",
   "nbconvert_exporter": "python",
   "pygments_lexer": "ipython3",
   "version": "3.12.8"
  }
 },
 "nbformat": 4,
 "nbformat_minor": 2
}
