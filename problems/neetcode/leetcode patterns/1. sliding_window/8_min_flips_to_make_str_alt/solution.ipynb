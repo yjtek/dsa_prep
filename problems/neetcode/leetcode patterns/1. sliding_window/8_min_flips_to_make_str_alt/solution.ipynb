{
 "cells": [
  {
   "cell_type": "markdown",
   "metadata": {},
   "source": [
    "## Main"
   ]
  },
  {
   "cell_type": "markdown",
   "metadata": {},
   "source": [
    "- Imagine you have 111000\n",
    "\n",
    "- The number of type 2 operations to get alternating string is the number of positions that don't match when comparing `s` to both '101010' and '010101'\n",
    "    - `111000` vs `101010`\n",
    "        - 1 and 1: match\n",
    "        - 1 and 0: no match\n",
    "        - 1 and 0: match\n",
    "        - 0 and 0: match\n",
    "        - 0 and 1: no match\n",
    "        - 0 and 0: match\n",
    "        - represent this as '010010', 2 flips needed\n",
    "    - `111000` vs `010101`\n",
    "        - 1 and 0: no match\n",
    "        - 1 and 1: match\n",
    "        - 1 and 0: no match\n",
    "        - 0 and 1: no match\n",
    "        - 0 and 0: match\n",
    "        - 0 and 1: no match\n",
    "        - represent this as '101101', 4 flips needed\n",
    "    \n",
    "    - Set minops to 2 (i.e. number of flips needed to go from 111000 to 101010)\n",
    "\n",
    "- Then, imagine if we perform one type 1 operation on the first character, so `s` becomes `110001`\n",
    "    - `110001` vs `101010`\n",
    "        - 1 and 1: match\n",
    "        - 1 and 0: no match\n",
    "        - 0 and 1: no match\n",
    "        - 0 and 0: match\n",
    "        - 0 and 1: no match\n",
    "        - 1 and 0: no match\n",
    "        - 4 flips needed\n",
    "    - `110001` vs `010101`\n",
    "        - 1 and 0: no match\n",
    "        - 1 and 1: match\n",
    "        - 0 and 0: match\n",
    "        - 0 and 1: no match\n",
    "        - 0 and 0: match\n",
    "        - 1 and 1: match\n",
    "        - 2 flips needed\n",
    "\n",
    "- If we keep this up, we can do `n-1` type-1 operations before we get back the original string, and for each string, the comparison takes $O(N)$ time\n",
    "    - This gives us time complexity of $O(N^2)$\n",
    "\n",
    "- But is it really $O(N^2)$?\n",
    "    - Consider `111000` \n",
    "    - Let's ignore the first character (which we are popping to the back)\n",
    "    - For the remaining 5 characters `11000`, we are comparing it with `10101` and `01010`\n",
    "    - AFTER popping the first character to the end, the `11000` does not change! So the resulting count of mismatches should also not change\n",
    "    - In fact, after we apply type 1 operation, all we really need to do is to add 1 to the count of bit flips if the last character does not match the target"
   ]
  },
  {
   "cell_type": "markdown",
   "metadata": {},
   "source": [
    "- Concretely\n",
    "    - `111000` vs `101010`: 2 flips, 4 match\n",
    "        - Pre-swap, left-most character match. \n",
    "            - Removing leftmost character leads to comparing `11000` with `01010`. We don't have to iterate again; since the left-most character matches pre-flip, removing it must lead to 2 flips 3 match for the substring.\n",
    "        - Post-swap, right-most character becomes `1`, so `s = 110001`\n",
    "            - Since our intermediate comparison is against `01010`, we compare the last character against `010101` in the end-state\n",
    "            - The last character matches, so 2 flips 3 match becomes 2 flips 4 match\n",
    "            - Checking against our manual loop, this gives us the same result!\n",
    "    - `111000` vs `010101`: 4 flips, 2 match\n",
    "        - Pre-swap, left-most character don't match. \n",
    "            - Removing leftmost character leads to comparing `11000` with `10101`. We don't have to iterate again; since the left-most character does not match pre-swap, removing it must lead to 3 flips 2 match for the substring.\n",
    "        - Post-swap, right-most character becomes `1`, so `s = 110001`\n",
    "            - Since our intermediate comparison is against `10101`, we compare the last character against `101010` in the end-state\n",
    "            - The last character does not match, so 3 flips 2 match becomes 4 flips 2 match\n",
    "            - Checking against our manual loop, this gives us the same result!"
   ]
  },
  {
   "cell_type": "markdown",
   "metadata": {},
   "source": [
    "- We still need to consider $N$ possible strings, but each string only needs $O(1)$ operations since we don't actually need to loop over the entire string\n",
    "\n",
    "- Therefore, solution is $O(N)$!"
   ]
  },
  {
   "cell_type": "markdown",
   "metadata": {},
   "source": [
    "### Your better implementation"
   ]
  },
  {
   "cell_type": "code",
   "execution_count": 92,
   "metadata": {},
   "outputs": [
    {
     "data": {
      "text/plain": [
       "2"
      ]
     },
     "execution_count": 92,
     "metadata": {},
     "output_type": "execute_result"
    }
   ],
   "source": [
    "class Solution:\n",
    "    def minFlips(self, s: str) -> int:\n",
    "        ## Concat s with itself, to avoid messy string manipulations later\n",
    "        strlen = len(s)\n",
    "        s = s + s\n",
    "\n",
    "        target1 = '01' * (len(s)//2)\n",
    "        target2 = '10' * (len(s)//2)\n",
    "\n",
    "        res = float('inf')\n",
    "        flips1, flips2 = 0, 0\n",
    "        l,r = 0,0\n",
    "\n",
    "        while r < len(s):\n",
    "            if s[r] != target1[r]:\n",
    "                flips1 += 1\n",
    "            if s[r] != target2[r]:\n",
    "                flips2 += 1\n",
    "\n",
    "            if (r-l+1) > strlen:\n",
    "                if s[l] != target1[l]:\n",
    "                    flips1 -= 1\n",
    "                if s[l] != target2[l]:\n",
    "                    flips2 -= 1\n",
    "                l += 1\n",
    "\n",
    "            if (r-l+1) == strlen:\n",
    "                res = min(res, flips1, flips2)\n",
    "            r += 1\n",
    "        \n",
    "        return res\n",
    "\n",
    "s = Solution()\n",
    "s.minFlips('111000')\n",
    "s.minFlips('010')\n",
    "s.minFlips('1110')\n",
    "s.minFlips('01001001101')   "
   ]
  },
  {
   "cell_type": "markdown",
   "metadata": {},
   "source": [
    "### Better Implementation"
   ]
  },
  {
   "cell_type": "code",
   "execution_count": 78,
   "metadata": {},
   "outputs": [],
   "source": [
    "class Solution:\n",
    "    def minFlips(self, s: str) -> int:\n",
    "        n = len(s)\n",
    "        s = s + s\n",
    "        alt1, alt2 = '', ''\n",
    "        for i in range(len(s)):\n",
    "            alt1 += '0' if i % 2 else '1'\n",
    "            alt2 += '1' if i % 2 else '0'\n",
    "        \n",
    "        res = len(s)\n",
    "        diff1, diff2 = 0, 0\n",
    "        l=0\n",
    "\n",
    "        for r in range(len(s)):\n",
    "            if s[r] != alt1[r]:\n",
    "                diff1 += 1\n",
    "            if s[r] != alt2[r]:\n",
    "                diff2 += 1\n",
    "            \n",
    "            if (r-l+1) > n:\n",
    "                if s[l] != alt1[l]:\n",
    "                    diff1 -= 1\n",
    "                if s[l] != alt2[l]:\n",
    "                    diff2 -= 1\n",
    "                l += 1\n",
    "\n",
    "            if (r-l+1) == n:\n",
    "                res = min(res, diff1, diff2)\n",
    "        \n",
    "        return res"
   ]
  },
  {
   "cell_type": "code",
   "execution_count": 85,
   "metadata": {},
   "outputs": [
    {
     "data": {
      "text/plain": [
       "2"
      ]
     },
     "execution_count": 85,
     "metadata": {},
     "output_type": "execute_result"
    }
   ],
   "source": [
    "s = Solution()\n",
    "s.minFlips('111000')\n",
    "s.minFlips('010')\n",
    "s.minFlips('1110')\n",
    "s.minFlips('01001001101')"
   ]
  },
  {
   "cell_type": "markdown",
   "metadata": {},
   "source": [
    "### Your shit implementation"
   ]
  },
  {
   "cell_type": "markdown",
   "metadata": {},
   "source": [
    "- Gets TLE, but the idea is there I think"
   ]
  },
  {
   "cell_type": "code",
   "execution_count": 70,
   "metadata": {},
   "outputs": [],
   "source": [
    "class Solution:\n",
    "    def minFlips(self, s: str) -> int:\n",
    "        \n",
    "        ## Create targets (the alternating binary string)\n",
    "        target1, target2 = '01' * (len(s)//2 + 1), '10' * (len(s)//2 + 1)\n",
    "        target1 = target1[:len(s)]\n",
    "        target2 = target2[:len(s)]\n",
    "\n",
    "        ## Create array to store matches compared to target1 and target2\n",
    "        flips1_arr, flips2_arr = [], []\n",
    "        \n",
    "        ## Create variable to store count of flips\n",
    "        flips1, flips2 = 0, 0\n",
    "        res = float('inf')\n",
    "\n",
    "        ## Looping over s and the 2 targets, create your flips array comparing to target1 and target2\n",
    "        for c, t1, t2 in zip(s, target1, target2):\n",
    "            if c != t1:\n",
    "                flips1_arr.append(1)\n",
    "                flips1 += 1\n",
    "            else:\n",
    "                flips1_arr.append(0)\n",
    "            \n",
    "            if c != t2:\n",
    "                flips2_arr.append(1)\n",
    "                flips2 += 1\n",
    "            else:\n",
    "                flips2_arr.append(0)\n",
    "\n",
    "        ## Set result to the min of the current result, and the count of flips for this string\n",
    "        res = min(res, flips1, flips2)\n",
    "        if res == 0:\n",
    "            return res\n",
    "        \n",
    "        ## Next, we want to iterate over s, moving the first character to the end N-1 times. The n-th time just gives you the original string, so we skip it\n",
    "        _s = s\n",
    "\n",
    "        for _ in range(len(s)-1):\n",
    "            ## Cast string after type1 operation\n",
    "            _s = _s[1:] + _s[0]\n",
    "            \n",
    "            flips1, flips2 = (\n",
    "                flips2 - flips2_arr[0] + (_s[-1] != target1[-1]), \n",
    "                flips1 - flips1_arr[0] + (_s[-1] != target2[-1])\n",
    "            )\n",
    "            flips1_arr.append(1 if (_s[-1] != target1[-1]) else 0)\n",
    "            flips2_arr.append(1 if (_s[-1] != target2[-1]) else 0)\n",
    "            flips1_arr, flips2_arr = flips2_arr[1:], flips1_arr[1:]\n",
    "            \n",
    "            res = min(res, flips1, flips2)\n",
    "        \n",
    "        return res"
   ]
  },
  {
   "cell_type": "code",
   "execution_count": 71,
   "metadata": {},
   "outputs": [
    {
     "data": {
      "text/plain": [
       "1"
      ]
     },
     "execution_count": 71,
     "metadata": {},
     "output_type": "execute_result"
    }
   ],
   "source": [
    "s = Solution()\n",
    "s.minFlips('111000')\n",
    "s.minFlips('010')\n",
    "s.minFlips('1110')"
   ]
  },
  {
   "cell_type": "code",
   "execution_count": 72,
   "metadata": {},
   "outputs": [
    {
     "data": {
      "text/plain": [
       "2"
      ]
     },
     "execution_count": 72,
     "metadata": {},
     "output_type": "execute_result"
    }
   ],
   "source": [
    "s.minFlips('01001001101')\n",
    "# s.minFlips('10010011010')\n",
    "# s.minFlips('00100110101')\n",
    "# s.minFlips('01001101010')"
   ]
  }
 ],
 "metadata": {
  "kernelspec": {
   "display_name": "dsa_prep",
   "language": "python",
   "name": "python3"
  },
  "language_info": {
   "codemirror_mode": {
    "name": "ipython",
    "version": 3
   },
   "file_extension": ".py",
   "mimetype": "text/x-python",
   "name": "python",
   "nbconvert_exporter": "python",
   "pygments_lexer": "ipython3",
   "version": "3.12.8"
  }
 },
 "nbformat": 4,
 "nbformat_minor": 2
}
