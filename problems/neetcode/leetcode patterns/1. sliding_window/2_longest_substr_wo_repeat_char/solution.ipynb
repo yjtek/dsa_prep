{
 "cells": [
  {
   "cell_type": "markdown",
   "metadata": {},
   "source": [
    "## Main"
   ]
  },
  {
   "cell_type": "markdown",
   "metadata": {},
   "source": [
    "- Your solution is mostly right\n",
    "\n",
    "- However, there is an edge case you need to account for, which is the possibility that you have `hashmap[c] + 1` moves your start pointer backwards instead of forward\n",
    "\n",
    "- This is why you use `max(hashmap[c] + 1, start)`\n",
    "    - Do not move start pointer if a duplicate is found that is BEHIND your current pointer\n",
    "    - But simply replace the index in the hashmap"
   ]
  },
  {
   "cell_type": "code",
   "execution_count": null,
   "metadata": {},
   "outputs": [],
   "source": [
    "class Solution:\n",
    "    def lengthOfLongestSubstring(self, s: str) -> int:\n",
    "        '''\n",
    "        O(N) time from the loop, since no backtracking needed\n",
    "        O(N) space from hashmap\n",
    "        '''\n",
    "        hashmap = {}\n",
    "        start = 0\n",
    "        maxlen = 0\n",
    "        for i, c in enumerate(s):\n",
    "            if c not in hashmap:\n",
    "                hashmap[c] = i\n",
    "            else:\n",
    "                start = max(hashmap[c] + 1, start)\n",
    "                hashmap[c] = i\n",
    "            \n",
    "            maxlen = max(i+1-start, maxlen)\n",
    "        return maxlen\n",
    "\n",
    "s = Solution()\n",
    "s.lengthOfLongestSubstring('abcabcbb')\n",
    "s.lengthOfLongestSubstring('bbbbb')\n",
    "s.lengthOfLongestSubstring('pwwkew')"
   ]
  }
 ],
 "metadata": {
  "kernelspec": {
   "display_name": "dsa_prep",
   "language": "python",
   "name": "python3"
  },
  "language_info": {
   "codemirror_mode": {
    "name": "ipython",
    "version": 3
   },
   "file_extension": ".py",
   "mimetype": "text/x-python",
   "name": "python",
   "nbconvert_exporter": "python",
   "pygments_lexer": "ipython3",
   "version": "3.12.6"
  }
 },
 "nbformat": 4,
 "nbformat_minor": 2
}
