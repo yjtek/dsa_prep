{
 "cells": [
  {
   "cell_type": "code",
   "execution_count": null,
   "metadata": {},
   "outputs": [],
   "source": [
    "def permuteunique(nums, depth=0):\n",
    "    res = []\n",
    "    perm = []\n",
    "    count = {n:0 for n in nums}\n",
    "    \n",
    "    for n in nums:\n",
    "        count[n] += 1\n",
    "    \n",
    "    def dfs(depth):\n",
    "        print('='*50)\n",
    "        print(f\"{'   '*depth}DFS {perm=}, {count=}\")\n",
    "        if len(perm) == len(nums):\n",
    "            print(f\"{'   '*depth}Returning: {perm=}, {count=}\")\n",
    "            res.append(perm[:])\n",
    "            return\n",
    "        \n",
    "        for n in count:\n",
    "            print(f\"{'   '*depth}Looping {n=}, {perm=}, {count=}\")\n",
    "            if count[n] > 0:\n",
    "                print(f\"{'   '*depth}Add value start: {perm=}, {count=}\")\n",
    "                perm.append(n)\n",
    "                count[n] -= 1\n",
    "                \n",
    "                print(f\"{'   '*depth}Recursion start: {perm=}, {count=}\")\n",
    "                dfs(depth+1)\n",
    "                print(f\"{'   '*depth}Recursion return: {perm=}, {count=}\")\n",
    "\n",
    "\n",
    "                count[n] += 1\n",
    "                perm.pop()\n",
    "                print(f\"{'   '*depth}Re-instating Value: {perm=}, {count=}\")\n",
    "        print(f\"{'   '*depth}Ending: {perm=}, {count=}\")\n",
    "    dfs(0)\n",
    "    return res\n",
    "\n",
    "# permuteunique([1,1,2])"
   ]
  }
 ],
 "metadata": {
  "language_info": {
   "name": "python"
  }
 },
 "nbformat": 4,
 "nbformat_minor": 2
}
