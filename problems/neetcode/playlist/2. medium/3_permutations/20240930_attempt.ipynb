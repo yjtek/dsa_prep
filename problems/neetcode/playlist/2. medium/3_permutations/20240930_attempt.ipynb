{
 "cells": [
  {
   "cell_type": "markdown",
   "metadata": {},
   "source": [
    "## Main"
   ]
  },
  {
   "cell_type": "markdown",
   "metadata": {},
   "source": [
    "- Approach 1:\n",
    "    - We know that the base case of permutations in an array of size 1 is just the array itself\n",
    "\n",
    "    - In an array of size 2, you can have [a,b] or [b,a]\n",
    "\n",
    "    - So if we make recursive calls for smaller and smaller subarrays, we get our permutations\n",
    "\n",
    "    - For an array of size 3, we loop over each element once to choose the first value, and return in constant time from the remaining array, leading to time complexity of $O(N)$\n",
    "\n",
    "    - For an array of size 4, we loop over all $N$ for first element, which reduces to a size 3 array, which is solved in $O(N)$, giving us $O(N^2)$ total\n",
    "\n",
    "    - etc.\n",
    "\n",
    "    - This literally gives us $O(N^{N-2})$ time, which is very inefficient\n"
   ]
  },
  {
   "cell_type": "markdown",
   "metadata": {},
   "source": []
  },
  {
   "cell_type": "markdown",
   "metadata": {},
   "source": [
    "## Review"
   ]
  }
 ],
 "metadata": {
  "kernelspec": {
   "display_name": "dsa_prep",
   "language": "python",
   "name": "python3"
  },
  "language_info": {
   "codemirror_mode": {
    "name": "ipython",
    "version": 3
   },
   "file_extension": ".py",
   "mimetype": "text/x-python",
   "name": "python",
   "nbconvert_exporter": "python",
   "pygments_lexer": "ipython3",
   "version": "3.10.13"
  }
 },
 "nbformat": 4,
 "nbformat_minor": 2
}
