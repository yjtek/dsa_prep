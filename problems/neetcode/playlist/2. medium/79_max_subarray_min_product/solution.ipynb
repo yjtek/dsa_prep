{
 "cells": [
  {
   "cell_type": "markdown",
   "metadata": {},
   "source": [
    "## Main"
   ]
  },
  {
   "cell_type": "markdown",
   "metadata": {},
   "source": [
    "- This is legit one of the hardest problems I've seen so far\n",
    "- I'll be going through the solution early, because I'm pretty sure I'll forget what the solution even means by the time we get around to doing this problem"
   ]
  },
  {
   "cell_type": "markdown",
   "metadata": {},
   "source": [
    "### Theory"
   ]
  },
  {
   "cell_type": "markdown",
   "metadata": {},
   "source": [
    "- Let's first talk about the brute force approach\n",
    "    - For an array of size $N$, there are $\\frac{N \\cdot (N+1)}{2}$ possible contiguous subarrays\n",
    "        - e.g. for [1,2,3,4,5], you can have [1,2,3,4,5], [1,2,3,4], ... [1], [2,3,4,5], [2,3,4] ... [2] \n",
    "        - This gives you 5 + 4 + 3 + 2 + 1 = 15 possible subarrays\n",
    "        - For $N$-sized array, you have $\\frac{N \\cdot (N+1)}{2}$\n",
    "    - In other words, the brute force solution will run in $O(N^2)$ time"
   ]
  },
  {
   "cell_type": "markdown",
   "metadata": {},
   "source": [
    "- This can be faster! But where is the repeated/redundant work?\n",
    "\n",
    "- Let's take $A=[1,2,3,4,5]$ as an example\n",
    "    - Imagine we have an array starting at index 0\n",
    "    - Since we know that $A$ is increasing, the minimum value of any array starting at index 0 MUST be at index 0!\n",
    "    - No matter how much we expand our array, our minimum value is fixed. \n",
    "    - Hence, the min-product (sum of array * min of array) must be maximised when the array length is maximised! No matter what number appears at the end of the array, the additional number can only increase the sum\n",
    "    - For example:\n",
    "        - We previously said that there are 5 subarrays that start at index 0: \n",
    "            - [1,2,3,4,5], [1,2,3,4], [1,2,3], [1,2], [1]\n",
    "    - But actually, we only need to care about [1,2,3,4,5]. Because the other subarrays cannot possibly contain the maximum min-product!\n",
    "\n",
    "- This argument also holds true for index 1, 2, 3, and 4\n",
    "    - So in effect, we only need to consider 5 cases\n",
    "        - [1,2,3,4,5], [2,3,4,5], [3,4,5], [4,5], [5]\n",
    "    - This can be done in $O(N)$ time"
   ]
  },
  {
   "cell_type": "markdown",
   "metadata": {},
   "source": [
    "- So far so good. What happens when we see an array in **decreasing** order?\n",
    "\n",
    "- Let's suppose we have [5,4,3,2,1] now\n",
    "    - In the case where the array is increasing, expanding to the right only increases the sum, but is guaranteed to have the same minimum value \n",
    "        - i.e. going from array [1,2] to [1,2,3] strictly increases the min-product, so no tradeoff\n",
    "    - But in a decreasing array this is no longer the case\n",
    "        - i.e. going from array [5,4] to [5,4,3] increases the sum, but decreases the minimum, so there is a tradeoff\n",
    "\n",
    "- Again, brute forcing this will take us $O(N^2)$ time, same as the [1,2,3,4,5] example\n",
    "\n",
    "- There is again repeated work we can cut!\n",
    "    - In the first case, we note that expanding rightwards will always increase our min-product\n",
    "    - In this case, expanding leftwards always increases our min-product\n",
    "    - So all we need to check must be the same 5 arrays;\n",
    "        - [5], [5,4], [5,4,3], [5,4,3,2], [5,4,3,2,1]"
   ]
  },
  {
   "cell_type": "markdown",
   "metadata": {},
   "source": [
    "- More generally, it must be the case that, whenever we see a minimum value, we want to expand it as far as it can go (left AND right) to maximise the min-product\n",
    "\n",
    "- So let's consider a case where we have [3,2,1,2,3]\n",
    "    - We will iterate through the array, and at each point, we treat the value as the minimum value\n",
    "    - Starting at 3\n",
    "        - we cannot expand left (because we are at the end of the array), and we cannot expand right (because 2 will become the new minimum)\n",
    "        - Therefore, the maximum min-product of the subarray with `3` must be min=3 * sum=3 = 9\n",
    "    - Next, assume min is at 2\n",
    "        - We can expand left without changing the mininum, so expand left to get [3,2]\n",
    "        - We cannot expand right without changing the minimum\n",
    "        - So the maximum min-product where `2` is the minimum must be min=2 * sum=5 = 10\n",
    "    - Next, assume min is at 1\n",
    "        - We can expand left 2 times without changing the mininum, so expand left to get [3,2,1]\n",
    "        - We can expand right 2 times without changing the mininum, so expand right to get [3,2,1,2,3]\n",
    "        - So the maximum min-product where `1` is the minimum must be min=1 * sum=11 = 11\n",
    "    - Next, assume min is at 2\n",
    "        - We cannot expand left without changing minimum\n",
    "        - We can expand right, so expand right to get [2,3]\n",
    "        - So the maximum min-product where `2` is the minimum must be min=2 * sum=5 = 10\n",
    "    - Next, assume min is at 3\n",
    "        - We cannot expand right because we are at array end\n",
    "        - We cannot expand left without changing minimum\n",
    "        - So the maximum min-product where `3` is the minimum must be min=3 * sum=3 = 9\n",
    "    - $\\therefore$ Max min-product must be 11\n",
    "\n"
   ]
  },
  {
   "cell_type": "markdown",
   "metadata": {},
   "source": [
    "- So this is the basic idea; we treat every element as the minimum, and find the largest possible array we can get using this as the minimum\n",
    "\n",
    "- But notice how this is still doing a lot of redundant comparisons\n",
    "    - Take step 3 for example\n",
    "    - We know that 1 expands twice to the right\n",
    "    - This must mean that, in step 4, there cannot be a way to expand to the left, AND there must be 1 expansion rightwards\n",
    "    - Yet, if we follow the algorithm above, we will end up making the same comparison again \n",
    "\n",
    "- What we truly want at each step of the iteration is a way to get the index of the previous greater value (which halts our expansion leftwards) and next greater value (which halts our expansion rightwards)\n",
    "\n",
    "- How can we do this? Simple, we use a stack!\n",
    "    - To find the next smaller element/previous smaller element is actually a Leetcode problem in itself (see [here](https://leetcode.com/problems/next-greater-element-i/description/))\n",
    "    - So first, we initialise a stack, and a hashmap where keys are indices and values are the index of the next smaller element\n",
    "    - Next, traversing the array from left to right, we append the value of the array to the stack **IF** the value is not smaller than the current element\n",
    "    - If we terminate without finding a smaller value than current element, then there is no smaller element\n",
    "    - If we find a smaller element, pop values from the stack, and add the index of the popped value to the hashmap, with the index of the next smaller element we just found as the value\n",
    "    - Similar logic applies for previous smaller element\n",
    "\n",
    "- So for every iteration, we can find the min-product in $O(1)$ time, because we can get the next smaller element, the previous smaller element, and the array sum in $O(1)$ time\n",
    "\n",
    "- Hence, the algorithm runs in $O(N)$ time, and requires $O(N)$ space"
   ]
  },
  {
   "cell_type": "markdown",
   "metadata": {},
   "source": [
    "### Solution"
   ]
  },
  {
   "cell_type": "code",
   "execution_count": 64,
   "metadata": {},
   "outputs": [],
   "source": [
    "from typing import List\n",
    "\n",
    "class Solution:\n",
    "    \n",
    "    def __init__(self):\n",
    "        self.element_to_index_map = None\n",
    "\n",
    "    def get_element_to_index_map(self, nums: List[int]):\n",
    "        if not self.element_to_index_map:\n",
    "            self.element_to_index_map = {elem: index for index, elem in enumerate(nums)}\n",
    "        return self.element_to_index_map\n",
    "\n",
    "    def get_next_smaller_element(self, nums: List[int]) -> List[int]:\n",
    "        stack = []\n",
    "        element_to_index_map = self.get_element_to_index_map(nums)\n",
    "        next_smaller_element_index = [-1] * len(nums)\n",
    "        \n",
    "        for i, num in enumerate(nums):\n",
    "            ## If the current value num exceeds the top of the stack, it cannot be the next smallest value. Hence, append to stack\n",
    "            if (not stack) or (num >= stack[-1]):\n",
    "                stack.append(num)\n",
    "                continue\n",
    "\n",
    "            ## If num is less than top of stack, then it must be the next smaller value for the top of stack. We keep popping from the stack, because num may be the next smallest value for the rest of the stack too\n",
    "            while stack and num < stack[-1]:\n",
    "                next_smaller_element_index[element_to_index_map.get(stack.pop())] = i\n",
    "            \n",
    "            ## Append num to stack\n",
    "            stack.append(num)\n",
    "        return next_smaller_element_index\n",
    "    \n",
    "    def get_prev_smaller_element(self, nums: List[int]) -> List[int]:\n",
    "        stack = []\n",
    "        element_to_index_map = self.get_element_to_index_map(nums)\n",
    "        prev_smaller_element_index = [-1] * len(nums)\n",
    "\n",
    "        for i, num in enumerate(nums):\n",
    "            # if you see number bigger than the current value on the stack, remove it, because anything larger than current value that comes before it cannot possibly be a left boundary (i.e. if current value is 5, and stack value is 6, if 5 is not a left boundary, 6 will never be a left boundary)\n",
    "            while stack and (num <= stack[-1]):\n",
    "                stack.pop()\n",
    "\n",
    "            # If the value at the top of the stack now is smaller than num, it must be the left boundary. Set the index of prev_smaller_element to the index of the stack value\n",
    "            if stack and (num > stack[-1]):\n",
    "                prev_smaller_element_index[i] = element_to_index_map.get(stack[-1])\n",
    "\n",
    "            # Append num to the stack\n",
    "            stack.append(num)\n",
    "\n",
    "        return prev_smaller_element_index\n",
    "            \n",
    "    def get_cumulative_sum(self, nums: List[int]) -> List[int]:\n",
    "        cumval = 0\n",
    "        res = [0] * len(nums)\n",
    "        for i,num in enumerate(nums):\n",
    "            cumval += num\n",
    "            res[i] = cumval\n",
    "        return [0]+res\n",
    "            \n",
    "    def maxSumMinProduct(self, nums: List[int]) -> int:\n",
    "        next_smaller_element = self.get_next_smaller_element(nums)\n",
    "        prev_smaller_element = self.get_prev_smaller_element(nums)\n",
    "        cumulative_sum = self.get_cumulative_sum(nums)\n",
    "        element_to_index_map = self.get_element_to_index_map(nums)\n",
    "        \n",
    "        max_min_product = -float('inf')\n",
    "        for candidate_minval in nums:\n",
    "            # print('='*50)\n",
    "            # print(f\"{nums=}, {next_smaller_element=}, {prev_smaller_element=}, {cumulative_sum=}, {element_to_index_map=}\")\n",
    "            left_boundary = prev_smaller_element[element_to_index_map.get(candidate_minval)]\n",
    "            right_boundary = next_smaller_element[element_to_index_map.get(candidate_minval)]\n",
    "\n",
    "            if right_boundary == -1:\n",
    "                right_boundary = len(nums)\n",
    "\n",
    "            candidate_array_sum = cumulative_sum[right_boundary] - cumulative_sum[left_boundary+1]\n",
    "\n",
    "            candidate_min_product = candidate_array_sum * candidate_minval\n",
    "            max_min_product = max(max_min_product, candidate_min_product)\n",
    "\n",
    "            # print(f'{left_boundary=}, {right_boundary=}, {candidate_array_sum=}, {candidate_minval=}, {candidate_min_product=}')\n",
    "        return max_min_product"
   ]
  },
  {
   "cell_type": "code",
   "execution_count": 66,
   "metadata": {},
   "outputs": [
    {
     "name": "stdout",
     "output_type": "stream",
     "text": [
      "==================================================\n",
      "nums=[2, 4, 6, 1, 3, 5], next_smaller_element=[3, 3, 3, -1, -1, -1], prev_smaller_element=[-1, 0, 1, -1, 3, 4], cumulative_sum=[0, 2, 6, 12, 13, 16, 21], element_to_index_map={2: 0, 4: 1, 6: 2, 1: 3, 3: 4, 5: 5}\n",
      "left_boundary=-1, right_boundary=3, candidate_array_sum=12, candidate_minval=2, candidate_min_product=24\n",
      "==================================================\n",
      "nums=[2, 4, 6, 1, 3, 5], next_smaller_element=[3, 3, 3, -1, -1, -1], prev_smaller_element=[-1, 0, 1, -1, 3, 4], cumulative_sum=[0, 2, 6, 12, 13, 16, 21], element_to_index_map={2: 0, 4: 1, 6: 2, 1: 3, 3: 4, 5: 5}\n",
      "left_boundary=0, right_boundary=3, candidate_array_sum=10, candidate_minval=4, candidate_min_product=40\n",
      "==================================================\n",
      "nums=[2, 4, 6, 1, 3, 5], next_smaller_element=[3, 3, 3, -1, -1, -1], prev_smaller_element=[-1, 0, 1, -1, 3, 4], cumulative_sum=[0, 2, 6, 12, 13, 16, 21], element_to_index_map={2: 0, 4: 1, 6: 2, 1: 3, 3: 4, 5: 5}\n",
      "left_boundary=1, right_boundary=3, candidate_array_sum=6, candidate_minval=6, candidate_min_product=36\n",
      "==================================================\n",
      "nums=[2, 4, 6, 1, 3, 5], next_smaller_element=[3, 3, 3, -1, -1, -1], prev_smaller_element=[-1, 0, 1, -1, 3, 4], cumulative_sum=[0, 2, 6, 12, 13, 16, 21], element_to_index_map={2: 0, 4: 1, 6: 2, 1: 3, 3: 4, 5: 5}\n",
      "left_boundary=-1, right_boundary=6, candidate_array_sum=21, candidate_minval=1, candidate_min_product=21\n",
      "==================================================\n",
      "nums=[2, 4, 6, 1, 3, 5], next_smaller_element=[3, 3, 3, -1, -1, -1], prev_smaller_element=[-1, 0, 1, -1, 3, 4], cumulative_sum=[0, 2, 6, 12, 13, 16, 21], element_to_index_map={2: 0, 4: 1, 6: 2, 1: 3, 3: 4, 5: 5}\n",
      "left_boundary=3, right_boundary=6, candidate_array_sum=8, candidate_minval=3, candidate_min_product=24\n",
      "==================================================\n",
      "nums=[2, 4, 6, 1, 3, 5], next_smaller_element=[3, 3, 3, -1, -1, -1], prev_smaller_element=[-1, 0, 1, -1, 3, 4], cumulative_sum=[0, 2, 6, 12, 13, 16, 21], element_to_index_map={2: 0, 4: 1, 6: 2, 1: 3, 3: 4, 5: 5}\n",
      "left_boundary=4, right_boundary=6, candidate_array_sum=5, candidate_minval=5, candidate_min_product=25\n"
     ]
    },
    {
     "data": {
      "text/plain": [
       "40"
      ]
     },
     "execution_count": 66,
     "metadata": {},
     "output_type": "execute_result"
    }
   ],
   "source": [
    "s = Solution()\n",
    "nums = [2,4,6,1,3,5]\n",
    "# s.get_next_smaller_element(nums)\n",
    "# s.get_prev_smaller_element(nums)\n",
    "# s.get_cumulative_sum(nums)\n",
    "s.maxSumMinProduct(nums)"
   ]
  }
 ],
 "metadata": {
  "kernelspec": {
   "display_name": "dsa_prep",
   "language": "python",
   "name": "python3"
  },
  "language_info": {
   "codemirror_mode": {
    "name": "ipython",
    "version": 3
   },
   "file_extension": ".py",
   "mimetype": "text/x-python",
   "name": "python",
   "nbconvert_exporter": "python",
   "pygments_lexer": "ipython3",
   "version": "3.12.6"
  }
 },
 "nbformat": 4,
 "nbformat_minor": 2
}
