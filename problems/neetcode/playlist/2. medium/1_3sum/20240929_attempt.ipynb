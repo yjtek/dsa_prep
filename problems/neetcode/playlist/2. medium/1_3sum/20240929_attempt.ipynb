{
 "cells": [
  {
   "cell_type": "markdown",
   "metadata": {},
   "source": [
    "## Main"
   ]
  },
  {
   "cell_type": "markdown",
   "metadata": {},
   "source": [
    "- Brute force\n",
    "    - Loop over all value `num` in `nums` in $O(N)$\n",
    "    - Target becomes `0 - num`\n",
    "    - For all remaining values excluding `num`, do a **2sum** for that target \n",
    "        - Init hashmap, where contents are {value: index}\n",
    "        - Looping over remaining array, if target - currval in hashmap, return hashmap[target-currval] and current index\n",
    "        - Otherwise, add {value: index} to hashmap\n",
    "        - **2sum** can be done in $O(N)$ time and $O(N)$ space\n",
    "    \n",
    "    - Therefore, **3sum** can be done in $O(N^2)$ time and $O(N)$ space\n",
    "\n",
    "- Approach 1:\n",
    "    - We can build the hashmap index first, since it will not change no matter which is the first element we exclude. This takes $O(N)$ time and $O(N)$ space\n",
    "\n",
    "    - Then, loop across nums in $O(N)$. This will be the element to exclude\n",
    "\n",
    "    - For the remaining elements not excluded, find `target-num` through 2-sum\n",
    "\n",
    "- Approach 2:\n",
    "    - In fact, there is a way to solve for this without incurring any space, but at the cost of an extra $O(N \\log N)$ sorting step\n",
    "    \n",
    "    - This is approach is $O(N^2)$ anyway, so the $N \\log N$ doesn't really show up. But it is good to know that you're sacrificing some speed for memory\n",
    "\n",
    "    - We sort the array in $O(N \\log N)$\n",
    "\n",
    "    - Once the array is sorted, loop over the array in $O(N)$ to determine the first element. Let's call this `i`\n",
    "\n",
    "    - Then, using two pointers with left as `i+1` and `j` set at the end of the array, check if the two pointers sum to `target-nums[i]`. This is done in $O(N)$\n",
    "\n",
    "    - Overall, this whole process is $O(N^2)$ with $O(1)$ space"
   ]
  },
  {
   "cell_type": "markdown",
   "metadata": {},
   "source": [
    "## Review"
   ]
  }
 ],
 "metadata": {
  "kernelspec": {
   "display_name": "dsa_prep",
   "language": "python",
   "name": "python3"
  },
  "language_info": {
   "codemirror_mode": {
    "name": "ipython",
    "version": 3
   },
   "file_extension": ".py",
   "mimetype": "text/x-python",
   "name": "python",
   "nbconvert_exporter": "python",
   "pygments_lexer": "ipython3",
   "version": "3.10.13"
  }
 },
 "nbformat": 4,
 "nbformat_minor": 2
}
