{
 "cells": [
  {
   "cell_type": "markdown",
   "metadata": {},
   "source": [
    "## Main"
   ]
  },
  {
   "cell_type": "markdown",
   "metadata": {},
   "source": [
    "- Brute force\n",
    "    - Loop over all value `num` in `nums` in $O(N)$\n",
    "    - Target becomes `0 - num`\n",
    "    - For all remaining values excluding `num`, do a **2sum** for that target \n",
    "        - Init hashmap, where contents are {value: index}\n",
    "        - Looping over remaining array, if target - currval in hashmap, return hashmap[target-currval] and current index\n",
    "        - Otherwise, add {value: index} to hashmap\n",
    "        - **2sum** can be done in $O(N)$ time and $O(N)$ space\n",
    "    \n",
    "    - Therefore, **3sum** can be done in $O(N^2)$ time and $O(N)$ space\n",
    "\n",
    "    - We can build the hashmap index first, since it will not change no matter which is the first element we exclude. This takes $O(N)$ time and $O(N)$ space\n",
    "\n",
    "    - Then, loop across nums in $O(N)$. This will be the first element \n",
    "\n",
    "    - For the remaining elements, find `target - num` through 2-sum \n",
    "\n",
    "    - Before appending to answer, check if sets are equal, which will incur $O(N)$ time in the worst case\n",
    "\n",
    "- Approach 2:\n",
    "    - In fact, there is a way to solve for this without incurring any space, but at the cost of an extra $O(N \\log N)$ sorting step\n",
    "    \n",
    "    - This is approach is $O(N^2)$ anyway, so the $N \\log N$ doesn't really show up. But it is good to know that you're sacrificing some speed for memory\n",
    "\n",
    "    - We sort the array in $O(N \\log N)$\n",
    "\n",
    "    - Once the array is sorted, loop over the array in $O(N)$ to determine the first element. Let's call this `i`\n",
    "\n",
    "    - Then, using two pointers with left as `i+1` and `j` set at the end of the array, check if the two pointers sum to `target-nums[i]`. This is done in $O(N)$\n",
    "        - while l < r, check if nums[l] + nums[r] = target\n",
    "        - if it does\n",
    "            - keep incrementing l by 1 as long as nums[l] is equal to nums[l-1]\n",
    "            - increment r by 1\n",
    "        - eles if it doesn't\n",
    "            - increment l by 1 if it is too small\n",
    "            - decrement r by 1 if it is too large\n",
    "\n",
    "    - Overall, this whole process is $O(N^2)$ with $O(1)$ space"
   ]
  },
  {
   "cell_type": "code",
   "execution_count": 35,
   "metadata": {},
   "outputs": [
    {
     "data": {
      "text/plain": [
       "[[-2, 0, 2]]"
      ]
     },
     "execution_count": 35,
     "metadata": {},
     "output_type": "execute_result"
    }
   ],
   "source": [
    "class Solution:\n",
    "    def threeSum_bruteforce(self, nums: list[int]) -> list[list[int]]:\n",
    "        val_lookup = {}\n",
    "        for i,num in enumerate(nums):\n",
    "            if num not in val_lookup:\n",
    "                val_lookup[num] = [i]\n",
    "            else:\n",
    "                val_lookup[num].append(i)\n",
    "        \n",
    "        ans = set()\n",
    "        for i,num1 in enumerate(nums):\n",
    "            target = 0 - num1\n",
    "            \n",
    "            for j in range(i+1, len(nums)):\n",
    "                nums_k = target-nums[j]\n",
    "                if nums_k in val_lookup:\n",
    "                    k = [x for x in val_lookup.get(nums_k) if (x != j) and (x > j)]\n",
    "                    if k:\n",
    "                        ans.add(tuple(sorted([nums[i],nums[j],nums[k[0]]])))\n",
    "\n",
    "        return list([list(x) for x in ans])\n",
    "    \n",
    "    def threeSum_optimised(self, nums: list[int]) -> list[list[int]]:\n",
    "        sorted_nums = sorted(nums)\n",
    "        answer = []\n",
    "        for i,num in enumerate(sorted_nums):\n",
    "            # print('-'*50)\n",
    "            # print(f\"{i=}, {num=}\")\n",
    "            if i >= 1:\n",
    "                if sorted_nums[i] == sorted_nums[i-1]:\n",
    "                    continue\n",
    "            \n",
    "            target = 0 - num\n",
    "            # print(f\"{target=}\")\n",
    "\n",
    "            l, r = i+1, len(sorted_nums)-1\n",
    "            while l < r:\n",
    "                # print(f\"{l=}, {r=}\")\n",
    "                # print(f\"{sorted_nums[l]=}, {sorted_nums[r]=}\")\n",
    "                if (sorted_nums[l] + sorted_nums[r]) == target:\n",
    "                    answer.append([num, sorted_nums[l], sorted_nums[r]])\n",
    "                    l += 1\n",
    "                    while (sorted_nums[l] == sorted_nums[l-1]) and (l < r):\n",
    "                        l += 1\n",
    "                    r -= 1\n",
    "                elif (sorted_nums[l] + sorted_nums[r]) > target:\n",
    "                    r -= 1\n",
    "                elif (sorted_nums[l] + sorted_nums[r]) < target:\n",
    "                    l += 1\n",
    "        return answer\n",
    "                    \n",
    "soln = Solution()\n",
    "soln.threeSum_bruteforce([-1,0,1,2,-1,-4])\n",
    "soln.threeSum_bruteforce([0,1,1])\n",
    "soln.threeSum_bruteforce([0,0,0])\n",
    "\n",
    "soln.threeSum_optimised([-1,0,1,2,-1,-4])\n",
    "soln.threeSum_optimised([0,1,1])\n",
    "soln.threeSum_optimised([0,0,0])\n",
    "soln.threeSum_optimised([-2,0,0,2,2])"
   ]
  },
  {
   "cell_type": "markdown",
   "metadata": {},
   "source": [
    "## Review"
   ]
  },
  {
   "cell_type": "markdown",
   "metadata": {},
   "source": [
    "- You got the idea correct (to loop over the `nums` and use two sum)\n",
    "- But the actual implementation is wrong; instead of using extra space to do 2sum, there is a better way which doesn't need extra space"
   ]
  }
 ],
 "metadata": {
  "kernelspec": {
   "display_name": "dsa_prep",
   "language": "python",
   "name": "python3"
  },
  "language_info": {
   "codemirror_mode": {
    "name": "ipython",
    "version": 3
   },
   "file_extension": ".py",
   "mimetype": "text/x-python",
   "name": "python",
   "nbconvert_exporter": "python",
   "pygments_lexer": "ipython3",
   "version": "3.12.6"
  }
 },
 "nbformat": 4,
 "nbformat_minor": 2
}
