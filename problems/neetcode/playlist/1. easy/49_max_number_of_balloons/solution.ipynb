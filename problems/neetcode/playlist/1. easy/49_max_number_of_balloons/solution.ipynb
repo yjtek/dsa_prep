{
 "cells": [
  {
   "cell_type": "markdown",
   "metadata": {},
   "source": [
    "## Main"
   ]
  },
  {
   "cell_type": "markdown",
   "metadata": {},
   "source": [
    "- Brute force\n",
    "    - Loop over the input text in $O(N)$ and store characters in hashmap\n",
    "        - Each char is a key and the count of the char is a value\n",
    "\n",
    "    - Loop over 'balloon' in $O(M)$ and store characters in hashmap\n",
    "        - Each char is a key and the count of the char is a value\n",
    "    \n",
    "    - Init `count_balloon = -1`\n",
    "    - For char in match_map, get value `A` from match_map and get value `B` from text_map\n",
    "        - Take min(count_balloon, A//B)\n",
    "    \n",
    "    - Return count_balloon\n",
    "\n",
    "    - This takes $O(N+M)$ time and $O(N+M)$ space"
   ]
  },
  {
   "cell_type": "code",
   "execution_count": 4,
   "metadata": {},
   "outputs": [
    {
     "data": {
      "text/plain": [
       "0"
      ]
     },
     "execution_count": 4,
     "metadata": {},
     "output_type": "execute_result"
    }
   ],
   "source": [
    "class Solution:\n",
    "    def maxNumberOfBalloons(self, text: str) -> int:\n",
    "        text_map = {}\n",
    "        for char in text:\n",
    "            if char not in text_map:\n",
    "                text_map[char] = 0\n",
    "            text_map[char] += 1\n",
    "\n",
    "        match_map = {}\n",
    "        for char in 'balloon':\n",
    "            if char not in match_map:\n",
    "                match_map[char] = 0\n",
    "            match_map[char] += 1\n",
    "        \n",
    "        count_balloon = float('inf')\n",
    "        for char in match_map:\n",
    "            count_balloon = min(count_balloon, text_map.get(char,0)//match_map.get(char))\n",
    "        \n",
    "        return count_balloon\n",
    "\n",
    "soln = Solution()\n",
    "soln.maxNumberOfBalloons('nlaebolko')\n",
    "soln.maxNumberOfBalloons('loonbalxballpoon')\n",
    "soln.maxNumberOfBalloons('leetcode')"
   ]
  }
 ],
 "metadata": {
  "kernelspec": {
   "display_name": "dsa_prep",
   "language": "python",
   "name": "python3"
  },
  "language_info": {
   "codemirror_mode": {
    "name": "ipython",
    "version": 3
   },
   "file_extension": ".py",
   "mimetype": "text/x-python",
   "name": "python",
   "nbconvert_exporter": "python",
   "pygments_lexer": "ipython3",
   "version": "3.12.5"
  }
 },
 "nbformat": 4,
 "nbformat_minor": 2
}
