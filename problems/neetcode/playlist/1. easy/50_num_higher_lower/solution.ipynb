{
 "cells": [
  {
   "cell_type": "markdown",
   "metadata": {},
   "source": [
    "## Main"
   ]
  },
  {
   "cell_type": "markdown",
   "metadata": {},
   "source": [
    "- This seems like straightforward binary search"
   ]
  },
  {
   "cell_type": "code",
   "execution_count": null,
   "metadata": {},
   "outputs": [
    {
     "data": {
      "text/plain": [
       "15"
      ]
     },
     "metadata": {},
     "output_type": "display_data"
    }
   ],
   "source": [
    "# The guess API is already defined for you.\n",
    "# @param num, your guess\n",
    "# @return -1 if num is higher than the picked number\n",
    "#          1 if num is lower than the picked number\n",
    "#          otherwise return 0\n",
    "# def guess(num: int) -> int:\n",
    "actual = 15\n",
    "def guess(guessnum):\n",
    "    if guessnum == actual:\n",
    "        return 0\n",
    "    if guessnum < actual:\n",
    "        return 1\n",
    "    if guessnum > actual:\n",
    "        return -1\n",
    "\n",
    "class Solution:\n",
    "    def guessNumber(self, n: int) -> int:\n",
    "        l,r = 1, n\n",
    "        while l <= r:\n",
    "            mid = (l+r)//2\n",
    "            guess_response = guess(mid)\n",
    "            # print(guess_response)\n",
    "            if guess_response == 0:\n",
    "                return mid\n",
    "            elif guess_response == 1:\n",
    "                l = mid + 1\n",
    "            elif guess_response == -1:\n",
    "                r = mid - 1\n",
    "        return l\n",
    "\n",
    "soln = Solution()\n",
    "soln.guessNumber(20)"
   ]
  }
 ],
 "metadata": {
  "kernelspec": {
   "display_name": "dsa_prep",
   "language": "python",
   "name": "python3"
  },
  "language_info": {
   "codemirror_mode": {
    "name": "ipython",
    "version": 3
   },
   "file_extension": ".py",
   "mimetype": "text/x-python",
   "name": "python",
   "nbconvert_exporter": "python",
   "pygments_lexer": "ipython3",
   "version": "3.10.13"
  }
 },
 "nbformat": 4,
 "nbformat_minor": 2
}
