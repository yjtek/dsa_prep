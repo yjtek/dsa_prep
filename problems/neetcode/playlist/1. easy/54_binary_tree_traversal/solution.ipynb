{
 "cells": [
  {
   "cell_type": "markdown",
   "metadata": {},
   "source": [
    "## Main"
   ]
  },
  {
   "cell_type": "markdown",
   "metadata": {},
   "source": [
    "- In-order traversal is tricky without a graphic, so view it on leetcode if you don't understand\n",
    "\n",
    "- Basically you go left, then to the parent, then the right. This is considered \"in order\""
   ]
  },
  {
   "cell_type": "markdown",
   "metadata": {},
   "source": [
    "- Recursive solution takes $O(N)$ time and $O(N)$ memory in worst case (assuming tree is not balanced)\n",
    "\n",
    "- Iterative solution takes $O(N)$ time and $O(N)$ stack memory in worst case (assuming tree is not balanced)"
   ]
  },
  {
   "cell_type": "code",
   "execution_count": null,
   "metadata": {},
   "outputs": [],
   "source": [
    "from typing import Optional\n",
    "from collections import deque\n",
    "\n",
    "# Definition for a binary tree node.\n",
    "class TreeNode:\n",
    "    def __init__(self, val=0, left=None, right=None):\n",
    "        self.val = val\n",
    "        self.left = left\n",
    "        self.right = right\n",
    "\n",
    "class Solution:\n",
    "    def inorderTraversal_recursive(self, root: Optional[TreeNode]) -> list[int]:\n",
    "        if not root:\n",
    "            return []\n",
    "\n",
    "        left = self.inorderTraversal_recursive(root.left)\n",
    "        right = self.inorderTraversal_recursive(root.right)\n",
    "\n",
    "        retval = []\n",
    "        if left:\n",
    "            retval.extend(left)\n",
    "        retval.append(root.val)\n",
    "        if right:\n",
    "            retval.extend(right)\n",
    "\n",
    "        return retval\n",
    "\n",
    "    def inorderTraversal_iterative(self, root: Optional[TreeNode]) -> list[int]:\n",
    "        retval = []\n",
    "        stack = []\n",
    "        curr = root\n",
    "\n",
    "        # i=0\n",
    "        while stack or curr:\n",
    "            # print('='*50)\n",
    "            # print(f'{curr.val=}, {[x.val for x in stack]=}, {[x for x in retval]=}')\n",
    "            \n",
    "            # if i >= 10:\n",
    "            #     return\n",
    "\n",
    "            while curr:\n",
    "                stack.append(curr)\n",
    "                curr = curr.left\n",
    "            # print(f'{curr.val=}, {[x.val for x in stack]=}, {[x for x in retval]=}')\n",
    "            \n",
    "            curr = stack.pop()\n",
    "            retval.append(curr.val)\n",
    "            # print(f'{curr.val=}, {[x.val for x in stack]=}, {[x for x in retval]=}')\n",
    "\n",
    "            curr = curr.right\n",
    "            # print(f'{curr.val=}, {[x.val for x in stack]=}, {[x for x in retval]=}')\n",
    "            \n",
    "            # i += 1\n",
    "        return retval"
   ]
  },
  {
   "cell_type": "code",
   "execution_count": null,
   "metadata": {},
   "outputs": [
    {
     "name": "stdout",
     "output_type": "stream",
     "text": [
      "[1, 3, 2]\n"
     ]
    }
   ],
   "source": [
    "def temp():\n",
    "    nodes = [1,2,3,4,5,None,8,None,None,6,7,9]\n",
    "    # print(len(nodes))\n",
    "    for i,x in enumerate(nodes):\n",
    "        # print(i,x)\n",
    "        if x:\n",
    "            globals()[f'temp{i}'] = TreeNode(x)\n",
    "        else:\n",
    "            globals()[f'temp{i}'] = None\n",
    "\n",
    "    temp0.left = temp1\n",
    "    temp0.right = temp2\n",
    "    temp1.left = temp3\n",
    "    temp1.right = temp4\n",
    "    temp2.left = temp5\n",
    "    temp2.right = temp6\n",
    "    temp3.left = temp7\n",
    "    temp3.right = temp8\n",
    "    temp4.left = temp9\n",
    "    temp4.right = temp10\n",
    "    temp6.left = temp11   \n",
    "\n",
    "    soln = Solution()\n",
    "    # soln.inorderTraversal_recursive(temp0)\n",
    "    print(soln.inorderTraversal_iterative(temp0))\n",
    "\n",
    "def temp():\n",
    "    nodes = [2,3,None,1]\n",
    "    # print(len(nodes))\n",
    "    for i,x in enumerate(nodes):\n",
    "        # print(i,x)\n",
    "        if x:\n",
    "            globals()[f'temp{i}'] = TreeNode(x)\n",
    "        else:\n",
    "            globals()[f'temp{i}'] = None\n",
    "\n",
    "    temp0.left = temp1\n",
    "    temp0.right = temp2\n",
    "    temp1.left = temp3\n",
    "\n",
    "    soln = Solution()\n",
    "    # soln.inorderTraversal_recursive(temp0)\n",
    "    print(soln.inorderTraversal_iterative(temp0))\n",
    "\n",
    "temp()"
   ]
  },
  {
   "cell_type": "markdown",
   "metadata": {},
   "source": [
    "## Followup"
   ]
  }
 ],
 "metadata": {
  "kernelspec": {
   "display_name": "dsa_prep",
   "language": "python",
   "name": "python3"
  },
  "language_info": {
   "codemirror_mode": {
    "name": "ipython",
    "version": 3
   },
   "file_extension": ".py",
   "mimetype": "text/x-python",
   "name": "python",
   "nbconvert_exporter": "python",
   "pygments_lexer": "ipython3",
   "version": "3.10.13"
  }
 },
 "nbformat": 4,
 "nbformat_minor": 2
}
