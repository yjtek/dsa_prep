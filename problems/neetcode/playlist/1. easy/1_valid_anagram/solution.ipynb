{
 "cells": [
  {
   "cell_type": "markdown",
   "metadata": {},
   "source": [
    "## Main"
   ]
  },
  {
   "cell_type": "markdown",
   "metadata": {},
   "source": [
    "- For 2 strings to be anagrams, their lengths must be the same. If their lengths are not the same, return False\n",
    "\n",
    "- If their lengths are the same, we want to check that all the letters match. Probably add all letters in `s` into a hashmap that holds their count as values, then subtract counts / pop letters from the hashset iterating through `t`\n",
    "\n",
    "- This will run in $O(2n) = O(n)$ complexity, with an additional $O(n)$ space complexity from the hashset"
   ]
  },
  {
   "cell_type": "code",
   "execution_count": null,
   "metadata": {},
   "outputs": [],
   "source": [
    "class Solution:\n",
    "    def isAnagram(self, s: str, t: str) -> bool:\n",
    "        if len(s) != len(t):\n",
    "            return False\n",
    "        \n",
    "        allchars = {}\n",
    "        for char in s:\n",
    "            if char in allchars:\n",
    "                allchars[char] += 1\n",
    "            else:\n",
    "                allchars[char] = 1\n",
    "\n",
    "        for char in t:\n",
    "            if char not in allchars:\n",
    "                return False\n",
    "            \n",
    "            if allchars[char] - 1 < 0:\n",
    "                return False\n",
    "            \n",
    "            allchars[char] -= 1\n",
    "        \n",
    "        return bool(allchars)"
   ]
  },
  {
   "cell_type": "code",
   "execution_count": null,
   "metadata": {},
   "outputs": [
    {
     "data": {
      "text/plain": [
       "False"
      ]
     },
     "metadata": {},
     "output_type": "display_data"
    }
   ],
   "source": [
    "soln = Solution()\n",
    "soln.isAnagram('string', 'srntig')\n",
    "soln.isAnagram('string', 'sirq3[98ur≠]')"
   ]
  },
  {
   "cell_type": "markdown",
   "metadata": {},
   "source": [
    "## Followup"
   ]
  },
  {
   "cell_type": "markdown",
   "metadata": {},
   "source": [
    "- To do in O(1) memory, do the thing in O(n log n) time"
   ]
  },
  {
   "cell_type": "code",
   "execution_count": null,
   "metadata": {},
   "outputs": [],
   "source": [
    "class Solution:\n",
    "    def isAnagram(self, s: str, t: str) -> bool:\n",
    "        '''\n",
    "        Do this in O(1) memory\n",
    "        But will be O(n log n) time complexity\n",
    "        '''\n",
    "        return sorted(s) == sorted(t)"
   ]
  }
 ],
 "metadata": {
  "kernelspec": {
   "display_name": "dsa_prep",
   "language": "python",
   "name": "python3"
  },
  "language_info": {
   "codemirror_mode": {
    "name": "ipython",
    "version": 3
   },
   "file_extension": ".py",
   "mimetype": "text/x-python",
   "name": "python",
   "nbconvert_exporter": "python",
   "pygments_lexer": "ipython3",
   "version": "3.10.13"
  }
 },
 "nbformat": 4,
 "nbformat_minor": 2
}
