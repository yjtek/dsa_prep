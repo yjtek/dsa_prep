{
 "cells": [
  {
   "cell_type": "markdown",
   "metadata": {},
   "source": [
    "## Main"
   ]
  },
  {
   "cell_type": "markdown",
   "metadata": {},
   "source": [
    "- Basically you just follow that sum of squared integers process, and if you see a number you've encountered before, it's over\n",
    "\n",
    "- There isn't really a time complexity here as far as I can tell, probably some number theory asymptotic limit? No space complexity also, it's potentially unbounded..?\n",
    "\n",
    "- You need some additional hashset to maintain the values you've seen before"
   ]
  },
  {
   "cell_type": "code",
   "execution_count": null,
   "metadata": {},
   "outputs": [
    {
     "data": {
      "text/plain": [
       "False"
      ]
     },
     "metadata": {},
     "output_type": "display_data"
    }
   ],
   "source": [
    "import math\n",
    "\n",
    "class Solution:\n",
    "    def isHappy(self, n: int) -> bool:\n",
    "        sums = set()\n",
    "        while n != 1:\n",
    "            # print(n_str)\n",
    "            result = 0\n",
    "            while n != 0:\n",
    "                # result += int(char)**2\n",
    "                result += int(math.fmod(n, 10)) ** 2\n",
    "                n //= 10\n",
    "            \n",
    "            if result == 1:\n",
    "                break\n",
    "\n",
    "            if result in sums:\n",
    "                return False\n",
    "\n",
    "            sums.add(result)\n",
    "            n = result\n",
    "        \n",
    "        return True\n",
    "\n",
    "soln = Solution()\n",
    "soln.isHappy(2)"
   ]
  }
 ],
 "metadata": {
  "kernelspec": {
   "display_name": "dsa_prep",
   "language": "python",
   "name": "python3"
  },
  "language_info": {
   "codemirror_mode": {
    "name": "ipython",
    "version": 3
   },
   "file_extension": ".py",
   "mimetype": "text/x-python",
   "name": "python",
   "nbconvert_exporter": "python",
   "pygments_lexer": "ipython3",
   "version": "3.10.13"
  }
 },
 "nbformat": 4,
 "nbformat_minor": 2
}
