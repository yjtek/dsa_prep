{
 "cells": [
  {
   "cell_type": "markdown",
   "metadata": {},
   "source": [
    "## Main"
   ]
  },
  {
   "cell_type": "markdown",
   "metadata": {},
   "source": [
    "- The brute force solution is $O(m \\cdot n)$ time and $O(m \\cdot n)$ space"
   ]
  },
  {
   "cell_type": "code",
   "execution_count": null,
   "metadata": {},
   "outputs": [
    {
     "name": "stdout",
     "output_type": "stream",
     "text": [
      "3 3 9 1\n",
      "==================================================\n",
      "row_index=0, col_index=0\n",
      "curr_index=0, new_index=1\n",
      "new_row_index=0, new_col_index=1\n",
      "grid[row_index][col_index]=1\n",
      "grid[new_row_index][new_col_index]=2\n",
      "[[-1, 1, -1], [-1, -1, -1], [-1, -1, -1]]\n",
      "==================================================\n",
      "row_index=0, col_index=1\n",
      "curr_index=1, new_index=2\n",
      "new_row_index=0, new_col_index=2\n",
      "grid[row_index][col_index]=2\n",
      "grid[new_row_index][new_col_index]=3\n",
      "[[-1, 1, 2], [-1, -1, -1], [-1, -1, -1]]\n",
      "==================================================\n",
      "row_index=0, col_index=2\n",
      "curr_index=2, new_index=3\n",
      "new_row_index=1, new_col_index=0\n",
      "grid[row_index][col_index]=3\n",
      "grid[new_row_index][new_col_index]=4\n",
      "[[-1, 1, 2], [3, -1, -1], [-1, -1, -1]]\n",
      "==================================================\n",
      "row_index=1, col_index=0\n",
      "curr_index=3, new_index=4\n",
      "new_row_index=1, new_col_index=1\n",
      "grid[row_index][col_index]=4\n",
      "grid[new_row_index][new_col_index]=5\n",
      "[[-1, 1, 2], [3, 4, -1], [-1, -1, -1]]\n",
      "==================================================\n",
      "row_index=1, col_index=1\n",
      "curr_index=4, new_index=5\n",
      "new_row_index=1, new_col_index=2\n",
      "grid[row_index][col_index]=5\n",
      "grid[new_row_index][new_col_index]=6\n",
      "[[-1, 1, 2], [3, 4, 5], [-1, -1, -1]]\n",
      "==================================================\n",
      "row_index=1, col_index=2\n",
      "curr_index=5, new_index=6\n",
      "new_row_index=2, new_col_index=0\n",
      "grid[row_index][col_index]=6\n",
      "grid[new_row_index][new_col_index]=7\n",
      "[[-1, 1, 2], [3, 4, 5], [6, -1, -1]]\n",
      "==================================================\n",
      "row_index=2, col_index=0\n",
      "curr_index=6, new_index=7\n",
      "new_row_index=2, new_col_index=1\n",
      "grid[row_index][col_index]=7\n",
      "grid[new_row_index][new_col_index]=8\n",
      "[[-1, 1, 2], [3, 4, 5], [6, 7, -1]]\n",
      "==================================================\n",
      "row_index=2, col_index=1\n",
      "curr_index=7, new_index=8\n",
      "new_row_index=2, new_col_index=2\n",
      "grid[row_index][col_index]=8\n",
      "grid[new_row_index][new_col_index]=9\n",
      "[[-1, 1, 2], [3, 4, 5], [6, 7, 8]]\n",
      "==================================================\n",
      "row_index=2, col_index=2\n",
      "curr_index=8, new_index=0\n",
      "new_row_index=0, new_col_index=0\n",
      "grid[row_index][col_index]=9\n",
      "grid[new_row_index][new_col_index]=1\n",
      "[[9, 1, 2], [3, 4, 5], [6, 7, 8]]\n"
     ]
    },
    {
     "data": {
      "text/plain": [
       "[[9, 1, 2], [3, 4, 5], [6, 7, 8]]"
      ]
     },
     "metadata": {},
     "output_type": "display_data"
    }
   ],
   "source": [
    "class Solution:\n",
    "    def shiftGrid(self, grid: list[list[int]], k: int) -> list[list[int]]:\n",
    "        m,n = len(grid), len(grid[0])\n",
    "        element_counts = m*n\n",
    "        shifts_to_make = k % element_counts\n",
    "        new_grid = [[-1] * n for _ in range(m)]\n",
    "        print(m, n, element_counts, shifts_to_make)\n",
    "\n",
    "        for row_index in range(m):\n",
    "            for col_index in range(n):\n",
    "                print('='*50)\n",
    "                print(f\"{row_index=}, {col_index=}\")\n",
    "                curr_index = (row_index * n) + col_index\n",
    "                new_index = (curr_index + shifts_to_make) % element_counts\n",
    "                \n",
    "                print(f\"{curr_index=}, {new_index=}\")\n",
    "\n",
    "                new_row_index = (new_index // n)\n",
    "                new_col_index = (new_index - (new_row_index * n)) \n",
    "                \n",
    "                print(f\"{new_row_index=}, {new_col_index=}\")\n",
    "                print(f\"{grid[row_index][col_index]=}\")\n",
    "                print(f\"{grid[new_row_index][new_col_index]=}\")\n",
    "                new_grid[new_row_index][new_col_index] = grid[row_index][col_index]\n",
    "                print(new_grid)\n",
    "        \n",
    "        return new_grid\n",
    "\n",
    "soln = Solution()\n",
    "soln.shiftGrid([[1,2,3],[4,5,6],[7,8,9]], 1)\n"
   ]
  }
 ],
 "metadata": {
  "kernelspec": {
   "display_name": "dsa_prep",
   "language": "python",
   "name": "python3"
  },
  "language_info": {
   "codemirror_mode": {
    "name": "ipython",
    "version": 3
   },
   "file_extension": ".py",
   "mimetype": "text/x-python",
   "name": "python",
   "nbconvert_exporter": "python",
   "pygments_lexer": "ipython3",
   "version": "3.10.13"
  }
 },
 "nbformat": 4,
 "nbformat_minor": 2
}
