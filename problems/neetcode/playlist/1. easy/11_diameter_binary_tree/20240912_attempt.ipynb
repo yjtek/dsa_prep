{
 "cells": [
  {
   "cell_type": "markdown",
   "metadata": {},
   "source": [
    "## [Fail] Main"
   ]
  },
  {
   "cell_type": "markdown",
   "metadata": {},
   "source": [
    "- What is this qn asking?\n",
    "    - The diameter of a binary tree is the number of hops you can take in its longest path \n",
    "    - The path can start anywhere and pass through any connection only once\n",
    "    - So in example 1, for binary tree [1,2,3,4,5], the longest path is 4-->2-->1-->3, which lets you do 3 hops\n",
    "\n",
    "- Because this is a binary tree, recursion comes to mind immediately\n",
    "    - Note that the question doesn't specify the tree is balanced\n",
    "\n",
    "- Since there is no balance guarantee for the tree, we can find diameter at a given node by taking the diameter of its left child plus diameter of its right child plus 2 (to connect from left subtree to right subtree)"
   ]
  },
  {
   "cell_type": "code",
   "execution_count": 7,
   "metadata": {},
   "outputs": [
    {
     "name": "stdout",
     "output_type": "stream",
     "text": [
      "==================================================\n",
      "root.val=1\n",
      "==================================================\n",
      "root.val=2\n",
      "==================================================\n",
      "==================================================\n",
      "root.val=2\n",
      "left_diameter=0, right_diameter=0\n",
      "1 + left_diameter + right_diameter=1\n",
      "==================================================\n",
      "root.val=1\n",
      "left_diameter=1, right_diameter=0\n",
      "1 + left_diameter + right_diameter=2\n"
     ]
    },
    {
     "data": {
      "text/plain": [
       "2"
      ]
     },
     "execution_count": 7,
     "metadata": {},
     "output_type": "execute_result"
    }
   ],
   "source": [
    "from typing import Optional\n",
    "\n",
    "# Definition for a binary tree node.\n",
    "class TreeNode:\n",
    "    def __init__(self, val=0, left=None, right=None):\n",
    "        self.val = val\n",
    "        self.left = left\n",
    "        self.right = right\n",
    "\n",
    "class Solution:\n",
    "    def diameterOfBinaryTree(self, root: Optional[TreeNode]) -> int:\n",
    "        if (not root) or ((not root.left) and (not root.right)):\n",
    "            return 0\n",
    "        \n",
    "        left_diameter = self.diameterOfBinaryTree(root.left)\n",
    "        right_diameter = self.diameterOfBinaryTree(root.right)\n",
    "        \n",
    "        if left_diameter > 0 and right_diameter > 0:\n",
    "            return max(left_diameter, right_diameter)\n",
    "        else:\n",
    "            return 1 + left_diameter + right_diameter\n",
    "\n",
    "\n",
    "one = TreeNode(1)\n",
    "two = TreeNode(2)\n",
    "three = TreeNode(3)\n",
    "four = TreeNode(4)\n",
    "five = TreeNode(5)\n",
    "\n",
    "one.left = two\n",
    "one.right = three\n",
    "two.left = four\n",
    "two.right = five\n",
    "\n",
    "soln = Solution()\n",
    "soln.diameterOfBinaryTree(one)"
   ]
  },
  {
   "cell_type": "markdown",
   "metadata": {},
   "source": [
    "## Review"
   ]
  },
  {
   "cell_type": "markdown",
   "metadata": {},
   "source": [
    "- You have the right idea to recursively compute diameter\n",
    "- However, what didn't click for you was the fact that you don't just want \"diameter\", but actually height\n",
    "- Because when you recurse, you are actually interested in knowing the max(left_height, right_height) + 2 \n",
    "    - +2 because you have a connection from root to best path in the left, and another from root to best path in the right\n",
    "- You also missed distinguishing between a leaf node, and a Null node\n",
    "    - Leaf nodes have a height of 0\n",
    "    - Null nodes have a height of -1\n",
    "        - This is because a leaf node can join to a parent to give height of 1 (in the 1 + ... statement)\n",
    "        - But a null node cannot, so using the same 1 + ... should give us 0 height\n",
    "        - Hence, for convenience, we assign a null node a height of -1"
   ]
  },
  {
   "cell_type": "markdown",
   "metadata": {},
   "source": []
  }
 ],
 "metadata": {
  "kernelspec": {
   "display_name": "dsa_prep",
   "language": "python",
   "name": "python3"
  },
  "language_info": {
   "codemirror_mode": {
    "name": "ipython",
    "version": 3
   },
   "file_extension": ".py",
   "mimetype": "text/x-python",
   "name": "python",
   "nbconvert_exporter": "python",
   "pygments_lexer": "ipython3",
   "version": "3.10.13"
  }
 },
 "nbformat": 4,
 "nbformat_minor": 2
}
