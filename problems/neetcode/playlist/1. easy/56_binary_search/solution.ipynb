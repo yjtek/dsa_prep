{
 "cells": [
  {
   "cell_type": "markdown",
   "metadata": {},
   "source": [
    "## Main"
   ]
  },
  {
   "cell_type": "markdown",
   "metadata": {},
   "source": [
    "- This is basic binary search, and the arrays are already given in ascending order. Nothing special"
   ]
  },
  {
   "cell_type": "code",
   "execution_count": null,
   "metadata": {},
   "outputs": [
    {
     "data": {
      "text/plain": [
       "-1"
      ]
     },
     "metadata": {},
     "output_type": "display_data"
    }
   ],
   "source": [
    "class Solution:\n",
    "    def search(self, nums: list[int], target: int) -> int:\n",
    "        l, r = 0, len(nums)-1\n",
    "\n",
    "        while l <= r:\n",
    "            m = (l+r)//2\n",
    "            if nums[m] == target:\n",
    "                return m\n",
    "            elif nums[m] > target:\n",
    "                r = m-1\n",
    "            elif nums[m] < target:\n",
    "                l = m+1\n",
    "        \n",
    "        return -1\n",
    "\n",
    "soln = Solution()\n",
    "soln.search([-1,0,3,5,9,12], 9)\n",
    "soln.search([-1,0,3,5,9,12], 2)"
   ]
  }
 ],
 "metadata": {
  "kernelspec": {
   "display_name": "dsa_prep",
   "language": "python",
   "name": "python3"
  },
  "language_info": {
   "codemirror_mode": {
    "name": "ipython",
    "version": 3
   },
   "file_extension": ".py",
   "mimetype": "text/x-python",
   "name": "python",
   "nbconvert_exporter": "python",
   "pygments_lexer": "ipython3",
   "version": "3.10.13"
  }
 },
 "nbformat": 4,
 "nbformat_minor": 2
}
