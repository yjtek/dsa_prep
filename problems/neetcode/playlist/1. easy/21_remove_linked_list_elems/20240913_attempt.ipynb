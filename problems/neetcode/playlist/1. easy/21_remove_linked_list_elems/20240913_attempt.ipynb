{
 "cells": [
  {
   "cell_type": "markdown",
   "metadata": {},
   "source": [
    "## Main"
   ]
  },
  {
   "cell_type": "markdown",
   "metadata": {},
   "source": [
    "- No real tricks I think, just iterate through the linkedlist and modify the `node.next` values\n",
    "\n",
    "- Maintain a pointer to the head of the linked list, so that you don't get bamboozled if you need to remove the root node"
   ]
  },
  {
   "cell_type": "code",
   "execution_count": 10,
   "metadata": {},
   "outputs": [],
   "source": [
    "from typing import Optional\n",
    "\n",
    "# Definition for singly-linked list.\n",
    "class ListNode:\n",
    "    def __init__(self, val=0, next=None):\n",
    "        self.val = val\n",
    "        self.next = next\n",
    "\n",
    "class Solution:\n",
    "    def removeElements(self, head: Optional[ListNode], val: int) -> Optional[ListNode]:\n",
    "        if not head:\n",
    "            return None\n",
    "        \n",
    "        while head and head.val == val:\n",
    "            head = head.next\n",
    "        \n",
    "        curr = head\n",
    "        while curr and curr.next:\n",
    "            while curr.next and curr.next.val == val:\n",
    "                curr.next = curr.next.next\n",
    "            curr = curr.next\n",
    "\n",
    "        return head\n"
   ]
  },
  {
   "cell_type": "code",
   "execution_count": 11,
   "metadata": {},
   "outputs": [
    {
     "name": "stdout",
     "output_type": "stream",
     "text": [
      "1\n",
      "2\n",
      "3\n",
      "4\n",
      "5\n"
     ]
    }
   ],
   "source": [
    "one=ListNode(1)\n",
    "two=ListNode(2)\n",
    "three=ListNode(6)\n",
    "four=ListNode(3)\n",
    "five=ListNode(4)\n",
    "six=ListNode(5)\n",
    "seven=ListNode(6)\n",
    "\n",
    "one.next=two\n",
    "two.next=three\n",
    "three.next=four\n",
    "four.next=five\n",
    "five.next=six\n",
    "six.next=seven\n",
    "\n",
    "soln=Solution()\n",
    "head = soln.removeElements(one, 6)\n",
    "while head:\n",
    "    print(head.val)\n",
    "    head = head.next\n"
   ]
  },
  {
   "cell_type": "markdown",
   "metadata": {},
   "source": [
    "## Review"
   ]
  },
  {
   "cell_type": "markdown",
   "metadata": {},
   "source": [
    "- Not much to say, you got it right.\n",
    "- Small kerfuffle with your `while curr.next and curr.next.val == val:`\n",
    "    - You initially used an `if` instead of `while`, which gives wrong answer when next.next is also equal to val"
   ]
  },
  {
   "cell_type": "markdown",
   "metadata": {},
   "source": []
  }
 ],
 "metadata": {
  "kernelspec": {
   "display_name": "dsa_prep",
   "language": "python",
   "name": "python3"
  },
  "language_info": {
   "codemirror_mode": {
    "name": "ipython",
    "version": 3
   },
   "file_extension": ".py",
   "mimetype": "text/x-python",
   "name": "python",
   "nbconvert_exporter": "python",
   "pygments_lexer": "ipython3",
   "version": "3.12.5"
  }
 },
 "nbformat": 4,
 "nbformat_minor": 2
}
