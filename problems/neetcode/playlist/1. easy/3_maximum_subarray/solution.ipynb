{
 "cells": [
  {
   "cell_type": "markdown",
   "metadata": {},
   "source": [
    "## Main"
   ]
  },
  {
   "cell_type": "markdown",
   "metadata": {},
   "source": [
    "- Brute force is $O(N^3)$\n",
    "    - Loop over the array once $O(N)$ to get start index\n",
    "    - Loop over the array once more to get end index $O(N)$\n",
    "    - For each start/end pair, sum the array by looping over all elements $O(N)$"
   ]
  },
  {
   "cell_type": "code",
   "execution_count": 15,
   "metadata": {},
   "outputs": [
    {
     "data": {
      "text/plain": [
       "6"
      ]
     },
     "execution_count": 15,
     "metadata": {},
     "output_type": "execute_result"
    }
   ],
   "source": [
    "input_arr=[-2,1,-3,4,-1,2,1,-5,4]\n",
    "def compute_max_subarray(arr):\n",
    "    '''\n",
    "    O(N^3) time, O(1) space\n",
    "    '''\n",
    "    maxval=0\n",
    "    sums=0\n",
    "    for i in range(0, len(input_arr)):\n",
    "        for j in range(i, len(input_arr)):\n",
    "            # print('='*50)\n",
    "            # print(i,j)\n",
    "            # print(input_arr[i], input_arr[j])\n",
    "            # print(input_arr[i:(j+1)])\n",
    "            for k in input_arr[i:(j+1)]:\n",
    "                sums+=k\n",
    "            # print(sums)\n",
    "            if sums >= maxval:\n",
    "                maxval=sums\n",
    "            sums=0\n",
    "    return maxval\n",
    "\n",
    "compute_max_subarray(input_arr)"
   ]
  },
  {
   "cell_type": "markdown",
   "metadata": {},
   "source": [
    "- Better brute force is $O(N^2)$\n",
    "    - Kind of \"DP\" solution\n",
    "    - When you sum the subarray from i to j, for i to j+1, you only need to add 1 additional value instead of summing over the whole subarray again\n",
    "    - To do this, maintain an array detailing the cumulative sum up to that point in the subarray ($O(N)$ memory)\n",
    "    - Then do the same nested loop to get start and end index $O(N^2)$"
   ]
  },
  {
   "cell_type": "code",
   "execution_count": 19,
   "metadata": {},
   "outputs": [
    {
     "data": {
      "text/plain": [
       "6"
      ]
     },
     "execution_count": 19,
     "metadata": {},
     "output_type": "execute_result"
    }
   ],
   "source": [
    "input_arr=[-2,1,-3,4,-1,2,1,-5,4]\n",
    "def compute_max_subarray(arr):\n",
    "    '''\n",
    "    O(N^2) time, O(1) space\n",
    "    '''\n",
    "    maxval=0\n",
    "    for i in range(0, len(input_arr)):\n",
    "        sums=0\n",
    "        for j in range(i, len(input_arr)):\n",
    "            # print('='*50)\n",
    "            # print(f'{i=},{j=}')\n",
    "            # print(f'{input_arr[i]=},{input_arr[j]=}')\n",
    "            sums+=input_arr[j]\n",
    "            if sums >= maxval:\n",
    "                maxval=sums\n",
    "    return maxval\n",
    "\n",
    "compute_max_subarray(input_arr)"
   ]
  },
  {
   "cell_type": "markdown",
   "metadata": {},
   "source": [
    "- Best solution: $O(N)$ (**Kadane's Algorithm**)\n",
    "    - Insight: If a prefix has a negative value, you always want to ignore it. \n",
    "        - For example [-1,-1,3,1]\n",
    "        - The subarray [-1,-1] is always going to be negative. So there is no value in maintaining it\n",
    "    - Insight 2: If a suffix is negative, you should still include it. Because a negative value can be followed by an even larger positive value\n",
    "        - For example [-1,-1,3,-1,4]\n",
    "        - The max subarray [3,-1,4] contains a negative number, but we tolerate it because it gets us to 4\n",
    "\n",
    "    - So the trick: \n",
    "        - Loop over the subarray once $O(N)$\n",
    "        - Maintain a pointer for \"array_start\"\n",
    "        - As long as the cumulative sum is negative, shift this pointer to after the cumulative sum (because you'll never have to add a subarray with a negative sum)\n",
    "        - At each iteration, compute the cumulative sum, and check if it is larger than the max subarray sum"
   ]
  },
  {
   "cell_type": "code",
   "execution_count": 29,
   "metadata": {},
   "outputs": [
    {
     "data": {
      "text/plain": [
       "6"
      ]
     },
     "execution_count": 29,
     "metadata": {},
     "output_type": "execute_result"
    }
   ],
   "source": [
    "input_arr=[-1,-1,-1]\n",
    "input_arr = [-2,1,-3,4,-1,2,1,-5,4]\n",
    "\n",
    "def compute_max_subarray(arr):\n",
    "    '''\n",
    "    O(N) time, O(1) space\n",
    "    '''\n",
    "    maxval=-float('inf')\n",
    "    cumsum = 0\n",
    "    for i in range(0, len(arr)):\n",
    "        ## Add value at current index to cumsum\n",
    "        cumsum = cumsum + arr[i]\n",
    "        \n",
    "        ## If cumsum is greater than maxval, set maxval to cumsum\n",
    "        if cumsum > maxval:\n",
    "            maxval = cumsum\n",
    "        \n",
    "        ## If cumsum is negative, set cumsum to 0 (i.e. ignore the values up to and including this point)\n",
    "        ## Else, cumsum just accumulates values\n",
    "        if cumsum < 0:\n",
    "            cumsum = 0\n",
    "\n",
    "    return maxval\n",
    "\n",
    "compute_max_subarray(input_arr)"
   ]
  },
  {
   "cell_type": "markdown",
   "metadata": {},
   "source": [
    "## Followup"
   ]
  },
  {
   "cell_type": "markdown",
   "metadata": {},
   "source": [
    "- The follow up asks us to approach this using divide and conquer\n",
    "    - Note: When you see \"divide and conquer\", you will usually need to involve recursion in some way\n",
    "\n",
    "- The idea here is: We recursively split the array into 2 halves, and find the maximum subarray in each half. The actual implementation will take some time to grok\n",
    "\n",
    "- Let's start by proving that the solution works for a subarray with length 2. For clarity, we'll test it on all possible cases;\n",
    "    - A: `[1,-1]`: Max value in left subarray\n",
    "    - B: `[-1,1]`: Max value in right subarray\n",
    "    - C: `[1,1]`: Max value is sum of both subarrays\n",
    "\n",
    "    - Let's start using Case A as an example\n",
    "        - Let's initialise a left pointer $l=0$, a right pointer $r=1$, and a midpoint at $m = (0+1) // 2 = 0$\n",
    "        - Going backwards from position $m$ to position $l$, we perform a cumulative sum and record the maximum value. In this case, it is 1\n",
    "        - Going forward from position $m$ to position $r$, we perform a cumulative sum and record the maximum value. In this case, it is -1\n",
    "        - Finally, we check the max cumulative sum across the entire array. In this case, it is 0\n",
    "        - Finally, we take a max of the left, right and entire array, and find that it is `max(1, -1, 0) = 1`, which is exactly the max\n",
    "    - The same logic will hold for cases B and C\n",
    "\n",
    "    - $\\therefore$ It is proven that this logic works for the case of array size 2\n",
    "\n",
    "- Let's try with array length 3\n",
    "    - A: `[1,-1,-2]`: Max value in left subarray of length 1\n",
    "    - B: `[1,2,-1]`: Max value in left subarray of length 2\n",
    "    - C: `[1,2,3]`: Max value in entire subarray\n",
    "    - D: `[-1,1,2]`: Max value in right subarray of length 2\n",
    "    - E: `[-1,-2,1]`: Max value in right subarray of length 1\n",
    "\n",
    "    - Let's start using Case A as an example\n",
    "        - Init left pointer $l=0$, right pointer $r=2$, mid pointer at $m = (0+2) // 2 = 1$\n",
    "        - Find the `maxSubArraySum` between l=0 and m-1=0. In this case, it is just $[1]$\n",
    "        - Find the `maxSubArraySum` between m+1=2 and r=2. In this case, it is just $[-2]$\n",
    "        - Finally, find the `maxCrossingSum` for the entire array where $l=0$, $m=1$, and $h=2$\n",
    "            - Decrement indices from m to 0, and take cumulative sum \n",
    "                - Keep a record of the largest cumulative sum `left_sum`\n",
    "                - In this case, we will get `-1`, then `-1+1 = 0`. So `left_sum = 0`\n",
    "            - Increment indices from m to r, and take cumulative sum \n",
    "                - Keep a record of the largest cumulative sum `right_sum`\n",
    "                - In this case, we will get `-1`, then `-1+-2 = -3`. So `right_sum = -1`\n",
    "            - Take the maximum of the array's total sum (which is just `left_sum + right_sum - arr[m]`), `left_sum`, and `right_sum`\n",
    "            - In this case, it is `max(-2, 1, -2) = 1`\n",
    "    - Amazingly, the logic for `maxCrossingSum` holds across cases A to E!\n",
    "        - Case B\n",
    "            - `left_sum = 3`\n",
    "            - `right_sum = 2`\n",
    "            - `array_sum = 2`\n",
    "            - $\\therefore$ `maxCrossingSum = max(3,2,2) = 3`\n",
    "            - $\\therefore$ `overall_max = max(maxCrossingSum, leftSubArray=1, rightSubArray=-1) = 3`\n",
    "        - etc.\n",
    "\n",
    "- Let's try with array length 4\n",
    "    - A: `[1,-1,-2,-3]`: Max value in left subarray of length 1\n",
    "    - B: `[-1,1,2,-2]`: Max value in middle subarray of length 2\n",
    "\n",
    "    - Let's start using Case A as an example\n",
    "        - Init left pointer $l=0$, right pointer $r=3$, mid pointer at $m = (0+3) // 2 = 1$\n",
    "        - Find the `maxSubArraySum` between l=0 and m-1=0. $[1]$\n",
    "        - Find the `maxSubArraySum` between m+1=2 and r=3. This is the case of subarray with length 2, and we have proven that it works. In this case, $[-2]$\n",
    "        - Finally, find the `maxCrossingSum` for the entire array where $l=0$, $m=1$, and $h=3$\n",
    "            - `left_sum = 0`\n",
    "            - `right_sum = -6`\n",
    "            - Take the maximum of the array's total sum (which is just `left_sum + right_sum - arr[m]`), `left_sum`, and `right_sum`\n",
    "            - In this case, it is `max(-5, 0, -6) = 0`\n",
    "        - So overall, the maximum of this array is `max(1, -2, 0) = 1`\n",
    "        - To recap: \n",
    "            - the left `maxSubArraySum` checks the 1st element \n",
    "            - the right `maxSubArraySum` checks the 3rd, 4th, and 3rd+4th element (because this is just the length 2 array case discussed above)\n",
    "            - the `maxCrossingSum` checks for `arr[0:2]` and `arr[1:4]`\n",
    "                - If max subarray is at index 1, or index 0+1 `arr[0:2]` will return it\n",
    "                - If max subarray is at index [1,2,3], [1,2] or [2,3], `arr[1:4]` will return it\n",
    "            - So overall, all possibilities are checked\n",
    "\n",
    "- For anything higher than this, basically it recursively reduces to these base cases listed"
   ]
  },
  {
   "cell_type": "markdown",
   "metadata": {},
   "source": [
    "- Time complexity:\n",
    "    - You recursively split the array into 2 halves, so you incur a $O(log N)$ time complexity from this step\n",
    "    - For each split, you need to sum over the subarray to perform the cross sum, incurring $O(N)$ time \n",
    "    - Hence, you end up with $O(N log n)$ time complexity\n",
    "\n",
    "- Space complexity:\n",
    "    - Recursion takes up stack space. So in this case, stack will have $O(\\log N)$ height\n",
    "    - No other data structure is needed"
   ]
  },
  {
   "cell_type": "code",
   "execution_count": 77,
   "metadata": {},
   "outputs": [
    {
     "name": "stdout",
     "output_type": "stream",
     "text": [
      " --------------------------------------------------\n",
      " Entering max_subarray_sum\n",
      " left=0 right=8\n",
      " mid=4\n",
      "      --------------------------------------------------\n",
      "      Entering max_subarray_sum\n",
      "      left=0 right=3\n",
      "      mid=1\n",
      "           --------------------------------------------------\n",
      "           Entering max_subarray_sum\n",
      "           left=0 right=0\n",
      "           --------------------------------------------------\n",
      "           Entering max_subarray_sum\n",
      "           left=2 right=3\n",
      "           mid=2\n",
      "                --------------------------------------------------\n",
      "                Entering max_subarray_sum\n",
      "                left=2 right=1\n",
      "                --------------------------------------------------\n",
      "                Entering max_subarray_sum\n",
      "                left=3 right=3\n",
      "                ==================================================\n",
      "                Entering max_subarray_cross_sum\n",
      "                left=2 mid=2 right=3\n",
      "                left_sum=-3 right_sum=1 left_sum+right_sum-array[mid]=1\n",
      "                Exiting max_subarray_cross_sum\n",
      "                ==================================================\n",
      "           leftsum=-inf rightsum=4 crosssum=1\n",
      "           Exiting max_subarray_sum\n",
      "           --------------------------------------------------\n",
      "           ==================================================\n",
      "           Entering max_subarray_cross_sum\n",
      "           left=0 mid=1 right=3\n",
      "           left_sum=1 right_sum=2 left_sum+right_sum-array[mid]=2\n",
      "           Exiting max_subarray_cross_sum\n",
      "           ==================================================\n",
      "      leftsum=-2 rightsum=4 crosssum=2\n",
      "      Exiting max_subarray_sum\n",
      "      --------------------------------------------------\n",
      "      --------------------------------------------------\n",
      "      Entering max_subarray_sum\n",
      "      left=5 right=8\n",
      "      mid=6\n",
      "           --------------------------------------------------\n",
      "           Entering max_subarray_sum\n",
      "           left=5 right=5\n",
      "           --------------------------------------------------\n",
      "           Entering max_subarray_sum\n",
      "           left=7 right=8\n",
      "           mid=7\n",
      "                --------------------------------------------------\n",
      "                Entering max_subarray_sum\n",
      "                left=7 right=6\n",
      "                --------------------------------------------------\n",
      "                Entering max_subarray_sum\n",
      "                left=8 right=8\n",
      "                ==================================================\n",
      "                Entering max_subarray_cross_sum\n",
      "                left=7 mid=7 right=8\n",
      "                left_sum=-5 right_sum=-1 left_sum+right_sum-array[mid]=-1\n",
      "                Exiting max_subarray_cross_sum\n",
      "                ==================================================\n",
      "           leftsum=-inf rightsum=4 crosssum=-1\n",
      "           Exiting max_subarray_sum\n",
      "           --------------------------------------------------\n",
      "           ==================================================\n",
      "           Entering max_subarray_cross_sum\n",
      "           left=5 mid=6 right=8\n",
      "           left_sum=3 right_sum=1 left_sum+right_sum-array[mid]=3\n",
      "           Exiting max_subarray_cross_sum\n",
      "           ==================================================\n",
      "      leftsum=2 rightsum=4 crosssum=3\n",
      "      Exiting max_subarray_sum\n",
      "      --------------------------------------------------\n",
      "      ==================================================\n",
      "      Entering max_subarray_cross_sum\n",
      "      left=0 mid=4 right=8\n",
      "      left_sum=3 right_sum=2 left_sum+right_sum-array[mid]=6\n",
      "      Exiting max_subarray_cross_sum\n",
      "      ==================================================\n",
      " leftsum=4 rightsum=4 crosssum=6\n",
      " Exiting max_subarray_sum\n",
      " --------------------------------------------------\n"
     ]
    },
    {
     "data": {
      "text/plain": [
       "6"
      ]
     },
     "execution_count": 77,
     "metadata": {},
     "output_type": "execute_result"
    }
   ],
   "source": [
    "def max_subarray_cross_sum(array, left, mid, right, nest=0, verbose=False):\n",
    "    if verbose:\n",
    "        print(f\"{' '*nest*5} {'='*50}\")\n",
    "        print(f\"{' '*nest*5} Entering max_subarray_cross_sum\")\n",
    "        print(f\"{' '*nest*5} {left=} {mid=} {right=}\")\n",
    "    left_sum = -float('inf')\n",
    "    right_sum = -float('inf')\n",
    "    \n",
    "    _tmp = 0\n",
    "    for left_index in range(mid, left-1, -1):\n",
    "        _tmp += array[left_index]\n",
    "        if _tmp > left_sum:\n",
    "            left_sum = _tmp\n",
    "    \n",
    "    _tmp = 0\n",
    "    for right_index in range(mid, right+1):\n",
    "        _tmp += array[right_index]\n",
    "        if _tmp > right_sum:\n",
    "            right_sum = _tmp\n",
    "    if verbose:\n",
    "        print(f\"{' '*nest*5} {left_sum=} {right_sum=} {left_sum+right_sum-array[mid]=}\")\n",
    "        print(f\"{' '*nest*5} Exiting max_subarray_cross_sum\")\n",
    "        print(f\"{' '*nest*5} {'='*50}\")\n",
    "    return max(left_sum, right_sum, left_sum+right_sum-array[mid])\n",
    "        \n",
    "\n",
    "def max_subarray_sum(array, left, right, nest=0, verbose=False):\n",
    "    if verbose:\n",
    "        print(f\"{' '*nest*5} {'-'*50}\")\n",
    "        print(f\"{' '*nest*5} Entering max_subarray_sum\")\n",
    "        print(f\"{' '*nest*5} {left=} {right=}\")\n",
    "    if left > right:\n",
    "        return -float('inf')\n",
    "    \n",
    "    if left == right:\n",
    "        return array[left]\n",
    "    \n",
    "    mid = (left+right) // 2\n",
    "    if verbose:\n",
    "        print(f\"{' '*nest*5} {mid=}\")\n",
    "\n",
    "    leftsum = max_subarray_sum(array, left, mid-1, nest+1, verbose=verbose)\n",
    "    rightsum = max_subarray_sum(array, mid+1, right, nest+1,verbose=verbose)\n",
    "    crosssum = max_subarray_cross_sum(array, left, mid, right, nest+1, verbose=verbose)\n",
    "\n",
    "    if verbose:\n",
    "        print(f\"{' '*nest*5} {leftsum=} {rightsum=} {crosssum=}\")\n",
    "        print(f\"{' '*nest*5} Exiting max_subarray_sum\")\n",
    "        print(f\"{' '*nest*5} {'-'*50}\")\n",
    "\n",
    "    return max(leftsum,rightsum,crosssum)\n",
    "\n",
    "input_arr=[-2,1,-3,4,-1,2,1,-5,4]\n",
    "max_subarray_sum(input_arr, 0, len(input_arr)-1, verbose=True)"
   ]
  },
  {
   "cell_type": "code",
   "execution_count": null,
   "metadata": {},
   "outputs": [],
   "source": []
  }
 ],
 "metadata": {
  "kernelspec": {
   "display_name": "dsa_prep",
   "language": "python",
   "name": "python3"
  },
  "language_info": {
   "codemirror_mode": {
    "name": "ipython",
    "version": 3
   },
   "file_extension": ".py",
   "mimetype": "text/x-python",
   "name": "python",
   "nbconvert_exporter": "python",
   "pygments_lexer": "ipython3",
   "version": "3.10.13"
  }
 },
 "nbformat": 4,
 "nbformat_minor": 2
}
