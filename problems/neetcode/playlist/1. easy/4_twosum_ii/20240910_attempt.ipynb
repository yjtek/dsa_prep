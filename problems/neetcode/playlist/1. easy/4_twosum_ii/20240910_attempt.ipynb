{
 "cells": [
  {
   "cell_type": "markdown",
   "metadata": {},
   "source": [
    "## [Fail] Main"
   ]
  },
  {
   "cell_type": "markdown",
   "metadata": {},
   "source": [
    "- Requirements: O(1) space\n",
    "- Condition: There is exactly 1 solution in the array"
   ]
  },
  {
   "cell_type": "markdown",
   "metadata": {},
   "source": [
    "- To do the original qn \"two sum I\", we used a hashset to store items already seen. Then, at each index, we lookup our hashset to check if the value we want has been stored. So this takes $O(N)$ time, with $O(N)$ space\n",
    "\n",
    "- But now, we have a requirement to do $O(1)$ space, when the array is sorted. How does this help us?\n",
    "\n",
    "- We'll take $[2,7,11,15]$ with $target=9$ as an example\n",
    "    - Let's init a pointer at index 0, and index len(array)\n",
    "    - This sums to some value $k$\n",
    "    - If $k$ is larger than the required `target`, move right pointer leftwards by 1\n",
    "    - If $k$ is smaller than the required `target`, move left pointer rightwards by 1\n",
    "    - Since answer exists, this is guaranteed to converge to an answer at some point!\n",
    "    - Plus, no additional data structure is used, so it takes $O(1)$ space, and only a single pass of the array, so $O(N)$ time"
   ]
  },
  {
   "cell_type": "code",
   "execution_count": 5,
   "metadata": {},
   "outputs": [
    {
     "data": {
      "text/plain": [
       "[1, 2]"
      ]
     },
     "execution_count": 5,
     "metadata": {},
     "output_type": "execute_result"
    }
   ],
   "source": [
    "numbers = [2,7,11,15]\n",
    "\n",
    "class Solution:\n",
    "    def twoSum(self, numbers: list[int], target: int) -> list[int]:\n",
    "        l, r = 0, len(numbers)-1\n",
    "        while l <= r:\n",
    "            if numbers[l] + numbers[r] > target:\n",
    "                r -= 1\n",
    "            elif numbers[l] + numbers[r] < target:\n",
    "                l += 1\n",
    "            else:\n",
    "                return [l+1,r+1]\n",
    "        raise ValueError('An answer is guaranteed, something has gone very wrong')\n",
    "            \n",
    "soln = Solution()\n",
    "soln.twoSum([-1,0],-1)\n"
   ]
  },
  {
   "cell_type": "markdown",
   "metadata": {},
   "source": [
    "## Review"
   ]
  },
  {
   "cell_type": "markdown",
   "metadata": {},
   "source": [
    "- You originally tried a n log n approach\n",
    "    - i.e. iterate through the list and do binary search\n",
    "    - Not only did you try a less efficient solution, you also failed to implement it\n",
    "- Two pointer is perfectly applicable here and is much more efficient\n"
   ]
  },
  {
   "cell_type": "markdown",
   "metadata": {},
   "source": []
  }
 ],
 "metadata": {
  "kernelspec": {
   "display_name": "dsa_prep",
   "language": "python",
   "name": "python3"
  },
  "language_info": {
   "codemirror_mode": {
    "name": "ipython",
    "version": 3
   },
   "file_extension": ".py",
   "mimetype": "text/x-python",
   "name": "python",
   "nbconvert_exporter": "python",
   "pygments_lexer": "ipython3",
   "version": "3.10.13"
  }
 },
 "nbformat": 4,
 "nbformat_minor": 2
}
