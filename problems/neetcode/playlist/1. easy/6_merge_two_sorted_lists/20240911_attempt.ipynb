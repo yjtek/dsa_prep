{
 "cells": [
  {
   "cell_type": "markdown",
   "metadata": {},
   "source": [
    "## Main"
   ]
  },
  {
   "cell_type": "markdown",
   "metadata": {},
   "source": [
    "- Since the linked lists are already sorted, you can basically iterate through both linked lists at the same time\n",
    "\n",
    "- Solution sketch:\n",
    "    - Create 2 pointers, each starting at the head of the 2 linked lists\n",
    "    - If the value at list1 is smaller, recursively call mergeList on list1.next, and the list2 pointer\n",
    "    - Iterate until list 1 or list 2 is empty, then append the remaining items from the other list to the end\n",
    "\n",
    "    - This will run in $O(max(m,n))$ time, and $O(m+n)$ memory due to stack memory used for recursion"
   ]
  },
  {
   "cell_type": "code",
   "execution_count": 1,
   "metadata": {},
   "outputs": [],
   "source": [
    "from typing import Optional\n",
    "\n",
    "# Definition for singly-linked list.\n",
    "class ListNode:\n",
    "    def __init__(self, val=0, next=None):\n",
    "        self.val = val\n",
    "        self.next = next\n",
    "\n",
    "class Solution:\n",
    "    def mergeTwoLists(self, list1: Optional[ListNode], list2: Optional[ListNode]) -> Optional[ListNode]:\n",
    "        if (not list1) and (not list2):\n",
    "            return ListNode()\n",
    "        if not list1:\n",
    "            return list2\n",
    "        if not list2:\n",
    "            return list1\n",
    "\n",
    "        if list1.val >= list2.val:\n",
    "            head = self.mergeTwoLists(list1.next, list2)\n",
    "        else:\n",
    "            head = self.mergeTwoLists(list1, list2.next)\n",
    "        \n",
    "        return head"
   ]
  },
  {
   "cell_type": "code",
   "execution_count": 2,
   "metadata": {},
   "outputs": [
    {
     "data": {
      "text/plain": [
       "<__main__.ListNode at 0x10645df90>"
      ]
     },
     "execution_count": 2,
     "metadata": {},
     "output_type": "execute_result"
    }
   ],
   "source": [
    "l1_1 = ListNode(1)\n",
    "l1_2 = ListNode(2)\n",
    "l1_3 = ListNode(4)\n",
    "\n",
    "l2_1 = ListNode(1)\n",
    "l2_2 = ListNode(3)\n",
    "l2_3 = ListNode(4)\n",
    "\n",
    "l1_1.next = l1_2\n",
    "l1_2.next = l1_3\n",
    "l2_1.next = l2_2\n",
    "l2_2.next = l2_3\n",
    "\n",
    "soln = Solution()\n",
    "soln.mergeTwoLists(l1_1, l2_1)"
   ]
  },
  {
   "cell_type": "markdown",
   "metadata": {},
   "source": [
    "## Review"
   ]
  }
 ],
 "metadata": {
  "kernelspec": {
   "display_name": "dsa_prep",
   "language": "python",
   "name": "python3"
  },
  "language_info": {
   "codemirror_mode": {
    "name": "ipython",
    "version": 3
   },
   "file_extension": ".py",
   "mimetype": "text/x-python",
   "name": "python",
   "nbconvert_exporter": "python",
   "pygments_lexer": "ipython3",
   "version": "3.10.13"
  }
 },
 "nbformat": 4,
 "nbformat_minor": 2
}
