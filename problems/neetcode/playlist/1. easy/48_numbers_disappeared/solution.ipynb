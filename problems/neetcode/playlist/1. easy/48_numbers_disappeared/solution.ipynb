{
 "cells": [
  {
   "cell_type": "markdown",
   "metadata": {},
   "source": [
    "## Main"
   ]
  },
  {
   "cell_type": "markdown",
   "metadata": {},
   "source": [
    "- If the number of missing values is 2 or less, we can use **XOR** trick\n",
    "    - Since we don't have this certainty, we need to use another approach\n",
    "\n",
    "- Approach 1\n",
    "    - Create a set `A` containing values $[1,n]$\n",
    "    - Iterate through the `nums` array in $O(N)$ time\n",
    "        - For every value encountered, if it is in `A`, remove from `A`\n",
    "    - return A"
   ]
  },
  {
   "cell_type": "code",
   "execution_count": 3,
   "metadata": {},
   "outputs": [
    {
     "data": {
      "text/plain": [
       "[5, 6]"
      ]
     },
     "execution_count": 3,
     "metadata": {},
     "output_type": "execute_result"
    }
   ],
   "source": [
    "class Solution:\n",
    "    def findDisappearedNumbers(self, nums: list[int]) -> list[int]:\n",
    "        A: set = set(range(1, len(nums)+1))\n",
    "\n",
    "        for x in nums:\n",
    "            if x in A:\n",
    "                A.remove(x)\n",
    "            \n",
    "        return list(A)\n",
    "    \n",
    "soln = Solution()\n",
    "soln.findDisappearedNumbers([4,3,2,7,8,2,3,1])\n",
    "soln.findDisappearedNumbers([1,1])"
   ]
  },
  {
   "cell_type": "markdown",
   "metadata": {},
   "source": [
    "## Followup"
   ]
  },
  {
   "cell_type": "markdown",
   "metadata": {},
   "source": [
    "- The brute force solution uses $O(N)$ space. Can we use $O(1)$ space?\n",
    "\n",
    "- Let's recap;\n",
    "    - We are given an array $A$ of size $N$\n",
    "    - This array contains only values between 1 and $N$, but may not necessarily contain all of them \n",
    "        - i.e. if N = 5, values could be any of [1,2,3,4,5], but actual array could be [1,1,2,2,3]\n",
    "\n",
    "- Since values in $A$ must be betweeen 1 and N, every value you encounter maps to a specific index in the \"correct\" array! Let's take $A = [1,1,2,2,3]$ as an example, when $N=5$\n",
    "    - Let's assume a $1$ in $A$ maps to index 0, $2$ to index 1, etc\n",
    "\n",
    "- We are told to assume that the returned list does not count as extra space. Let's init a list $B = [1,2,3,4,5]$ as the return list\n",
    "    - Looping over $A$, we set the corresponding index in $B$ to None\n",
    "    - Finally just return $B$\n",
    "\n",
    "- This is kind of cheating tbh; it's not really $O(1)$ space, but it is $O(N)$ time"
   ]
  },
  {
   "cell_type": "code",
   "execution_count": 5,
   "metadata": {},
   "outputs": [
    {
     "data": {
      "text/plain": [
       "[4, 5]"
      ]
     },
     "execution_count": 5,
     "metadata": {},
     "output_type": "execute_result"
    }
   ],
   "source": [
    "from typing import Optional\n",
    "\n",
    "class Solution:\n",
    "    def findDisappearedNumbers(self, nums: list[int]) -> list[int]:\n",
    "        return_list: list[Optional[int]] = list(range(1,len(nums)+1))\n",
    "        for num in nums:\n",
    "            return_list[num-1] = None\n",
    "\n",
    "        return [x for x in return_list if x]\n",
    "    \n",
    "soln = Solution()\n",
    "soln.findDisappearedNumbers(nums=[1,1,2,2,3])"
   ]
  }
 ],
 "metadata": {
  "kernelspec": {
   "display_name": "dsa_prep",
   "language": "python",
   "name": "python3"
  },
  "language_info": {
   "codemirror_mode": {
    "name": "ipython",
    "version": 3
   },
   "file_extension": ".py",
   "mimetype": "text/x-python",
   "name": "python",
   "nbconvert_exporter": "python",
   "pygments_lexer": "ipython3",
   "version": "3.12.5"
  }
 },
 "nbformat": 4,
 "nbformat_minor": 2
}
