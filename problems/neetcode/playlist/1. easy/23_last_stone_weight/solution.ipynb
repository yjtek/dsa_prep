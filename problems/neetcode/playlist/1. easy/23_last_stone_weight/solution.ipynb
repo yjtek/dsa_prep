{
 "cells": [
  {
   "cell_type": "markdown",
   "metadata": {},
   "source": [
    "## Main"
   ]
  },
  {
   "cell_type": "markdown",
   "metadata": {},
   "source": [
    "- While the length of the input array is more than 1, we play the game\n",
    "- We need a way to get the 2 largest values in the array at each step\n",
    "- This suggests a max heap structure, since poppping from a max heap is $O(1)$"
   ]
  },
  {
   "cell_type": "markdown",
   "metadata": {},
   "source": [
    "- For the purposes of answering this question, we'll first implement the solution using python's built in `heapq` \n",
    "\n",
    "- For a more in-depth look at implementing a min/max stack, please look at \"./data_structures/min_max_heap/min_max_heap.ipynb\""
   ]
  },
  {
   "cell_type": "code",
   "execution_count": null,
   "metadata": {},
   "outputs": [],
   "source": [
    "import heapq\n",
    "\n",
    "class Solution:\n",
    "    def lastStoneWeight(self, stones: list[int]) -> int:\n",
    "        stones = [-x for x in stones]\n",
    "        heapq.heapify(stones)\n",
    "        while len(stones) > 1:\n",
    "            smallest = heapq.heappop(stones)\n",
    "            next_smallest = heapq.heappop(stones)\n",
    "\n",
    "            new_val = smallest-next_smallest\n",
    "            heapq.heappush(stones, new_val)\n",
    "\n",
    "        return -stones[0]"
   ]
  },
  {
   "cell_type": "code",
   "execution_count": null,
   "metadata": {},
   "outputs": [
    {
     "data": {
      "text/plain": [
       "1"
      ]
     },
     "metadata": {},
     "output_type": "display_data"
    }
   ],
   "source": [
    "soln = Solution()\n",
    "soln.lastStoneWeight([2,7,4,1,8,1])\n",
    "soln.lastStoneWeight([1])"
   ]
  }
 ],
 "metadata": {
  "kernelspec": {
   "display_name": "dsa_prep",
   "language": "python",
   "name": "python3"
  },
  "language_info": {
   "codemirror_mode": {
    "name": "ipython",
    "version": 3
   },
   "file_extension": ".py",
   "mimetype": "text/x-python",
   "name": "python",
   "nbconvert_exporter": "python",
   "pygments_lexer": "ipython3",
   "version": "3.10.13"
  }
 },
 "nbformat": 4,
 "nbformat_minor": 2
}
