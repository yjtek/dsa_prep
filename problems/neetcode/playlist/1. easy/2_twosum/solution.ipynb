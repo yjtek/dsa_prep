{
 "cells": [
  {
   "cell_type": "markdown",
   "metadata": {},
   "source": [
    "## Main"
   ]
  },
  {
   "cell_type": "markdown",
   "metadata": {},
   "source": [
    "- Brute force will incur $O(N^2)$ (i.e. check every pair of value in the array)\n",
    "- But at every value, we know what target we want to hit, and how much we need to get there\n",
    "    - For example, if we see a 2, and the target is 10, we know we need to find an 8 in the array\n",
    "- So let's simply have a hashmap\n",
    "    - The key is every element encountered in the array\n",
    "    - The value is the index of the element encountered\n",
    "- For each array value, lookup the hashmap\n",
    "    - If `target - curr_element` not in hashmap, add current element to hashmap\n",
    "    - Else, return current index and the index of `target - curr_element`\n",
    "\n",
    "- This gives us $O(N)$ time complexity, at the cost of $O(N)$ memory"
   ]
  },
  {
   "cell_type": "code",
   "execution_count": null,
   "metadata": {},
   "outputs": [],
   "source": [
    "class Solution:\n",
    "    def twoSum(self, nums: list[int], target: int) -> list[int]:\n",
    "        lookup = {}\n",
    "        for curr_index, val in enumerate(nums):\n",
    "            if target - val in lookup:\n",
    "                return [curr_index, lookup[target-val]]\n",
    "            \n",
    "            lookup[val] = curr_index\n",
    "        raise ValueError('There should be an answer, something has gone very wrong')            "
   ]
  },
  {
   "cell_type": "code",
   "execution_count": null,
   "metadata": {},
   "outputs": [
    {
     "data": {
      "text/plain": [
       "[1, 0]"
      ]
     },
     "metadata": {},
     "output_type": "display_data"
    }
   ],
   "source": [
    "soln = Solution()\n",
    "soln.twoSum([2,7,11,15], 9)\n",
    "soln.twoSum([3,2,4], 6)\n",
    "soln.twoSum([3,3], 6)"
   ]
  },
  {
   "cell_type": "markdown",
   "metadata": {},
   "source": [
    "## Followup"
   ]
  },
  {
   "cell_type": "markdown",
   "metadata": {},
   "source": [
    "- To solve this in $O(1)$ memory, we can just use the $O(N^2)$ solution?\n",
    "\n",
    "- But we can still do better than that\n",
    "    - Sort the array, incurring $O(N log N)$ time complexity\n",
    "    - Looping across every index $O(N)$, perform binary search on the array excluding itself to find the desired value, if any $O(log N)$\n",
    "    - This gives us $O(N log N)$ overall time complexity"
   ]
  },
  {
   "cell_type": "code",
   "execution_count": null,
   "metadata": {},
   "outputs": [],
   "source": [
    "class Solution:\n",
    "    '''\n",
    "    runs in O(n log n), but in O(1) space!\n",
    "    '''\n",
    "    def twoSum(self, nums: list[int], target: int) -> list[int]:\n",
    "        nums = sorted(nums)\n",
    "        l, r = 0, len(nums)-1\n",
    "        while l <= r:\n",
    "            if nums[l] + nums[r] == target:\n",
    "                return [l,r]\n",
    "            elif nums[l] + nums[r] > target:\n",
    "                r -= 1\n",
    "            elif nums[l] + nums[r] < target:\n",
    "                l += 1\n",
    "        raise ValueError('There should be an answer, something has gone very wrong')"
   ]
  }
 ],
 "metadata": {
  "kernelspec": {
   "display_name": "dsa_prep",
   "language": "python",
   "name": "python3"
  },
  "language_info": {
   "codemirror_mode": {
    "name": "ipython",
    "version": 3
   },
   "file_extension": ".py",
   "mimetype": "text/x-python",
   "name": "python",
   "nbconvert_exporter": "python",
   "pygments_lexer": "ipython3",
   "version": "3.10.13"
  }
 },
 "nbformat": 4,
 "nbformat_minor": 2
}
