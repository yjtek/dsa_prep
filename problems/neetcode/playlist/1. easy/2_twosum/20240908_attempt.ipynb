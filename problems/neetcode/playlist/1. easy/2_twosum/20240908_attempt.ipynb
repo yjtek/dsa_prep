{
 "cells": [
  {
   "cell_type": "markdown",
   "metadata": {},
   "source": [
    "## [Pass] Main"
   ]
  },
  {
   "cell_type": "markdown",
   "metadata": {},
   "source": [
    "- Brute force will incur $O(N^2)$ (i.e. check every pair of value in the array)\n",
    "- But at every value, we know what target we want to hit, and how much we need to get there\n",
    "    - For example, if we see a 2, and the target is 10, we know we need to find an 8 in the array\n",
    "- So let's simply have a hashmap\n",
    "    - The key is every element encountered in the array\n",
    "    - The value is the index of the element encountered\n",
    "- For each array value, lookup the hashmap\n",
    "    - If `target - curr_element` not in hashmap, add current element to hashmap\n",
    "    - Else, return current index and the index of `target - curr_element`\n",
    "\n",
    "- This gives us $O(N)$ time complexity, at the cost of $O(N)$ memory"
   ]
  },
  {
   "cell_type": "code",
   "execution_count": 1,
   "metadata": {},
   "outputs": [],
   "source": [
    "class Solution:\n",
    "    def twoSum(self, nums: list[int], target: int) -> list[int]:\n",
    "        lookup = {}\n",
    "        for curr_index, val in enumerate(nums):\n",
    "            if target - val in lookup:\n",
    "                return [curr_index, lookup[target-val]]\n",
    "            \n",
    "            lookup[val] = curr_index\n",
    "        raise ValueError('There should be an answer, something has gone very wrong')            "
   ]
  },
  {
   "cell_type": "code",
   "execution_count": 4,
   "metadata": {},
   "outputs": [
    {
     "data": {
      "text/plain": [
       "[1, 0]"
      ]
     },
     "execution_count": 4,
     "metadata": {},
     "output_type": "execute_result"
    }
   ],
   "source": [
    "soln = Solution()\n",
    "soln.twoSum([2,7,11,15], 9)\n",
    "soln.twoSum([3,2,4], 6)\n",
    "soln.twoSum([3,3], 6)"
   ]
  },
  {
   "cell_type": "markdown",
   "metadata": {},
   "source": [
    "## [Fail] Followup"
   ]
  },
  {
   "cell_type": "markdown",
   "metadata": {},
   "source": [
    "- To solve this in $O(1)$ memory, we can just use the $O(N^2)$ solution?\n",
    "\n",
    "- But we can still do better than that\n",
    "    - Sort the array, incurring $O(N log N)$ time complexity\n",
    "    - Looping across every index $O(N)$, perform binary search on the array excluding itself to find the desired value, if any $O(log N)$\n",
    "    - This gives us $O(N log N)$ overall time complexity"
   ]
  },
  {
   "cell_type": "code",
   "execution_count": 50,
   "metadata": {},
   "outputs": [],
   "source": [
    "class Solution:\n",
    "    def twoSum(self, nums: list[int], target: int) -> list[int]:\n",
    "        nums = sorted(nums)\n",
    "        for i, num in enumerate(nums):\n",
    "            print('='*50)\n",
    "            print(f'{target=}')\n",
    "            print(f\"{nums=}\")\n",
    "            popped = nums.pop(i)\n",
    "            print(f\"{nums=}\")\n",
    "            print(f\"{popped=}\")\n",
    "            \n",
    "            l, r = 0, len(nums)\n",
    "            \n",
    "            i=0\n",
    "            while (l <= r) and (i <= 5):\n",
    "                m = (l+r)//2\n",
    "                print(f'{l=}, {m=}, {r=}')\n",
    "                print(f\"{nums[m]=}\")\n",
    "                if (popped + nums[m]) == target:\n",
    "                    return [i,m] if m < i else [i,m+1]\n",
    "                elif (popped + nums[m]) > target:\n",
    "                    r = m-1\n",
    "                    print(f'{l=}, {m=}, {r=}')\n",
    "                elif (popped + nums[m]) < target:\n",
    "                    l = m+1\n",
    "                    print(f'{l=}, {m=}, {r=}')\n",
    "                i += 1\n",
    "\n",
    "            nums = nums[:i] + [popped] + nums[i+1:]  \n",
    "        raise ValueError('There should be an answer, something has gone very wrong')            "
   ]
  },
  {
   "cell_type": "code",
   "execution_count": 51,
   "metadata": {},
   "outputs": [
    {
     "name": "stdout",
     "output_type": "stream",
     "text": [
      "==================================================\n",
      "target=10\n",
      "nums=[2, 7, 11, 15]\n",
      "nums=[7, 11, 15]\n",
      "popped=2\n",
      "l=0, m=1, r=3\n",
      "nums[m]=11\n",
      "l=0, m=1, r=0\n",
      "l=0, m=0, r=0\n",
      "nums[m]=7\n",
      "l=1, m=0, r=0\n",
      "==================================================\n",
      "target=10\n",
      "nums=[7, 11, 2]\n",
      "nums=[7, 2]\n",
      "popped=11\n",
      "l=0, m=1, r=2\n",
      "nums[m]=2\n",
      "l=0, m=1, r=0\n",
      "l=0, m=0, r=0\n",
      "nums[m]=7\n",
      "l=0, m=0, r=-1\n",
      "==================================================\n",
      "target=10\n",
      "nums=[7, 2, 11]\n",
      "nums=[7, 2]\n",
      "popped=11\n",
      "l=0, m=1, r=2\n",
      "nums[m]=2\n",
      "l=0, m=1, r=0\n",
      "l=0, m=0, r=0\n",
      "nums[m]=7\n",
      "l=0, m=0, r=-1\n"
     ]
    },
    {
     "ename": "ValueError",
     "evalue": "There should be an answer, something has gone very wrong",
     "output_type": "error",
     "traceback": [
      "\u001b[0;31m---------------------------------------------------------------------------\u001b[0m",
      "\u001b[0;31mValueError\u001b[0m                                Traceback (most recent call last)",
      "Cell \u001b[0;32mIn[51], line 2\u001b[0m\n\u001b[1;32m      1\u001b[0m soln \u001b[38;5;241m=\u001b[39m Solution()\n\u001b[0;32m----> 2\u001b[0m \u001b[43msoln\u001b[49m\u001b[38;5;241;43m.\u001b[39;49m\u001b[43mtwoSum\u001b[49m\u001b[43m(\u001b[49m\u001b[43m[\u001b[49m\u001b[38;5;241;43m2\u001b[39;49m\u001b[43m,\u001b[49m\u001b[38;5;241;43m7\u001b[39;49m\u001b[43m,\u001b[49m\u001b[38;5;241;43m11\u001b[39;49m\u001b[43m,\u001b[49m\u001b[38;5;241;43m15\u001b[39;49m\u001b[43m]\u001b[49m\u001b[43m,\u001b[49m\u001b[38;5;241;43m10\u001b[39;49m\u001b[43m)\u001b[49m\n",
      "Cell \u001b[0;32mIn[50], line 30\u001b[0m, in \u001b[0;36mSolution.twoSum\u001b[0;34m(self, nums, target)\u001b[0m\n\u001b[1;32m     27\u001b[0m         i \u001b[38;5;241m+\u001b[39m\u001b[38;5;241m=\u001b[39m \u001b[38;5;241m1\u001b[39m\n\u001b[1;32m     29\u001b[0m     nums \u001b[38;5;241m=\u001b[39m nums[:i] \u001b[38;5;241m+\u001b[39m [popped] \u001b[38;5;241m+\u001b[39m nums[i\u001b[38;5;241m+\u001b[39m\u001b[38;5;241m1\u001b[39m:]  \n\u001b[0;32m---> 30\u001b[0m \u001b[38;5;28;01mraise\u001b[39;00m \u001b[38;5;167;01mValueError\u001b[39;00m(\u001b[38;5;124m'\u001b[39m\u001b[38;5;124mThere should be an answer, something has gone very wrong\u001b[39m\u001b[38;5;124m'\u001b[39m)\n",
      "\u001b[0;31mValueError\u001b[0m: There should be an answer, something has gone very wrong"
     ]
    }
   ],
   "source": [
    "soln = Solution()\n",
    "soln.twoSum([2,7,11,15],10)"
   ]
  },
  {
   "cell_type": "markdown",
   "metadata": {},
   "source": [
    "## Review"
   ]
  },
  {
   "cell_type": "markdown",
   "metadata": {},
   "source": [
    "- You got stuck with the O(1) memory solution because you tried to implement binary search unsuccessfully.\n",
    "- The main issue is that you tried to pop values from the input list and add it back, afterwards, but you did not know how to add it back in the correct index without incurring additional memory\n",
    "- There is a better way to do it without binary search. You simply use two pointers on the sorted array and increment/decrement it according to the distance from the target!"
   ]
  },
  {
   "cell_type": "code",
   "execution_count": 53,
   "metadata": {},
   "outputs": [],
   "source": [
    "class Solution:\n",
    "    '''\n",
    "    runs in O(n log n), but in O(1) space!\n",
    "    '''\n",
    "    def twoSum(self, nums: list[int], target: int) -> list[int]:\n",
    "        nums = sorted(nums)\n",
    "        l, r = 0, len(nums)-1\n",
    "        while l <= r:\n",
    "            if nums[l] + nums[r] == target:\n",
    "                return [l,r]\n",
    "            elif nums[l] + nums[r] > target:\n",
    "                r -= 1\n",
    "            elif nums[l] + nums[r] < target:\n",
    "                l += 1\n",
    "        raise ValueError('There should be an answer, something has gone very wrong')"
   ]
  },
  {
   "cell_type": "code",
   "execution_count": 61,
   "metadata": {},
   "outputs": [
    {
     "data": {
      "text/plain": [
       "[2, 3]"
      ]
     },
     "execution_count": 61,
     "metadata": {},
     "output_type": "execute_result"
    }
   ],
   "source": [
    "soln = Solution()\n",
    "soln.twoSum([2,3,5,8],13)"
   ]
  }
 ],
 "metadata": {
  "kernelspec": {
   "display_name": "dsa_prep",
   "language": "python",
   "name": "python3"
  },
  "language_info": {
   "codemirror_mode": {
    "name": "ipython",
    "version": 3
   },
   "file_extension": ".py",
   "mimetype": "text/x-python",
   "name": "python",
   "nbconvert_exporter": "python",
   "pygments_lexer": "ipython3",
   "version": "3.10.13"
  }
 },
 "nbformat": 4,
 "nbformat_minor": 2
}
