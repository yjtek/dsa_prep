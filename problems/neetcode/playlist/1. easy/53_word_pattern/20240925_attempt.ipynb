{
 "cells": [
  {
   "cell_type": "markdown",
   "metadata": {},
   "source": [
    "## Main"
   ]
  },
  {
   "cell_type": "markdown",
   "metadata": {},
   "source": [
    "- Maintain 2 hash maps, 1 maps char to word and 1 maps word to char\n",
    "\n",
    "- When we encounter a char-word pair, check char_map and word_map to see if it exists\n",
    "    - If doesn't exist, add\n",
    "    - If exists, check if char maps to same word and word maps to same char\n",
    "    - if fail, then False\n",
    "    - At the end return True\n",
    "\n",
    "- This takes $O(2N)$ space for the dictionary, and runs in $O(N)$ time"
   ]
  },
  {
   "cell_type": "code",
   "execution_count": 6,
   "metadata": {},
   "outputs": [
    {
     "data": {
      "text/plain": [
       "False"
      ]
     },
     "execution_count": 6,
     "metadata": {},
     "output_type": "execute_result"
    }
   ],
   "source": [
    "class Solution:\n",
    "    def wordPattern(self, pattern: str, s: str) -> bool:\n",
    "        words = s.split()\n",
    "        char_to_word = {}\n",
    "        word_to_char = {}\n",
    "\n",
    "        if len(pattern) != len(words):\n",
    "            return False\n",
    "\n",
    "        for char, word in zip(pattern, words):\n",
    "            if char not in char_to_word:\n",
    "                char_to_word[char] = word                \n",
    "            if word not in word_to_char:\n",
    "                word_to_char[word] = char\n",
    "\n",
    "            if (char_to_word[char] != word) or (word_to_char[word] != char):\n",
    "                return False\n",
    "            \n",
    "        return True\n",
    "\n",
    "soln = Solution()\n",
    "soln.wordPattern('aaa', 'aa aa aa aa')\n"
   ]
  },
  {
   "cell_type": "markdown",
   "metadata": {},
   "source": [
    "## Review"
   ]
  },
  {
   "cell_type": "markdown",
   "metadata": {},
   "source": [
    "- Your solution is fine\n",
    "- You missed out the behaviour that `zip` will not account for different length inputs; it will just iterate up to the shorter of the 2 iterables"
   ]
  }
 ],
 "metadata": {
  "kernelspec": {
   "display_name": "dsa_prep",
   "language": "python",
   "name": "python3"
  },
  "language_info": {
   "codemirror_mode": {
    "name": "ipython",
    "version": 3
   },
   "file_extension": ".py",
   "mimetype": "text/x-python",
   "name": "python",
   "nbconvert_exporter": "python",
   "pygments_lexer": "ipython3",
   "version": "3.12.5"
  }
 },
 "nbformat": 4,
 "nbformat_minor": 2
}
