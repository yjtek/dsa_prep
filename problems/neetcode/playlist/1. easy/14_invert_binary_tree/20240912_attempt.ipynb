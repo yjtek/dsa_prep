{
 "cells": [
  {
   "cell_type": "markdown",
   "metadata": {},
   "source": [
    "## [Pass] Main"
   ]
  },
  {
   "cell_type": "markdown",
   "metadata": {},
   "source": [
    "- To invert a binary tree, you basically flip all children from left to right\n",
    "\n",
    "- This is straightforwardly a recursive problem. Flip every child node from left to right, and the whole tree will be inverted\n",
    "\n",
    "- The recursion will run in $O(N)$ time and $O(\\log N)$ memory, because the depth of our stack is at most the height of the tree.\n",
    "    - That is, if we want to do `invertTree` for a root, we are going to invertTree for left, THEN invertTree for right. And the left node will hold at most log N items of the entire tree assuming it is balanced\n",
    "    - This worsens to $O(N)$ for unbalanced trees"
   ]
  },
  {
   "cell_type": "code",
   "execution_count": 23,
   "metadata": {},
   "outputs": [],
   "source": [
    "from typing import Optional\n",
    "\n",
    "# Definition for a binary tree node.\n",
    "class TreeNode:\n",
    "    def __init__(self, val=0, left=None, right=None):\n",
    "        self.val = val\n",
    "        self.left = left\n",
    "        self.right = right\n",
    "\n",
    "class Solution:\n",
    "    def invertTree(self, root: Optional[TreeNode]) -> Optional[TreeNode]:\n",
    "        '''\n",
    "        Recursive Solution\n",
    "        '''\n",
    "        if not root:\n",
    "            return None\n",
    "                \n",
    "        inverted_left = self.invertTree(root.left)\n",
    "        inverted_right = self.invertTree(root.right)\n",
    "\n",
    "        root.left = inverted_right\n",
    "        root.right = inverted_left\n",
    "\n",
    "        return root"
   ]
  },
  {
   "cell_type": "code",
   "execution_count": 24,
   "metadata": {},
   "outputs": [
    {
     "name": "stdout",
     "output_type": "stream",
     "text": [
      "4 2 7 1 3 6 9\n",
      "4 7 2 9 6 3 1\n"
     ]
    }
   ],
   "source": [
    "one=TreeNode(4)\n",
    "two=TreeNode(2)\n",
    "three=TreeNode(7)\n",
    "four=TreeNode(1)\n",
    "five=TreeNode(3)\n",
    "six=TreeNode(6)\n",
    "seven=TreeNode(9)\n",
    "\n",
    "one.left=two\n",
    "one.right=three\n",
    "two.left=four\n",
    "two.right=five\n",
    "three.left=six\n",
    "three.right=seven\n",
    "\n",
    "print(\n",
    "    one.val\n",
    "    , one.left.val\n",
    "    , one.right.val\n",
    "    , one.left.left.val\n",
    "    , one.left.right.val\n",
    "    , one.right.left.val\n",
    "    , one.right.right.val\n",
    ")\n",
    "\n",
    "soln = Solution()\n",
    "soln.invertTree(one)\n",
    "\n",
    "print(\n",
    "    one.val\n",
    "    , one.left.val\n",
    "    , one.right.val\n",
    "    , one.left.left.val\n",
    "    , one.left.right.val\n",
    "    , one.right.left.val\n",
    "    , one.right.right.val\n",
    ")"
   ]
  },
  {
   "cell_type": "code",
   "execution_count": 27,
   "metadata": {},
   "outputs": [],
   "source": [
    "# soln.invertTree(None)"
   ]
  },
  {
   "cell_type": "markdown",
   "metadata": {},
   "source": [
    "## [Fail] Follow-ups"
   ]
  },
  {
   "cell_type": "markdown",
   "metadata": {},
   "source": [
    "- We've seen the recursive solution, which is depth-first search\n",
    "\n",
    "- For practise, let's implement the iterative solution, which is breadth first search\n",
    "\n",
    "- An iterative solution is possible, but it won't really be \"in-place\" inversion. We'll still need a data structure to hold on to the items\n",
    "\n",
    "- The idea here is:\n",
    "    - Use a queue to hold the order in which you're inverting the nodes\n",
    "\n",
    "- This again has $O(N)$ time complexity, and $O(\\log N)$ space complexity if tree is balanced, or $O(N)$ if it is not"
   ]
  },
  {
   "cell_type": "code",
   "execution_count": 28,
   "metadata": {},
   "outputs": [],
   "source": [
    "from typing import Optional\n",
    "from collections import deque\n",
    "\n",
    "# Definition for a binary tree node.\n",
    "class TreeNode:\n",
    "    def __init__(self, val=0, left=None, right=None):\n",
    "        self.val = val\n",
    "        self.left = left\n",
    "        self.right = right\n",
    "\n",
    "class Solution:\n",
    "    def invertTree(self, root: Optional[TreeNode]) -> Optional[TreeNode]:\n",
    "        '''\n",
    "        Iterative Solution\n",
    "        '''\n",
    "        if not root:\n",
    "            return None\n",
    "        \n",
    "        queue = deque([root])\n",
    "        while queue:\n",
    "            print('='*50)\n",
    "            print([x.val for x in queue])\n",
    "            curr_node = queue.popleft()\n",
    "            print([x.val for x in queue])\n",
    "            \n",
    "            curr_node.left, curr_node.right = curr_node.right, curr_node.left\n",
    "            queue.append(curr_node.left) if curr_node.left else ...\n",
    "            queue.append(curr_node.right) if curr_node.right else ...\n",
    "        \n",
    "        return root"
   ]
  },
  {
   "cell_type": "code",
   "execution_count": 29,
   "metadata": {},
   "outputs": [
    {
     "name": "stdout",
     "output_type": "stream",
     "text": [
      "4 2 7 1 3 6 9\n",
      "4 7 2 9 6 3 1\n"
     ]
    }
   ],
   "source": [
    "one=TreeNode(4)\n",
    "two=TreeNode(2)\n",
    "three=TreeNode(7)\n",
    "four=TreeNode(1)\n",
    "five=TreeNode(3)\n",
    "six=TreeNode(6)\n",
    "seven=TreeNode(9)\n",
    "\n",
    "one.left=two\n",
    "one.right=three\n",
    "two.left=four\n",
    "two.right=five\n",
    "three.left=six\n",
    "three.right=seven\n",
    "\n",
    "print(\n",
    "    one.val\n",
    "    , one.left.val\n",
    "    , one.right.val\n",
    "    , one.left.left.val\n",
    "    , one.left.right.val\n",
    "    , one.right.left.val\n",
    "    , one.right.right.val\n",
    ")\n",
    "\n",
    "soln = Solution()\n",
    "soln.invertTree(one)\n",
    "\n",
    "print(\n",
    "    one.val\n",
    "    , one.left.val\n",
    "    , one.right.val\n",
    "    , one.left.left.val\n",
    "    , one.left.right.val\n",
    "    , one.right.left.val\n",
    "    , one.right.right.val\n",
    ")"
   ]
  },
  {
   "cell_type": "markdown",
   "metadata": {},
   "source": [
    "## Review"
   ]
  },
  {
   "cell_type": "markdown",
   "metadata": {},
   "source": [
    "- You managed the DFS solution, but not the BFS\n",
    "- Remember, BFS is just defining a queue instead of using stack memory to manage order of operations"
   ]
  }
 ],
 "metadata": {
  "kernelspec": {
   "display_name": "dsa_prep",
   "language": "python",
   "name": "python3"
  },
  "language_info": {
   "codemirror_mode": {
    "name": "ipython",
    "version": 3
   },
   "file_extension": ".py",
   "mimetype": "text/x-python",
   "name": "python",
   "nbconvert_exporter": "python",
   "pygments_lexer": "ipython3",
   "version": "3.10.13"
  }
 },
 "nbformat": 4,
 "nbformat_minor": 2
}
