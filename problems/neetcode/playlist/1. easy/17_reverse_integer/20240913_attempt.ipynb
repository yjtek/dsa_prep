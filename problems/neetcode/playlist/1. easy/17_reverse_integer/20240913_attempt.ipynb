{
 "cells": [
  {
   "cell_type": "markdown",
   "metadata": {},
   "source": [
    "## [Fail] Main"
   ]
  },
  {
   "cell_type": "markdown",
   "metadata": {},
   "source": [
    "- First, keep in mind that a signed 32-bit integer from $-2^{31}$ to $2^{31}-1$, not $2^{32}$. This is because 1 bit is needed to store the sign\n",
    "\n",
    "- To reverse an integer, take modulo of the input number and store it in a stack and floor divide by 10 until the value reaches 0\n",
    "\n",
    "- Then pop from the stack and sum the number, checking for overflow at each step\n",
    "\n",
    "- It will take $O(N)$ run time to loop over every digit twice, and we require $O(N)$ memory for the stack"
   ]
  },
  {
   "cell_type": "code",
   "execution_count": 6,
   "metadata": {},
   "outputs": [
    {
     "data": {
      "text/plain": [
       "321"
      ]
     },
     "execution_count": 6,
     "metadata": {},
     "output_type": "execute_result"
    }
   ],
   "source": [
    "class Solution:\n",
    "    def reverse(self, x: int) -> int:\n",
    "        stack = []\n",
    "        is_negative = True if x < 0 else False\n",
    "        x = abs(x)\n",
    "        while x != 0:\n",
    "            stack.append(x % 10)\n",
    "            x //= 10\n",
    "        \n",
    "        result = 0\n",
    "        power=0\n",
    "        while stack:\n",
    "            val = stack.pop()\n",
    "            result += (val * 10**power)\n",
    "            power += 1\n",
    "            if result > (2**31-1):\n",
    "                return 0\n",
    "        \n",
    "        return -result if is_negative else result\n",
    "\n",
    "soln = Solution()\n",
    "soln.reverse(123)"
   ]
  },
  {
   "cell_type": "markdown",
   "metadata": {},
   "source": [
    "## Review"
   ]
  },
  {
   "cell_type": "markdown",
   "metadata": {},
   "source": [
    "- You managed to solve this quite fast, good stuff\n",
    "- Your check for overflow is problematic; it didn't throw an error since we're using python, but will be an issue for other languages"
   ]
  }
 ],
 "metadata": {
  "kernelspec": {
   "display_name": "dsa_prep",
   "language": "python",
   "name": "python3"
  },
  "language_info": {
   "codemirror_mode": {
    "name": "ipython",
    "version": 3
   },
   "file_extension": ".py",
   "mimetype": "text/x-python",
   "name": "python",
   "nbconvert_exporter": "python",
   "pygments_lexer": "ipython3",
   "version": "3.10.13"
  }
 },
 "nbformat": 4,
 "nbformat_minor": 2
}
