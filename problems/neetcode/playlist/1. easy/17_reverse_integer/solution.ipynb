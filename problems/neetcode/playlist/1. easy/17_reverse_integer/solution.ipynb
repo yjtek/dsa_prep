{
 "cells": [
  {
   "cell_type": "markdown",
   "metadata": {},
   "source": [
    "## Main"
   ]
  },
  {
   "cell_type": "markdown",
   "metadata": {},
   "source": [
    "- First, keep in mind that a signed 32-bit integer from $-2^{31}$ to $2^{31}-1$, not $2^{32}$. This is because 1 bit is needed to store the sign\n",
    "\n",
    "- To reverse an integer, take modulo of the input number and store it in a stack and floor divide by 10 until the value reaches 0\n",
    "\n",
    "- Then pop from the stack and sum the number, checking for overflow at each step\n",
    "\n",
    "- It will take $O(N)$ run time to loop over every digit twice, and we require $O(N)$ memory for the stack"
   ]
  },
  {
   "cell_type": "code",
   "execution_count": 16,
   "metadata": {},
   "outputs": [
    {
     "name": "stdout",
     "output_type": "stream",
     "text": [
      "-123\n",
      "-12\n",
      "-1\n"
     ]
    },
    {
     "data": {
      "text/plain": [
       "-321"
      ]
     },
     "execution_count": 16,
     "metadata": {},
     "output_type": "execute_result"
    }
   ],
   "source": [
    "import math\n",
    "\n",
    "class Solution:\n",
    "    def reverse(self, x: int) -> int:\n",
    "        stack = []\n",
    "\n",
    "        INT32_MIN = -2**31\n",
    "        INT32_MAX = 2**31 - 1\n",
    "        \n",
    "        result = 0\n",
    "        while x:\n",
    "            \n",
    "            ## You cannot use x % 10, because -1 % 10 will give you 9 in python, but we want it to give -1\n",
    "            digit = int(math.fmod(x,10))\n",
    "            \n",
    "            ## You cannot use x //= 10, -1 // 10 = -1 in python, but you want it to be 0\n",
    "            x = int(x/10)\n",
    "\n",
    "            ## Check for positive overflow\n",
    "            if (\n",
    "                (result > INT32_MAX//10) or \n",
    "                ((result == INT32_MAX//10) and (digit > math.fmod(INT32_MAX, 10)))\n",
    "            ):\n",
    "                return 0\n",
    "            \n",
    "            ## Check for negative overflow\n",
    "            if (\n",
    "                (result < INT32_MIN//10) or \n",
    "                ((result == INT32_MIN//10) and (digit < math.fmod(INT32_MIN, 10)))\n",
    "            ):\n",
    "                return 0\n",
    "            \n",
    "            ## Once we confirm no overflow, add digit to result\n",
    "            result = (result * 10) + digit\n",
    "        \n",
    "        return result\n",
    "\n",
    "soln = Solution()\n",
    "soln.reverse(-123)"
   ]
  }
 ],
 "metadata": {
  "kernelspec": {
   "display_name": "dsa_prep",
   "language": "python",
   "name": "python3"
  },
  "language_info": {
   "codemirror_mode": {
    "name": "ipython",
    "version": 3
   },
   "file_extension": ".py",
   "mimetype": "text/x-python",
   "name": "python",
   "nbconvert_exporter": "python",
   "pygments_lexer": "ipython3",
   "version": "3.10.13"
  }
 },
 "nbformat": 4,
 "nbformat_minor": 2
}
