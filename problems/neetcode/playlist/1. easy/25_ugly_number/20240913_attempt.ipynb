{
 "cells": [
  {
   "cell_type": "markdown",
   "metadata": {},
   "source": [
    "## Main"
   ]
  },
  {
   "cell_type": "markdown",
   "metadata": {},
   "source": [
    "- Just brute force divide the number by 2,3,5 until it cannot go any further, and see if the value is 1?\n",
    "    - If yes, then ugly\n",
    "    - Else not ugly"
   ]
  },
  {
   "cell_type": "code",
   "execution_count": 2,
   "metadata": {},
   "outputs": [],
   "source": [
    "class Solution:\n",
    "    def isUgly(self, n: int) -> bool:\n",
    "        if n <= 0:\n",
    "            return False\n",
    "            \n",
    "        for factor in [2,3,5]:\n",
    "            while n % factor == 0:\n",
    "                n /= factor\n",
    "        \n",
    "        return n == 1"
   ]
  },
  {
   "cell_type": "code",
   "execution_count": 5,
   "metadata": {},
   "outputs": [
    {
     "data": {
      "text/plain": [
       "False"
      ]
     },
     "execution_count": 5,
     "metadata": {},
     "output_type": "execute_result"
    }
   ],
   "source": [
    "soln = Solution()\n",
    "soln.isUgly(14)"
   ]
  },
  {
   "cell_type": "markdown",
   "metadata": {},
   "source": [
    "## Review"
   ]
  },
  {
   "cell_type": "markdown",
   "metadata": {},
   "source": [
    "- You missed the exit when $n < 0$\n",
    "- Else, optimal solution is just brute force solution"
   ]
  }
 ],
 "metadata": {
  "kernelspec": {
   "display_name": "dsa_prep",
   "language": "python",
   "name": "python3"
  },
  "language_info": {
   "codemirror_mode": {
    "name": "ipython",
    "version": 3
   },
   "file_extension": ".py",
   "mimetype": "text/x-python",
   "name": "python",
   "nbconvert_exporter": "python",
   "pygments_lexer": "ipython3",
   "version": "3.12.5"
  }
 },
 "nbformat": 4,
 "nbformat_minor": 2
}
