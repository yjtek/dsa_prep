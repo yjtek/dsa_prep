{
 "cells": [
  {
   "cell_type": "markdown",
   "metadata": {},
   "source": [
    "## Main"
   ]
  },
  {
   "cell_type": "markdown",
   "metadata": {},
   "source": [
    "- Let's start with base cases\n",
    "    \n",
    "- Assume an array of size 1\n",
    "    - No decision to make, you always rob the only available house\n",
    "\n",
    "- Assume an array of size 2\n",
    "    - Since you cannot rob adjacent houses, you either rob from left or right\n",
    "    - So return max of the array\n",
    "\n",
    "- Assume an array of size 3\n",
    "    - You can rob from houses at 0 and 2\n",
    "    - Or you can rob from house 1\n",
    "\n",
    "- How do we programmatically decide which choice is better? \n",
    "    - Notice, at each point in the array, you can either choose to rob the current house (which means you can also rob the 2nd last house in the array), or you can choose to skip the current house and rob the previous house\n",
    "\n",
    "    - Let's suppose an array [1,2,3,4]\n",
    "\n",
    "    - At house 1, there is no decision to make\n",
    "        - max value we can get is 1\n",
    "\n",
    "    - At house 2, either we rob house 2, or we rob house 1 (but not both)\n",
    "        - max value we can get is 2\n",
    "\n",
    "    - At house 3, either we rob this current house (which lets us also rob house 1), or we don't rob this house and rob the previous house \n",
    "        - So the payoff at house 3 is `max(1+3, 2)`\n",
    "    \n",
    "    - At house 4, the same logic applies;\n",
    "        - the payoff at house 4 is `max(2+4, 1+3)`\n",
    "\n",
    "    - In this way, each node is a recursive accumulation of optimal path values. So at each node, you simply maximise your current value. Either you take the previous node's accumulated path (and forgo the current node), or you take the current node, added to the next-to-last node.\n",
    "\n",
    "- What about cases where optimal house robbing isn't alternate houses?\n",
    "    - For example, [2,1,1,2]\n",
    "    - You want to rob first and last houses. Does this approach solve for this?\n",
    "\n",
    "    - At house 1, max value = 2\n",
    "    - At house 2, max value is 2 (since you rob the previous house)\n",
    "    - At house 3, max value is 3 (either you take 2 from the previous node, or you take 2+1)\n",
    "    - At house 4, max value is max(3, 2+2) = 4\n",
    "    - Approach works!"
   ]
  },
  {
   "cell_type": "code",
   "execution_count": 1,
   "metadata": {},
   "outputs": [],
   "source": [
    "class Solution:\n",
    "    def rob(self, nums: list[int]) -> int:\n",
    "        minus2, minus1, currval = 0,0,0\n",
    "        for num in nums:\n",
    "            currval = max(minus2 + num, minus1)\n",
    "            minus2 = minus1\n",
    "            minus1 = currval\n",
    "        \n",
    "        return currval"
   ]
  },
  {
   "cell_type": "code",
   "execution_count": 5,
   "metadata": {},
   "outputs": [
    {
     "data": {
      "text/plain": [
       "12"
      ]
     },
     "execution_count": 5,
     "metadata": {},
     "output_type": "execute_result"
    }
   ],
   "source": [
    "soln = Solution()\n",
    "soln.rob([2,1,1,2])\n",
    "soln.rob([1,2,3,1])\n",
    "soln.rob([2,7,9,3,1])"
   ]
  }
 ],
 "metadata": {
  "kernelspec": {
   "display_name": "dsa_prep",
   "language": "python",
   "name": "python3"
  },
  "language_info": {
   "codemirror_mode": {
    "name": "ipython",
    "version": 3
   },
   "file_extension": ".py",
   "mimetype": "text/x-python",
   "name": "python",
   "nbconvert_exporter": "python",
   "pygments_lexer": "ipython3",
   "version": "3.10.13"
  }
 },
 "nbformat": 4,
 "nbformat_minor": 2
}
