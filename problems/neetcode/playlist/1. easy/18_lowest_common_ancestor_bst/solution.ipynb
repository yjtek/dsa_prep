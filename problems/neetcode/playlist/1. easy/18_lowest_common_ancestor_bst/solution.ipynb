{
 "cells": [
  {
   "cell_type": "markdown",
   "metadata": {},
   "source": [
    "## Main"
   ]
  },
  {
   "cell_type": "markdown",
   "metadata": {},
   "source": [
    "- The tree give is a **BINARY SEARCH TREE** not just a binary tree\n",
    "\n",
    "- By definition, in a BST, the value of **all nodes** in the left subtree are smaller than parent, and all nodes on the right subtree are larger\n",
    "\n",
    "- How does this help us?\n",
    "    - We know the value of the current node\n",
    "    - If the value at p and q are both smaller than the current node: \n",
    "        - They must both be in the left subtree relative to current node\n",
    "        - Is it possible that current node is the common parent?\n",
    "            - No, because if they are both in a left subtree, one of 3 cases must be true\n",
    "                - One of the two nodes is the root of the left subtree, in which case it becomes the lowest common ancestor\n",
    "                - Both the nodes are below the root of th left subtree, in which case the left subtree root becomes the lowest common ancestor\n",
    "\n",
    "    - If the value at p and q are both larger than the current node: \n",
    "        - Same argument as above, the lowest ancestor must minimally be the root of the right subtree\n",
    "\n",
    "    - If the value at p is smaller than the current node, and the value at q is larger than the current node\n",
    "        - Then there cannot be a lower common ancestor than current node! \n",
    "        - Because both nodes are in different subtrees\n",
    "\n",
    "- Knowing all of these cases, the problem actually reduces to quite a simple one\n",
    "    - While `curr_node` exists:\n",
    "    - Either both p and q are smaller than current node, in which case set `curr_node` to be `curr_node.left`\n",
    "    - Or both p and q are larger than current node, in which case set `curr_node` to be `curr_node.right`\n",
    "    - Or one is smaller and one is larger than current node, in which case return `curr_node.val`\n"
   ]
  },
  {
   "cell_type": "code",
   "execution_count": null,
   "metadata": {},
   "outputs": [],
   "source": [
    "# Definition for a binary tree node.\n",
    "class TreeNode:\n",
    "    def __init__(self, x):\n",
    "        self.val = x\n",
    "        self.left = None\n",
    "        self.right = None\n",
    "\n",
    "class Solution:\n",
    "    def lowestCommonAncestor(self, root: TreeNode, p: TreeNode, q: TreeNode) -> TreeNode:\n",
    "        while root:\n",
    "            if p.val > root.val and q.val > root.val:\n",
    "                root = root.right\n",
    "            elif p.val < root.val and q.val < root.val:\n",
    "                root = root.left\n",
    "            else:\n",
    "                return root"
   ]
  }
 ],
 "metadata": {
  "kernelspec": {
   "display_name": "dsa_prep",
   "language": "python",
   "name": "python3"
  },
  "language_info": {
   "codemirror_mode": {
    "name": "ipython",
    "version": 3
   },
   "file_extension": ".py",
   "mimetype": "text/x-python",
   "name": "python",
   "nbconvert_exporter": "python",
   "pygments_lexer": "ipython3",
   "version": "3.12.5"
  }
 },
 "nbformat": 4,
 "nbformat_minor": 2
}
