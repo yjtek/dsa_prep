{
 "cells": [
  {
   "cell_type": "markdown",
   "metadata": {},
   "source": [
    "## [Fail] Main"
   ]
  },
  {
   "cell_type": "markdown",
   "metadata": {},
   "source": [
    "- Traverse the BST, maintaining the index of where you're at\n",
    "\n",
    "- At some point, you will hit p or q (since both exist in the pst and are not equal). Let's say (without loss of generality) that we hit `p` first\n",
    "    - Record the index of `p`\n",
    "\n",
    "- Continue traversing until we hit `q`\n",
    "    - Record index of `q`\n",
    "\n",
    "- Using the indices of `p` and `q`, find the indices of all their ancestors\n",
    "    - while `index_p`, `index_p = (index_p-1)//2`, record in an array P\n",
    "    - while `index_q`, `index_q = (index_q-1)//2`, record in an array Q\n",
    "    - Both of these are sorted lists, sorted from biggest to smallest, so we can find the intersection of P and Q in $O(min(a,b))$ time\n",
    "        - The worst case for `a` and `b` is $\\log(N)$ assuming a binary search tree\n",
    "        - So this intersection takes $O(\\log(N))$ time and $O(\\log(N))$ space\n",
    "\n",
    "- Find the maximum of this intersection by traversing both arrays with one pointer each, and shifting the larger pointer rightwards every time the indices are not equal\n",
    "\n",
    "- Once we find the first equal value, return that value as the answer\n",
    "\n",
    "- The traversal step is the bottleneck, which runs in $O(N)$ time, while we need $O(\\log(N))$ space to store the arrays"
   ]
  },
  {
   "cell_type": "code",
   "execution_count": 3,
   "metadata": {},
   "outputs": [],
   "source": [
    "from collections import deque\n",
    "\n",
    "# Definition for a binary tree node.\n",
    "class TreeNode:\n",
    "    def __init__(self, x):\n",
    "        self.val = x\n",
    "        self.left = None\n",
    "        self.right = None\n",
    "\n",
    "class Solution:\n",
    "    def lowestCommonAncestor(self, root: TreeNode, p: TreeNode, q: TreeNode) -> TreeNode:\n",
    "        queue = deque([root])\n",
    "        p_index, q_index = None, None\n",
    "        index=0\n",
    "        tree_nodes = []\n",
    "\n",
    "        while queue:\n",
    "            curr = queue.popleft()\n",
    "            if curr is None:\n",
    "                index+=1\n",
    "                continue\n",
    "            \n",
    "            tree_nodes.append(curr)\n",
    "            if curr == p:\n",
    "                p_index = index\n",
    "            if curr == q:\n",
    "                q_index = index\n",
    "            if p_index and q_index:\n",
    "                break\n",
    "            \n",
    "            if curr.left:\n",
    "                queue.append(curr.left)\n",
    "            else:\n",
    "                queue.append(None)\n",
    "            \n",
    "            if curr.right:\n",
    "                queue.append(curr.right)\n",
    "            else:\n",
    "                queue.append(None)\n",
    "            index+=1\n",
    "        \n",
    "        p_ancestors, q_ancestors = [p_index], [q_index]\n",
    "        while p_index > 0:\n",
    "            p_index = (p_index-1) // 2\n",
    "            p_ancestors.append(p_index)\n",
    "        \n",
    "        while q_index > 0:\n",
    "            q_index = (q_index-1) // 2\n",
    "            q_ancestors.append(q_index)\n",
    "\n",
    "        curr_p, curr_q = 0,0\n",
    "        while p_ancestors[curr_p] != q_ancestors[curr_q]:\n",
    "            if p_ancestors[curr_p] > q_ancestors[curr_q]:\n",
    "                curr_p += 1\n",
    "            else:\n",
    "                curr_q += 1\n",
    "        return tree_nodes[p_ancestors[curr_p]]"
   ]
  },
  {
   "cell_type": "code",
   "execution_count": 4,
   "metadata": {},
   "outputs": [
    {
     "data": {
      "text/plain": [
       "4"
      ]
     },
     "execution_count": 4,
     "metadata": {},
     "output_type": "execute_result"
    }
   ],
   "source": [
    "one=TreeNode(6)\n",
    "two=TreeNode(2)\n",
    "three=TreeNode(8)\n",
    "four=TreeNode(0)\n",
    "five=TreeNode(4)\n",
    "six=TreeNode(7)\n",
    "seven=TreeNode(9)\n",
    "eight=None\n",
    "nine=None\n",
    "ten=TreeNode(3)\n",
    "eleven=TreeNode(5)\n",
    "\n",
    "one.left=two\n",
    "one.right=three\n",
    "two.left=four\n",
    "two.right=five\n",
    "three.left=six\n",
    "three.right=seven\n",
    "four.left=eight\n",
    "four.right=nine\n",
    "five.left=ten\n",
    "five.right=eleven\n",
    "\n",
    "soln=Solution()\n",
    "soln.lowestCommonAncestor(one, eleven, ten).val"
   ]
  },
  {
   "cell_type": "code",
   "execution_count": 13,
   "metadata": {},
   "outputs": [],
   "source": [
    "# from binarytree import build\n",
    "\n",
    "# # Example array\n",
    "# arr = [\n",
    "#     45,\n",
    "#     30, 46,\n",
    "#     10,36, None,49,\n",
    "#     8,24, 34,42, 48,None, 4,9,\n",
    "#     14,25, 31,35, 41,43, 47,None, 0,6, None,None, 11,20, None,28,\n",
    "#     None,33, None,None, 37,None, None,44, None,None, None,1, 5,7, None,12, 19,21, 26,29, 32,None, None,38, None,None, None,3, None,None, None,None,\n",
    "#     None,13, 18,None, None,22, None,27, None,None, None,None, None,39, 2,None, None,None, 15,None, None,23, None,None, None,40, None,None, None,16, None,None, None,None, None,17]\n",
    "\n",
    "# # Build the binary tree from the array\n",
    "# root = build(arr)\n",
    "\n",
    "# # Print the binary tree\n",
    "# print(root)"
   ]
  },
  {
   "cell_type": "markdown",
   "metadata": {},
   "source": [
    "## Review"
   ]
  },
  {
   "cell_type": "markdown",
   "metadata": {},
   "source": [
    "- This question is a good example of READING THE DAMN QUESTION PROPERLY\n",
    "- Firstly, you were solving this as a BT, but the question tells you the structure is a BST. A BST has all left children strictly smaller, and right elements strictly larger\n",
    "- The correct solution makes use of this info\n",
    "\n",
    "- Also your solution works for the examples given, but I think one of the test cases in leetcode is broken, because it's not actually a valid BST, so this fails. \n",
    "    - The test case is given as `[45, 30, 46, 10, 36, null, 49, 8, 24, 34, 42, 48, null, 4, 9, 14, 25, 31, 35, 41, 43, 47, null, 0, 6, null, null, 11, 20, null, 28, null, 33, null, null, 37, null, null, 44, null, null, null, 1, 5, 7, null, 12, 19, 21, 26, 29, 32, null, null, 38, null, null, null, 3, null, null, null, null, null, 13, 18, null, null, 22, null, 27, null, null, null, null, null, 39, 2, null, null, null, 15, null, null, 23, null, null, null, 40, null, null, null, 16, null, null, null, null, null, 17]`\n",
    "    - This is obviously problematic, because index 5 is null, but index 11 and 12 have values..."
   ]
  },
  {
   "cell_type": "markdown",
   "metadata": {},
   "source": []
  }
 ],
 "metadata": {
  "kernelspec": {
   "display_name": "dsa_prep",
   "language": "python",
   "name": "python3"
  },
  "language_info": {
   "codemirror_mode": {
    "name": "ipython",
    "version": 3
   },
   "file_extension": ".py",
   "mimetype": "text/x-python",
   "name": "python",
   "nbconvert_exporter": "python",
   "pygments_lexer": "ipython3",
   "version": "3.12.5"
  }
 },
 "nbformat": 4,
 "nbformat_minor": 2
}
