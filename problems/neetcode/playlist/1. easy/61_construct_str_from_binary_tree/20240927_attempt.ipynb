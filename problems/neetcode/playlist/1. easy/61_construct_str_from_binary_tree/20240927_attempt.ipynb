{
 "cells": [
  {
   "cell_type": "markdown",
   "metadata": {},
   "source": [
    "## Main"
   ]
  },
  {
   "cell_type": "markdown",
   "metadata": {},
   "source": [
    "- Preorder traversal just means go root --> left --> left.left --> left.right --> right --> right.left ...\n",
    "\n",
    "- To build the traversal, we need a queue to take node of what the next node(s) are\n",
    "\n",
    "- To build the string, we need to keep track of which side of the node we're coming from (i.e. are we coming from left or right nodes)\n",
    "\n",
    "- So each time we push to the queue, we add an indicator for \"L\" or \"R\" as a tuple alongside the node, to indicate whether the node is a right or left node\n",
    "    - Special case: if node.left and node.right are both None, then do not add either to the queue\n",
    "\n",
    "- When adding the string, for every node I pop from the queue:\n",
    "    - If node is from \"left\" I add an opening bracket behind the node value X `(X`\n",
    "    - If node is from \"right\" I add a close and open bracket behind the node value X, and close it `)(X)`\n",
    "    - Special case, if the node is from \"left\" but it is None, then add `()`\n",
    "    - Special case, if the node is from \"right\" but it is None, add `)`\n",
    "\n",
    "- The traversal will take $O(N)$ time where $N$ is the count of nodes in the tree, and will take $O(\\log M)$ space where"
   ]
  },
  {
   "cell_type": "code",
   "execution_count": null,
   "metadata": {},
   "outputs": [],
   "source": [
    "from typing import Optional\n",
    "from collections import deque\n",
    "\n",
    "# Definition for a binary tree node.\n",
    "class TreeNode:\n",
    "    def __init__(self, val=0, left=None, right=None):\n",
    "        self.val = val\n",
    "        self.left = left\n",
    "        self.right = right\n",
    "\n",
    "class Solution:\n",
    "    def tree2str(self, root: Optional[TreeNode]) -> str:\n",
    "        string = ''\n",
    "        queue = deque([(root,'')])\n",
    "        while queue:\n",
    "            curr, direction = queue.pop()\n",
    "            if not curr:\n",
    "                break\n",
    "            \n",
    "            if direction == '':\n",
    "                string = string + f\"({str(curr.val)}\"\n",
    "\n",
    "            if curr.left and curr.right:\n",
    "                queue.append(curr.left)\n",
    "                queue.append(curr.right)\n",
    "            if curr.left:\n",
    "                queue.append(curr.left)\n",
    "\n",
    "\n",
    "[1,2,3,4,5,6,7]\n",
    "\n",
    "1\n",
    "(2\n",
    "(4\n",
    ")(5)\n",
    ")(3\n",
    "(6\n",
    ")(7)\n",
    ")\n",
    "\n",
    "1(2(4)(5))(3(6)(7))\n",
    "\n",
    "[1,2,3,None,None,6,7]\n",
    "\n",
    "1(2()())(3(6)(7))\n"
   ]
  },
  {
   "cell_type": "markdown",
   "metadata": {},
   "source": [
    "## Review"
   ]
  }
 ],
 "metadata": {
  "kernelspec": {
   "display_name": "dsa_prep",
   "language": "python",
   "name": "python3"
  },
  "language_info": {
   "codemirror_mode": {
    "name": "ipython",
    "version": 3
   },
   "file_extension": ".py",
   "mimetype": "text/x-python",
   "name": "python",
   "nbconvert_exporter": "python",
   "pygments_lexer": "ipython3",
   "version": "3.12.5"
  }
 },
 "nbformat": 4,
 "nbformat_minor": 2
}
