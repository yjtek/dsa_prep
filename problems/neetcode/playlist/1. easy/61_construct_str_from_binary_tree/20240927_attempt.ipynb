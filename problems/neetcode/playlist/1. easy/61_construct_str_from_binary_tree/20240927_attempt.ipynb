{
 "cells": [
  {
   "cell_type": "markdown",
   "metadata": {},
   "source": [
    "## Main"
   ]
  },
  {
   "cell_type": "markdown",
   "metadata": {},
   "source": [
    "- Preorder traversal just means go root --> left --> left.left --> left.right --> right --> right.left ...\n",
    "\n",
    "- To build the traversal, we need a queue to take node of what the next node(s) are\n",
    "\n",
    "- To build the string, we need to keep track of which side of the node we're coming from (i.e. are we coming from left or right nodes)\n",
    "\n",
    "- So each time we push to the queue, we add an indicator for \"L\" or \"R\" as a tuple alongside the node, to indicate whether the node is a right or left node\n",
    "    - Special case: if node.left and node.right are both None, then add a special `TreeNode` to the queue where the val is `)` to close the string\n",
    "\n",
    "- When adding the string, for every node I pop from the queue:\n",
    "    - If node is from \"left\" I add an opening bracket behind the node value X `(X`\n",
    "    - If node is from \"right\" I add a close and open bracket behind the node value X, and close it `)(X)`\n",
    "    - Special case, if the node is from \"left\" but it is None, then add `()`\n",
    "    - Special case, if the node is from \"right\" but it is None, add `)`\n",
    "\n",
    "- The traversal will take $O(N)$ time where $N$ is the count of nodes in the tree, and will take $O(\\log N)$ space which is the depth of the tree assuming it is balanced. In the worst case,it is $O(N)$ space "
   ]
  },
  {
   "cell_type": "code",
   "execution_count": 32,
   "metadata": {},
   "outputs": [],
   "source": [
    "from typing import Optional\n",
    "from collections import deque\n",
    "\n",
    "# Definition for a binary tree node.\n",
    "class TreeNode:\n",
    "    def __init__(self, val=0, left=None, right=None):\n",
    "        self.val = val\n",
    "        self.left = left\n",
    "        self.right = right\n",
    "\n",
    "class Solution:\n",
    "    def tree2str(self, root: Optional[TreeNode]) -> str:\n",
    "        string = ''\n",
    "        queue = deque([(root,'')])\n",
    "        \n",
    "        i = 0\n",
    "        while queue and i < 10:\n",
    "            print(f\"Queue: {[x[0].val for x in queue]=}\")\n",
    "            print(f\"{string=}\")\n",
    "            curr, direction = queue.popleft()\n",
    "            if not curr:\n",
    "                break\n",
    "            \n",
    "            if direction == '':\n",
    "                string = string + f\"{str(curr.val)}\"\n",
    "            elif direction == 'left':\n",
    "                string = string + f\"({str(curr.val)}\"\n",
    "            elif direction == 'right':\n",
    "                string = string + f\")({str(curr.val)})\"\n",
    "\n",
    "            if (not curr.left) and (not curr.right) and (curr.val != ')'):\n",
    "                queue.appendleft((TreeNode(val=')'), ''))\n",
    "            if curr.left and curr.right:\n",
    "                queue.appendleft((curr.left, 'left'))\n",
    "                queue.append((curr.right, 'right'))\n",
    "            if curr.left and not curr.right:\n",
    "                queue.appendleft((curr.left, 'left'))\n",
    "            if not curr.left and curr.right:\n",
    "                queue.appendleft((TreeNode(val='()'), ''))\n",
    "                queue.append((curr.right, 'right'))\n",
    "\n",
    "            print(f\"{string=}\")\n",
    "            i+=1\n",
    "            \n",
    "        return string[:-1]"
   ]
  },
  {
   "cell_type": "code",
   "execution_count": 33,
   "metadata": {},
   "outputs": [
    {
     "name": "stdout",
     "output_type": "stream",
     "text": [
      "Queue: [x[0].val for x in queue]=[1]\n",
      "string=''\n",
      "string='1'\n",
      "Queue: [x[0].val for x in queue]=[2, 3]\n",
      "string='1'\n",
      "string='1(2'\n",
      "Queue: [x[0].val for x in queue]=[4, 3]\n",
      "string='1(2'\n",
      "string='1(2(4'\n",
      "Queue: [x[0].val for x in queue]=[')', 3]\n",
      "string='1(2(4'\n",
      "string='1(2(4)'\n",
      "Queue: [x[0].val for x in queue]=[3]\n",
      "string='1(2(4)'\n",
      "string='1(2(4))(3)'\n",
      "Queue: [x[0].val for x in queue]=[')']\n",
      "string='1(2(4))(3)'\n",
      "string='1(2(4))(3))'\n"
     ]
    },
    {
     "data": {
      "text/plain": [
       "'1(2(4))(3)'"
      ]
     },
     "execution_count": 33,
     "metadata": {},
     "output_type": "execute_result"
    }
   ],
   "source": [
    "one = TreeNode(1)\n",
    "two = TreeNode(2)\n",
    "three = TreeNode(3)\n",
    "four = TreeNode(4)\n",
    "\n",
    "one.left = two\n",
    "one.right = three\n",
    "two.left = four\n",
    "\n",
    "soln = Solution()\n",
    "soln.tree2str(one)\n"
   ]
  },
  {
   "cell_type": "code",
   "execution_count": 34,
   "metadata": {},
   "outputs": [
    {
     "name": "stdout",
     "output_type": "stream",
     "text": [
      "Queue: [x[0].val for x in queue]=[1]\n",
      "string=''\n",
      "string='1'\n",
      "Queue: [x[0].val for x in queue]=[2, 3]\n",
      "string='1'\n",
      "string='1(2'\n",
      "Queue: [x[0].val for x in queue]=['()', 3, 4]\n",
      "string='1(2'\n",
      "string='1(2()'\n",
      "Queue: [x[0].val for x in queue]=[')', 3, 4]\n",
      "string='1(2()'\n",
      "string='1(2())'\n",
      "Queue: [x[0].val for x in queue]=[3, 4]\n",
      "string='1(2())'\n",
      "string='1(2()))(3)'\n",
      "Queue: [x[0].val for x in queue]=[')', 4]\n",
      "string='1(2()))(3)'\n",
      "string='1(2()))(3))'\n",
      "Queue: [x[0].val for x in queue]=[4]\n",
      "string='1(2()))(3))'\n",
      "string='1(2()))(3)))(4)'\n",
      "Queue: [x[0].val for x in queue]=[')']\n",
      "string='1(2()))(3)))(4)'\n",
      "string='1(2()))(3)))(4))'\n"
     ]
    },
    {
     "data": {
      "text/plain": [
       "'1(2()))(3)))(4)'"
      ]
     },
     "execution_count": 34,
     "metadata": {},
     "output_type": "execute_result"
    }
   ],
   "source": [
    "one = TreeNode(1)\n",
    "two = TreeNode(2)\n",
    "three = TreeNode(3)\n",
    "four = None\n",
    "five = TreeNode(4)\n",
    "\n",
    "one.left = two\n",
    "one.right = three\n",
    "two.left = four\n",
    "two.right = five\n",
    "\n",
    "soln = Solution()\n",
    "soln.tree2str(one)"
   ]
  },
  {
   "cell_type": "markdown",
   "metadata": {},
   "source": [
    "## Review"
   ]
  },
  {
   "cell_type": "markdown",
   "metadata": {},
   "source": [
    "- Failed to implement"
   ]
  }
 ],
 "metadata": {
  "kernelspec": {
   "display_name": "dsa_prep",
   "language": "python",
   "name": "python3"
  },
  "language_info": {
   "codemirror_mode": {
    "name": "ipython",
    "version": 3
   },
   "file_extension": ".py",
   "mimetype": "text/x-python",
   "name": "python",
   "nbconvert_exporter": "python",
   "pygments_lexer": "ipython3",
   "version": "3.12.5"
  }
 },
 "nbformat": 4,
 "nbformat_minor": 2
}
