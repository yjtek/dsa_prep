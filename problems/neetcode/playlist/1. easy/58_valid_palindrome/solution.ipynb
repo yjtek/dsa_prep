{
 "cells": [
  {
   "cell_type": "markdown",
   "metadata": {},
   "source": [
    "## Main"
   ]
  },
  {
   "cell_type": "markdown",
   "metadata": {},
   "source": [
    "- Approach 1: 2 pointers?\n",
    "    - Init a deletion counter as 1\n",
    "    - Start pointers from the 2 ends\n",
    "    - Iteratively Inc/decrementing pointers\n",
    "    - If you meet a mismatch at the pointers, recursively call the function with l+1 \n",
    "    - if still mismatch, call function with r-1 \n",
    "    - If still mismatch then return False\n",
    "    - Else if counters meet, then true\n",
    "    - This solution is $O(N)$ time, and $O(M)$ stack space due to recursion (doesn't scale by length, but by the number of $M$ deletions you have)\n",
    "\n",
    "- Approach 1 would probably work, but I think you can't change the function input set, so you can't add \"deletion_counter\" as an input. So how?\n",
    "\n",
    "- Approach 2: Use the same approach, but just don't recurse? This solution is still $O(N)$ time, without the $O(M)$ stack space\n",
    "\n",
    "- I'm presenting my solution alongside the \"cop out\" solution, which is neater, but the idea is the same "
   ]
  },
  {
   "cell_type": "code",
   "execution_count": 9,
   "metadata": {},
   "outputs": [
    {
     "data": {
      "text/plain": [
       "False"
      ]
     },
     "execution_count": 9,
     "metadata": {},
     "output_type": "execute_result"
    }
   ],
   "source": [
    "class Solution:\n",
    "    def validPalindrome(self, s: str) -> bool:\n",
    "        l, r = 0, len(s)-1\n",
    "        # print(f\"{l=}, {r=}\")\n",
    "        while (l <= r) and (s[l] == s[r]):\n",
    "            # print(f\"{l=}, {r=}\")\n",
    "            l += 1\n",
    "            r -= 1\n",
    "        \n",
    "        if l >= r:\n",
    "            return True\n",
    "        else:\n",
    "            l1 = l+1\n",
    "            r1 = r\n",
    "            # print(f\"{l1=}, {r1=}\")\n",
    "            while (l1 <= r1) and (s[l1] == s[r1]):\n",
    "                # print(f\"{l1=}, {r1=}\")\n",
    "                l1 += 1\n",
    "                r1 -= 1\n",
    "            \n",
    "            if l1 >= r1:\n",
    "                return True\n",
    "            \n",
    "            else:\n",
    "                l2 = l\n",
    "                r2 = r-1\n",
    "                # print(f\"{l2=}, {r2=}\")\n",
    "                while (l2 <= r2) and (s[l2] == s[r2]):\n",
    "                    # print(f\"{l2=}, {r2=}\")\n",
    "                    l2 += 1\n",
    "                    r2 -= 1\n",
    "                \n",
    "                if l2 >= r2:\n",
    "                    return True\n",
    "                \n",
    "        return False\n",
    "\n",
    "    def validPalindrome_copout(self, s: str) -> bool:\n",
    "        return (\n",
    "            (s == s[::-1]) or\n",
    "            (s[1:] == s[::-1][:-1]) or\n",
    "            (s[:-1] == s[::-1][1:])\n",
    "        )\n",
    "\n",
    "soln = Solution()\n",
    "soln.validPalindrome('eccer')"
   ]
  }
 ],
 "metadata": {
  "kernelspec": {
   "display_name": "dsa_prep",
   "language": "python",
   "name": "python3"
  },
  "language_info": {
   "codemirror_mode": {
    "name": "ipython",
    "version": 3
   },
   "file_extension": ".py",
   "mimetype": "text/x-python",
   "name": "python",
   "nbconvert_exporter": "python",
   "pygments_lexer": "ipython3",
   "version": "3.12.5"
  }
 },
 "nbformat": 4,
 "nbformat_minor": 2
}
