{
 "cells": [
  {
   "cell_type": "markdown",
   "metadata": {},
   "source": [
    "## Main"
   ]
  },
  {
   "cell_type": "markdown",
   "metadata": {},
   "source": [
    "- Let's suppose $k=5$\n",
    "\n",
    "- Let's suppose we have an array holding all test scores\n",
    "\n",
    "- Approach: Create sorted array\n",
    "    - If the array is sorted, we can just extract the $k$-th highest score in $O(1)$ time\n",
    "    - But you need to traverse the array to find the right insertion spot for each insert, which will take $O(N)$ time\n",
    "\n",
    "- Approach 2: Use a heap?\n",
    "    - I can create a min heap of size $k$\n",
    "    - Then the root of the heap will always contain  the $k$-th biggest element\n",
    "    - Insertion into a min-heap incurs $O(\\log N)$ time\n",
    "        - Every time I insert, if the heap size exceeds $k$, I just delete the root node in $O(\\log N)$ until I get my it back to size $k$\n",
    "    - Deletion is also $O(\\log N)$ time\n",
    "    - Heap will take $O(k)$ memory"
   ]
  },
  {
   "cell_type": "code",
   "execution_count": null,
   "metadata": {},
   "outputs": [],
   "source": [
    "import heapq\n",
    "\n",
    "class KthLargest:\n",
    "\n",
    "    def __init__(self, k: int, nums: list[int]):\n",
    "        self.k=k\n",
    "        self.nums= nums\n",
    "        heapq.heapify(self.nums)\n",
    "        while len(self.nums) > k:\n",
    "            heapq.heappop(self.nums)\n",
    "\n",
    "    def add(self, val: int) -> int:\n",
    "        self.nums.append(val)\n",
    "        heapq.heapify(self.nums)\n",
    "        while len(self.nums) > self.k:\n",
    "            heapq.heappop(self.nums)\n",
    "        return self.nums[0]\n",
    "\n",
    "\n",
    "# Your KthLargest object will be instantiated and called as such:\n",
    "# obj = KthLargest(k, nums)\n",
    "# param_1 = obj.add(val)"
   ]
  },
  {
   "cell_type": "code",
   "execution_count": null,
   "metadata": {},
   "outputs": [
    {
     "data": {
      "text/plain": [
       "-3"
      ]
     },
     "metadata": {},
     "output_type": "display_data"
    }
   ],
   "source": [
    "test = KthLargest(1, [])\n",
    "test.add(-3)"
   ]
  }
 ],
 "metadata": {
  "kernelspec": {
   "display_name": "dsa_prep",
   "language": "python",
   "name": "python3"
  },
  "language_info": {
   "codemirror_mode": {
    "name": "ipython",
    "version": 3
   },
   "file_extension": ".py",
   "mimetype": "text/x-python",
   "name": "python",
   "nbconvert_exporter": "python",
   "pygments_lexer": "ipython3",
   "version": "3.10.13"
  }
 },
 "nbformat": 4,
 "nbformat_minor": 2
}
