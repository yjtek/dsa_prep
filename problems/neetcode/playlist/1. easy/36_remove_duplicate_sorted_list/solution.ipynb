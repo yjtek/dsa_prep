{
 "cells": [
  {
   "cell_type": "markdown",
   "metadata": {},
   "source": [
    "## Main"
   ]
  },
  {
   "cell_type": "markdown",
   "metadata": {},
   "source": [
    "- Loop over the entire linked list in $O(N)$ (i.e. while `curr`)\n",
    "- Check if `curr.val == curr.next.val`\n",
    "- If yes, change `curr.next` to `curr.next.next` if `curr.next.next`. Else set `curr.next = None`\n",
    "- No added space needed, so $O(1)$ space\n",
    "\n",
    "- Edge cases:\n",
    "    - If empty, then return None\n",
    "    - If only 1 node, return curr\n",
    "    - If not `curr.next.next`, set to `None`"
   ]
  },
  {
   "cell_type": "code",
   "execution_count": null,
   "metadata": {},
   "outputs": [],
   "source": [
    "from typing import Optional\n",
    "\n",
    "# Definition for singly-linked list.\n",
    "class ListNode:\n",
    "    def __init__(self, val=0, next=None):\n",
    "        self.val = val\n",
    "        self.next = next\n",
    "\n",
    "class Solution:\n",
    "    def deleteDuplicates(self, head: Optional[ListNode]) -> Optional[ListNode]:\n",
    "        curr = head\n",
    "        while curr:\n",
    "            if not curr.next:\n",
    "                break\n",
    "            if curr.val == curr.next.val:\n",
    "                if not curr.next.next:\n",
    "                    curr.next = None\n",
    "                    break\n",
    "\n",
    "                curr.next = curr.next.next\n",
    "            \n",
    "            elif curr.val != curr.next.val:\n",
    "                curr = curr.next\n",
    "        \n",
    "        return head"
   ]
  },
  {
   "cell_type": "code",
   "execution_count": null,
   "metadata": {},
   "outputs": [
    {
     "name": "stdout",
     "output_type": "stream",
     "text": [
      "1\n",
      "2\n",
      "3\n"
     ]
    }
   ],
   "source": [
    "one = ListNode(1)\n",
    "two = ListNode(1)\n",
    "three = ListNode(2)\n",
    "four = ListNode(3)\n",
    "five = ListNode(3)\n",
    "\n",
    "one.next=two\n",
    "two.next=three\n",
    "three.next=four\n",
    "four.next=five\n",
    "\n",
    "soln = Solution()\n",
    "head = soln.deleteDuplicates(one)\n",
    "while head:\n",
    "    print(head.val)\n",
    "    head = head.next"
   ]
  }
 ],
 "metadata": {
  "kernelspec": {
   "display_name": "dsa_prep",
   "language": "python",
   "name": "python3"
  },
  "language_info": {
   "codemirror_mode": {
    "name": "ipython",
    "version": 3
   },
   "file_extension": ".py",
   "mimetype": "text/x-python",
   "name": "python",
   "nbconvert_exporter": "python",
   "pygments_lexer": "ipython3",
   "version": "3.10.13"
  }
 },
 "nbformat": 4,
 "nbformat_minor": 2
}
