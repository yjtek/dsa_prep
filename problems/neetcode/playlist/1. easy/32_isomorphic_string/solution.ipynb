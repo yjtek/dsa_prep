{
 "cells": [
  {
   "cell_type": "markdown",
   "metadata": {},
   "source": [
    "## Main"
   ]
  },
  {
   "cell_type": "markdown",
   "metadata": {},
   "source": [
    "- First, check if lengths of input strings are equal. If not equal, return False\n",
    "\n",
    "- Init 2 hash maps; let's call them `s_to_t` and `t_to_s`\n",
    "\n",
    "- Next, iterate through both strings with a common index `i`\n",
    "    - If characters match, add to hashmap and continue\n",
    "    - If characters don't match, check if `s[i]` exists in `s_to_t`, and if `t[i]` exists in `t_to_s`\n",
    "        - if exists\n",
    "            - check that `s_to_t[s[i]] = t[i]`\n",
    "            - check that `t_to_s[t[i]] = s[i]`\n",
    "        - else if not exists\n",
    "            - add `s[i]` to `s_to_t` with value `t[i]`, and `t[i]` to `t_to_s` with value `s[i]`\n",
    "    - If we make it to the end, return True\n",
    "\n",
    "- This will run in $O(N)$ time, with $O(N)$ space\n"
   ]
  },
  {
   "cell_type": "code",
   "execution_count": null,
   "metadata": {},
   "outputs": [],
   "source": [
    "class Solution:\n",
    "    def isIsomorphic(self, s: str, t: str) -> bool:\n",
    "        if len(s) != len(t):\n",
    "            return False\n",
    "        \n",
    "        s_to_t = {}\n",
    "        t_to_s = {}\n",
    "\n",
    "        for i in range(len(s)):\n",
    "            if (s[i] in s_to_t) and (t[i] != s_to_t.get(s[i])):\n",
    "                return False\n",
    "            \n",
    "            if (t[i] in t_to_s) and (s[i] != t_to_s.get(t[i])):\n",
    "                return False\n",
    "\n",
    "            s_to_t[s[i]] = t[i]\n",
    "            t_to_s[t[i]] = s[i]\n",
    "        \n",
    "        return True"
   ]
  },
  {
   "cell_type": "code",
   "execution_count": null,
   "metadata": {},
   "outputs": [
    {
     "data": {
      "text/plain": [
       "False"
      ]
     },
     "metadata": {},
     "output_type": "display_data"
    }
   ],
   "source": [
    "soln = Solution()\n",
    "soln.isIsomorphic('egg', 'add')\n",
    "soln.isIsomorphic('foo', 'bar')\n",
    "soln.isIsomorphic('paper', 'title')\n",
    "soln.isIsomorphic('badc', 'baba')"
   ]
  }
 ],
 "metadata": {
  "kernelspec": {
   "display_name": "dsa_prep",
   "language": "python",
   "name": "python3"
  },
  "language_info": {
   "codemirror_mode": {
    "name": "ipython",
    "version": 3
   },
   "file_extension": ".py",
   "mimetype": "text/x-python",
   "name": "python",
   "nbconvert_exporter": "python",
   "pygments_lexer": "ipython3",
   "version": "3.10.13"
  }
 },
 "nbformat": 4,
 "nbformat_minor": 2
}
