{
 "cells": [
  {
   "cell_type": "markdown",
   "metadata": {},
   "source": [
    "## Main"
   ]
  },
  {
   "cell_type": "markdown",
   "metadata": {},
   "source": [
    "- This is one of those dynamic programming problems where you can solve from the back\n",
    "\n",
    "- Note that the \"top of the floor\" means the step after the last array index\n",
    "\n",
    "- Taking $[10,15,20]$ as an example:\n",
    "    - If we are at the last step, we pay `20` to climb 1 step. No other strategy\n",
    "    - Assign the value of `20` to the last step\n",
    "    - If we are at the second last step, we can either pay `15` to climb 2 steps, or pay `15` to get to `20`. Obviously we do the former\n",
    "    - Assign the value of `15` to the second last step\n",
    "    - If we are at the first step, either pay `10` to climb 2 steps to get to `20`, or pay `10` to climb 1 step to `15`\n",
    "    - Assign the value of `25` to the second last step\n",
    "    - Take minimum of the first 2 steps, which is `min(15,25) = 15`\n",
    "\n",
    "- Taking $[1,100,1,1,1,100,1,1,100,1]$ as an example:\n",
    "    - If we are at the last step, we pay `1` to climb 1 step. No other strategy\n",
    "    - Assign the value of `1` to the last step $[..., 1]$\n",
    "    - If we are at the second last step, we can either pay `100` to climb 2 steps, or pay `100` to get to `1`. Obviously we do the former\n",
    "    - Assign the value of `100` to the second last step $[..., 100, 1]$\n",
    "    - At third last step, either `min(1+1, 1+100) = 2`\n",
    "    - $[..., 2, 100, 1]$\n",
    "    - At fourth last step, either `min(1+2, 1+100) = 3`\n",
    "    - $[...,3 , 2, 100, 1]$\n",
    "    - At fifth last step, either `min(100+3, 100+2) = 102`\n",
    "    - $[...,102 ,3 , 2, 100, 1]$\n",
    "    - At sixth last step, either `min(1+102, 1+3) = 4`\n",
    "    - $[...,4 ,102 ,3 , 2, 100, 1]$\n",
    "    - At seventh last step, either `min(1+4, 1+102) = 5`\n",
    "    - $[...,5 ,4 ,102 ,3 , 2, 100, 1]$\n",
    "    - ...\n",
    "\n",
    "- Notice we only need to keep track of 2 values at a time\n",
    "    - We need to know to take 1 step, which will give us val[curr_index] + val[curr_index+1]\n",
    "    - Or 2 steps, which will give us val[curr_index] + val[curr_index+2]\n",
    "    - So we don't actually need to maintain an array, just 2 values!!\n",
    "\n",
    "- In this way, we step through the whole input array in $O(N)$, but memory cost is $O(1)$"
   ]
  },
  {
   "cell_type": "code",
   "execution_count": 1,
   "metadata": {},
   "outputs": [],
   "source": [
    "class Solution:\n",
    "    def minCostClimbingStairs(self, cost: list[int]) -> int:\n",
    "        cost.append(0)\n",
    "        for i in range(len(cost)-3,-1,-1):\n",
    "            cost[i] += min(cost[i+1], cost[i+2])\n",
    "        return min(cost[0], cost[1])"
   ]
  },
  {
   "cell_type": "code",
   "execution_count": 2,
   "metadata": {},
   "outputs": [
    {
     "data": {
      "text/plain": [
       "6"
      ]
     },
     "execution_count": 2,
     "metadata": {},
     "output_type": "execute_result"
    }
   ],
   "source": [
    "soln = Solution()\n",
    "soln.minCostClimbingStairs([10,15,20])\n",
    "soln.minCostClimbingStairs([1,100,1,1,1,100,1,1,100,1])"
   ]
  }
 ],
 "metadata": {
  "kernelspec": {
   "display_name": "dsa_prep",
   "language": "python",
   "name": "python3"
  },
  "language_info": {
   "codemirror_mode": {
    "name": "ipython",
    "version": 3
   },
   "file_extension": ".py",
   "mimetype": "text/x-python",
   "name": "python",
   "nbconvert_exporter": "python",
   "pygments_lexer": "ipython3",
   "version": "3.12.5"
  }
 },
 "nbformat": 4,
 "nbformat_minor": 2
}
