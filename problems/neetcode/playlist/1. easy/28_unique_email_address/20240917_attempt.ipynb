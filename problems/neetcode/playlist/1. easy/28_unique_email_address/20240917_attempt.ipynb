{
 "cells": [
  {
   "cell_type": "markdown",
   "metadata": {},
   "source": [
    "## Main"
   ]
  },
  {
   "cell_type": "markdown",
   "metadata": {},
   "source": [
    "- You need to do some processing for each email string provided\n",
    "- So... \n",
    "    - Looping across the size of the array in $O(N)$\n",
    "    - We process each string for the `@` `.` and `+` special symbols in $O(M)$\n",
    "    - After processing, add to hashset \n",
    "    - Then return count of hashset\n",
    "\n",
    "- This runs in $O(N \\cdot M)$ time and $O(N)$ space"
   ]
  },
  {
   "cell_type": "code",
   "execution_count": 2,
   "metadata": {},
   "outputs": [],
   "source": [
    "class Solution:\n",
    "    def numUniqueEmails(self, emails: list[str]) -> int:\n",
    "        unique_emails = set()\n",
    "        for email in emails:\n",
    "            local_name, domain_name = email.split('@')\n",
    "            \n",
    "            local_name_processed = ''\n",
    "            for char in local_name:\n",
    "                if char == '+':\n",
    "                    break\n",
    "                if char == '.':\n",
    "                    continue\n",
    "                local_name_processed += char\n",
    "            unique_emails.add(local_name_processed + '@' + domain_name)\n",
    "\n",
    "        return len(unique_emails)"
   ]
  },
  {
   "cell_type": "code",
   "execution_count": 4,
   "metadata": {},
   "outputs": [
    {
     "data": {
      "text/plain": [
       "3"
      ]
     },
     "execution_count": 4,
     "metadata": {},
     "output_type": "execute_result"
    }
   ],
   "source": [
    "soln = Solution()\n",
    "soln.numUniqueEmails( [\"a@leetcode.com\",\"b@leetcode.com\",\"c@leetcode.com\"])"
   ]
  },
  {
   "cell_type": "markdown",
   "metadata": {},
   "source": [
    "## Review"
   ]
  },
  {
   "cell_type": "markdown",
   "metadata": {},
   "source": [
    "- Got it right first try\n",
    "\n",
    "- Not much to say, except, you may not be allowed to use `split` \n",
    "\n",
    "- If you cannot use `split`, just iterate through the email until you see `@` and record the string as \"local_name\"\n",
    "\n",
    "- Then do the same for the domain name"
   ]
  },
  {
   "cell_type": "markdown",
   "metadata": {},
   "source": []
  }
 ],
 "metadata": {
  "kernelspec": {
   "display_name": "dsa_prep",
   "language": "python",
   "name": "python3"
  },
  "language_info": {
   "codemirror_mode": {
    "name": "ipython",
    "version": 3
   },
   "file_extension": ".py",
   "mimetype": "text/x-python",
   "name": "python",
   "nbconvert_exporter": "python",
   "pygments_lexer": "ipython3",
   "version": "3.12.5"
  }
 },
 "nbformat": 4,
 "nbformat_minor": 2
}
