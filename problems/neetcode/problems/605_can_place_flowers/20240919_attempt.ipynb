{
 "cells": [
  {
   "cell_type": "markdown",
   "metadata": {},
   "source": [
    "## Main"
   ]
  },
  {
   "cell_type": "markdown",
   "metadata": {},
   "source": [
    "- The `flowerbed` input is an array\n",
    "\n",
    "- Loop over all array indices `i`\n",
    "\n",
    "- You can plant flowers if `flowerbed[i-1]` and `flowerbed[i+1]` are both 0.\n",
    "\n",
    "- To deal with the edge cases, append `0` to the start and end of `flowerbed` (because there is obviously nothing before the first and after the last flower)\n",
    "\n",
    "- Every time you hit an `i` where you meet this condition, decrement n by 1\n",
    "\n",
    "- Once n==0, return True\n",
    "\n",
    "- If end of array reached and n != 0, return False"
   ]
  },
  {
   "cell_type": "code",
   "execution_count": 12,
   "metadata": {},
   "outputs": [],
   "source": [
    "class Solution:\n",
    "    def canPlaceFlowers(self, flowerbed: list[int], n: int) -> bool:\n",
    "        flowerbed = [0] + flowerbed + [0]\n",
    "        \n",
    "        for index in range(1, len(flowerbed)-1):\n",
    "            if (flowerbed[index-1] == 0) and (flowerbed[index+1] == 0) and (flowerbed[index]==0):\n",
    "                n -= 1\n",
    "                flowerbed[index] = 1\n",
    "                \n",
    "            if n <= 0:\n",
    "                return True\n",
    "        return False"
   ]
  },
  {
   "cell_type": "code",
   "execution_count": 20,
   "metadata": {},
   "outputs": [
    {
     "name": "stdout",
     "output_type": "stream",
     "text": [
      "flowerbed=[1, 0, 1, 0, 1, 0, 0, 1, 1, 1, 1, 0, 0, 1, 1, 0], n=2\n"
     ]
    },
    {
     "data": {
      "text/plain": [
       "False"
      ]
     },
     "execution_count": 20,
     "metadata": {},
     "output_type": "execute_result"
    }
   ],
   "source": [
    "import random\n",
    "def generate_random_flowerbed():\n",
    "    length = random.randint(0, 20)\n",
    "    flowerbed = random.choices([0,1], k=length)\n",
    "    return flowerbed\n",
    "\n",
    "flowerbed = generate_random_flowerbed()\n",
    "n = random.randint(0,5)\n",
    "print(f\"{flowerbed=}, {n=}\")\n",
    "soln = Solution()\n",
    "soln.canPlaceFlowers(flowerbed, n=n)"
   ]
  },
  {
   "cell_type": "markdown",
   "metadata": {},
   "source": [
    "## Review"
   ]
  },
  {
   "cell_type": "markdown",
   "metadata": {},
   "source": [
    "- You got the idea, but seems to have failed a few test cases. Try to do test cases by default"
   ]
  }
 ],
 "metadata": {
  "kernelspec": {
   "display_name": "dsa_prep",
   "language": "python",
   "name": "python3"
  },
  "language_info": {
   "codemirror_mode": {
    "name": "ipython",
    "version": 3
   },
   "file_extension": ".py",
   "mimetype": "text/x-python",
   "name": "python",
   "nbconvert_exporter": "python",
   "pygments_lexer": "ipython3",
   "version": "3.12.5"
  }
 },
 "nbformat": 4,
 "nbformat_minor": 2
}
