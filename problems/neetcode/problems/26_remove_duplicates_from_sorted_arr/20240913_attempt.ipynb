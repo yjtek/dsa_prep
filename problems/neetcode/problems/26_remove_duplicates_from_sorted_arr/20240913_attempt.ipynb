{
 "cells": [
  {
   "cell_type": "markdown",
   "metadata": {},
   "source": [
    "## Main"
   ]
  },
  {
   "cell_type": "markdown",
   "metadata": {},
   "source": [
    "- Since the array is sorted, you can implement a basic 2 pointer solution\n",
    "    - 1 pointer will track the latest valid to check in the array\n",
    "    - The other pointer will track the position of the next valid value of the array\n",
    "\n",
    "    - When we first encounter a duplicate\n",
    "        - keep pointer 1 at the duplicate's position\n",
    "        - increment pointer 2 until you see a non-duplicate value\n",
    "        - swap the value at pointer 2 with pointer 1\n",
    "        - increment pointer 1 and pointer 2\n",
    "        - continue comparing the value at pointer 1 with pointer 2\n",
    "        - once pointer 2 reaches the end of the array, return index of pointer 1\n",
    "\n",
    "- This solution runs in $O(N)$ time, and uses $O(1)$ memory since it modifies the input array in place\n",
    "\n",
    "- Solution Sketch\n",
    "    - Array [0,0,1,1,1,2,2,3,3,4]\n",
    "        - Create hashset `H`\n",
    "        - pointer 1 and 2 are both at index 0\n",
    "            - Add value at index 0 to `H`\n",
    "            - Array is [0,0,1,1,1,2,2,3,3,4]\n",
    "            - `H` is [0]\n",
    "        - pointer 1 and 2 are at index 1\n",
    "            - value at index 1 is in `H`\n",
    "            - increment pointer 2 until it reaches a value not in `H`, in this case when it reaches index 2\n",
    "            - Swap pointer 2 and pointer 1 values\n",
    "            - Add new value at pointer 1 to `H`\n",
    "            - Array is [0,1,0,1,1,2,2,3,3,4]\n",
    "            - `H` is [0,1]\n",
    "        - pointer 1 is at index 2 and pointer 2 is at index 3\n",
    "            - value at pointer 2 is in `H`, increment to 4\n",
    "            - still in `H`, increment to 5\n",
    "            - swap index 5 with index 2\n",
    "            - Array is [0,1,2,1,1,0,2,3,3,4]\n",
    "            - `H` is [0,1,2]\n",
    "        - pointer 1 is at index 3 and pointer 2 is at index 6\n",
    "            - value at pointer 2 is in `H`, increment to 7\n",
    "            - swap index 7 with index 3\n",
    "            - Array is [0,1,2,3,1,0,2,1,3,4]\n",
    "            - `H` is [0,1,2,3]\n",
    "        - pointer 1 is at index 4 and pointer 2 is at index 8\n",
    "            - value at pointer 2 is in `H`, increment to 9\n",
    "            - swap index 9 with index 4\n",
    "            - Array is [0,1,2,3,4,0,2,1,3,1]\n",
    "            - `H` is [0,1,2,3,4]\n",
    "        - pointer2 == len(input_arr), terminate\n",
    "        - Return pointer1 + 1 = 5 (because pointer1 is an index, but you want to return size of subarray, so +1)\n"
   ]
  },
  {
   "cell_type": "code",
   "execution_count": 36,
   "metadata": {},
   "outputs": [],
   "source": [
    "class Solution:\n",
    "    def removeDuplicates(self, nums: list[int]) -> int:\n",
    "        pointer1, pointer2 = 0,0\n",
    "        vals_seen = set()\n",
    "        while pointer2 < len(nums):\n",
    "            while (pointer2 < len(nums)) and (nums[pointer2] in vals_seen):\n",
    "                pointer2 += 1\n",
    "            \n",
    "            if pointer2 >= len(nums):\n",
    "                break\n",
    "            \n",
    "            if pointer1 != pointer2:\n",
    "                nums[pointer1], nums[pointer2] = nums[pointer2], nums[pointer1]\n",
    "            \n",
    "            vals_seen.add(nums[pointer1])\n",
    "            \n",
    "            pointer1 += 1\n",
    "            pointer2 += 1\n",
    "            \n",
    "        return pointer1"
   ]
  },
  {
   "cell_type": "code",
   "execution_count": 37,
   "metadata": {},
   "outputs": [
    {
     "data": {
      "text/plain": [
       "1"
      ]
     },
     "execution_count": 37,
     "metadata": {},
     "output_type": "execute_result"
    }
   ],
   "source": [
    "soln = Solution()\n",
    "# soln.removeDuplicates([0,0,1,1,1,2,2,3,3,4])\n",
    "# soln.removeDuplicates([1,1,2])\n",
    "soln.removeDuplicates([1,1])"
   ]
  },
  {
   "cell_type": "markdown",
   "metadata": {},
   "source": [
    "## Review"
   ]
  },
  {
   "cell_type": "markdown",
   "metadata": {},
   "source": [
    "- More or less correct, you had some problems with your incrementing because you were referencing list values when pointer2 exceeded the end of the list\n",
    "\n",
    "- Remember, put the break check condition as early as possible\n",
    "\n",
    "- You also use a set unnecessarily, making your memory less complex than needed"
   ]
  },
  {
   "cell_type": "markdown",
   "metadata": {},
   "source": []
  }
 ],
 "metadata": {
  "kernelspec": {
   "display_name": "dsa_prep",
   "language": "python",
   "name": "python3"
  },
  "language_info": {
   "codemirror_mode": {
    "name": "ipython",
    "version": 3
   },
   "file_extension": ".py",
   "mimetype": "text/x-python",
   "name": "python",
   "nbconvert_exporter": "python",
   "pygments_lexer": "ipython3",
   "version": "3.12.5"
  }
 },
 "nbformat": 4,
 "nbformat_minor": 2
}
