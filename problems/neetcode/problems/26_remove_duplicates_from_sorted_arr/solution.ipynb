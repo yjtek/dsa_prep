{
 "cells": [
  {
   "cell_type": "markdown",
   "metadata": {},
   "source": [
    "## Main"
   ]
  },
  {
   "cell_type": "markdown",
   "metadata": {},
   "source": [
    "- The array is sorted\n",
    "\n",
    "- Keep track of the position you are current replacing, starting from 1 (because the 0-th index will be added with certainty). Let's call this `A`\n",
    "\n",
    "- We iterate a pointer from 1 to `len(arr)`, let's call this `B`\n",
    "\n",
    "- At every position of `B`, check if the value at `B` is equal to the value before it\n",
    "    - If it is not equal, `B` is a unique value\n",
    "    - So add the unique value into position `A` (starting from position 1, because position 0 must be a unique value)\n",
    "    - Then increment `A` as the next value to be replaced\n",
    "    - Finally, return `A`, which will give you the length of the unique array\n",
    "\n",
    "- Sketch of solution\n",
    "    - nums = [0,0,1,1,1,2,2,3,3,4]\n",
    "        - A = 1, B = 1, nums = [0,0,1,1,1,2,2,3,3,4]\n",
    "            - nums[B] == nums[B-1] (i.e. 0==0)\n",
    "            - So continue on loop\n",
    "        - A = 1, B = 2, nums = [0,0,1,1,1,2,2,3,3,4]\n",
    "            - nums[B] != nums[B-1] (i.e. 1!=0)\n",
    "            - So set nums[A] = 1\n",
    "            - Set A = A + 1 = 2\n",
    "        - A = 2, B = 3, nums = [0,1,1,1,1,2,2,3,3,4]\n",
    "            - nums[B] == nums[B-1] (i.e. 1==1)\n",
    "            - continue\n",
    "        - A = 2, B = 4, nums = [0,1,1,1,1,2,2,3,3,4]\n",
    "            - nums[B] == nums[B-1] (i.e. 1==1)\n",
    "            - continue\n",
    "        - A = 2, B = 5, nums = [0,1,1,1,1,2,2,3,3,4]\n",
    "            - nums[B] != nums[B-1] (i.e. 2!=1)\n",
    "            - Set nums[A] = 2\n",
    "            - Increment A to 3\n",
    "        - A = 3, B = 6, nums = [0,1,2,1,1,2,2,3,3,4]\n",
    "            - nums[B] == nums[B-1] (i.e. 2==2)\n",
    "            - continue\n",
    "        - A = 3, B = 7, nums = [0,1,2,1,1,2,2,3,3,4]\n",
    "            - nums[B] != nums[B-1] (i.e. 3!=2)\n",
    "            - Set nums[A] = 3\n",
    "            - Increment A to 4\n",
    "        - A = 4, B = 8, nums = [0,1,2,1,1,2,2,3,3,4]\n",
    "            - nums[B] == nums[B-1] (i.e. 3==3)\n",
    "            - continue\n",
    "        - A = 4, B = 9, nums = [0,1,2,1,1,2,2,3,3,4]\n",
    "            - nums[B] != nums[B-1] (i.e. 4!=3)\n",
    "            - Set nums[A] = 4\n",
    "            - Increment A to 5\n",
    "        - Return 5\n",
    "    - nums = [0,1,2,2,3]\n",
    "        - A = 1, B = 1, nums = [0,1,2,2,3]\n",
    "            - nums[B] != nums[B-1] (i.e. 1!=0)\n",
    "            - So set nums[A] = 1\n",
    "            - Set A = A + 1 = 2\n",
    "        - A = 2, B = 2, nums = [0,1,2,2,3]\n",
    "            - nums[B] != nums[B-1] (i.e. 2!=1)\n",
    "            - So set nums[A] = 2\n",
    "            - Set A = A + 1 = 3\n",
    "        - ..."
   ]
  },
  {
   "cell_type": "code",
   "execution_count": null,
   "metadata": {},
   "outputs": [],
   "source": [
    "class Solution:\n",
    "    def removeDuplicates(self, nums: list[int]) -> int:\n",
    "        if len(nums) in [0,1]:\n",
    "            return len(nums)\n",
    "        \n",
    "        A = 1\n",
    "        for B in range(1, len(nums)):\n",
    "            if nums[B] != nums[B-1]:\n",
    "                nums[A] = nums[B]\n",
    "                A += 1\n",
    "        return A"
   ]
  },
  {
   "cell_type": "code",
   "execution_count": null,
   "metadata": {},
   "outputs": [
    {
     "data": {
      "text/plain": [
       "1"
      ]
     },
     "metadata": {},
     "output_type": "display_data"
    }
   ],
   "source": [
    "soln = Solution()\n",
    "# soln.removeDuplicates([0,0,1,1,1,2,2,3,3,4])\n",
    "# soln.removeDuplicates([1,1,2])\n",
    "soln.removeDuplicates([1,1])"
   ]
  }
 ],
 "metadata": {
  "kernelspec": {
   "display_name": "dsa_prep",
   "language": "python",
   "name": "python3"
  },
  "language_info": {
   "codemirror_mode": {
    "name": "ipython",
    "version": 3
   },
   "file_extension": ".py",
   "mimetype": "text/x-python",
   "name": "python",
   "nbconvert_exporter": "python",
   "pygments_lexer": "ipython3",
   "version": "3.10.13"
  }
 },
 "nbformat": 4,
 "nbformat_minor": 2
}
