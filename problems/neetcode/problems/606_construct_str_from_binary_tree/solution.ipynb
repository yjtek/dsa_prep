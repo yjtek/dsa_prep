{
 "cells": [
  {
   "cell_type": "markdown",
   "metadata": {},
   "source": [
    "## Main"
   ]
  },
  {
   "cell_type": "markdown",
   "metadata": {},
   "source": [
    "- There are 2 main concepts to understand here\n",
    "    - How to do preorder traversal\n",
    "    - What string to add at each preorder traversal step\n",
    "\n",
    "- We will address both concepts before implementation"
   ]
  },
  {
   "cell_type": "code",
   "execution_count": 1,
   "metadata": {},
   "outputs": [],
   "source": [
    "# Definition for a binary tree node.\n",
    "class TreeNode:\n",
    "    def __init__(self, val=0, left=None, right=None):\n",
    "        self.val = val\n",
    "        self.left = left\n",
    "        self.right = right"
   ]
  },
  {
   "cell_type": "code",
   "execution_count": 6,
   "metadata": {},
   "outputs": [],
   "source": [
    "one = TreeNode(1)\n",
    "two = TreeNode(2)\n",
    "three = TreeNode(3)\n",
    "four = TreeNode(4)\n",
    "five = TreeNode(5)\n",
    "six = None\n",
    "seven = TreeNode(7)\n",
    "\n",
    "one.left = two\n",
    "one.right = three\n",
    "two.left = four\n",
    "two.right = five\n",
    "three.left = six\n",
    "three.right = seven"
   ]
  },
  {
   "cell_type": "markdown",
   "metadata": {},
   "source": [
    "### How to do preorder traversal?"
   ]
  },
  {
   "cell_type": "markdown",
   "metadata": {},
   "source": [
    "- Can be done iteratively, or recursively\n",
    "- We will implement both, but the idea is the same\n",
    "\n",
    "- In the iterative way, we just init a stack to handle the order. In the recursive way, the built in stack memory handles this for us"
   ]
  },
  {
   "cell_type": "markdown",
   "metadata": {},
   "source": [
    "#### Recursive"
   ]
  },
  {
   "cell_type": "markdown",
   "metadata": {},
   "source": [
    "- Recursive traversal uses stack memory to traverse a tree\n",
    "\n",
    "- We recursively call `curr.left`, then `curr.right`, with the base case of `None` returning nothing"
   ]
  },
  {
   "cell_type": "code",
   "execution_count": 14,
   "metadata": {},
   "outputs": [
    {
     "name": "stdout",
     "output_type": "stream",
     "text": [
      "[1, 2, 4, 5, 3, 7]\n"
     ]
    }
   ],
   "source": [
    "traversed_val = []\n",
    "\n",
    "def preorder_traverse_recursive(root: TreeNode):\n",
    "    if root is None:\n",
    "        return\n",
    "    \n",
    "    traversed_val.append(root.val)\n",
    "    preorder_traverse_recursive(root.left)\n",
    "    preorder_traverse_recursive(root.right)\n",
    "    \n",
    "preorder_traverse_recursive(one)\n",
    "print(traversed_val)"
   ]
  },
  {
   "cell_type": "markdown",
   "metadata": {},
   "source": [
    "#### Iterative"
   ]
  },
  {
   "cell_type": "markdown",
   "metadata": {},
   "source": [
    "- Iterative pre-order traversal is the same idea as recursive. Except instead of just using recursion to automatically manage the order of traversal, you use a stack to maintain it manually"
   ]
  },
  {
   "cell_type": "code",
   "execution_count": 16,
   "metadata": {},
   "outputs": [
    {
     "name": "stdout",
     "output_type": "stream",
     "text": [
      "[1, 2, 4, 5, 3, 7]\n"
     ]
    }
   ],
   "source": [
    "traversed_val = []\n",
    "\n",
    "def preorder_traverse_iterative(root: TreeNode):\n",
    "    stack = [root]\n",
    "    while stack:\n",
    "        curr = stack.pop()\n",
    "        traversed_val.append(curr.val)\n",
    "        if curr.right:\n",
    "            stack.append(curr.right)\n",
    "        if curr.left:\n",
    "            stack.append(curr.left)\n",
    "\n",
    "preorder_traverse_iterative(one)\n",
    "print(traversed_val)"
   ]
  },
  {
   "cell_type": "markdown",
   "metadata": {},
   "source": [
    "### Answering the question"
   ]
  },
  {
   "cell_type": "markdown",
   "metadata": {},
   "source": [
    "- In this specific question, we are using the same preorder traversal pattern. But instead of appending the `val` into the result list, we will create a unique string from the result list instead\n",
    "\n",
    "- Let's try to create a solution with both the interative and the recursive solutions"
   ]
  },
  {
   "cell_type": "markdown",
   "metadata": {},
   "source": [
    "- Recursive\n",
    "    - Imagine that we do the same thing that we did above: append each value we visit to the result list\n",
    "    \n",
    "    - Try for [1,2,3,4]    \n",
    "        - The resulting string (in the case of [1,2,3,4]) becomes \"1243\"\n",
    "        - However, we want \"1(2(4))(3)\"\n",
    "        - Attempt 1:\n",
    "            - For the \"1\", we add \"1(\", then recursively call next\n",
    "            - For the \"2\", we add \"2(\", then recursively call next\n",
    "            - For the \"4\", we add \"4(\", then recursively call next\n",
    "            - So far, this gives us \"1(2(4(\"\n",
    "        \n",
    "        - This is wrong; because in \"4\" we have an extra opening bracket\n",
    "            - So instead, if node is a leaf (i.e. node.left and node.right are None), then add \"X)\" instead\n",
    "\n",
    "        - Attempt 2:\n",
    "            - For the \"1\", we add \"1(\", then recursively call next\n",
    "            - For the \"2\", we add \"2(\", then recursively call next\n",
    "            - For the \"4\", we add \"4\" because it is a leaf\n",
    "            - So far, this gives us \"1(2(4\"\n",
    "            - Finally we close 4 \"1(2(4)\" \n",
    "            - Finally we close 2 \"1(2(4))\"\n",
    "            - Finally we close 1 \"1(2(4)))\"\n",
    "            - Next we add \"3(\", \"1(2(4)))3(\"\n",
    "            - Then we close 3 \"1(2(4)))3()\"\n",
    "\n",
    "        - This is still wrong, because we don't bracket the right values\n",
    "\n",
    "        - Attempt 3:\n",
    "            - For the \"1\", we add \"(1\", then recursively call next\n",
    "            - For the \"2\", we add \"(2\", then recursively call next\n",
    "            - For the \"4\", we add \"(4\" because it is a leaf\n",
    "            - So far, this gives us \"(1(2(4\"\n",
    "            - Close 4 \"(1(2(4)\"\n",
    "            - Close 2 \"(1(2(4))\"\n",
    "            - Next we add \"(3\", \"(1(2(4))(3\"\n",
    "            - Then we close 3 \"(1(2(4)))(3)\"\n",
    "            - Then close 1 \"(1(2(4)))(3))\"\n",
    "            - Ignoring the first and last characters, this is exactly the string we want \"1(2(4))(3)\"\n",
    "\n",
    "    - Try for [1,2,3,None,4]\n",
    "        - The resulting string (in the case of [1,2,3,None,4]) becomes \"1243\"\n",
    "        - However, we want \"1(2()(4))(3)\"\n",
    "        - Attempt 1:\n",
    "            - For the \"1\", we add \"(1\", then recursively call next \"(1\"\n",
    "            - For the \"2\", we add \"(2\", then recursively call next \"(1(2\"\n",
    "            - Since \"2\" left is empty and right is not empty, then append \"()\" \"(1(2()\"\n",
    "            - For the \"4\", we add \"(4\", \"(1(2()(4\"\n",
    "            - Close 4 \"(1(2()(4)\"\n",
    "            - Close 2 \"(1(2()(4))\"\n",
    "            - Next we add \"(3\", \"(1(2()(4))(3\"\n",
    "            - Then we close 3 \"(1(2()(4))(3)\"\n",
    "            - Close 1 \"(1(2()(4))(3))\"\n",
    "            - Ignoring the first and last character3, this is exactly the string we want \"1(2()(4))(3)\""
   ]
  },
  {
   "cell_type": "code",
   "execution_count": 24,
   "metadata": {},
   "outputs": [
    {
     "data": {
      "text/plain": [
       "'1(2(4)(5))(3()(7))'"
      ]
     },
     "execution_count": 24,
     "metadata": {},
     "output_type": "execute_result"
    }
   ],
   "source": [
    "from typing import Optional\n",
    "from collections import deque\n",
    "\n",
    "class Solution:\n",
    "    def tree2str_recursive(self, root: Optional[TreeNode]) -> str:\n",
    "        result = []\n",
    "        \n",
    "        def traverse(root: Optional[TreeNode]):\n",
    "            if not root:\n",
    "                return ')'\n",
    "\n",
    "            result.append(f\"({root.val}\")\n",
    "            if (not root.left) and root.right:\n",
    "                result.append('()')\n",
    "            else:\n",
    "                traverse(root.left)\n",
    "            traverse(root.right)\n",
    "            result.append(')')\n",
    "\n",
    "        traverse(root)\n",
    "        return ''.join(result)[1:-1]\n",
    "    \n",
    "soln = Solution()\n",
    "soln.tree2str_recursive(one)"
   ]
  },
  {
   "cell_type": "markdown",
   "metadata": {},
   "source": [
    "- Iterative\n",
    "    - Add a stack to track order of node traversal\n",
    "        - For each node\n",
    "            - Append right \n",
    "            - Append a close bracket\n",
    "            - Append left\n",
    "            - This is so that, when you pop, you always pop left, then right\n",
    "            - And if you have nested nodes, then it goes \"root, right, left, left.right, left.left, ...\"\n",
    "        \n",
    "    - To build the string, we need to know whether the current node is a \"left\" or \"right node\"\n",
    "        - Add \"(X\" where X is the node value\n",
    "        - If it is a right node, add a closing brace after completing \")\"\n",
    "        - When you encounter a situation where the node.left is None, but node.right is not None, then before appending node.left, append a `()`\n",
    "        \n",
    "\n",
    "    - Try for [1,2,3,4]\n",
    "        - Iter1\n",
    "            - Queue Start: [),1]\n",
    "            - Pop 1, String: \"(1\", [)]\n",
    "            - Append right [),),3]\n",
    "            - Append left [),),3,),2]\n",
    "        - Iter2\n",
    "            - Queue Start: [),),3,),2]\n",
    "            - Pop 2, String: \"(1(2\", [),),3,)]\n",
    "            - Append right None [),),3,)]\n",
    "            - Append left [),),3,),),4]\n",
    "        - Iter3\n",
    "            - Queue Start: [),),3,),),4]\n",
    "            - Pop 4, String: \"(1(2(4\", [),),3,),)]\n",
    "            - No left or right\n",
    "        - Iter4\n",
    "            - Queue Start: [),),3,),)]\n",
    "            - Pop ), String: \"(1(2(4)\", [),),3,)]\n",
    "        - Iter5\n",
    "            - Queue Start: [),),3,)]\n",
    "            - Pop ), String: \"(1(2(4))\", [),),3]\n",
    "        - Iter6\n",
    "            - Queue Start: [),),3]\n",
    "            - Pop 3, String: \"(1(2(4))(3\", [),)]\n",
    "            - No left or right\n",
    "        - Iter7\n",
    "            - Queue Start: [),)]\n",
    "            - Pop ), String: \"(1(2(4))(3)\", [)]\n",
    "        - Iter8\n",
    "            - Queue Start: [)]\n",
    "            - Pop ), String: \"(1(2(4))(3))\", []\n",
    "\n",
    "    - Try for [1,2,3,None,4]\n",
    "        - Iter1\n",
    "            - Queue Start: [),1]\n",
    "            - Pop 1, String: \"(1\", [)]\n",
    "            - Append right [),),3]\n",
    "            - Append left [),),3,),2]\n",
    "        - Iter2\n",
    "            - Queue Start: [),),3,),2]\n",
    "            - Pop 2, String: \"(1(2\", [),),3,)]\n",
    "            - Append right [),),3,),),4]\n",
    "            - Append left [),),3,),),4,()]\n",
    "                - Left none but right not none, append `()`\n",
    "        - Iter3\n",
    "            - Queue Start: [),),3,),),4,()]\n",
    "            - Pop (), String: \"(1(2()\", [),),3,),),4]\n",
    "        - Iter4\n",
    "            - Queue Start: [),),3,),),4]\n",
    "            - Pop 4, String: \"(1(2()(4\", [),),3,),)]\n",
    "            - No left or right\n",
    "        - Iter5\n",
    "            - Queue Start: [),),3,),)]\n",
    "            - Pop ), String: \"(1(2()(4)\", [),),3,)]\n",
    "        - Iter6\n",
    "            - Queue Start: [),),3,)]\n",
    "            - Pop ), String: \"(1(2()(4))\", [),),3]\n",
    "        - Iter7\n",
    "            - Queue Start: [),),3]\n",
    "            - Pop 3, String: \"(1(2()(4))(3\", [),)]\n",
    "            - No left or right\n",
    "        - Iter8\n",
    "            - Queue Start: [),)]\n",
    "            - Pop ), String: \"(1(2()(4))(3)\", [)]\n",
    "        - Iter8\n",
    "            - Queue Start: [)]\n",
    "            - Pop ), String: \"(1(2()(4))(3))\", []\n",
    "        "
   ]
  },
  {
   "cell_type": "code",
   "execution_count": 31,
   "metadata": {},
   "outputs": [],
   "source": [
    "one = TreeNode(1)\n",
    "two = TreeNode(2)\n",
    "three = TreeNode(3)\n",
    "four = None\n",
    "five = TreeNode(4)\n",
    "\n",
    "one.left = two\n",
    "one.right = three\n",
    "two.left = four\n",
    "two.right = five"
   ]
  },
  {
   "cell_type": "code",
   "execution_count": 39,
   "metadata": {},
   "outputs": [
    {
     "data": {
      "text/plain": [
       "'1(2()(4))(3)'"
      ]
     },
     "execution_count": 39,
     "metadata": {},
     "output_type": "execute_result"
    }
   ],
   "source": [
    "from typing import Optional\n",
    "from collections import deque\n",
    "\n",
    "class Solution:\n",
    "    def tree2str_iterative(self, root: Optional[TreeNode]) -> str:\n",
    "        result = []\n",
    "        queue = [\n",
    "            ')',\n",
    "            root\n",
    "        ]\n",
    "        while queue:\n",
    "            # print(queue)\n",
    "            curr = queue.pop()\n",
    "            if not isinstance(curr, TreeNode):\n",
    "                result.append(curr)\n",
    "                continue\n",
    "\n",
    "            result.append(f\"({curr.val}\")\n",
    "            # print(result)\n",
    "            \n",
    "            if curr.right:\n",
    "                queue.append(')')\n",
    "                queue.append(curr.right)\n",
    "            # print(queue)\n",
    "\n",
    "            if curr.left:\n",
    "                queue.append(')')\n",
    "                queue.append(curr.left)\n",
    "            elif curr.right and (not curr.left):\n",
    "                queue.append('()')\n",
    "\n",
    "            # print(queue)\n",
    "\n",
    "        return ''.join(result)[1:-1]\n",
    "                \n",
    "soln = Solution()\n",
    "soln.tree2str_iterative(one)"
   ]
  },
  {
   "cell_type": "code",
   "execution_count": null,
   "metadata": {},
   "outputs": [],
   "source": []
  }
 ],
 "metadata": {
  "kernelspec": {
   "display_name": "dsa_prep",
   "language": "python",
   "name": "python3"
  },
  "language_info": {
   "codemirror_mode": {
    "name": "ipython",
    "version": 3
   },
   "file_extension": ".py",
   "mimetype": "text/x-python",
   "name": "python",
   "nbconvert_exporter": "python",
   "pygments_lexer": "ipython3",
   "version": "3.12.6"
  }
 },
 "nbformat": 4,
 "nbformat_minor": 2
}
