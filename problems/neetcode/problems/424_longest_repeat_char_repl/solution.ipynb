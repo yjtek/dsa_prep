{
 "cells": [
  {
   "cell_type": "markdown",
   "metadata": {},
   "source": [
    "## Main"
   ]
  },
  {
   "cell_type": "markdown",
   "metadata": {},
   "source": [
    "- The idea here is quite simple, we start by looking at a single character in `s`, and we iterate through s incrementing the window rightwards\n",
    "\n",
    "- For every substring, maintain a hashmap to count every character that we encounter\n",
    "\n",
    "- If the length of the substring minus the count of the most frequent character is less than `k`, then it must be possible to change characters such that they are all the same\n",
    "\n",
    "- Otherwise, shift your window 1 to the right (if possible)"
   ]
  },
  {
   "cell_type": "code",
   "execution_count": 5,
   "metadata": {},
   "outputs": [],
   "source": [
    "class Solution:\n",
    "    def characterReplacement(self, s: str, k: int) -> int:\n",
    "        l, r = 0, 0\n",
    "        counter = {}\n",
    "        maxcount = 0\n",
    "        res = 0\n",
    "        while r < len(s):\n",
    "            counter[s[r]] = 1 + counter.get(s[r], 0)\n",
    "            if counter[s[r]] > maxcount:\n",
    "                maxcount = counter[s[r]]\n",
    "\n",
    "            if (r-l+1) - maxcount <= k:\n",
    "                res = max(res, r-l+1)\n",
    "                r += 1\n",
    "            else:\n",
    "                counter[s[l]] -= 1\n",
    "                l += 1\n",
    "                r += 1\n",
    "        return res"
   ]
  },
  {
   "cell_type": "code",
   "execution_count": 6,
   "metadata": {},
   "outputs": [
    {
     "data": {
      "text/plain": [
       "4"
      ]
     },
     "execution_count": 6,
     "metadata": {},
     "output_type": "execute_result"
    }
   ],
   "source": [
    "s = Solution()\n",
    "s.characterReplacement('ABAB', 2)\n",
    "s.characterReplacement('AABABBA', 1)\n",
    "# s.characterReplacement('AAAA', 0)"
   ]
  }
 ],
 "metadata": {
  "kernelspec": {
   "display_name": "dsa_prep",
   "language": "python",
   "name": "python3"
  },
  "language_info": {
   "codemirror_mode": {
    "name": "ipython",
    "version": 3
   },
   "file_extension": ".py",
   "mimetype": "text/x-python",
   "name": "python",
   "nbconvert_exporter": "python",
   "pygments_lexer": "ipython3",
   "version": "3.12.8"
  }
 },
 "nbformat": 4,
 "nbformat_minor": 2
}
