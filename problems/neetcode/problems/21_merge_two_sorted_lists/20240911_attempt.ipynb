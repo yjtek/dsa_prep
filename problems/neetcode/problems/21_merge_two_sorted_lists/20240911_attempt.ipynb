{
 "cells": [
  {
   "cell_type": "markdown",
   "metadata": {},
   "source": [
    "## [Fail] Main"
   ]
  },
  {
   "cell_type": "markdown",
   "metadata": {},
   "source": [
    "- Since the linked lists are already sorted, you can basically iterate through both linked lists at the same time\n",
    "\n",
    "- Solution sketch:\n",
    "    - Create 2 pointers, each starting at the head of the 2 linked lists\n",
    "    - If the value at list1 is smaller, recursively call mergeList on list1.next, and the list2 pointer\n",
    "    - Iterate until list 1 or list 2 is empty, then append the remaining items from the other list to the end\n",
    "\n",
    "    - This will run in $O(max(m,n))$ time, and $O(m+n)$ memory due to stack memory used for recursion"
   ]
  },
  {
   "cell_type": "code",
   "execution_count": 31,
   "metadata": {},
   "outputs": [],
   "source": [
    "from typing import Optional\n",
    "\n",
    "# Definition for singly-linked list.\n",
    "class ListNode:\n",
    "    def __init__(self, val=0, next=None):\n",
    "        self.val = val\n",
    "        self.next = next\n",
    "\n",
    "class Solution:\n",
    "    def mergeTwoLists(self, list1: Optional[ListNode], list2: Optional[ListNode]) -> Optional[ListNode]:\n",
    "        if (not list1) and (not list2):\n",
    "            return None\n",
    "        if not list1:\n",
    "            return list2\n",
    "        if not list2:\n",
    "            return list1\n",
    "        \n",
    "        if list1.val >= list2.val:\n",
    "            next_listnode = self.mergeTwoLists(list1, list2.next)\n",
    "            list2.next = next_listnode\n",
    "            return list2\n",
    "        else:\n",
    "            next_listnode = self.mergeTwoLists(list1.next, list2)\n",
    "            list1.next = next_listnode\n",
    "            return list1\n",
    "        "
   ]
  },
  {
   "cell_type": "code",
   "execution_count": 30,
   "metadata": {},
   "outputs": [
    {
     "data": {
      "text/plain": [
       "[]"
      ]
     },
     "execution_count": 30,
     "metadata": {},
     "output_type": "execute_result"
    }
   ],
   "source": [
    "l1_1 = ListNode(1)\n",
    "l1_2 = ListNode(2)\n",
    "l1_3 = ListNode(4)\n",
    "\n",
    "l2_1 = ListNode(1)\n",
    "l2_2 = ListNode(3)\n",
    "l2_3 = ListNode(4)\n",
    "\n",
    "l1_1.next = l1_2\n",
    "l1_2.next = l1_3\n",
    "l2_1.next = l2_2\n",
    "l2_2.next = l2_3\n",
    "\n",
    "soln = Solution()\n",
    "head = soln.mergeTwoLists(l1_1, l2_1)\n",
    "head = soln.mergeTwoLists([], [])\n",
    "\n",
    "# while head:\n",
    "#     print(head.val)\n",
    "#     head = head.next\n"
   ]
  },
  {
   "cell_type": "markdown",
   "metadata": {},
   "source": [
    "## Review"
   ]
  },
  {
   "cell_type": "markdown",
   "metadata": {},
   "source": [
    "- Your solution's time complexity is correct, since it is $O(max(m,n))$\n",
    "- But the memory complexity is unnecessarily large due to the recursive call, which incurs stack memory\n",
    "    - Instead, you can use a 2 pointer approach which doesn't require extra memory, so memory use can be $O(1)$"
   ]
  },
  {
   "cell_type": "markdown",
   "metadata": {},
   "source": []
  }
 ],
 "metadata": {
  "kernelspec": {
   "display_name": "dsa_prep",
   "language": "python",
   "name": "python3"
  },
  "language_info": {
   "codemirror_mode": {
    "name": "ipython",
    "version": 3
   },
   "file_extension": ".py",
   "mimetype": "text/x-python",
   "name": "python",
   "nbconvert_exporter": "python",
   "pygments_lexer": "ipython3",
   "version": "3.10.13"
  }
 },
 "nbformat": 4,
 "nbformat_minor": 2
}
