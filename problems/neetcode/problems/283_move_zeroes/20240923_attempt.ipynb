{
 "cells": [
  {
   "cell_type": "markdown",
   "metadata": {},
   "source": [
    "## Main"
   ]
  },
  {
   "cell_type": "markdown",
   "metadata": {},
   "source": [
    "- Maintain 2 pointers\n",
    "    - `p1`: where to put a non-zero value, should there be one\n",
    "    - `p2`: current index\n",
    "    - At the start, `p1 = 0, p2 = 0`\n",
    "\n",
    "- `while (p2 < len(nums))`\n",
    "    - `if nums[p2] == 0:`\n",
    "        - `p2 += 1`\n",
    "        - `continue`\n",
    "    - swap nums[p1] and nums[p2]\n",
    "    - p1 += 1, p2 += 1"
   ]
  },
  {
   "cell_type": "code",
   "execution_count": 11,
   "metadata": {},
   "outputs": [
    {
     "data": {
      "text/plain": [
       "[1, 3, 12, 0, 0]"
      ]
     },
     "execution_count": 11,
     "metadata": {},
     "output_type": "execute_result"
    }
   ],
   "source": [
    "class Solution:\n",
    "    def moveZeroes(self, nums: list[int]) -> None:\n",
    "        \"\"\"\n",
    "        Do not return anything, modify nums in-place instead.\n",
    "        \"\"\"\n",
    "        p1 = 0\n",
    "        while nums[p1] != 0:\n",
    "            p1 += 1\n",
    "            if p1 == len(nums):\n",
    "                return\n",
    "\n",
    "        p2 = p1+1\n",
    "        while p2 < len(nums):\n",
    "            if nums[p2] == 0:\n",
    "                p2 += 1\n",
    "                continue\n",
    "            \n",
    "            nums[p1], nums[p2] = nums[p2], nums[p1]\n",
    "            p1 += 1\n",
    "            p2 += 1\n",
    "\n",
    "test = [0,1,0,3,12]\n",
    "soln = Solution()\n",
    "soln.moveZeroes(test)\n",
    "test"
   ]
  },
  {
   "cell_type": "markdown",
   "metadata": {},
   "source": [
    "## Followup"
   ]
  },
  {
   "cell_type": "markdown",
   "metadata": {},
   "source": [
    "- This is pretty much minimized..."
   ]
  },
  {
   "cell_type": "markdown",
   "metadata": {},
   "source": [
    "## Review"
   ]
  },
  {
   "cell_type": "markdown",
   "metadata": {},
   "source": [
    "- You missed out on a cleaner solution\n",
    "- Two pointers is correct, but you just need to iterate the right pointer and swap every non zero to the front, instead of swapping every 0 to the back"
   ]
  },
  {
   "cell_type": "markdown",
   "metadata": {},
   "source": []
  }
 ],
 "metadata": {
  "kernelspec": {
   "display_name": "dsa_prep",
   "language": "python",
   "name": "python3"
  },
  "language_info": {
   "codemirror_mode": {
    "name": "ipython",
    "version": 3
   },
   "file_extension": ".py",
   "mimetype": "text/x-python",
   "name": "python",
   "nbconvert_exporter": "python",
   "pygments_lexer": "ipython3",
   "version": "3.12.5"
  }
 },
 "nbformat": 4,
 "nbformat_minor": 2
}
