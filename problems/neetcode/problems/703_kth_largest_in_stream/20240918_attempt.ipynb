{
 "cells": [
  {
   "cell_type": "markdown",
   "metadata": {},
   "source": [
    "## Main"
   ]
  },
  {
   "cell_type": "markdown",
   "metadata": {},
   "source": [
    "- Let's suppose $k=5$\n",
    "\n",
    "- Let's suppose we have an array holding all test scores\n",
    "\n",
    "- Approach: Create sorted array\n",
    "    - If the array is sorted, we can just extract the $k$-th highest score in $O(1)$ time\n",
    "    - But you need to traverse the array to find the right insertion spot for each insert, which will take $O(N)$ time\n",
    "\n",
    "- Approach 2: Use a heap?\n",
    "    - I can create a min heap of size $k$\n",
    "    - Then the root of the heap will always contain  the $k$-th biggest element\n",
    "    - Insertion into a min-heap incurs $O(\\log N)$ time\n",
    "        - Every time I insert, if the heap size exceeds $k$, I just delete the root node in $O(\\log N)$ until I get my it back to size $k$\n",
    "    - Deletion is also $O(\\log N)$ time\n",
    "    - Heap will take $O(k)$ memory"
   ]
  },
  {
   "cell_type": "code",
   "execution_count": 42,
   "metadata": {},
   "outputs": [],
   "source": [
    "import heapq\n",
    "\n",
    "class KthLargest:\n",
    "\n",
    "    def __init__(self, k: int, nums: list[int]):\n",
    "        self.k=k\n",
    "        self.nums= nums\n",
    "        heapq.heapify(self.nums)\n",
    "        while len(self.nums) > k:\n",
    "            heapq.heappop(self.nums)\n",
    "\n",
    "    def add(self, val: int) -> int:\n",
    "        self.nums.append(val)\n",
    "        heapq.heapify(self.nums)\n",
    "        while len(self.nums) > self.k:\n",
    "            heapq.heappop(self.nums)\n",
    "        return self.nums[0]\n",
    "\n",
    "\n",
    "# Your KthLargest object will be instantiated and called as such:\n",
    "# obj = KthLargest(k, nums)\n",
    "# param_1 = obj.add(val)"
   ]
  },
  {
   "cell_type": "code",
   "execution_count": 43,
   "metadata": {},
   "outputs": [
    {
     "data": {
      "text/plain": [
       "-3"
      ]
     },
     "execution_count": 43,
     "metadata": {},
     "output_type": "execute_result"
    }
   ],
   "source": [
    "test = KthLargest(1, [])\n",
    "test.add(-3)"
   ]
  },
  {
   "cell_type": "code",
   "execution_count": null,
   "metadata": {},
   "outputs": [],
   "source": [
    "import math\n",
    "\n",
    "class MinHeap:\n",
    "    def __init__(self, input_arr: list):\n",
    "        self.heap_arr = self._heapify(input_arr)\n",
    "\n",
    "    def _left_child(self, index):\n",
    "        return 2*index + 1\n",
    "    \n",
    "    def _right_child(self, index):\n",
    "        return 2*index + 2\n",
    "\n",
    "    def _parent(self, index):\n",
    "        return (index-1)//2\n",
    "    \n",
    "    def _heapify_down(self, arr, index):\n",
    "        curr = index\n",
    "        while arr[curr] > min(arr[self._left_child(curr)], arr[self._right_child(curr)]):\n",
    "            if arr[self._left_child(curr)] < arr[self._right_child(curr)]:\n",
    "                arr[curr], arr[self._left_child(curr)] = arr[self._left_child(curr)], arr[curr]\n",
    "                curr = self._left_child(curr)\n",
    "            elif arr[self._left_child(curr)] > arr[self._right_child(curr)]:\n",
    "                arr[curr], arr[self._right_child(curr)] = arr[self._right_child(curr)], arr[curr]\n",
    "                curr = self._right_child(curr)\n",
    "        \n",
    "    def _heapify_up(self, arr, index):\n",
    "        curr = index\n",
    "        while arr[curr] < arr[self._parent(curr)]:\n",
    "            arr[curr], arr[self._parent(curr)] = arr[self._parent(curr)], arr[curr]\n",
    "            curr = self._parent(curr)\n",
    "        \n",
    "    def _heapify(self, input_arr: list):\n",
    "        last_level_index = (math.log2(arr_len)//1.0)\n",
    "        if last_level_index == 0:\n",
    "            return input_arr\n",
    "        \n",
    "        count_nodes_up_to_second_last_level = (2 ** (last_level_index)) - 1\n",
    "\n",
    "        for i in range(count_nodes_up_to_second_last_level, -1, -1):\n",
    "            self._heapify_down()\n"
   ]
  },
  {
   "cell_type": "markdown",
   "metadata": {},
   "source": [
    "## Review"
   ]
  },
  {
   "cell_type": "markdown",
   "metadata": {},
   "source": [
    "- You kind of cheated by using heapq, but it's fine\n",
    "- Focus on conceptually answering the qn"
   ]
  }
 ],
 "metadata": {
  "kernelspec": {
   "display_name": "dsa_prep",
   "language": "python",
   "name": "python3"
  },
  "language_info": {
   "codemirror_mode": {
    "name": "ipython",
    "version": 3
   },
   "file_extension": ".py",
   "mimetype": "text/x-python",
   "name": "python",
   "nbconvert_exporter": "python",
   "pygments_lexer": "ipython3",
   "version": "3.12.5"
  }
 },
 "nbformat": 4,
 "nbformat_minor": 2
}
