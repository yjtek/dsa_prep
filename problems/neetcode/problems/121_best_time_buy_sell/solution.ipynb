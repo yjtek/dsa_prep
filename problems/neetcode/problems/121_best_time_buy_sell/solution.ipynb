{
 "cells": [
  {
   "cell_type": "markdown",
   "metadata": {},
   "source": [
    "## Main"
   ]
  },
  {
   "cell_type": "markdown",
   "metadata": {},
   "source": [
    "- Idea:\n",
    "    - You only need to loop over the array once\n",
    "    \n",
    "    - Starting from point 0, consider this as your \"buy\" leg\n",
    "    - Run through all other values in the array as your sell leg\n",
    "        - If your sell leg candidates have value that exceeds point 0, maintain max_profit as `max_profit = max(prices[sell] - prices[buy], max_profit)`\n",
    "\n",
    "        - ELSE you will have found a value that is less than your buy leg. In which case, you no longer need to consider the profits from your previous buy leg \n",
    "            - Why? Because any profits have been recorded, and if there are any future profits, it must be more profitable to buy here instead of buying at the old point\n",
    "\n",
    "            - For example, imagine [5,7,1,8,2]\n",
    "                - You start with 5, and you take 7 as a sell candidate\n",
    "                - You find profit = 2\n",
    "                - Then you increment sell index to 1\n",
    "                - 1 becomes your new \"buy\" leg since 1 < 5\n",
    "                - Then your sell leg goes to 8\n",
    "                - Update profit to 8 - 1 = 7\n",
    "                - Obviously, 8 - 5 is also profitable, but it is no longer relevant because there is a better \"buy\" leg at 1\n"
   ]
  },
  {
   "cell_type": "code",
   "execution_count": 3,
   "metadata": {},
   "outputs": [
    {
     "data": {
      "text/plain": [
       "0"
      ]
     },
     "execution_count": 3,
     "metadata": {},
     "output_type": "execute_result"
    }
   ],
   "source": [
    "class Solution:\n",
    "    def maxProfit(self, prices: list[int]) -> int:\n",
    "        '''\n",
    "        O(N) time from the loop\n",
    "        O(1) space\n",
    "        '''\n",
    "        buy, sell = 0, 1\n",
    "        profit = 0\n",
    "        while sell < len(prices):\n",
    "            if prices[sell] < prices[buy]:\n",
    "                buy=sell\n",
    "            else:\n",
    "                profit = max(prices[sell] - prices[buy], profit)\n",
    "            \n",
    "            sell += 1\n",
    "        \n",
    "        return profit\n",
    "\n",
    "s = Solution()\n",
    "s.maxProfit([7,1,5,3,6,4])\n",
    "s.maxProfit([7,6,4,3,1])"
   ]
  },
  {
   "cell_type": "code",
   "execution_count": null,
   "metadata": {},
   "outputs": [],
   "source": [
    "class Solution:\n",
    "    def maxProfit(self, prices: list[int]) -> int:\n",
    "        lowest_buy = float('inf')\n",
    "        max_profit = 0\n",
    "        for price in prices:\n",
    "            if (price - lowest_buy) > max_profit:\n",
    "                max_profit = price - lowest_buy\n",
    "            if price < lowest_buy:\n",
    "                lowest_buy = price\n",
    "        return max_profit"
   ]
  }
 ],
 "metadata": {
  "kernelspec": {
   "display_name": "dsa_prep",
   "language": "python",
   "name": "python3"
  },
  "language_info": {
   "codemirror_mode": {
    "name": "ipython",
    "version": 3
   },
   "file_extension": ".py",
   "mimetype": "text/x-python",
   "name": "python",
   "nbconvert_exporter": "python",
   "pygments_lexer": "ipython3",
   "version": "3.12.8"
  }
 },
 "nbformat": 4,
 "nbformat_minor": 2
}
