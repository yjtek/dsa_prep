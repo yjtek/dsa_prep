{
 "cells": [
  {
   "cell_type": "markdown",
   "metadata": {},
   "source": [
    "## Main"
   ]
  },
  {
   "cell_type": "markdown",
   "metadata": {},
   "source": [
    "- The question only wants 1 buy and 1 sell leg\n",
    "- Idea\n",
    "    - We spend $O(N)$ time and space to go through the whole array to derive the suffix max (that is, the max value after a given index)\n",
    "    - Then, run through the array again and take suffix max minus present value.\n",
    "    - The index with the largest difference is when you want to buy"
   ]
  },
  {
   "cell_type": "code",
   "execution_count": 7,
   "metadata": {},
   "outputs": [
    {
     "data": {
      "text/plain": [
       "5"
      ]
     },
     "execution_count": 7,
     "metadata": {},
     "output_type": "execute_result"
    }
   ],
   "source": [
    "class Solution:\n",
    "    def maxProfit(self, prices: list[int]) -> int:\n",
    "        '''\n",
    "        O(N) time from the loop\n",
    "        O(N) space from the suffix max array\n",
    "        '''\n",
    "        suffix_max = [-1] * len(prices)\n",
    "        maxval = prices[-1]\n",
    "        for i in range(len(prices)-2, -1, -1):\n",
    "            suffix_max[i] = maxval\n",
    "            maxval = max(maxval, prices[i])\n",
    "        \n",
    "        profit = 0\n",
    "        for i in range(len(prices)):\n",
    "            profit = max(profit, suffix_max[i] - prices[i])\n",
    "        \n",
    "        return profit\n",
    "                    \n",
    "s = Solution()\n",
    "s.maxProfit([7,1,5,3,6,4])\n",
    "s.maxProfit([7,6,4,3,1])"
   ]
  },
  {
   "cell_type": "markdown",
   "metadata": {},
   "source": [
    "## Review"
   ]
  },
  {
   "cell_type": "markdown",
   "metadata": {},
   "source": [
    "- Your solution is correct, but we can do this in less space!\n",
    "    - The ideal solution is actually O(1) space. See `solution.ipynb`"
   ]
  }
 ],
 "metadata": {
  "kernelspec": {
   "display_name": "dsa_prep",
   "language": "python",
   "name": "python3"
  },
  "language_info": {
   "codemirror_mode": {
    "name": "ipython",
    "version": 3
   },
   "file_extension": ".py",
   "mimetype": "text/x-python",
   "name": "python",
   "nbconvert_exporter": "python",
   "pygments_lexer": "ipython3",
   "version": "3.12.8"
  }
 },
 "nbformat": 4,
 "nbformat_minor": 2
}
