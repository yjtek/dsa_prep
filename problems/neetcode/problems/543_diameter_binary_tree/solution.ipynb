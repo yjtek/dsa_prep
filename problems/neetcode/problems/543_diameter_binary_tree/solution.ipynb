{
 "cells": [
  {
   "cell_type": "markdown",
   "metadata": {},
   "source": [
    "## Main"
   ]
  },
  {
   "cell_type": "markdown",
   "metadata": {},
   "source": [
    "- What is this qn asking?\n",
    "    - The diameter of a binary tree is the number of hops you can take in its longest path \n",
    "    - The path can start anywhere and pass through any connection only once\n",
    "    - So in example 1, for binary tree [1,2,3,4,5], the longest path is 4-->2-->1-->3, which lets you do 3 hops\n",
    "\n",
    "- Because this is a binary tree, recursion comes to mind immediately\n",
    "    - Note that the question doesn't specify the tree is balanced\n",
    "\n",
    "- Since there is no balance guarantee for the tree, we can find diameter at a given node by taking the **height** (not diameter) of its left child plus **height** of its right child plus 2 (to connect from left subtree to right subtree)\n",
    "\n",
    "- Since our DFS search function returns height, let's init a global variable to keep track of the diameter, which we then return\n",
    "\n",
    "- Remember to distinguish between a leaf node, and a Null node\n",
    "    - Null nodes have a height of -1\n",
    "        - This is because a leaf node can join to a parent to give height of 1 (in the 1 + ... statement)\n",
    "        - But a null node cannot, so using the same 1 + ... should give us 0 height\n",
    "        - Hence, for convenience, we assign a null node a height of -1\n",
    "\n",
    "    - As a consequence of the definition above, leaf nodes have a height of 0\n",
    "        - This comes out of the DFS naturally, because if you have a leaf, `dfs(left) = dfs(right) = -1` and `height = 1 + max(left, right) = 0`"
   ]
  },
  {
   "cell_type": "code",
   "execution_count": 28,
   "metadata": {},
   "outputs": [],
   "source": [
    "from typing import Optional\n",
    "\n",
    "# Definition for a binary tree node.\n",
    "class TreeNode:\n",
    "    def __init__(self, val=0, left=None, right=None):\n",
    "        self.val = val\n",
    "        self.left = left\n",
    "        self.right = right\n",
    "\n",
    "class Solution:\n",
    "    def diameterOfBinaryTree(self, root: Optional[TreeNode]) -> int:\n",
    "        result = [0]\n",
    "    \n",
    "        def dfs(root: Optional[TreeNode]) -> int:\n",
    "            if not root:\n",
    "                return -1\n",
    "                \n",
    "            print('='*50)\n",
    "            print(f\"{root.val=}\")\n",
    "            print(f\"{root.left.val if root.left else 0=}\")\n",
    "            print(f\"{root.right.val if root.right else 0=}\")\n",
    "            \n",
    "            left_height = dfs(root.left)\n",
    "            right_height = dfs(root.right)\n",
    "            print(f\"{left_height=}, {right_height=}\")\n",
    "\n",
    "            ## Based on the computed left and right heights, the overall height with the new node must be 1 + the maximum of left,right. This is true by definition; adding a parent node above an existing tree must increase height be 1\n",
    "            root_height = 1 + max(left_height, right_height)\n",
    "\n",
    "            ## You want `root_diameter` to hold the biggest possible diameter. It is always possible that the longest path does not go through the node. How? Simple! Suppose a heavily unbalanced tree\n",
    "            root_diameter = max(result[0], 2 + left_height + right_height)\n",
    "            print(f\"{root_height=}, {root_diameter=}\")\n",
    "\n",
    "            result[0] = root_diameter\n",
    "            print(f\"{result=}\")\n",
    "            return root_height\n",
    "        \n",
    "        print(f\"{result=}\")\n",
    "        dfs(root)\n",
    "        print(f\"{result=}\")\n",
    "        return result[0]\n"
   ]
  },
  {
   "cell_type": "code",
   "execution_count": 29,
   "metadata": {},
   "outputs": [
    {
     "name": "stdout",
     "output_type": "stream",
     "text": [
      "result=[0]\n",
      "==================================================\n",
      "root.val=1\n",
      "root.left.val if root.left else 0=2\n",
      "root.right.val if root.right else 0=0\n",
      "==================================================\n",
      "root.val=2\n",
      "root.left.val if root.left else 0=0\n",
      "root.right.val if root.right else 0=0\n",
      "left_height=-1, right_height=-1\n",
      "root_height=0, root_diameter=0\n",
      "result=[0]\n",
      "left_height=0, right_height=-1\n",
      "root_height=1, root_diameter=1\n",
      "result=[1]\n",
      "result=[1]\n"
     ]
    },
    {
     "data": {
      "text/plain": [
       "1"
      ]
     },
     "execution_count": 29,
     "metadata": {},
     "output_type": "execute_result"
    }
   ],
   "source": [
    "one = TreeNode(1)\n",
    "two = TreeNode(2)\n",
    "one.left = two\n",
    "\n",
    "soln = Solution()\n",
    "soln.diameterOfBinaryTree(one)"
   ]
  },
  {
   "cell_type": "code",
   "execution_count": 30,
   "metadata": {},
   "outputs": [
    {
     "name": "stdout",
     "output_type": "stream",
     "text": [
      "result=[0]\n",
      "==================================================\n",
      "root.val=1\n",
      "root.left.val if root.left else 0=2\n",
      "root.right.val if root.right else 0=3\n",
      "==================================================\n",
      "root.val=2\n",
      "root.left.val if root.left else 0=4\n",
      "root.right.val if root.right else 0=5\n",
      "==================================================\n",
      "root.val=4\n",
      "root.left.val if root.left else 0=0\n",
      "root.right.val if root.right else 0=0\n",
      "left_height=-1, right_height=-1\n",
      "root_height=0, root_diameter=0\n",
      "result=[0]\n",
      "==================================================\n",
      "root.val=5\n",
      "root.left.val if root.left else 0=0\n",
      "root.right.val if root.right else 0=0\n",
      "left_height=-1, right_height=-1\n",
      "root_height=0, root_diameter=0\n",
      "result=[0]\n",
      "left_height=0, right_height=0\n",
      "root_height=1, root_diameter=2\n",
      "result=[2]\n",
      "==================================================\n",
      "root.val=3\n",
      "root.left.val if root.left else 0=0\n",
      "root.right.val if root.right else 0=0\n",
      "left_height=-1, right_height=-1\n",
      "root_height=0, root_diameter=2\n",
      "result=[2]\n",
      "left_height=1, right_height=0\n",
      "root_height=2, root_diameter=3\n",
      "result=[3]\n",
      "result=[3]\n"
     ]
    },
    {
     "data": {
      "text/plain": [
       "3"
      ]
     },
     "execution_count": 30,
     "metadata": {},
     "output_type": "execute_result"
    }
   ],
   "source": [
    "one = TreeNode(1)\n",
    "two = TreeNode(2)\n",
    "three = TreeNode(3)\n",
    "four = TreeNode(4)\n",
    "five = TreeNode(5)\n",
    "\n",
    "one.left = two\n",
    "one.right = three\n",
    "two.left = four\n",
    "two.right = five\n",
    "\n",
    "soln = Solution()\n",
    "soln.diameterOfBinaryTree(one)"
   ]
  },
  {
   "cell_type": "code",
   "execution_count": null,
   "metadata": {},
   "outputs": [],
   "source": []
  },
  {
   "cell_type": "code",
   "execution_count": null,
   "metadata": {},
   "outputs": [],
   "source": []
  }
 ],
 "metadata": {
  "kernelspec": {
   "display_name": "dsa_prep",
   "language": "python",
   "name": "python3"
  },
  "language_info": {
   "codemirror_mode": {
    "name": "ipython",
    "version": 3
   },
   "file_extension": ".py",
   "mimetype": "text/x-python",
   "name": "python",
   "nbconvert_exporter": "python",
   "pygments_lexer": "ipython3",
   "version": "3.10.13"
  }
 },
 "nbformat": 4,
 "nbformat_minor": 2
}
