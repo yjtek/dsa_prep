{
 "cells": [
  {
   "cell_type": "markdown",
   "metadata": {},
   "source": [
    "## Main"
   ]
  },
  {
   "cell_type": "markdown",
   "metadata": {},
   "source": [
    "- Iterate through the input string with 2 pointers\n",
    "- while left matches right, continue iterating\n",
    "- At each iteration, if left/right not `is_alnum`, decrement/increment the pointer\n",
    "- if s[left] != s[right], return False\n",
    "- Finally, return true"
   ]
  },
  {
   "cell_type": "code",
   "execution_count": 28,
   "metadata": {},
   "outputs": [],
   "source": [
    "class Solution:\n",
    "    def is_alnum(self, char: str) -> bool:\n",
    "        return (\n",
    "            (ord('A') <= ord(char) <= ord('Z')) or\n",
    "            (ord('a') <= ord(char) <= ord('z')) or\n",
    "            (ord('0') <= ord(char) <= ord('9'))\n",
    "        )\n",
    "    \n",
    "    def isPalindrome(self, s: str) -> bool:\n",
    "        left, right = 0, len(s)-1\n",
    "        # print(f'{left=}, {right=}, {s[left]=}, {s[right]=}')\n",
    "        \n",
    "        while left < right:\n",
    "            # print('='*50)\n",
    "            # print(f'{left=}, {right=}, {s[left]=}, {s[right]=}')\n",
    "            while (left < right) and (not self.is_alnum(s[left])):\n",
    "                left += 1\n",
    "            while (left < right) and (not self.is_alnum(s[right])):\n",
    "                right -= 1\n",
    "            \n",
    "            # print(f'{left=}, {right=}, {s[left]=}, {s[right]=}')\n",
    "            if s[left].lower() != s[right].lower():\n",
    "                return False\n",
    "\n",
    "            left += 1\n",
    "            right -=1\n",
    "\n",
    "        return True"
   ]
  },
  {
   "cell_type": "code",
   "execution_count": 29,
   "metadata": {},
   "outputs": [
    {
     "data": {
      "text/plain": [
       "True"
      ]
     },
     "execution_count": 29,
     "metadata": {},
     "output_type": "execute_result"
    }
   ],
   "source": [
    "soln = Solution()\n",
    "soln.isPalindrome(\"A man, a plan, a canal: Panama\")\n",
    "# soln.isPalindrome(\"race a car\")\n",
    "# soln.isPalindrome(\" \")\n",
    "# soln.is_alnum(' ')"
   ]
  }
 ],
 "metadata": {
  "kernelspec": {
   "display_name": "dsa_prep",
   "language": "python",
   "name": "python3"
  },
  "language_info": {
   "codemirror_mode": {
    "name": "ipython",
    "version": 3
   },
   "file_extension": ".py",
   "mimetype": "text/x-python",
   "name": "python",
   "nbconvert_exporter": "python",
   "pygments_lexer": "ipython3",
   "version": "3.12.5"
  }
 },
 "nbformat": 4,
 "nbformat_minor": 2
}
