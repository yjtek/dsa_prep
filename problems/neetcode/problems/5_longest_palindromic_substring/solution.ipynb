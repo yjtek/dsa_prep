{
 "cells": [
  {
   "cell_type": "markdown",
   "metadata": {},
   "source": [
    "## Main"
   ]
  },
  {
   "cell_type": "markdown",
   "metadata": {},
   "source": [
    "- Attempt 1\n",
    "    - Two pointers, starting at ends\n",
    "    - If match, continue\n",
    "    - If no match, recursive call to two pointers with l+1,r and l, r-1\n",
    "\n",
    "    - This will test every substring for palindrome, so worst case is $O(N^2)$ time with $O(N)$ space from the recursion\n",
    "\n",
    "- Attempt 2:\n",
    "    - Instead of recursion (which is depth first), you would benefit from breadth first search\n",
    "    - Because since you are going outside-in, there is no point in finding a shorter match, if you still have the possibility of finding a longer match\n",
    "    - You also need to add a check to see if a value is already in the queue, to avoid adding duplicate values, which takes another $O(N)$ times\n",
    "    - So this will work, but will give you TLE\n",
    "\n",
    "- Attempt 3:\n",
    "    - Let's try to understand why the previous method gives TLE\n",
    "    - Imagine I have a string of length 5\n",
    "        - If I check for palindromes from the ends, there are 21 possible start/end pairs to check \n",
    "            - (0,5)\n",
    "            - (0,4), (1,5)\n",
    "            - (0,3), (1,4), (2,5)\n",
    "            - (0,2), (1,3), (2,4), (3,5)\n",
    "            - (0,1), (1,2), (2,3), (3,4), (4,5)\n",
    "            - (0,0), (1,1), (2,2), (3,3), (4,4), (5,5)\n",
    "        - But if I check for palindrome from possible centers, there are only 5 possible centers!!!\n",
    "        - So obviously, expanding from center outwards is a far more efficient way of checking for palindromes\n",
    "    - If I loop over all possible centers in $O(N)$ and I expand for each center in another $O(N)$, this gives me $O(N^2)$"
   ]
  },
  {
   "cell_type": "code",
   "execution_count": null,
   "metadata": {},
   "outputs": [
    {
     "name": "stdout",
     "output_type": "stream",
     "text": [
      "==================================================\n",
      "longest_palindrome=''\n",
      "l=0, r=0\n",
      "l=0, r=0\n",
      "s[l:(r+1)]='a'\n"
     ]
    },
    {
     "data": {
      "text/plain": [
       "'a'"
      ]
     },
     "metadata": {},
     "output_type": "display_data"
    }
   ],
   "source": [
    "from collections import deque\n",
    "\n",
    "class Solution:\n",
    "    def longestPalindrome_bruteforce(self, s: str) -> str:\n",
    "        queue = deque([(0, len(s)-1)])\n",
    "        while queue:\n",
    "            # print('='*50)\n",
    "            # print(queue)\n",
    "            l_curr, r_curr = queue.pop()\n",
    "            l, r = l_curr, r_curr\n",
    "\n",
    "            if (l == r) and not queue:\n",
    "                return s[l:(r+1)]\n",
    "\n",
    "            while (s[l_curr] == s[r_curr]) and (l_curr <= r_curr):\n",
    "                l_curr += 1\n",
    "                r_curr -= 1\n",
    "                if (l_curr >= r_curr):\n",
    "                    return s[l:(r+1)]\n",
    "\n",
    "            if ((l+1) <= r) and ((l+1, r) not in queue):\n",
    "                queue.appendleft((l+1, r))\n",
    "            \n",
    "            if (l <= (r-1)) and ((l, r-1) not in queue):\n",
    "                queue.appendleft((l, r-1))\n",
    "\n",
    "    def longestPalindrome(self, s:str) -> str:\n",
    "        longest_palindrome = ''\n",
    "\n",
    "        for i,char in enumerate(s):\n",
    "            # print('='*50)\n",
    "            # print(f\"{longest_palindrome=}\")\n",
    "            l, r = i,i\n",
    "            if s[l] == s[r]:\n",
    "                while True:\n",
    "                    # print(f\"{l=}, {r=}\")\n",
    "                    if s[l] != s[r]:\n",
    "                        l += 1\n",
    "                        r -= 1\n",
    "                        break\n",
    "                    \n",
    "                    if l == 0:\n",
    "                        break\n",
    "\n",
    "                    if r == (len(s)-1):\n",
    "                        break\n",
    "\n",
    "                    l -= 1\n",
    "                    r += 1\n",
    "\n",
    "                # print(f\"{l=}, {r=}\")\n",
    "                # print(f\"{s[l:(r+1)]=}\")      \n",
    "\n",
    "                longest_palindrome = s[l:(r+1)] if len(s[l:(r+1)]) > len(longest_palindrome) else longest_palindrome\n",
    "\n",
    "            if i < (len(s)-1):\n",
    "                l, r = i,i+1\n",
    "                if s[l] == s[r]:\n",
    "                    while True:\n",
    "                        # print(f\"{l=}, {r=}\")\n",
    "                        if s[l] != s[r]:\n",
    "                            l += 1\n",
    "                            r -= 1\n",
    "                            break\n",
    "                        \n",
    "                        if l == 0:\n",
    "                            break\n",
    "\n",
    "                        if r == (len(s)-1):\n",
    "                            break\n",
    "\n",
    "                        l -= 1\n",
    "                        r += 1\n",
    "\n",
    "                    # print(f\"{l=}, {r=}\")\n",
    "                    # print(f\"{s[l:(r+1)]=}\")      \n",
    "\n",
    "                    longest_palindrome = s[l:(r+1)] if len(s[l:(r+1)]) > len(longest_palindrome) else longest_palindrome\n",
    "                \n",
    "        return longest_palindrome\n",
    "        \n",
    "soln = Solution()\n",
    "# soln.longestPalindrome_bruteforce('a')\n",
    "# soln.longestPalindrome_bruteforce('ac')\n",
    "# soln.longestPalindrome_bruteforce('cbbd')\n",
    "\n",
    "soln.longestPalindrome('a')\n",
    "# soln.longestPalindrome('ac')\n",
    "# soln.longestPalindrome('cbbd')"
   ]
  }
 ],
 "metadata": {
  "kernelspec": {
   "display_name": "dsa_prep",
   "language": "python",
   "name": "python3"
  },
  "language_info": {
   "codemirror_mode": {
    "name": "ipython",
    "version": 3
   },
   "file_extension": ".py",
   "mimetype": "text/x-python",
   "name": "python",
   "nbconvert_exporter": "python",
   "pygments_lexer": "ipython3",
   "version": "3.10.13"
  }
 },
 "nbformat": 4,
 "nbformat_minor": 2
}
