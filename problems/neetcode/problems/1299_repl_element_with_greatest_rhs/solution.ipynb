{
 "cells": [
  {
   "cell_type": "markdown",
   "metadata": {},
   "source": [
    "## Main"
   ]
  },
  {
   "cell_type": "markdown",
   "metadata": {},
   "source": [
    "- Brute force\n",
    "    - Iterate through the array in $O(N)$\n",
    "    - For each index, search the RHS array after the index in $O(N)$\n",
    "    - Gives time complexity of $O(N^2)$\n",
    "\n",
    "- Whenever we see this sort of \"ordered array\" qns, try starting from back\n",
    "    - Maintain another array using $O(N)$ memory that records the largest element \n",
    "        - For each element [i], we record the largest value seen to the right of the position i\n",
    "        - If we start filling it from the back, it is akin to recording the maximum value\n",
    "\n",
    "    - This will simply give you the answer you want\n",
    "\n",
    "    - We only visit each index once, so this runs in $O(N)$ time and $O(N)$ memory"
   ]
  },
  {
   "cell_type": "code",
   "execution_count": null,
   "metadata": {},
   "outputs": [],
   "source": [
    "class Solution:\n",
    "    def replaceElements(self, arr: list[int]) -> list[int]:\n",
    "        # ## Last element will always be -1, because there's nothing to the right of it\n",
    "        # result = [-1] * len(arr)\n",
    "        # for i in range(len(arr)-2, -1, -1):\n",
    "        #     result[i] = max(result[i+1], arr[i+1])\n",
    "        # return result\n",
    "\n",
    "        ## Better solution: Don't use an extra array to store answer\n",
    "\n",
    "        ## Store \n",
    "        max_so_far = -1\n",
    "        for i in range(len(arr)-1, -1, -1):\n",
    "            new_max = max(max_so_far, arr[i])\n",
    "            arr[i] = max_so_far\n",
    "            max_so_far = new_max\n",
    "        return arr\n",
    "    "
   ]
  },
  {
   "cell_type": "code",
   "execution_count": null,
   "metadata": {},
   "outputs": [
    {
     "data": {
      "text/plain": [
       "[18, 6, 6, 6, 1, -1]"
      ]
     },
     "metadata": {},
     "output_type": "display_data"
    }
   ],
   "source": [
    "soln = Solution()\n",
    "soln.replaceElements([17,18,5,4,6,1])"
   ]
  }
 ],
 "metadata": {
  "kernelspec": {
   "display_name": "dsa_prep",
   "language": "python",
   "name": "python3"
  },
  "language_info": {
   "codemirror_mode": {
    "name": "ipython",
    "version": 3
   },
   "file_extension": ".py",
   "mimetype": "text/x-python",
   "name": "python",
   "nbconvert_exporter": "python",
   "pygments_lexer": "ipython3",
   "version": "3.10.13"
  }
 },
 "nbformat": 4,
 "nbformat_minor": 2
}
