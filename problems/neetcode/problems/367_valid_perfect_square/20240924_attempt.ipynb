{
 "cells": [
  {
   "cell_type": "markdown",
   "metadata": {},
   "source": [
    "## Main"
   ]
  },
  {
   "cell_type": "markdown",
   "metadata": {},
   "source": [
    "- Brute force $O(\\sqrt{N})$\n",
    "    - Let i = 2\n",
    "    - while i ** 2 < num: \n",
    "        - if i ** 2 == num: return True\n",
    "        - i+=1\n",
    "    - return False\n",
    "\n",
    "- Binary search $O(\\log N)$\n",
    "    - Let l = 2 and r = n\n",
    "    - while l <= r: \n",
    "        - m = (l+r)//2\n",
    "        - if m**2 == num: return True\n",
    "        - elif m**2 > num: r = m-1\n",
    "        - elif m**2 < num: l = m+1\n",
    "    - return False\n",
    "\n"
   ]
  },
  {
   "cell_type": "code",
   "execution_count": 5,
   "metadata": {},
   "outputs": [
    {
     "data": {
      "text/plain": [
       "True"
      ]
     },
     "execution_count": 5,
     "metadata": {},
     "output_type": "execute_result"
    }
   ],
   "source": [
    "class Solution:\n",
    "    def isPerfectSquare_bruteforce(self, num: int) -> bool:\n",
    "        i=1\n",
    "        while i**2 <= num:\n",
    "            if i**2 == num:\n",
    "                return True\n",
    "            i += 1\n",
    "        return False\n",
    "\n",
    "    def isPerfectSquare_binarysearch(self, num: int) -> bool:\n",
    "        l, r = 1, num\n",
    "        while l <= r:\n",
    "            m = (l+r)//2\n",
    "            if m**2 == num:\n",
    "                return True\n",
    "            elif m**2 < num:\n",
    "                l = m+1\n",
    "            elif m**2 > num:\n",
    "                r = m-1\n",
    "        return False\n",
    "\n",
    "soln = Solution()\n",
    "soln.isPerfectSquare_bruteforce(1)\n",
    "soln.isPerfectSquare_binarysearch(9)"
   ]
  },
  {
   "cell_type": "markdown",
   "metadata": {},
   "source": [
    "## Review"
   ]
  }
 ],
 "metadata": {
  "kernelspec": {
   "display_name": "dsa_prep",
   "language": "python",
   "name": "python3"
  },
  "language_info": {
   "codemirror_mode": {
    "name": "ipython",
    "version": 3
   },
   "file_extension": ".py",
   "mimetype": "text/x-python",
   "name": "python",
   "nbconvert_exporter": "python",
   "pygments_lexer": "ipython3",
   "version": "3.12.5"
  }
 },
 "nbformat": 4,
 "nbformat_minor": 2
}
