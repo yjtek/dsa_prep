{
 "cells": [
  {
   "cell_type": "markdown",
   "metadata": {},
   "source": [
    "## Main"
   ]
  },
  {
   "cell_type": "markdown",
   "metadata": {},
   "source": [
    "- In Python, a list is already a LIFO queue \n",
    "    - `append` adds to right, `pop` removes from right\n",
    "\n",
    "- The question asks for implementatio with 2 queues, which I take to mean 2 FIFO queues\n",
    "\n",
    "- So we will try implementing the LIFO feature with 2 `deque()`s in Python, using ONLY FIFO OPERATIONS in each `deque`. That is, each deque only uses\n",
    "    - appendleft\n",
    "    - pop\n",
    "\n",
    "- Broad idea:\n",
    "    - Maintain 2 deques\n",
    "    - Push\n",
    "        - Append to deque 1\n",
    "        - This happpens in $O(1)$\n",
    "        \n",
    "    - Pop\n",
    "        - Pop from deque 1 and append to deque 2 until only 1 item left\n",
    "        - store this as the return value\n",
    "        - deque 2 becomes deque 1, and init an empty deque as deque 2\n",
    "        - This happens in $O(N)$\n",
    "\n",
    "    - Top\n",
    "        - Return the last element of deque 1\n",
    "        - $O(1)$\n",
    "\n",
    "    - Empty\n",
    "        - Check if deque1 is empty\n",
    "        - $O(1)$"
   ]
  },
  {
   "cell_type": "code",
   "execution_count": null,
   "metadata": {},
   "outputs": [
    {
     "data": {
      "text/plain": [
       "True"
      ]
     },
     "metadata": {},
     "output_type": "display_data"
    }
   ],
   "source": [
    "from collections import deque\n",
    "from typing import Optional\n",
    "\n",
    "class MyStack:\n",
    "\n",
    "    def __init__(self):\n",
    "        \n",
    "        ## These are both FIFO queues. \n",
    "        ## So only append and popleft can be used\n",
    "        self.d1 = deque()\n",
    "        self.d2 = deque()\n",
    "        \n",
    "    def push(self, x: int) -> None:\n",
    "        self.d1.append(x)\n",
    "        \n",
    "    def pop(self) -> Optional[int]:\n",
    "        if not self.d1:\n",
    "            return None\n",
    "        while len(self.d1) > 1:\n",
    "            self.d2.append(self.d1.popleft())\n",
    "        retval = self.d1.popleft()\n",
    "        self.d1 = self.d2\n",
    "        self.d2 = deque()\n",
    "        return retval\n",
    "         \n",
    "    def top(self) -> int:\n",
    "        if self.d1:\n",
    "            return self.d1[-1]\n",
    "        \n",
    "    def empty(self) -> bool:\n",
    "        return not self.d1\n",
    "            \n",
    "# Your MyStack object will be instantiated and called as such:\n",
    "obj = MyStack()\n",
    "obj.push(1)\n",
    "obj.push(2)\n",
    "obj.top()\n",
    "obj.pop()\n",
    "obj.pop()\n",
    "obj.empty()"
   ]
  },
  {
   "cell_type": "markdown",
   "metadata": {},
   "source": [
    "## Followup"
   ]
  },
  {
   "cell_type": "markdown",
   "metadata": {},
   "source": [
    "- In fact, with something like this, you don't even need 2 queues\n",
    "\n",
    "- Instead of popping from 1 queue to the other just pop from the queue and append it to itself until you reach the length of the original queue!"
   ]
  },
  {
   "cell_type": "code",
   "execution_count": null,
   "metadata": {},
   "outputs": [
    {
     "data": {
      "text/plain": [
       "True"
      ]
     },
     "metadata": {},
     "output_type": "display_data"
    }
   ],
   "source": [
    "from collections import deque\n",
    "from typing import Optional\n",
    "\n",
    "class MyStack:\n",
    "\n",
    "    def __init__(self):\n",
    "        ## FIFO queue\n",
    "        ## So only append and popleft can be used\n",
    "        self.d1 = deque()\n",
    "        \n",
    "    def push(self, x: int) -> None:\n",
    "        self.d1.append(x)\n",
    "        \n",
    "    def pop(self) -> Optional[int]:\n",
    "        pop_until = len(self.d1)-1\n",
    "        for _ in range(pop_until):\n",
    "            self.d1.append(self.d1.popleft())\n",
    "        return self.d1.popleft()\n",
    "         \n",
    "    def top(self) -> int:\n",
    "        if self.d1:\n",
    "            return self.d1[-1]\n",
    "        \n",
    "    def empty(self) -> bool:\n",
    "        return not self.d1\n",
    "    \n",
    "obj = MyStack()\n",
    "obj.push(1)\n",
    "obj.push(2)\n",
    "obj.top()\n",
    "obj.pop()\n",
    "obj.pop()\n",
    "obj.empty()"
   ]
  }
 ],
 "metadata": {
  "kernelspec": {
   "display_name": "dsa_prep",
   "language": "python",
   "name": "python3"
  },
  "language_info": {
   "codemirror_mode": {
    "name": "ipython",
    "version": 3
   },
   "file_extension": ".py",
   "mimetype": "text/x-python",
   "name": "python",
   "nbconvert_exporter": "python",
   "pygments_lexer": "ipython3",
   "version": "3.10.13"
  }
 },
 "nbformat": 4,
 "nbformat_minor": 2
}
