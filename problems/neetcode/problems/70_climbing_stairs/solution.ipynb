{
 "cells": [
  {
   "cell_type": "markdown",
   "metadata": {},
   "source": [
    "## Main"
   ]
  },
  {
   "cell_type": "markdown",
   "metadata": {},
   "source": [
    "- Best way to do this is to start at the end\n",
    "\n",
    "- Say you're on the $n$th step\n",
    "    - there is 1 way to reach the top (by taking 1 step)\n",
    "\n",
    "- At the $n-1$-th step, you can choose to take 1 * number of ways on the $n$-th step, or you can take 2 steps\n",
    "    - hence, there are 2 ways to reach the top (by taking 1 step then 1 step, or 2 steps)\n",
    "\n",
    "- At the $n-2$-th step, you can choose to take 1 step, which gives you 1 * number of ways on the $n-1$-th step, or you can take 2 steps, which gives you 1 * number of ways on the $n$-th step\n",
    "    - hence, there are 2 + 1 way to reach the top\n",
    "\n",
    "- Iterating down from n to step 1 will give you the number of ways to reach the top\n",
    "\n",
    "- This will run in $O(N)$ time with $O(1)$ memory"
   ]
  },
  {
   "cell_type": "code",
   "execution_count": null,
   "metadata": {},
   "outputs": [
    {
     "name": "stdout",
     "output_type": "stream",
     "text": [
      "--------------------------------------------------\n",
      "n=4, next_step=2, next_next_step=1\n",
      "n=3, next_step=3, next_next_step=2\n",
      "--------------------------------------------------\n",
      "n=3, next_step=3, next_next_step=2\n",
      "n=2, next_step=5, next_next_step=3\n"
     ]
    },
    {
     "data": {
      "text/plain": [
       "5"
      ]
     },
     "metadata": {},
     "output_type": "display_data"
    }
   ],
   "source": [
    "class Solution:\n",
    "    def climbStairs(self, n: int) -> int:\n",
    "        if n == 1:\n",
    "            return 1\n",
    "        if n == 2:\n",
    "            return 2\n",
    "        \n",
    "        next_step = 2\n",
    "        next_next_step = 1\n",
    "        curr_step = 0\n",
    "        while n > 2:\n",
    "            curr_step = next_step + next_next_step\n",
    "            next_next_step = next_step\n",
    "            next_step = curr_step\n",
    "            n-=1\n",
    "        \n",
    "        return curr_step\n",
    "            \n",
    "soln = Solution()\n",
    "soln.climbStairs(4)"
   ]
  }
 ],
 "metadata": {
  "kernelspec": {
   "display_name": "dsa_prep",
   "language": "python",
   "name": "python3"
  },
  "language_info": {
   "codemirror_mode": {
    "name": "ipython",
    "version": 3
   },
   "file_extension": ".py",
   "mimetype": "text/x-python",
   "name": "python",
   "nbconvert_exporter": "python",
   "pygments_lexer": "ipython3",
   "version": "3.10.13"
  }
 },
 "nbformat": 4,
 "nbformat_minor": 2
}
