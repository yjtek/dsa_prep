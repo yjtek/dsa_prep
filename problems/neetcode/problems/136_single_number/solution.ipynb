{
 "cells": [
  {
   "cell_type": "markdown",
   "metadata": {},
   "source": [
    "## Main"
   ]
  },
  {
   "cell_type": "markdown",
   "metadata": {},
   "source": [
    "- Requirement: $O(N)$ time and $O(1)$ space\n",
    "\n",
    "- We are told that every element appears twice except for one element that appears once\n",
    "\n",
    "- There is a nice bit manipulation trick;\n",
    "    - When you take an **XOR** of a number with itself, it will cancel out to 0. \n",
    "        - all 1s match with 1s, which gives 0\n",
    "        - All 0s match with 0s, which gives 0\n",
    "        - $10110 \\oplus 10110 = 00000$\n",
    "    - When you take any number and **XOR** with 0, it returns the number\n",
    "        - All 1s match with 0s, which gives 1\n",
    "        - All 0s match with 0s, which gives 0\n",
    "        - $10110 \\oplus 00000 = 10110$\n",
    "    - So if we sequentially $\\oplus$ every number in the list, all the repeated values cancel to 0 and we will be left with the singleton value!\n",
    "\n",
    "- $O(1)$ space\n",
    "    - Since we are doing bit manipulation, no extra space is needed \n",
    "\n",
    "- $O(N)$ time\n",
    "    - We only pass through the array once"
   ]
  },
  {
   "cell_type": "code",
   "execution_count": null,
   "metadata": {},
   "outputs": [
    {
     "data": {
      "text/plain": [
       "4"
      ]
     },
     "metadata": {},
     "output_type": "display_data"
    }
   ],
   "source": [
    "class Solution:\n",
    "    def singleNumber(self, nums: list[int]) -> int:\n",
    "        val = 0\n",
    "        for num in nums:\n",
    "            val ^= num\n",
    "        \n",
    "        return val\n",
    "\n",
    "soln = Solution()\n",
    "soln.singleNumber([2,2,1])\n",
    "soln.singleNumber([4,1,2,1,2])\n"
   ]
  }
 ],
 "metadata": {
  "kernelspec": {
   "display_name": "dsa_prep",
   "language": "python",
   "name": "python3"
  },
  "language_info": {
   "codemirror_mode": {
    "name": "ipython",
    "version": 3
   },
   "file_extension": ".py",
   "mimetype": "text/x-python",
   "name": "python",
   "nbconvert_exporter": "python",
   "pygments_lexer": "ipython3",
   "version": "3.10.13"
  }
 },
 "nbformat": 4,
 "nbformat_minor": 2
}
