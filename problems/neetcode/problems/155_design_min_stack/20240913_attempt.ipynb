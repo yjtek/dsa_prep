{
 "cells": [
  {
   "cell_type": "markdown",
   "metadata": {},
   "source": [
    "## [Fail] Main"
   ]
  },
  {
   "cell_type": "markdown",
   "metadata": {},
   "source": [
    "- This is quite basic, idea is just to create the heap data structure, in this case a min heap\n",
    "\n",
    "- In fact, let's go 1 step further and figure out how to create a heap from scratch, not just the functions specified"
   ]
  },
  {
   "cell_type": "code",
   "execution_count": null,
   "metadata": {},
   "outputs": [],
   "source": [
    "class MinStack:\n",
    "\n",
    "    def __init__(self):\n",
    "        self.vals = []\n",
    "\n",
    "    def _heapify(self, vals, val):\n",
    "        \n",
    "\n",
    "    def push(self, val: int) -> None:\n",
    "        self._heapify(self.vals, val)\n",
    "        \n",
    "    def pop(self) -> None:\n",
    "        ...\n",
    "        \n",
    "\n",
    "    def top(self) -> int:\n",
    "        ...\n",
    "        \n",
    "\n",
    "    def getMin(self) -> int:\n",
    "        ...\n",
    "        \n"
   ]
  },
  {
   "cell_type": "markdown",
   "metadata": {},
   "source": [
    "## Review"
   ]
  },
  {
   "cell_type": "markdown",
   "metadata": {},
   "source": [
    "- You went completely off the rails. Somehow, you thought you had to implement a min heap\n",
    "\n",
    "- But that's definitely not ideal. Every time you pop from a heap, you need to heapify, which takes $O(\\log N)$ time\n",
    "    - Same for adding to the heap\n",
    "\n",
    "- But the question specifies that you need O(1) time complexity for all operations!!\n"
   ]
  },
  {
   "cell_type": "markdown",
   "metadata": {},
   "source": []
  }
 ],
 "metadata": {
  "kernelspec": {
   "display_name": "dsa_prep",
   "language": "python",
   "name": "python3"
  },
  "language_info": {
   "codemirror_mode": {
    "name": "ipython",
    "version": 3
   },
   "file_extension": ".py",
   "mimetype": "text/x-python",
   "name": "python",
   "nbconvert_exporter": "python",
   "pygments_lexer": "ipython3",
   "version": "3.12.5"
  }
 },
 "nbformat": 4,
 "nbformat_minor": 2
}
