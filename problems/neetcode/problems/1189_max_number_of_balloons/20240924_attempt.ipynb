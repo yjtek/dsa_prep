{
 "cells": [
  {
   "cell_type": "markdown",
   "metadata": {},
   "source": [
    "## Main"
   ]
  },
  {
   "cell_type": "markdown",
   "metadata": {},
   "source": [
    "- Brute force\n",
    "    - Loop over the text in $O(N)$ and store characters in hashmap\n",
    "        - Each char is a key and the count of the char is a value\n",
    "    \n",
    "    - Init `count_balloon = 0`\n",
    "    - Loop over the text \"balloon\"\n",
    "        - If char not in hashmap, break and return `count_balloon`\n",
    "        - If char is in the hashmap, subtract 1 from value\n",
    "        - If value is 0 when you try to subtract, break and return `count_balloon`\n",
    "    \n",
    "    - This takes $O(N)$ time and $O(N)$ space"
   ]
  },
  {
   "cell_type": "code",
   "execution_count": 17,
   "metadata": {},
   "outputs": [
    {
     "data": {
      "text/plain": [
       "0"
      ]
     },
     "execution_count": 17,
     "metadata": {},
     "output_type": "execute_result"
    }
   ],
   "source": [
    "class Solution:\n",
    "    def maxNumberOfBalloons(self, text: str) -> int:\n",
    "        hm = {}\n",
    "        for char in text:\n",
    "            if char not in hm:\n",
    "                hm[char] = 0\n",
    "            hm[char] += 1\n",
    "        \n",
    "        # print(hm)\n",
    "        count_balloons = 0\n",
    "        i = 0\n",
    "        match_text = 'balloon'\n",
    "        while True:\n",
    "            char = match_text[i]\n",
    "            # print(char)\n",
    "            if (char not in hm) or (hm[char] == 0):\n",
    "                return count_balloons\n",
    "            else:\n",
    "                hm[char] -= 1\n",
    "            \n",
    "            i = (i+1) % 7\n",
    "\n",
    "            if (i == 0) and (char == 'n'):\n",
    "                count_balloons += 1\n",
    "            # print(f\"{((i+1) % 7 == 0)=}, {count_balloons=},{char=}\")\n",
    "\n",
    "soln = Solution()\n",
    "soln.maxNumberOfBalloons('nlaebolko')\n",
    "soln.maxNumberOfBalloons('loonbalxballpoon')\n",
    "soln.maxNumberOfBalloons('leetcode')"
   ]
  },
  {
   "cell_type": "markdown",
   "metadata": {},
   "source": [
    "## Review"
   ]
  },
  {
   "cell_type": "markdown",
   "metadata": {},
   "source": [
    "- This is a very bad way of doing the check, because you need to loop over the `match_text` multiple times\n",
    "\n",
    "- Just divide lol instead of looping\n",
    "\n",
    "- It is still $O(N)$, just less wasted loops"
   ]
  }
 ],
 "metadata": {
  "kernelspec": {
   "display_name": "dsa_prep",
   "language": "python",
   "name": "python3"
  },
  "language_info": {
   "codemirror_mode": {
    "name": "ipython",
    "version": 3
   },
   "file_extension": ".py",
   "mimetype": "text/x-python",
   "name": "python",
   "nbconvert_exporter": "python",
   "pygments_lexer": "ipython3",
   "version": "3.12.5"
  }
 },
 "nbformat": 4,
 "nbformat_minor": 2
}
