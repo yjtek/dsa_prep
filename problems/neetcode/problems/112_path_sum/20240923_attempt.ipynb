{
 "cells": [
  {
   "cell_type": "markdown",
   "metadata": {},
   "source": [
    "## Main"
   ]
  },
  {
   "cell_type": "markdown",
   "metadata": {},
   "source": [
    "- As with binary tree problems, first thought is to do some recursive sum\n",
    "\n",
    "- return recursiveSum(left) == target or recursiveSum(right) == target\n",
    "\n",
    "- This should run in $O(N)$ time, because there are as many root-to-leaf paths as there are leafs, and there are maximum $N/2$ leafs\n",
    "\n",
    "- Due to stack memory use from recursion, we incur $O(\\log N)$ memory cost, because we store at most the height of the tree \n",
    "    - Since this is depth first search, we only store values in stack memory when traversing down a specific path. \n",
    "    - Once eliminated, memory is freed"
   ]
  },
  {
   "cell_type": "code",
   "execution_count": 14,
   "metadata": {},
   "outputs": [],
   "source": [
    "from typing import Optional\n",
    "\n",
    "# Definition for a binary tree node.\n",
    "class TreeNode:\n",
    "    def __init__(self, val=0, left=None, right=None):\n",
    "        self.val = val\n",
    "        self.left = left\n",
    "        self.right = right\n",
    "\n",
    "class Solution:\n",
    "    def hasPathSum(self, root: Optional[TreeNode], targetSum: int) -> bool:\n",
    "        if not root:\n",
    "            return False\n",
    "        \n",
    "        if not root.left and not root.right:\n",
    "            return root.val == targetSum\n",
    "\n",
    "        leftmatch, rightmatch = False, False\n",
    "        if root.left:\n",
    "            leftmatch = self.hasPathSum(root.left, targetSum - root.val)\n",
    "        if root.right:\n",
    "            rightmatch = self.hasPathSum(root.right, targetSum - root.val)\n",
    "        return leftmatch or rightmatch"
   ]
  },
  {
   "cell_type": "code",
   "execution_count": 16,
   "metadata": {},
   "outputs": [
    {
     "name": "stdout",
     "output_type": "stream",
     "text": [
      "13\n"
     ]
    },
    {
     "data": {
      "text/plain": [
       "True"
      ]
     },
     "execution_count": 16,
     "metadata": {},
     "output_type": "execute_result"
    }
   ],
   "source": [
    "test = [5,4,8,11,None,13,4,7,2,None,None,None,1]\n",
    "print(len(test))\n",
    "\n",
    "for i,x in enumerate(test):\n",
    "    if not x:\n",
    "        globals()[f'temp{i}'] = None\n",
    "    else:\n",
    "        globals()[f'temp{i}'] = TreeNode(x)\n",
    "\n",
    "globals()['temp0'].left = globals()['temp1']\n",
    "globals()['temp0'].right = globals()['temp2']\n",
    "globals()['temp1'].left = globals()['temp3']\n",
    "globals()['temp1'].right = globals()['temp4']\n",
    "globals()['temp2'].left = globals()['temp5']\n",
    "globals()['temp2'].right = globals()['temp6']\n",
    "globals()['temp3'].left = globals()['temp7']\n",
    "globals()['temp3'].right = globals()['temp8']\n",
    "# globals()['temp4'].left = globals()['temp9']\n",
    "# globals()['temp4'].right = globals()['temp10']\n",
    "globals()['temp5'].left = globals()['temp11']\n",
    "globals()['temp5'].right = globals()['temp12']\n",
    "\n",
    "soln = Solution()\n",
    "soln.hasPathSum(temp0, 22)"
   ]
  },
  {
   "cell_type": "markdown",
   "metadata": {},
   "source": [
    "## Review"
   ]
  },
  {
   "cell_type": "markdown",
   "metadata": {},
   "source": [
    "- Got it first try, nicely done"
   ]
  }
 ],
 "metadata": {
  "kernelspec": {
   "display_name": "dsa_prep",
   "language": "python",
   "name": "python3"
  },
  "language_info": {
   "codemirror_mode": {
    "name": "ipython",
    "version": 3
   },
   "file_extension": ".py",
   "mimetype": "text/x-python",
   "name": "python",
   "nbconvert_exporter": "python",
   "pygments_lexer": "ipython3",
   "version": "3.12.5"
  }
 },
 "nbformat": 4,
 "nbformat_minor": 2
}
